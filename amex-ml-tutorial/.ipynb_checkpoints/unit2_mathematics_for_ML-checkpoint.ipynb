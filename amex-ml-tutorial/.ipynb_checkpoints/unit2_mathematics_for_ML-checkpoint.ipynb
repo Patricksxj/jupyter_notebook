{
 "cells": [
  {
   "cell_type": "markdown",
   "metadata": {
    "collapsed": true
   },
   "source": [
    "<strong style=\"font-size: 125%\">第二单元：机器学习的数学基础</strong>\n",
    "<br><br>\n",
    "\n",
    "线性代数，概率统计和最优化是和机器学习有关的一些重要的数学知识。我们在这个单元中对相关的知识点做一些简洁的介绍。\n",
    "线性代数的基本组成部分是向量，也就是一个由实数组成的序列，它相对应的Python中的概念就是列表（List）。在机器学习中，一个样本集中的每一个样本基本都可以用一个向量来表示。"
   ]
  },
  {
   "cell_type": "code",
   "execution_count": 1,
   "metadata": {},
   "outputs": [],
   "source": [
    "customer1 = [40, 150000, 720, 25000] # 第一个顾客年龄40岁，收入￥150000，FICO725分，信用额度￥25000"
   ]
  },
  {
   "cell_type": "markdown",
   "metadata": {},
   "source": [
    "下面是计算向量的加，减，乘法"
   ]
  },
  {
   "cell_type": "code",
   "execution_count": 4,
   "metadata": {
    "ExecuteTime": {
     "end_time": "2019-11-26T13:15:31.708850Z",
     "start_time": "2019-11-26T13:15:31.693849Z"
    }
   },
   "outputs": [],
   "source": [
    "def add_v(v1, v2):\n",
    "    return [a+b for a, b in zip(v1, v2)]\n",
    "\n",
    "def subtract_v(v1, v2):\n",
    "    return [a-b for a, b in zip(v1, v2)]\n",
    "\n",
    "def multiply_v(v, c):         #向量和数的乘法\n",
    "    return [a*c for a in v]\n",
    "\n",
    "def dot(v1, v2):\n",
    "    return sum([a*b for a, b in zip(v1, v2)])    #向量和向量的乘法"
   ]
  },
  {
   "cell_type": "code",
   "execution_count": 5,
   "metadata": {
    "ExecuteTime": {
     "end_time": "2019-11-26T13:15:32.985923Z",
     "start_time": "2019-11-26T13:15:32.976923Z"
    }
   },
   "outputs": [],
   "source": [
    "v1 = [1, 2, 3, 4]\n",
    "v2 = [5, 6, 7, 8]"
   ]
  },
  {
   "cell_type": "code",
   "execution_count": 4,
   "metadata": {},
   "outputs": [
    {
     "data": {
      "text/plain": [
       "[6, 8, 10, 12]"
      ]
     },
     "execution_count": 4,
     "metadata": {},
     "output_type": "execute_result"
    }
   ],
   "source": [
    "add_v(v1, v2)"
   ]
  },
  {
   "cell_type": "code",
   "execution_count": 5,
   "metadata": {},
   "outputs": [
    {
     "data": {
      "text/plain": [
       "[-4, -4, -4, -4]"
      ]
     },
     "execution_count": 5,
     "metadata": {},
     "output_type": "execute_result"
    }
   ],
   "source": [
    "subtract_v(v1, v2)"
   ]
  },
  {
   "cell_type": "code",
   "execution_count": 6,
   "metadata": {},
   "outputs": [
    {
     "data": {
      "text/plain": [
       "[5, 10, 15, 20]"
      ]
     },
     "execution_count": 6,
     "metadata": {},
     "output_type": "execute_result"
    }
   ],
   "source": [
    "multiply_v(v1, 5)"
   ]
  },
  {
   "cell_type": "code",
   "execution_count": 7,
   "metadata": {},
   "outputs": [
    {
     "data": {
      "text/plain": [
       "70"
      ]
     },
     "execution_count": 7,
     "metadata": {},
     "output_type": "execute_result"
    }
   ],
   "source": [
    "dot(v1, v2)"
   ]
  },
  {
   "cell_type": "markdown",
   "metadata": {},
   "source": [
    "<strong>向量的长度和距离</strong>\n",
    "<br>\n",
    "尽管向量是一个代数概念，但是它有很深刻的几何含义，每一个向量都可以由平面上的一条有向线段来表示。"
   ]
  },
  {
   "cell_type": "code",
   "execution_count": 14,
   "metadata": {
    "ExecuteTime": {
     "end_time": "2019-11-26T13:31:25.460402Z",
     "start_time": "2019-11-26T13:31:25.449401Z"
    }
   },
   "outputs": [],
   "source": [
    "origin = [0,0]\n",
    "v1 = [1,2]\n",
    "v2 = [3,1]\n",
    "v3 = add_v(v1, v2)"
   ]
  },
  {
   "cell_type": "code",
   "execution_count": 9,
   "metadata": {},
   "outputs": [],
   "source": [
    "from matplotlib import pyplot as plt\n",
    "import math\n",
    "def plot_vector_arrow(axes, point1, point2, arrow_head_width, arrow_head_length):\n",
    "    edge = [b-a for a, b in zip(point1, point2)]\n",
    "    edge_length = math.sqrt(sum([a**2 for a in edge]))\n",
    "    delta = [a*(1-arrow_head_length/edge_length) for a in edge]\n",
    "    axes.arrow(point1[0], point1[1], delta[0], delta[1], head_width=arrow_head_width, head_length=arrow_head_length)"
   ]
  },
  {
   "cell_type": "code",
   "execution_count": 10,
   "metadata": {},
   "outputs": [
    {
     "name": "stderr",
     "output_type": "stream",
     "text": [
      "/home/nbuser/anaconda3_420/lib/python3.5/site-packages/matplotlib/cbook/deprecation.py:106: MatplotlibDeprecationWarning: Adding an axes using the same arguments as a previous axes currently reuses the earlier instance.  In a future version, a new instance will always be created and returned.  Meanwhile, this warning can be suppressed, and the future behavior ensured, by passing a unique label to each axes instance.\n",
      "  warnings.warn(message, mplDeprecation, stacklevel=1)\n"
     ]
    },
    {
     "data": {
      "image/png": "[encoded data removed]",
      "text/plain": [
       "<matplotlib.figure.Figure at 0x7f929317f470>"
      ]
     },
     "metadata": {},
     "output_type": "display_data"
    }
   ],
   "source": [
    "plt.plot(origin[0], origin[1], marker=\"o\", markersize=6, color=\"red\")\n",
    "plt.plot(v1[0], v1[1], marker=\"o\", markersize=6, color=\"red\")\n",
    "plt.plot(v2[0], v2[1], marker=\"o\", markersize=6, color=\"red\")\n",
    "plt.plot(v3[0], v3[1], marker=\"o\", markersize=6, color=\"red\")\n",
    "ax = plt.axes()\n",
    "plot_vector_arrow(ax, origin, v1, arrow_head_width = 0.1, arrow_head_length = 0.2)\n",
    "plot_vector_arrow(ax, origin, v2, arrow_head_width = 0.1, arrow_head_length = 0.2)\n",
    "plot_vector_arrow(ax, origin, v3, arrow_head_width = 0.1, arrow_head_length = 0.2)\n",
    "ax.set_xlim(xmin=0, xmax=6)\n",
    "ax.set_ylim(ymin=0, ymax=4)\n",
    "plt.show()"
   ]
  },
  {
   "cell_type": "markdown",
   "metadata": {},
   "source": [
    "向量的长度对应的是平面上有向线段的长度"
   ]
  },
  {
   "cell_type": "code",
   "execution_count": 6,
   "metadata": {
    "ExecuteTime": {
     "end_time": "2019-11-26T13:15:38.134218Z",
     "start_time": "2019-11-26T13:15:38.125217Z"
    }
   },
   "outputs": [],
   "source": [
    "import math\n",
    "def len_v(v):\n",
    "    return math.sqrt(sum([x**2 for x in v]))"
   ]
  },
  {
   "cell_type": "code",
   "execution_count": 12,
   "metadata": {},
   "outputs": [
    {
     "data": {
      "text/plain": [
       "2.23606797749979"
      ]
     },
     "execution_count": 12,
     "metadata": {},
     "output_type": "execute_result"
    }
   ],
   "source": [
    "len_v(v1)"
   ]
  },
  {
   "cell_type": "code",
   "execution_count": 13,
   "metadata": {},
   "outputs": [
    {
     "data": {
      "text/plain": [
       "3.1622776601683795"
      ]
     },
     "execution_count": 13,
     "metadata": {},
     "output_type": "execute_result"
    }
   ],
   "source": [
    "len_v(v2)"
   ]
  },
  {
   "cell_type": "code",
   "execution_count": 14,
   "metadata": {},
   "outputs": [
    {
     "data": {
      "text/plain": [
       "5.0"
      ]
     },
     "execution_count": 14,
     "metadata": {},
     "output_type": "execute_result"
    }
   ],
   "source": [
    "len_v(v3)"
   ]
  },
  {
   "cell_type": "markdown",
   "metadata": {},
   "source": [
    "两个向量的距离指的是平面上对应于两个向量的有向线段端点之间的距离，或者就是两个向量之差的长度"
   ]
  },
  {
   "cell_type": "code",
   "execution_count": 7,
   "metadata": {
    "ExecuteTime": {
     "end_time": "2019-11-26T13:16:08.371947Z",
     "start_time": "2019-11-26T13:16:08.365947Z"
    }
   },
   "outputs": [],
   "source": [
    "import math\n",
    "def distance(v1, v2):\n",
    "    return len_v(subtract_v(v1, v2))"
   ]
  },
  {
   "cell_type": "code",
   "execution_count": 8,
   "metadata": {
    "ExecuteTime": {
     "end_time": "2019-11-26T13:16:10.954095Z",
     "start_time": "2019-11-26T13:16:10.932094Z"
    }
   },
   "outputs": [
    {
     "data": {
      "text/plain": [
       "8.0"
      ]
     },
     "execution_count": 8,
     "metadata": {},
     "output_type": "execute_result"
    }
   ],
   "source": [
    "distance(v1, v2)"
   ]
  },
  {
   "cell_type": "code",
   "execution_count": 17,
   "metadata": {},
   "outputs": [],
   "source": [
    "from matplotlib import pyplot as plt\n",
    "import math\n",
    "v4 = subtract_v(v1, v2)"
   ]
  },
  {
   "cell_type": "code",
   "execution_count": 18,
   "metadata": {},
   "outputs": [
    {
     "name": "stderr",
     "output_type": "stream",
     "text": [
      "/home/nbuser/anaconda3_420/lib/python3.5/site-packages/matplotlib/cbook/deprecation.py:106: MatplotlibDeprecationWarning: Adding an axes using the same arguments as a previous axes currently reuses the earlier instance.  In a future version, a new instance will always be created and returned.  Meanwhile, this warning can be suppressed, and the future behavior ensured, by passing a unique label to each axes instance.\n",
      "  warnings.warn(message, mplDeprecation, stacklevel=1)\n"
     ]
    },
    {
     "data": {
      "image/png": "[encoded data removed]",
      "text/plain": [
       "<matplotlib.figure.Figure at 0x7f929311d588>"
      ]
     },
     "metadata": {},
     "output_type": "display_data"
    }
   ],
   "source": [
    "plt.plot(origin[0], origin[1], marker=\"o\", markersize=6, color=\"red\")\n",
    "plt.plot(v1[0], v1[1], marker=\"o\", markersize=6, color=\"red\")\n",
    "plt.plot(v2[0], v2[1], marker=\"o\", markersize=6, color=\"red\")\n",
    "ax = plt.axes()\n",
    "plot_vector_arrow(ax, origin, v1, arrow_head_width = 0.1, arrow_head_length = 0.2)\n",
    "plot_vector_arrow(ax, origin, v2, arrow_head_width = 0.1, arrow_head_length = 0.2)\n",
    "plot_vector_arrow(ax, v2, v1, arrow_head_width = 0.1, arrow_head_length = 0.2)\n",
    "ax.set_xlim(xmin=0, xmax=6)\n",
    "ax.set_ylim(ymin=0, ymax=4)\n",
    "plt.show()"
   ]
  },
  {
   "cell_type": "markdown",
   "metadata": {},
   "source": [
    "<strong>概率与统计</strong>\n",
    "<br>\n",
    "概率是用来刻画不确定事件的数学理论。在概率论里，事件的发生是由某个概率分布所确定的，譬如说一个银行的坏帐率是3%，指的是对于任一个贷款，假如没有其它先验知识的话，百分之三的可能性是坏帐。我们称贷款坏帐出现的事件是服从Bernoulli分布的，其参数 p = 3%\n",
    "\n",
    "统计是用数据分析的方法来推算概率分布中的参数。如果我们有一组数据是由一个随机变量X产生的，那么我们可以根据这些数据来推测和X有关的一些参数的特性。如果数据是由两个变量X和Y共同产生的，我们可以不仅用这些数据来推测与X和Y有关的参数特性，而且可以推测X和Y是如何联系的。通过X和Y之间的关系可以帮助我们了解在将来如果有一个新的事件发生，给定X的值，我们可以来预测Y的值。所以统计和预测有着非常密切的关系。\n",
    "\n",
    "概率和统计是机器学习基本的敲门砖。尤其是统计和机器学习有千丝万缕的关系。统计学习着重的是对数据背后的模型及参数进行推断，而对将来的预测则是模型的衍生产品。但机器学习注重的是预测，也就是怎么用过去的数据对将来进行更准确的预测。\n",
    "\n",
    "我们下面来讲解一些基本的统计量及其Python程序的实现。"
   ]
  },
  {
   "cell_type": "code",
   "execution_count": 19,
   "metadata": {},
   "outputs": [],
   "source": [
    "import math\n",
    "#均值\n",
    "def mean(v):\n",
    "    return sum(v) / len(v)\n",
    "\n",
    "#中位数\n",
    "def median(v):\n",
    "    v_sorted = sorted(v)\n",
    "    mid_pos = int(len(v)/2)\n",
    "    if len(v)%2 == 0:\n",
    "        return (v_sorted[mid_pos-1]+v_sorted[mid_pos]) / 2\n",
    "    else:\n",
    "        return v_sorted[mid_pos]\n",
    "\n",
    "#分位数\n",
    "def quantile(v, p):\n",
    "    v_sorted = sorted(v)\n",
    "    pos = int(len(v)*p)\n",
    "    return v_sorted[pos]\n",
    "\n",
    "#方差\n",
    "def variance(v):\n",
    "    n = len(v)\n",
    "    ave = mean(v)\n",
    "    deviation = [x-ave for x in v]\n",
    "    if n == 0:\n",
    "        return 0\n",
    "    else:\n",
    "        return sum([x**2 for x in deviation]) / (n-1)\n",
    "\n",
    "#标准差    \n",
    "def std_dev(v):\n",
    "    return math.sqrt(variance(v))"
   ]
  },
  {
   "cell_type": "code",
   "execution_count": 13,
   "metadata": {
    "ExecuteTime": {
     "end_time": "2019-11-26T13:26:08.490272Z",
     "start_time": "2019-11-26T13:26:08.458270Z"
    }
   },
   "outputs": [
    {
     "name": "stdout",
     "output_type": "stream",
     "text": [
      "[1, 1, 2, 3, 4, 4, 7, 8, 11]\n"
     ]
    }
   ],
   "source": [
    "values=[1,2,3,1,4,7,4,8,11]\n",
    "def quantile(v, p):\n",
    "    v_sorted = sorted(v)\n",
    "    pos = int(len(v)*p)\n",
    "    return v_sorted[pos]\n",
    "result=quantile(values,0.3)\n",
    "result\n",
    "print( sorted(values))"
   ]
  },
  {
   "cell_type": "markdown",
   "metadata": {},
   "source": [
    "下面我们用Lending Club贷款者年收入的例子看一下这些统计量的计算。"
   ]
  },
  {
   "cell_type": "code",
   "execution_count": 15,
   "metadata": {
    "ExecuteTime": {
     "end_time": "2019-11-26T13:31:46.314595Z",
     "start_time": "2019-11-26T13:31:46.208589Z"
    }
   },
   "outputs": [],
   "source": [
    "import csv\n",
    "with open('./loan_amnt_and_annual_inc_Q1_2017.csv', 'r') as f:\n",
    "    reader = csv.reader(f)\n",
    "    loan_and_income = list(reader)"
   ]
  },
  {
   "cell_type": "code",
   "execution_count": 21,
   "metadata": {},
   "outputs": [
    {
     "data": {
      "text/plain": [
       "[['16000', '130000.0'],\n",
       " ['11875', '55000.0'],\n",
       " ['26000', '52000.0'],\n",
       " ['35000', '80000.0'],\n",
       " ['14000', '40000.0'],\n",
       " ['15000', '182000.0'],\n",
       " ['6000', '110000.0'],\n",
       " ['20000', '135000.0'],\n",
       " ['5000', '68000.0'],\n",
       " ['3600', '120000.0']]"
      ]
     },
     "execution_count": 21,
     "metadata": {},
     "output_type": "execute_result"
    }
   ],
   "source": [
    "loan_and_income[:10]"
   ]
  },
  {
   "cell_type": "code",
   "execution_count": 18,
   "metadata": {
    "ExecuteTime": {
     "end_time": "2019-11-26T13:32:15.244249Z",
     "start_time": "2019-11-26T13:32:15.191246Z"
    }
   },
   "outputs": [],
   "source": [
    "loan = [float(x[0]) for x in loan_and_income]"
   ]
  },
  {
   "cell_type": "code",
   "execution_count": 23,
   "metadata": {},
   "outputs": [
    {
     "data": {
      "text/plain": [
       "[16000.0,\n",
       " 11875.0,\n",
       " 26000.0,\n",
       " 35000.0,\n",
       " 14000.0,\n",
       " 15000.0,\n",
       " 6000.0,\n",
       " 20000.0,\n",
       " 5000.0,\n",
       " 3600.0]"
      ]
     },
     "execution_count": 23,
     "metadata": {},
     "output_type": "execute_result"
    }
   ],
   "source": [
    "loan[:10]"
   ]
  },
  {
   "cell_type": "code",
   "execution_count": 24,
   "metadata": {},
   "outputs": [
    {
     "data": {
      "text/plain": [
       "14858.279947095962"
      ]
     },
     "execution_count": 24,
     "metadata": {},
     "output_type": "execute_result"
    }
   ],
   "source": [
    "mean(loan)"
   ]
  },
  {
   "cell_type": "code",
   "execution_count": 25,
   "metadata": {},
   "outputs": [
    {
     "data": {
      "text/plain": [
       "12000.0"
      ]
     },
     "execution_count": 25,
     "metadata": {},
     "output_type": "execute_result"
    }
   ],
   "source": [
    "median(loan)"
   ]
  },
  {
   "cell_type": "code",
   "execution_count": 26,
   "metadata": {},
   "outputs": [
    {
     "data": {
      "text/plain": [
       "[4800.0, 7800.0, 12000.0, 20000.0, 30000.0]"
      ]
     },
     "execution_count": 26,
     "metadata": {},
     "output_type": "execute_result"
    }
   ],
   "source": [
    "[quantile(loan, p) for p in [0.1, 0.25, 0.5, 0.75, 0.9]]"
   ]
  },
  {
   "cell_type": "code",
   "execution_count": 27,
   "metadata": {},
   "outputs": [
    {
     "data": {
      "text/plain": [
       "9396.273230845412"
      ]
     },
     "execution_count": 27,
     "metadata": {},
     "output_type": "execute_result"
    }
   ],
   "source": [
    "std_dev(loan)"
   ]
  },
  {
   "cell_type": "markdown",
   "metadata": {},
   "source": [
    "人们经常说正态分布的数据大部分都聚集在均值加减2倍的标准差之间，更精确的说就是在均值加减1.96倍标准差之间包含了95%的数据。也就是说2.5%的数据在均值加1.96倍的标准差之上，另外2.5%的数据在均值减1.96倍标准差之下"
   ]
  },
  {
   "cell_type": "code",
   "execution_count": 28,
   "metadata": {},
   "outputs": [
    {
     "data": {
      "text/plain": [
       "33274.97547955297"
      ]
     },
     "execution_count": 28,
     "metadata": {},
     "output_type": "execute_result"
    }
   ],
   "source": [
    "mean(loan) + 1.96 * std_dev(loan)"
   ]
  },
  {
   "cell_type": "code",
   "execution_count": 29,
   "metadata": {},
   "outputs": [
    {
     "data": {
      "text/plain": [
       "35000.0"
      ]
     },
     "execution_count": 29,
     "metadata": {},
     "output_type": "execute_result"
    }
   ],
   "source": [
    "quantile(loan, 0.975)"
   ]
  },
  {
   "cell_type": "markdown",
   "metadata": {},
   "source": [
    "接下来我们来看一下年收入的统计量计算"
   ]
  },
  {
   "cell_type": "code",
   "execution_count": 30,
   "metadata": {},
   "outputs": [],
   "source": [
    "income = [float(x[1]) for x in loan_and_income]"
   ]
  },
  {
   "cell_type": "code",
   "execution_count": 31,
   "metadata": {},
   "outputs": [
    {
     "data": {
      "text/plain": [
       "[130000.0,\n",
       " 55000.0,\n",
       " 52000.0,\n",
       " 80000.0,\n",
       " 40000.0,\n",
       " 182000.0,\n",
       " 110000.0,\n",
       " 135000.0,\n",
       " 68000.0,\n",
       " 120000.0]"
      ]
     },
     "execution_count": 31,
     "metadata": {},
     "output_type": "execute_result"
    }
   ],
   "source": [
    "income[:10]"
   ]
  },
  {
   "cell_type": "code",
   "execution_count": 32,
   "metadata": {},
   "outputs": [
    {
     "data": {
      "text/plain": [
       "96779"
      ]
     },
     "execution_count": 32,
     "metadata": {},
     "output_type": "execute_result"
    }
   ],
   "source": [
    "len(income)"
   ]
  },
  {
   "cell_type": "code",
   "execution_count": 33,
   "metadata": {},
   "outputs": [
    {
     "data": {
      "text/plain": [
       "82761.03709389438"
      ]
     },
     "execution_count": 33,
     "metadata": {},
     "output_type": "execute_result"
    }
   ],
   "source": [
    "mean(income)"
   ]
  },
  {
   "cell_type": "code",
   "execution_count": 34,
   "metadata": {},
   "outputs": [
    {
     "data": {
      "text/plain": [
       "70000.0"
      ]
     },
     "execution_count": 34,
     "metadata": {},
     "output_type": "execute_result"
    }
   ],
   "source": [
    "median(income)"
   ]
  },
  {
   "cell_type": "code",
   "execution_count": 35,
   "metadata": {},
   "outputs": [
    {
     "data": {
      "text/plain": [
       "[35000.0, 49000.0, 70000.0, 99500.0, 140000.0]"
      ]
     },
     "execution_count": 35,
     "metadata": {},
     "output_type": "execute_result"
    }
   ],
   "source": [
    "[quantile(income, p) for p in [0.1, 0.25, 0.5, 0.75, 0.9]]"
   ]
  },
  {
   "cell_type": "code",
   "execution_count": 36,
   "metadata": {},
   "outputs": [
    {
     "data": {
      "text/plain": [
       "214944.1953208528"
      ]
     },
     "execution_count": 36,
     "metadata": {},
     "output_type": "execute_result"
    }
   ],
   "source": [
    "std_dev(income)"
   ]
  },
  {
   "cell_type": "code",
   "execution_count": 37,
   "metadata": {},
   "outputs": [
    {
     "data": {
      "text/plain": [
       "504051.65992276586"
      ]
     },
     "execution_count": 37,
     "metadata": {},
     "output_type": "execute_result"
    }
   ],
   "source": [
    "mean(income) + 1.96 * std_dev(income)"
   ]
  },
  {
   "cell_type": "code",
   "execution_count": 38,
   "metadata": {},
   "outputs": [
    {
     "data": {
      "text/plain": [
       "215000.0"
      ]
     },
     "execution_count": 38,
     "metadata": {},
     "output_type": "execute_result"
    }
   ],
   "source": [
    "quantile(income, 0.975)"
   ]
  },
  {
   "cell_type": "markdown",
   "metadata": {},
   "source": [
    "看来在这儿这条经验规则不成立了。这是为什么呢？\n",
    "我们下面将贷款数额和年收入的直方图画出来，看一看究竟发生了什么。直方图就是将数据从小到大排列，然后用图的方式将数据在每个区间的频率画出来。直方图可以帮助我们非常有效地了解数据的分布。"
   ]
  },
  {
   "cell_type": "code",
   "execution_count": 19,
   "metadata": {
    "ExecuteTime": {
     "end_time": "2019-11-26T13:32:21.361599Z",
     "start_time": "2019-11-26T13:32:21.350599Z"
    }
   },
   "outputs": [],
   "source": [
    "import matplotlib.pyplot as plt\n",
    "from collections import Counter\n",
    "import math\n",
    "\n",
    "def bucketize(point, bucket_size):\n",
    "    return bucket_size * math.floor(point / bucket_size)#对数据做规范化，都统一到一定的值\n",
    "\n",
    "def make_histogram(points, bucket_size):\n",
    "    return Counter(bucketize(point, bucket_size) for point in points)\n",
    "\n",
    "def plot_histogram(points, bucket_size, title=\"\"):\n",
    "    histogram = make_histogram(points, bucket_size)\n",
    "    plt.bar(histogram.keys(), histogram.values(), width=bucket_size)\n",
    "    plt.title(title)\n",
    "    plt.show()"
   ]
  },
  {
   "cell_type": "code",
   "execution_count": 21,
   "metadata": {
    "ExecuteTime": {
     "end_time": "2019-11-26T13:36:49.789952Z",
     "start_time": "2019-11-26T13:36:49.769951Z"
    }
   },
   "outputs": [
    {
     "data": {
      "text/plain": [
       "1000.0"
      ]
     },
     "execution_count": 21,
     "metadata": {},
     "output_type": "execute_result"
    }
   ],
   "source": [
    "min(loan)"
   ]
  },
  {
   "cell_type": "code",
   "execution_count": 22,
   "metadata": {
    "ExecuteTime": {
     "end_time": "2019-11-26T13:37:18.930619Z",
     "start_time": "2019-11-26T13:37:18.920619Z"
    }
   },
   "outputs": [
    {
     "data": {
      "text/plain": [
       "0"
      ]
     },
     "execution_count": 22,
     "metadata": {},
     "output_type": "execute_result"
    }
   ],
   "source": [
    "math.floor(1000/5000)*5000"
   ]
  },
  {
   "cell_type": "code",
   "execution_count": 23,
   "metadata": {
    "ExecuteTime": {
     "end_time": "2019-11-26T13:38:23.224297Z",
     "start_time": "2019-11-26T13:38:21.004170Z"
    }
   },
   "outputs": [
    {
     "data": {
      "text/plain": [
       "<BarContainer object of 1465 artists>"
      ]
     },
     "execution_count": 23,
     "metadata": {},
     "output_type": "execute_result"
    },
    {
     "data": {
      "image/png": "[encoded data removed]",
      "text/plain": [
       "<Figure size 432x288 with 1 Axes>"
      ]
     },
     "metadata": {
      "needs_background": "light"
     },
     "output_type": "display_data"
    }
   ],
   "source": [
    "result=Counter(loan)\n",
    "plt.bar(result.keys(), result.values(), width=5000)"
   ]
  },
  {
   "cell_type": "code",
   "execution_count": 20,
   "metadata": {
    "ExecuteTime": {
     "end_time": "2019-11-26T13:32:23.918745Z",
     "start_time": "2019-11-26T13:32:22.756679Z"
    }
   },
   "outputs": [
    {
     "data": {
      "image/png": "[encoded data removed]",
      "text/plain": [
       "<Figure size 432x288 with 1 Axes>"
      ]
     },
     "metadata": {
      "needs_background": "light"
     },
     "output_type": "display_data"
    }
   ],
   "source": [
    "plot_histogram(loan, 5000, \"loan amount\")"
   ]
  },
  {
   "cell_type": "code",
   "execution_count": 41,
   "metadata": {},
   "outputs": [
    {
     "data": {
      "image/png": "[encoded data removed]",
      "text/plain": [
       "<matplotlib.figure.Figure at 0x7f928ef0d828>"
      ]
     },
     "metadata": {},
     "output_type": "display_data"
    }
   ],
   "source": [
    "income2 = [x if x<500000 else 500000 for x in income]\n",
    "plot_histogram(income2, 10000, \"income\")"
   ]
  },
  {
   "cell_type": "markdown",
   "metadata": {},
   "source": [
    "大家可以看到loan amount大致是正态分布，但是income的分布有很长的尾巴，不是一个标准的正态分布。在统计中如果碰到这种情况，我们往往用对数转换这个技巧来将数据正态化。请看下图。"
   ]
  },
  {
   "cell_type": "code",
   "execution_count": 42,
   "metadata": {},
   "outputs": [
    {
     "data": {
      "image/png": "[encoded data removed]",
      "text/plain": [
       "<matplotlib.figure.Figure at 0x7f928fb60978>"
      ]
     },
     "metadata": {},
     "output_type": "display_data"
    }
   ],
   "source": [
    "import math\n",
    "log_income = [math.log(x+1) for x in income]\n",
    "plot_histogram(log_income, 0.2, \"log income\")"
   ]
  },
  {
   "cell_type": "markdown",
   "metadata": {},
   "source": [
    "这是一个非常好的正态分布。在这个前提下，我们再来验证一下两倍标准差的经验规则。"
   ]
  },
  {
   "cell_type": "code",
   "execution_count": 43,
   "metadata": {},
   "outputs": [
    {
     "data": {
      "text/plain": [
       "11.144032933485372"
      ]
     },
     "execution_count": 43,
     "metadata": {},
     "output_type": "execute_result"
    }
   ],
   "source": [
    "mean(log_income)"
   ]
  },
  {
   "cell_type": "code",
   "execution_count": 44,
   "metadata": {},
   "outputs": [
    {
     "data": {
      "text/plain": [
       "0.5954855440135217"
      ]
     },
     "execution_count": 44,
     "metadata": {},
     "output_type": "execute_result"
    }
   ],
   "source": [
    "std_dev(log_income)"
   ]
  },
  {
   "cell_type": "code",
   "execution_count": 45,
   "metadata": {},
   "outputs": [
    {
     "data": {
      "text/plain": [
       "12.311184599751874"
      ]
     },
     "execution_count": 45,
     "metadata": {},
     "output_type": "execute_result"
    }
   ],
   "source": [
    "mean(log_income) + 1.96 * std_dev(log_income)"
   ]
  },
  {
   "cell_type": "code",
   "execution_count": 46,
   "metadata": {},
   "outputs": [
    {
     "data": {
      "text/plain": [
       "12.278397958261774"
      ]
     },
     "execution_count": 46,
     "metadata": {},
     "output_type": "execute_result"
    }
   ],
   "source": [
    "quantile(log_income, 0.975)"
   ]
  },
  {
   "cell_type": "code",
   "execution_count": 47,
   "metadata": {},
   "outputs": [
    {
     "data": {
      "text/plain": [
       "9.97688126721887"
      ]
     },
     "execution_count": 47,
     "metadata": {},
     "output_type": "execute_result"
    }
   ],
   "source": [
    "mean(log_income) - 1.96 * std_dev(log_income)"
   ]
  },
  {
   "cell_type": "code",
   "execution_count": 48,
   "metadata": {},
   "outputs": [
    {
     "data": {
      "text/plain": [
       "10.085850775128717"
      ]
     },
     "execution_count": 48,
     "metadata": {},
     "output_type": "execute_result"
    }
   ],
   "source": [
    "quantile(log_income, 0.025)"
   ]
  },
  {
   "cell_type": "markdown",
   "metadata": {},
   "source": [
    "<strong>相关系数</strong>\n",
    "<br>\n",
    "上面介绍了一组数据的统计量，如果牵涉到两组数据的话，那么相关系数是一个非常重要的概念。相关系数表示的是两组数据的关联性，它总是在-1到1之间。如果相关系数是正数的话，那么当一组数据增大时，另外一组数据也增大。如果相关系数是负数的话，那么当一组数据增大时，另外一组数据会减少。下面是相关系数的Python实现。"
   ]
  },
  {
   "cell_type": "code",
   "execution_count": 49,
   "metadata": {},
   "outputs": [],
   "source": [
    "def covariance(v1, v2): \n",
    "    n = len(v1)\n",
    "    mean1 = mean(v1)\n",
    "    mean2 = mean(v2)\n",
    "    deviation1 = [x-mean1 for x in v1]\n",
    "    deviation2 = [x-mean2 for x in v2]\n",
    "    return dot(deviation1, deviation2) / (n - 1)\n",
    "\n",
    "def correlation(v1, v2):\n",
    "    std1 = std_dev(v1)\n",
    "    std2 = std_dev(v2)\n",
    "    if std1 > 0 and std2 > 0:\n",
    "        return covariance(v1, v2) / (std1 * std2) \n",
    "    else:\n",
    "        return 0 "
   ]
  },
  {
   "cell_type": "code",
   "execution_count": 50,
   "metadata": {},
   "outputs": [
    {
     "data": {
      "text/plain": [
       "0.11887894419031371"
      ]
     },
     "execution_count": 50,
     "metadata": {},
     "output_type": "execute_result"
    }
   ],
   "source": [
    "correlation(loan, income)"
   ]
  },
  {
   "attachments": {
    "image.png": {
     "image/png": "[encoded data removed]"
    }
   },
   "cell_type": "markdown",
   "metadata": {},
   "source": [
    "<strong>最优化</strong>\n",
    "<br>\n",
    "最优化是解决机器学习问题的一个重要工具。机器学习问题往往可以把它表示成一个求解损失函数最小值或者是求似然函数最大值的问题。\n",
    "我们先来对一个光滑的函数f(x), 讲解一下如何求它的最小值。这儿涉及到梯度的概念，所谓梯度，就是由$f(x)$对每一个自变量求导之后所构成的一个向量。如果$f(x)$只含一个自变量的话，那么$f(x)$的梯度就是它的导数。梯度往往用$\\nabla$表示。下面是几个例子：\n",
    "<br><br>\n",
    "$$f(x)=x^2,\\  \\nabla f=2x$$\n",
    "<br>\n",
    "$$f(x_1,x_2) = \\frac{x_1}{x_2},\\  \\nabla f=[\\frac{1}{x_2}, \\ -\\frac{x_1}{x_2^2}]$$\n",
    "<br>\n",
    "梯度有一个非常重要的性质，就是所谓的梯度下降法。从函数上的任一个点出发，朝着梯度的反方向走一小步，那么函数的值会变小。\n",
    "<br>\n",
    "<div>\n",
    "    <img src=\"attachment:image.png\" width=\"35%\">\n",
    "</div>\n",
    "<br>\n",
    "\n",
    "这个简单的思想构成了解决优化问题的关键所在。我们可以从任何一个初始点出发，求出在这一点的梯度方向，然后朝着它的反方向走一小步，如果在新的点上的函数值比原先点的值来的小，那么我们就在新的点上再求梯度，把整个步骤继续下去。如果在新的点上的函数值比原先点的值来的大，这说明走的这一步太大了，那我们可以把这一步的步长减小一些，再看看新的点的函数值是否变小。这一个朴素的思想几乎是解决所有机器问题的关键所在。下面是对函数$f(x)$最小化的程序实现。"
   ]
  },
  {
   "cell_type": "code",
   "execution_count": 51,
   "metadata": {},
   "outputs": [],
   "source": [
    "def safe(f):\n",
    "    def safe_f(*args, **kwargs):\n",
    "        try:\n",
    "            return f(*args, **kwargs)\n",
    "        except:\n",
    "            return float('inf')\n",
    "    return safe_f"
   ]
  },
  {
   "cell_type": "code",
   "execution_count": 52,
   "metadata": {
    "code_folding": []
   },
   "outputs": [],
   "source": [
    "def step(v, direction, step_size):\n",
    "    return [v_i + step_size * direction_i for v_i, direction_i in zip(v, direction)]"
   ]
  },
  {
   "cell_type": "code",
   "execution_count": 53,
   "metadata": {},
   "outputs": [],
   "source": [
    "def minimize_target(target, gradient, initial, tolerance=0.0001):\n",
    "    step_sizes = [100, 10, 1, 0.1, 0.01, 0.001, 0.0001, 0.00001]\n",
    "    par = initial\n",
    "    target = safe(target)\n",
    "    target_value = target(par)\n",
    "    iteration=0\n",
    "\n",
    "    while True:\n",
    "        iteration = iteration + 1\n",
    "        print(\"iteration = \", iteration)\n",
    "        grad = gradient(par)\n",
    "        next_par = [step(par, grad, -step_size) for step_size in step_sizes]\n",
    "        next_par = min(next_par, key=target)\n",
    "        next_target_value = target(next_par)\n",
    "            \n",
    "        if abs(target_value - next_target_value) < tolerance: \n",
    "            return par\n",
    "        else:\n",
    "            par, target_value = next_par, next_target_value\n",
    "            print(\"parameters: \", par, \" target value: \", target_value)"
   ]
  },
  {
   "cell_type": "markdown",
   "metadata": {},
   "source": [
    "现在我们用Lending Club的贷款数额和年收入的数据来说明如何用梯度下降法来拟合一个线性回归模型。所谓线性回归模型就是用一个线性方程来描述自变量和应变量的关系。对于贷款数额和年收入而言，我们是否可以写出下面的线性方程呢？\n",
    "<br><br>\n",
    "$$Loan \\ Amount = a*Income + b$$\n",
    "<br>\n",
    "给定贷款数额和年收入的数据，我们怎么来求出$a$和$b$呢？ 或者一般而言，对于下面这组数据，\n",
    "<br><br>\n",
    "$$(x_1,\\ y_1),\\ (x_2,\\ y_2),\\ ... (x_n,\\ y_n)$$\n",
    "<br>\n",
    "我们怎样找出一个线性方程$y=a*x + b$可以最佳地拟合这组数据"
   ]
  },
  {
   "cell_type": "code",
   "execution_count": 54,
   "metadata": {},
   "outputs": [],
   "source": [
    "from functools import partial\n",
    "def error(par, x, y):\n",
    "    a = par[0]\n",
    "    b = par[1]\n",
    "    return sum([(a*xi+b-yi)**2 for xi, yi in zip(x, y)])\n",
    "def grad_error(par, x, y):\n",
    "    a = par[0]\n",
    "    b = par[1]\n",
    "    grad_a = sum([(a*xi+b-yi)*2*xi for xi, yi in zip(x, y)])\n",
    "    grad_b = sum([(a*xi+b-yi)*2 for xi, yi in zip(x, y)])\n",
    "    return [grad_a, grad_b]"
   ]
  },
  {
   "cell_type": "markdown",
   "metadata": {},
   "source": [
    "给定贷款数额 ($y$)  和年收入 ($x$) 的数据，上面的error和grad_error就是参数par的函数。在我们使用最优化minimize_target程序前，我们还要做一个处理，这就是对数据$x$和$y$做尺度变换，也就是对数据中的每一个变量，对每一个样本，减去这个变量的均值，再除以它的标准差。这可以使每个变量做了处理后，它的均值是0，标准差是1，所以这个变换有时也称为0-1标准化，这对于很多最有化问题的数值稳定性是至关重要的。"
   ]
  },
  {
   "cell_type": "code",
   "execution_count": 55,
   "metadata": {},
   "outputs": [],
   "source": [
    "def scale(v):\n",
    "    ave = mean(v)\n",
    "    std = std_dev(v)\n",
    "    return [(x-ave)/std for x in v]"
   ]
  },
  {
   "cell_type": "code",
   "execution_count": 56,
   "metadata": {},
   "outputs": [
    {
     "name": "stdout",
     "output_type": "stream",
     "text": [
      "iteration =  1\n",
      "parameters:  [0.2300973292169986, -4.1539494066711317e-16]  target value:  96607.41191591934\n",
      "iteration =  2\n",
      "parameters:  [0.014827471894759137, 2.7818469749973934e-16]  target value:  96458.10085475794\n",
      "iteration =  3\n",
      "parameters:  [0.21622533961114584, -7.718936601008864e-16]  target value:  96327.41298694925\n",
      "iteration =  4\n",
      "parameters:  [0.027805550490427294, 4.4134029764109086e-16]  target value:  96213.02548839364\n",
      "iteration =  5\n",
      "parameters:  [0.2040835684001833, -5.081038367826807e-16]  target value:  96112.90525500452\n",
      "iteration =  6\n",
      "parameters:  [0.039164905964543695, 2.8742758173549987e-16]  target value:  96025.27276667123\n",
      "iteration =  7\n",
      "parameters:  [0.193456209792823, -4.050215718365281e-16]  target value:  95948.57045833013\n",
      "iteration =  8\n",
      "parameters:  [0.04910743758323807, 5.35487210129304e-16]  target value:  95881.4350361069\n",
      "iteration =  9\n",
      "parameters:  [0.18415437491162973, -4.535666286997754e-16]  target value:  95822.67324634767\n",
      "iteration =  10\n",
      "parameters:  [0.057809862224691616, 2.9746816121445355e-16]  target value:  95771.24066692837\n",
      "iteration =  11\n",
      "parameters:  [0.17601273451407595, -2.570482715569257e-16]  target value:  95726.22314385122\n",
      "iteration =  12\n",
      "parameters:  [0.06542685531501152, 2.1295742946847428e-16]  target value:  95686.8205432698\n",
      "iteration =  13\n",
      "parameters:  [0.16888658045849508, -4.01865485333275e-16]  target value:  95652.3325300219\n",
      "iteration =  14\n",
      "parameters:  [0.07209380000328167, 4.2821024504036036e-17]  target value:  95622.14611997739\n",
      "iteration =  15\n",
      "parameters:  [0.1626492536859374, -2.5812130211022676e-17]  target value:  95595.7247849798\n",
      "iteration =  16\n",
      "parameters:  [0.077929193438603, -2.9016705704876257e-16]  target value:  95572.59891668356\n",
      "iteration =  17\n",
      "parameters:  [0.15718989300359001, 1.508654312587509e-16]  target value:  95552.35747981312\n",
      "iteration =  18\n",
      "parameters:  [0.08303675291858086, -2.9131447254471266e-16]  target value:  95534.64070648076\n",
      "iteration =  19\n",
      "parameters:  [0.15241146465650499, 2.2617213657483137e-16]  target value:  95519.13370175798\n",
      "iteration =  20\n",
      "parameters:  [0.08750725934298637, -4.826020139070409e-16]  target value:  95505.56084674851\n",
      "iteration =  21\n",
      "parameters:  [0.14822903766608775, 5.779568490460463e-16]  target value:  95493.68089983118\n",
      "iteration =  22\n",
      "parameters:  [0.09142017073812159, -6.165781774036816e-16]  target value:  95483.282708837\n",
      "iteration =  23\n",
      "parameters:  [0.1445682742812561, 3.006958571027952e-16]  target value:  95474.18145806293\n",
      "iteration =  24\n",
      "parameters:  [0.09484503453044521, -3.427022554625125e-16]  target value:  95466.21538341638\n",
      "iteration =  25\n",
      "parameters:  [0.14136410871171068, 3.1133401412475344e-16]  target value:  95459.24289724638\n",
      "iteration =  26\n",
      "parameters:  [0.09784272367068833, -2.2063489923951344e-16]  target value:  95453.14007175062\n",
      "iteration =  27\n",
      "parameters:  [0.13855959065966497, -8.875983281697577e-17]  target value:  95447.79843633129\n",
      "iteration =  28\n",
      "parameters:  [0.10046651857945069, -3.39397954185471e-17]  target value:  95443.12304967258\n",
      "iteration =  29\n",
      "parameters:  [0.136104873094823, 1.294570006749042e-16]  target value:  95439.03081224425\n",
      "iteration =  30\n",
      "parameters:  [0.10276305414442677, -2.871375359703165e-16]  target value:  95435.44898929975\n",
      "iteration =  31\n",
      "parameters:  [0.1339563262816511, 7.407435775874672e-17]  target value:  95432.3139181303\n",
      "iteration =  32\n",
      "parameters:  [0.10477314860095029, -2.3179458352728936e-16]  target value:  95429.56987650918\n",
      "iteration =  33\n",
      "parameters:  [0.13207576231190712, 2.390582176658997e-16]  target value:  95427.16809229922\n",
      "iteration =  34\n",
      "parameters:  [0.1065325290284874, -3.7187919410541767e-16]  target value:  95425.06587660049\n",
      "iteration =  35\n",
      "parameters:  [0.1304297563591274, 3.102296197710077e-16]  target value:  95423.22586497485\n",
      "iteration =  36\n",
      "parameters:  [0.10807246635767707, -2.4612145654856455e-16]  target value:  95421.61535337757\n",
      "iteration =  37\n",
      "parameters:  [0.12898905259142693, -4.161837541261071e-17]  target value:  95420.20571684312\n",
      "iteration =  38\n",
      "parameters:  [0.10942033117457638, -2.3660962078508856e-16]  target value:  95418.9719007319\n",
      "iteration =  39\n",
      "parameters:  [0.1277280441833308, 2.7523122669848045e-16]  target value:  95417.8919754059\n",
      "iteration =  40\n",
      "parameters:  [0.11060008020085682, -6.060701940313604e-16]  target value:  95416.94674644488\n",
      "iteration =  41\n",
      "parameters:  [0.1266243181842987, 5.987244033889287e-16]  target value:  95416.1194135223\n",
      "iteration =  42\n",
      "parameters:  [0.11163268209651575, -1.2410511507354725e-15]  target value:  95415.39527174877\n",
      "iteration =  43\n",
      "parameters:  [0.12565825715479367, 9.261277855721067e-16]  target value:  95414.76145036203\n",
      "iteration =  44\n",
      "parameters:  [0.1125364901532759, -1.0399273109307214e-15]  target value:  95414.20668392644\n",
      "iteration =  45\n",
      "parameters:  [0.1248126904892188, 9.312517423865077e-16]  target value:  95413.72111210575\n",
      "iteration =  46\n",
      "parameters:  [0.11332756850292135, -1.0242687253914081e-15]  target value:  95413.29610444793\n",
      "iteration =  47\n",
      "parameters:  [0.12407258922842267, 6.838696275934813e-16]  target value:  95412.92410692113\n",
      "iteration =  48\n",
      "parameters:  [0.11401997763847352, -9.406467271766414e-16]  target value:  95412.59850770993\n",
      "iteration =  49\n",
      "parameters:  [0.1234247989375693, 7.964734427545753e-16]  target value:  95412.31351967204\n",
      "iteration =  50\n",
      "parameters:  [0.11462602432299136, -1.071973065869258e-15]  target value:  95412.06407747284\n",
      "iteration =  51\n",
      "parameters:  [0.12285780590139682, 9.657158406284342e-16]  target value:  95411.8457475749\n",
      "iteration =  52\n",
      "parameters:  [0.11515648032790984, -9.798239997138577e-16]  target value:  95411.65464941536\n",
      "iteration =  53\n",
      "parameters:  [0.12236153248143804, 8.163336673305826e-16]  target value:  95411.48738645035\n",
      "iteration =  54\n",
      "parameters:  [0.11562077388868239, -6.25482166061175e-16]  target value:  95411.3409857744\n",
      "iteration =  55\n",
      "parameters:  [0.1219271579977212, 5.819653092764559e-16]  target value:  95411.21284529114\n",
      "iteration =  56\n",
      "parameters:  [0.11602715728066784, -7.087933018290466e-16]  target value:  95411.10068743637\n",
      "iteration =  57\n",
      "parameters:  [0.12154696195151171, 4.407932352457073e-16]  target value:  95411.00251876292\n",
      "iteration =  58\n",
      "parameters:  [0.1163828534936632, -1.514233183286187e-17]  target value:  95410.91659441238\n",
      "iteration =  59\n",
      "parameters:  [0.12121418680247996, -1.1611156480739674e-16]  target value:  95410.84138719129\n",
      "iteration =  60\n",
      "parameters:  [0.11669418461209022, -2.2078672223813038e-16]  target value:  95410.77556037407\n",
      "iteration =  61\n",
      "parameters:  [0.12092291786133098, -1.7410628494474104e-16]  target value:  95410.71794397634\n",
      "iteration =  62\n",
      "parameters:  [0.11696668418266792, -5.7193139113558505e-18]  target value:  95410.66751392648\n",
      "iteration =  63\n",
      "parameters:  [0.1206679781630747, -2.0044910176153446e-16]  target value:  95410.6233738893\n",
      "iteration =  64\n",
      "parameters:  [0.11720519556676968, -1.5617562798553245e-16]  target value:  95410.58473932763\n",
      "iteration =  65\n",
      "parameters:  [0.12044483645256988, 1.0443979014951376e-16]  target value:  95410.55092355821\n",
      "iteration =  66\n",
      "parameters:  [0.11741395802544484, -5.647032841338267e-16]  target value:  95410.52132554598\n",
      "iteration =  67\n",
      "parameters:  [0.12024952664672704, 5.172318129353932e-16]  target value:  95410.49541921681\n",
      "iteration =  68\n",
      "parameters:  [0.11759668206740523, -6.367545379859501e-16]  target value:  95410.47274412063\n",
      "iteration =  69\n",
      "parameters:  [0.12007857734203489, 8.024314546162267e-16]  target value:  95410.45289723121\n",
      "iteration =  70\n",
      "parameters:  [0.1177566153989032, -9.332576378362483e-16]  target value:  95410.43552579312\n",
      "iteration =  71\n",
      "parameters:  [0.11992895011441433, 5.590886087425425e-16]  target value:  95410.4203210533\n",
      "iteration =  72\n",
      "parameters:  [0.11789660064797093, -6.096723126347563e-16]  target value:  95410.40701275734\n",
      "iteration =  73\n",
      "parameters:  [0.11979798551480998, 4.310929391238013e-16]  target value:  95410.39536438201\n",
      "iteration =  74\n",
      "parameters:  [0.11801912588877837, -4.492339833461749e-16]  target value:  95410.38516886608\n",
      "iteration =  75\n",
      "parameters:  [0.11968335580050529, 4.502598294209299e-16]  target value:  95410.37624502221\n",
      "iteration =  76\n",
      "parameters:  [0.11812636886429659, -5.296540983579228e-16]  target value:  95410.36843421991\n",
      "iteration =  77\n"
     ]
    },
    {
     "name": "stdout",
     "output_type": "stream",
     "text": [
      "parameters:  [0.1195830235623336, 3.411845805878507e-16]  target value:  95410.36159763992\n",
      "iteration =  78\n",
      "parameters:  [0.11822023569303848, -4.545377962905655e-16]  target value:  95410.35561377631\n",
      "iteration =  79\n",
      "parameters:  [0.11949520551203521, 2.9556190828117293e-16]  target value:  95410.35037626278\n",
      "iteration =  80\n",
      "parameters:  [0.11830239474817619, -4.055336622066357e-16]  target value:  95410.34579200903\n",
      "iteration =  81\n",
      "parameters:  [0.11941834078640601, -3.2020219808969626e-17]  target value:  95410.341779538\n",
      "iteration =  82\n",
      "parameters:  [0.11837430631087922, -4.11030653957311e-16]  target value:  95410.33826752844\n",
      "iteration =  83\n",
      "parameters:  [0.11935106320480664, 2.6580626588668183e-16]  target value:  95410.33519356619\n",
      "iteration =  84\n",
      "parameters:  [0.11843724852512899, -6.334871516244783e-16]  target value:  95410.33250301713\n",
      "iteration =  85\n",
      "parameters:  [0.11929217698684338, 5.892816790087358e-16]  target value:  95410.33014804478\n",
      "iteration =  86\n",
      "parameters:  [0.11849234011519812, -5.982989104147401e-16]  target value:  95410.32808680285\n",
      "iteration =  87\n",
      "parameters:  [0.1192406354988395, 5.742831210575623e-16]  target value:  95410.32628265694\n",
      "iteration =  88\n",
      "parameters:  [0.118540560269718, -4.646869000701765e-16]  target value:  95410.32470353728\n",
      "iteration =  89\n",
      "parameters:  [0.11919552265108148, 2.428454659586526e-16]  target value:  95410.32332138497\n",
      "iteration =  90\n",
      "parameters:  [0.11858276604556743, -1.949881922591596e-16]  target value:  95410.3221116213\n",
      "iteration =  91\n",
      "parameters:  [0.11915603661542035, 2.1857793353064423e-17]  target value:  95410.3210527366\n",
      "iteration =  92\n",
      "parameters:  [0.11861970760109515, -2.253672248819778e-16]  target value:  95410.32012593234\n",
      "iteration =  93\n",
      "parameters:  [0.11912147557373141, 1.3117812391882968e-16]  target value:  95410.31931473182\n",
      "iteration =  94\n",
      "parameters:  [0.11865204152926316, -7.089301368168278e-17]  target value:  95410.31860470049\n",
      "iteration =  95\n",
      "parameters:  [0.11909122524389798, 1.135266880503143e-16]  target value:  95410.3179832323\n",
      "iteration =  96\n",
      "parameters:  [0.1186803425278315, -4.5763115519292377e-17]  target value:  95410.31743927923\n",
      "iteration =  97\n",
      "parameters:  [0.1190647479616758, 4.1733255740084063e-16]  target value:  95410.31696317319\n",
      "iteration =  98\n",
      "parameters:  [0.11870511361399315, -4.631847683178587e-16]  target value:  95410.31654645552\n",
      "iteration =  99\n",
      "parameters:  [0.11904157312431488, 3.1429914226777143e-16]  target value:  95410.31618170862\n",
      "iteration =  100\n",
      "parameters:  [0.11872679506482833, -4.0445813365153035e-16]  target value:  95410.31586245497\n",
      "iteration =  101\n",
      "parameters:  [0.11902128882616714, 3.253802782765551e-16]  target value:  95410.31558302186\n",
      "iteration =  102\n",
      "parameters:  [0.11874577224280544, -2.9977409443659977e-16]  target value:  95410.31533844209\n",
      "iteration =  103\n",
      "parameters:  [0.11900353453753704, 2.106931296097517e-16]  target value:  95410.31512436538\n",
      "iteration =  104\n",
      "parameters:  [0.11876238244508039, -3.7236880245927446e-17]  target value:  95410.31493699038\n",
      "iteration =  105\n",
      "parameters:  [0.11898799469669713, -2.8425040099477856e-16]  target value:  95410.31477298625\n",
      "iteration =  106\n",
      "parameters:  [0.11877692089857275, 3.2121749704572294e-16]  target value:  95410.31462944728\n",
      "iteration =  107\n",
      "parameters:  [0.11897439310114774, -3.8449327055545246e-16]  target value:  95410.31450379964\n",
      "iteration =  108\n",
      "parameters:  [0.11878964600730355, 1.4064832631888204e-16]  target value:  95410.31439383679\n",
      "iteration =  109\n"
     ]
    }
   ],
   "source": [
    "loss = partial(error, x=scale(income), y=scale(loan))\n",
    "grad_loss = partial(grad_error, x=scale(income), y=scale(loan))\n",
    "a, b = minimize_target(loss, grad_loss, [0, 0])"
   ]
  },
  {
   "cell_type": "code",
   "execution_count": 57,
   "metadata": {},
   "outputs": [
    {
     "name": "stdout",
     "output_type": "stream",
     "text": [
      "0.11878964600730355 1.4064832631888204e-16\n"
     ]
    }
   ],
   "source": [
    "print(a, b)"
   ]
  },
  {
   "cell_type": "markdown",
   "metadata": {},
   "source": [
    "请注意这儿(a,b)是在标准化转换后的坐标下的参数值，我们可以用下面的程序将其还原成在原尺度下的参数值。"
   ]
  },
  {
   "cell_type": "code",
   "execution_count": 58,
   "metadata": {},
   "outputs": [],
   "source": [
    "mean_x, sd_x, mean_y, sd_y = mean(income), std_dev(income), mean(loan), std_dev(loan)"
   ]
  },
  {
   "cell_type": "code",
   "execution_count": 59,
   "metadata": {},
   "outputs": [
    {
     "name": "stdout",
     "output_type": "stream",
     "text": [
      "coefficient for income:  0.00519288259547497\n"
     ]
    }
   ],
   "source": [
    "coef = a*sd_y/sd_x\n",
    "print(\"coefficient for income: \", coef)"
   ]
  },
  {
   "cell_type": "code",
   "execution_count": 60,
   "metadata": {},
   "outputs": [
    {
     "name": "stdout",
     "output_type": "stream",
     "text": [
      "intercept:  14428.511597987621\n"
     ]
    }
   ],
   "source": [
    "intercept = b*sd_y - a*mean_x*sd_y/sd_x+mean_y\n",
    "print(\"intercept: \", intercept)"
   ]
  },
  {
   "cell_type": "code",
   "execution_count": 61,
   "metadata": {},
   "outputs": [],
   "source": [
    "import random\n",
    "random.seed(100)\n",
    "index = random.sample(range(len(income)), 50)\n",
    "income_sample = [income[x] for x in index]\n",
    "loan_sample = [loan[x] for x in index]"
   ]
  },
  {
   "cell_type": "code",
   "execution_count": 62,
   "metadata": {},
   "outputs": [
    {
     "data": {
      "image/png": "[encoded data removed]",
      "text/plain": [
       "<matplotlib.figure.Figure at 0x7f928f2f79e8>"
      ]
     },
     "metadata": {},
     "output_type": "display_data"
    }
   ],
   "source": [
    "from matplotlib import pyplot as plt\n",
    "plt.scatter(income_sample, loan_sample)\n",
    "points_x = [x*10000 for x in range(int(max(income_sample)/10000))]\n",
    "points_y = [coef*x + intercept for x in points_x]\n",
    "plt.plot(points_x, points_y, '-r')\n",
    "plt.show()"
   ]
  },
  {
   "cell_type": "markdown",
   "metadata": {},
   "source": [
    "从上图看，income和loan amount之间拟合的并不好，这是因为income和loan amount之间没有很紧密的关系吗？ 让我们使用对数转换这个技巧，建立log(income)和income之间的线性方程。"
   ]
  },
  {
   "cell_type": "code",
   "execution_count": 63,
   "metadata": {},
   "outputs": [
    {
     "name": "stdout",
     "output_type": "stream",
     "text": [
      "iteration =  1\n",
      "parameters:  [0.9176028139478778, -4.1539494066711317e-16]  target value:  94065.0923543657\n",
      "iteration =  2\n",
      "parameters:  [0.059130325330668754, 7.503173173328826e-12]  target value:  91690.55886018947\n",
      "iteration =  3\n",
      "parameters:  [0.8622828467815298, -6.536764513564997e-12]  target value:  89612.19496011693\n",
      "iteration =  4\n",
      "parameters:  [0.11088547381280434, 1.3166352366700273e-11]  target value:  87793.06016512211\n",
      "iteration =  5\n",
      "parameters:  [0.8138628000675838, -1.1411919713655297e-11]  target value:  86200.82148052659\n",
      "iteration =  6\n",
      "parameters:  [0.15618533271649693, 1.733139072479517e-11]  target value:  84807.17872481549\n",
      "iteration =  7\n",
      "parameters:  [0.7714820640715979, -1.4937828445305008e-11]  target value:  83587.36152695835\n",
      "iteration =  8\n",
      "parameters:  [0.1958350540849334, 2.028361343775486e-11]  target value:  82519.68906205658\n",
      "iteration =  9\n",
      "parameters:  [0.7343873707481848, -1.737592419281953e-11]  target value:  81585.18470000538\n",
      "iteration =  10\n",
      "parameters:  [0.23053936537059883, 2.2261043619575815e-11]  target value:  80767.23871805829\n",
      "iteration =  11\n",
      "parameters:  [0.7019194052817204, -1.894216119735504e-11]  target value:  80051.3130824501\n",
      "iteration =  12\n",
      "parameters:  [0.260915095142406, 2.3461169444960457e-11]  target value:  79424.68305181597\n",
      "iteration =  13\n",
      "parameters:  [0.6735010875364115, -1.9816475965717122e-11]  target value:  78876.21100981158\n",
      "iteration =  14\n",
      "parameters:  [0.2875021364921944, 2.4046796168741836e-11]  target value:  78396.14850696754\n",
      "iteration =  15\n",
      "parameters:  [0.6486273151312001, -2.0146801569254083e-11]  target value:  77975.96299341235\n",
      "iteration =  16\n",
      "parameters:  [0.31077304300363506, 2.4152449520364887e-11]  target value:  77608.18616279338\n",
      "iteration =  17\n",
      "parameters:  [0.6268559858353533, -2.0055457492507144e-11]  target value:  77286.28121180163\n",
      "iteration =  18\n",
      "parameters:  [0.3311414278396631, 2.388872626601924e-11]  target value:  77004.5266562147\n",
      "iteration =  19\n",
      "parameters:  [0.6078001397181587, -1.964207061333489e-11]  target value:  76757.91463812634\n",
      "iteration =  20\n",
      "parameters:  [0.3489693152330644, 2.3346331093909715e-11]  target value:  76542.06191717132\n",
      "iteration =  21\n",
      "parameters:  [0.5911210813883776, -1.8989061446594843e-11]  target value:  76353.13196353106\n",
      "iteration =  22\n",
      "parameters:  [0.36457357504407084, 2.25987657198612e-11]  target value:  76187.76676811525\n",
      "iteration =  23\n",
      "parameters:  [0.5765223600795949, -1.81620850414621e-11]  target value:  76043.0271578602\n",
      "iteration =  24\n",
      "parameters:  [0.3782315547517113, 2.1705949170280916e-11]  target value:  75916.34055537566\n",
      "iteration =  25\n",
      "parameters:  [0.5637445005843085, -1.7215230382339176e-11]  target value:  75805.45525437914\n",
      "iteration =  26\n",
      "parameters:  [0.39018600898112143, 2.0715492939915607e-11]  target value:  75708.40039825917\n",
      "iteration =  27\n",
      "parameters:  [0.552560391385441, -1.6190379005243107e-11]  target value:  75623.45095038114\n",
      "iteration =  28\n",
      "parameters:  [0.4006494141832167, 1.966545665532672e-11]  target value:  75549.09703360958\n",
      "iteration =  29\n",
      "parameters:  [0.5427712480145652, -1.5122654851706927e-11]  target value:  75484.01709398026\n",
      "iteration =  30\n",
      "parameters:  [0.40980774515529145, 1.8586298354827964e-11]  target value:  75427.05441163343\n",
      "iteration =  31\n",
      "parameters:  [0.5342030798903302, -1.4038359311685494e-11]  target value:  75377.19654147745\n",
      "iteration =  32\n",
      "parameters:  [0.4178237805256029, 1.7501713668322002e-11]  target value:  75333.55731814067\n",
      "iteration =  33\n",
      "parameters:  [0.5267035978392834, -1.2958036136323498e-11]  target value:  75295.36110544376\n",
      "iteration =  34\n",
      "parameters:  [0.4248399959532731, 1.6429981465337934e-11]  target value:  75261.92901034052\n",
      "iteration =  35\n",
      "parameters:  [0.5201395073337691, -1.189781075106032e-11]  target value:  75232.66681642948\n",
      "iteration =  36\n",
      "parameters:  [0.430981096466611, 1.5384468389223488e-11]  target value:  75207.05442240648\n",
      "iteration =  37\n",
      "parameters:  [0.5143941393375107, -1.0869778693800555e-11]  target value:  75184.6365979166\n",
      "iteration =  38\n",
      "parameters:  [0.43635623294919834, 1.4375412339395783e-11]  target value:  75165.01489232501\n",
      "iteration =  39\n",
      "parameters:  [0.5093653766498613, -9.881674988276841e-12]  target value:  75147.84055275138\n",
      "iteration =  40\n",
      "parameters:  [0.4410609421692561, 1.3409978117939776e-11]  target value:  75132.80832537652\n",
      "iteration =  41\n",
      "parameters:  [0.5049638388919421, -8.939651857664528e-12]  target value:  75119.65102994382\n",
      "iteration =  42\n",
      "parameters:  [0.4451788448340536, 1.24923408983957e-11]  target value:  75108.1348108913\n",
      "iteration =  43\n",
      "parameters:  [0.5011112938748647, -8.04775477925011e-12]  target value:  75098.0549809023\n",
      "iteration =  44\n",
      "parameters:  [0.44878313185023316, 1.1626536954301177e-11]  target value:  75089.23238276532\n",
      "iteration =  45\n",
      "parameters:  [0.4977392671140074, -7.2083803293043585e-12]  target value:  75081.5102051209\n",
      "iteration =  46\n",
      "parameters:  [0.45193786520662727, 1.0813739391712949e-11]  target value:  75074.7511952817\n",
      "iteration =  47\n",
      "parameters:  [0.4947878247750968, -6.421945003554066e-12]  target value:  75068.83521974931\n",
      "iteration =  48\n",
      "parameters:  [0.4546991166012086, 1.005383937546791e-11]  target value:  75063.65712897961\n",
      "iteration =  49\n",
      "parameters:  [0.4922045084203832, -5.6886069466077555e-12]  target value:  75059.12488845226\n",
      "iteration =  50\n",
      "parameters:  [0.45711596405002686, 9.346559345369011e-12]  target value:  75055.1579428883\n",
      "iteration =  51\n",
      "parameters:  [0.48994340262116465, -5.0068253398815924e-12]  target value:  75051.68578448413\n",
      "iteration =  52\n",
      "parameters:  [0.4592313641915449, 8.690169773784031e-12]  target value:  75048.64669966383\n",
      "iteration =  53\n",
      "parameters:  [0.4879643188647673, -4.375341996487568e-12]  target value:  75045.98667225579\n",
      "iteration =  54\n",
      "parameters:  [0.4610829157906836, 8.083425809823933e-12]  target value:  75043.65842338145\n",
      "iteration =  55\n",
      "parameters:  [0.4862320812506766, -3.792815076453214e-12]  target value:  75041.62057113458\n",
      "iteration =  56\n",
      "parameters:  [0.46270352801292103, 7.52390157621188e-12]  target value:  75039.8368950763\n",
      "iteration =  57\n",
      "parameters:  [0.48471590128004116, -3.2560299623174166e-12]  target value:  75038.27569244846\n",
      "iteration =  58\n",
      "parameters:  [0.46412200534624615, 7.009509367383897e-12]  target value:  75036.9092146979\n",
      "iteration =  59\n",
      "parameters:  [0.48338883062607335, -2.7629387100436015e-12]  target value:  75035.71317428816\n",
      "iteration =  60\n",
      "parameters:  [0.4653635595672717, 6.5373154300996376e-12]  target value:  75034.66631299315\n",
      "iteration =  61\n",
      "parameters:  [0.4822272821590505, -2.3111733538083444e-12]  target value:  75033.75002407529\n",
      "iteration =  62\n",
      "parameters:  [0.46645025785108263, 6.105248478993657e-12]  target value:  75032.94802156552\n",
      "iteration =  63\n",
      "parameters:  [0.4812106107126488, -1.8980020521919008e-12]  target value:  75032.24605081505\n",
      "iteration =  64\n",
      "parameters:  [0.4674014149894809, 5.710159031169253e-12]  target value:  75031.63163510959\n",
      "iteration =  65\n",
      "parameters:  [0.4803207461402489, -1.5206681147627872e-12]  target value:  75031.09385393732\n",
      "iteration =  66\n",
      "parameters:  [0.46823393668883506, 5.349795416664831e-12]  target value:  75030.62314885411\n",
      "iteration =  67\n",
      "parameters:  [0.47954187213919985, -1.1767684215957268e-12]  target value:  75030.21115363113\n",
      "iteration =  68\n",
      "parameters:  [0.4689626200492551, 5.0218464198170935e-12]  target value:  75029.85054554512\n",
      "iteration =  69\n",
      "parameters:  [0.4788601451345235, -8.640314097529699e-13]  target value:  75029.53491519393\n",
      "iteration =  70\n",
      "parameters:  [0.4696004165657539, 4.723728740385651e-12]  target value:  75029.2586526199\n",
      "iteration =  71\n",
      "parameters:  [0.47826344822554845, -5.79604436667909e-13]  target value:  75029.01684758949\n",
      "iteration =  72\n",
      "parameters:  [0.4701586623259106, 4.452741851901392e-12]  target value:  75028.80520228572\n",
      "iteration =  73\n",
      "parameters:  [0.4777411758221778, -3.2160241025811107e-13]  target value:  75028.61995497029\n",
      "iteration =  74\n",
      "parameters:  [0.47064727949560803, 4.2070023587026645e-12]  target value:  75028.4578130883\n",
      "iteration =  75\n",
      "parameters:  [0.4772840451428949, -8.773127446734698e-14]  target value:  75028.31589475677\n",
      "iteration =  76\n",
      "parameters:  [0.47107495267391636, 3.984605346785157e-12]  target value:  75028.1916775376\n",
      "iteration =  77\n"
     ]
    },
    {
     "name": "stdout",
     "output_type": "stream",
     "text": [
      "parameters:  [0.47688393122419726, 1.237650593122458e-13]  target value:  75028.08295362408\n",
      "iteration =  78\n",
      "parameters:  [0.47144928325169566, 3.7833764643391545e-12]  target value:  75027.98779057115\n",
      "iteration =  79\n",
      "parameters:  [0.4765337225088502, 3.148406346742669e-13]  target value:  75027.9044969623\n",
      "iteration =  80\n",
      "parameters:  [0.47177692451742853, 3.6021661886654054e-12]  target value:  75027.83159236185\n",
      "iteration =  81\n",
      "parameters:  [0.4762271944462809, 4.872345249485031e-13]  target value:  75027.76778096719\n",
      "iteration =  82\n",
      "parameters:  [0.4720636999116422, 3.4380262781130978e-12]  target value:  75027.71192860084\n",
      "iteration =  83\n",
      "parameters:  [0.47595889885846837, 6.430809229574219e-13]  target value:  75027.66304257009\n",
      "iteration =  84\n",
      "parameters:  [0.47231470653177504, 3.2899792901109052e-12]  target value:  75027.62025396686\n",
      "iteration =  85\n",
      "parameters:  [0.47572406710493986, 7.838462734444376e-13]  target value:  75027.58280227888\n",
      "iteration =  86\n",
      "parameters:  [0.47253440572710886, 3.1560317503842852e-12]  target value:  75027.55002184691\n",
      "iteration =  87\n",
      "parameters:  [0.4755185253257519, 9.109693854814351e-13]  target value:  75027.52133003293\n",
      "iteration =  88\n",
      "parameters:  [0.4727267023940458, 3.0358513469775077e-12]  target value:  75027.49621687557\n",
      "iteration =  89\n",
      "parameters:  [0.47533862025603313, 1.0249222814895645e-12]  target value:  75027.47423602155\n",
      "iteration =  90\n",
      "parameters:  [0.4728950143810698, 2.927698125043703e-12]  target value:  75027.45499678211\n",
      "iteration =  91\n",
      "parameters:  [0.4751811542934519, 1.127494136943268e-12]  target value:  75027.43815720639\n",
      "iteration =  92\n",
      "parameters:  [0.47304233323702377, 2.83026029834768e-12]  target value:  75027.42341799317\n",
      "iteration =  93\n",
      "parameters:  [0.47504332866457644, 1.2198312393519027e-12]  target value:  75027.41051715527\n",
      "iteration =  94\n",
      "parameters:  [0.4731712773823754, 2.7429560478520454e-12]  target value:  75027.39922541115\n",
      "iteration =  95\n",
      "parameters:  [0.4749226936799493, 1.3024415423945878e-12]  target value:  75027.38934206033\n",
      "iteration =  96\n",
      "parameters:  [0.47328413864859165, 2.664617474446045e-12]  target value:  75027.380691435\n",
      "iteration =  97\n",
      "parameters:  [0.4748171051937289, 1.376824491083921e-12]  target value:  75027.37311977579\n",
      "iteration =  98\n",
      "parameters:  [0.4733829230127608, 2.5941843262433916e-12]  target value:  75027.36649251386\n",
      "iteration =  99\n",
      "parameters:  [0.4747246864939861, 1.443598945938289e-12]  target value:  75027.36069185424\n",
      "iteration =  100\n",
      "parameters:  [0.473469386251491, 2.5309354290126417e-12]  target value:  75027.35561469427\n",
      "iteration =  101\n",
      "parameters:  [0.4746437949463597, 1.5032564404382764e-12]  target value:  75027.35117079834\n",
      "iteration =  102\n",
      "parameters:  [0.47354506514778827, 2.4743477788913546e-12]  target value:  75027.34728117641\n",
      "iteration =  103\n",
      "parameters:  [0.4745729927981425, 1.5567056099730345e-12]  target value:  75027.34387669682\n",
      "iteration =  104\n",
      "parameters:  [0.4736113048055758, 2.4239082307975487e-12]  target value:  75027.34089685172\n",
      "iteration =  105\n",
      "parameters:  [0.4745110216239025, 1.604528195864345e-12]  target value:  75027.33828867391\n",
      "iteration =  106\n",
      "parameters:  [0.47366928255734625, 2.378560445270876e-12]  target value:  75027.33600580545\n",
      "iteration =  107\n",
      "parameters:  [0.47445677995845614, 1.647534285664802e-12]  target value:  75027.33400767672\n",
      "iteration =  108\n",
      "parameters:  [0.4737200288898738, 2.3380307434539825e-12]  target value:  75027.33225876726\n",
      "iteration =  109\n",
      "parameters:  [0.47440930371959583, 1.6860654172834709e-12]  target value:  75027.33072799636\n",
      "iteration =  110\n",
      "parameters:  [0.4737644457599015, 2.3014677374977574e-12]  target value:  75027.32938815567\n",
      "iteration =  111\n",
      "parameters:  [0.4743677490726702, 1.7202458535426054e-12]  target value:  75027.32821542466\n",
      "iteration =  112\n",
      "parameters:  [0.47380332262537933, 2.269235247487371e-12]  target value:  75027.32718897014\n",
      "iteration =  113\n",
      "parameters:  [0.47433137743240683, 1.7510191241410219e-12]  target value:  75027.3262905399\n",
      "iteration =  114\n",
      "parameters:  [0.4738373504771435, 2.2404162780542955e-12]  target value:  75027.32550417204\n",
      "iteration =  115\n",
      "parameters:  [0.47429954233540983, 1.7780019156976841e-12]  target value:  75027.32481588465\n",
      "iteration =  116\n",
      "parameters:  [0.4738671341204907, 2.2146113998200696e-12]  target value:  75027.32421344864\n",
      "iteration =  117\n",
      "parameters:  [0.4742716779500424, 1.8024807102446067e-12]  target value:  75027.32368614657\n",
      "iteration =  118\n",
      "parameters:  [0.4738932029248632, 2.1915157588648077e-12]  target value:  75027.32322461682\n",
      "iteration =  119\n",
      "parameters:  [0.47424728901941965, 1.8243276767027344e-12]  target value:  75027.32282064983\n",
      "iteration =  120\n",
      "parameters:  [0.4739160202327974, 2.1710990882884124e-12]  target value:  75027.32246707444\n",
      "iteration =  121\n",
      "parameters:  [0.4742259420588103, 1.8435444448794674e-12]  target value:  75027.32215759285\n",
      "iteration =  122\n",
      "parameters:  [0.47393599159526617, 2.1524746707246838e-12]  target value:  75027.32188671871\n",
      "iteration =  123\n",
      "parameters:  [0.47420725765093846, 1.861331179187102e-12]  target value:  75027.3216496252\n",
      "iteration =  124\n",
      "parameters:  [0.473953471979892, 2.136025035737203e-12]  target value:  75027.32144210637\n",
      "iteration =  125\n",
      "parameters:  [0.47419090370229966, 1.876752565577204e-12]  target value:  75027.32126046883\n",
      "iteration =  126\n",
      "parameters:  [0.4739687720800815, 2.1210655376524818e-12]  target value:  75027.32110148696\n",
      "iteration =  127\n",
      "parameters:  [0.4741765895405657, 1.8912137644822286e-12]  target value:  75027.32096233295\n",
      "iteration =  128\n",
      "parameters:  [0.473982163837234, 2.107640523219016e-12]  target value:  75027.32084054156\n",
      "iteration =  129\n",
      "parameters:  [0.47416406074824313, 1.903616336784734e-12]  target value:  75027.32073393185\n",
      "iteration =  130\n"
     ]
    }
   ],
   "source": [
    "loss = partial(error, x=scale(log_income), y=scale(loan))\n",
    "grad_loss = partial(grad_error, x=scale(log_income), y=scale(loan))\n",
    "a, b = minimize_target(loss, grad_loss, [0, 0])"
   ]
  },
  {
   "cell_type": "code",
   "execution_count": 71,
   "metadata": {},
   "outputs": [
    {
     "name": "stdout",
     "output_type": "stream",
     "text": [
      "0.47416406074824313 1.903616336784734e-12\n"
     ]
    }
   ],
   "source": [
    "print(a, b)"
   ]
  },
  {
   "cell_type": "code",
   "execution_count": 72,
   "metadata": {},
   "outputs": [],
   "source": [
    "mean_x, sd_x, mean_y, sd_y = mean(log_income), std_dev(log_income), mean(loan), std_dev(loan)"
   ]
  },
  {
   "cell_type": "code",
   "execution_count": 73,
   "metadata": {},
   "outputs": [
    {
     "name": "stdout",
     "output_type": "stream",
     "text": [
      "coefficient for income:  7481.919780972058\n"
     ]
    }
   ],
   "source": [
    "coef = a*sd_y/sd_x\n",
    "print(\"coefficient for income: \", coef)"
   ]
  },
  {
   "cell_type": "code",
   "execution_count": 74,
   "metadata": {},
   "outputs": [
    {
     "name": "stdout",
     "output_type": "stream",
     "text": [
      "intercept:  -68520.48049773443\n"
     ]
    }
   ],
   "source": [
    "intercept = b*sd_y - a*mean_x*sd_y/sd_x+mean_y\n",
    "print(\"intercept: \", intercept)"
   ]
  },
  {
   "cell_type": "code",
   "execution_count": 75,
   "metadata": {},
   "outputs": [],
   "source": [
    "import random\n",
    "random.seed(100)\n",
    "index = random.sample(range(len(log_income)), 50)\n",
    "income_sample = [log_income[x] for x in index]\n",
    "loan_sample = [loan[x] for x in index]"
   ]
  },
  {
   "cell_type": "code",
   "execution_count": 70,
   "metadata": {},
   "outputs": [
    {
     "data": {
      "image/png": "[encoded data removed]",
      "text/plain": [
       "<matplotlib.figure.Figure at 0x7f928d8f6588>"
      ]
     },
     "metadata": {},
     "output_type": "display_data"
    }
   ],
   "source": [
    "from matplotlib import pyplot as plt\n",
    "plt.scatter(income_sample, loan_sample)\n",
    "points_x = [x for x in range(int(min(income_sample)), int(max(income_sample))+1)]\n",
    "points_y = [coef*x + intercept for x in points_x]\n",
    "plt.plot(points_x, points_y, \"-r\")\n",
    "plt.show()"
   ]
  },
  {
   "cell_type": "markdown",
   "metadata": {},
   "source": [
    "<strong>随机梯度下降法</strong>\n",
    "<br>\n",
    "上面描述的梯度下降法是求解几乎所有机器学习的最重要的算法，尤其是现在非常流行的大规模深度学习，几乎依赖于基于梯度下降的各种算法。但是标准的梯度下降法计算量非常大，因为对于样本集内的所有样本，梯度法要扫描一遍，然后才能计算出在当前参数下需要被优化函数的值和它的梯度，如果要让最后的结果收敛到最优点，梯度法要扫描这个样本集很多遍，所以如果我们的数据样本非常大的话，那么梯度法是非常费时的。\n",
    "\n",
    "为了提高梯度法的计算效率，人们发明了一种简易梯度法，我们叫它随机梯度下降法。它的原理非常简单，也就是对要求解的最优函数，在当前的参数下，在某一个样本点上计算出这个函数的值和它的梯度，然后参数沿着梯度的反方向走一小步，走到一个新的参数，然后我们选择下一个样本点，再重复上面的步骤。随机梯度法和标准梯度法的最大区别是在随机梯度法里，优化函数的值和它的梯度是依次在每个样本点上计算，而在标准梯度法里，优化函数和梯度的计算是同时在所有样本点上进行，让后把它们的值叠加起来。\n",
    "\n",
    "下面我们来看一下随机梯度法的Python实现。"
   ]
  },
  {
   "cell_type": "code",
   "execution_count": null,
   "metadata": {},
   "outputs": [],
   "source": [
    "import random\n",
    "def random_order(data):\n",
    "    indexes = [i for i, _ in enumerate(data)] \n",
    "    random.shuffle(indexes)\n",
    "    for i in indexes: \n",
    "        yield data[i]"
   ]
  },
  {
   "cell_type": "code",
   "execution_count": null,
   "metadata": {},
   "outputs": [],
   "source": [
    "def SGD(target, gradient, x, y, initial, alpha_0=0.01):\n",
    "    data = list(zip(x, y))\n",
    "    par = initial\n",
    "    alpha = alpha_0\n",
    "    min_par, min_target_value = None, float(\"inf\")\n",
    "    iterations_with_no_improvement = 0\n",
    "    while iterations_with_no_improvement < 100:\n",
    "        target_value = sum( target(xi, yi, par) for xi, yi in data )\n",
    "        if target_value < min_target_value:\n",
    "            min_par, min_target_value = par, target_value \n",
    "            iterations_with_no_improvement = 0\n",
    "            alpha = alpha_0\n",
    "        else:\n",
    "            iterations_with_no_improvement += 1\n",
    "            alpha *= 0.9\n",
    "        print(\"iterations_with_no_improvement: \", iterations_with_no_improvement)\n",
    "        print(\"min par: \", min_par, \" min target value: \", min_target_value)\n",
    "        for xi, yi in random_order(data):\n",
    "            grad_i = gradient(xi, yi, par)\n",
    "            par = subtract_v(par, multiply_v(grad_i, alpha))\n",
    "    \n",
    "    return min_par"
   ]
  },
  {
   "cell_type": "code",
   "execution_count": null,
   "metadata": {},
   "outputs": [],
   "source": [
    "def loss_i(xi, yi, par):\n",
    "    a = par[0]\n",
    "    b = par[1]\n",
    "    return (a*xi+b-yi)**2 \n",
    "def grad_loss_i(xi, yi, par):\n",
    "    a = par[0]\n",
    "    b = par[1]\n",
    "    grad_a = (a*xi+b-yi)*2*xi \n",
    "    grad_b = (a*xi+b-yi)*2 \n",
    "    return [grad_a, grad_b]"
   ]
  },
  {
   "cell_type": "code",
   "execution_count": null,
   "metadata": {},
   "outputs": [],
   "source": [
    "random.seed(5)\n",
    "a, b = SGD(loss_i, grad_loss_i, scale(log_income), scale(loan), initial=[0, 0], alpha_0=0.005)"
   ]
  },
  {
   "cell_type": "code",
   "execution_count": null,
   "metadata": {},
   "outputs": [],
   "source": [
    "print(a, b)"
   ]
  },
  {
   "cell_type": "code",
   "execution_count": null,
   "metadata": {},
   "outputs": [],
   "source": []
  }
 ],
 "metadata": {
  "kernelspec": {
   "display_name": "Python 3",
   "language": "python",
   "name": "python3"
  },
  "language_info": {
   "codemirror_mode": {
    "name": "ipython",
    "version": 3
   },
   "file_extension": ".py",
   "mimetype": "text/x-python",
   "name": "python",
   "nbconvert_exporter": "python",
   "pygments_lexer": "ipython3",
   "version": "3.7.4"
  }
 },
 "nbformat": 4,
 "nbformat_minor": 2
}
