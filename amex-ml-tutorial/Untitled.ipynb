{
 "cells": [
  {
   "cell_type": "code",
   "execution_count": 1,
   "metadata": {
    "ExecuteTime": {
     "end_time": "2019-11-30T05:56:36.074734Z",
     "start_time": "2019-11-30T05:56:31.623886Z"
    }
   },
   "outputs": [
    {
     "name": "stdout",
     "output_type": "stream",
     "text": [
      "[1 2 3 4 5 6]\n",
      "[[1 4]\n",
      " [2 5]\n",
      " [3 6]]\n",
      "[[1 4 1]\n",
      " [2 5 2]\n",
      " [3 6 3]]\n"
     ]
    }
   ],
   "source": [
    "import numpy as np\n",
    "a = np.array([1, 2, 3])\n",
    "b = np.array([4, 5, 6])\n",
    "c = np.c_[a,b]\n",
    "\n",
    "print(np.r_[a,b])\n",
    "print(c)\n",
    "print(np.c_[c,a])"
   ]
  },
  {
   "cell_type": "code",
   "execution_count": 2,
   "metadata": {
    "ExecuteTime": {
     "end_time": "2019-11-30T05:57:04.073376Z",
     "start_time": "2019-11-30T05:57:04.070376Z"
    }
   },
   "outputs": [
    {
     "name": "stdout",
     "output_type": "stream",
     "text": [
      "[[1 4]\n",
      " [2 5]\n",
      " [3 6]]\n"
     ]
    }
   ],
   "source": [
    "print(c)"
   ]
  },
  {
   "cell_type": "code",
   "execution_count": 3,
   "metadata": {
    "ExecuteTime": {
     "end_time": "2019-11-30T05:57:55.454158Z",
     "start_time": "2019-11-30T05:57:55.428157Z"
    }
   },
   "outputs": [
    {
     "data": {
      "text/plain": [
       "array([0, 1, 2, 3, 4])"
      ]
     },
     "execution_count": 3,
     "metadata": {},
     "output_type": "execute_result"
    }
   ],
   "source": [
    "np.arange(5)"
   ]
  },
  {
   "cell_type": "code",
   "execution_count": 66,
   "metadata": {
    "ExecuteTime": {
     "end_time": "2019-11-30T07:42:44.923688Z",
     "start_time": "2019-11-30T07:42:44.915687Z"
    }
   },
   "outputs": [],
   "source": [
    "actual=[1,0,1,1,1,1]\n",
    "pred=[0,0,1,1,0,1]"
   ]
  },
  {
   "cell_type": "code",
   "execution_count": 27,
   "metadata": {
    "ExecuteTime": {
     "end_time": "2019-11-30T06:35:00.504216Z",
     "start_time": "2019-11-30T06:35:00.488215Z"
    }
   },
   "outputs": [],
   "source": [
    "import numpy as np\n",
    "def gini(actual, pred, cmpcol = 0, sortcol = 1):\n",
    "    assert (len(actual) == len(pred))\n",
    "    all = np.asarray(np.c_[actual, pred, np.arange(len(actual))], dtype=np.float)\n",
    "    all = all[np.lexsort((all[:, 2], -1 * all[:, 1]))]\n",
    "    totalLosses = all[:, 0].sum()\n",
    "    giniSum = all[:, 0].cumsum().sum() / totalLosses\n",
    "\n",
    "    giniSum -= (len(actual) + 1) / 2.\n",
    "    return giniSum / len(actual)\n",
    "\n",
    "\n",
    "def gini_normalized(actual, pred):\n",
    "    return gini(actual, pred) / gini(actual, actual)\n"
   ]
  },
  {
   "cell_type": "code",
   "execution_count": 34,
   "metadata": {
    "ExecuteTime": {
     "end_time": "2019-11-30T06:48:46.613467Z",
     "start_time": "2019-11-30T06:48:46.603466Z"
    }
   },
   "outputs": [
    {
     "data": {
      "text/plain": [
       "0.04999999999999997"
      ]
     },
     "execution_count": 34,
     "metadata": {},
     "output_type": "execute_result"
    }
   ],
   "source": [
    "gini(actual, pred)"
   ]
  },
  {
   "cell_type": "code",
   "execution_count": 37,
   "metadata": {
    "ExecuteTime": {
     "end_time": "2019-11-30T06:51:23.081416Z",
     "start_time": "2019-11-30T06:51:23.067416Z"
    }
   },
   "outputs": [
    {
     "data": {
      "text/plain": [
       "0.15"
      ]
     },
     "execution_count": 37,
     "metadata": {},
     "output_type": "execute_result"
    }
   ],
   "source": [
    "(np.arange(1,6).cumsum().sum()/5-5.5)/10"
   ]
  },
  {
   "cell_type": "code",
   "execution_count": 11,
   "metadata": {
    "ExecuteTime": {
     "end_time": "2019-11-30T06:19:40.603601Z",
     "start_time": "2019-11-30T06:19:40.597600Z"
    }
   },
   "outputs": [],
   "source": [
    "np.asarray(np.c_[actual, pred, np.arange(len(actual))], dtype=np.float)"
   ]
  },
  {
   "cell_type": "code",
   "execution_count": 12,
   "metadata": {
    "ExecuteTime": {
     "end_time": "2019-11-30T06:20:17.932736Z",
     "start_time": "2019-11-30T06:20:17.921735Z"
    }
   },
   "outputs": [
    {
     "data": {
      "text/plain": [
       "array([[1, 0, 0],\n",
       "       [0, 0, 1],\n",
       "       [1, 1, 2],\n",
       "       [1, 1, 3],\n",
       "       [1, 0, 4],\n",
       "       [1, 1, 5]])"
      ]
     },
     "execution_count": 12,
     "metadata": {},
     "output_type": "execute_result"
    }
   ],
   "source": [
    "np.c_[actual, pred, np.arange(len(actual))]"
   ]
  },
  {
   "cell_type": "code",
   "execution_count": 15,
   "metadata": {
    "ExecuteTime": {
     "end_time": "2019-11-30T06:22:09.962144Z",
     "start_time": "2019-11-30T06:22:09.952143Z"
    }
   },
   "outputs": [],
   "source": [
    "result=np.asarray(np.c_[actual, pred, np.arange(len(actual))], dtype=np.float)"
   ]
  },
  {
   "cell_type": "code",
   "execution_count": 16,
   "metadata": {
    "ExecuteTime": {
     "end_time": "2019-11-30T06:22:11.600237Z",
     "start_time": "2019-11-30T06:22:11.590237Z"
    }
   },
   "outputs": [
    {
     "data": {
      "text/plain": [
       "array([0., 1., 2., 3., 4., 5.])"
      ]
     },
     "execution_count": 16,
     "metadata": {},
     "output_type": "execute_result"
    }
   ],
   "source": [
    "result[:, 2]"
   ]
  },
  {
   "cell_type": "code",
   "execution_count": 19,
   "metadata": {
    "ExecuteTime": {
     "end_time": "2019-11-30T06:23:29.818711Z",
     "start_time": "2019-11-30T06:23:29.808711Z"
    }
   },
   "outputs": [
    {
     "data": {
      "text/plain": [
       "array([-0., -0., -1., -1., -0., -1.])"
      ]
     },
     "execution_count": 19,
     "metadata": {},
     "output_type": "execute_result"
    }
   ],
   "source": [
    "-1*result[:, 1]"
   ]
  },
  {
   "cell_type": "code",
   "execution_count": 20,
   "metadata": {
    "ExecuteTime": {
     "end_time": "2019-11-30T06:24:11.024068Z",
     "start_time": "2019-11-30T06:24:11.009067Z"
    }
   },
   "outputs": [
    {
     "data": {
      "text/plain": [
       "(array([0., 1., 2., 3., 4., 5.]), array([-0., -0., -1., -1., -0., -1.]))"
      ]
     },
     "execution_count": 20,
     "metadata": {},
     "output_type": "execute_result"
    }
   ],
   "source": [
    "(result[:, 2], -1 * result[:, 1])"
   ]
  },
  {
   "cell_type": "code",
   "execution_count": 23,
   "metadata": {
    "ExecuteTime": {
     "end_time": "2019-11-30T06:29:23.139920Z",
     "start_time": "2019-11-30T06:29:23.129919Z"
    }
   },
   "outputs": [],
   "source": [
    "result2=result[np.lexsort((result[:, 2], -1 * result[:, 1]))]"
   ]
  },
  {
   "cell_type": "code",
   "execution_count": 24,
   "metadata": {
    "ExecuteTime": {
     "end_time": "2019-11-30T06:29:31.492398Z",
     "start_time": "2019-11-30T06:29:31.482397Z"
    }
   },
   "outputs": [
    {
     "data": {
      "text/plain": [
       "array([1., 1., 1., 1., 0., 1.])"
      ]
     },
     "execution_count": 24,
     "metadata": {},
     "output_type": "execute_result"
    }
   ],
   "source": [
    " result2[:, 0]"
   ]
  },
  {
   "cell_type": "code",
   "execution_count": 25,
   "metadata": {
    "ExecuteTime": {
     "end_time": "2019-11-30T06:29:55.619778Z",
     "start_time": "2019-11-30T06:29:55.608777Z"
    }
   },
   "outputs": [
    {
     "data": {
      "text/plain": [
       "array([1., 2., 3., 4., 4., 5.])"
      ]
     },
     "execution_count": 25,
     "metadata": {},
     "output_type": "execute_result"
    }
   ],
   "source": [
    " result2[:, 0].cumsum()"
   ]
  },
  {
   "cell_type": "code",
   "execution_count": 26,
   "metadata": {
    "ExecuteTime": {
     "end_time": "2019-11-30T06:30:08.189497Z",
     "start_time": "2019-11-30T06:30:08.178496Z"
    }
   },
   "outputs": [
    {
     "data": {
      "text/plain": [
       "19.0"
      ]
     },
     "execution_count": 26,
     "metadata": {},
     "output_type": "execute_result"
    }
   ],
   "source": [
    " result2[:, 0].cumsum().sum()"
   ]
  },
  {
   "cell_type": "code",
   "execution_count": null,
   "metadata": {},
   "outputs": [],
   "source": []
  },
  {
   "cell_type": "code",
   "execution_count": 64,
   "metadata": {
    "ExecuteTime": {
     "end_time": "2019-11-30T07:42:23.069438Z",
     "start_time": "2019-11-30T07:42:23.055437Z"
    }
   },
   "outputs": [],
   "source": [
    "def mean(v):\n",
    "    if len(v)==0:\n",
    "        return 0\n",
    "    else:\n",
    "        return sum(v) / len(v)\n",
    "\n",
    "def variance(v):\n",
    "    n = len(v)\n",
    "    ave = mean(v)\n",
    "    deviation = [x-ave for x in v]\n",
    "    if n == 0:\n",
    "        return 0\n",
    "    else:\n",
    "        return sum([x**2 for x in deviation]) / (n-1)\n",
    "\n",
    "def std_dev(v):\n",
    "    return math.sqrt(variance(v))"
   ]
  },
  {
   "cell_type": "code",
   "execution_count": 61,
   "metadata": {
    "ExecuteTime": {
     "end_time": "2019-11-30T07:41:29.103351Z",
     "start_time": "2019-11-30T07:41:29.082350Z"
    }
   },
   "outputs": [],
   "source": [
    "def accuracy(prediction, actual):\n",
    "    pred_actual_pairs = list(zip(prediction, actual))#合并预测值与真实值\n",
    "    sorted_pred_actual_pairs = sorted(pred_actual_pairs, key = lambda x: x[0])#根据预测值从小到大排序\n",
    "    pos = [int(len(sorted_pred_actual_pairs)*t) for t in [0.1,0.2,0.3,0.4,0.5,0.6,0.7,0.8,0.9]]\n",
    "    cutoffs = [sorted_pred_actual_pairs[t][0] for t in pos]\n",
    "    cutoffs.insert(0, 0)\n",
    "    cutoffs.append(1)\n",
    "    pred_actual_groups = [[(x[0], x[1]) for x in sorted_pred_actual_pairs if x[0]>cutoffs[t] and x[0]<=cutoffs[t+1]] for t in range(10)]\n",
    "    pred_actual_group_average = [(mean([t[0] for t in group]), mean([t[1] for t in group])) for group in pred_actual_groups]\n",
    "    acc = 1 - sum([abs(t[0]-t[1]) for t in pred_actual_group_average])/(10*mean([t[1] for t in pred_actual_group_average]))\n",
    "    return acc, pred_actual_group_average"
   ]
  },
  {
   "cell_type": "code",
   "execution_count": 65,
   "metadata": {
    "ExecuteTime": {
     "end_time": "2019-11-30T07:42:24.890542Z",
     "start_time": "2019-11-30T07:42:24.877541Z"
    }
   },
   "outputs": [
    {
     "data": {
      "text/plain": [
       "(1.0,\n",
       " [(0, 0),\n",
       "  (0, 0),\n",
       "  (0, 0),\n",
       "  (0, 0),\n",
       "  (1.0, 1.0),\n",
       "  (0, 0),\n",
       "  (0, 0),\n",
       "  (0, 0),\n",
       "  (0, 0),\n",
       "  (0, 0)])"
      ]
     },
     "execution_count": 65,
     "metadata": {},
     "output_type": "execute_result"
    }
   ],
   "source": [
    "accuracy(pred,actual)"
   ]
  },
  {
   "cell_type": "code",
   "execution_count": 38,
   "metadata": {
    "ExecuteTime": {
     "end_time": "2019-11-30T07:19:10.145767Z",
     "start_time": "2019-11-30T07:19:10.140767Z"
    }
   },
   "outputs": [],
   "source": [
    "pred_actual_pairs = list(zip(pred, actual))"
   ]
  },
  {
   "cell_type": "code",
   "execution_count": 39,
   "metadata": {
    "ExecuteTime": {
     "end_time": "2019-11-30T07:19:15.882095Z",
     "start_time": "2019-11-30T07:19:15.869094Z"
    }
   },
   "outputs": [
    {
     "data": {
      "text/plain": [
       "[(0, 1), (0, 0), (1, 1), (1, 1), (0, 1), (1, 1)]"
      ]
     },
     "execution_count": 39,
     "metadata": {},
     "output_type": "execute_result"
    }
   ],
   "source": [
    "pred_actual_pairs"
   ]
  },
  {
   "cell_type": "code",
   "execution_count": 41,
   "metadata": {
    "ExecuteTime": {
     "end_time": "2019-11-30T07:20:29.907329Z",
     "start_time": "2019-11-30T07:20:29.899329Z"
    }
   },
   "outputs": [],
   "source": [
    "\n",
    "sorted_pred_actual_pairs = sorted(pred_actual_pairs, key = lambda x: x[0])"
   ]
  },
  {
   "cell_type": "code",
   "execution_count": 43,
   "metadata": {
    "ExecuteTime": {
     "end_time": "2019-11-30T07:26:41.326573Z",
     "start_time": "2019-11-30T07:26:41.320573Z"
    }
   },
   "outputs": [
    {
     "data": {
      "text/plain": [
       "[(0, 1), (0, 0), (0, 1), (1, 1), (1, 1), (1, 1)]"
      ]
     },
     "execution_count": 43,
     "metadata": {},
     "output_type": "execute_result"
    }
   ],
   "source": [
    "sorted_pred_actual_pairs"
   ]
  },
  {
   "cell_type": "code",
   "execution_count": 44,
   "metadata": {
    "ExecuteTime": {
     "end_time": "2019-11-30T07:26:54.584331Z",
     "start_time": "2019-11-30T07:26:54.573331Z"
    }
   },
   "outputs": [
    {
     "data": {
      "text/plain": [
       "6"
      ]
     },
     "execution_count": 44,
     "metadata": {},
     "output_type": "execute_result"
    }
   ],
   "source": [
    "len(sorted_pred_actual_pairs)"
   ]
  },
  {
   "cell_type": "code",
   "execution_count": 50,
   "metadata": {
    "ExecuteTime": {
     "end_time": "2019-11-30T07:30:18.103972Z",
     "start_time": "2019-11-30T07:30:18.092971Z"
    }
   },
   "outputs": [],
   "source": [
    "\n",
    "pos = [int(len(sorted_pred_actual_pairs)*t) for t in [0.1,0.2,0.3,0.4,0.5,0.6,0.7,0.8,0.9]]\n",
    "cutoffs = [sorted_pred_actual_pairs[t][0] for t in pos]"
   ]
  },
  {
   "cell_type": "code",
   "execution_count": 51,
   "metadata": {
    "ExecuteTime": {
     "end_time": "2019-11-30T07:30:19.573056Z",
     "start_time": "2019-11-30T07:30:19.562055Z"
    }
   },
   "outputs": [
    {
     "data": {
      "text/plain": [
       "[0, 1, 1, 2, 3, 3, 4, 4, 5]"
      ]
     },
     "execution_count": 51,
     "metadata": {},
     "output_type": "execute_result"
    }
   ],
   "source": [
    "pos"
   ]
  },
  {
   "cell_type": "code",
   "execution_count": 52,
   "metadata": {
    "ExecuteTime": {
     "end_time": "2019-11-30T07:30:20.668119Z",
     "start_time": "2019-11-30T07:30:20.658118Z"
    }
   },
   "outputs": [
    {
     "data": {
      "text/plain": [
       "[0, 0, 0, 0, 1, 1, 1, 1, 1]"
      ]
     },
     "execution_count": 52,
     "metadata": {},
     "output_type": "execute_result"
    }
   ],
   "source": [
    "cutoffs"
   ]
  },
  {
   "cell_type": "code",
   "execution_count": 53,
   "metadata": {
    "ExecuteTime": {
     "end_time": "2019-11-30T07:30:27.801527Z",
     "start_time": "2019-11-30T07:30:27.794526Z"
    }
   },
   "outputs": [],
   "source": [
    "cutoffs.insert(0, 0)"
   ]
  },
  {
   "cell_type": "code",
   "execution_count": 54,
   "metadata": {
    "ExecuteTime": {
     "end_time": "2019-11-30T07:30:29.229608Z",
     "start_time": "2019-11-30T07:30:29.218608Z"
    }
   },
   "outputs": [
    {
     "data": {
      "text/plain": [
       "[0, 0, 0, 0, 0, 1, 1, 1, 1, 1]"
      ]
     },
     "execution_count": 54,
     "metadata": {},
     "output_type": "execute_result"
    }
   ],
   "source": [
    "cutoffs"
   ]
  },
  {
   "cell_type": "code",
   "execution_count": null,
   "metadata": {},
   "outputs": [],
   "source": []
  },
  {
   "cell_type": "code",
   "execution_count": 55,
   "metadata": {
    "ExecuteTime": {
     "end_time": "2019-11-30T07:31:05.459681Z",
     "start_time": "2019-11-30T07:31:05.452680Z"
    }
   },
   "outputs": [],
   "source": [
    "cutoffs.append(1)"
   ]
  },
  {
   "cell_type": "code",
   "execution_count": 56,
   "metadata": {
    "ExecuteTime": {
     "end_time": "2019-11-30T07:31:13.046114Z",
     "start_time": "2019-11-30T07:31:13.035114Z"
    }
   },
   "outputs": [
    {
     "data": {
      "text/plain": [
       "[0, 0, 0, 0, 0, 1, 1, 1, 1, 1, 1]"
      ]
     },
     "execution_count": 56,
     "metadata": {},
     "output_type": "execute_result"
    }
   ],
   "source": [
    "cutoffs"
   ]
  },
  {
   "cell_type": "code",
   "execution_count": null,
   "metadata": {},
   "outputs": [],
   "source": [
    "pred_actual_groups = [[(x[0], x[1]) for x in sorted_pred_actual_pairs if x[0]>cutoffs[t] and x[0]<=cutoffs[t+1]] for t in range(10)]"
   ]
  },
  {
   "cell_type": "code",
   "execution_count": null,
   "metadata": {},
   "outputs": [],
   "source": []
  },
  {
   "cell_type": "code",
   "execution_count": null,
   "metadata": {},
   "outputs": [],
   "source": []
  },
  {
   "cell_type": "code",
   "execution_count": null,
   "metadata": {},
   "outputs": [],
   "source": [
    "\n",
    "    \n",
    "    \n",
    "    pred_actual_group_average = [(mean([t[0] for t in group]), mean([t[1] for t in group])) for group in pred_actual_groups]\n",
    "    acc = 1 - sum([abs(t[0]-t[1]) for t in pred_actual_group_average])/(10*mean([t[1] for t in pred_actual_group_average]))\n",
    "    return acc, pred_actual_group_average"
   ]
  }
 ],
 "metadata": {
  "kernelspec": {
   "display_name": "Python 3",
   "language": "python",
   "name": "python3"
  },
  "language_info": {
   "codemirror_mode": {
    "name": "ipython",
    "version": 3
   },
   "file_extension": ".py",
   "mimetype": "text/x-python",
   "name": "python",
   "nbconvert_exporter": "python",
   "pygments_lexer": "ipython3",
   "version": "3.7.4"
  }
 },
 "nbformat": 4,
 "nbformat_minor": 2
}
