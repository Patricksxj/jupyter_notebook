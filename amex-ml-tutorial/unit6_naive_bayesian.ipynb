{
 "cells": [
  {
   "cell_type": "markdown",
   "metadata": {},
   "source": [
    "<strong style=\"font-size: 125%\">第六单元：朴素贝叶斯方法</strong>\n",
    "<br><br>\n",
    "\n",
    "朴素贝叶斯方法是一种非常高效的分类方法。这种算法是基于著名的贝叶斯定理。下面我们对贝叶斯定理做一个简要的讲解。贝叶斯定理用一个简短的文字来描述，就是后验概率与先验概率和似然函数的乘积成正比，或者可以写成：\n",
    "\n",
    "$$Pr(A|B) = \\frac{Pr(A)Pr(B|A)}{Pr(B)} = \\frac{Pr(A)Pr(B|A)}{Pr(A)Pr(B|A) + Pr(A^c)Pr(B|A^c))}$$\n",
    "\n",
    "这儿$A^c$是$A$的相反事件，譬如说，如果$A$是一个人确实得了某种疾病，那么$A^c$就是这个人没有感染此种疾病。如果我们定义$B$这个事件是此人检查结果是阳性。贝叶斯定理说的是在不知道$B$的情况下，$A$的先验概率，也就是任何一个人得此种疾病的概率是1%，那么假设此人检查结果是阳性，他得此病的概率有多大呢？在知道了检查结果的情况下，他得此病的概率（称为后验概率）是1%和似然函数的乘积成正比。这儿似然函数就是当我们知道此人确实患有此病，他能被检查出阳性的概率。这儿为什么说是成正比呢？因为这个乘积还要被贝叶斯定理里的分母来放缩。上个例子写成具体的式子，就是：\n",
    "\n",
    "$$Pr(患某种疾病|检查是阳性) = \\frac{Pr(患某种疾病)Pr(检查是阳性|患某种疾病)}{Pr(患某种疾病)Pr(检查是阳性|患某种疾病)+Pr(不患某种疾病)Pr(检查是阳性|不患某种疾病)}$$\n"
   ]
  },
  {
   "cell_type": "markdown",
   "metadata": {},
   "source": [
    "如果我们把贝叶斯定理推广到一般分类问题，我们可以写成下面的式子：\n",
    "\n",
    "$$Pr(Y=1|X_1=x_1, X_2=x_2 ... X_n=x_n) = \\frac{Pr(Y=1)Pr(X_1=x_1, X_2=x_2 ... X_n=x_n|Y=1)}{Pr(Y=1)Pr(X_1=x_1, X_2=x_2 ... X_n=x_n|Y=1)+Pr(Y=0)Pr(X_1=x_1, X_2=x_2 ... X_n=x_n|Y=0)}$$\n",
    "\n",
    "<br>\n",
    "如果我们加一个很强的假设，如果$X$之间是互相独立的，那么上面的式子可以写成：\n",
    "\n",
    "$$\\frac{Pr(Y=1)Pr(X_1=x_1|Y=1)Pr(X_2=x_2|Y=1) ... Pr(X_n=x_n|Y=1)}{Pr(Y=1)Pr(X_1=x_1|Y=1)Pr(X_2=x_2|Y=1) ... Pr(X_n=x_n|Y=1)+Pr(Y=0)Pr(X_1=x_1|Y=0)Pr(X_2=x_2|Y=0) ... Pr(X_n=x_n|Y=0)}$$\n",
    "\n",
    "<br>\n",
    "事件$X$之间的互相独立性是一个非常强的假设，我们把贝叶斯定理在这个假设下的公式称为朴素贝叶斯方法。下面用Lending Club的例子来介绍如何实现朴素贝叶斯方法。"
   ]
  },
  {
   "cell_type": "code",
   "execution_count": null,
   "metadata": {},
   "outputs": [],
   "source": [
    "import numpy as np\n",
    "import math\n",
    "\n",
    "def gini(actual, pred, cmpcol = 0, sortcol = 1):\n",
    "    assert (len(actual) == len(pred))\n",
    "    all = np.asarray(np.c_[actual, pred, np.arange(len(actual))], dtype=np.float)\n",
    "    all = all[np.lexsort((all[:, 2], -1 * all[:, 1]))]\n",
    "    totalLosses = all[:, 0].sum()\n",
    "    giniSum = all[:, 0].cumsum().sum() / totalLosses\n",
    "\n",
    "    giniSum -= (len(actual) + 1) / 2.\n",
    "    return giniSum / len(actual)\n",
    "\n",
    "\n",
    "def gini_normalized(actual, pred):\n",
    "    return gini(actual, pred) / gini(actual, actual)\n",
    "\n",
    "def accuracy(prediction, actual):\n",
    "    pred_actual_pairs = list(zip(prediction, actual))\n",
    "    sorted_pred_actual_pairs = sorted(pred_actual_pairs, key = lambda x: x[0])\n",
    "    pos = [int(len(sorted_pred_actual_pairs)*t) for t in [0.1,0.2,0.3,0.4,0.5,0.6,0.7,0.8,0.9]]\n",
    "    cutoffs = [sorted_pred_actual_pairs[t][0] for t in pos]\n",
    "    cutoffs.insert(0, 0)\n",
    "    cutoffs.append(1)\n",
    "    pred_actual_groups = [[(x[0], x[1]) for x in sorted_pred_actual_pairs if x[0]>cutoffs[t] and x[0]<=cutoffs[t+1]] for t in range(10)]\n",
    "    pred_actual_group_average = [(mean([t[0] for t in group]), mean([t[1] for t in group])) for group in pred_actual_groups]\n",
    "    acc = 1 - sum([abs(t[0]-t[1]) for t in pred_actual_group_average])/(10*mean([t[1] for t in pred_actual_group_average]))\n",
    "    return acc, pred_actual_group_average\n",
    "\n",
    "def mean(v):\n",
    "    return sum(v) / len(v)\n",
    "\n",
    "def variance(v):\n",
    "    n = len(v)\n",
    "    ave = mean(v)\n",
    "    deviation = [x-ave for x in v]\n",
    "    if n == 0:\n",
    "        return 0\n",
    "    else:\n",
    "        return sum([x**2 for x in deviation]) / (n-1)\n",
    "\n",
    "def std_dev(v):\n",
    "    return math.sqrt(variance(v))\n",
    "\n",
    "def scale(v):\n",
    "    ave = mean(v)\n",
    "    std = std_dev(v)\n",
    "    return [(x-ave)/std for x in v]"
   ]
  },
  {
   "cell_type": "code",
   "execution_count": null,
   "metadata": {},
   "outputs": [],
   "source": [
    "import csv\n",
    "with open('/home/nbuser/library/lending_club_train.csv', 'r') as f:\n",
    "    reader = csv.reader(f)\n",
    "    lending_club_train = list(reader)"
   ]
  },
  {
   "cell_type": "code",
   "execution_count": null,
   "metadata": {},
   "outputs": [],
   "source": [
    "loan_amnt = [int(x[0]) for x in lending_club_train]\n",
    "term = [x[1] for x in lending_club_train]\n",
    "int_rate = [float(x[2]) for x in lending_club_train]\n",
    "installment = [float(x[3]) for x in lending_club_train]\n",
    "grade = [x[4] for x in lending_club_train]\n",
    "sub_grade = [x[5] for x in lending_club_train]\n",
    "emp_length = [x[6] for x in lending_club_train]\n",
    "home_ownership = [x[7] for x in lending_club_train]\n",
    "annual_income = [float(x[8]) for x in lending_club_train]\n",
    "verification_status = [x[9] for x in lending_club_train]\n",
    "purpose = [x[10] for x in lending_club_train]\n",
    "dti = [-99999 if x[11]=='' else float(x[11]) for x in lending_club_train]\n",
    "delinq_2yrs = [x[12] for x in lending_club_train]\n",
    "loan_status = [x[13] for x in lending_club_train]\n",
    "issue_d = [x[14] for x in lending_club_train]"
   ]
  },
  {
   "cell_type": "code",
   "execution_count": null,
   "metadata": {},
   "outputs": [],
   "source": [
    "dep_var = [1 if x in (\"Charged Off\", \"Default\") else 0 for x in loan_status]"
   ]
  },
  {
   "cell_type": "code",
   "execution_count": null,
   "metadata": {},
   "outputs": [],
   "source": [
    "dti_2 = [x if x>0 else 0 for x in dti]"
   ]
  },
  {
   "cell_type": "code",
   "execution_count": null,
   "metadata": {},
   "outputs": [],
   "source": [
    "import csv\n",
    "with open('/home/nbuser/library/lending_club_test.csv', 'r') as f:\n",
    "    reader = csv.reader(f)\n",
    "    lending_club_test = list(reader)"
   ]
  },
  {
   "cell_type": "code",
   "execution_count": null,
   "metadata": {},
   "outputs": [],
   "source": [
    "t_loan_amnt = [int(x[0]) for x in lending_club_test]\n",
    "t_term = [x[1] for x in lending_club_test]\n",
    "t_int_rate = [float(x[2]) for x in lending_club_test]\n",
    "t_installment = [float(x[3]) for x in lending_club_test]\n",
    "t_grade = [x[4] for x in lending_club_test]\n",
    "t_sub_grade = [x[5] for x in lending_club_test]\n",
    "t_emp_length = [x[6] for x in lending_club_test]\n",
    "t_home_ownership = [x[7] for x in lending_club_test]\n",
    "t_annual_income = [float(x[8]) for x in lending_club_test]\n",
    "t_verification_status = [x[9] for x in lending_club_test]\n",
    "t_purpose = [x[10] for x in lending_club_test]\n",
    "t_dti = [-99999 if x[11]=='' else float(x[11]) for x in lending_club_test]\n",
    "t_delinq_2yrs = [x[12] for x in lending_club_test]\n",
    "t_loan_status = [x[13] for x in lending_club_test]\n",
    "t_issue_d = [x[14] for x in lending_club_test]"
   ]
  },
  {
   "cell_type": "code",
   "execution_count": null,
   "metadata": {},
   "outputs": [],
   "source": [
    "t_dep_var = [1 if x in (\"Charged Off\", \"Default\") else 0 for x in t_loan_status]"
   ]
  },
  {
   "cell_type": "code",
   "execution_count": null,
   "metadata": {},
   "outputs": [],
   "source": [
    "t_dti_2 = [x if x>0 else 0 for x in t_dti]"
   ]
  },
  {
   "cell_type": "markdown",
   "metadata": {},
   "source": [
    "下面我们来求‘grade’这个变量的似然函数，也就是当$Y=1$或$Y=0$时，‘grade’这个变量取每个值的概率。"
   ]
  },
  {
   "cell_type": "code",
   "execution_count": null,
   "metadata": {},
   "outputs": [],
   "source": [
    "from collections import Counter"
   ]
  },
  {
   "cell_type": "code",
   "execution_count": null,
   "metadata": {},
   "outputs": [],
   "source": [
    "grade_and_dep_var = list(zip(grade, dep_var))"
   ]
  },
  {
   "cell_type": "code",
   "execution_count": null,
   "metadata": {},
   "outputs": [],
   "source": [
    "grade_and_dep_var[:5]"
   ]
  },
  {
   "cell_type": "code",
   "execution_count": null,
   "metadata": {},
   "outputs": [],
   "source": [
    "grade_on_0 = [t[0] for t in grade_and_dep_var if t[1] == 0]"
   ]
  },
  {
   "cell_type": "code",
   "execution_count": null,
   "metadata": {},
   "outputs": [],
   "source": [
    "counter_grade_on_0 = Counter(grade_on_0)"
   ]
  },
  {
   "cell_type": "code",
   "execution_count": null,
   "metadata": {},
   "outputs": [],
   "source": [
    "counter_grade_on_0"
   ]
  },
  {
   "cell_type": "code",
   "execution_count": null,
   "metadata": {},
   "outputs": [],
   "source": [
    "total_grade_on_0 = sum(counter_grade_on_0.values())"
   ]
  },
  {
   "cell_type": "code",
   "execution_count": null,
   "metadata": {},
   "outputs": [],
   "source": [
    "pmf_grade_on_0 = {k:v/total_grade_on_0 for k, v in counter_grade_on_0.items()}"
   ]
  },
  {
   "cell_type": "code",
   "execution_count": null,
   "metadata": {},
   "outputs": [],
   "source": [
    "pmf_grade_on_0"
   ]
  },
  {
   "cell_type": "code",
   "execution_count": null,
   "metadata": {},
   "outputs": [],
   "source": [
    "grade_on_1 = [t[0] for t in grade_and_dep_var if t[1] == 1]"
   ]
  },
  {
   "cell_type": "code",
   "execution_count": null,
   "metadata": {},
   "outputs": [],
   "source": [
    "counter_grade_on_1 = Counter(grade_on_1)"
   ]
  },
  {
   "cell_type": "code",
   "execution_count": null,
   "metadata": {},
   "outputs": [],
   "source": [
    "counter_grade_on_1"
   ]
  },
  {
   "cell_type": "code",
   "execution_count": null,
   "metadata": {},
   "outputs": [],
   "source": [
    "total_grade_on_1 = sum(counter_grade_on_1.values())"
   ]
  },
  {
   "cell_type": "code",
   "execution_count": null,
   "metadata": {},
   "outputs": [],
   "source": [
    "pmf_grade_on_1 = {k:v/total_grade_on_1 for k, v in counter_grade_on_1.items()}"
   ]
  },
  {
   "cell_type": "code",
   "execution_count": null,
   "metadata": {},
   "outputs": [],
   "source": [
    "pmf_grade_on_1"
   ]
  },
  {
   "cell_type": "markdown",
   "metadata": {},
   "source": [
    "下面我们来求 ‘dti’ 这个变量的似然函数，也就是当$Y=1$或$Y=0$时，‘dti’这个变量取每个值的概率。但是 ‘dti’ 是一个连续变量，它取某个值的概率就是$pdf$(probability density function)的概念，我们用正态分布来表示这个$pdf$"
   ]
  },
  {
   "cell_type": "code",
   "execution_count": null,
   "metadata": {},
   "outputs": [],
   "source": [
    "dti_and_dep_var = list(zip(dti_2, dep_var))"
   ]
  },
  {
   "cell_type": "code",
   "execution_count": null,
   "metadata": {},
   "outputs": [],
   "source": [
    "elements = [t[0] for t in dti_and_dep_var if t[1] == 0]\n",
    "ave_dti_on_0 = mean(elements)\n",
    "sd_dti_on_0 = std_dev(elements)\n",
    "def pdf_dti_on_0(x):\n",
    "    ave = ave_dti_on_0\n",
    "    sd = sd_dti_on_0\n",
    "    return 1/(math.sqrt(2*math.pi)*sd)*math.exp(-(x-ave)**2/sd**2)"
   ]
  },
  {
   "cell_type": "code",
   "execution_count": null,
   "metadata": {},
   "outputs": [],
   "source": [
    "elements = [t[0] for t in dti_and_dep_var if t[1] == 1]\n",
    "ave_dti_on_1 = mean(elements)\n",
    "sd_dti_on_1 = std_dev(elements)\n",
    "def pdf_dti_on_1(x):\n",
    "    ave = ave_dti_on_1\n",
    "    sd = sd_dti_on_1\n",
    "    return 1/(math.sqrt(2*math.pi)*sd)*math.exp(-(x-ave)**2/sd**2)"
   ]
  },
  {
   "cell_type": "code",
   "execution_count": null,
   "metadata": {},
   "outputs": [],
   "source": [
    "pdf_dti_on_0(5)"
   ]
  },
  {
   "cell_type": "code",
   "execution_count": null,
   "metadata": {},
   "outputs": [],
   "source": [
    "pdf_dti_on_0(20)"
   ]
  },
  {
   "cell_type": "code",
   "execution_count": null,
   "metadata": {},
   "outputs": [],
   "source": [
    "prior_1 = mean(dep_var)\n",
    "prior_0 = 1 - prior_1\n",
    "def BayesPredict(x1, x2):\n",
    "    likelihood_x1_on_1 = pmf_grade_on_1[x1] \n",
    "    likelihood_x1_on_0 = pmf_grade_on_0[x1] \n",
    "    likelihood_x2_on_1 = pdf_dti_on_1(x2)\n",
    "    likelihood_x2_on_0 = pdf_dti_on_0(x2)\n",
    "    posterior_1 = prior_1 * likelihood_x1_on_1 * likelihood_x2_on_1 \n",
    "    posterior_0 = prior_0 * likelihood_x1_on_0 * likelihood_x2_on_0 \n",
    "    return posterior_1 / (posterior_0 + posterior_1 + 0.000001)"
   ]
  },
  {
   "cell_type": "code",
   "execution_count": null,
   "metadata": {},
   "outputs": [],
   "source": [
    "pred = [BayesPredict(*row) for row in zip(grade, dti_2)]"
   ]
  },
  {
   "cell_type": "code",
   "execution_count": null,
   "metadata": {},
   "outputs": [],
   "source": [
    "gini_normalized(dep_var, pred)"
   ]
  },
  {
   "cell_type": "code",
   "execution_count": null,
   "metadata": {},
   "outputs": [],
   "source": [
    "accuracy(pred, dep_var)"
   ]
  },
  {
   "cell_type": "markdown",
   "metadata": {},
   "source": [
    "下面我们把上述算法加以推广，用面向对象的编程方法来实现。"
   ]
  },
  {
   "cell_type": "code",
   "execution_count": null,
   "metadata": {},
   "outputs": [],
   "source": [
    "from collections import Counter\n",
    "import math\n",
    "class NaiveBayes:\n",
    "    def __init__(self, discrete_lists, continuous_lists, y):\n",
    "        self.pmf_on_1 = []\n",
    "        self.pmf_on_0 = []\n",
    "        self.ave_on_1 = []\n",
    "        self.ave_on_0 = []\n",
    "        self.sd_on_1 = []\n",
    "        self.sd_on_0 = []\n",
    "        for discrete_list in discrete_lists:\n",
    "            counter_on_1 = Counter([t[0] for t in zip(discrete_list, y) if t[1] == 1])\n",
    "            counter_on_0 = Counter([t[0] for t in zip(discrete_list, y) if t[1] == 0])\n",
    "            total_on_1 = sum(counter_on_1.values())\n",
    "            total_on_0 = sum(counter_on_0.values())\n",
    "            self.pmf_on_1.append({k: v/total_on_1 for k, v in counter_on_1.items()})\n",
    "            self.pmf_on_0.append({k: v/total_on_0 for k, v in counter_on_0.items()})\n",
    "        for continuous_list in continuous_lists:\n",
    "            self.ave_on_1.append(mean([t[0] for t in zip(continuous_list, y) if t[1] == 1]))\n",
    "            self.ave_on_0.append(mean([t[0] for t in zip(continuous_list, y) if t[1] == 0]))\n",
    "            self.sd_on_1.append(std_dev([t[0] for t in zip(continuous_list, y) if t[1] == 1]))\n",
    "            self.sd_on_0.append(std_dev([t[0] for t in zip(continuous_list, y) if t[1] == 0]))\n",
    "\n",
    "        self.prior_1 = mean(y)\n",
    "        self.prior_0 = 1 - self.prior_1\n",
    "        \n",
    "    def Gaussian(self, x, ave, sd):\n",
    "        return 1/(math.sqrt(2*math.pi)*sd)*math.exp(-(x-ave)**2/sd**2)\n",
    "    \n",
    "    def predict(self, discrete_list, continuous_list):\n",
    "        posterior_1 = self.prior_1\n",
    "        posterior_0 = self.prior_0\n",
    "        \n",
    "        s = 0\n",
    "        for var in discrete_list:\n",
    "            posterior_1 = posterior_1 * self.pmf_on_1[s][var]\n",
    "            posterior_0 = posterior_0 * self.pmf_on_0[s][var]\n",
    "            s = s + 1\n",
    "            \n",
    "        s = 0\n",
    "        for var in continuous_list:\n",
    "            posterior_1 = posterior_1 * self.Gaussian(var, self.ave_on_1[s], self.sd_on_1[s])\n",
    "            posterior_0 = posterior_0 * self.Gaussian(var, self.ave_on_0[s], self.sd_on_0[s])\n",
    "            s = s + 1\n",
    "            \n",
    "        return posterior_1 / (posterior_0 + posterior_1 + 0.000001)"
   ]
  },
  {
   "cell_type": "code",
   "execution_count": null,
   "metadata": {},
   "outputs": [],
   "source": [
    "nb = NaiveBayes(discrete_lists = [grade, emp_length], continuous_lists = [dti_2], y = dep_var)"
   ]
  },
  {
   "cell_type": "code",
   "execution_count": null,
   "metadata": {},
   "outputs": [],
   "source": [
    "nb_pred = [nb.predict([row[0], row[1]], [row[2]]) for row in zip(grade, emp_length, dti_2)]"
   ]
  },
  {
   "cell_type": "code",
   "execution_count": null,
   "metadata": {},
   "outputs": [],
   "source": [
    "gini_normalized(dep_var, nb_pred)"
   ]
  },
  {
   "cell_type": "code",
   "execution_count": null,
   "metadata": {},
   "outputs": [],
   "source": [
    "accuracy(nb_pred, dep_var)"
   ]
  }
 ],
 "metadata": {
  "kernelspec": {
   "display_name": "Python 3",
   "language": "python",
   "name": "python3"
  },
  "language_info": {
   "codemirror_mode": {
    "name": "ipython",
    "version": 3
   },
   "file_extension": ".py",
   "mimetype": "text/x-python",
   "name": "python",
   "nbconvert_exporter": "python",
   "pygments_lexer": "ipython3",
   "version": "3.7.4"
  }
 },
 "nbformat": 4,
 "nbformat_minor": 2
}
