{
 "cells": [
  {
   "cell_type": "markdown",
   "id": "1eb5d9a2",
   "metadata": {},
   "source": [
    "### 导入数据"
   ]
  },
  {
   "cell_type": "code",
   "execution_count": 1,
   "id": "e0cd72c8",
   "metadata": {},
   "outputs": [],
   "source": [
    "from pyspark.sql import SparkSession\n",
    "from pyspark.conf import SparkConf\n",
    "import os\n",
    "os.environ['PYSPARK_SUBMIT_ARGS'] = '--jars xgboost4j-spark_2.12-1.5.2.jar,xgboost4j_2.12-1.5.2.jar pyspark-shell'\n",
    "conf = SparkConf()\n",
    "conf.set(\"spark.driver.extraJavaOptions\", \"-Dio.netty.tryReflectionSetAccessible=true\")\n",
    "conf.set(\"spark.executor.extraJavaOptions\", \"-Dio.netty.tryReflectionSetAccessible=true\")\n",
    "spark = SparkSession.builder.config(conf=conf).getOrCreate()\n",
    "spark.conf.set('spark.sql.repl.eagerEval.enabled', True)"
   ]
  },
  {
   "cell_type": "code",
   "execution_count": 2,
   "id": "101f1411",
   "metadata": {},
   "outputs": [],
   "source": [
    "from pyspark.ml.wrapper import JavaPredictionModel"
   ]
  },
  {
   "cell_type": "code",
   "execution_count": 3,
   "id": "7bed10cb",
   "metadata": {},
   "outputs": [],
   "source": [
    "import findspark\n",
    "findspark.init()"
   ]
  },
  {
   "cell_type": "code",
   "execution_count": 4,
   "id": "f8958a3d",
   "metadata": {},
   "outputs": [],
   "source": [
    "spark.sparkContext.addPyFile(r\"D:\\spark\\sparkxgb.zip\")"
   ]
  },
  {
   "cell_type": "code",
   "execution_count": 5,
   "id": "3342a823",
   "metadata": {},
   "outputs": [],
   "source": [
    "from sklearn import datasets\n",
    "import pandas as pd\n",
    "import logging\n",
    "from pyspark.ml.evaluation import BinaryClassificationEvaluator\n",
    "from pyspark.ml.tuning import ParamGridBuilder, CrossValidator\n",
    "import pyspark.ml.tuning as tune\n",
    "from pyspark.ml import Transformer,Pipeline\n",
    "from pyspark.ml.classification import LogisticRegression,RandomForestClassifier\n",
    "from pyspark.ml.feature import VectorAssembler\n",
    "\n",
    "cancer=datasets.load_breast_cancer()\n",
    "X,y=cancer.data,cancer.target\n",
    "columns=['f1','f2','f3','f4','f5','f6','f7','f8','f9','f10','f11','f12','f13','f14','f15','f16','f17','f18','f19','f20','f21','f22','f23','f24','f25','f26','f27','f28','f29','f30']\n",
    "df=pd.concat([pd.DataFrame(X,columns= columns),pd.DataFrame(y,columns=['label'])],axis=1)"
   ]
  },
  {
   "cell_type": "code",
   "execution_count": 6,
   "id": "55340bc1",
   "metadata": {},
   "outputs": [],
   "source": [
    "spark_df  = spark.createDataFrame(df.values.tolist(), df.columns.tolist())"
   ]
  },
  {
   "cell_type": "code",
   "execution_count": 7,
   "id": "e03b8780",
   "metadata": {},
   "outputs": [
    {
     "name": "stdout",
     "output_type": "stream",
     "text": [
      "+-----+-----+-----+------+-------+-------+------+-------+------+-------+------+------+-----+-----+--------+-------+-------+-------+-------+--------+-----+-----+-----+------+------+------+------+------+------+-------+-----+\n",
      "|f1   |f2   |f3   |f4    |f5     |f6     |f7    |f8     |f9    |f10    |f11   |f12   |f13  |f14  |f15     |f16    |f17    |f18    |f19    |f20     |f21  |f22  |f23  |f24   |f25   |f26   |f27   |f28   |f29   |f30    |label|\n",
      "+-----+-----+-----+------+-------+-------+------+-------+------+-------+------+------+-----+-----+--------+-------+-------+-------+-------+--------+-----+-----+-----+------+------+------+------+------+------+-------+-----+\n",
      "|17.99|10.38|122.8|1001.0|0.1184 |0.2776 |0.3001|0.1471 |0.2419|0.07871|1.095 |0.9053|8.589|153.4|0.006399|0.04904|0.05373|0.01587|0.03003|0.006193|25.38|17.33|184.6|2019.0|0.1622|0.6656|0.7119|0.2654|0.4601|0.1189 |0.0  |\n",
      "|20.57|17.77|132.9|1326.0|0.08474|0.07864|0.0869|0.07017|0.1812|0.05667|0.5435|0.7339|3.398|74.08|0.005225|0.01308|0.0186 |0.0134 |0.01389|0.003532|24.99|23.41|158.8|1956.0|0.1238|0.1866|0.2416|0.186 |0.275 |0.08902|0.0  |\n",
      "|19.69|21.25|130.0|1203.0|0.1096 |0.1599 |0.1974|0.1279 |0.2069|0.05999|0.7456|0.7869|4.585|94.03|0.00615 |0.04006|0.03832|0.02058|0.0225 |0.004571|23.57|25.53|152.5|1709.0|0.1444|0.4245|0.4504|0.243 |0.3613|0.08758|0.0  |\n",
      "|11.42|20.38|77.58|386.1 |0.1425 |0.2839 |0.2414|0.1052 |0.2597|0.09744|0.4956|1.156 |3.445|27.23|0.00911 |0.07458|0.05661|0.01867|0.05963|0.009208|14.91|26.5 |98.87|567.7 |0.2098|0.8663|0.6869|0.2575|0.6638|0.173  |0.0  |\n",
      "|20.29|14.34|135.1|1297.0|0.1003 |0.1328 |0.198 |0.1043 |0.1809|0.05883|0.7572|0.7813|5.438|94.44|0.01149 |0.02461|0.05688|0.01885|0.01756|0.005115|22.54|16.67|152.2|1575.0|0.1374|0.205 |0.4   |0.1625|0.2364|0.07678|0.0  |\n",
      "+-----+-----+-----+------+-------+-------+------+-------+------+-------+------+------+-----+-----+--------+-------+-------+-------+-------+--------+-----+-----+-----+------+------+------+------+------+------+-------+-----+\n",
      "only showing top 5 rows\n",
      "\n"
     ]
    }
   ],
   "source": [
    "spark_df.show(5,truncate=False)"
   ]
  },
  {
   "cell_type": "markdown",
   "id": "38140228",
   "metadata": {},
   "source": [
    "### 特征向量化"
   ]
  },
  {
   "cell_type": "code",
   "execution_count": null,
   "id": "74fc6f81",
   "metadata": {},
   "outputs": [],
   "source": [
    "vecAssembler = VectorAssembler(inputCols=columns, outputCol=\"features\")"
   ]
  },
  {
   "cell_type": "markdown",
   "id": "dcf90ad9",
   "metadata": {},
   "source": [
    "### 建立pipeline"
   ]
  },
  {
   "cell_type": "code",
   "execution_count": null,
   "id": "a5a0f8ff",
   "metadata": {},
   "outputs": [],
   "source": [
    "pipeline = Pipeline(stages=[vecAssembler])\n",
    "pipelineFit = pipeline.fit(spark_df)"
   ]
  },
  {
   "cell_type": "markdown",
   "id": "4e805631",
   "metadata": {},
   "source": [
    "### 对数据集做转换，增加特征列"
   ]
  },
  {
   "cell_type": "code",
   "execution_count": null,
   "id": "c6fb0b5f",
   "metadata": {},
   "outputs": [],
   "source": [
    "dataset = pipelineFit.transform(spark_df)"
   ]
  },
  {
   "cell_type": "markdown",
   "id": "40036075",
   "metadata": {},
   "source": [
    "### 拆分训练与测试"
   ]
  },
  {
   "cell_type": "code",
   "execution_count": null,
   "id": "681070a0",
   "metadata": {},
   "outputs": [],
   "source": [
    "(trainingData, testData) = dataset.randomSplit([0.7, 0.3], 123)\n",
    "print(\"Training Dataset Count: \" + str(trainingData.count()))\n",
    "print(\"Test Dataset Count: \" + str(testData.count()))"
   ]
  },
  {
   "cell_type": "markdown",
   "id": "a66d4636",
   "metadata": {},
   "source": [
    "### 模型训练"
   ]
  },
  {
   "cell_type": "code",
   "execution_count": null,
   "id": "cbb2fef4",
   "metadata": {},
   "outputs": [],
   "source": [
    "# 模型训练\n",
    "lr = LogisticRegression(maxIter=20, regParam=0.3, elasticNetParam=0)\n",
    "lrModel = lr.fit(trainingData)"
   ]
  },
  {
   "cell_type": "markdown",
   "id": "3098ddca",
   "metadata": {},
   "source": [
    "### 模型预测"
   ]
  },
  {
   "cell_type": "code",
   "execution_count": null,
   "id": "13c56498",
   "metadata": {},
   "outputs": [],
   "source": [
    "# 模型预测\n",
    "prediction = lrModel.transform(testData)"
   ]
  },
  {
   "cell_type": "markdown",
   "id": "56f32d55",
   "metadata": {},
   "source": [
    "### 模型效果评估"
   ]
  },
  {
   "cell_type": "code",
   "execution_count": null,
   "id": "d7492c7b",
   "metadata": {},
   "outputs": [],
   "source": [
    "evaluator = BinaryClassificationEvaluator(rawPredictionCol='probability')\n",
    "print('areaUnderROC:', evaluator.evaluate(prediction, {evaluator.metricName:'areaUnderROC'}))\n",
    "print('areaUnderPR:', evaluator.evaluate(prediction, {evaluator.metricName: 'areaUnderPR'}))\n",
    "# 计算准确率\n",
    "print('accuracy:',prediction.filter(prediction.label == prediction.prediction).count()/prediction.count())\n"
   ]
  },
  {
   "cell_type": "code",
   "execution_count": null,
   "id": "edcdb264",
   "metadata": {},
   "outputs": [],
   "source": []
  },
  {
   "cell_type": "markdown",
   "id": "411565a3",
   "metadata": {},
   "source": [
    "### 进一步调参"
   ]
  },
  {
   "cell_type": "code",
   "execution_count": null,
   "id": "efe93684",
   "metadata": {},
   "outputs": [],
   "source": [
    "# Create ParamGrid for Cross Validation\n",
    "grid = (ParamGridBuilder()\n",
    "             .addGrid(lr.regParam, [0.1,0.2,0.25,0.3,0.35,0.4, 0.5]) # regularization parameter\n",
    "             .addGrid(lr.elasticNetParam, [0.0, 0.1, 0.2]) # Elastic Net Parameter (Ridge = 0)\n",
    "             .build())\n",
    "evaluator = BinaryClassificationEvaluator(rawPredictionCol='probability',metricName='areaUnderROC')\n",
    "# Create 3-fold CrossValidator\n",
    "cv = CrossValidator(estimator=lr,\n",
    "                    estimatorParamMaps=grid,\n",
    "                    evaluator=evaluator,\n",
    "                    numFolds=5)\n",
    "cvModel = cv.fit(trainingData)"
   ]
  },
  {
   "cell_type": "code",
   "execution_count": null,
   "id": "8ff78d53",
   "metadata": {},
   "outputs": [],
   "source": []
  },
  {
   "cell_type": "markdown",
   "id": "419289c3",
   "metadata": {},
   "source": [
    "### 输出参数"
   ]
  },
  {
   "cell_type": "code",
   "execution_count": null,
   "id": "2301f70f",
   "metadata": {},
   "outputs": [],
   "source": [
    "results = [\n",
    "    ([\n",
    "        {key.name: paramValue} for key, paramValue in zip(params.keys(), params.values())\n",
    "    ], metric) for params, metric in zip(cvModel.getEstimatorParamMaps(), cvModel.avgMetrics)\n",
    "]\n",
    " \n",
    "sorted(results, key=lambda el:el[1], reverse=True)[0]"
   ]
  },
  {
   "cell_type": "markdown",
   "id": "36f57b6e",
   "metadata": {},
   "source": [
    "### 运用上述参数再次训练"
   ]
  },
  {
   "cell_type": "code",
   "execution_count": null,
   "id": "e19a58cc",
   "metadata": {},
   "outputs": [],
   "source": [
    "lr_new = LogisticRegression(maxIter=20, regParam=0.1, elasticNetParam=0)\n",
    "lrModel_new = lr_new.fit(trainingData)"
   ]
  },
  {
   "cell_type": "markdown",
   "id": "29dd0665",
   "metadata": {},
   "source": [
    "### 模型预测与效果评估"
   ]
  },
  {
   "cell_type": "code",
   "execution_count": null,
   "id": "382753cb",
   "metadata": {},
   "outputs": [],
   "source": [
    "# 模型预测\n",
    "prediction_new = lrModel_new.transform(testData)\n",
    "print('areaUnderROC:', evaluator.evaluate(prediction_new, {evaluator.metricName:'areaUnderROC'}))\n",
    "print('areaUnderPR:', evaluator.evaluate(prediction_new, {evaluator.metricName: 'areaUnderPR'}))\n",
    "# 计算准确率\n",
    "print('accuracy:',prediction_new.filter(prediction_new.label == prediction_new.prediction).count()/prediction_new.count())"
   ]
  },
  {
   "cell_type": "code",
   "execution_count": null,
   "id": "07c4423d",
   "metadata": {},
   "outputs": [],
   "source": []
  },
  {
   "cell_type": "markdown",
   "id": "dce4e901",
   "metadata": {},
   "source": [
    "### 运用随机森林"
   ]
  },
  {
   "cell_type": "markdown",
   "id": "ac85e114",
   "metadata": {},
   "source": [
    "#### 设置基本参数与网格搜索"
   ]
  },
  {
   "cell_type": "code",
   "execution_count": null,
   "id": "e8e097e8",
   "metadata": {},
   "outputs": [],
   "source": [
    "rf = RandomForestClassifier(numTrees=3, maxDepth=10, maxBins=30, labelCol=\"label\", seed=123)\n",
    "grid = (ParamGridBuilder().addGrid(rf.numTrees, [1, 3, 5,10,20,30,40,50,60,70,80,90,100])\n",
    "                          .addGrid(rf.maxDepth, [3, 5, 7, 10])\n",
    "                          .addGrid(rf.maxBins, [20, 30, 40])\n",
    "                          .build())\n",
    "evaluator = BinaryClassificationEvaluator(rawPredictionCol='probability',metricName='areaUnderROC')\n",
    "cv = CrossValidator(estimator=rf,\n",
    "                    evaluator=evaluator,\n",
    "                    estimatorParamMaps=grid,\n",
    "                    numFolds=5)\n",
    "cvModel_rf = cv.fit(trainingData)\n",
    " "
   ]
  },
  {
   "cell_type": "markdown",
   "id": "cdf9d722",
   "metadata": {},
   "source": [
    "#### 评估指标"
   ]
  },
  {
   "cell_type": "code",
   "execution_count": null,
   "id": "7344c818",
   "metadata": {},
   "outputs": [],
   "source": [
    "# 模型预测 ROC\n",
    "predictions = cvModel_rf.transform(testData)\n",
    "evaluator.evaluate(predictions)"
   ]
  },
  {
   "cell_type": "code",
   "execution_count": null,
   "id": "7d87a520",
   "metadata": {},
   "outputs": [],
   "source": [
    "print('areaUnderROC:', evaluator.evaluate(predictions, {evaluator.metricName:'areaUnderROC'}))\n",
    "print('areaUnderPR:', evaluator.evaluate(predictions, {evaluator.metricName: 'areaUnderPR'}))\n",
    "# 计算准确率\n",
    "print('accuracy:',predictions.filter(predictions.label == predictions.prediction).count()/predictions.count())"
   ]
  },
  {
   "cell_type": "markdown",
   "id": "e7d97e9c",
   "metadata": {},
   "source": [
    "#### 获得最有参数"
   ]
  },
  {
   "cell_type": "code",
   "execution_count": null,
   "id": "d63634e5",
   "metadata": {},
   "outputs": [],
   "source": [
    "results = [\n",
    "    ([\n",
    "        {key.name: paramValue} for key, paramValue in zip(params.keys(), params.values())\n",
    "    ], metric) for params, metric in zip(cvModel_rf.getEstimatorParamMaps(), cvModel_rf.avgMetrics)\n",
    "]\n",
    " \n",
    "sorted(results, key=lambda el:el[1], reverse=True)[0]\n"
   ]
  },
  {
   "cell_type": "code",
   "execution_count": null,
   "id": "b49544fc",
   "metadata": {},
   "outputs": [],
   "source": []
  },
  {
   "cell_type": "markdown",
   "id": "87ea729a",
   "metadata": {},
   "source": [
    "#### 重新训练"
   ]
  },
  {
   "cell_type": "code",
   "execution_count": null,
   "id": "3f17be2f",
   "metadata": {},
   "outputs": [],
   "source": [
    "rf_new = RandomForestClassifier(numTrees=60, maxDepth=7, maxBins=30, labelCol=\"label\", seed=123)\n",
    "rfModel_new = rf_new.fit(trainingData)"
   ]
  },
  {
   "cell_type": "code",
   "execution_count": null,
   "id": "210e0b21",
   "metadata": {},
   "outputs": [],
   "source": []
  },
  {
   "cell_type": "code",
   "execution_count": null,
   "id": "c4cf0751",
   "metadata": {},
   "outputs": [],
   "source": [
    "# 模型预测\n",
    "rf_prediction_new = rfModel_new.transform(testData)\n",
    "print('areaUnderROC:', evaluator.evaluate(rf_prediction_new, {evaluator.metricName:'areaUnderROC'}))\n",
    "print('areaUnderPR:', evaluator.evaluate(rf_prediction_new, {evaluator.metricName: 'areaUnderPR'}))\n",
    "# 计算准确率\n",
    "print('accuracy:',rf_prediction_new.filter(rf_prediction_new.label == rf_prediction_new.prediction).count()/rf_prediction_new.count())"
   ]
  },
  {
   "cell_type": "markdown",
   "id": "c9115d48",
   "metadata": {},
   "source": [
    "#### 混淆矩阵"
   ]
  },
  {
   "cell_type": "code",
   "execution_count": null,
   "id": "46d4142a",
   "metadata": {},
   "outputs": [],
   "source": [
    "tp = rf_prediction_new[(rf_prediction_new.label == 1) & (rf_prediction_new.prediction == 1)].count()\n",
    "tn = rf_prediction_new[(rf_prediction_new.label == 0) & (rf_prediction_new.prediction == 0)].count()\n",
    "fp = rf_prediction_new[(rf_prediction_new.label == 0) & (rf_prediction_new.prediction == 1)].count()\n",
    "fn = rf_prediction_new[(rf_prediction_new.label == 1) & (rf_prediction_new.prediction == 0)].count()\n",
    "print ('accuracy is : %f'%((tp+tn)/(tp+tn+fp+fn))) #准确率\n",
    "print ('recall is : %f'%((tp)/(tp+fn))) #召回率\n",
    "print ('precision is : %f'%((tp)/(tp+fp))) #精确率"
   ]
  },
  {
   "cell_type": "code",
   "execution_count": null,
   "id": "524a8fd6",
   "metadata": {},
   "outputs": [],
   "source": []
  },
  {
   "cell_type": "code",
   "execution_count": null,
   "id": "f806fb03",
   "metadata": {},
   "outputs": [],
   "source": [
    "rf_prediction_new.printSchema()"
   ]
  },
  {
   "cell_type": "code",
   "execution_count": null,
   "id": "f9f088ff",
   "metadata": {},
   "outputs": [],
   "source": [
    "rf_prediction_new.show(5,truncate=False)"
   ]
  },
  {
   "cell_type": "code",
   "execution_count": null,
   "id": "4d45ef2a",
   "metadata": {},
   "outputs": [],
   "source": []
  },
  {
   "cell_type": "markdown",
   "id": "1a03e9d2",
   "metadata": {},
   "source": [
    "### XGBoostClassifier"
   ]
  },
  {
   "cell_type": "markdown",
   "id": "8d39011d",
   "metadata": {},
   "source": [
    "#### 因为无法导入sparkxgboost，暂时无法实现"
   ]
  },
  {
   "cell_type": "markdown",
   "id": "32edb701",
   "metadata": {},
   "source": [
    "#### 建立数据集"
   ]
  },
  {
   "cell_type": "code",
   "execution_count": null,
   "id": "f850e67b",
   "metadata": {},
   "outputs": [],
   "source": [
    "spark_df  = spark.createDataFrame(df.values.tolist(), df.columns.tolist())"
   ]
  },
  {
   "cell_type": "markdown",
   "id": "3f62070d",
   "metadata": {},
   "source": [
    "#### 建立特征索引"
   ]
  },
  {
   "cell_type": "code",
   "execution_count": null,
   "id": "99a1c837",
   "metadata": {},
   "outputs": [],
   "source": [
    "vecAssembler = VectorAssembler(inputCols=columns, outputCol=\"features\")"
   ]
  },
  {
   "cell_type": "markdown",
   "id": "4dfb5752",
   "metadata": {},
   "source": [
    "#### 创建管道命令"
   ]
  },
  {
   "cell_type": "code",
   "execution_count": null,
   "id": "3e2af983",
   "metadata": {},
   "outputs": [],
   "source": [
    "pipeline = Pipeline(stages=[vecAssembler])\n",
    "pipelineFit = pipeline.fit(spark_df)\n",
    "dataset = pipelineFit.transform(spark_df)"
   ]
  },
  {
   "cell_type": "markdown",
   "id": "09212939",
   "metadata": {},
   "source": [
    "#### 设置训练与测试集"
   ]
  },
  {
   "cell_type": "code",
   "execution_count": null,
   "id": "e7b0a3ec",
   "metadata": {},
   "outputs": [],
   "source": [
    "(trainingData, testData) = dataset.randomSplit([0.7, 0.3], 123)\n",
    "print(\"Training Dataset Count: \" + str(trainingData.count()))\n",
    "print(\"Test Dataset Count: \" + str(testData.count()))"
   ]
  },
  {
   "cell_type": "markdown",
   "id": "5b8be2ed",
   "metadata": {},
   "source": [
    "#### 模型训练"
   ]
  },
  {
   "cell_type": "code",
   "execution_count": null,
   "id": "59310de8",
   "metadata": {},
   "outputs": [],
   "source": []
  },
  {
   "cell_type": "code",
   "execution_count": null,
   "id": "a1f64728",
   "metadata": {},
   "outputs": [],
   "source": []
  },
  {
   "cell_type": "code",
   "execution_count": null,
   "id": "6b5c3f7c",
   "metadata": {},
   "outputs": [],
   "source": [
    "\n",
    "# 创建模型\n",
    "xgb = XGBoostClassifier(featuresCol = 'features', labelCol = 'label',predictionCol='prediction',missing=0.0,numRound=50,numWorkers=10)\n",
    "preModel = xgb.fit(trainingData)"
   ]
  },
  {
   "cell_type": "code",
   "execution_count": null,
   "id": "fd801e75",
   "metadata": {},
   "outputs": [],
   "source": [
    "out1 = preModel.transform(testData)"
   ]
  }
 ],
 "metadata": {
  "kernelspec": {
   "display_name": "Python 3",
   "language": "python",
   "name": "python3"
  },
  "language_info": {
   "codemirror_mode": {
    "name": "ipython",
    "version": 3
   },
   "file_extension": ".py",
   "mimetype": "text/x-python",
   "name": "python",
   "nbconvert_exporter": "python",
   "pygments_lexer": "ipython3",
   "version": "3.7.6"
  },
  "toc": {
   "base_numbering": 1,
   "nav_menu": {},
   "number_sections": true,
   "sideBar": true,
   "skip_h1_title": false,
   "title_cell": "Table of Contents",
   "title_sidebar": "Contents",
   "toc_cell": false,
   "toc_position": {
    "height": "calc(100% - 180px)",
    "left": "10px",
    "top": "150px",
    "width": "236px"
   },
   "toc_section_display": true,
   "toc_window_display": true
  }
 },
 "nbformat": 4,
 "nbformat_minor": 5
}
