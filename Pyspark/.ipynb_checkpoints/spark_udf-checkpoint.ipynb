{
 "cells": [
  {
   "cell_type": "code",
   "execution_count": 1,
   "id": "bcad32ce",
   "metadata": {},
   "outputs": [],
   "source": [
    "from pyspark.sql import SparkSession\n",
    "from pyspark.conf import SparkConf\n",
    "conf = SparkConf()\n",
    "conf.set(\"spark.driver.extraJavaOptions\", \"-Dio.netty.tryReflectionSetAccessible=true\")\n",
    "conf.set(\"spark.executor.extraJavaOptions\", \"-Dio.netty.tryReflectionSetAccessible=true\")\n",
    "spark = SparkSession.builder.config(conf=conf).getOrCreate()"
   ]
  },
  {
   "cell_type": "code",
   "execution_count": 6,
   "id": "57819e1a",
   "metadata": {},
   "outputs": [],
   "source": [
    "from pyspark.sql.types import *\n",
    "from pyspark.sql.functions import col, count, rand, collect_list, explode, struct, count, lit\n",
    "from pyspark.sql.functions import pandas_udf, PandasUDFType\n",
    "from pyspark.sql.functions import udf, log"
   ]
  },
  {
   "cell_type": "code",
   "execution_count": 3,
   "id": "eb3f2aa8",
   "metadata": {},
   "outputs": [],
   "source": [
    "df = spark.range(0, 10 * 1000 * 1000).withColumn('id', (col('id') / 10000).cast('integer')).withColumn('v', rand())"
   ]
  },
  {
   "cell_type": "code",
   "execution_count": 4,
   "id": "d2189ba6",
   "metadata": {},
   "outputs": [
    {
     "data": {
      "text/plain": [
       "10000000"
      ]
     },
     "execution_count": 4,
     "metadata": {},
     "output_type": "execute_result"
    }
   ],
   "source": [
    "\n",
    "df.cache()\n",
    "df.count()"
   ]
  },
  {
   "cell_type": "code",
   "execution_count": null,
   "id": "1402c5ea",
   "metadata": {},
   "outputs": [],
   "source": []
  },
  {
   "cell_type": "code",
   "execution_count": 7,
   "id": "85bb947c",
   "metadata": {},
   "outputs": [],
   "source": [
    "@udf('double')\n",
    "def plus_one(v):\n",
    "    return v + 1"
   ]
  },
  {
   "cell_type": "code",
   "execution_count": 9,
   "id": "c2d7b478",
   "metadata": {
    "scrolled": false
   },
   "outputs": [
    {
     "name": "stdout",
     "output_type": "stream",
     "text": [
      "Wall time: 0 ns\n",
      "+--------+\n",
      "|count(v)|\n",
      "+--------+\n",
      "|10000000|\n",
      "+--------+\n",
      "\n"
     ]
    }
   ],
   "source": [
    "%time\n",
    "df.withColumn('v', plus_one(df.v)).agg(count(col('v'))).show()"
   ]
  },
  {
   "cell_type": "code",
   "execution_count": 11,
   "id": "5810db11",
   "metadata": {
    "scrolled": true
   },
   "outputs": [
    {
     "name": "stdout",
     "output_type": "stream",
     "text": [
      "+---+------------------+\n",
      "| id|                 v|\n",
      "+---+------------------+\n",
      "|  0|1.0922988208363424|\n",
      "|  0|1.6769451301868872|\n",
      "|  0|1.3104433460112879|\n",
      "|  0|1.2508636169081047|\n",
      "|  0|1.9313903958594187|\n",
      "|  0| 1.183732121648227|\n",
      "|  0| 1.495188968500107|\n",
      "|  0|1.5238617573339335|\n",
      "|  0| 1.712705269168485|\n",
      "|  0|1.5013970660553224|\n",
      "|  0| 1.781912740230034|\n",
      "|  0|1.2468175949410767|\n",
      "|  0|1.7299890196075802|\n",
      "|  0|1.5028392001569828|\n",
      "|  0|1.5388136073133867|\n",
      "|  0|1.2700669038386945|\n",
      "|  0|1.8643552209460785|\n",
      "|  0| 1.133052061707056|\n",
      "|  0|1.5154161158068395|\n",
      "|  0|1.7423036614842236|\n",
      "+---+------------------+\n",
      "only showing top 20 rows\n",
      "\n"
     ]
    }
   ],
   "source": [
    "df.withColumn('v', plus_one(df.v)).show()"
   ]
  },
  {
   "cell_type": "code",
   "execution_count": null,
   "id": "7f5373c6",
   "metadata": {},
   "outputs": [],
   "source": []
  },
  {
   "cell_type": "code",
   "execution_count": 12,
   "id": "ffa78e19",
   "metadata": {},
   "outputs": [],
   "source": [
    "import pandas as pd\n",
    "\n",
    "@pandas_udf(\"double\")\n",
    "def pandas_plus_one(v: pd.Series) -> pd.Series:\n",
    "    return v + 1"
   ]
  },
  {
   "cell_type": "code",
   "execution_count": 13,
   "id": "55e17feb",
   "metadata": {},
   "outputs": [
    {
     "name": "stdout",
     "output_type": "stream",
     "text": [
      "+--------+\n",
      "|count(v)|\n",
      "+--------+\n",
      "|10000000|\n",
      "+--------+\n",
      "\n",
      "+--------+\n",
      "|count(v)|\n",
      "+--------+\n",
      "|10000000|\n",
      "+--------+\n",
      "\n",
      "+--------+\n",
      "|count(v)|\n",
      "+--------+\n",
      "|10000000|\n",
      "+--------+\n",
      "\n",
      "+--------+\n",
      "|count(v)|\n",
      "+--------+\n",
      "|10000000|\n",
      "+--------+\n",
      "\n",
      "+--------+\n",
      "|count(v)|\n",
      "+--------+\n",
      "|10000000|\n",
      "+--------+\n",
      "\n",
      "+--------+\n",
      "|count(v)|\n",
      "+--------+\n",
      "|10000000|\n",
      "+--------+\n",
      "\n",
      "+--------+\n",
      "|count(v)|\n",
      "+--------+\n",
      "|10000000|\n",
      "+--------+\n",
      "\n",
      "+--------+\n",
      "|count(v)|\n",
      "+--------+\n",
      "|10000000|\n",
      "+--------+\n",
      "\n",
      "3.31 s ± 69 ms per loop (mean ± std. dev. of 7 runs, 1 loop each)\n"
     ]
    }
   ],
   "source": [
    "%timeit df.withColumn('v', pandas_plus_one(df.v)).agg(count(col('v'))).show()"
   ]
  },
  {
   "cell_type": "code",
   "execution_count": 14,
   "id": "936ebe8f",
   "metadata": {
    "scrolled": false
   },
   "outputs": [
    {
     "name": "stdout",
     "output_type": "stream",
     "text": [
      "+---+-------------------+----------------------+\n",
      "| id|                  v|cumulative_probability|\n",
      "+---+-------------------+----------------------+\n",
      "|  0|0.09229882083634233|    0.5367696873956587|\n",
      "|  0| 0.6769451301868872|    0.7507796157042829|\n",
      "|  0|0.31044334601128776|    0.6218880820707676|\n",
      "|  0|0.25086361690810466|    0.5990402227187244|\n",
      "|  0| 0.9313903958594187|    0.8241741714617743|\n",
      "|  0|0.18373212164822705|    0.5728881957857559|\n",
      "|  0|0.49518896850010696|    0.6897666315801746|\n",
      "|  0| 0.5238617573339335|    0.6998126522807955|\n",
      "|  0|  0.712705269168485|    0.7619859223773182|\n",
      "|  0| 0.5013970660553224|     0.691954147881658|\n",
      "|  0| 0.7819127402300341|    0.7828670714230717|\n",
      "|  0| 0.2468175949410767|      0.59747530355293|\n",
      "|  0| 0.7299890196075801|    0.7673015517767563|\n",
      "|  0| 0.5028392001569828|    0.6924613346944156|\n",
      "|  0| 0.5388136073133867|    0.7049922632551755|\n",
      "|  0|0.27006690383869447|    0.6064456083742223|\n",
      "|  0| 0.8643552209460785|    0.8063036081285964|\n",
      "|  0|0.13305206170705608|    0.5529238964080189|\n",
      "|  0| 0.5154161158068395|    0.6968688633671312|\n",
      "|  0| 0.7423036614842236|    0.7710483130478875|\n",
      "+---+-------------------+----------------------+\n",
      "only showing top 20 rows\n",
      "\n",
      "+---+-------------------+----------------------+\n",
      "| id|                  v|cumulative_probability|\n",
      "+---+-------------------+----------------------+\n",
      "|  0|0.09229882083634233|    0.5367696873956587|\n",
      "|  0| 0.6769451301868872|    0.7507796157042829|\n",
      "|  0|0.31044334601128776|    0.6218880820707676|\n",
      "|  0|0.25086361690810466|    0.5990402227187244|\n",
      "|  0| 0.9313903958594187|    0.8241741714617743|\n",
      "|  0|0.18373212164822705|    0.5728881957857559|\n",
      "|  0|0.49518896850010696|    0.6897666315801746|\n",
      "|  0| 0.5238617573339335|    0.6998126522807955|\n",
      "|  0|  0.712705269168485|    0.7619859223773182|\n",
      "|  0| 0.5013970660553224|     0.691954147881658|\n",
      "|  0| 0.7819127402300341|    0.7828670714230717|\n",
      "|  0| 0.2468175949410767|      0.59747530355293|\n",
      "|  0| 0.7299890196075801|    0.7673015517767563|\n",
      "|  0| 0.5028392001569828|    0.6924613346944156|\n",
      "|  0| 0.5388136073133867|    0.7049922632551755|\n",
      "|  0|0.27006690383869447|    0.6064456083742223|\n",
      "|  0| 0.8643552209460785|    0.8063036081285964|\n",
      "|  0|0.13305206170705608|    0.5529238964080189|\n",
      "|  0| 0.5154161158068395|    0.6968688633671312|\n",
      "|  0| 0.7423036614842236|    0.7710483130478875|\n",
      "+---+-------------------+----------------------+\n",
      "only showing top 20 rows\n",
      "\n",
      "+---+-------------------+----------------------+\n",
      "| id|                  v|cumulative_probability|\n",
      "+---+-------------------+----------------------+\n",
      "|  0|0.09229882083634233|    0.5367696873956587|\n",
      "|  0| 0.6769451301868872|    0.7507796157042829|\n",
      "|  0|0.31044334601128776|    0.6218880820707676|\n",
      "|  0|0.25086361690810466|    0.5990402227187244|\n",
      "|  0| 0.9313903958594187|    0.8241741714617743|\n",
      "|  0|0.18373212164822705|    0.5728881957857559|\n",
      "|  0|0.49518896850010696|    0.6897666315801746|\n",
      "|  0| 0.5238617573339335|    0.6998126522807955|\n",
      "|  0|  0.712705269168485|    0.7619859223773182|\n",
      "|  0| 0.5013970660553224|     0.691954147881658|\n",
      "|  0| 0.7819127402300341|    0.7828670714230717|\n",
      "|  0| 0.2468175949410767|      0.59747530355293|\n",
      "|  0| 0.7299890196075801|    0.7673015517767563|\n",
      "|  0| 0.5028392001569828|    0.6924613346944156|\n",
      "|  0| 0.5388136073133867|    0.7049922632551755|\n",
      "|  0|0.27006690383869447|    0.6064456083742223|\n",
      "|  0| 0.8643552209460785|    0.8063036081285964|\n",
      "|  0|0.13305206170705608|    0.5529238964080189|\n",
      "|  0| 0.5154161158068395|    0.6968688633671312|\n",
      "|  0| 0.7423036614842236|    0.7710483130478875|\n",
      "+---+-------------------+----------------------+\n",
      "only showing top 20 rows\n",
      "\n",
      "+---+-------------------+----------------------+\n",
      "| id|                  v|cumulative_probability|\n",
      "+---+-------------------+----------------------+\n",
      "|  0|0.09229882083634233|    0.5367696873956587|\n",
      "|  0| 0.6769451301868872|    0.7507796157042829|\n",
      "|  0|0.31044334601128776|    0.6218880820707676|\n",
      "|  0|0.25086361690810466|    0.5990402227187244|\n",
      "|  0| 0.9313903958594187|    0.8241741714617743|\n",
      "|  0|0.18373212164822705|    0.5728881957857559|\n",
      "|  0|0.49518896850010696|    0.6897666315801746|\n",
      "|  0| 0.5238617573339335|    0.6998126522807955|\n",
      "|  0|  0.712705269168485|    0.7619859223773182|\n",
      "|  0| 0.5013970660553224|     0.691954147881658|\n",
      "|  0| 0.7819127402300341|    0.7828670714230717|\n",
      "|  0| 0.2468175949410767|      0.59747530355293|\n",
      "|  0| 0.7299890196075801|    0.7673015517767563|\n",
      "|  0| 0.5028392001569828|    0.6924613346944156|\n",
      "|  0| 0.5388136073133867|    0.7049922632551755|\n",
      "|  0|0.27006690383869447|    0.6064456083742223|\n",
      "|  0| 0.8643552209460785|    0.8063036081285964|\n",
      "|  0|0.13305206170705608|    0.5529238964080189|\n",
      "|  0| 0.5154161158068395|    0.6968688633671312|\n",
      "|  0| 0.7423036614842236|    0.7710483130478875|\n",
      "+---+-------------------+----------------------+\n",
      "only showing top 20 rows\n",
      "\n",
      "+---+-------------------+----------------------+\n",
      "| id|                  v|cumulative_probability|\n",
      "+---+-------------------+----------------------+\n",
      "|  0|0.09229882083634233|    0.5367696873956587|\n",
      "|  0| 0.6769451301868872|    0.7507796157042829|\n",
      "|  0|0.31044334601128776|    0.6218880820707676|\n",
      "|  0|0.25086361690810466|    0.5990402227187244|\n",
      "|  0| 0.9313903958594187|    0.8241741714617743|\n",
      "|  0|0.18373212164822705|    0.5728881957857559|\n",
      "|  0|0.49518896850010696|    0.6897666315801746|\n",
      "|  0| 0.5238617573339335|    0.6998126522807955|\n",
      "|  0|  0.712705269168485|    0.7619859223773182|\n",
      "|  0| 0.5013970660553224|     0.691954147881658|\n",
      "|  0| 0.7819127402300341|    0.7828670714230717|\n",
      "|  0| 0.2468175949410767|      0.59747530355293|\n",
      "|  0| 0.7299890196075801|    0.7673015517767563|\n",
      "|  0| 0.5028392001569828|    0.6924613346944156|\n",
      "|  0| 0.5388136073133867|    0.7049922632551755|\n",
      "|  0|0.27006690383869447|    0.6064456083742223|\n",
      "|  0| 0.8643552209460785|    0.8063036081285964|\n",
      "|  0|0.13305206170705608|    0.5529238964080189|\n",
      "|  0| 0.5154161158068395|    0.6968688633671312|\n",
      "|  0| 0.7423036614842236|    0.7710483130478875|\n",
      "+---+-------------------+----------------------+\n",
      "only showing top 20 rows\n",
      "\n",
      "+---+-------------------+----------------------+\n",
      "| id|                  v|cumulative_probability|\n",
      "+---+-------------------+----------------------+\n",
      "|  0|0.09229882083634233|    0.5367696873956587|\n",
      "|  0| 0.6769451301868872|    0.7507796157042829|\n",
      "|  0|0.31044334601128776|    0.6218880820707676|\n",
      "|  0|0.25086361690810466|    0.5990402227187244|\n",
      "|  0| 0.9313903958594187|    0.8241741714617743|\n",
      "|  0|0.18373212164822705|    0.5728881957857559|\n",
      "|  0|0.49518896850010696|    0.6897666315801746|\n",
      "|  0| 0.5238617573339335|    0.6998126522807955|\n",
      "|  0|  0.712705269168485|    0.7619859223773182|\n",
      "|  0| 0.5013970660553224|     0.691954147881658|\n",
      "|  0| 0.7819127402300341|    0.7828670714230717|\n",
      "|  0| 0.2468175949410767|      0.59747530355293|\n",
      "|  0| 0.7299890196075801|    0.7673015517767563|\n",
      "|  0| 0.5028392001569828|    0.6924613346944156|\n",
      "|  0| 0.5388136073133867|    0.7049922632551755|\n",
      "|  0|0.27006690383869447|    0.6064456083742223|\n",
      "|  0| 0.8643552209460785|    0.8063036081285964|\n",
      "|  0|0.13305206170705608|    0.5529238964080189|\n",
      "|  0| 0.5154161158068395|    0.6968688633671312|\n",
      "|  0| 0.7423036614842236|    0.7710483130478875|\n",
      "+---+-------------------+----------------------+\n",
      "only showing top 20 rows\n",
      "\n",
      "+---+-------------------+----------------------+\n",
      "| id|                  v|cumulative_probability|\n",
      "+---+-------------------+----------------------+\n",
      "|  0|0.09229882083634233|    0.5367696873956587|\n",
      "|  0| 0.6769451301868872|    0.7507796157042829|\n",
      "|  0|0.31044334601128776|    0.6218880820707676|\n",
      "|  0|0.25086361690810466|    0.5990402227187244|\n",
      "|  0| 0.9313903958594187|    0.8241741714617743|\n",
      "|  0|0.18373212164822705|    0.5728881957857559|\n",
      "|  0|0.49518896850010696|    0.6897666315801746|\n",
      "|  0| 0.5238617573339335|    0.6998126522807955|\n",
      "|  0|  0.712705269168485|    0.7619859223773182|\n",
      "|  0| 0.5013970660553224|     0.691954147881658|\n",
      "|  0| 0.7819127402300341|    0.7828670714230717|\n",
      "|  0| 0.2468175949410767|      0.59747530355293|\n",
      "|  0| 0.7299890196075801|    0.7673015517767563|\n",
      "|  0| 0.5028392001569828|    0.6924613346944156|\n",
      "|  0| 0.5388136073133867|    0.7049922632551755|\n",
      "|  0|0.27006690383869447|    0.6064456083742223|\n",
      "|  0| 0.8643552209460785|    0.8063036081285964|\n",
      "|  0|0.13305206170705608|    0.5529238964080189|\n",
      "|  0| 0.5154161158068395|    0.6968688633671312|\n",
      "|  0| 0.7423036614842236|    0.7710483130478875|\n",
      "+---+-------------------+----------------------+\n",
      "only showing top 20 rows\n",
      "\n"
     ]
    },
    {
     "name": "stdout",
     "output_type": "stream",
     "text": [
      "+---+-------------------+----------------------+\n",
      "| id|                  v|cumulative_probability|\n",
      "+---+-------------------+----------------------+\n",
      "|  0|0.09229882083634233|    0.5367696873956587|\n",
      "|  0| 0.6769451301868872|    0.7507796157042829|\n",
      "|  0|0.31044334601128776|    0.6218880820707676|\n",
      "|  0|0.25086361690810466|    0.5990402227187244|\n",
      "|  0| 0.9313903958594187|    0.8241741714617743|\n",
      "|  0|0.18373212164822705|    0.5728881957857559|\n",
      "|  0|0.49518896850010696|    0.6897666315801746|\n",
      "|  0| 0.5238617573339335|    0.6998126522807955|\n",
      "|  0|  0.712705269168485|    0.7619859223773182|\n",
      "|  0| 0.5013970660553224|     0.691954147881658|\n",
      "|  0| 0.7819127402300341|    0.7828670714230717|\n",
      "|  0| 0.2468175949410767|      0.59747530355293|\n",
      "|  0| 0.7299890196075801|    0.7673015517767563|\n",
      "|  0| 0.5028392001569828|    0.6924613346944156|\n",
      "|  0| 0.5388136073133867|    0.7049922632551755|\n",
      "|  0|0.27006690383869447|    0.6064456083742223|\n",
      "|  0| 0.8643552209460785|    0.8063036081285964|\n",
      "|  0|0.13305206170705608|    0.5529238964080189|\n",
      "|  0| 0.5154161158068395|    0.6968688633671312|\n",
      "|  0| 0.7423036614842236|    0.7710483130478875|\n",
      "+---+-------------------+----------------------+\n",
      "only showing top 20 rows\n",
      "\n",
      "1.43 s ± 21.2 ms per loop (mean ± std. dev. of 7 runs, 1 loop each)\n"
     ]
    }
   ],
   "source": [
    "from scipy import stats\n",
    "\n",
    "@udf('double')\n",
    "def cdf(v):\n",
    "    return float(stats.norm.cdf(v))\n",
    "\n",
    "%timeit df.withColumn('cumulative_probability', cdf(df.v)).show()"
   ]
  },
  {
   "cell_type": "code",
   "execution_count": null,
   "id": "011ac8bf",
   "metadata": {},
   "outputs": [],
   "source": []
  },
  {
   "cell_type": "code",
   "execution_count": 16,
   "id": "8700793e",
   "metadata": {},
   "outputs": [
    {
     "ename": "KeyboardInterrupt",
     "evalue": "",
     "output_type": "error",
     "traceback": [
      "\u001b[1;31m---------------------------------------------------------------------------\u001b[0m",
      "\u001b[1;31mKeyboardInterrupt\u001b[0m                         Traceback (most recent call last)",
      "\u001b[1;32m<ipython-input-16-a453e5c8e689>\u001b[0m in \u001b[0;36m<module>\u001b[1;34m\u001b[0m\n\u001b[0;32m      6\u001b[0m     \u001b[1;32mreturn\u001b[0m \u001b[1;33m[\u001b[0m\u001b[0mRow\u001b[0m\u001b[1;33m(\u001b[0m\u001b[0mid\u001b[0m\u001b[1;33m=\u001b[0m\u001b[0mrows\u001b[0m\u001b[1;33m[\u001b[0m\u001b[0mi\u001b[0m\u001b[1;33m]\u001b[0m\u001b[1;33m[\u001b[0m\u001b[1;34m'id'\u001b[0m\u001b[1;33m]\u001b[0m\u001b[1;33m,\u001b[0m \u001b[0mv\u001b[0m\u001b[1;33m=\u001b[0m\u001b[0mfloat\u001b[0m\u001b[1;33m(\u001b[0m\u001b[0mvs\u001b[0m\u001b[1;33m[\u001b[0m\u001b[0mi\u001b[0m\u001b[1;33m]\u001b[0m\u001b[1;33m)\u001b[0m\u001b[1;33m)\u001b[0m \u001b[1;32mfor\u001b[0m \u001b[0mi\u001b[0m \u001b[1;32min\u001b[0m \u001b[0mrange\u001b[0m\u001b[1;33m(\u001b[0m\u001b[0mlen\u001b[0m\u001b[1;33m(\u001b[0m\u001b[0mrows\u001b[0m\u001b[1;33m)\u001b[0m\u001b[1;33m)\u001b[0m\u001b[1;33m]\u001b[0m\u001b[1;33m\u001b[0m\u001b[1;33m\u001b[0m\u001b[0m\n\u001b[0;32m      7\u001b[0m \u001b[1;33m\u001b[0m\u001b[0m\n\u001b[1;32m----> 8\u001b[1;33m \u001b[0mget_ipython\u001b[0m\u001b[1;33m(\u001b[0m\u001b[1;33m)\u001b[0m\u001b[1;33m.\u001b[0m\u001b[0mrun_line_magic\u001b[0m\u001b[1;33m(\u001b[0m\u001b[1;34m'timeit'\u001b[0m\u001b[1;33m,\u001b[0m \u001b[1;34m\"df.groupby('id').agg(collect_list(struct(df['id'], df['v'])).alias('rows')).withColumn('new_rows', substract_mean(col('rows'))).withColumn('new_row', explode(col('new_rows'))).withColumn('id', col('new_row.id')).withColumn('v', col('new_row.v')).agg(count(col('v'))).show()\"\u001b[0m\u001b[1;33m)\u001b[0m\u001b[1;33m\u001b[0m\u001b[1;33m\u001b[0m\u001b[0m\n\u001b[0m",
      "\u001b[1;32mC:\\ProgramData\\Anaconda3\\lib\\site-packages\\IPython\\core\\interactiveshell.py\u001b[0m in \u001b[0;36mrun_line_magic\u001b[1;34m(self, magic_name, line, _stack_depth)\u001b[0m\n\u001b[0;32m   2342\u001b[0m                 \u001b[0mkwargs\u001b[0m\u001b[1;33m[\u001b[0m\u001b[1;34m'local_ns'\u001b[0m\u001b[1;33m]\u001b[0m \u001b[1;33m=\u001b[0m \u001b[0mself\u001b[0m\u001b[1;33m.\u001b[0m\u001b[0mget_local_scope\u001b[0m\u001b[1;33m(\u001b[0m\u001b[0mstack_depth\u001b[0m\u001b[1;33m)\u001b[0m\u001b[1;33m\u001b[0m\u001b[1;33m\u001b[0m\u001b[0m\n\u001b[0;32m   2343\u001b[0m             \u001b[1;32mwith\u001b[0m \u001b[0mself\u001b[0m\u001b[1;33m.\u001b[0m\u001b[0mbuiltin_trap\u001b[0m\u001b[1;33m:\u001b[0m\u001b[1;33m\u001b[0m\u001b[1;33m\u001b[0m\u001b[0m\n\u001b[1;32m-> 2344\u001b[1;33m                 \u001b[0mresult\u001b[0m \u001b[1;33m=\u001b[0m \u001b[0mfn\u001b[0m\u001b[1;33m(\u001b[0m\u001b[1;33m*\u001b[0m\u001b[0margs\u001b[0m\u001b[1;33m,\u001b[0m \u001b[1;33m**\u001b[0m\u001b[0mkwargs\u001b[0m\u001b[1;33m)\u001b[0m\u001b[1;33m\u001b[0m\u001b[1;33m\u001b[0m\u001b[0m\n\u001b[0m\u001b[0;32m   2345\u001b[0m             \u001b[1;32mreturn\u001b[0m \u001b[0mresult\u001b[0m\u001b[1;33m\u001b[0m\u001b[1;33m\u001b[0m\u001b[0m\n\u001b[0;32m   2346\u001b[0m \u001b[1;33m\u001b[0m\u001b[0m\n",
      "\u001b[1;32mC:\\ProgramData\\Anaconda3\\lib\\site-packages\\decorator.py\u001b[0m in \u001b[0;36mfun\u001b[1;34m(*args, **kw)\u001b[0m\n\u001b[0;32m    229\u001b[0m             \u001b[1;32mif\u001b[0m \u001b[1;32mnot\u001b[0m \u001b[0mkwsyntax\u001b[0m\u001b[1;33m:\u001b[0m\u001b[1;33m\u001b[0m\u001b[1;33m\u001b[0m\u001b[0m\n\u001b[0;32m    230\u001b[0m                 \u001b[0margs\u001b[0m\u001b[1;33m,\u001b[0m \u001b[0mkw\u001b[0m \u001b[1;33m=\u001b[0m \u001b[0mfix\u001b[0m\u001b[1;33m(\u001b[0m\u001b[0margs\u001b[0m\u001b[1;33m,\u001b[0m \u001b[0mkw\u001b[0m\u001b[1;33m,\u001b[0m \u001b[0msig\u001b[0m\u001b[1;33m)\u001b[0m\u001b[1;33m\u001b[0m\u001b[1;33m\u001b[0m\u001b[0m\n\u001b[1;32m--> 231\u001b[1;33m             \u001b[1;32mreturn\u001b[0m \u001b[0mcaller\u001b[0m\u001b[1;33m(\u001b[0m\u001b[0mfunc\u001b[0m\u001b[1;33m,\u001b[0m \u001b[1;33m*\u001b[0m\u001b[1;33m(\u001b[0m\u001b[0mextras\u001b[0m \u001b[1;33m+\u001b[0m \u001b[0margs\u001b[0m\u001b[1;33m)\u001b[0m\u001b[1;33m,\u001b[0m \u001b[1;33m**\u001b[0m\u001b[0mkw\u001b[0m\u001b[1;33m)\u001b[0m\u001b[1;33m\u001b[0m\u001b[1;33m\u001b[0m\u001b[0m\n\u001b[0m\u001b[0;32m    232\u001b[0m     \u001b[0mfun\u001b[0m\u001b[1;33m.\u001b[0m\u001b[0m__name__\u001b[0m \u001b[1;33m=\u001b[0m \u001b[0mfunc\u001b[0m\u001b[1;33m.\u001b[0m\u001b[0m__name__\u001b[0m\u001b[1;33m\u001b[0m\u001b[1;33m\u001b[0m\u001b[0m\n\u001b[0;32m    233\u001b[0m     \u001b[0mfun\u001b[0m\u001b[1;33m.\u001b[0m\u001b[0m__doc__\u001b[0m \u001b[1;33m=\u001b[0m \u001b[0mfunc\u001b[0m\u001b[1;33m.\u001b[0m\u001b[0m__doc__\u001b[0m\u001b[1;33m\u001b[0m\u001b[1;33m\u001b[0m\u001b[0m\n",
      "\u001b[1;32mC:\\ProgramData\\Anaconda3\\lib\\site-packages\\IPython\\core\\magic.py\u001b[0m in \u001b[0;36m<lambda>\u001b[1;34m(f, *a, **k)\u001b[0m\n\u001b[0;32m    185\u001b[0m     \u001b[1;31m# but it's overkill for just that one bit of state.\u001b[0m\u001b[1;33m\u001b[0m\u001b[1;33m\u001b[0m\u001b[1;33m\u001b[0m\u001b[0m\n\u001b[0;32m    186\u001b[0m     \u001b[1;32mdef\u001b[0m \u001b[0mmagic_deco\u001b[0m\u001b[1;33m(\u001b[0m\u001b[0marg\u001b[0m\u001b[1;33m)\u001b[0m\u001b[1;33m:\u001b[0m\u001b[1;33m\u001b[0m\u001b[1;33m\u001b[0m\u001b[0m\n\u001b[1;32m--> 187\u001b[1;33m         \u001b[0mcall\u001b[0m \u001b[1;33m=\u001b[0m \u001b[1;32mlambda\u001b[0m \u001b[0mf\u001b[0m\u001b[1;33m,\u001b[0m \u001b[1;33m*\u001b[0m\u001b[0ma\u001b[0m\u001b[1;33m,\u001b[0m \u001b[1;33m**\u001b[0m\u001b[0mk\u001b[0m\u001b[1;33m:\u001b[0m \u001b[0mf\u001b[0m\u001b[1;33m(\u001b[0m\u001b[1;33m*\u001b[0m\u001b[0ma\u001b[0m\u001b[1;33m,\u001b[0m \u001b[1;33m**\u001b[0m\u001b[0mk\u001b[0m\u001b[1;33m)\u001b[0m\u001b[1;33m\u001b[0m\u001b[1;33m\u001b[0m\u001b[0m\n\u001b[0m\u001b[0;32m    188\u001b[0m \u001b[1;33m\u001b[0m\u001b[0m\n\u001b[0;32m    189\u001b[0m         \u001b[1;32mif\u001b[0m \u001b[0mcallable\u001b[0m\u001b[1;33m(\u001b[0m\u001b[0marg\u001b[0m\u001b[1;33m)\u001b[0m\u001b[1;33m:\u001b[0m\u001b[1;33m\u001b[0m\u001b[1;33m\u001b[0m\u001b[0m\n",
      "\u001b[1;32mC:\\ProgramData\\Anaconda3\\lib\\site-packages\\IPython\\core\\magics\\execution.py\u001b[0m in \u001b[0;36mtimeit\u001b[1;34m(self, line, cell, local_ns)\u001b[0m\n\u001b[0;32m   1167\u001b[0m             \u001b[1;32mfor\u001b[0m \u001b[0mindex\u001b[0m \u001b[1;32min\u001b[0m \u001b[0mrange\u001b[0m\u001b[1;33m(\u001b[0m\u001b[1;36m0\u001b[0m\u001b[1;33m,\u001b[0m \u001b[1;36m10\u001b[0m\u001b[1;33m)\u001b[0m\u001b[1;33m:\u001b[0m\u001b[1;33m\u001b[0m\u001b[1;33m\u001b[0m\u001b[0m\n\u001b[0;32m   1168\u001b[0m                 \u001b[0mnumber\u001b[0m \u001b[1;33m=\u001b[0m \u001b[1;36m10\u001b[0m \u001b[1;33m**\u001b[0m \u001b[0mindex\u001b[0m\u001b[1;33m\u001b[0m\u001b[1;33m\u001b[0m\u001b[0m\n\u001b[1;32m-> 1169\u001b[1;33m                 \u001b[0mtime_number\u001b[0m \u001b[1;33m=\u001b[0m \u001b[0mtimer\u001b[0m\u001b[1;33m.\u001b[0m\u001b[0mtimeit\u001b[0m\u001b[1;33m(\u001b[0m\u001b[0mnumber\u001b[0m\u001b[1;33m)\u001b[0m\u001b[1;33m\u001b[0m\u001b[1;33m\u001b[0m\u001b[0m\n\u001b[0m\u001b[0;32m   1170\u001b[0m                 \u001b[1;32mif\u001b[0m \u001b[0mtime_number\u001b[0m \u001b[1;33m>=\u001b[0m \u001b[1;36m0.2\u001b[0m\u001b[1;33m:\u001b[0m\u001b[1;33m\u001b[0m\u001b[1;33m\u001b[0m\u001b[0m\n\u001b[0;32m   1171\u001b[0m                     \u001b[1;32mbreak\u001b[0m\u001b[1;33m\u001b[0m\u001b[1;33m\u001b[0m\u001b[0m\n",
      "\u001b[1;32mC:\\ProgramData\\Anaconda3\\lib\\site-packages\\IPython\\core\\magics\\execution.py\u001b[0m in \u001b[0;36mtimeit\u001b[1;34m(self, number)\u001b[0m\n\u001b[0;32m    167\u001b[0m         \u001b[0mgc\u001b[0m\u001b[1;33m.\u001b[0m\u001b[0mdisable\u001b[0m\u001b[1;33m(\u001b[0m\u001b[1;33m)\u001b[0m\u001b[1;33m\u001b[0m\u001b[1;33m\u001b[0m\u001b[0m\n\u001b[0;32m    168\u001b[0m         \u001b[1;32mtry\u001b[0m\u001b[1;33m:\u001b[0m\u001b[1;33m\u001b[0m\u001b[1;33m\u001b[0m\u001b[0m\n\u001b[1;32m--> 169\u001b[1;33m             \u001b[0mtiming\u001b[0m \u001b[1;33m=\u001b[0m \u001b[0mself\u001b[0m\u001b[1;33m.\u001b[0m\u001b[0minner\u001b[0m\u001b[1;33m(\u001b[0m\u001b[0mit\u001b[0m\u001b[1;33m,\u001b[0m \u001b[0mself\u001b[0m\u001b[1;33m.\u001b[0m\u001b[0mtimer\u001b[0m\u001b[1;33m)\u001b[0m\u001b[1;33m\u001b[0m\u001b[1;33m\u001b[0m\u001b[0m\n\u001b[0m\u001b[0;32m    170\u001b[0m         \u001b[1;32mfinally\u001b[0m\u001b[1;33m:\u001b[0m\u001b[1;33m\u001b[0m\u001b[1;33m\u001b[0m\u001b[0m\n\u001b[0;32m    171\u001b[0m             \u001b[1;32mif\u001b[0m \u001b[0mgcold\u001b[0m\u001b[1;33m:\u001b[0m\u001b[1;33m\u001b[0m\u001b[1;33m\u001b[0m\u001b[0m\n",
      "\u001b[1;32m<magic-timeit>\u001b[0m in \u001b[0;36minner\u001b[1;34m(_it, _timer)\u001b[0m\n",
      "\u001b[1;32mC:\\ProgramData\\Anaconda3\\lib\\site-packages\\pyspark\\sql\\dataframe.py\u001b[0m in \u001b[0;36mshow\u001b[1;34m(self, n, truncate, vertical)\u001b[0m\n\u001b[0;32m    438\u001b[0m         \"\"\"\n\u001b[0;32m    439\u001b[0m         \u001b[1;32mif\u001b[0m \u001b[0misinstance\u001b[0m\u001b[1;33m(\u001b[0m\u001b[0mtruncate\u001b[0m\u001b[1;33m,\u001b[0m \u001b[0mbool\u001b[0m\u001b[1;33m)\u001b[0m \u001b[1;32mand\u001b[0m \u001b[0mtruncate\u001b[0m\u001b[1;33m:\u001b[0m\u001b[1;33m\u001b[0m\u001b[1;33m\u001b[0m\u001b[0m\n\u001b[1;32m--> 440\u001b[1;33m             \u001b[0mprint\u001b[0m\u001b[1;33m(\u001b[0m\u001b[0mself\u001b[0m\u001b[1;33m.\u001b[0m\u001b[0m_jdf\u001b[0m\u001b[1;33m.\u001b[0m\u001b[0mshowString\u001b[0m\u001b[1;33m(\u001b[0m\u001b[0mn\u001b[0m\u001b[1;33m,\u001b[0m \u001b[1;36m20\u001b[0m\u001b[1;33m,\u001b[0m \u001b[0mvertical\u001b[0m\u001b[1;33m)\u001b[0m\u001b[1;33m)\u001b[0m\u001b[1;33m\u001b[0m\u001b[1;33m\u001b[0m\u001b[0m\n\u001b[0m\u001b[0;32m    441\u001b[0m         \u001b[1;32melse\u001b[0m\u001b[1;33m:\u001b[0m\u001b[1;33m\u001b[0m\u001b[1;33m\u001b[0m\u001b[0m\n\u001b[0;32m    442\u001b[0m             \u001b[0mprint\u001b[0m\u001b[1;33m(\u001b[0m\u001b[0mself\u001b[0m\u001b[1;33m.\u001b[0m\u001b[0m_jdf\u001b[0m\u001b[1;33m.\u001b[0m\u001b[0mshowString\u001b[0m\u001b[1;33m(\u001b[0m\u001b[0mn\u001b[0m\u001b[1;33m,\u001b[0m \u001b[0mint\u001b[0m\u001b[1;33m(\u001b[0m\u001b[0mtruncate\u001b[0m\u001b[1;33m)\u001b[0m\u001b[1;33m,\u001b[0m \u001b[0mvertical\u001b[0m\u001b[1;33m)\u001b[0m\u001b[1;33m)\u001b[0m\u001b[1;33m\u001b[0m\u001b[1;33m\u001b[0m\u001b[0m\n",
      "\u001b[1;32mC:\\ProgramData\\Anaconda3\\lib\\site-packages\\py4j\\java_gateway.py\u001b[0m in \u001b[0;36m__call__\u001b[1;34m(self, *args)\u001b[0m\n\u001b[0;32m   1301\u001b[0m             \u001b[0mproto\u001b[0m\u001b[1;33m.\u001b[0m\u001b[0mEND_COMMAND_PART\u001b[0m\u001b[1;33m\u001b[0m\u001b[1;33m\u001b[0m\u001b[0m\n\u001b[0;32m   1302\u001b[0m \u001b[1;33m\u001b[0m\u001b[0m\n\u001b[1;32m-> 1303\u001b[1;33m         \u001b[0manswer\u001b[0m \u001b[1;33m=\u001b[0m \u001b[0mself\u001b[0m\u001b[1;33m.\u001b[0m\u001b[0mgateway_client\u001b[0m\u001b[1;33m.\u001b[0m\u001b[0msend_command\u001b[0m\u001b[1;33m(\u001b[0m\u001b[0mcommand\u001b[0m\u001b[1;33m)\u001b[0m\u001b[1;33m\u001b[0m\u001b[1;33m\u001b[0m\u001b[0m\n\u001b[0m\u001b[0;32m   1304\u001b[0m         return_value = get_return_value(\n\u001b[0;32m   1305\u001b[0m             answer, self.gateway_client, self.target_id, self.name)\n",
      "\u001b[1;32mC:\\ProgramData\\Anaconda3\\lib\\site-packages\\py4j\\java_gateway.py\u001b[0m in \u001b[0;36msend_command\u001b[1;34m(self, command, retry, binary)\u001b[0m\n\u001b[0;32m   1031\u001b[0m         \u001b[0mconnection\u001b[0m \u001b[1;33m=\u001b[0m \u001b[0mself\u001b[0m\u001b[1;33m.\u001b[0m\u001b[0m_get_connection\u001b[0m\u001b[1;33m(\u001b[0m\u001b[1;33m)\u001b[0m\u001b[1;33m\u001b[0m\u001b[1;33m\u001b[0m\u001b[0m\n\u001b[0;32m   1032\u001b[0m         \u001b[1;32mtry\u001b[0m\u001b[1;33m:\u001b[0m\u001b[1;33m\u001b[0m\u001b[1;33m\u001b[0m\u001b[0m\n\u001b[1;32m-> 1033\u001b[1;33m             \u001b[0mresponse\u001b[0m \u001b[1;33m=\u001b[0m \u001b[0mconnection\u001b[0m\u001b[1;33m.\u001b[0m\u001b[0msend_command\u001b[0m\u001b[1;33m(\u001b[0m\u001b[0mcommand\u001b[0m\u001b[1;33m)\u001b[0m\u001b[1;33m\u001b[0m\u001b[1;33m\u001b[0m\u001b[0m\n\u001b[0m\u001b[0;32m   1034\u001b[0m             \u001b[1;32mif\u001b[0m \u001b[0mbinary\u001b[0m\u001b[1;33m:\u001b[0m\u001b[1;33m\u001b[0m\u001b[1;33m\u001b[0m\u001b[0m\n\u001b[0;32m   1035\u001b[0m                 \u001b[1;32mreturn\u001b[0m \u001b[0mresponse\u001b[0m\u001b[1;33m,\u001b[0m \u001b[0mself\u001b[0m\u001b[1;33m.\u001b[0m\u001b[0m_create_connection_guard\u001b[0m\u001b[1;33m(\u001b[0m\u001b[0mconnection\u001b[0m\u001b[1;33m)\u001b[0m\u001b[1;33m\u001b[0m\u001b[1;33m\u001b[0m\u001b[0m\n",
      "\u001b[1;32mC:\\ProgramData\\Anaconda3\\lib\\site-packages\\py4j\\java_gateway.py\u001b[0m in \u001b[0;36msend_command\u001b[1;34m(self, command)\u001b[0m\n\u001b[0;32m   1198\u001b[0m \u001b[1;33m\u001b[0m\u001b[0m\n\u001b[0;32m   1199\u001b[0m         \u001b[1;32mtry\u001b[0m\u001b[1;33m:\u001b[0m\u001b[1;33m\u001b[0m\u001b[1;33m\u001b[0m\u001b[0m\n\u001b[1;32m-> 1200\u001b[1;33m             \u001b[0manswer\u001b[0m \u001b[1;33m=\u001b[0m \u001b[0msmart_decode\u001b[0m\u001b[1;33m(\u001b[0m\u001b[0mself\u001b[0m\u001b[1;33m.\u001b[0m\u001b[0mstream\u001b[0m\u001b[1;33m.\u001b[0m\u001b[0mreadline\u001b[0m\u001b[1;33m(\u001b[0m\u001b[1;33m)\u001b[0m\u001b[1;33m[\u001b[0m\u001b[1;33m:\u001b[0m\u001b[1;33m-\u001b[0m\u001b[1;36m1\u001b[0m\u001b[1;33m]\u001b[0m\u001b[1;33m)\u001b[0m\u001b[1;33m\u001b[0m\u001b[1;33m\u001b[0m\u001b[0m\n\u001b[0m\u001b[0;32m   1201\u001b[0m             \u001b[0mlogger\u001b[0m\u001b[1;33m.\u001b[0m\u001b[0mdebug\u001b[0m\u001b[1;33m(\u001b[0m\u001b[1;34m\"Answer received: {0}\"\u001b[0m\u001b[1;33m.\u001b[0m\u001b[0mformat\u001b[0m\u001b[1;33m(\u001b[0m\u001b[0manswer\u001b[0m\u001b[1;33m)\u001b[0m\u001b[1;33m)\u001b[0m\u001b[1;33m\u001b[0m\u001b[1;33m\u001b[0m\u001b[0m\n\u001b[0;32m   1202\u001b[0m             \u001b[1;32mif\u001b[0m \u001b[0manswer\u001b[0m\u001b[1;33m.\u001b[0m\u001b[0mstartswith\u001b[0m\u001b[1;33m(\u001b[0m\u001b[0mproto\u001b[0m\u001b[1;33m.\u001b[0m\u001b[0mRETURN_MESSAGE\u001b[0m\u001b[1;33m)\u001b[0m\u001b[1;33m:\u001b[0m\u001b[1;33m\u001b[0m\u001b[1;33m\u001b[0m\u001b[0m\n",
      "\u001b[1;32mC:\\ProgramData\\Anaconda3\\lib\\socket.py\u001b[0m in \u001b[0;36mreadinto\u001b[1;34m(self, b)\u001b[0m\n\u001b[0;32m    587\u001b[0m         \u001b[1;32mwhile\u001b[0m \u001b[1;32mTrue\u001b[0m\u001b[1;33m:\u001b[0m\u001b[1;33m\u001b[0m\u001b[1;33m\u001b[0m\u001b[0m\n\u001b[0;32m    588\u001b[0m             \u001b[1;32mtry\u001b[0m\u001b[1;33m:\u001b[0m\u001b[1;33m\u001b[0m\u001b[1;33m\u001b[0m\u001b[0m\n\u001b[1;32m--> 589\u001b[1;33m                 \u001b[1;32mreturn\u001b[0m \u001b[0mself\u001b[0m\u001b[1;33m.\u001b[0m\u001b[0m_sock\u001b[0m\u001b[1;33m.\u001b[0m\u001b[0mrecv_into\u001b[0m\u001b[1;33m(\u001b[0m\u001b[0mb\u001b[0m\u001b[1;33m)\u001b[0m\u001b[1;33m\u001b[0m\u001b[1;33m\u001b[0m\u001b[0m\n\u001b[0m\u001b[0;32m    590\u001b[0m             \u001b[1;32mexcept\u001b[0m \u001b[0mtimeout\u001b[0m\u001b[1;33m:\u001b[0m\u001b[1;33m\u001b[0m\u001b[1;33m\u001b[0m\u001b[0m\n\u001b[0;32m    591\u001b[0m                 \u001b[0mself\u001b[0m\u001b[1;33m.\u001b[0m\u001b[0m_timeout_occurred\u001b[0m \u001b[1;33m=\u001b[0m \u001b[1;32mTrue\u001b[0m\u001b[1;33m\u001b[0m\u001b[1;33m\u001b[0m\u001b[0m\n",
      "\u001b[1;31mKeyboardInterrupt\u001b[0m: "
     ]
    }
   ],
   "source": [
    "from pyspark.sql import Row\n",
    "@udf(ArrayType(df.schema))\n",
    "def substract_mean(rows):\n",
    "    vs = pd.Series([r.v for r in rows])\n",
    "    vs = vs - vs.mean()\n",
    "    return [Row(id=rows[i]['id'], v=float(vs[i])) for i in range(len(rows))]\n",
    "  \n",
    "%timeit df.groupby('id').agg(collect_list(struct(df['id'], df['v'])).alias('rows')).withColumn('new_rows', substract_mean(col('rows'))).withColumn('new_row', explode(col('new_rows'))).withColumn('id', col('new_row.id')).withColumn('v', col('new_row.v')).agg(count(col('v'))).show()"
   ]
  },
  {
   "cell_type": "code",
   "execution_count": null,
   "id": "0567df3a",
   "metadata": {},
   "outputs": [],
   "source": []
  },
  {
   "cell_type": "code",
   "execution_count": null,
   "id": "63f4b182",
   "metadata": {},
   "outputs": [
    {
     "name": "stdout",
     "output_type": "stream",
     "text": [
      "Wall time: 0 ns\n"
     ]
    }
   ],
   "source": [
    "# Input/output are both a pandas.DataFrame\n",
    "def subtract_mean(pdf: pd.DataFrame) -> pd.DataFrame:\n",
    "    return pdf.assign(v=pdf.v - pdf.v.mean())\n",
    "%time\n",
    "df.groupby('id').applyInPandas(subtract_mean, schema=df.schema).agg(count(col('v'))).show()"
   ]
  },
  {
   "cell_type": "code",
   "execution_count": null,
   "id": "ce4fe146",
   "metadata": {},
   "outputs": [],
   "source": []
  },
  {
   "cell_type": "code",
   "execution_count": null,
   "id": "80d7a345",
   "metadata": {},
   "outputs": [],
   "source": [
    "df2 = df.withColumn('y', rand()).withColumn('x1', rand()).withColumn('x2', rand()).select('id', 'y', 'x1', 'x2')\n",
    "df2.show()                                                               "
   ]
  },
  {
   "cell_type": "code",
   "execution_count": null,
   "id": "a82af40c",
   "metadata": {},
   "outputs": [],
   "source": []
  },
  {
   "cell_type": "code",
   "execution_count": null,
   "id": "df696357",
   "metadata": {},
   "outputs": [],
   "source": []
  },
  {
   "cell_type": "code",
   "execution_count": null,
   "id": "dd63bc9a",
   "metadata": {},
   "outputs": [],
   "source": [
    "import statsmodels.api as sm\n",
    "# df has four columns: id, y, x1, x2\n",
    "group_column = 'id'\n",
    "y_column = 'y'\n",
    "x_columns = ['x1', 'x2']\n",
    "schema = df2.select(group_column, *x_columns).schema\n",
    "# Input/output are both a pandas.DataFrame\n",
    "def ols(pdf: pd.DataFrame) -> pd.DataFrame:\n",
    "    group_key = pdf[group_column].iloc[0]\n",
    "    y = pdf[y_column]\n",
    "    X = pdf[x_columns]\n",
    "    X = sm.add_constant(X)\n",
    "    model = sm.OLS(y, X).fit()\n",
    "    return pd.DataFrame([[group_key] + [model.params[i] for i in   x_columns]], columns=[group_column] + x_columns)\n",
    "beta = df2.groupby(group_column).applyInPandas(ols, schema=schema)\n",
    "beta.show()"
   ]
  },
  {
   "cell_type": "code",
   "execution_count": null,
   "id": "404869d4",
   "metadata": {},
   "outputs": [],
   "source": []
  }
 ],
 "metadata": {
  "kernelspec": {
   "display_name": "Python 3",
   "language": "python",
   "name": "python3"
  },
  "language_info": {
   "codemirror_mode": {
    "name": "ipython",
    "version": 3
   },
   "file_extension": ".py",
   "mimetype": "text/x-python",
   "name": "python",
   "nbconvert_exporter": "python",
   "pygments_lexer": "ipython3",
   "version": "3.7.6"
  },
  "toc": {
   "base_numbering": 1,
   "nav_menu": {},
   "number_sections": true,
   "sideBar": true,
   "skip_h1_title": false,
   "title_cell": "Table of Contents",
   "title_sidebar": "Contents",
   "toc_cell": false,
   "toc_position": {},
   "toc_section_display": true,
   "toc_window_display": false
  }
 },
 "nbformat": 4,
 "nbformat_minor": 5
}
