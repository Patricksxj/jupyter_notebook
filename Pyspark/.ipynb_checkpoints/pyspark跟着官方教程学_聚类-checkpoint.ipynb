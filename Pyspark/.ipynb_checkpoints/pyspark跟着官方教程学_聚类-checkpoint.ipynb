{
 "cells": [
  {
   "cell_type": "code",
   "execution_count": 1,
   "id": "2ec1b394",
   "metadata": {},
   "outputs": [],
   "source": [
    "from pyspark.sql import SparkSession\n",
    "from pyspark.conf import SparkConf\n",
    "conf = SparkConf()\n",
    "conf.set(\"spark.driver.extraJavaOptions\", \"-Dio.netty.tryReflectionSetAccessible=true\")\n",
    "conf.set(\"spark.executor.extraJavaOptions\", \"-Dio.netty.tryReflectionSetAccessible=true\")\n",
    "spark = SparkSession.builder.config(conf=conf).getOrCreate()\n",
    "spark.conf.set('spark.sql.repl.eagerEval.enabled', True)"
   ]
  },
  {
   "cell_type": "code",
   "execution_count": 2,
   "id": "7a0caee6",
   "metadata": {},
   "outputs": [],
   "source": [
    "from pyspark.ml.clustering import KMeans\n",
    "from pyspark.ml.evaluation import ClusteringEvaluator"
   ]
  },
  {
   "cell_type": "markdown",
   "id": "5700d877",
   "metadata": {},
   "source": [
    "### kmeans聚类"
   ]
  },
  {
   "cell_type": "markdown",
   "id": "7da6618d",
   "metadata": {},
   "source": [
    "#### 导入数据"
   ]
  },
  {
   "cell_type": "code",
   "execution_count": 3,
   "id": "d8f3444f",
   "metadata": {},
   "outputs": [],
   "source": [
    "# Loads data.\n",
    "dataset = spark.read.format(\"libsvm\").load(r\"D:\\spark\\data\\mllib\\sample_kmeans_data.txt\")"
   ]
  },
  {
   "cell_type": "code",
   "execution_count": 4,
   "id": "192a008a",
   "metadata": {},
   "outputs": [
    {
     "name": "stdout",
     "output_type": "stream",
     "text": [
      "+-----+-------------------------+\n",
      "|label|features                 |\n",
      "+-----+-------------------------+\n",
      "|0.0  |(3,[],[])                |\n",
      "|1.0  |(3,[0,1,2],[0.1,0.1,0.1])|\n",
      "|2.0  |(3,[0,1,2],[0.2,0.2,0.2])|\n",
      "|3.0  |(3,[0,1,2],[9.0,9.0,9.0])|\n",
      "|4.0  |(3,[0,1,2],[9.1,9.1,9.1])|\n",
      "|5.0  |(3,[0,1,2],[9.2,9.2,9.2])|\n",
      "+-----+-------------------------+\n",
      "\n"
     ]
    }
   ],
   "source": [
    "dataset.show(10,truncate=False)"
   ]
  },
  {
   "cell_type": "markdown",
   "id": "6f31cbce",
   "metadata": {},
   "source": [
    "#### 实例化"
   ]
  },
  {
   "cell_type": "code",
   "execution_count": 5,
   "id": "e491ad70",
   "metadata": {},
   "outputs": [],
   "source": [
    "# Trains a k-means model.\n",
    "kmeans = KMeans().setK(2).setSeed(1)"
   ]
  },
  {
   "cell_type": "markdown",
   "id": "8d4febd9",
   "metadata": {},
   "source": [
    "#### 模型训练"
   ]
  },
  {
   "cell_type": "code",
   "execution_count": 6,
   "id": "50cfa4e6",
   "metadata": {},
   "outputs": [],
   "source": [
    "model = kmeans.fit(dataset)"
   ]
  },
  {
   "cell_type": "markdown",
   "id": "d96b1493",
   "metadata": {},
   "source": [
    "#### 模型预测"
   ]
  },
  {
   "cell_type": "code",
   "execution_count": 7,
   "id": "a3d2df43",
   "metadata": {},
   "outputs": [],
   "source": [
    "# Make predictions\n",
    "predictions = model.transform(dataset)"
   ]
  },
  {
   "cell_type": "markdown",
   "id": "e4b64c18",
   "metadata": {},
   "source": [
    "#### 模型评估"
   ]
  },
  {
   "cell_type": "code",
   "execution_count": 8,
   "id": "7716a682",
   "metadata": {},
   "outputs": [],
   "source": [
    "# Evaluate clustering by computing Silhouette score\n",
    "evaluator = ClusteringEvaluator()"
   ]
  },
  {
   "cell_type": "code",
   "execution_count": 9,
   "id": "babb6647",
   "metadata": {},
   "outputs": [
    {
     "name": "stdout",
     "output_type": "stream",
     "text": [
      "Silhouette with squared euclidean distance = 0.9997530305375207\n"
     ]
    }
   ],
   "source": [
    "silhouette = evaluator.evaluate(predictions)\n",
    "print(\"Silhouette with squared euclidean distance = \" + str(silhouette))"
   ]
  },
  {
   "cell_type": "markdown",
   "id": "83407f25",
   "metadata": {},
   "source": [
    "#### 给出质心"
   ]
  },
  {
   "cell_type": "code",
   "execution_count": 10,
   "id": "e1f1f592",
   "metadata": {},
   "outputs": [
    {
     "name": "stdout",
     "output_type": "stream",
     "text": [
      "Cluster Centers: \n",
      "[9.1 9.1 9.1]\n",
      "[0.1 0.1 0.1]\n"
     ]
    }
   ],
   "source": [
    "# Shows the result.\n",
    "centers = model.clusterCenters()\n",
    "print(\"Cluster Centers: \")\n",
    "for center in centers:\n",
    "    print(center)"
   ]
  },
  {
   "cell_type": "code",
   "execution_count": null,
   "id": "b39e81cd",
   "metadata": {},
   "outputs": [],
   "source": []
  },
  {
   "cell_type": "markdown",
   "id": "e5794091",
   "metadata": {},
   "source": [
    "### Latent Dirichlet allocation"
   ]
  },
  {
   "cell_type": "markdown",
   "id": "60272c5e",
   "metadata": {},
   "source": [
    "#### 导入数据"
   ]
  },
  {
   "cell_type": "code",
   "execution_count": 11,
   "id": "231caa13",
   "metadata": {},
   "outputs": [],
   "source": [
    "from pyspark.ml.clustering import LDA\n",
    "\n",
    "# Loads data.\n",
    "dataset = spark.read.format(\"libsvm\").load(r\"D:\\spark\\data\\mllib\\sample_kmeans_data.txt\")"
   ]
  },
  {
   "cell_type": "markdown",
   "id": "bb37c4fd",
   "metadata": {},
   "source": [
    "#### 模型实例化"
   ]
  },
  {
   "cell_type": "code",
   "execution_count": 12,
   "id": "084bb1d0",
   "metadata": {},
   "outputs": [],
   "source": [
    "# Trains a LDA model.\n",
    "lda = LDA(k=10, maxIter=10)"
   ]
  },
  {
   "cell_type": "markdown",
   "id": "c2e60f02",
   "metadata": {},
   "source": [
    "#### 训练模型"
   ]
  },
  {
   "cell_type": "code",
   "execution_count": 13,
   "id": "2e390a58",
   "metadata": {},
   "outputs": [],
   "source": [
    "model = lda.fit(dataset)"
   ]
  },
  {
   "cell_type": "markdown",
   "id": "b2b5f2ee",
   "metadata": {},
   "source": [
    "#### 查看上下界"
   ]
  },
  {
   "cell_type": "code",
   "execution_count": 14,
   "id": "674a0ec0",
   "metadata": {},
   "outputs": [
    {
     "name": "stdout",
     "output_type": "stream",
     "text": [
      "The lower bound on the log likelihood of the entire corpus: -143.8636360060363\n",
      "The upper bound on perplexity: 1.7374835266429505\n"
     ]
    }
   ],
   "source": [
    "ll = model.logLikelihood(dataset)\n",
    "lp = model.logPerplexity(dataset)\n",
    "print(\"The lower bound on the log likelihood of the entire corpus: \" + str(ll))\n",
    "print(\"The upper bound on perplexity: \" + str(lp))"
   ]
  },
  {
   "cell_type": "markdown",
   "id": "d72b0fec",
   "metadata": {},
   "source": [
    "#### 描述主题"
   ]
  },
  {
   "cell_type": "code",
   "execution_count": 15,
   "id": "057efacf",
   "metadata": {},
   "outputs": [
    {
     "name": "stdout",
     "output_type": "stream",
     "text": [
      "The topics described by their top-weighted terms:\n",
      "+-----+-----------+---------------------------------------------------------------+\n",
      "|topic|termIndices|termWeights                                                    |\n",
      "+-----+-----------+---------------------------------------------------------------+\n",
      "|0    |[0, 2, 1]  |[0.3876737934874535, 0.3457439632751837, 0.2665822432373629]   |\n",
      "|1    |[0, 2, 1]  |[0.3451267812287708, 0.3309268210735292, 0.3239463976977]      |\n",
      "|2    |[1, 0, 2]  |[0.34222755827442175, 0.33782140944426237, 0.3199510322813159] |\n",
      "|3    |[2, 1, 0]  |[0.36637747830593803, 0.32068128127364803, 0.3129412404204139] |\n",
      "|4    |[2, 0, 1]  |[0.379165527019625, 0.3319006641246994, 0.2889338088556756]    |\n",
      "|5    |[1, 2, 0]  |[0.3737976450777951, 0.33666961134379736, 0.2895327435784075]  |\n",
      "|6    |[1, 0, 2]  |[0.34691917361588237, 0.3340254468251462, 0.3190553795589714]  |\n",
      "|7    |[2, 1, 0]  |[0.34417501608466866, 0.33481295056866767, 0.32101203334666356]|\n",
      "|8    |[0, 1, 2]  |[0.38941924529493493, 0.3098145610253006, 0.3007661936797644]  |\n",
      "|9    |[1, 0, 2]  |[0.3502762662567175, 0.32921829204020897, 0.32050544170307366] |\n",
      "+-----+-----------+---------------------------------------------------------------+\n",
      "\n"
     ]
    }
   ],
   "source": [
    "# Describe topics.\n",
    "topics = model.describeTopics(3)\n",
    "print(\"The topics described by their top-weighted terms:\")\n",
    "topics.show(truncate=False)"
   ]
  },
  {
   "cell_type": "markdown",
   "id": "85007037",
   "metadata": {},
   "source": [
    "#### 查看结果"
   ]
  },
  {
   "cell_type": "code",
   "execution_count": 16,
   "id": "15a91509",
   "metadata": {},
   "outputs": [
    {
     "name": "stdout",
     "output_type": "stream",
     "text": [
      "+-----+-------------------------+------------------------------------------------------------------------------------------------------------------------------------------------------------------------------------------------------------------------+\n",
      "|label|features                 |topicDistribution                                                                                                                                                                                                       |\n",
      "+-----+-------------------------+------------------------------------------------------------------------------------------------------------------------------------------------------------------------------------------------------------------------+\n",
      "|0.0  |(3,[],[])                |[0.0,0.0,0.0,0.0,0.0,0.0,0.0,0.0,0.0,0.0]                                                                                                                                                                               |\n",
      "|1.0  |(3,[0,1,2],[0.1,0.1,0.1])|[0.07617412915203264,0.07616951782061583,0.07617016929455497,0.07617114457864145,0.07617278155428657,0.0761733188432094,0.07617040536663218,0.0761748312688077,0.07617233033955437,0.3144513717816649]                  |\n",
      "|2.0  |(3,[0,1,2],[0.2,0.2,0.2])|[0.061813095950864205,0.0618109657678656,0.06181123827835477,0.06181172581056448,0.06181294539359377,0.061813284530254836,0.061811357580882825,0.06181336184022322,0.06181227558576357,0.44368974926163274]             |\n",
      "|3.0  |(3,[0,1,2],[9.0,9.0,9.0])|[0.0035182445186925735,0.0035181853227535895,0.0035181926594769325,0.0035182048566766385,0.003518222104121382,0.003518263953790003,0.0035181973610802276,0.0035182615096087722,0.003518218677612147,0.9683360090361878] |\n",
      "|4.0  |(3,[0,1,2],[9.1,9.1,9.1])|[0.003480940574215339,0.003480881592269214,0.0034808888501572633,0.0034809009171870037,0.0034809182287688545,0.0034809699794564673,0.0034808935013979367,0.0034809569619766965,0.003480914606864448,0.9686717347877069] |\n",
      "|5.0  |(3,[0,1,2],[9.2,9.2,9.2])|[0.0034444195181330974,0.003444360634552609,0.0034443678152915602,0.003444379754999519,0.0034443971845850977,0.0034444611891808713,0.0034443724172419886,0.0034444352045448477,0.0034443933205677135,0.9690004129609027]|\n",
      "+-----+-------------------------+------------------------------------------------------------------------------------------------------------------------------------------------------------------------------------------------------------------------+\n",
      "\n"
     ]
    }
   ],
   "source": [
    "\n",
    "# Shows the result\n",
    "transformed = model.transform(dataset)\n",
    "transformed.show(truncate=False)"
   ]
  },
  {
   "cell_type": "markdown",
   "id": "e3a66da2",
   "metadata": {},
   "source": [
    "### BisectingKMeans 聚类法"
   ]
  },
  {
   "cell_type": "markdown",
   "id": "bf7ca9d5",
   "metadata": {},
   "source": [
    "#### 导入数据"
   ]
  },
  {
   "cell_type": "code",
   "execution_count": 18,
   "id": "b43b0465",
   "metadata": {},
   "outputs": [],
   "source": [
    "from pyspark.ml.clustering import BisectingKMeans\n",
    "from pyspark.ml.evaluation import ClusteringEvaluator\n",
    "\n",
    "# Loads data.\n",
    "dataset = spark.read.format(\"libsvm\").load(r\"D:\\spark\\data\\mllib\\sample_kmeans_data.txt\")"
   ]
  },
  {
   "cell_type": "markdown",
   "id": "b7a7c128",
   "metadata": {},
   "source": [
    "#### 模型训练"
   ]
  },
  {
   "cell_type": "code",
   "execution_count": 19,
   "id": "bdc95882",
   "metadata": {},
   "outputs": [],
   "source": [
    "# Trains a bisecting k-means model.\n",
    "bkm = BisectingKMeans().setK(2).setSeed(1)\n",
    "model = bkm.fit(dataset)"
   ]
  },
  {
   "cell_type": "markdown",
   "id": "129f707a",
   "metadata": {},
   "source": [
    "#### 预测数据"
   ]
  },
  {
   "cell_type": "code",
   "execution_count": null,
   "id": "be5165bf",
   "metadata": {},
   "outputs": [],
   "source": [
    "# Make predictions\n",
    "predictions = model.transform(dataset)"
   ]
  },
  {
   "cell_type": "markdown",
   "id": "aa75c25f",
   "metadata": {},
   "source": [
    "#### 指标评估"
   ]
  },
  {
   "cell_type": "code",
   "execution_count": 21,
   "id": "08b44858",
   "metadata": {},
   "outputs": [
    {
     "name": "stdout",
     "output_type": "stream",
     "text": [
      "Silhouette with squared euclidean distance = 0.9997530305375207\n"
     ]
    }
   ],
   "source": [
    "# Evaluate clustering by computing Silhouette score\n",
    "evaluator = ClusteringEvaluator()\n",
    "\n",
    "silhouette = evaluator.evaluate(predictions)\n",
    "print(\"Silhouette with squared euclidean distance = \" + str(silhouette))"
   ]
  },
  {
   "cell_type": "markdown",
   "id": "6e4f2750",
   "metadata": {},
   "source": [
    "#### 显示质心"
   ]
  },
  {
   "cell_type": "code",
   "execution_count": 22,
   "id": "68d55064",
   "metadata": {},
   "outputs": [
    {
     "name": "stdout",
     "output_type": "stream",
     "text": [
      "Cluster Centers: \n",
      "[0.1 0.1 0.1]\n",
      "[9.1 9.1 9.1]\n"
     ]
    }
   ],
   "source": [
    "# Shows the result.\n",
    "print(\"Cluster Centers: \")\n",
    "centers = model.clusterCenters()\n",
    "for center in centers:\n",
    "    print(center)"
   ]
  },
  {
   "cell_type": "code",
   "execution_count": null,
   "id": "18e19c11",
   "metadata": {},
   "outputs": [],
   "source": []
  }
 ],
 "metadata": {
  "kernelspec": {
   "display_name": "Python 3",
   "language": "python",
   "name": "python3"
  },
  "language_info": {
   "codemirror_mode": {
    "name": "ipython",
    "version": 3
   },
   "file_extension": ".py",
   "mimetype": "text/x-python",
   "name": "python",
   "nbconvert_exporter": "python",
   "pygments_lexer": "ipython3",
   "version": "3.7.6"
  },
  "toc": {
   "base_numbering": 1,
   "nav_menu": {},
   "number_sections": true,
   "sideBar": true,
   "skip_h1_title": false,
   "title_cell": "Table of Contents",
   "title_sidebar": "Contents",
   "toc_cell": false,
   "toc_position": {},
   "toc_section_display": true,
   "toc_window_display": false
  }
 },
 "nbformat": 4,
 "nbformat_minor": 5
}
