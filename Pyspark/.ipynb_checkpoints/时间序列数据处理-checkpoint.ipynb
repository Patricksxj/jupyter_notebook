{
 "cells": [
  {
   "cell_type": "markdown",
   "id": "0fe89f43",
   "metadata": {},
   "source": [
    "### 建立包"
   ]
  },
  {
   "cell_type": "code",
   "execution_count": 2,
   "id": "a416d75b",
   "metadata": {},
   "outputs": [],
   "source": [
    "from pyspark.sql import SparkSession\n",
    "from pyspark.conf import SparkConf\n",
    "conf = SparkConf()\n",
    "conf.set(\"spark.driver.extraJavaOptions\", \"-Dio.netty.tryReflectionSetAccessible=true\")\n",
    "conf.set(\"spark.executor.extraJavaOptions\", \"-Dio.netty.tryReflectionSetAccessible=true\")\n",
    "spark = SparkSession.builder.config(conf=conf).getOrCreate()"
   ]
  },
  {
   "cell_type": "code",
   "execution_count": 3,
   "id": "4937b812",
   "metadata": {},
   "outputs": [],
   "source": [
    "from pyspark.sql import functions as f\n",
    "from pyspark.sql import types as t\n",
    "from pyspark.sql import Window as w\n",
    "from pyspark.sql.functions import pandas_udf, PandasUDFType\n",
    "import numpy as np\n",
    "import datetime"
   ]
  },
  {
   "cell_type": "code",
   "execution_count": null,
   "id": "b1528036",
   "metadata": {},
   "outputs": [],
   "source": []
  },
  {
   "cell_type": "markdown",
   "id": "c73f8274",
   "metadata": {},
   "source": [
    "### 建立测试数据"
   ]
  },
  {
   "cell_type": "code",
   "execution_count": 4,
   "id": "c1fed617",
   "metadata": {},
   "outputs": [],
   "source": [
    "sequence = [1, 2, 4, 7, 11, 16, 22]\n",
    "sequence2 = [3, 5, 6, 8, 10, 18, 20]\n",
    "\n",
    "# create two example time series with different ticks and inconsistent spacing\n",
    "df = spark.createDataFrame(\n",
    "  list(zip(\n",
    "    ['series 1'] * len(sequence),\n",
    "    [datetime.datetime(2021,1,1,0,i) for i in sequence],\n",
    "    [i**2*np.random.uniform(0,1) for i in sequence]\n",
    "  ))\n",
    "  + list(zip(\n",
    "    ['series 2'] * len(sequence2),\n",
    "    [datetime.datetime(2021,1,1,0,i) for i in sequence2],\n",
    "    [i**2*np.random.uniform(0,1) for i in sequence2]\n",
    "  )),\n",
    "  schema=t.StructType([\n",
    "    t.StructField('id', t.StringType()),\n",
    "    t.StructField('time', t.TimestampType()),\n",
    "    t.StructField('value', t.FloatType())\n",
    "  ])\n",
    ")"
   ]
  },
  {
   "cell_type": "code",
   "execution_count": 5,
   "id": "9681b53e",
   "metadata": {},
   "outputs": [
    {
     "name": "stdout",
     "output_type": "stream",
     "text": [
      "+--------+-------------------+-----------+\n",
      "|      id|               time|      value|\n",
      "+--------+-------------------+-----------+\n",
      "|series 1|2021-01-01 00:01:00|  0.2630323|\n",
      "|series 1|2021-01-01 00:02:00|   2.379535|\n",
      "|series 1|2021-01-01 00:04:00|    8.14125|\n",
      "|series 1|2021-01-01 00:07:00|  12.041094|\n",
      "|series 1|2021-01-01 00:11:00|  43.983074|\n",
      "|series 1|2021-01-01 00:16:00|  100.91391|\n",
      "|series 1|2021-01-01 00:22:00|  240.42404|\n",
      "|series 2|2021-01-01 00:03:00|  5.8425837|\n",
      "|series 2|2021-01-01 00:05:00|   9.124744|\n",
      "|series 2|2021-01-01 00:06:00|   8.709988|\n",
      "|series 2|2021-01-01 00:08:00|0.100244395|\n",
      "|series 2|2021-01-01 00:10:00|  33.438625|\n",
      "|series 2|2021-01-01 00:18:00|  51.383762|\n",
      "|series 2|2021-01-01 00:20:00|  24.027822|\n",
      "+--------+-------------------+-----------+\n",
      "\n"
     ]
    }
   ],
   "source": [
    "df.show()"
   ]
  },
  {
   "cell_type": "code",
   "execution_count": null,
   "id": "371a284f",
   "metadata": {},
   "outputs": [],
   "source": []
  },
  {
   "cell_type": "markdown",
   "id": "7c1a7ca5",
   "metadata": {},
   "source": [
    "### 对数据清洗，产出每间隔一分钟的数据，拼接之前数据，使得时间不会缺少"
   ]
  },
  {
   "cell_type": "code",
   "execution_count": 6,
   "id": "97c3fd2a",
   "metadata": {},
   "outputs": [],
   "source": [
    "# up sample the time series to regular tickspacing\n",
    "regular_ticks = (\n",
    "  df.groupBy('id')\n",
    "  .agg(\n",
    "    f.min('time').alias('min_time'),\n",
    "    f.max('time').alias('max_time'),\n",
    "  )\n",
    "  .withColumn('time', f.explode(f.sequence('min_time', 'max_time', f.lit('1 minute').cast('Interval'))))\n",
    "  .drop('max_time', 'min_time')\n",
    "  .join(df, ['id', 'time'], 'left')\n",
    ")"
   ]
  },
  {
   "cell_type": "code",
   "execution_count": 8,
   "id": "fc22b9ac",
   "metadata": {},
   "outputs": [
    {
     "name": "stdout",
     "output_type": "stream",
     "text": [
      "+--------+-------------------+-----------+\n",
      "|      id|               time|      value|\n",
      "+--------+-------------------+-----------+\n",
      "|series 2|2021-01-01 00:19:00|       null|\n",
      "|series 1|2021-01-01 00:22:00|  240.42404|\n",
      "|series 2|2021-01-01 00:16:00|       null|\n",
      "|series 1|2021-01-01 00:12:00|       null|\n",
      "|series 1|2021-01-01 00:14:00|       null|\n",
      "|series 2|2021-01-01 00:18:00|  51.383762|\n",
      "|series 2|2021-01-01 00:05:00|   9.124744|\n",
      "|series 1|2021-01-01 00:19:00|       null|\n",
      "|series 1|2021-01-01 00:05:00|       null|\n",
      "|series 1|2021-01-01 00:10:00|       null|\n",
      "|series 2|2021-01-01 00:09:00|       null|\n",
      "|series 2|2021-01-01 00:20:00|  24.027822|\n",
      "|series 2|2021-01-01 00:10:00|  33.438625|\n",
      "|series 1|2021-01-01 00:21:00|       null|\n",
      "|series 1|2021-01-01 00:13:00|       null|\n",
      "|series 1|2021-01-01 00:03:00|       null|\n",
      "|series 2|2021-01-01 00:06:00|   8.709988|\n",
      "|series 1|2021-01-01 00:17:00|       null|\n",
      "|series 2|2021-01-01 00:14:00|       null|\n",
      "|series 1|2021-01-01 00:07:00|  12.041094|\n",
      "|series 1|2021-01-01 00:01:00|  0.2630323|\n",
      "|series 1|2021-01-01 00:18:00|       null|\n",
      "|series 1|2021-01-01 00:08:00|       null|\n",
      "|series 1|2021-01-01 00:09:00|       null|\n",
      "|series 2|2021-01-01 00:08:00|0.100244395|\n",
      "|series 2|2021-01-01 00:12:00|       null|\n",
      "|series 1|2021-01-01 00:11:00|  43.983074|\n",
      "|series 2|2021-01-01 00:03:00|  5.8425837|\n",
      "|series 1|2021-01-01 00:04:00|    8.14125|\n",
      "|series 2|2021-01-01 00:13:00|       null|\n",
      "|series 2|2021-01-01 00:11:00|       null|\n",
      "|series 1|2021-01-01 00:16:00|  100.91391|\n",
      "|series 2|2021-01-01 00:15:00|       null|\n",
      "|series 2|2021-01-01 00:17:00|       null|\n",
      "|series 1|2021-01-01 00:20:00|       null|\n",
      "|series 2|2021-01-01 00:04:00|       null|\n",
      "|series 1|2021-01-01 00:02:00|   2.379535|\n",
      "|series 1|2021-01-01 00:06:00|       null|\n",
      "|series 1|2021-01-01 00:15:00|       null|\n",
      "|series 2|2021-01-01 00:07:00|       null|\n",
      "+--------+-------------------+-----------+\n",
      "\n"
     ]
    }
   ],
   "source": [
    "regular_ticks.show(200)"
   ]
  },
  {
   "cell_type": "markdown",
   "id": "5f3ca8d8",
   "metadata": {},
   "source": [
    "### 空值填充：如果遇到空值，用上一个非空值"
   ]
  },
  {
   "cell_type": "code",
   "execution_count": 9,
   "id": "bc7c80b5",
   "metadata": {},
   "outputs": [],
   "source": [
    "# fill method 1: take last known value\n",
    "\n",
    "fill_with_last_known = (\n",
    "  regular_ticks.withColumn(\n",
    "    'value_interp',\n",
    "    f.last('value', ignorenulls=True)\n",
    "    .over(\n",
    "      w.partitionBy('id')\n",
    "      .orderBy(\n",
    "        f.col('time').asc_nulls_last()\n",
    "      )\n",
    "    )\n",
    "  )\n",
    ")"
   ]
  },
  {
   "cell_type": "code",
   "execution_count": 10,
   "id": "e5eeeeda",
   "metadata": {},
   "outputs": [
    {
     "name": "stdout",
     "output_type": "stream",
     "text": [
      "+--------+-------------------+-----------+------------+\n",
      "|      id|               time|      value|value_interp|\n",
      "+--------+-------------------+-----------+------------+\n",
      "|series 2|2021-01-01 00:03:00|  5.8425837|   5.8425837|\n",
      "|series 2|2021-01-01 00:04:00|       null|   5.8425837|\n",
      "|series 2|2021-01-01 00:05:00|   9.124744|    9.124744|\n",
      "|series 2|2021-01-01 00:06:00|   8.709988|    8.709988|\n",
      "|series 2|2021-01-01 00:07:00|       null|    8.709988|\n",
      "|series 2|2021-01-01 00:08:00|0.100244395| 0.100244395|\n",
      "|series 2|2021-01-01 00:09:00|       null| 0.100244395|\n",
      "|series 2|2021-01-01 00:10:00|  33.438625|   33.438625|\n",
      "|series 2|2021-01-01 00:11:00|       null|   33.438625|\n",
      "|series 2|2021-01-01 00:12:00|       null|   33.438625|\n",
      "|series 2|2021-01-01 00:13:00|       null|   33.438625|\n",
      "|series 2|2021-01-01 00:14:00|       null|   33.438625|\n",
      "|series 2|2021-01-01 00:15:00|       null|   33.438625|\n",
      "|series 2|2021-01-01 00:16:00|       null|   33.438625|\n",
      "|series 2|2021-01-01 00:17:00|       null|   33.438625|\n",
      "|series 2|2021-01-01 00:18:00|  51.383762|   51.383762|\n",
      "|series 2|2021-01-01 00:19:00|       null|   51.383762|\n",
      "|series 2|2021-01-01 00:20:00|  24.027822|   24.027822|\n",
      "|series 1|2021-01-01 00:01:00|  0.2630323|   0.2630323|\n",
      "|series 1|2021-01-01 00:02:00|   2.379535|    2.379535|\n",
      "|series 1|2021-01-01 00:03:00|       null|    2.379535|\n",
      "|series 1|2021-01-01 00:04:00|    8.14125|     8.14125|\n",
      "|series 1|2021-01-01 00:05:00|       null|     8.14125|\n",
      "|series 1|2021-01-01 00:06:00|       null|     8.14125|\n",
      "|series 1|2021-01-01 00:07:00|  12.041094|   12.041094|\n",
      "|series 1|2021-01-01 00:08:00|       null|   12.041094|\n",
      "|series 1|2021-01-01 00:09:00|       null|   12.041094|\n",
      "|series 1|2021-01-01 00:10:00|       null|   12.041094|\n",
      "|series 1|2021-01-01 00:11:00|  43.983074|   43.983074|\n",
      "|series 1|2021-01-01 00:12:00|       null|   43.983074|\n",
      "|series 1|2021-01-01 00:13:00|       null|   43.983074|\n",
      "|series 1|2021-01-01 00:14:00|       null|   43.983074|\n",
      "|series 1|2021-01-01 00:15:00|       null|   43.983074|\n",
      "|series 1|2021-01-01 00:16:00|  100.91391|   100.91391|\n",
      "|series 1|2021-01-01 00:17:00|       null|   100.91391|\n",
      "|series 1|2021-01-01 00:18:00|       null|   100.91391|\n",
      "|series 1|2021-01-01 00:19:00|       null|   100.91391|\n",
      "|series 1|2021-01-01 00:20:00|       null|   100.91391|\n",
      "|series 1|2021-01-01 00:21:00|       null|   100.91391|\n",
      "|series 1|2021-01-01 00:22:00|  240.42404|   240.42404|\n",
      "+--------+-------------------+-----------+------------+\n",
      "\n"
     ]
    }
   ],
   "source": [
    "fill_with_last_known.show(200)"
   ]
  },
  {
   "cell_type": "code",
   "execution_count": null,
   "id": "1ea421fe",
   "metadata": {},
   "outputs": [],
   "source": []
  },
  {
   "cell_type": "markdown",
   "id": "ca06577e",
   "metadata": {},
   "source": [
    "### 线性插值"
   ]
  },
  {
   "cell_type": "code",
   "execution_count": 11,
   "id": "d9450f06",
   "metadata": {},
   "outputs": [],
   "source": [
    "# fill method 2: linear interpolation\n",
    "\n",
    "def interpolate(timestamp_col, method={'method': 'fill_zero'}, **kwargs):\n",
    "    \"\"\"\n",
    "    Utility function to interpolate missing values in a timeseries on grouped object, assume group by key is unique id of time series\n",
    "    also assumes that the timestamp col is regularly spaced already\n",
    "\n",
    "    schema: output schema of the dataframe\n",
    "    timestamp_col: column name of timestamp\n",
    "    method: <map> Supported methods: fill_zero, pad (fill forward), linear, nearest, and other scipy methods\n",
    "\n",
    "    example usage\n",
    "    month_series.groupBy(series_id).apply(interpolate(month_series.schema, \"month\", {'method': 'fill_zero'}))\n",
    "    series_id here refers to the key/keys of the time series WITHOUT the time column\n",
    "    \"\"\"\n",
    "    def _(pdf):\n",
    "        pdf.set_index(timestamp_col, inplace=True)\n",
    "        pdf.sort_index(axis=0, inplace=True)\n",
    "        if method['method'] == 'fill_zero':\n",
    "            pdf.fillna(0, inplace=True)\n",
    "        else:\n",
    "            pdf.interpolate(**method, inplace=True)\n",
    "            pdf.ffill(inplace=True)\n",
    "        pdf.reset_index(drop=False, inplace=True)\n",
    "        return pdf\n",
    "    return _\n",
    "\n",
    "linear_interpolate = (\n",
    "  regular_ticks.groupBy('id')\n",
    "  .applyInPandas(\n",
    "    interpolate('time', {'method': 'linear'}),\n",
    "    regular_ticks.schema\n",
    "  )\n",
    ")"
   ]
  },
  {
   "cell_type": "code",
   "execution_count": 12,
   "id": "00ae7e0d",
   "metadata": {},
   "outputs": [
    {
     "name": "stdout",
     "output_type": "stream",
     "text": [
      "+--------+-------------------+-----------+\n",
      "|      id|               time|      value|\n",
      "+--------+-------------------+-----------+\n",
      "|series 2|2021-01-01 00:03:00|  5.8425837|\n",
      "|series 2|2021-01-01 00:04:00|   7.483664|\n",
      "|series 2|2021-01-01 00:05:00|   9.124744|\n",
      "|series 2|2021-01-01 00:06:00|   8.709988|\n",
      "|series 2|2021-01-01 00:07:00|   4.405116|\n",
      "|series 2|2021-01-01 00:08:00|0.100244395|\n",
      "|series 2|2021-01-01 00:09:00|  16.769434|\n",
      "|series 2|2021-01-01 00:10:00|  33.438625|\n",
      "|series 2|2021-01-01 00:11:00|  35.681767|\n",
      "|series 2|2021-01-01 00:12:00|   37.92491|\n",
      "|series 2|2021-01-01 00:13:00|  40.168053|\n",
      "|series 2|2021-01-01 00:14:00|  42.411194|\n",
      "|series 2|2021-01-01 00:15:00|  44.654335|\n",
      "|series 2|2021-01-01 00:16:00|  46.897476|\n",
      "|series 2|2021-01-01 00:17:00|   49.14062|\n",
      "|series 2|2021-01-01 00:18:00|  51.383762|\n",
      "|series 2|2021-01-01 00:19:00|   37.70579|\n",
      "|series 2|2021-01-01 00:20:00|  24.027822|\n",
      "|series 1|2021-01-01 00:01:00|  0.2630323|\n",
      "|series 1|2021-01-01 00:02:00|   2.379535|\n",
      "|series 1|2021-01-01 00:03:00|   5.260392|\n",
      "|series 1|2021-01-01 00:04:00|    8.14125|\n",
      "|series 1|2021-01-01 00:05:00|   9.441197|\n",
      "|series 1|2021-01-01 00:06:00|  10.741146|\n",
      "|series 1|2021-01-01 00:07:00|  12.041094|\n",
      "|series 1|2021-01-01 00:08:00|  20.026588|\n",
      "|series 1|2021-01-01 00:09:00|  28.012085|\n",
      "|series 1|2021-01-01 00:10:00|  35.997578|\n",
      "|series 1|2021-01-01 00:11:00|  43.983074|\n",
      "|series 1|2021-01-01 00:12:00|   55.36924|\n",
      "|series 1|2021-01-01 00:13:00|   66.75541|\n",
      "|series 1|2021-01-01 00:14:00|   78.14158|\n",
      "|series 1|2021-01-01 00:15:00|   89.52774|\n",
      "|series 1|2021-01-01 00:16:00|  100.91391|\n",
      "|series 1|2021-01-01 00:17:00| 124.165596|\n",
      "|series 1|2021-01-01 00:18:00|  147.41728|\n",
      "|series 1|2021-01-01 00:19:00|  170.66898|\n",
      "|series 1|2021-01-01 00:20:00|  193.92067|\n",
      "|series 1|2021-01-01 00:21:00|  217.17235|\n",
      "|series 1|2021-01-01 00:22:00|  240.42404|\n",
      "+--------+-------------------+-----------+\n",
      "\n"
     ]
    }
   ],
   "source": [
    "linear_interpolate.show(200)"
   ]
  },
  {
   "cell_type": "markdown",
   "id": "d0c46be3",
   "metadata": {},
   "source": [
    "### 二次方插值"
   ]
  },
  {
   "cell_type": "code",
   "execution_count": 13,
   "id": "e8f87a06",
   "metadata": {},
   "outputs": [],
   "source": [
    "#fill method 3: quadratic interpolation\n",
    "quadratic_interpolate = (\n",
    "  regular_ticks.groupBy('id')\n",
    "  .applyInPandas(\n",
    "    interpolate('time', {'method': 'quadratic'}),\n",
    "    regular_ticks.schema\n",
    "  )\n",
    ")"
   ]
  },
  {
   "cell_type": "code",
   "execution_count": 14,
   "id": "a896567d",
   "metadata": {},
   "outputs": [
    {
     "name": "stdout",
     "output_type": "stream",
     "text": [
      "+--------+-------------------+-----------+\n",
      "|      id|               time|      value|\n",
      "+--------+-------------------+-----------+\n",
      "|series 2|2021-01-01 00:03:00|  5.8425837|\n",
      "|series 2|2021-01-01 00:04:00|   7.918719|\n",
      "|series 2|2021-01-01 00:05:00|   9.124744|\n",
      "|series 2|2021-01-01 00:06:00|   8.709988|\n",
      "|series 2|2021-01-01 00:07:00|  2.1704123|\n",
      "|series 2|2021-01-01 00:08:00|0.100244395|\n",
      "|series 2|2021-01-01 00:09:00|  13.844383|\n",
      "|series 2|2021-01-01 00:10:00|  33.438625|\n",
      "|series 2|2021-01-01 00:11:00|   48.91877|\n",
      "|series 2|2021-01-01 00:12:00|  60.284813|\n",
      "|series 2|2021-01-01 00:13:00|   67.53676|\n",
      "|series 2|2021-01-01 00:14:00|   70.67461|\n",
      "|series 2|2021-01-01 00:15:00|  70.279526|\n",
      "|series 2|2021-01-01 00:16:00|  66.932686|\n",
      "|series 2|2021-01-01 00:17:00|    60.6341|\n",
      "|series 2|2021-01-01 00:18:00|  51.383762|\n",
      "|series 2|2021-01-01 00:19:00|  39.181667|\n",
      "|series 2|2021-01-01 00:20:00|  24.027822|\n",
      "|series 1|2021-01-01 00:01:00|  0.2630323|\n",
      "|series 1|2021-01-01 00:02:00|   2.379535|\n",
      "+--------+-------------------+-----------+\n",
      "only showing top 20 rows\n",
      "\n"
     ]
    }
   ],
   "source": [
    "quadratic_interpolate.show()"
   ]
  }
 ],
 "metadata": {
  "kernelspec": {
   "display_name": "Python 3",
   "language": "python",
   "name": "python3"
  },
  "language_info": {
   "codemirror_mode": {
    "name": "ipython",
    "version": 3
   },
   "file_extension": ".py",
   "mimetype": "text/x-python",
   "name": "python",
   "nbconvert_exporter": "python",
   "pygments_lexer": "ipython3",
   "version": "3.7.6"
  },
  "toc": {
   "base_numbering": 1,
   "nav_menu": {},
   "number_sections": true,
   "sideBar": true,
   "skip_h1_title": false,
   "title_cell": "Table of Contents",
   "title_sidebar": "Contents",
   "toc_cell": false,
   "toc_position": {},
   "toc_section_display": true,
   "toc_window_display": false
  }
 },
 "nbformat": 4,
 "nbformat_minor": 5
}
