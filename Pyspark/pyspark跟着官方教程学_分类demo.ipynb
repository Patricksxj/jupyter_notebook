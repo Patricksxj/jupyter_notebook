{
 "cells": [
  {
   "cell_type": "code",
   "execution_count": 2,
   "id": "ce9d5141",
   "metadata": {},
   "outputs": [],
   "source": [
    "from pyspark.sql import SparkSession\n",
    "from pyspark.conf import SparkConf\n",
    "conf = SparkConf()\n",
    "conf.set(\"spark.driver.extraJavaOptions\", \"-Dio.netty.tryReflectionSetAccessible=true\")\n",
    "conf.set(\"spark.executor.extraJavaOptions\", \"-Dio.netty.tryReflectionSetAccessible=true\")\n",
    "spark = SparkSession.builder.config(conf=conf).getOrCreate()\n",
    "spark.conf.set('spark.sql.repl.eagerEval.enabled', True)"
   ]
  },
  {
   "cell_type": "code",
   "execution_count": 6,
   "id": "e774d565",
   "metadata": {},
   "outputs": [],
   "source": [
    "spark.conf.set('spark.sql.repl.eagerEval.enabled', True)"
   ]
  },
  {
   "cell_type": "markdown",
   "id": "2acd8885",
   "metadata": {},
   "source": [
    "### 导入数据"
   ]
  },
  {
   "cell_type": "markdown",
   "id": "9849dc57",
   "metadata": {},
   "source": [
    "#### 图像数据"
   ]
  },
  {
   "cell_type": "code",
   "execution_count": 3,
   "id": "f0e98673",
   "metadata": {},
   "outputs": [
    {
     "name": "stdout",
     "output_type": "stream",
     "text": [
      "+-------------------------------------------------------------------------+-----+------+\n",
      "|origin                                                                   |width|height|\n",
      "+-------------------------------------------------------------------------+-----+------+\n",
      "|file:///D:/spark/data/mllib/images/origin/kittens/54893.jpg              |300  |311   |\n",
      "|file:///D:/spark/data/mllib/images/origin/kittens/DP802813.jpg           |199  |313   |\n",
      "|file:///D:/spark/data/mllib/images/origin/kittens/29.5.a_b_EGDP022204.jpg|300  |200   |\n",
      "|file:///D:/spark/data/mllib/images/origin/kittens/DP153539.jpg           |300  |296   |\n",
      "+-------------------------------------------------------------------------+-----+------+\n",
      "\n"
     ]
    }
   ],
   "source": [
    "df = spark.read.format(\"image\").option(\"dropInvalid\", True).load(r\"D:\\spark\\data\\mllib\\images\\origin\\kittens\")\n",
    "df.select(\"image.origin\", \"image.width\", \"image.height\").show(truncate=False)"
   ]
  },
  {
   "cell_type": "markdown",
   "id": "1d214b51",
   "metadata": {},
   "source": [
    "#### 文本数据"
   ]
  },
  {
   "cell_type": "code",
   "execution_count": 4,
   "id": "692b5d58",
   "metadata": {},
   "outputs": [],
   "source": [
    "df2 = spark.read.format(\"libsvm\").option(\"numFeatures\", \"780\").load(r\"D:\\spark\\data\\mllib\\sample_libsvm_data.txt\")"
   ]
  },
  {
   "cell_type": "code",
   "execution_count": 33,
   "id": "bf95e9a8",
   "metadata": {},
   "outputs": [],
   "source": [
    "spark.conf.set('spark.sql.repl.eagerEval.maxNumCols', 100)"
   ]
  },
  {
   "cell_type": "code",
   "execution_count": 7,
   "id": "69c631ce",
   "metadata": {},
   "outputs": [
    {
     "data": {
      "text/html": [
       "<table border='1'>\n",
       "<tr><th>label</th><th>features</th></tr>\n",
       "<tr><td>0.0</td><td>(780,[127,128,129...</td></tr>\n",
       "<tr><td>1.0</td><td>(780,[158,159,160...</td></tr>\n",
       "<tr><td>1.0</td><td>(780,[124,125,126...</td></tr>\n",
       "<tr><td>1.0</td><td>(780,[152,153,154...</td></tr>\n",
       "<tr><td>1.0</td><td>(780,[151,152,153...</td></tr>\n",
       "<tr><td>0.0</td><td>(780,[129,130,131...</td></tr>\n",
       "<tr><td>1.0</td><td>(780,[158,159,160...</td></tr>\n",
       "<tr><td>1.0</td><td>(780,[99,100,101,...</td></tr>\n",
       "<tr><td>0.0</td><td>(780,[154,155,156...</td></tr>\n",
       "<tr><td>0.0</td><td>(780,[127,128,129...</td></tr>\n",
       "<tr><td>1.0</td><td>(780,[154,155,156...</td></tr>\n",
       "<tr><td>0.0</td><td>(780,[153,154,155...</td></tr>\n",
       "<tr><td>0.0</td><td>(780,[151,152,153...</td></tr>\n",
       "<tr><td>1.0</td><td>(780,[129,130,131...</td></tr>\n",
       "<tr><td>0.0</td><td>(780,[154,155,156...</td></tr>\n",
       "<tr><td>1.0</td><td>(780,[150,151,152...</td></tr>\n",
       "<tr><td>0.0</td><td>(780,[124,125,126...</td></tr>\n",
       "<tr><td>0.0</td><td>(780,[152,153,154...</td></tr>\n",
       "<tr><td>1.0</td><td>(780,[97,98,99,12...</td></tr>\n",
       "<tr><td>1.0</td><td>(780,[124,125,126...</td></tr>\n",
       "</table>\n",
       "only showing top 20 rows\n"
      ],
      "text/plain": [
       "DataFrame[label: double, features: vector]"
      ]
     },
     "execution_count": 7,
     "metadata": {},
     "output_type": "execute_result"
    }
   ],
   "source": [
    "df2"
   ]
  },
  {
   "cell_type": "code",
   "execution_count": null,
   "id": "166475ab",
   "metadata": {},
   "outputs": [],
   "source": []
  },
  {
   "cell_type": "markdown",
   "id": "cb8121a2",
   "metadata": {},
   "source": [
    "### 逻辑回归模型"
   ]
  },
  {
   "cell_type": "markdown",
   "id": "d671ba0b",
   "metadata": {},
   "source": [
    "#### 创建数据集"
   ]
  },
  {
   "cell_type": "code",
   "execution_count": 8,
   "id": "805d9d13",
   "metadata": {},
   "outputs": [],
   "source": [
    "from pyspark.ml.linalg import Vectors\n",
    "from pyspark.ml.classification import LogisticRegression\n",
    "\n",
    "# Prepare training data from a list of (label, features) tuples.\n",
    "training = spark.createDataFrame([\n",
    "    (1.0, Vectors.dense([0.0, 1.1, 0.1])),\n",
    "    (0.0, Vectors.dense([2.0, 1.0, -1.0])),\n",
    "    (0.0, Vectors.dense([2.0, 1.3, 1.0])),\n",
    "    (1.0, Vectors.dense([0.0, 1.2, -0.5]))], [\"label\", \"features\"])"
   ]
  },
  {
   "cell_type": "code",
   "execution_count": 9,
   "id": "b8f13ffe",
   "metadata": {},
   "outputs": [
    {
     "data": {
      "text/html": [
       "<table border='1'>\n",
       "<tr><th>label</th><th>features</th></tr>\n",
       "<tr><td>1.0</td><td>[0.0,1.1,0.1]</td></tr>\n",
       "<tr><td>0.0</td><td>[2.0,1.0,-1.0]</td></tr>\n",
       "<tr><td>0.0</td><td>[2.0,1.3,1.0]</td></tr>\n",
       "<tr><td>1.0</td><td>[0.0,1.2,-0.5]</td></tr>\n",
       "</table>\n"
      ],
      "text/plain": [
       "+-----+--------------+\n",
       "|label|      features|\n",
       "+-----+--------------+\n",
       "|  1.0| [0.0,1.1,0.1]|\n",
       "|  0.0|[2.0,1.0,-1.0]|\n",
       "|  0.0| [2.0,1.3,1.0]|\n",
       "|  1.0|[0.0,1.2,-0.5]|\n",
       "+-----+--------------+"
      ]
     },
     "execution_count": 9,
     "metadata": {},
     "output_type": "execute_result"
    }
   ],
   "source": [
    "training"
   ]
  },
  {
   "cell_type": "markdown",
   "id": "e14f36fe",
   "metadata": {},
   "source": [
    "#### 类实例化+模型训练"
   ]
  },
  {
   "cell_type": "code",
   "execution_count": 10,
   "id": "f57038d1",
   "metadata": {},
   "outputs": [],
   "source": [
    "# Create a LogisticRegression instance. This instance is an Estimator.\n",
    "lr = LogisticRegression(maxIter=10, regParam=0.01)"
   ]
  },
  {
   "cell_type": "code",
   "execution_count": 11,
   "id": "8995f057",
   "metadata": {},
   "outputs": [
    {
     "name": "stdout",
     "output_type": "stream",
     "text": [
      "LogisticRegression parameters:\n",
      "aggregationDepth: suggested depth for treeAggregate (>= 2). (default: 2)\n",
      "elasticNetParam: the ElasticNet mixing parameter, in range [0, 1]. For alpha = 0, the penalty is an L2 penalty. For alpha = 1, it is an L1 penalty. (default: 0.0)\n",
      "family: The name of family which is a description of the label distribution to be used in the model. Supported options: auto, binomial, multinomial (default: auto)\n",
      "featuresCol: features column name. (default: features)\n",
      "fitIntercept: whether to fit an intercept term. (default: True)\n",
      "labelCol: label column name. (default: label)\n",
      "lowerBoundsOnCoefficients: The lower bounds on coefficients if fitting under bound constrained optimization. The bound matrix must be compatible with the shape (1, number of features) for binomial regression, or (number of classes, number of features) for multinomial regression. (undefined)\n",
      "lowerBoundsOnIntercepts: The lower bounds on intercepts if fitting under bound constrained optimization. The bounds vector size must beequal with 1 for binomial regression, or the number oflasses for multinomial regression. (undefined)\n",
      "maxIter: max number of iterations (>= 0). (default: 100, current: 10)\n",
      "predictionCol: prediction column name. (default: prediction)\n",
      "probabilityCol: Column name for predicted class conditional probabilities. Note: Not all models output well-calibrated probability estimates! These probabilities should be treated as confidences, not precise probabilities. (default: probability)\n",
      "rawPredictionCol: raw prediction (a.k.a. confidence) column name. (default: rawPrediction)\n",
      "regParam: regularization parameter (>= 0). (default: 0.0, current: 0.01)\n",
      "standardization: whether to standardize the training features before fitting the model. (default: True)\n",
      "threshold: Threshold in binary classification prediction, in range [0, 1]. If threshold and thresholds are both set, they must match.e.g. if threshold is p, then thresholds must be equal to [1-p, p]. (default: 0.5)\n",
      "thresholds: Thresholds in multi-class classification to adjust the probability of predicting each class. Array must have length equal to the number of classes, with values > 0, excepting that at most one value may be 0. The class with largest value p/t is predicted, where p is the original probability of that class and t is the class's threshold. (undefined)\n",
      "tol: the convergence tolerance for iterative algorithms (>= 0). (default: 1e-06)\n",
      "upperBoundsOnCoefficients: The upper bounds on coefficients if fitting under bound constrained optimization. The bound matrix must be compatible with the shape (1, number of features) for binomial regression, or (number of classes, number of features) for multinomial regression. (undefined)\n",
      "upperBoundsOnIntercepts: The upper bounds on intercepts if fitting under bound constrained optimization. The bound vector size must be equal with 1 for binomial regression, or the number of classes for multinomial regression. (undefined)\n",
      "weightCol: weight column name. If this is not set or empty, we treat all instance weights as 1.0. (undefined)\n",
      "\n"
     ]
    }
   ],
   "source": [
    "# Print out the parameters, documentation, and any default values.\n",
    "print(\"LogisticRegression parameters:\\n\" + lr.explainParams() + \"\\n\")\n",
    "\n",
    "# Learn a LogisticRegression model. This uses the parameters stored in lr.\n",
    "model1 = lr.fit(training)"
   ]
  },
  {
   "cell_type": "markdown",
   "id": "3fc3daee",
   "metadata": {},
   "source": [
    "#### 查看模型1的参数"
   ]
  },
  {
   "cell_type": "code",
   "execution_count": 13,
   "id": "4ce21df2",
   "metadata": {},
   "outputs": [
    {
     "name": "stdout",
     "output_type": "stream",
     "text": [
      "Model 1 was fit using parameters: \n",
      "{Param(parent='LogisticRegression_ac81e243c798', name='aggregationDepth', doc='suggested depth for treeAggregate (>= 2).'): 2, Param(parent='LogisticRegression_ac81e243c798', name='elasticNetParam', doc='the ElasticNet mixing parameter, in range [0, 1]. For alpha = 0, the penalty is an L2 penalty. For alpha = 1, it is an L1 penalty.'): 0.0, Param(parent='LogisticRegression_ac81e243c798', name='featuresCol', doc='features column name.'): 'features', Param(parent='LogisticRegression_ac81e243c798', name='fitIntercept', doc='whether to fit an intercept term.'): True, Param(parent='LogisticRegression_ac81e243c798', name='labelCol', doc='label column name.'): 'label', Param(parent='LogisticRegression_ac81e243c798', name='predictionCol', doc='prediction column name.'): 'prediction', Param(parent='LogisticRegression_ac81e243c798', name='probabilityCol', doc='Column name for predicted class conditional probabilities. Note: Not all models output well-calibrated probability estimates! These probabilities should be treated as confidences, not precise probabilities.'): 'probability', Param(parent='LogisticRegression_ac81e243c798', name='rawPredictionCol', doc='raw prediction (a.k.a. confidence) column name.'): 'rawPrediction', Param(parent='LogisticRegression_ac81e243c798', name='standardization', doc='whether to standardize the training features before fitting the model.'): True, Param(parent='LogisticRegression_ac81e243c798', name='threshold', doc='Threshold in binary classification prediction, in range [0, 1]. If threshold and thresholds are both set, they must match.e.g. if threshold is p, then thresholds must be equal to [1-p, p].'): 0.5, Param(parent='LogisticRegression_ac81e243c798', name='family', doc='The name of family which is a description of the label distribution to be used in the model. Supported options: auto, binomial, multinomial'): 'auto', Param(parent='LogisticRegression_ac81e243c798', name='maxIter', doc='max number of iterations (>= 0).'): 10, Param(parent='LogisticRegression_ac81e243c798', name='regParam', doc='regularization parameter (>= 0).'): 0.01, Param(parent='LogisticRegression_ac81e243c798', name='tol', doc='the convergence tolerance for iterative algorithms (>= 0).'): 1e-06}\n"
     ]
    }
   ],
   "source": [
    "# Since model1 is a Model (i.e., a transformer produced by an Estimator),\n",
    "# we can view the parameters it used during fit().\n",
    "# This prints the parameter (name: value) pairs, where names are unique IDs for this\n",
    "# LogisticRegression instance.\n",
    "print(\"Model 1 was fit using parameters: \")\n",
    "print(model1.extractParamMap())"
   ]
  },
  {
   "cell_type": "markdown",
   "id": "32a143ee",
   "metadata": {},
   "source": [
    "#### 指定某些参数"
   ]
  },
  {
   "cell_type": "code",
   "execution_count": 14,
   "id": "cc355ef3",
   "metadata": {},
   "outputs": [],
   "source": [
    "# We may alternatively specify parameters using a Python dictionary as a paramMap\n",
    "paramMap = {lr.maxIter: 20}\n",
    "paramMap[lr.maxIter] = 30  # Specify 1 Param, overwriting the original maxIter."
   ]
  },
  {
   "cell_type": "code",
   "execution_count": 15,
   "id": "f86200fb",
   "metadata": {},
   "outputs": [],
   "source": [
    "# Specify multiple Params.\n",
    "paramMap.update({lr.regParam: 0.1, lr.threshold: 0.55})  # type: ignore"
   ]
  },
  {
   "cell_type": "markdown",
   "id": "de9fb25d",
   "metadata": {},
   "source": [
    "#### 更新参数"
   ]
  },
  {
   "cell_type": "code",
   "execution_count": 16,
   "id": "c3c0cdb0",
   "metadata": {},
   "outputs": [],
   "source": [
    "# You can combine paramMaps, which are python dictionaries.\n",
    "# Change output column name\n",
    "paramMap2 = {lr.probabilityCol: \"myProbability\"}  # type: ignore\n",
    "paramMapCombined = paramMap.copy()\n",
    "paramMapCombined.update(paramMap2)  # type: ignore"
   ]
  },
  {
   "cell_type": "code",
   "execution_count": 17,
   "id": "aa824133",
   "metadata": {},
   "outputs": [
    {
     "data": {
      "text/plain": [
       "{Param(parent='LogisticRegression_ac81e243c798', name='maxIter', doc='max number of iterations (>= 0).'): 30,\n",
       " Param(parent='LogisticRegression_ac81e243c798', name='regParam', doc='regularization parameter (>= 0).'): 0.1,\n",
       " Param(parent='LogisticRegression_ac81e243c798', name='threshold', doc='Threshold in binary classification prediction, in range [0, 1]. If threshold and thresholds are both set, they must match.e.g. if threshold is p, then thresholds must be equal to [1-p, p].'): 0.55,\n",
       " Param(parent='LogisticRegression_ac81e243c798', name='probabilityCol', doc='Column name for predicted class conditional probabilities. Note: Not all models output well-calibrated probability estimates! These probabilities should be treated as confidences, not precise probabilities.'): 'myProbability'}"
      ]
     },
     "execution_count": 17,
     "metadata": {},
     "output_type": "execute_result"
    }
   ],
   "source": [
    "paramMapCombined"
   ]
  },
  {
   "cell_type": "markdown",
   "id": "48423163",
   "metadata": {},
   "source": [
    "#### 再次训练"
   ]
  },
  {
   "cell_type": "code",
   "execution_count": 19,
   "id": "14a1164b",
   "metadata": {},
   "outputs": [
    {
     "name": "stdout",
     "output_type": "stream",
     "text": [
      "Model 2 was fit using parameters: \n",
      "{Param(parent='LogisticRegression_ac81e243c798', name='aggregationDepth', doc='suggested depth for treeAggregate (>= 2).'): 2, Param(parent='LogisticRegression_ac81e243c798', name='elasticNetParam', doc='the ElasticNet mixing parameter, in range [0, 1]. For alpha = 0, the penalty is an L2 penalty. For alpha = 1, it is an L1 penalty.'): 0.0, Param(parent='LogisticRegression_ac81e243c798', name='featuresCol', doc='features column name.'): 'features', Param(parent='LogisticRegression_ac81e243c798', name='fitIntercept', doc='whether to fit an intercept term.'): True, Param(parent='LogisticRegression_ac81e243c798', name='labelCol', doc='label column name.'): 'label', Param(parent='LogisticRegression_ac81e243c798', name='predictionCol', doc='prediction column name.'): 'prediction', Param(parent='LogisticRegression_ac81e243c798', name='probabilityCol', doc='Column name for predicted class conditional probabilities. Note: Not all models output well-calibrated probability estimates! These probabilities should be treated as confidences, not precise probabilities.'): 'myProbability', Param(parent='LogisticRegression_ac81e243c798', name='rawPredictionCol', doc='raw prediction (a.k.a. confidence) column name.'): 'rawPrediction', Param(parent='LogisticRegression_ac81e243c798', name='standardization', doc='whether to standardize the training features before fitting the model.'): True, Param(parent='LogisticRegression_ac81e243c798', name='threshold', doc='Threshold in binary classification prediction, in range [0, 1]. If threshold and thresholds are both set, they must match.e.g. if threshold is p, then thresholds must be equal to [1-p, p].'): 0.55, Param(parent='LogisticRegression_ac81e243c798', name='family', doc='The name of family which is a description of the label distribution to be used in the model. Supported options: auto, binomial, multinomial'): 'auto', Param(parent='LogisticRegression_ac81e243c798', name='maxIter', doc='max number of iterations (>= 0).'): 30, Param(parent='LogisticRegression_ac81e243c798', name='regParam', doc='regularization parameter (>= 0).'): 0.1, Param(parent='LogisticRegression_ac81e243c798', name='tol', doc='the convergence tolerance for iterative algorithms (>= 0).'): 1e-06}\n"
     ]
    }
   ],
   "source": [
    "# Now learn a new model using the paramMapCombined parameters.\n",
    "# paramMapCombined overrides all parameters set earlier via lr.set* methods.\n",
    "model2 = lr.fit(training, paramMapCombined)\n",
    "print(\"Model 2 was fit using parameters: \")\n",
    "print(model2.extractParamMap())"
   ]
  },
  {
   "cell_type": "markdown",
   "id": "6d856053",
   "metadata": {},
   "source": [
    "#### 导入测试集"
   ]
  },
  {
   "cell_type": "code",
   "execution_count": 20,
   "id": "d471f9d5",
   "metadata": {},
   "outputs": [],
   "source": [
    "# Prepare test data\n",
    "test = spark.createDataFrame([\n",
    "    (1.0, Vectors.dense([-1.0, 1.5, 1.3])),\n",
    "    (0.0, Vectors.dense([3.0, 2.0, -0.1])),\n",
    "    (1.0, Vectors.dense([0.0, 2.2, -1.5]))], [\"label\", \"features\"])"
   ]
  },
  {
   "cell_type": "markdown",
   "id": "4f19b76b",
   "metadata": {},
   "source": [
    "#### 对测试集做预测"
   ]
  },
  {
   "cell_type": "code",
   "execution_count": 22,
   "id": "8e7c4b42",
   "metadata": {},
   "outputs": [
    {
     "name": "stdout",
     "output_type": "stream",
     "text": [
      "features=[-1.0,1.5,1.3], label=1.0 , prob=[0.05707304171034058,0.9429269582896594], prediction=1.0\n",
      "features=[3.0,2.0,-0.1], label=0.0 , prob=[0.9238522311704118,0.07614776882958818], prediction=0.0\n",
      "features=[0.0,2.2,-1.5], label=1.0 , prob=[0.10972776114779739,0.8902722388522026], prediction=1.0\n"
     ]
    }
   ],
   "source": [
    "# Make predictions on test data using the Transformer.transform() method.\n",
    "# LogisticRegression.transform will only use the 'features' column.\n",
    "# Note that model2.transform() outputs a \"myProbability\" column instead of the usual\n",
    "# 'probability' column since we renamed the lr.probabilityCol parameter previously.\n",
    "prediction = model2.transform(test)\n",
    "result = prediction.select(\"features\", \"label\", \"myProbability\", \"prediction\") \\\n",
    "    .collect()\n",
    "\n",
    "for row in result:\n",
    "    print(\"features=%s, label=%s , prob=%s, prediction=%s\"\n",
    "          % (row.features, row.label, row.myProbability, row.prediction))"
   ]
  },
  {
   "cell_type": "code",
   "execution_count": null,
   "id": "50671245",
   "metadata": {},
   "outputs": [],
   "source": []
  },
  {
   "cell_type": "markdown",
   "id": "49d5cd27",
   "metadata": {},
   "source": [
    "### 文本分类"
   ]
  },
  {
   "cell_type": "code",
   "execution_count": 23,
   "id": "1067fef5",
   "metadata": {},
   "outputs": [],
   "source": [
    "from pyspark.ml import Pipeline\n",
    "from pyspark.ml.classification import LogisticRegression\n",
    "from pyspark.ml.feature import HashingTF, Tokenizer\n",
    "\n",
    "# Prepare training documents from a list of (id, text, label) tuples.\n",
    "training = spark.createDataFrame([\n",
    "    (0, \"a b c d e spark\", 1.0),\n",
    "    (1, \"b d\", 0.0),\n",
    "    (2, \"spark f g h\", 1.0),\n",
    "    (3, \"hadoop mapreduce\", 0.0)\n",
    "], [\"id\", \"text\", \"label\"])"
   ]
  },
  {
   "cell_type": "code",
   "execution_count": 24,
   "id": "3594dcca",
   "metadata": {},
   "outputs": [
    {
     "data": {
      "text/html": [
       "<table border='1'>\n",
       "<tr><th>id</th><th>text</th><th>label</th></tr>\n",
       "<tr><td>0</td><td>a b c d e spark</td><td>1.0</td></tr>\n",
       "<tr><td>1</td><td>b d</td><td>0.0</td></tr>\n",
       "<tr><td>2</td><td>spark f g h</td><td>1.0</td></tr>\n",
       "<tr><td>3</td><td>hadoop mapreduce</td><td>0.0</td></tr>\n",
       "</table>\n"
      ],
      "text/plain": [
       "+---+----------------+-----+\n",
       "| id|            text|label|\n",
       "+---+----------------+-----+\n",
       "|  0| a b c d e spark|  1.0|\n",
       "|  1|             b d|  0.0|\n",
       "|  2|     spark f g h|  1.0|\n",
       "|  3|hadoop mapreduce|  0.0|\n",
       "+---+----------------+-----+"
      ]
     },
     "execution_count": 24,
     "metadata": {},
     "output_type": "execute_result"
    }
   ],
   "source": [
    "training"
   ]
  },
  {
   "cell_type": "markdown",
   "id": "21a11377",
   "metadata": {},
   "source": [
    "#### 实例化"
   ]
  },
  {
   "cell_type": "code",
   "execution_count": 25,
   "id": "eb3ff307",
   "metadata": {},
   "outputs": [],
   "source": [
    "# Configure an ML pipeline, which consists of three stages: tokenizer, hashingTF, and lr.\n",
    "tokenizer = Tokenizer(inputCol=\"text\", outputCol=\"words\")\n",
    "hashingTF = HashingTF(inputCol=tokenizer.getOutputCol(), outputCol=\"features\")"
   ]
  },
  {
   "cell_type": "code",
   "execution_count": 28,
   "id": "7ecc3275",
   "metadata": {},
   "outputs": [],
   "source": [
    "lr = LogisticRegression(maxIter=10, regParam=0.001)\n",
    "pipeline = Pipeline(stages=[tokenizer, hashingTF, lr])"
   ]
  },
  {
   "cell_type": "markdown",
   "id": "bf4da40e",
   "metadata": {},
   "source": [
    "#### 模型训练"
   ]
  },
  {
   "cell_type": "code",
   "execution_count": 29,
   "id": "d1114b8c",
   "metadata": {},
   "outputs": [],
   "source": [
    "# Fit the pipeline to training documents.\n",
    "model = pipeline.fit(training)"
   ]
  },
  {
   "cell_type": "markdown",
   "id": "6182936e",
   "metadata": {},
   "source": [
    "#### 对测试集做标注"
   ]
  },
  {
   "cell_type": "code",
   "execution_count": 30,
   "id": "b7e69bda",
   "metadata": {},
   "outputs": [
    {
     "name": "stdout",
     "output_type": "stream",
     "text": [
      "(4, spark i j k) --> prob=[0.15964077387874118,0.8403592261212589], prediction=1.000000\n",
      "(5, l m n) --> prob=[0.8378325685476612,0.16216743145233875], prediction=0.000000\n",
      "(6, spark hadoop spark) --> prob=[0.06926633132976273,0.9307336686702373], prediction=1.000000\n",
      "(7, apache hadoop) --> prob=[0.9821575333444208,0.01784246665557917], prediction=0.000000\n"
     ]
    }
   ],
   "source": [
    "# Prepare test documents, which are unlabeled (id, text) tuples.\n",
    "test = spark.createDataFrame([\n",
    "    (4, \"spark i j k\"),\n",
    "    (5, \"l m n\"),\n",
    "    (6, \"spark hadoop spark\"),\n",
    "    (7, \"apache hadoop\")\n",
    "], [\"id\", \"text\"])\n",
    "\n",
    "# Make predictions on test documents and print columns of interest.\n",
    "prediction = model.transform(test)\n",
    "selected = prediction.select(\"id\", \"text\", \"probability\", \"prediction\")\n",
    "for row in selected.collect():\n",
    "    rid, text, prob, prediction = row  # type: ignore\n",
    "    print(\n",
    "        \"(%d, %s) --> prob=%s, prediction=%f\" % (\n",
    "            rid, text, str(prob), prediction   # type: ignore\n",
    "        )\n",
    "    )"
   ]
  },
  {
   "cell_type": "code",
   "execution_count": null,
   "id": "55ff7328",
   "metadata": {},
   "outputs": [],
   "source": []
  },
  {
   "cell_type": "code",
   "execution_count": null,
   "id": "161d5b89",
   "metadata": {},
   "outputs": [],
   "source": []
  }
 ],
 "metadata": {
  "kernelspec": {
   "display_name": "Python 3",
   "language": "python",
   "name": "python3"
  },
  "language_info": {
   "codemirror_mode": {
    "name": "ipython",
    "version": 3
   },
   "file_extension": ".py",
   "mimetype": "text/x-python",
   "name": "python",
   "nbconvert_exporter": "python",
   "pygments_lexer": "ipython3",
   "version": "3.7.6"
  },
  "toc": {
   "base_numbering": 1,
   "nav_menu": {},
   "number_sections": true,
   "sideBar": true,
   "skip_h1_title": false,
   "title_cell": "Table of Contents",
   "title_sidebar": "Contents",
   "toc_cell": false,
   "toc_position": {},
   "toc_section_display": true,
   "toc_window_display": true
  }
 },
 "nbformat": 4,
 "nbformat_minor": 5
}
