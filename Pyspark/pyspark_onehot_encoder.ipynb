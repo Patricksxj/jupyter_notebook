{
 "cells": [
  {
   "cell_type": "markdown",
   "id": "18c98668",
   "metadata": {},
   "source": [
    "### 创建session"
   ]
  },
  {
   "cell_type": "code",
   "execution_count": 1,
   "id": "0e608b06",
   "metadata": {},
   "outputs": [],
   "source": [
    "from pyspark.sql import SparkSession\n",
    "from pyspark.conf import SparkConf\n",
    "conf = SparkConf()\n",
    "conf.set(\"spark.driver.extraJavaOptions\", \"-Dio.netty.tryReflectionSetAccessible=true\")\n",
    "conf.set(\"spark.executor.extraJavaOptions\", \"-Dio.netty.tryReflectionSetAccessible=true\")\n",
    "spark = SparkSession.builder.config(conf=conf).getOrCreate()"
   ]
  },
  {
   "cell_type": "markdown",
   "id": "3e4a44dd",
   "metadata": {},
   "source": [
    "### 导入数据"
   ]
  },
  {
   "cell_type": "code",
   "execution_count": 4,
   "id": "00a0fe11",
   "metadata": {},
   "outputs": [
    {
     "name": "stdout",
     "output_type": "stream",
     "text": [
      "+------+\n",
      "| Color|\n",
      "+------+\n",
      "|   Red|\n",
      "|   Red|\n",
      "|Yellow|\n",
      "| Green|\n",
      "|Yellow|\n",
      "+------+\n",
      "\n"
     ]
    }
   ],
   "source": [
    "df = spark.read.option(\"header\", True).csv(\"color.csv\") \n",
    "df.show()"
   ]
  },
  {
   "cell_type": "markdown",
   "id": "513945ee",
   "metadata": {},
   "source": [
    "### 创建唯一值"
   ]
  },
  {
   "cell_type": "code",
   "execution_count": 5,
   "id": "b079ebf5",
   "metadata": {},
   "outputs": [],
   "source": [
    "#   ##  import the required libraries\n",
    "from pyspark.sql.functions import udf, col\n",
    "from pyspark.sql.types import IntegerType"
   ]
  },
  {
   "cell_type": "code",
   "execution_count": null,
   "id": "68439e7a",
   "metadata": {},
   "outputs": [],
   "source": []
  },
  {
   "cell_type": "code",
   "execution_count": 6,
   "id": "7db248b2",
   "metadata": {},
   "outputs": [],
   "source": [
    "#   ##  gather the distinct values\n",
    "distinct_values = list(df.select(\"Color\")\n",
    "                       .distinct()\n",
    "                       .toPandas()[\"Color\"])"
   ]
  },
  {
   "cell_type": "code",
   "execution_count": null,
   "id": "8fe6022e",
   "metadata": {},
   "outputs": [],
   "source": []
  },
  {
   "cell_type": "code",
   "execution_count": 7,
   "id": "9ecc5c06",
   "metadata": {},
   "outputs": [
    {
     "data": {
      "text/plain": [
       "['Green', 'Yellow', 'Red']"
      ]
     },
     "execution_count": 7,
     "metadata": {},
     "output_type": "execute_result"
    }
   ],
   "source": [
    "distinct_values"
   ]
  },
  {
   "cell_type": "code",
   "execution_count": null,
   "id": "538984ee",
   "metadata": {},
   "outputs": [],
   "source": []
  },
  {
   "cell_type": "code",
   "execution_count": 8,
   "id": "c1f84e58",
   "metadata": {},
   "outputs": [],
   "source": [
    "#   ##  gather the distinct values\n",
    "distinct_values = df.select(\"Color\")\\\n",
    "                    .distinct() \\\n",
    "                    .rdd\\\n",
    "                    .flatMap(lambda x: x).collect()"
   ]
  },
  {
   "cell_type": "markdown",
   "id": "aa5d97e6",
   "metadata": {},
   "source": [
    "### 做数据转换，建立onehot encoder"
   ]
  },
  {
   "cell_type": "code",
   "execution_count": 9,
   "id": "aa5630ab",
   "metadata": {},
   "outputs": [
    {
     "name": "stdout",
     "output_type": "stream",
     "text": [
      "+------+-----------+------------+---------+\n",
      "| Color|Color_Green|Color_Yellow|Color_Red|\n",
      "+------+-----------+------------+---------+\n",
      "|   Red|          0|           0|        1|\n",
      "|   Red|          0|           0|        1|\n",
      "|Yellow|          0|           1|        0|\n",
      "| Green|          1|           0|        0|\n",
      "|Yellow|          0|           1|        0|\n",
      "+------+-----------+------------+---------+\n",
      "\n"
     ]
    }
   ],
   "source": [
    "#   ##  for each of the gathered values create a new column \n",
    "for distinct_value in distinct_values:\n",
    "    function = udf(lambda item: \n",
    "                   1 if item == distinct_value else 0, \n",
    "                   IntegerType())\n",
    "    new_column_name = \"Color\"+'_'+distinct_value\n",
    "    df = df.withColumn(new_column_name, function(col(\"Color\")))\n",
    "df.show()"
   ]
  }
 ],
 "metadata": {
  "kernelspec": {
   "display_name": "Python 3",
   "language": "python",
   "name": "python3"
  },
  "language_info": {
   "codemirror_mode": {
    "name": "ipython",
    "version": 3
   },
   "file_extension": ".py",
   "mimetype": "text/x-python",
   "name": "python",
   "nbconvert_exporter": "python",
   "pygments_lexer": "ipython3",
   "version": "3.7.6"
  },
  "toc": {
   "base_numbering": 1,
   "nav_menu": {},
   "number_sections": true,
   "sideBar": true,
   "skip_h1_title": false,
   "title_cell": "Table of Contents",
   "title_sidebar": "Contents",
   "toc_cell": false,
   "toc_position": {},
   "toc_section_display": true,
   "toc_window_display": false
  }
 },
 "nbformat": 4,
 "nbformat_minor": 5
}
