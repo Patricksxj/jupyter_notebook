{
 "cells": [
  {
   "cell_type": "code",
   "execution_count": 1,
   "metadata": {
    "ExecuteTime": {
     "end_time": "2020-04-11T10:15:29.649306Z",
     "start_time": "2020-04-11T10:15:29.628305Z"
    }
   },
   "outputs": [],
   "source": [
    "from pyspark.sql.types import * \n",
    "from pyspark.sql import SparkSession\n",
    "from pyspark import SparkConf, SparkContext\n",
    "from graphframes import *\n",
    "# 启动 Spark （如果你已经启动就不需要）\n",
    "spark = SparkSession.builder.master(\"local[*]\") \\\n",
    "   .appName(\"test\") \\\n",
    "   .enableHiveSupport() \\\n",
    "   .getOrCreate()"
   ]
  },
  {
   "cell_type": "code",
   "execution_count": 3,
   "metadata": {
    "ExecuteTime": {
     "end_time": "2020-04-11T10:18:51.041825Z",
     "start_time": "2020-04-11T10:18:41.716292Z"
    }
   },
   "outputs": [],
   "source": [
    "import pandas as pd"
   ]
  },
  {
   "cell_type": "code",
   "execution_count": 4,
   "metadata": {
    "ExecuteTime": {
     "end_time": "2020-04-11T10:19:11.443992Z",
     "start_time": "2020-04-11T10:19:11.208979Z"
    }
   },
   "outputs": [],
   "source": [
    "df_airpots=pd.read_csv('airports.csv')"
   ]
  },
  {
   "cell_type": "code",
   "execution_count": 5,
   "metadata": {
    "ExecuteTime": {
     "end_time": "2020-04-11T10:19:17.866359Z",
     "start_time": "2020-04-11T10:19:17.599344Z"
    }
   },
   "outputs": [
    {
     "data": {
      "text/html": [
       "<div>\n",
       "<style scoped>\n",
       "    .dataframe tbody tr th:only-of-type {\n",
       "        vertical-align: middle;\n",
       "    }\n",
       "\n",
       "    .dataframe tbody tr th {\n",
       "        vertical-align: top;\n",
       "    }\n",
       "\n",
       "    .dataframe thead th {\n",
       "        text-align: right;\n",
       "    }\n",
       "</style>\n",
       "<table border=\"1\" class=\"dataframe\">\n",
       "  <thead>\n",
       "    <tr style=\"text-align: right;\">\n",
       "      <th></th>\n",
       "      <th>1</th>\n",
       "      <th>Goroka Airport</th>\n",
       "      <th>Goroka</th>\n",
       "      <th>Papua New Guinea</th>\n",
       "      <th>GKA</th>\n",
       "      <th>AYGA</th>\n",
       "      <th>-6.081689834590001</th>\n",
       "      <th>145.391998291</th>\n",
       "      <th>5282</th>\n",
       "      <th>10</th>\n",
       "      <th>U</th>\n",
       "      <th>Pacific/Port_Moresby</th>\n",
       "      <th>airport</th>\n",
       "      <th>OurAirports</th>\n",
       "    </tr>\n",
       "  </thead>\n",
       "  <tbody>\n",
       "    <tr>\n",
       "      <td>0</td>\n",
       "      <td>2</td>\n",
       "      <td>Madang Airport</td>\n",
       "      <td>Madang</td>\n",
       "      <td>Papua New Guinea</td>\n",
       "      <td>MAG</td>\n",
       "      <td>AYMD</td>\n",
       "      <td>-5.207080</td>\n",
       "      <td>145.789001</td>\n",
       "      <td>20</td>\n",
       "      <td>10</td>\n",
       "      <td>U</td>\n",
       "      <td>Pacific/Port_Moresby</td>\n",
       "      <td>airport</td>\n",
       "      <td>OurAirports</td>\n",
       "    </tr>\n",
       "    <tr>\n",
       "      <td>1</td>\n",
       "      <td>3</td>\n",
       "      <td>Mount Hagen Kagamuga Airport</td>\n",
       "      <td>Mount Hagen</td>\n",
       "      <td>Papua New Guinea</td>\n",
       "      <td>HGU</td>\n",
       "      <td>AYMH</td>\n",
       "      <td>-5.826790</td>\n",
       "      <td>144.296005</td>\n",
       "      <td>5388</td>\n",
       "      <td>10</td>\n",
       "      <td>U</td>\n",
       "      <td>Pacific/Port_Moresby</td>\n",
       "      <td>airport</td>\n",
       "      <td>OurAirports</td>\n",
       "    </tr>\n",
       "    <tr>\n",
       "      <td>2</td>\n",
       "      <td>4</td>\n",
       "      <td>Nadzab Airport</td>\n",
       "      <td>Nadzab</td>\n",
       "      <td>Papua New Guinea</td>\n",
       "      <td>LAE</td>\n",
       "      <td>AYNZ</td>\n",
       "      <td>-6.569803</td>\n",
       "      <td>146.725977</td>\n",
       "      <td>239</td>\n",
       "      <td>10</td>\n",
       "      <td>U</td>\n",
       "      <td>Pacific/Port_Moresby</td>\n",
       "      <td>airport</td>\n",
       "      <td>OurAirports</td>\n",
       "    </tr>\n",
       "    <tr>\n",
       "      <td>3</td>\n",
       "      <td>5</td>\n",
       "      <td>Port Moresby Jacksons International Airport</td>\n",
       "      <td>Port Moresby</td>\n",
       "      <td>Papua New Guinea</td>\n",
       "      <td>POM</td>\n",
       "      <td>AYPY</td>\n",
       "      <td>-9.443380</td>\n",
       "      <td>147.220001</td>\n",
       "      <td>146</td>\n",
       "      <td>10</td>\n",
       "      <td>U</td>\n",
       "      <td>Pacific/Port_Moresby</td>\n",
       "      <td>airport</td>\n",
       "      <td>OurAirports</td>\n",
       "    </tr>\n",
       "    <tr>\n",
       "      <td>4</td>\n",
       "      <td>6</td>\n",
       "      <td>Wewak International Airport</td>\n",
       "      <td>Wewak</td>\n",
       "      <td>Papua New Guinea</td>\n",
       "      <td>WWK</td>\n",
       "      <td>AYWK</td>\n",
       "      <td>-3.583830</td>\n",
       "      <td>143.669006</td>\n",
       "      <td>19</td>\n",
       "      <td>10</td>\n",
       "      <td>U</td>\n",
       "      <td>Pacific/Port_Moresby</td>\n",
       "      <td>airport</td>\n",
       "      <td>OurAirports</td>\n",
       "    </tr>\n",
       "  </tbody>\n",
       "</table>\n",
       "</div>"
      ],
      "text/plain": [
       "   1                               Goroka Airport        Goroka  \\\n",
       "0  2                               Madang Airport        Madang   \n",
       "1  3                 Mount Hagen Kagamuga Airport   Mount Hagen   \n",
       "2  4                               Nadzab Airport        Nadzab   \n",
       "3  5  Port Moresby Jacksons International Airport  Port Moresby   \n",
       "4  6                  Wewak International Airport         Wewak   \n",
       "\n",
       "   Papua New Guinea  GKA  AYGA  -6.081689834590001  145.391998291  5282  10  \\\n",
       "0  Papua New Guinea  MAG  AYMD           -5.207080     145.789001    20  10   \n",
       "1  Papua New Guinea  HGU  AYMH           -5.826790     144.296005  5388  10   \n",
       "2  Papua New Guinea  LAE  AYNZ           -6.569803     146.725977   239  10   \n",
       "3  Papua New Guinea  POM  AYPY           -9.443380     147.220001   146  10   \n",
       "4  Papua New Guinea  WWK  AYWK           -3.583830     143.669006    19  10   \n",
       "\n",
       "   U  Pacific/Port_Moresby  airport  OurAirports  \n",
       "0  U  Pacific/Port_Moresby  airport  OurAirports  \n",
       "1  U  Pacific/Port_Moresby  airport  OurAirports  \n",
       "2  U  Pacific/Port_Moresby  airport  OurAirports  \n",
       "3  U  Pacific/Port_Moresby  airport  OurAirports  \n",
       "4  U  Pacific/Port_Moresby  airport  OurAirports  "
      ]
     },
     "execution_count": 5,
     "metadata": {},
     "output_type": "execute_result"
    }
   ],
   "source": [
    "df_airpots.head()"
   ]
  },
  {
   "cell_type": "code",
   "execution_count": 2,
   "metadata": {
    "ExecuteTime": {
     "end_time": "2020-04-11T10:15:40.211910Z",
     "start_time": "2020-04-11T10:15:40.053901Z"
    }
   },
   "outputs": [
    {
     "ename": "NameError",
     "evalue": "name 'airports' is not defined",
     "output_type": "error",
     "traceback": [
      "\u001b[1;31m---------------------------------------------------------------------------\u001b[0m",
      "\u001b[1;31mNameError\u001b[0m                                 Traceback (most recent call last)",
      "\u001b[1;32m<ipython-input-2-d6804c0b829b>\u001b[0m in \u001b[0;36m<module>\u001b[1;34m\u001b[0m\n\u001b[0;32m      1\u001b[0m \u001b[1;31m# Create Vertices (airports) and Edges (flights)\u001b[0m\u001b[1;33m\u001b[0m\u001b[1;33m\u001b[0m\u001b[1;33m\u001b[0m\u001b[0m\n\u001b[1;32m----> 2\u001b[1;33m \u001b[0mtripVertices\u001b[0m\u001b[1;33m=\u001b[0m\u001b[0mairports\u001b[0m\u001b[1;33m.\u001b[0m\u001b[0mwithColumnRenamed\u001b[0m\u001b[1;33m(\u001b[0m\u001b[1;34m\"IATA\"\u001b[0m\u001b[1;33m,\u001b[0m\u001b[1;34m\"id\"\u001b[0m\u001b[1;33m)\u001b[0m\u001b[1;33m.\u001b[0m\u001b[0mdistinct\u001b[0m\u001b[1;33m(\u001b[0m\u001b[1;33m)\u001b[0m\u001b[1;33m\u001b[0m\u001b[1;33m\u001b[0m\u001b[0m\n\u001b[0m\u001b[0;32m      3\u001b[0m \u001b[0mtripEdges\u001b[0m\u001b[1;33m=\u001b[0m\u001b[0mdepartureDelays\u001b[0m\u001b[1;33m.\u001b[0m\u001b[0mselect\u001b[0m\u001b[1;33m(\u001b[0m\u001b[1;34m\"tripid\"\u001b[0m\u001b[1;33m,\u001b[0m\u001b[1;34m\"delay\"\u001b[0m\u001b[1;33m,\u001b[0m\u001b[1;34m\"src\"\u001b[0m\u001b[1;33m,\u001b[0m\u001b[1;34m\"dst\"\u001b[0m\u001b[1;33m,\u001b[0m\u001b[1;34m\"city_dst\"\u001b[0m  \u001b[1;33m,\u001b[0m\u001b[1;34m\"state_dst\"\u001b[0m\u001b[1;33m)\u001b[0m\u001b[1;33m\u001b[0m\u001b[1;33m\u001b[0m\u001b[0m\n\u001b[0;32m      4\u001b[0m \u001b[1;31m# This GraphFrame builds upon the vertices and edges based on our trips (flights)\u001b[0m\u001b[1;33m\u001b[0m\u001b[1;33m\u001b[0m\u001b[1;33m\u001b[0m\u001b[0m\n\u001b[0;32m      5\u001b[0m \u001b[0mtripGraph\u001b[0m\u001b[1;33m=\u001b[0m\u001b[0mGraphFrame\u001b[0m\u001b[1;33m(\u001b[0m\u001b[0mtripVertices\u001b[0m\u001b[1;33m,\u001b[0m \u001b[0mtripEdges\u001b[0m\u001b[1;33m)\u001b[0m\u001b[1;33m\u001b[0m\u001b[1;33m\u001b[0m\u001b[0m\n",
      "\u001b[1;31mNameError\u001b[0m: name 'airports' is not defined"
     ]
    }
   ],
   "source": [
    "# Create Vertices (airports) and Edges (flights)\n",
    "tripVertices=airports.withColumnRenamed(\"IATA\",\"id\").distinct()\n",
    "tripEdges=departureDelays.select(\"tripid\",\"delay\",\"src\",\"dst\",\"city_dst\"  ,\"state_dst\")\n",
    "# This GraphFrame builds upon the vertices and edges based on our trips (flights)\n",
    "tripGraph=GraphFrame(tripVertices, tripEdges)"
   ]
  },
  {
   "cell_type": "code",
   "execution_count": null,
   "metadata": {},
   "outputs": [],
   "source": []
  }
 ],
 "metadata": {
  "kernelspec": {
   "display_name": "Python 3",
   "language": "python",
   "name": "python3"
  },
  "language_info": {
   "codemirror_mode": {
    "name": "ipython",
    "version": 3
   },
   "file_extension": ".py",
   "mimetype": "text/x-python",
   "name": "python",
   "nbconvert_exporter": "python",
   "pygments_lexer": "ipython3",
   "version": "3.7.4"
  }
 },
 "nbformat": 4,
 "nbformat_minor": 2
}
