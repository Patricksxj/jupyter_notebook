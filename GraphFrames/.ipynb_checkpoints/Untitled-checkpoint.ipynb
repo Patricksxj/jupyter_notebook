{
 "cells": [
  {
   "cell_type": "code",
   "execution_count": 1,
   "metadata": {
    "ExecuteTime": {
     "end_time": "2020-04-11T10:15:29.649306Z",
     "start_time": "2020-04-11T10:15:29.628305Z"
    }
   },
   "outputs": [],
   "source": [
    "from pyspark.sql.types import * \n",
    "from pyspark.sql import SparkSession\n",
    "from pyspark import SparkConf, SparkContext\n",
    "from graphframes import *\n",
    "# 启动 Spark （如果你已经启动就不需要）\n",
    "spark = SparkSession.builder.master(\"local[*]\") \\\n",
    "   .appName(\"test\") \\\n",
    "   .enableHiveSupport() \\\n",
    "   .getOrCreate()"
   ]
  },
  {
   "cell_type": "code",
   "execution_count": null,
   "metadata": {},
   "outputs": [],
   "source": [
    "# Create Vertices (airports) and Edges (flights)\n",
    "\n",
    "tripVertices=airports.withColumnRenamed(\"IATA\",\"id\").distinct()\n",
    "\n",
    "tripEdges=departureDelays.select(\"tripid\",\"delay\",\"src\",\"dst\",\"city_dst\"  ,\"state_dst\")\n",
    "\n",
    "# This GraphFrame builds upon the vertices and edges based on our trips (flights)\n",
    "\n",
    "tripGraph=GraphFrame(tripVertices, tripEdges)"
   ]
  },
  {
   "cell_type": "code",
   "execution_count": null,
   "metadata": {},
   "outputs": [],
   "source": []
  }
 ],
 "metadata": {
  "kernelspec": {
   "display_name": "Python 3",
   "language": "python",
   "name": "python3"
  },
  "language_info": {
   "codemirror_mode": {
    "name": "ipython",
    "version": 3
   },
   "file_extension": ".py",
   "mimetype": "text/x-python",
   "name": "python",
   "nbconvert_exporter": "python",
   "pygments_lexer": "ipython3",
   "version": "3.7.4"
  }
 },
 "nbformat": 4,
 "nbformat_minor": 2
}
