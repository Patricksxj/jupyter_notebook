{
 "cells": [
  {
   "cell_type": "code",
   "execution_count": 1,
   "metadata": {
    "ExecuteTime": {
     "end_time": "2019-10-19T01:31:17.734466Z",
     "start_time": "2019-10-19T01:30:46.640687Z"
    }
   },
   "outputs": [],
   "source": [
    "from scipy.stats import norm"
   ]
  },
  {
   "cell_type": "markdown",
   "metadata": {},
   "source": [
    "单尾"
   ]
  },
  {
   "cell_type": "code",
   "execution_count": 16,
   "metadata": {},
   "outputs": [
    {
     "data": {
      "text/plain": [
       "1.6448536269514722"
      ]
     },
     "execution_count": 16,
     "metadata": {},
     "output_type": "execute_result"
    }
   ],
   "source": [
    "norm.ppf(0.95,scale=1)"
   ]
  },
  {
   "cell_type": "markdown",
   "metadata": {},
   "source": [
    "双尾"
   ]
  },
  {
   "cell_type": "code",
   "execution_count": 17,
   "metadata": {},
   "outputs": [
    {
     "data": {
      "text/plain": [
       "1.959963984540054"
      ]
     },
     "execution_count": 17,
     "metadata": {},
     "output_type": "execute_result"
    }
   ],
   "source": [
    "norm.ppf((0.95+1)/2,scale=1)"
   ]
  },
  {
   "cell_type": "code",
   "execution_count": 3,
   "metadata": {
    "ExecuteTime": {
     "end_time": "2019-10-19T01:47:05.735688Z",
     "start_time": "2019-10-19T01:47:05.685685Z"
    }
   },
   "outputs": [
    {
     "data": {
      "text/plain": [
       "0.017864420562816542"
      ]
     },
     "execution_count": 3,
     "metadata": {},
     "output_type": "execute_result"
    }
   ],
   "source": [
    "norm.cdf(-2.1)"
   ]
  },
  {
   "cell_type": "markdown",
   "metadata": {},
   "source": [
    "双尾分位数结果"
   ]
  },
  {
   "cell_type": "code",
   "execution_count": 20,
   "metadata": {},
   "outputs": [
    {
     "name": "stdout",
     "output_type": "stream",
     "text": [
      "双尾检测分位数 0.9的结果是：1.6448536269514722\n",
      "双尾检测分位数 0.95的结果是：1.959963984540054\n",
      "双尾检测分位数 0.98的结果是：2.3263478740408408\n",
      "双尾检测分位数 0.99的结果是：2.5758293035489004\n"
     ]
    }
   ],
   "source": [
    "for i,j  in enumerate([0.9,0.95,0.98,0.99]):\n",
    "    result=norm.ppf((j+1)/2,scale=1)\n",
    "    print('双尾检测分位数 %s的结果是：%s' %(j,result))"
   ]
  },
  {
   "cell_type": "code",
   "execution_count": 19,
   "metadata": {},
   "outputs": [
    {
     "name": "stdout",
     "output_type": "stream",
     "text": [
      "单尾检测分位数 0.9的结果是：1.2815515655446004\n",
      "单尾检测分位数 0.95的结果是：1.6448536269514722\n",
      "单尾检测分位数 0.98的结果是：2.0537489106318225\n",
      "单尾检测分位数 0.99的结果是：2.3263478740408408\n"
     ]
    }
   ],
   "source": [
    "for i,j  in enumerate([0.9,0.95,0.98,0.99]):\n",
    "    result=norm.ppf(j,scale=1)\n",
    "    print('单尾检测分位数 %s的结果是：%s' %(j,result))"
   ]
  }
 ],
 "metadata": {
  "kernelspec": {
   "display_name": "Python 3",
   "language": "python",
   "name": "python3"
  },
  "language_info": {
   "codemirror_mode": {
    "name": "ipython",
    "version": 3
   },
   "file_extension": ".py",
   "mimetype": "text/x-python",
   "name": "python",
   "nbconvert_exporter": "python",
   "pygments_lexer": "ipython3",
   "version": "3.6.4"
  }
 },
 "nbformat": 4,
 "nbformat_minor": 2
}
