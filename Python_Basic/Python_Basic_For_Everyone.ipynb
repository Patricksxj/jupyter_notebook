{
 "cells": [
  {
   "cell_type": "markdown",
   "metadata": {},
   "source": [
    "# Python基础分享"
   ]
  },
  {
   "cell_type": "markdown",
   "metadata": {},
   "source": [
    "## 1.检查python版本"
   ]
  },
  {
   "cell_type": "code",
   "execution_count": null,
   "metadata": {},
   "outputs": [],
   "source": [
    "import sys \n",
    "sys.version"
   ]
  },
  {
   "cell_type": "markdown",
   "metadata": {},
   "source": [
    "## 2.尝试第一个python代码"
   ]
  },
  {
   "cell_type": "code",
   "execution_count": null,
   "metadata": {},
   "outputs": [],
   "source": [
    "import datetime\n",
    "time=datetime.datetime.now()"
   ]
  },
  {
   "cell_type": "code",
   "execution_count": null,
   "metadata": {},
   "outputs": [],
   "source": [
    "import datetime\n",
    "print('现在是%s，我还在给你们做ppt' %time)"
   ]
  },
  {
   "cell_type": "markdown",
   "metadata": {},
   "source": [
    "## 3.标识符\n",
    "第一个字符必须是字母表中字母或下划线 _  <br/> \n",
    "标识符的其他的部分由字母、数字和下划线组成 <br/> \n",
    "标识符对大小写敏感。"
   ]
  },
  {
   "cell_type": "markdown",
   "metadata": {},
   "source": [
    "## 4.python保留字\n",
    "保留字即关键字，我们不能把它们用作任何标识符名称。<br/> Python 的标准库提供了一个 keyword 模块，可以输出当前版本的所有关键字："
   ]
  },
  {
   "cell_type": "code",
   "execution_count": null,
   "metadata": {},
   "outputs": [],
   "source": [
    "'''\n",
    "保留字即关键字，我们不能把它们用作任何标识符名称。\n",
    "Python 的标准库提供了一个 keyword 模块，可以输出当前版本的所有关键字：\n",
    "\n",
    "'''\n",
    "import keyword  #导入一个模块\n",
    "print(keyword.kwlist) #打印"
   ]
  },
  {
   "cell_type": "markdown",
   "metadata": {},
   "source": [
    "## 5.行与缩进\n",
    "\n",
    "python最具特色的就是使用缩进来表示代码块，不需要使用大括号 {} 。<br/> \n",
    "缩进的空格数是可变的，但是同一个代码块的语句必须包含相同的缩进空格数。<br/> \n",
    "一般缩进4个空格，也可以用tab"
   ]
  },
  {
   "cell_type": "code",
   "execution_count": null,
   "metadata": {},
   "outputs": [],
   "source": [
    "result=1\n",
    "if result:\n",
    "    print (\"正确\")\n",
    "else:\n",
    "    print (\"错误\")"
   ]
  },
  {
   "cell_type": "code",
   "execution_count": null,
   "metadata": {},
   "outputs": [],
   "source": [
    "result=0\n",
    "if result:\n",
    "    print (\"正确\")\n",
    "else:\n",
    "    print (\"错误\")"
   ]
  },
  {
   "cell_type": "markdown",
   "metadata": {},
   "source": [
    "错误缩进案例"
   ]
  },
  {
   "cell_type": "code",
   "execution_count": null,
   "metadata": {},
   "outputs": [],
   "source": [
    "result=0\n",
    "if result:\n",
    "    print(\"the result is：\")\n",
    "    print(\"正确\")\n",
    "else:\n",
    "    print(\"the result is：\")\n",
    "   print(\"错误\")"
   ]
  },
  {
   "cell_type": "markdown",
   "metadata": {},
   "source": [
    "## 6.大小写敏感"
   ]
  },
  {
   "cell_type": "code",
   "execution_count": null,
   "metadata": {},
   "outputs": [],
   "source": [
    "#=是赋值操作，==是判断是否相等的操作\n",
    "result=1\n",
    "print(Result)\n"
   ]
  },
  {
   "cell_type": "code",
   "execution_count": null,
   "metadata": {},
   "outputs": [],
   "source": [
    "print(result)"
   ]
  },
  {
   "cell_type": "markdown",
   "metadata": {},
   "source": [
    "## 7.数据保存<br/>\n",
    "### 方法1，数据保存至txt"
   ]
  },
  {
   "cell_type": "code",
   "execution_count": null,
   "metadata": {},
   "outputs": [],
   "source": [
    "# 打开一个文件\n",
    "import os\n",
    "print(os.getcwd())#打印出工作目录 current working directory\n"
   ]
  },
  {
   "cell_type": "code",
   "execution_count": null,
   "metadata": {},
   "outputs": [],
   "source": [
    "#调整工作目录\n",
    "os.chdir(r'C:\\Users\\Administrator\\Documents\\jupyter notebook\\Python_Basic\\output')\n",
    "print(os.getcwd())#打印出工作目录 current working directory"
   ]
  },
  {
   "cell_type": "code",
   "execution_count": null,
   "metadata": {},
   "outputs": [],
   "source": [
    "f = open(\"./temp.txt\", \"w\")#写入一个txt文件\n",
    "num = f.write( \"Python 是一个非常好的语言。\\n是的，的确非常好!!\\n\" )\n",
    "# 关闭打开的文件\n",
    "f.close()"
   ]
  },
  {
   "cell_type": "code",
   "execution_count": null,
   "metadata": {},
   "outputs": [],
   "source": [
    "#读取之前保存的文件\n",
    "with open(\"./temp.txt\", \"r\") as file:\n",
    "    for line in file:\n",
    "        result=line\n",
    "        print(result)"
   ]
  },
  {
   "cell_type": "code",
   "execution_count": null,
   "metadata": {},
   "outputs": [],
   "source": [
    "#或者如下方式，用with 不需要写close\n",
    "with open(\"./temp.txt\", \"r\") as file:\n",
    "    for row in file.readlines():\n",
    "        Data = row.split()#按照回车符分割\n",
    "        print(Data)\n",
    "        print(type(Data))"
   ]
  },
  {
   "cell_type": "markdown",
   "metadata": {},
   "source": [
    "## 方法2，保存某一些变量"
   ]
  },
  {
   "cell_type": "code",
   "execution_count": null,
   "metadata": {},
   "outputs": [],
   "source": [
    "import pickle\n",
    "data={'a':1,'b':2,'c':3}\n",
    "print(data)"
   ]
  },
  {
   "cell_type": "code",
   "execution_count": null,
   "metadata": {},
   "outputs": [],
   "source": [
    "#变量导入data_one.pkl\n",
    "f = open('./data_one.pkl','wb')\n",
    "pickle.dump(data,f,-1)\n",
    "f.close()"
   ]
  },
  {
   "cell_type": "code",
   "execution_count": null,
   "metadata": {},
   "outputs": [],
   "source": [
    "del data"
   ]
  },
  {
   "cell_type": "code",
   "execution_count": null,
   "metadata": {},
   "outputs": [],
   "source": [
    "f2 = open('./data_one.pkl','rb')\n",
    "result = pickle.load(f2)"
   ]
  },
  {
   "cell_type": "code",
   "execution_count": null,
   "metadata": {},
   "outputs": [],
   "source": [
    "result"
   ]
  },
  {
   "cell_type": "markdown",
   "metadata": {},
   "source": [
    "## 8.数据类型\n",
    "\n",
    "#### 字符型\n",
    "- python中单引号和双引号使用完全相同。<br/> \n",
    "- 使用三引号('''或\"\"\")可以指定一个多行字符串。<br/> \n",
    "- 转义符 \\ <br/> \n",
    "- 反斜杠可以用来转义，使用r可以让反斜杠不发生转义。。 如 r\"this is a line with \\n\" 则\\n会显示，并不是换行。<br/> \n",
    "- 字符串可以用 + 运算符连接在一起，用 * 运算符重复。<br/> \n",
    "- Python 中的字符串有两种索引方式，从左往右以 0 开始，从右往左以 -1 开始。<br/> \n",
    "- Python中的字符串不能改变。<br/> \n",
    "\n",
    "![](output\\richvintage_new_year.jpg)"
   ]
  },
  {
   "cell_type": "code",
   "execution_count": null,
   "metadata": {},
   "outputs": [],
   "source": [
    "str_123='enthusiasm'\n",
    "print('str直接输出:',str_123)\n",
    "print('str第0个字符:',str_123[0])\n",
    "print('前5个字符:',str_123[:5])\n",
    "print('第3个字符开始截取:',str_123[2::])\n",
    "print('str*2:',str_123*2)\n",
    "print('str+热情:',str_123+'热情')"
   ]
  },
  {
   "cell_type": "markdown",
   "metadata": {},
   "source": [
    "### 数字(Number)类型\n",
    "- python中数字有四种类型：整数、布尔型、浮点数和复数。<br/> \n",
    "- int (整数), 如 1, 只有一种整数类型 int，表示为长整型，没有 python2 中的 Long。 <br/> \n",
    "- bool (布尔), 如 True。 <br/> \n",
    "- float (浮点数), 如 1.23、3E-2 <br/> \n",
    "- complex (复数), 如 1 + 2j、 1.1 + 2.2j"
   ]
  },
  {
   "cell_type": "code",
   "execution_count": null,
   "metadata": {},
   "outputs": [],
   "source": [
    "num1=1+2\n",
    "print(num1)"
   ]
  },
  {
   "cell_type": "code",
   "execution_count": null,
   "metadata": {},
   "outputs": [],
   "source": [
    "num1=1.0+2\n",
    "print(num1)"
   ]
  },
  {
   "cell_type": "code",
   "execution_count": null,
   "metadata": {},
   "outputs": [],
   "source": [
    "num_char=str(num1)\n",
    "print(\"num_char:\",num_char)\n",
    "type(num_char)"
   ]
  },
  {
   "cell_type": "code",
   "execution_count": null,
   "metadata": {},
   "outputs": [],
   "source": [
    "str(-12.90) "
   ]
  },
  {
   "cell_type": "markdown",
   "metadata": {},
   "source": [
    "### List（列表）\n",
    "#### List（列表） 是 Python 中使用最频繁的数据类型。\n",
    "\n",
    "- 列表可以完成大多数集合类的数据结构实现。列表中元素的类型可以不相同，它支持数字，字符串甚至可以包含列表（所谓嵌套）。<br/> \n",
    "- 列表是写在方括号 [] 之间、用逗号分隔开的元素列表。 <br/> \n",
    "- 和字符串一样，列表同样可以被索引和截取，列表被截取后返回一个包含所需元素的新列表。"
   ]
  },
  {
   "cell_type": "code",
   "execution_count": null,
   "metadata": {},
   "outputs": [],
   "source": [
    "list = [ 'abcd', 786 , 2.23, 'runoob', 70.2 ]\n",
    "tinylist = [123, 'runoob']\n",
    " \n",
    "print (list)            # 输出完整列表\n",
    "print (list[0])         # 输出列表第一个元素\n",
    "print (list[1:3])       # 从第二个开始输出到第三个元素\n",
    "print (list[2:])        # 输出从第三个元素开始的所有元素\n",
    "print (tinylist * 2)    # 输出两次列表\n",
    "print (list + tinylist) # 连接列表"
   ]
  },
  {
   "cell_type": "code",
   "execution_count": null,
   "metadata": {},
   "outputs": [],
   "source": [
    "#列表的操作\n",
    "\n",
    "a = [1, 2, 3, 4, 5, 6]\n",
    "print('RAW a：',a)"
   ]
  },
  {
   "cell_type": "code",
   "execution_count": null,
   "metadata": {},
   "outputs": [],
   "source": [
    "#赋值操作\n",
    "a[0] = 9\n",
    "print('a[0]:',a)"
   ]
  },
  {
   "cell_type": "code",
   "execution_count": null,
   "metadata": {},
   "outputs": [],
   "source": [
    "a[2:5] = [13, 14, 15]\n",
    "print('a[2:5]:',a)"
   ]
  },
  {
   "cell_type": "code",
   "execution_count": null,
   "metadata": {},
   "outputs": [],
   "source": [
    "#增加一个数值\n",
    "a.append(15)"
   ]
  },
  {
   "cell_type": "code",
   "execution_count": null,
   "metadata": {},
   "outputs": [],
   "source": [
    "print(a)"
   ]
  },
  {
   "cell_type": "code",
   "execution_count": null,
   "metadata": {},
   "outputs": [],
   "source": [
    "#删除一个数据\n",
    "del a[0]"
   ]
  },
  {
   "cell_type": "code",
   "execution_count": null,
   "metadata": {},
   "outputs": [],
   "source": [
    "print(a)"
   ]
  },
  {
   "cell_type": "code",
   "execution_count": null,
   "metadata": {},
   "outputs": [],
   "source": [
    "a.pop()"
   ]
  },
  {
   "cell_type": "markdown",
   "metadata": {},
   "source": [
    "### Dictionary（字典）\n",
    "#### 字典（dictionary）是Python中另一个非常有用的内置数据类型。\n",
    "\n",
    "- 列表是有序的对象集合，字典是无序的对象集合。两者之间的区别在于：字典当中的元素是通过键来存取的，而不是通过偏移存取。<br/> \n",
    "- 字典是一种映射类型，字典用 { } 标识，它是一个无序的 键(**key**) : 值(**value**) 的集合。<br/> \n",
    "- 键(key)必须使用不可变类型。 <br/> \n",
    "- 在同一个字典中，键(key)必须是唯一的。"
   ]
  },
  {
   "cell_type": "code",
   "execution_count": null,
   "metadata": {
    "scrolled": true
   },
   "outputs": [],
   "source": [
    "dict = {}\n",
    "dict['one'] = \"1 - 菜鸟教程\"\n",
    "dict[2]     = \"2 - 菜鸟工具\"\n",
    " \n",
    "tinydict = {'name': 'runoob','code':1, 'site': 'www.runoob.com'}\n",
    "\n",
    " \n",
    "print (dict['one'])       # 输出键为 'one' 的值\n",
    "print (dict[2])           # 输出键为 2 的值\n",
    "print (tinydict)          # 输出完整的字典\n",
    "print (tinydict.keys())   # 输出所有键\n",
    "print (tinydict.values()) # 输出所有值"
   ]
  },
  {
   "cell_type": "markdown",
   "metadata": {},
   "source": [
    "### 9.自定义函数\n",
    "\n",
    "- 函数代码块以 **def** 关键词开头，后接函数标识符名称和圆括号 ()。 <br/> \n",
    "- 任何传入参数和自变量必须放在圆括号中间，圆括号之间可以用于定义参数。<br/> \n",
    "- 函数的第一行语句可以选择性地使用文档字符串—用于存放函数说明。<br/> \n",
    "- 函数内容以冒号起始，并且缩进。<br/> \n",
    "- **return** [表达式] 结束函数，选择性地返回一个值给调用方。不带表达式的return相当于返回 None。"
   ]
  },
  {
   "cell_type": "code",
   "execution_count": null,
   "metadata": {},
   "outputs": [],
   "source": [
    "def sum_all(num=1):\n",
    "    if type(num) in (float,int):\n",
    "        result=0\n",
    "        for i in range(num+1):\n",
    "            result=result+i\n",
    "        print('final_result is:',result)\n",
    "    else:\n",
    "        print('type_error')  "
   ]
  },
  {
   "cell_type": "code",
   "execution_count": null,
   "metadata": {},
   "outputs": [],
   "source": [
    "sum_all(num='10')"
   ]
  },
  {
   "cell_type": "code",
   "execution_count": null,
   "metadata": {},
   "outputs": [],
   "source": [
    "sum_all(num=10)"
   ]
  },
  {
   "cell_type": "code",
   "execution_count": null,
   "metadata": {},
   "outputs": [],
   "source": [
    "#简单的斐波那契额\n",
    "def Fibonacci(n=10):\n",
    "    a=1\n",
    "    b=1\n",
    "    result=[a,b]\n",
    "    for i in range(n+1):\n",
    "        print(\"第%s轮\" %i,\"result=%s\" %result)\n",
    "        c=a+b\n",
    "        result.append(c)\n",
    "        a,b,=b,c"
   ]
  },
  {
   "cell_type": "code",
   "execution_count": null,
   "metadata": {},
   "outputs": [],
   "source": [
    "Fibonacci(n=10)"
   ]
  },
  {
   "cell_type": "markdown",
   "metadata": {},
   "source": [
    "#### map函数\n",
    "- map() 会根据提供的函数对指定序列做映射。 <br/> \n",
    "- 第一个参数 function 以参数序列中的每一个元素调用 function 函数，返回包含每次 function 函数返回值的新列表。"
   ]
  },
  {
   "cell_type": "code",
   "execution_count": 6,
   "metadata": {},
   "outputs": [
    {
     "name": "stdout",
     "output_type": "stream",
     "text": [
      "示例1，获取两个列表对应位置上的最小值：\n",
      "<map object at 0x000000000579AB00>\n"
     ]
    }
   ],
   "source": [
    "import math\n",
    "\n",
    "print('示例1，获取两个列表对应位置上的最小值：')\n",
    "l1 = [1, 3, 5, 7, 9]\n",
    "l2 = [2, 4, 6, 8, 10]\n",
    "mins = map(min, l1, l2)#(函数,对象1,对象2)\n",
    "print(mins)#mins为一个对象"
   ]
  },
  {
   "cell_type": "code",
   "execution_count": 2,
   "metadata": {},
   "outputs": [
    {
     "name": "stdout",
     "output_type": "stream",
     "text": [
      "1\n",
      "3\n",
      "5\n",
      "7\n",
      "9\n"
     ]
    }
   ],
   "source": [
    "# map()函数操作时，直到访问数据时才会执行\n",
    "for item in mins:\n",
    "    print(item)"
   ]
  },
  {
   "cell_type": "code",
   "execution_count": 7,
   "metadata": {},
   "outputs": [
    {
     "name": "stdout",
     "output_type": "stream",
     "text": [
      "[1, 3, 5, 7, 9]\n"
     ]
    }
   ],
   "source": [
    "print(list(mins))"
   ]
  },
  {
   "cell_type": "code",
   "execution_count": 3,
   "metadata": {},
   "outputs": [
    {
     "name": "stdout",
     "output_type": "stream",
     "text": [
      "示例2，对列表中的元素进行平方根操作：\n",
      "<map object at 0x000000000579A518>\n"
     ]
    }
   ],
   "source": [
    "print('示例2，对列表中的元素进行平方根操作：')\n",
    "squared = map(math.sqrt, l2)\n",
    "print(squared)"
   ]
  },
  {
   "cell_type": "code",
   "execution_count": 4,
   "metadata": {},
   "outputs": [
    {
     "name": "stdout",
     "output_type": "stream",
     "text": [
      "[1.4142135623730951, 2.0, 2.449489742783178, 2.8284271247461903, 3.1622776601683795]\n"
     ]
    }
   ],
   "source": [
    "print(list(squared))"
   ]
  },
  {
   "cell_type": "markdown",
   "metadata": {},
   "source": [
    "### 匿名函数 lambda\n",
    "\n",
    "#### 所谓匿名，意即不再使用 def 语句这样标准的形式定义一个函数。<br/> \n",
    "\n",
    "- lambda 只是一个表达式，函数体比 def 简单很多。 <br/> \n",
    "- lambda的主体是一个表达式，而不是一个代码块。仅仅能在lambda表达式中封装有限的逻辑进去。 <br/> \n",
    "- lambda 函数拥有自己的命名空间，且不能访问自己参数列表之外或全局命名空间里的参数。 <br/> \n",
    "- 虽然lambda函数看起来只能写一行，却不等同于C或C++的内联函数，后者的目的是调用小函数时不占用栈内存从而增加运行效率。 <br/> \n",
    "\n",
    "**语法**\n",
    "- lambda 函数的语法只包含一个语句，如下：<br/> \n",
    "- lambda [arg1 [,arg2,.....argn]]:expression"
   ]
  },
  {
   "cell_type": "code",
   "execution_count": 9,
   "metadata": {},
   "outputs": [
    {
     "name": "stdout",
     "output_type": "stream",
     "text": [
      "相加后的值为 :  30\n",
      "相加后的值为 :  40\n"
     ]
    }
   ],
   "source": [
    "# 可写函数说明\n",
    "sum_two = lambda arg1, arg2: arg1 + arg2\n",
    " \n",
    "# 调用sum函数\n",
    "print (\"相加后的值为 : \", sum_two( 10, 20 ))\n",
    "print (\"相加后的值为 : \", sum_two( 20, 20 ))"
   ]
  },
  {
   "cell_type": "code",
   "execution_count": 10,
   "metadata": {},
   "outputs": [
    {
     "name": "stdout",
     "output_type": "stream",
     "text": [
      "lambda结合map\n",
      "[4, 10, 16, 22, 28]\n"
     ]
    }
   ],
   "source": [
    "# my_func = lambda a, b, c: a * b\n",
    "# print(my_func)\n",
    "# print(my_func(1, 2, 3))\n",
    "\n",
    "# 结合map\n",
    "print('lambda结合map')\n",
    "l1 = [1, 3, 5, 7, 9]\n",
    "l2 = [2, 4, 6, 8, 10]\n",
    "result = map(lambda x, y: x * 2 + y, l1, l2)\n",
    "print(list(result))"
   ]
  },
  {
   "cell_type": "markdown",
   "metadata": {},
   "source": [
    "### 条件控制与循环"
   ]
  },
  {
   "cell_type": "code",
   "execution_count": 11,
   "metadata": {},
   "outputs": [
    {
     "name": "stdout",
     "output_type": "stream",
     "text": [
      "1 到 100 之和为: 5050\n"
     ]
    }
   ],
   "source": [
    "'''\n",
    "while循环\n",
    "\n",
    "'''\n",
    "n = 100\n",
    " \n",
    "sum = 0\n",
    "counter = 1\n",
    "while counter <= n: #符合条件则执行\n",
    "    sum = sum + counter\n",
    "    counter += 1\n",
    "    \n",
    "print(\"1 到 %d 之和为: %d\" % (n,sum))"
   ]
  },
  {
   "cell_type": "code",
   "execution_count": 12,
   "metadata": {},
   "outputs": [
    {
     "name": "stdout",
     "output_type": "stream",
     "text": [
      "0  小于 5\n",
      "1  小于 5\n",
      "2  小于 5\n",
      "3  小于 5\n",
      "4  小于 5\n",
      "5  大于或等于 5\n"
     ]
    }
   ],
   "source": [
    "count = 0\n",
    "while count < 5:\n",
    "    print (count, \" 小于 5\")\n",
    "    count = count + 1\n",
    "else:\n",
    "    print (count, \" 大于或等于 5\")"
   ]
  },
  {
   "cell_type": "code",
   "execution_count": 13,
   "metadata": {},
   "outputs": [
    {
     "name": "stdout",
     "output_type": "stream",
     "text": [
      "C\n",
      "C++\n",
      "Perl\n",
      "Python\n"
     ]
    }
   ],
   "source": [
    "'''\n",
    "for 循环\n",
    "'''\n",
    "languages = [\"C\", \"C++\", \"Perl\", \"Python\"]\n",
    "for i in languages:\n",
    "    print(i)\n"
   ]
  },
  {
   "cell_type": "code",
   "execution_count": null,
   "metadata": {},
   "outputs": [],
   "source": [
    "### 列表推导式"
   ]
  },
  {
   "cell_type": "code",
   "execution_count": 14,
   "metadata": {},
   "outputs": [],
   "source": [
    "vec = [2, 4, 6]\n",
    "result=[3*x for x in vec]"
   ]
  },
  {
   "cell_type": "code",
   "execution_count": 15,
   "metadata": {},
   "outputs": [
    {
     "name": "stdout",
     "output_type": "stream",
     "text": [
      "[6, 12, 18]\n"
     ]
    }
   ],
   "source": [
    "print(result)"
   ]
  }
 ],
 "metadata": {
  "kernelspec": {
   "display_name": "Python 3",
   "language": "python",
   "name": "python3"
  },
  "language_info": {
   "codemirror_mode": {
    "name": "ipython",
    "version": 3
   },
   "file_extension": ".py",
   "mimetype": "text/x-python",
   "name": "python",
   "nbconvert_exporter": "python",
   "pygments_lexer": "ipython3",
   "version": "3.7.4"
  }
 },
 "nbformat": 4,
 "nbformat_minor": 2
}
