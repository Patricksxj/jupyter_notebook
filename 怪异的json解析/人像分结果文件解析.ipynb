{
 "cells": [
  {
   "cell_type": "code",
   "execution_count": 47,
   "metadata": {
    "ExecuteTime": {
     "end_time": "2019-11-22T13:51:23.695061Z",
     "start_time": "2019-11-22T13:51:23.687061Z"
    }
   },
   "outputs": [],
   "source": [
    "import json\n",
    "\n",
    "data =[{'a': 'A', 'b': 2, 'c': 3.0}]"
   ]
  },
  {
   "cell_type": "code",
   "execution_count": 48,
   "metadata": {
    "ExecuteTime": {
     "end_time": "2019-11-22T13:51:24.617114Z",
     "start_time": "2019-11-22T13:51:24.606114Z"
    }
   },
   "outputs": [
    {
     "name": "stdout",
     "output_type": "stream",
     "text": [
      "JSON: [{\"a\": \"A\", \"b\": 2, \"c\": 3.0}]\n"
     ]
    }
   ],
   "source": [
    "unsorted = json.dumps(data)\n",
    "print('JSON:', json.dumps(data))    # JSON: [{\"a\": \"A\", \"b\": [2, 4], \"c\": 3.0}]\n"
   ]
  },
  {
   "cell_type": "code",
   "execution_count": 49,
   "metadata": {
    "ExecuteTime": {
     "end_time": "2019-11-22T13:51:25.416160Z",
     "start_time": "2019-11-22T13:51:25.410159Z"
    }
   },
   "outputs": [],
   "source": [
    "temp=json.loads(unsorted)"
   ]
  },
  {
   "cell_type": "code",
   "execution_count": 52,
   "metadata": {
    "ExecuteTime": {
     "end_time": "2019-11-22T13:51:28.924128Z",
     "start_time": "2019-11-22T13:51:28.905527Z"
    }
   },
   "outputs": [
    {
     "data": {
      "text/plain": [
       "[{'a': 'A', 'b': 2, 'c': 3.0}]"
      ]
     },
     "execution_count": 52,
     "metadata": {},
     "output_type": "execute_result"
    }
   ],
   "source": [
    "temp"
   ]
  },
  {
   "cell_type": "code",
   "execution_count": 53,
   "metadata": {
    "ExecuteTime": {
     "end_time": "2019-11-22T13:51:29.689171Z",
     "start_time": "2019-11-22T13:51:29.678171Z"
    }
   },
   "outputs": [],
   "source": [
    "import pandas as pd\n",
    "df=pd.DataFrame(temp)"
   ]
  },
  {
   "cell_type": "code",
   "execution_count": 54,
   "metadata": {
    "ExecuteTime": {
     "end_time": "2019-11-22T13:51:30.540220Z",
     "start_time": "2019-11-22T13:51:30.530219Z"
    }
   },
   "outputs": [
    {
     "data": {
      "text/html": [
       "<div>\n",
       "<style scoped>\n",
       "    .dataframe tbody tr th:only-of-type {\n",
       "        vertical-align: middle;\n",
       "    }\n",
       "\n",
       "    .dataframe tbody tr th {\n",
       "        vertical-align: top;\n",
       "    }\n",
       "\n",
       "    .dataframe thead th {\n",
       "        text-align: right;\n",
       "    }\n",
       "</style>\n",
       "<table border=\"1\" class=\"dataframe\">\n",
       "  <thead>\n",
       "    <tr style=\"text-align: right;\">\n",
       "      <th></th>\n",
       "      <th>a</th>\n",
       "      <th>b</th>\n",
       "      <th>c</th>\n",
       "    </tr>\n",
       "  </thead>\n",
       "  <tbody>\n",
       "    <tr>\n",
       "      <td>0</td>\n",
       "      <td>A</td>\n",
       "      <td>2</td>\n",
       "      <td>3.0</td>\n",
       "    </tr>\n",
       "  </tbody>\n",
       "</table>\n",
       "</div>"
      ],
      "text/plain": [
       "   a  b    c\n",
       "0  A  2  3.0"
      ]
     },
     "execution_count": 54,
     "metadata": {},
     "output_type": "execute_result"
    }
   ],
   "source": [
    "df"
   ]
  },
  {
   "cell_type": "code",
   "execution_count": 247,
   "metadata": {
    "ExecuteTime": {
     "end_time": "2019-11-22T16:22:22.345920Z",
     "start_time": "2019-11-22T16:22:22.336919Z"
    }
   },
   "outputs": [
    {
     "data": {
      "text/plain": [
       "['图片一(370306198901253027)与图片二(370306198901253027)比对结果:\\n',\n",
       " '{\\n',\n",
       " '\\t\"responseCode\": \"000000\",\\n',\n",
       " '\\t\"responseData\":{\\n',\n",
       " '\\t\\t\"similarity\":0.999999,\\n',\n",
       " '\\t\\t\"ref_thres\":\"0.420\"\\n',\n",
       " '},\\n',\n",
       " '\\t\"responseMessage\":\"success\"\\n',\n",
       " '}\\n',\n",
       " '\\n',\n",
       " '图片一(370306198901253027)与图片二(370306198901253028)比对结果:\\n',\n",
       " '{\\n',\n",
       " '\\t\"responseCode\": \"000000\",\\n',\n",
       " '\\t\"responseData\":{\\n',\n",
       " '\\t\\t\"similarity\":0.899999,\\n',\n",
       " '\\t\\t\"ref_thres\":\"0.420\"\\n',\n",
       " '},\\n',\n",
       " '\\t\"responseMessage\":\"success\"\\n',\n",
       " '}\\n',\n",
       " '\\n',\n",
       " '图片一(370306198901253027)与图片二(370306198901253029)比对结果:\\n',\n",
       " '{\\n',\n",
       " '\\t\"responseCode\": \"000000\",\\n',\n",
       " '\\t\"responseData\":{\\n',\n",
       " '\\t\\t\"similarity\":0.799999,\\n',\n",
       " '\\t\\t\"ref_thres\":\"0.420\"\\n',\n",
       " '},\\n',\n",
       " '\\t\"responseMessage\":\"success\"\\n',\n",
       " '}\\n',\n",
       " '\\n',\n",
       " '图片一(370306198901253027)与图片二(370306198901253020)比对结果:\\n',\n",
       " '{\\n',\n",
       " '\\t\"responseCode\": \"000000\",\\n',\n",
       " '\\t\"responseData\":{\\n',\n",
       " '\\t\\t\"similarity\":0.699999,\\n',\n",
       " '\\t\\t\"ref_thres\":\"0.420\"\\n',\n",
       " '},\\n',\n",
       " '\\t\"responseMessage\":\"success\"\\n',\n",
       " '}\\n',\n",
       " '\\n',\n",
       " '图片一(370306198901253027)与图片二(370306198901253021)比对结果:\\n',\n",
       " '{\\n',\n",
       " '\\t\"responseCode\": \"000000\",\\n',\n",
       " '\\t\"responseData\":{\\n',\n",
       " '\\t\\t\"similarity\":0.599999,\\n',\n",
       " '\\t\\t\"ref_thres\":\"0.420\"\\n',\n",
       " '},\\n',\n",
       " '\\t\"responseMessage\":\"success\"\\n',\n",
       " '}\\n',\n",
       " '\\n']"
      ]
     },
     "execution_count": 247,
     "metadata": {},
     "output_type": "execute_result"
    }
   ],
   "source": [
    "file_name = 'face_score_result.txt'\n",
    "file_object=open(file_name,encoding='gbk')\n",
    "text3 = file_object.readlines()\n",
    "text3"
   ]
  },
  {
   "cell_type": "code",
   "execution_count": 283,
   "metadata": {
    "ExecuteTime": {
     "end_time": "2019-11-22T16:35:18.743949Z",
     "start_time": "2019-11-22T16:35:18.687946Z"
    }
   },
   "outputs": [
    {
     "name": "stdout",
     "output_type": "stream",
     "text": [
      "  responseCode responseMessage  responseData.similarity responseData.ref_thres\n",
      "0       000000         success                 0.999999                  0.420\n",
      "0       000000         success                 0.899999                  0.420\n",
      "0       000000         success                 0.799999                  0.420\n",
      "0       000000         success                 0.699999                  0.420\n",
      "0       000000         success                 0.599999                  0.420\n"
     ]
    }
   ],
   "source": [
    "import json\n",
    "import re\n",
    "import pandas as pd\n",
    "from pandas.io.json import json_normalize\n",
    "char_str=''\n",
    "id1=[]\n",
    "id2=[]\n",
    "df=pd.DataFrame()\n",
    "p2 = re.compile(r'[(](.*?)[)]', re.S) \n",
    "\n",
    "for i in range(1,len(text3)+1):\n",
    "    if i%10==1:\n",
    "        temp1=re.findall(p2,text3[i-1].strip())\n",
    "        id1.append(temp1[0])\n",
    "        id2.append(temp1[1])\n",
    "    elif i%10 !=0:\n",
    "        char=text3[i-1].strip()\n",
    "        char_str=char_str+char\n",
    "    elif i%10 ==0:\n",
    "        char_total='['+char_str+']'\n",
    "        char_json=json.loads(char_total)\n",
    "        temp2=json_normalize(char_json)\n",
    "        df=pd.concat([df,temp2],axis=0)\n",
    "        char_str=''\n",
    "print(df)\n",
    "df=df.reset_index(drop=True)\n",
    "df1=pd.DataFrame({'ID1':id1,'ID2':id2}).reset_index(drop=True)\n",
    "\n",
    "data_union=pd.concat([df1,df],axis=1)"
   ]
  },
  {
   "cell_type": "code",
   "execution_count": 284,
   "metadata": {
    "ExecuteTime": {
     "end_time": "2019-11-22T16:35:21.156035Z",
     "start_time": "2019-11-22T16:35:21.129034Z"
    }
   },
   "outputs": [
    {
     "data": {
      "text/html": [
       "<div>\n",
       "<style scoped>\n",
       "    .dataframe tbody tr th:only-of-type {\n",
       "        vertical-align: middle;\n",
       "    }\n",
       "\n",
       "    .dataframe tbody tr th {\n",
       "        vertical-align: top;\n",
       "    }\n",
       "\n",
       "    .dataframe thead th {\n",
       "        text-align: right;\n",
       "    }\n",
       "</style>\n",
       "<table border=\"1\" class=\"dataframe\">\n",
       "  <thead>\n",
       "    <tr style=\"text-align: right;\">\n",
       "      <th></th>\n",
       "      <th>ID1</th>\n",
       "      <th>ID2</th>\n",
       "      <th>responseCode</th>\n",
       "      <th>responseMessage</th>\n",
       "      <th>responseData.similarity</th>\n",
       "      <th>responseData.ref_thres</th>\n",
       "    </tr>\n",
       "  </thead>\n",
       "  <tbody>\n",
       "    <tr>\n",
       "      <td>0</td>\n",
       "      <td>370306198901253027</td>\n",
       "      <td>370306198901253027</td>\n",
       "      <td>000000</td>\n",
       "      <td>success</td>\n",
       "      <td>0.999999</td>\n",
       "      <td>0.420</td>\n",
       "    </tr>\n",
       "    <tr>\n",
       "      <td>1</td>\n",
       "      <td>370306198901253027</td>\n",
       "      <td>370306198901253028</td>\n",
       "      <td>000000</td>\n",
       "      <td>success</td>\n",
       "      <td>0.899999</td>\n",
       "      <td>0.420</td>\n",
       "    </tr>\n",
       "    <tr>\n",
       "      <td>2</td>\n",
       "      <td>370306198901253027</td>\n",
       "      <td>370306198901253029</td>\n",
       "      <td>000000</td>\n",
       "      <td>success</td>\n",
       "      <td>0.799999</td>\n",
       "      <td>0.420</td>\n",
       "    </tr>\n",
       "    <tr>\n",
       "      <td>3</td>\n",
       "      <td>370306198901253027</td>\n",
       "      <td>370306198901253020</td>\n",
       "      <td>000000</td>\n",
       "      <td>success</td>\n",
       "      <td>0.699999</td>\n",
       "      <td>0.420</td>\n",
       "    </tr>\n",
       "    <tr>\n",
       "      <td>4</td>\n",
       "      <td>370306198901253027</td>\n",
       "      <td>370306198901253021</td>\n",
       "      <td>000000</td>\n",
       "      <td>success</td>\n",
       "      <td>0.599999</td>\n",
       "      <td>0.420</td>\n",
       "    </tr>\n",
       "  </tbody>\n",
       "</table>\n",
       "</div>"
      ],
      "text/plain": [
       "                  ID1                 ID2 responseCode responseMessage  \\\n",
       "0  370306198901253027  370306198901253027       000000         success   \n",
       "1  370306198901253027  370306198901253028       000000         success   \n",
       "2  370306198901253027  370306198901253029       000000         success   \n",
       "3  370306198901253027  370306198901253020       000000         success   \n",
       "4  370306198901253027  370306198901253021       000000         success   \n",
       "\n",
       "   responseData.similarity responseData.ref_thres  \n",
       "0                 0.999999                  0.420  \n",
       "1                 0.899999                  0.420  \n",
       "2                 0.799999                  0.420  \n",
       "3                 0.699999                  0.420  \n",
       "4                 0.599999                  0.420  "
      ]
     },
     "execution_count": 284,
     "metadata": {},
     "output_type": "execute_result"
    }
   ],
   "source": [
    "data_union"
   ]
  },
  {
   "cell_type": "code",
   "execution_count": 254,
   "metadata": {
    "ExecuteTime": {
     "end_time": "2019-11-22T16:23:38.091775Z",
     "start_time": "2019-11-22T16:23:38.060575Z"
    }
   },
   "outputs": [
    {
     "name": "stdout",
     "output_type": "stream",
     "text": [
      "(5, 1)\n",
      "(5, 1)\n",
      "(5, 4)\n"
     ]
    }
   ],
   "source": [
    "print(df1.shape)\n",
    "print(df2.shape)\n",
    "print(df.shape)"
   ]
  }
 ],
 "metadata": {
  "kernelspec": {
   "display_name": "Python 3",
   "language": "python",
   "name": "python3"
  },
  "language_info": {
   "codemirror_mode": {
    "name": "ipython",
    "version": 3
   },
   "file_extension": ".py",
   "mimetype": "text/x-python",
   "name": "python",
   "nbconvert_exporter": "python",
   "pygments_lexer": "ipython3",
   "version": "3.7.4"
  }
 },
 "nbformat": 4,
 "nbformat_minor": 2
}
