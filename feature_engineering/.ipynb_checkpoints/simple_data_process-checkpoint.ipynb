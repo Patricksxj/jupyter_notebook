{
 "cells": [
  {
   "cell_type": "markdown",
   "id": "55c50055",
   "metadata": {},
   "source": [
    "## 简单的数据处理\n",
    "* 去除空值\n",
    "* 去除重复数据\n",
    "* 去除极端值"
   ]
  },
  {
   "cell_type": "code",
   "execution_count": null,
   "id": "a34ac6fe",
   "metadata": {},
   "outputs": [],
   "source": []
  },
  {
   "cell_type": "code",
   "execution_count": 9,
   "id": "3d04a578",
   "metadata": {},
   "outputs": [],
   "source": [
    "import numpy as np\n",
    "import pandas as pd\n",
    "df = pd.DataFrame({\n",
    "   \"id\": [100, 100, 101, 102, 103, 104, 105, 106],\n",
    "   \"A\": [1, 2, 3, 4, 5, 2, np.nan, 5],\n",
    "   \"B\": [45, 56, 48, 47, 62, 112, 54, 49],\n",
    "   \"C\": [1.2, 1.4, 1.1, 1.8, np.nan, 1.4, 1.6, 1.5]\n",
    "})"
   ]
  },
  {
   "cell_type": "code",
   "execution_count": 30,
   "id": "6e935875",
   "metadata": {},
   "outputs": [
    {
     "data": {
      "text/html": [
       "<div>\n",
       "<style scoped>\n",
       "    .dataframe tbody tr th:only-of-type {\n",
       "        vertical-align: middle;\n",
       "    }\n",
       "\n",
       "    .dataframe tbody tr th {\n",
       "        vertical-align: top;\n",
       "    }\n",
       "\n",
       "    .dataframe thead th {\n",
       "        text-align: right;\n",
       "    }\n",
       "</style>\n",
       "<table border=\"1\" class=\"dataframe\">\n",
       "  <thead>\n",
       "    <tr style=\"text-align: right;\">\n",
       "      <th></th>\n",
       "      <th>id</th>\n",
       "      <th>A</th>\n",
       "      <th>B</th>\n",
       "      <th>C</th>\n",
       "    </tr>\n",
       "  </thead>\n",
       "  <tbody>\n",
       "    <tr>\n",
       "      <th>1</th>\n",
       "      <td>100</td>\n",
       "      <td>2.0</td>\n",
       "      <td>56</td>\n",
       "      <td>1.4</td>\n",
       "    </tr>\n",
       "    <tr>\n",
       "      <th>0</th>\n",
       "      <td>100</td>\n",
       "      <td>1.0</td>\n",
       "      <td>45</td>\n",
       "      <td>1.2</td>\n",
       "    </tr>\n",
       "    <tr>\n",
       "      <th>2</th>\n",
       "      <td>101</td>\n",
       "      <td>3.0</td>\n",
       "      <td>48</td>\n",
       "      <td>1.1</td>\n",
       "    </tr>\n",
       "    <tr>\n",
       "      <th>3</th>\n",
       "      <td>102</td>\n",
       "      <td>4.0</td>\n",
       "      <td>47</td>\n",
       "      <td>1.8</td>\n",
       "    </tr>\n",
       "    <tr>\n",
       "      <th>4</th>\n",
       "      <td>103</td>\n",
       "      <td>5.0</td>\n",
       "      <td>62</td>\n",
       "      <td>NaN</td>\n",
       "    </tr>\n",
       "    <tr>\n",
       "      <th>5</th>\n",
       "      <td>104</td>\n",
       "      <td>2.0</td>\n",
       "      <td>112</td>\n",
       "      <td>1.4</td>\n",
       "    </tr>\n",
       "    <tr>\n",
       "      <th>6</th>\n",
       "      <td>105</td>\n",
       "      <td>NaN</td>\n",
       "      <td>54</td>\n",
       "      <td>1.6</td>\n",
       "    </tr>\n",
       "    <tr>\n",
       "      <th>7</th>\n",
       "      <td>106</td>\n",
       "      <td>5.0</td>\n",
       "      <td>49</td>\n",
       "      <td>1.5</td>\n",
       "    </tr>\n",
       "  </tbody>\n",
       "</table>\n",
       "</div>"
      ],
      "text/plain": [
       "    id    A    B    C\n",
       "1  100  2.0   56  1.4\n",
       "0  100  1.0   45  1.2\n",
       "2  101  3.0   48  1.1\n",
       "3  102  4.0   47  1.8\n",
       "4  103  5.0   62  NaN\n",
       "5  104  2.0  112  1.4\n",
       "6  105  NaN   54  1.6\n",
       "7  106  5.0   49  1.5"
      ]
     },
     "execution_count": 30,
     "metadata": {},
     "output_type": "execute_result"
    }
   ],
   "source": [
    "df"
   ]
  },
  {
   "cell_type": "markdown",
   "id": "973e2e7e",
   "metadata": {},
   "source": [
    "## 排序，id列有小到大排列，B列由大到小排列"
   ]
  },
  {
   "cell_type": "code",
   "execution_count": 26,
   "id": "fa0cab11",
   "metadata": {},
   "outputs": [],
   "source": [
    "df.sort_values(by=['id','B'],ascending=(True,False),inplace=True)"
   ]
  },
  {
   "cell_type": "code",
   "execution_count": null,
   "id": "69295b07",
   "metadata": {},
   "outputs": [],
   "source": []
  },
  {
   "cell_type": "code",
   "execution_count": 3,
   "id": "3afb7017",
   "metadata": {},
   "outputs": [],
   "source": [
    "def fill_missing_values(df):\n",
    "    for col in df.select_dtypes(include= [\"int\",\"float\"]).columns:\n",
    "        val = df[col].mean()\n",
    "        df[col].fillna(val, inplace=True)\n",
    "    return df"
   ]
  },
  {
   "cell_type": "code",
   "execution_count": null,
   "id": "2f52021b",
   "metadata": {},
   "outputs": [],
   "source": []
  },
  {
   "cell_type": "code",
   "execution_count": 31,
   "id": "e54cf350",
   "metadata": {},
   "outputs": [],
   "source": [
    "def drop_duplicates(df, column_name):\n",
    "    df = df.drop_duplicates(subset=column_name,keep='last')\n",
    "    return df"
   ]
  },
  {
   "cell_type": "code",
   "execution_count": 12,
   "id": "f79ae4ae",
   "metadata": {},
   "outputs": [],
   "source": [
    "drop_duplicates?"
   ]
  },
  {
   "cell_type": "code",
   "execution_count": 5,
   "id": "980ab2b6",
   "metadata": {},
   "outputs": [],
   "source": [
    "def remove_outliers(df, column_list):\n",
    "    for col in column_list:\n",
    "        avg = df[col].mean()\n",
    "        std = df[col].std()\n",
    "        low = avg - 2 * std\n",
    "        high = avg + 2 * std\n",
    "        df = df[df[col].between(low, high, inclusive=True)]\n",
    "    return df"
   ]
  },
  {
   "cell_type": "code",
   "execution_count": null,
   "id": "eeb5c51e",
   "metadata": {},
   "outputs": [],
   "source": []
  },
  {
   "cell_type": "code",
   "execution_count": 6,
   "id": "469bf26b",
   "metadata": {},
   "outputs": [],
   "source": [
    "df_processed = (df.\n",
    "                pipe(fill_missing_values).\n",
    "                pipe(drop_duplicates, \"id\").\n",
    "                pipe(remove_outliers, [\"A\",\"B\"]))"
   ]
  },
  {
   "cell_type": "code",
   "execution_count": 33,
   "id": "3402a2ad",
   "metadata": {},
   "outputs": [
    {
     "data": {
      "text/html": [
       "<div>\n",
       "<style scoped>\n",
       "    .dataframe tbody tr th:only-of-type {\n",
       "        vertical-align: middle;\n",
       "    }\n",
       "\n",
       "    .dataframe tbody tr th {\n",
       "        vertical-align: top;\n",
       "    }\n",
       "\n",
       "    .dataframe thead th {\n",
       "        text-align: right;\n",
       "    }\n",
       "</style>\n",
       "<table border=\"1\" class=\"dataframe\">\n",
       "  <thead>\n",
       "    <tr style=\"text-align: right;\">\n",
       "      <th></th>\n",
       "      <th>id</th>\n",
       "      <th>A</th>\n",
       "      <th>B</th>\n",
       "      <th>C</th>\n",
       "    </tr>\n",
       "  </thead>\n",
       "  <tbody>\n",
       "    <tr>\n",
       "      <th>0</th>\n",
       "      <td>100</td>\n",
       "      <td>1.000000</td>\n",
       "      <td>45</td>\n",
       "      <td>1.200000</td>\n",
       "    </tr>\n",
       "    <tr>\n",
       "      <th>2</th>\n",
       "      <td>101</td>\n",
       "      <td>3.000000</td>\n",
       "      <td>48</td>\n",
       "      <td>1.100000</td>\n",
       "    </tr>\n",
       "    <tr>\n",
       "      <th>3</th>\n",
       "      <td>102</td>\n",
       "      <td>4.000000</td>\n",
       "      <td>47</td>\n",
       "      <td>1.800000</td>\n",
       "    </tr>\n",
       "    <tr>\n",
       "      <th>4</th>\n",
       "      <td>103</td>\n",
       "      <td>5.000000</td>\n",
       "      <td>62</td>\n",
       "      <td>1.428571</td>\n",
       "    </tr>\n",
       "    <tr>\n",
       "      <th>6</th>\n",
       "      <td>105</td>\n",
       "      <td>3.142857</td>\n",
       "      <td>54</td>\n",
       "      <td>1.600000</td>\n",
       "    </tr>\n",
       "    <tr>\n",
       "      <th>7</th>\n",
       "      <td>106</td>\n",
       "      <td>5.000000</td>\n",
       "      <td>49</td>\n",
       "      <td>1.500000</td>\n",
       "    </tr>\n",
       "  </tbody>\n",
       "</table>\n",
       "</div>"
      ],
      "text/plain": [
       "    id         A   B         C\n",
       "0  100  1.000000  45  1.200000\n",
       "2  101  3.000000  48  1.100000\n",
       "3  102  4.000000  47  1.800000\n",
       "4  103  5.000000  62  1.428571\n",
       "6  105  3.142857  54  1.600000\n",
       "7  106  5.000000  49  1.500000"
      ]
     },
     "execution_count": 33,
     "metadata": {},
     "output_type": "execute_result"
    }
   ],
   "source": [
    "df_processed"
   ]
  },
  {
   "cell_type": "code",
   "execution_count": 32,
   "id": "05e96eeb",
   "metadata": {},
   "outputs": [],
   "source": [
    "my_df = df.copy()\n",
    "df_processed = (my_df.\n",
    "                pipe(fill_missing_values).\n",
    "                pipe(drop_duplicates, \"id\").\n",
    "                pipe(remove_outliers, [\"A\",\"B\"]))"
   ]
  }
 ],
 "metadata": {
  "kernelspec": {
   "display_name": "Python 3",
   "language": "python",
   "name": "python3"
  },
  "language_info": {
   "codemirror_mode": {
    "name": "ipython",
    "version": 3
   },
   "file_extension": ".py",
   "mimetype": "text/x-python",
   "name": "python",
   "nbconvert_exporter": "python",
   "pygments_lexer": "ipython3",
   "version": "3.7.6"
  }
 },
 "nbformat": 4,
 "nbformat_minor": 5
}
