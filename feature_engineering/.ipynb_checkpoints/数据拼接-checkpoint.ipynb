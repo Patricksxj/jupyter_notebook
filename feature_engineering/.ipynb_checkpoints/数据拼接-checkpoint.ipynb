{
 "cells": [
  {
   "cell_type": "code",
   "execution_count": 2,
   "id": "46e49355",
   "metadata": {},
   "outputs": [],
   "source": [
    "import pandas as pd\n",
    "df = pd.DataFrame({\n",
    "   \"FirstName\": [\"Jane\",\"john\",\"Ashley\", \"MATT\", \"Alex\"],\n",
    "   \"LastName\": [\"Doe\", \"Smitt\", \"Adams\", \"Tull\", \"Morgan\"],\n",
    "   \"Address\": [\"Houston, TX\", \"Dallas, TX\", \"San Antonio, TX\", \n",
    "            \"Palo Alto, CA\", \"San Diego, CA\"]})"
   ]
  },
  {
   "cell_type": "code",
   "execution_count": 3,
   "id": "b2f58897",
   "metadata": {},
   "outputs": [],
   "source": [
    "import numpy as np"
   ]
  },
  {
   "cell_type": "code",
   "execution_count": 4,
   "id": "b2d09644",
   "metadata": {},
   "outputs": [],
   "source": [
    "df1=df.copy()\n",
    "df2=df.copy()\n"
   ]
  }
 ],
 "metadata": {
  "kernelspec": {
   "display_name": "Python 3",
   "language": "python",
   "name": "python3"
  },
  "language_info": {
   "codemirror_mode": {
    "name": "ipython",
    "version": 3
   },
   "file_extension": ".py",
   "mimetype": "text/x-python",
   "name": "python",
   "nbconvert_exporter": "python",
   "pygments_lexer": "ipython3",
   "version": "3.7.6"
  }
 },
 "nbformat": 4,
 "nbformat_minor": 5
}
