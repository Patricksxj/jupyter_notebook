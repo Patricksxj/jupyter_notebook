{
 "cells": [
  {
   "cell_type": "code",
   "execution_count": 1,
   "id": "ff41d486",
   "metadata": {},
   "outputs": [],
   "source": [
    "import numpy as np\n",
    "from sklearn.datasets import load_iris\n",
    "from sklearn.feature_selection import SelectKBest\n",
    "from scipy.stats import pearsonr"
   ]
  },
  {
   "cell_type": "code",
   "execution_count": 2,
   "id": "678e6f1e",
   "metadata": {},
   "outputs": [],
   "source": [
    "iris=load_iris()"
   ]
  },
  {
   "cell_type": "code",
   "execution_count": null,
   "id": "0d6b3c67",
   "metadata": {},
   "outputs": [],
   "source": []
  },
  {
   "cell_type": "markdown",
   "id": "f6507001",
   "metadata": {},
   "source": [
    "### 用相关性寻找最佳特征"
   ]
  },
  {
   "cell_type": "code",
   "execution_count": 75,
   "id": "09677859",
   "metadata": {},
   "outputs": [],
   "source": [
    "pearson_model=SelectKBest(lambda X,Y:np.array(list(map(lambda x:pearsonr(x,Y),X.T))).T[0],k=2).fit(iris.data,iris.target)"
   ]
  },
  {
   "cell_type": "code",
   "execution_count": 76,
   "id": "a960e510",
   "metadata": {},
   "outputs": [
    {
     "data": {
      "text/plain": [
       "array([False, False,  True,  True])"
      ]
     },
     "execution_count": 76,
     "metadata": {},
     "output_type": "execute_result"
    }
   ],
   "source": [
    "pearson_model.get_support()"
   ]
  },
  {
   "cell_type": "code",
   "execution_count": 77,
   "id": "159b9b58",
   "metadata": {},
   "outputs": [
    {
     "data": {
      "text/plain": [
       "['petal length (cm)', 'petal width (cm)']"
      ]
     },
     "execution_count": 77,
     "metadata": {},
     "output_type": "execute_result"
    }
   ],
   "source": [
    "list(feature_data.columns.values[pearson_model.get_support()])"
   ]
  },
  {
   "cell_type": "code",
   "execution_count": 78,
   "id": "5476ae9b",
   "metadata": {},
   "outputs": [
    {
     "data": {
      "text/plain": [
       "array([ 0.78256123, -0.42665756,  0.9490347 ,  0.95654733])"
      ]
     },
     "execution_count": 78,
     "metadata": {},
     "output_type": "execute_result"
    }
   ],
   "source": [
    "pearson_model.scores_"
   ]
  },
  {
   "cell_type": "code",
   "execution_count": null,
   "id": "42961e67",
   "metadata": {},
   "outputs": [],
   "source": []
  },
  {
   "cell_type": "code",
   "execution_count": null,
   "id": "e452e26e",
   "metadata": {},
   "outputs": [],
   "source": []
  },
  {
   "cell_type": "code",
   "execution_count": null,
   "id": "cc2c39fa",
   "metadata": {},
   "outputs": [],
   "source": []
  },
  {
   "cell_type": "markdown",
   "id": "ffd99f47",
   "metadata": {},
   "source": [
    "### 运用特征中最大卡方方法"
   ]
  },
  {
   "cell_type": "code",
   "execution_count": 53,
   "id": "dd134316",
   "metadata": {},
   "outputs": [],
   "source": [
    "from sklearn.feature_selection import chi2\n",
    "\n",
    "def get_feature_importance(feature_data, label_data,k=2):\n",
    "    model = SelectKBest(chi2, k=k)#选择k个最佳特征\n",
    "    X_new = model.fit_transform(feature_data, label_data)\n",
    "    #feature_data是特征数据，label_data是标签数据，该函数可以选择出k个特征 \n",
    "    import pandas as pd\n",
    "    feature_data=pd.DataFrame(iris.data,columns=iris.feature_names)\n",
    "    print(\"model shape: \",X_new.shape)\n",
    " \n",
    "    scores = model.scores_\n",
    "    print('model scores:', scores)  # 得分越高，特征越重要\n",
    " \n",
    "    p_values = model.pvalues_\n",
    "    print('model p-values', p_values)  # p-values 越小，置信度越高，特征越重要\n",
    " \n",
    "    # 按重要性排序，选出最重要的 k 个\n",
    "    indices = np.argsort(scores)[::-1]\n",
    "    k_best_features = list(feature_data.columns.values[indices[0:k]])\n",
    "\n",
    "    print('k best features are: ',k_best_features)\n",
    "    return k_best_features"
   ]
  },
  {
   "cell_type": "code",
   "execution_count": null,
   "id": "56f70215",
   "metadata": {},
   "outputs": [],
   "source": []
  },
  {
   "cell_type": "code",
   "execution_count": 55,
   "id": "2d2e7796",
   "metadata": {},
   "outputs": [
    {
     "name": "stdout",
     "output_type": "stream",
     "text": [
      "model shape:  (150, 2)\n",
      "model scores: [ 10.81782088   3.7107283  116.31261309  67.0483602 ]\n",
      "model p-values [4.47651499e-03 1.56395980e-01 5.53397228e-26 2.75824965e-15]\n",
      "k best features are:  ['petal length (cm)', 'petal width (cm)']\n"
     ]
    }
   ],
   "source": [
    "k_best_features=get_feature_importance(iris.data,iris.target,k=2)"
   ]
  },
  {
   "cell_type": "code",
   "execution_count": 56,
   "id": "29902c95",
   "metadata": {},
   "outputs": [
    {
     "data": {
      "text/plain": [
       "['petal length (cm)', 'petal width (cm)']"
      ]
     },
     "execution_count": 56,
     "metadata": {},
     "output_type": "execute_result"
    }
   ],
   "source": [
    "k_best_features"
   ]
  },
  {
   "cell_type": "code",
   "execution_count": null,
   "id": "270df8fc",
   "metadata": {},
   "outputs": [],
   "source": []
  },
  {
   "cell_type": "markdown",
   "id": "7b27e149",
   "metadata": {},
   "source": [
    "### RFE 法"
   ]
  },
  {
   "cell_type": "code",
   "execution_count": 61,
   "id": "3efaab6a",
   "metadata": {},
   "outputs": [],
   "source": [
    "from sklearn.feature_selection import RFE\n",
    "from sklearn.linear_model import LogisticRegression"
   ]
  },
  {
   "cell_type": "code",
   "execution_count": 64,
   "id": "72dbc838",
   "metadata": {},
   "outputs": [],
   "source": [
    "lr_model=RFE(estimator=LogisticRegression(multi_class='auto',solver='lbfgs',max_iter=500),n_features_to_select=2).fit(iris.data,iris.target)"
   ]
  },
  {
   "cell_type": "code",
   "execution_count": 70,
   "id": "96e7781a",
   "metadata": {},
   "outputs": [
    {
     "data": {
      "text/plain": [
       "array([False, False,  True,  True])"
      ]
     },
     "execution_count": 70,
     "metadata": {},
     "output_type": "execute_result"
    }
   ],
   "source": [
    "lr_model.get_support()"
   ]
  },
  {
   "cell_type": "code",
   "execution_count": 72,
   "id": "c3f0c426",
   "metadata": {
    "scrolled": true
   },
   "outputs": [
    {
     "data": {
      "text/plain": [
       "['petal length (cm)', 'petal width (cm)']"
      ]
     },
     "execution_count": 72,
     "metadata": {},
     "output_type": "execute_result"
    }
   ],
   "source": [
    "list(feature_data.columns.values[lr_model.get_support()])"
   ]
  },
  {
   "cell_type": "code",
   "execution_count": null,
   "id": "0d23af3f",
   "metadata": {},
   "outputs": [],
   "source": []
  },
  {
   "cell_type": "markdown",
   "id": "1ad1f8ca",
   "metadata": {},
   "source": [
    "### 模型选择法"
   ]
  },
  {
   "cell_type": "code",
   "execution_count": 80,
   "id": "fb9bcc00",
   "metadata": {},
   "outputs": [],
   "source": [
    "from sklearn.feature_selection import SelectFromModel\n",
    "from sklearn.linear_model import LogisticRegression"
   ]
  },
  {
   "cell_type": "code",
   "execution_count": 83,
   "id": "ae22e26b",
   "metadata": {},
   "outputs": [],
   "source": [
    "lr_select_model=SelectFromModel(LogisticRegression(penalty='l2',C=0.1,solver='lbfgs',multi_class='auto')).fit(iris.data,iris.target)"
   ]
  },
  {
   "cell_type": "code",
   "execution_count": 84,
   "id": "15db5d41",
   "metadata": {},
   "outputs": [
    {
     "data": {
      "text/plain": [
       "array([False, False,  True,  True])"
      ]
     },
     "execution_count": 84,
     "metadata": {},
     "output_type": "execute_result"
    }
   ],
   "source": [
    "lr_select_model.get_support()"
   ]
  },
  {
   "cell_type": "code",
   "execution_count": 85,
   "id": "df71d296",
   "metadata": {},
   "outputs": [
    {
     "data": {
      "text/plain": [
       "['petal length (cm)', 'petal width (cm)']"
      ]
     },
     "execution_count": 85,
     "metadata": {},
     "output_type": "execute_result"
    }
   ],
   "source": [
    "list(feature_data.columns.values[lr_select_model.get_support()])"
   ]
  }
 ],
 "metadata": {
  "kernelspec": {
   "display_name": "Python 3",
   "language": "python",
   "name": "python3"
  },
  "language_info": {
   "codemirror_mode": {
    "name": "ipython",
    "version": 3
   },
   "file_extension": ".py",
   "mimetype": "text/x-python",
   "name": "python",
   "nbconvert_exporter": "python",
   "pygments_lexer": "ipython3",
   "version": "3.7.6"
  },
  "toc": {
   "base_numbering": 1,
   "nav_menu": {},
   "number_sections": true,
   "sideBar": true,
   "skip_h1_title": false,
   "title_cell": "Table of Contents",
   "title_sidebar": "Contents",
   "toc_cell": false,
   "toc_position": {},
   "toc_section_display": true,
   "toc_window_display": false
  }
 },
 "nbformat": 4,
 "nbformat_minor": 5
}
