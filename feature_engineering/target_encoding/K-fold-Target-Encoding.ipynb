{
 "cells": [
  {
   "cell_type": "code",
   "execution_count": 1,
   "metadata": {},
   "outputs": [],
   "source": [
    "import pandas as pd\n",
    "import numpy as np\n",
    "from sklearn import base\n",
    "from sklearn.model_selection import KFold"
   ]
  },
  {
   "cell_type": "code",
   "execution_count": null,
   "metadata": {},
   "outputs": [],
   "source": []
  },
  {
   "cell_type": "code",
   "execution_count": 2,
   "metadata": {},
   "outputs": [],
   "source": [
    "def getRandomDataFrame(data, numCol):\n",
    "    \n",
    "    if data== 'train':\n",
    "    \n",
    "        key = [\"A\" if x ==0  else 'B' for x in np.random.randint(2, size=(numCol,))]\n",
    "        value = np.random.randint(2, size=(numCol,))\n",
    "        df = pd.DataFrame({'Feature':key, 'Target':value})\n",
    "\n",
    "        return df\n",
    "    \n",
    "    elif data=='test':\n",
    "        \n",
    "        key = [\"A\" if x ==0  else 'B' for x in np.random.randint(2, size=(numCol,))]\n",
    "        df = pd.DataFrame({'Feature':key})\n",
    "\n",
    "        return df\n",
    "    else:\n",
    "        print(';)')"
   ]
  },
  {
   "cell_type": "code",
   "execution_count": 3,
   "metadata": {},
   "outputs": [],
   "source": [
    "# train = getRandomDataFrame('train',20)\n",
    "# test = getRandomDataFrame('test',5)"
   ]
  },
  {
   "cell_type": "code",
   "execution_count": 4,
   "metadata": {},
   "outputs": [],
   "source": [
    "# train.to_csv('./train.csv',index=False)\n",
    "# test.to_csv('./test.csv',index=False)"
   ]
  },
  {
   "cell_type": "code",
   "execution_count": 4,
   "metadata": {},
   "outputs": [],
   "source": [
    "train = pd.read_csv('./train.csv')\n",
    "test = pd.read_csv('./test.csv')"
   ]
  },
  {
   "source": [],
   "cell_type": "code",
   "metadata": {},
   "execution_count": null,
   "outputs": []
  },
  {
   "cell_type": "code",
   "execution_count": 5,
   "metadata": {},
   "outputs": [
    {
     "output_type": "execute_result",
     "data": {
      "text/plain": [
       "   Feature  Target\n",
       "0        A       1\n",
       "1        B       0\n",
       "2        B       0\n",
       "3        B       1\n",
       "4        B       1\n",
       "5        A       1\n",
       "6        B       0\n",
       "7        A       0\n",
       "8        A       0\n",
       "9        B       0\n",
       "10       A       1\n",
       "11       A       0\n",
       "12       B       1\n",
       "13       A       0\n",
       "14       A       1\n",
       "15       B       0\n",
       "16       B       0\n",
       "17       B       0\n",
       "18       A       1\n",
       "19       A       1"
      ],
      "text/html": "<div>\n<style scoped>\n    .dataframe tbody tr th:only-of-type {\n        vertical-align: middle;\n    }\n\n    .dataframe tbody tr th {\n        vertical-align: top;\n    }\n\n    .dataframe thead th {\n        text-align: right;\n    }\n</style>\n<table border=\"1\" class=\"dataframe\">\n  <thead>\n    <tr style=\"text-align: right;\">\n      <th></th>\n      <th>Feature</th>\n      <th>Target</th>\n    </tr>\n  </thead>\n  <tbody>\n    <tr>\n      <th>0</th>\n      <td>A</td>\n      <td>1</td>\n    </tr>\n    <tr>\n      <th>1</th>\n      <td>B</td>\n      <td>0</td>\n    </tr>\n    <tr>\n      <th>2</th>\n      <td>B</td>\n      <td>0</td>\n    </tr>\n    <tr>\n      <th>3</th>\n      <td>B</td>\n      <td>1</td>\n    </tr>\n    <tr>\n      <th>4</th>\n      <td>B</td>\n      <td>1</td>\n    </tr>\n    <tr>\n      <th>5</th>\n      <td>A</td>\n      <td>1</td>\n    </tr>\n    <tr>\n      <th>6</th>\n      <td>B</td>\n      <td>0</td>\n    </tr>\n    <tr>\n      <th>7</th>\n      <td>A</td>\n      <td>0</td>\n    </tr>\n    <tr>\n      <th>8</th>\n      <td>A</td>\n      <td>0</td>\n    </tr>\n    <tr>\n      <th>9</th>\n      <td>B</td>\n      <td>0</td>\n    </tr>\n    <tr>\n      <th>10</th>\n      <td>A</td>\n      <td>1</td>\n    </tr>\n    <tr>\n      <th>11</th>\n      <td>A</td>\n      <td>0</td>\n    </tr>\n    <tr>\n      <th>12</th>\n      <td>B</td>\n      <td>1</td>\n    </tr>\n    <tr>\n      <th>13</th>\n      <td>A</td>\n      <td>0</td>\n    </tr>\n    <tr>\n      <th>14</th>\n      <td>A</td>\n      <td>1</td>\n    </tr>\n    <tr>\n      <th>15</th>\n      <td>B</td>\n      <td>0</td>\n    </tr>\n    <tr>\n      <th>16</th>\n      <td>B</td>\n      <td>0</td>\n    </tr>\n    <tr>\n      <th>17</th>\n      <td>B</td>\n      <td>0</td>\n    </tr>\n    <tr>\n      <th>18</th>\n      <td>A</td>\n      <td>1</td>\n    </tr>\n    <tr>\n      <th>19</th>\n      <td>A</td>\n      <td>1</td>\n    </tr>\n  </tbody>\n</table>\n</div>"
     },
     "metadata": {},
     "execution_count": 5
    }
   ],
   "source": [
    "train"
   ]
  },
  {
   "cell_type": "code",
   "execution_count": 6,
   "metadata": {},
   "outputs": [
    {
     "output_type": "execute_result",
     "data": {
      "text/plain": [
       "         Target\n",
       "Feature        \n",
       "A           0.6\n",
       "B           0.3"
      ],
      "text/html": "<div>\n<style scoped>\n    .dataframe tbody tr th:only-of-type {\n        vertical-align: middle;\n    }\n\n    .dataframe tbody tr th {\n        vertical-align: top;\n    }\n\n    .dataframe thead th {\n        text-align: right;\n    }\n</style>\n<table border=\"1\" class=\"dataframe\">\n  <thead>\n    <tr style=\"text-align: right;\">\n      <th></th>\n      <th>Target</th>\n    </tr>\n    <tr>\n      <th>Feature</th>\n      <th></th>\n    </tr>\n  </thead>\n  <tbody>\n    <tr>\n      <th>A</th>\n      <td>0.6</td>\n    </tr>\n    <tr>\n      <th>B</th>\n      <td>0.3</td>\n    </tr>\n  </tbody>\n</table>\n</div>"
     },
     "metadata": {},
     "execution_count": 6
    }
   ],
   "source": [
    "train.groupby('Feature').mean()"
   ]
  },
  {
   "cell_type": "code",
   "execution_count": 8,
   "metadata": {},
   "outputs": [
    {
     "data": {
      "text/html": [
       "<div>\n",
       "<style scoped>\n",
       "    .dataframe tbody tr th:only-of-type {\n",
       "        vertical-align: middle;\n",
       "    }\n",
       "\n",
       "    .dataframe tbody tr th {\n",
       "        vertical-align: top;\n",
       "    }\n",
       "\n",
       "    .dataframe thead th {\n",
       "        text-align: right;\n",
       "    }\n",
       "</style>\n",
       "<table border=\"1\" class=\"dataframe\">\n",
       "  <thead>\n",
       "    <tr style=\"text-align: right;\">\n",
       "      <th></th>\n",
       "      <th>Feature</th>\n",
       "    </tr>\n",
       "  </thead>\n",
       "  <tbody>\n",
       "    <tr>\n",
       "      <th>0</th>\n",
       "      <td>B</td>\n",
       "    </tr>\n",
       "    <tr>\n",
       "      <th>1</th>\n",
       "      <td>B</td>\n",
       "    </tr>\n",
       "    <tr>\n",
       "      <th>2</th>\n",
       "      <td>B</td>\n",
       "    </tr>\n",
       "    <tr>\n",
       "      <th>3</th>\n",
       "      <td>A</td>\n",
       "    </tr>\n",
       "    <tr>\n",
       "      <th>4</th>\n",
       "      <td>A</td>\n",
       "    </tr>\n",
       "  </tbody>\n",
       "</table>\n",
       "</div>"
      ],
      "text/plain": [
       "  Feature\n",
       "0       B\n",
       "1       B\n",
       "2       B\n",
       "3       A\n",
       "4       A"
      ]
     },
     "execution_count": 8,
     "metadata": {},
     "output_type": "execute_result"
    }
   ],
   "source": [
    "test"
   ]
  },
  {
   "cell_type": "code",
   "execution_count": 9,
   "metadata": {},
   "outputs": [],
   "source": [
    "class KFoldTargetEncoderTrain(base.BaseEstimator, base.TransformerMixin):\n",
    "\n",
    "    def __init__(self, colnames,targetName,n_fold=5,verbosity=True,discardOriginal_col=False):\n",
    "\n",
    "        self.colnames = colnames\n",
    "        self.targetName = targetName\n",
    "        self.n_fold = n_fold\n",
    "        self.verbosity = verbosity\n",
    "        self.discardOriginal_col = discardOriginal_col\n",
    "\n",
    "    def fit(self, X, y=None):\n",
    "        return self\n",
    "\n",
    "\n",
    "    def transform(self,X):\n",
    "\n",
    "        assert(type(self.targetName) == str)\n",
    "        assert(type(self.colnames) == str)\n",
    "        assert(self.colnames in X.columns)\n",
    "        assert(self.targetName in X.columns)\n",
    "\n",
    "        mean_of_target = X[self.targetName].mean()\n",
    "        kf = KFold(n_splits = self.n_fold, shuffle = True, random_state=2019)\n",
    "\n",
    "\n",
    "\n",
    "        col_mean_name = self.colnames + '_' + 'Kfold_Target_Enc'\n",
    "        X[col_mean_name] = np.nan\n",
    "\n",
    "        for tr_ind, val_ind in kf.split(X):\n",
    "            X_tr, X_val = X.iloc[tr_ind], X.iloc[val_ind]\n",
    "#             print(tr_ind,val_ind)\n",
    "            X.loc[X.index[val_ind], col_mean_name] = X_val[self.colnames].map(X_tr.groupby(self.colnames)[self.targetName].mean())\n",
    "\n",
    "        X[col_mean_name].fillna(mean_of_target, inplace = True)\n",
    "\n",
    "        if self.verbosity:\n",
    "\n",
    "            encoded_feature = X[col_mean_name].values\n",
    "            print('Correlation between the new feature, {} and, {} is {}.'.format(col_mean_name,\n",
    "                                                                                      self.targetName,\n",
    "                                                                                      np.corrcoef(X[self.targetName].values, encoded_feature)[0][1]))\n",
    "        if self.discardOriginal_col:\n",
    "            X = X.drop(self.targetName, axis=1)\n",
    "            \n",
    "\n",
    "        return X"
   ]
  },
  {
   "cell_type": "code",
   "execution_count": 10,
   "metadata": {},
   "outputs": [
    {
     "output_type": "stream",
     "name": "stdout",
     "text": [
      "Correlation between the new feature, Feature_Kfold_Target_Enc and, Target is 0.18053954978064135.\n"
     ]
    }
   ],
   "source": [
    "targetc = KFoldTargetEncoderTrain('Feature','Target',n_fold=5)\n",
    "new_train = targetc.fit_transform(train)"
   ]
  },
  {
   "cell_type": "code",
   "execution_count": 11,
   "metadata": {},
   "outputs": [
    {
     "output_type": "execute_result",
     "data": {
      "text/plain": [
       "   Feature  Target  Feature_Kfold_Target_Enc\n",
       "0        A       1                  0.571429\n",
       "1        B       0                  0.375000\n",
       "2        B       0                  0.333333\n",
       "3        B       1                  0.250000\n",
       "4        B       1                  0.333333\n",
       "5        A       1                  0.571429\n",
       "6        B       0                  0.333333\n",
       "7        A       0                  0.625000\n",
       "8        A       0                  0.571429\n",
       "9        B       0                  0.375000\n",
       "10       A       1                  0.571429\n",
       "11       A       0                  0.625000\n",
       "12       B       1                  0.222222\n",
       "13       A       0                  0.571429\n",
       "14       A       1                  0.625000\n",
       "15       B       0                  0.333333\n",
       "16       B       0                  0.333333\n",
       "17       B       0                  0.250000\n",
       "18       A       1                  0.571429\n",
       "19       A       1                  0.625000"
      ],
      "text/html": "<div>\n<style scoped>\n    .dataframe tbody tr th:only-of-type {\n        vertical-align: middle;\n    }\n\n    .dataframe tbody tr th {\n        vertical-align: top;\n    }\n\n    .dataframe thead th {\n        text-align: right;\n    }\n</style>\n<table border=\"1\" class=\"dataframe\">\n  <thead>\n    <tr style=\"text-align: right;\">\n      <th></th>\n      <th>Feature</th>\n      <th>Target</th>\n      <th>Feature_Kfold_Target_Enc</th>\n    </tr>\n  </thead>\n  <tbody>\n    <tr>\n      <th>0</th>\n      <td>A</td>\n      <td>1</td>\n      <td>0.571429</td>\n    </tr>\n    <tr>\n      <th>1</th>\n      <td>B</td>\n      <td>0</td>\n      <td>0.375000</td>\n    </tr>\n    <tr>\n      <th>2</th>\n      <td>B</td>\n      <td>0</td>\n      <td>0.333333</td>\n    </tr>\n    <tr>\n      <th>3</th>\n      <td>B</td>\n      <td>1</td>\n      <td>0.250000</td>\n    </tr>\n    <tr>\n      <th>4</th>\n      <td>B</td>\n      <td>1</td>\n      <td>0.333333</td>\n    </tr>\n    <tr>\n      <th>5</th>\n      <td>A</td>\n      <td>1</td>\n      <td>0.571429</td>\n    </tr>\n    <tr>\n      <th>6</th>\n      <td>B</td>\n      <td>0</td>\n      <td>0.333333</td>\n    </tr>\n    <tr>\n      <th>7</th>\n      <td>A</td>\n      <td>0</td>\n      <td>0.625000</td>\n    </tr>\n    <tr>\n      <th>8</th>\n      <td>A</td>\n      <td>0</td>\n      <td>0.571429</td>\n    </tr>\n    <tr>\n      <th>9</th>\n      <td>B</td>\n      <td>0</td>\n      <td>0.375000</td>\n    </tr>\n    <tr>\n      <th>10</th>\n      <td>A</td>\n      <td>1</td>\n      <td>0.571429</td>\n    </tr>\n    <tr>\n      <th>11</th>\n      <td>A</td>\n      <td>0</td>\n      <td>0.625000</td>\n    </tr>\n    <tr>\n      <th>12</th>\n      <td>B</td>\n      <td>1</td>\n      <td>0.222222</td>\n    </tr>\n    <tr>\n      <th>13</th>\n      <td>A</td>\n      <td>0</td>\n      <td>0.571429</td>\n    </tr>\n    <tr>\n      <th>14</th>\n      <td>A</td>\n      <td>1</td>\n      <td>0.625000</td>\n    </tr>\n    <tr>\n      <th>15</th>\n      <td>B</td>\n      <td>0</td>\n      <td>0.333333</td>\n    </tr>\n    <tr>\n      <th>16</th>\n      <td>B</td>\n      <td>0</td>\n      <td>0.333333</td>\n    </tr>\n    <tr>\n      <th>17</th>\n      <td>B</td>\n      <td>0</td>\n      <td>0.250000</td>\n    </tr>\n    <tr>\n      <th>18</th>\n      <td>A</td>\n      <td>1</td>\n      <td>0.571429</td>\n    </tr>\n    <tr>\n      <th>19</th>\n      <td>A</td>\n      <td>1</td>\n      <td>0.625000</td>\n    </tr>\n  </tbody>\n</table>\n</div>"
     },
     "metadata": {},
     "execution_count": 11
    }
   ],
   "source": [
    "new_train"
   ]
  },
  {
   "cell_type": "code",
   "execution_count": 12,
   "metadata": {},
   "outputs": [
    {
     "output_type": "execute_result",
     "data": {
      "text/plain": [
       "           Target\n",
       "Feature          \n",
       "A        0.555556\n",
       "B        0.285714"
      ],
      "text/html": "<div>\n<style scoped>\n    .dataframe tbody tr th:only-of-type {\n        vertical-align: middle;\n    }\n\n    .dataframe tbody tr th {\n        vertical-align: top;\n    }\n\n    .dataframe thead th {\n        text-align: right;\n    }\n</style>\n<table border=\"1\" class=\"dataframe\">\n  <thead>\n    <tr style=\"text-align: right;\">\n      <th></th>\n      <th>Target</th>\n    </tr>\n    <tr>\n      <th>Feature</th>\n      <th></th>\n    </tr>\n  </thead>\n  <tbody>\n    <tr>\n      <th>A</th>\n      <td>0.555556</td>\n    </tr>\n    <tr>\n      <th>B</th>\n      <td>0.285714</td>\n    </tr>\n  </tbody>\n</table>\n</div>"
     },
     "metadata": {},
     "execution_count": 12
    }
   ],
   "source": [
    "train[['Feature','Target']].iloc[4:20,:].groupby('Feature').mean()"
   ]
  },
  {
   "cell_type": "code",
   "execution_count": 14,
   "metadata": {},
   "outputs": [
    {
     "data": {
      "text/html": [
       "<div>\n",
       "<style scoped>\n",
       "    .dataframe tbody tr th:only-of-type {\n",
       "        vertical-align: middle;\n",
       "    }\n",
       "\n",
       "    .dataframe tbody tr th {\n",
       "        vertical-align: top;\n",
       "    }\n",
       "\n",
       "    .dataframe thead th {\n",
       "        text-align: right;\n",
       "    }\n",
       "</style>\n",
       "<table border=\"1\" class=\"dataframe\">\n",
       "  <thead>\n",
       "    <tr style=\"text-align: right;\">\n",
       "      <th></th>\n",
       "      <th>Target</th>\n",
       "    </tr>\n",
       "    <tr>\n",
       "      <th>Feature</th>\n",
       "      <th></th>\n",
       "    </tr>\n",
       "  </thead>\n",
       "  <tbody>\n",
       "    <tr>\n",
       "      <th>A</th>\n",
       "      <td>0.6</td>\n",
       "    </tr>\n",
       "    <tr>\n",
       "      <th>B</th>\n",
       "      <td>0.3</td>\n",
       "    </tr>\n",
       "  </tbody>\n",
       "</table>\n",
       "</div>"
      ],
      "text/plain": [
       "         Target\n",
       "Feature        \n",
       "A           0.6\n",
       "B           0.3"
      ]
     },
     "execution_count": 14,
     "metadata": {},
     "output_type": "execute_result"
    }
   ],
   "source": [
    "train[['Feature','Target']].groupby('Feature').mean()"
   ]
  },
  {
   "cell_type": "code",
   "execution_count": null,
   "metadata": {},
   "outputs": [],
   "source": []
  },
  {
   "cell_type": "code",
   "execution_count": 15,
   "metadata": {},
   "outputs": [],
   "source": [
    "class KFoldTargetEncoderTest(base.BaseEstimator, base.TransformerMixin):\n",
    "    \n",
    "    def __init__(self,train,colNames,encodedName):\n",
    "        \n",
    "        self.train = train\n",
    "        self.colNames = colNames\n",
    "        self.encodedName = encodedName\n",
    "        \n",
    "        \n",
    "    def fit(self, X, y=None):\n",
    "        return self\n",
    "\n",
    "    def transform(self,X):\n",
    "\n",
    "\n",
    "        mean = self.train[[self.colNames,self.encodedName]].groupby(self.colNames).mean().reset_index() \n",
    "        \n",
    "        dd = {}\n",
    "        for index, row in mean.iterrows():\n",
    "            dd[row[self.colNames]] = row[self.encodedName]\n",
    "\n",
    "        \n",
    "        X[self.encodedName] = X[self.colNames]\n",
    "        X = X.replace({self.encodedName: dd})\n",
    "\n",
    "        return X\n",
    "        "
   ]
  },
  {
   "cell_type": "code",
   "execution_count": 17,
   "metadata": {},
   "outputs": [
    {
     "data": {
      "text/html": [
       "<div>\n",
       "<style scoped>\n",
       "    .dataframe tbody tr th:only-of-type {\n",
       "        vertical-align: middle;\n",
       "    }\n",
       "\n",
       "    .dataframe tbody tr th {\n",
       "        vertical-align: top;\n",
       "    }\n",
       "\n",
       "    .dataframe thead th {\n",
       "        text-align: right;\n",
       "    }\n",
       "</style>\n",
       "<table border=\"1\" class=\"dataframe\">\n",
       "  <thead>\n",
       "    <tr style=\"text-align: right;\">\n",
       "      <th></th>\n",
       "      <th>Feature</th>\n",
       "      <th>Feature_Kfold_Target_Enc</th>\n",
       "    </tr>\n",
       "  </thead>\n",
       "  <tbody>\n",
       "    <tr>\n",
       "      <th>0</th>\n",
       "      <td>B</td>\n",
       "      <td>0.294048</td>\n",
       "    </tr>\n",
       "    <tr>\n",
       "      <th>1</th>\n",
       "      <td>B</td>\n",
       "      <td>0.294048</td>\n",
       "    </tr>\n",
       "    <tr>\n",
       "      <th>2</th>\n",
       "      <td>B</td>\n",
       "      <td>0.294048</td>\n",
       "    </tr>\n",
       "    <tr>\n",
       "      <th>3</th>\n",
       "      <td>A</td>\n",
       "      <td>0.619841</td>\n",
       "    </tr>\n",
       "    <tr>\n",
       "      <th>4</th>\n",
       "      <td>A</td>\n",
       "      <td>0.619841</td>\n",
       "    </tr>\n",
       "  </tbody>\n",
       "</table>\n",
       "</div>"
      ],
      "text/plain": [
       "  Feature  Feature_Kfold_Target_Enc\n",
       "0       B                  0.294048\n",
       "1       B                  0.294048\n",
       "2       B                  0.294048\n",
       "3       A                  0.619841\n",
       "4       A                  0.619841"
      ]
     },
     "execution_count": 17,
     "metadata": {},
     "output_type": "execute_result"
    }
   ],
   "source": [
    "test_targetc = KFoldTargetEncoderTest(new_train,'Feature','Feature_Kfold_Target_Enc')\n",
    "test_targetc.fit_transform(test)"
   ]
  },
  {
   "cell_type": "code",
   "execution_count": null,
   "metadata": {},
   "outputs": [],
   "source": []
  }
 ],
 "metadata": {
  "kernelspec": {
   "name": "python376jvsc74a57bd0b3ba2566441a7c06988d0923437866b63cedc61552a5af99d1f4fb67d367b25f",
   "display_name": "Python 3.7.6 64-bit ('ProgramData': virtualenv)"
  },
  "language_info": {
   "codemirror_mode": {
    "name": "ipython",
    "version": 3
   },
   "file_extension": ".py",
   "mimetype": "text/x-python",
   "name": "python",
   "nbconvert_exporter": "python",
   "pygments_lexer": "ipython3",
   "version": "3.7.6"
  }
 },
 "nbformat": 4,
 "nbformat_minor": 2
}