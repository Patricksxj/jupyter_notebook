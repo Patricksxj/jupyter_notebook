{
 "cells": [
  {
   "cell_type": "code",
   "execution_count": 2,
   "metadata": {},
   "outputs": [
    {
     "name": "stdout",
     "output_type": "stream",
     "text": [
      "Looking in indexes: https://mirrors.aliyun.com/pypi/simple/\n",
      "Collecting sklearn_pandas\n",
      "  Downloading https://mirrors.aliyun.com/pypi/packages/30/71/ccd5222f731993dfc1a6d9e766a507f1859bda4930b9548e54c11c876baf/sklearn_pandas-2.2.0-py2.py3-none-any.whl (10 kB)\n",
      "Requirement already satisfied: pandas>=1.1.4 in c:\\programdata\\anaconda3\\lib\\site-packages (from sklearn_pandas) (1.2.4)\n",
      "Requirement already satisfied: scipy>=1.5.1 in c:\\programdata\\anaconda3\\lib\\site-packages (from sklearn_pandas) (1.6.2)\n",
      "Requirement already satisfied: scikit-learn>=0.23.0 in c:\\programdata\\anaconda3\\lib\\site-packages (from sklearn_pandas) (0.24.2)\n",
      "Requirement already satisfied: numpy>=1.18.1 in c:\\programdata\\anaconda3\\lib\\site-packages (from sklearn_pandas) (1.20.2)\n",
      "Requirement already satisfied: python-dateutil>=2.7.3 in c:\\programdata\\anaconda3\\lib\\site-packages (from pandas>=1.1.4->sklearn_pandas) (2.8.1)\n",
      "Requirement already satisfied: pytz>=2017.3 in c:\\programdata\\anaconda3\\lib\\site-packages (from pandas>=1.1.4->sklearn_pandas) (2021.1)\n",
      "Requirement already satisfied: six>=1.5 in c:\\programdata\\anaconda3\\lib\\site-packages (from python-dateutil>=2.7.3->pandas>=1.1.4->sklearn_pandas) (1.15.0)\n",
      "Requirement already satisfied: joblib>=0.11 in c:\\programdata\\anaconda3\\lib\\site-packages (from scikit-learn>=0.23.0->sklearn_pandas) (1.0.1)\n",
      "Requirement already satisfied: threadpoolctl>=2.0.0 in c:\\programdata\\anaconda3\\lib\\site-packages (from scikit-learn>=0.23.0->sklearn_pandas) (2.1.0)\n",
      "Installing collected packages: sklearn-pandas\n",
      "Successfully installed sklearn-pandas-2.2.0\n",
      "Note: you may need to restart the kernel to use updated packages.\n"
     ]
    }
   ],
   "source": [
    "pip install sklearn_pandas"
   ]
  },
  {
   "cell_type": "code",
   "execution_count": 3,
   "metadata": {
    "scrolled": true
   },
   "outputs": [],
   "source": [
    "import numpy as np\n",
    "import pandas as pd\n",
    "from sklearn.model_selection import train_test_split\n",
    "from sklearn.preprocessing import LabelBinarizer, OneHotEncoder\n",
    "from sklearn_pandas import DataFrameMapper\n",
    "from sklearn.ensemble import GradientBoostingClassifier, GradientBoostingRegressor\n",
    "from sklearn.tree import export_graphviz\n",
    "from sklearn.linear_model import LogisticRegression\n",
    "\n",
    "import warnings\n",
    "warnings.filterwarnings(\"ignore\")"
   ]
  },
  {
   "cell_type": "markdown",
   "metadata": {},
   "source": [
    "## 模型的apply函数"
   ]
  },
  {
   "cell_type": "code",
   "execution_count": 4,
   "metadata": {},
   "outputs": [],
   "source": [
    "application_train = pd.read_csv('data/application_train.csv')\n",
    "\n",
    "X = application_train[[col for col in application_train.columns if col not in ['SK_ID_CURR', 'TARGET', 'DATE']]]\n",
    "y = application_train['TARGET']\n",
    "\n",
    "X_train, X_test, y_train, y_test = train_test_split(X, y, test_size=0.3, random_state=1234)\n",
    "\n",
    "col_types = X_train.dtypes\n",
    "char_cols = list(col_types[col_types == 'object'].index)\n",
    "num_cols = list(col_types[col_types != 'object'].index)\n",
    "\n",
    "# GradientBoostingClassifier不支持缺失，填充缺失\n",
    "X_train[char_cols] = X_train[char_cols].fillna('null')\n",
    "X_train[num_cols] = X_train[num_cols].fillna(-1)\n",
    "X_test[char_cols] = X_test[char_cols].fillna('null')\n",
    "X_test[num_cols] = X_test[num_cols].fillna(-1)\n",
    "\n",
    "# GradientBoostingClassifier不支持类别特征，对类别特征进行ont-hot编码，并使测试集与训练集编码后的特征保持一致\n",
    "X_train_new = X_train[num_cols].join(pd.get_dummies(X_train[char_cols]))\n",
    "X_test_new = X_test[num_cols].join(pd.get_dummies(X_test[char_cols]))\n",
    "\n",
    "for col in set(X_train_new.columns) - set(X_test_new.columns):\n",
    "    X_test_new[col] = 0\n",
    "X_test_new = X_test_new[X_train_new.columns]\n",
    "\n",
    "# 训练模型\n",
    "model = GradientBoostingClassifier(random_state=1234)\n",
    "model.fit(X_train_new, y_train)\n",
    "\n",
    "# 获取落到每颗子树的叶子节点结果\n",
    "train_leaf_feature1 = model.apply(X_train_new)[:, :, 0]\n",
    "test_leaf_feature1 = model.apply(X_test_new)[:, :, 0]\n",
    "\n",
    "# 转换成GBDT特征\n",
    "enc = OneHotEncoder()\n",
    "enc.fit(train_leaf_feature1)\n",
    "train_gbdt_feature1 = np.array(enc.transform(train_leaf_feature1).toarray())\n",
    "test_gbdt_feature1 = np.array(enc.transform(test_leaf_feature1).toarray())"
   ]
  },
  {
   "cell_type": "code",
   "execution_count": 14,
   "metadata": {},
   "outputs": [
    {
     "data": {
      "text/plain": [
       "array([[13., 13., 13., ...,  3.,  4., 14.],\n",
       "       [13., 14., 14., ...,  6.,  3., 14.],\n",
       "       [10., 10., 11., ...,  3.,  4., 14.],\n",
       "       ...,\n",
       "       [13., 13., 13., ..., 11.,  4., 14.],\n",
       "       [ 6.,  7.,  7., ...,  3.,  4., 14.],\n",
       "       [ 4.,  4., 10., ..., 10.,  4., 14.]])"
      ]
     },
     "execution_count": 14,
     "metadata": {},
     "output_type": "execute_result"
    }
   ],
   "source": [
    "train_leaf_feature1"
   ]
  },
  {
   "cell_type": "code",
   "execution_count": 11,
   "metadata": {},
   "outputs": [
    {
     "data": {
      "text/plain": [
       "(43051, 100, 1)"
      ]
     },
     "execution_count": 11,
     "metadata": {},
     "output_type": "execute_result"
    }
   ],
   "source": [
    "model.apply(X_train_new).shape"
   ]
  },
  {
   "cell_type": "code",
   "execution_count": 3,
   "metadata": {},
   "outputs": [
    {
     "data": {
      "text/plain": [
       "array([[13., 13., 13., ...,  3.,  4., 14.],\n",
       "       [13., 14., 14., ...,  6.,  3., 14.],\n",
       "       [10., 10., 11., ...,  3.,  4., 14.],\n",
       "       ...,\n",
       "       [13., 13., 13., ..., 11.,  4., 14.],\n",
       "       [ 6.,  7.,  7., ...,  3.,  4., 14.],\n",
       "       [ 4.,  4., 10., ..., 10.,  4., 14.]])"
      ]
     },
     "execution_count": 3,
     "metadata": {},
     "output_type": "execute_result"
    }
   ],
   "source": [
    "train_leaf_feature1"
   ]
  },
  {
   "cell_type": "code",
   "execution_count": 4,
   "metadata": {},
   "outputs": [
    {
     "data": {
      "text/plain": [
       "(43051, 100)"
      ]
     },
     "execution_count": 4,
     "metadata": {},
     "output_type": "execute_result"
    }
   ],
   "source": [
    "train_leaf_feature1.shape"
   ]
  },
  {
   "cell_type": "code",
   "execution_count": 15,
   "metadata": {},
   "outputs": [
    {
     "data": {
      "text/plain": [
       "'tree1.gv.pdf'"
      ]
     },
     "execution_count": 15,
     "metadata": {},
     "output_type": "execute_result"
    }
   ],
   "source": [
    "import graphviz\n",
    "dot_data = export_graphviz(model.estimators_[0, 0], out_file=None, feature_names=X_train_new.columns,\n",
    "                           filled=True, rounded=True, special_characters=True)\n",
    "graph = graphviz.Source(dot_data)\n",
    "graph.render('tree1.gv')"
   ]
  },
  {
   "cell_type": "code",
   "execution_count": 16,
   "metadata": {
    "scrolled": false
   },
   "outputs": [
    {
     "data": {
      "image/svg+xml": [
       "<?xml version=\"1.0\" encoding=\"UTF-8\" standalone=\"no\"?>\r\n",
       "<!DOCTYPE svg PUBLIC \"-//W3C//DTD SVG 1.1//EN\"\r\n",
       " \"http://www.w3.org/Graphics/SVG/1.1/DTD/svg11.dtd\">\r\n",
       "<!-- Generated by graphviz version 2.47.1 (20210417.1919)\r\n",
       " -->\r\n",
       "<!-- Title: Tree Pages: 1 -->\r\n",
       "<svg width=\"1422pt\" height=\"373pt\"\r\n",
       " viewBox=\"0.00 0.00 1422.00 373.00\" xmlns=\"http://www.w3.org/2000/svg\" xmlns:xlink=\"http://www.w3.org/1999/xlink\">\r\n",
       "<g id=\"graph0\" class=\"graph\" transform=\"scale(1 1) rotate(0) translate(4 369)\">\r\n",
       "<title>Tree</title>\r\n",
       "<polygon fill=\"white\" stroke=\"transparent\" points=\"-4,4 -4,-369 1418,-369 1418,4 -4,4\"/>\r\n",
       "<!-- 0 -->\r\n",
       "<g id=\"node1\" class=\"node\">\r\n",
       "<title>0</title>\r\n",
       "<path fill=\"#fae7d9\" stroke=\"black\" d=\"M786,-365C786,-365 627,-365 627,-365 621,-365 615,-359 615,-353 615,-353 615,-309 615,-309 615,-303 621,-297 627,-297 627,-297 786,-297 786,-297 792,-297 798,-303 798,-309 798,-309 798,-353 798,-353 798,-359 792,-365 786,-365\"/>\r\n",
       "<text text-anchor=\"start\" x=\"623\" y=\"-349.8\" font-family=\"Helvetica,sans-Serif\" font-size=\"14.00\">EXT_SOURCE_2 ≤ 0.357</text>\r\n",
       "<text text-anchor=\"start\" x=\"634\" y=\"-334.8\" font-family=\"Helvetica,sans-Serif\" font-size=\"14.00\">friedman_mse = 0.074</text>\r\n",
       "<text text-anchor=\"start\" x=\"650.5\" y=\"-319.8\" font-family=\"Helvetica,sans-Serif\" font-size=\"14.00\">samples = 43051</text>\r\n",
       "<text text-anchor=\"start\" x=\"671.5\" y=\"-304.8\" font-family=\"Helvetica,sans-Serif\" font-size=\"14.00\">value = 0.0</text>\r\n",
       "</g>\r\n",
       "<!-- 1 -->\r\n",
       "<g id=\"node2\" class=\"node\">\r\n",
       "<title>1</title>\r\n",
       "<path fill=\"#fae4d5\" stroke=\"black\" d=\"M652,-261C652,-261 493,-261 493,-261 487,-261 481,-255 481,-249 481,-249 481,-205 481,-205 481,-199 487,-193 493,-193 493,-193 652,-193 652,-193 658,-193 664,-199 664,-205 664,-205 664,-249 664,-249 664,-255 658,-261 652,-261\"/>\r\n",
       "<text text-anchor=\"start\" x=\"489\" y=\"-245.8\" font-family=\"Helvetica,sans-Serif\" font-size=\"14.00\">EXT_SOURCE_3 ≤ 0.368</text>\r\n",
       "<text text-anchor=\"start\" x=\"500\" y=\"-230.8\" font-family=\"Helvetica,sans-Serif\" font-size=\"14.00\">friedman_mse = 0.128</text>\r\n",
       "<text text-anchor=\"start\" x=\"521\" y=\"-215.8\" font-family=\"Helvetica,sans-Serif\" font-size=\"14.00\">samples = 9423</text>\r\n",
       "<text text-anchor=\"start\" x=\"533.5\" y=\"-200.8\" font-family=\"Helvetica,sans-Serif\" font-size=\"14.00\">value = 0.07</text>\r\n",
       "</g>\r\n",
       "<!-- 0&#45;&gt;1 -->\r\n",
       "<g id=\"edge1\" class=\"edge\">\r\n",
       "<title>0&#45;&gt;1</title>\r\n",
       "<path fill=\"none\" stroke=\"black\" d=\"M662.99,-296.88C650.71,-287.53 637.21,-277.26 624.48,-267.57\"/>\r\n",
       "<polygon fill=\"black\" stroke=\"black\" points=\"626.32,-264.57 616.25,-261.3 622.08,-270.14 626.32,-264.57\"/>\r\n",
       "<text text-anchor=\"middle\" x=\"619.61\" y=\"-282.37\" font-family=\"Helvetica,sans-Serif\" font-size=\"14.00\">True</text>\r\n",
       "</g>\r\n",
       "<!-- 8 -->\r\n",
       "<g id=\"node9\" class=\"node\">\r\n",
       "<title>8</title>\r\n",
       "<path fill=\"#fae7da\" stroke=\"black\" d=\"M920,-261C920,-261 761,-261 761,-261 755,-261 749,-255 749,-249 749,-249 749,-205 749,-205 749,-199 755,-193 761,-193 761,-193 920,-193 920,-193 926,-193 932,-199 932,-205 932,-205 932,-249 932,-249 932,-255 926,-261 920,-261\"/>\r\n",
       "<text text-anchor=\"start\" x=\"757\" y=\"-245.8\" font-family=\"Helvetica,sans-Serif\" font-size=\"14.00\">EXT_SOURCE_3 ≤ 0.423</text>\r\n",
       "<text text-anchor=\"start\" x=\"768\" y=\"-230.8\" font-family=\"Helvetica,sans-Serif\" font-size=\"14.00\">friedman_mse = 0.057</text>\r\n",
       "<text text-anchor=\"start\" x=\"784.5\" y=\"-215.8\" font-family=\"Helvetica,sans-Serif\" font-size=\"14.00\">samples = 33628</text>\r\n",
       "<text text-anchor=\"start\" x=\"799.5\" y=\"-200.8\" font-family=\"Helvetica,sans-Serif\" font-size=\"14.00\">value = &#45;0.02</text>\r\n",
       "</g>\r\n",
       "<!-- 0&#45;&gt;8 -->\r\n",
       "<g id=\"edge8\" class=\"edge\">\r\n",
       "<title>0&#45;&gt;8</title>\r\n",
       "<path fill=\"none\" stroke=\"black\" d=\"M750.01,-296.88C762.29,-287.53 775.79,-277.26 788.52,-267.57\"/>\r\n",
       "<polygon fill=\"black\" stroke=\"black\" points=\"790.92,-270.14 796.75,-261.3 786.68,-264.57 790.92,-270.14\"/>\r\n",
       "<text text-anchor=\"middle\" x=\"793.39\" y=\"-282.37\" font-family=\"Helvetica,sans-Serif\" font-size=\"14.00\">False</text>\r\n",
       "</g>\r\n",
       "<!-- 2 -->\r\n",
       "<g id=\"node3\" class=\"node\">\r\n",
       "<title>2</title>\r\n",
       "<path fill=\"#f9e2d2\" stroke=\"black\" d=\"M339,-157C339,-157 180,-157 180,-157 174,-157 168,-151 168,-145 168,-145 168,-101 168,-101 168,-95 174,-89 180,-89 180,-89 339,-89 339,-89 345,-89 351,-95 351,-101 351,-101 351,-145 351,-145 351,-151 345,-157 339,-157\"/>\r\n",
       "<text text-anchor=\"start\" x=\"176\" y=\"-141.8\" font-family=\"Helvetica,sans-Serif\" font-size=\"14.00\">EXT_SOURCE_2 ≤ 0.108</text>\r\n",
       "<text text-anchor=\"start\" x=\"187\" y=\"-126.8\" font-family=\"Helvetica,sans-Serif\" font-size=\"14.00\">friedman_mse = 0.166</text>\r\n",
       "<text text-anchor=\"start\" x=\"208\" y=\"-111.8\" font-family=\"Helvetica,sans-Serif\" font-size=\"14.00\">samples = 4436</text>\r\n",
       "<text text-anchor=\"start\" x=\"216.5\" y=\"-96.8\" font-family=\"Helvetica,sans-Serif\" font-size=\"14.00\">value = 0.129</text>\r\n",
       "</g>\r\n",
       "<!-- 1&#45;&gt;2 -->\r\n",
       "<g id=\"edge2\" class=\"edge\">\r\n",
       "<title>1&#45;&gt;2</title>\r\n",
       "<path fill=\"none\" stroke=\"black\" d=\"M480.7,-196.09C443.04,-183.81 399.3,-169.56 360.72,-156.98\"/>\r\n",
       "<polygon fill=\"black\" stroke=\"black\" points=\"361.62,-153.6 351.02,-153.83 359.45,-160.25 361.62,-153.6\"/>\r\n",
       "</g>\r\n",
       "<!-- 5 -->\r\n",
       "<g id=\"node6\" class=\"node\">\r\n",
       "<title>5</title>\r\n",
       "<path fill=\"#fae6d8\" stroke=\"black\" d=\"M652,-157C652,-157 493,-157 493,-157 487,-157 481,-151 481,-145 481,-145 481,-101 481,-101 481,-95 487,-89 493,-89 493,-89 652,-89 652,-89 658,-89 664,-95 664,-101 664,-101 664,-145 664,-145 664,-151 658,-157 652,-157\"/>\r\n",
       "<text text-anchor=\"start\" x=\"489\" y=\"-141.8\" font-family=\"Helvetica,sans-Serif\" font-size=\"14.00\">EXT_SOURCE_2 ≤ 0.138</text>\r\n",
       "<text text-anchor=\"start\" x=\"500\" y=\"-126.8\" font-family=\"Helvetica,sans-Serif\" font-size=\"14.00\">friedman_mse = 0.088</text>\r\n",
       "<text text-anchor=\"start\" x=\"521\" y=\"-111.8\" font-family=\"Helvetica,sans-Serif\" font-size=\"14.00\">samples = 4987</text>\r\n",
       "<text text-anchor=\"start\" x=\"529.5\" y=\"-96.8\" font-family=\"Helvetica,sans-Serif\" font-size=\"14.00\">value = 0.017</text>\r\n",
       "</g>\r\n",
       "<!-- 1&#45;&gt;5 -->\r\n",
       "<g id=\"edge5\" class=\"edge\">\r\n",
       "<title>1&#45;&gt;5</title>\r\n",
       "<path fill=\"none\" stroke=\"black\" d=\"M572.5,-192.88C572.5,-184.78 572.5,-175.98 572.5,-167.47\"/>\r\n",
       "<polygon fill=\"black\" stroke=\"black\" points=\"576,-167.3 572.5,-157.3 569,-167.3 576,-167.3\"/>\r\n",
       "</g>\r\n",
       "<!-- 3 -->\r\n",
       "<g id=\"node4\" class=\"node\">\r\n",
       "<title>3</title>\r\n",
       "<path fill=\"#e58139\" stroke=\"black\" d=\"M149,-53C149,-53 12,-53 12,-53 6,-53 0,-47 0,-41 0,-41 0,-12 0,-12 0,-6 6,0 12,0 12,0 149,0 149,0 155,0 161,-6 161,-12 161,-12 161,-41 161,-41 161,-47 155,-53 149,-53\"/>\r\n",
       "<text text-anchor=\"start\" x=\"8\" y=\"-37.8\" font-family=\"Helvetica,sans-Serif\" font-size=\"14.00\">friedman_mse = 0.214</text>\r\n",
       "<text text-anchor=\"start\" x=\"33\" y=\"-22.8\" font-family=\"Helvetica,sans-Serif\" font-size=\"14.00\">samples = 972</text>\r\n",
       "<text text-anchor=\"start\" x=\"37.5\" y=\"-7.8\" font-family=\"Helvetica,sans-Serif\" font-size=\"14.00\">value = 3.093</text>\r\n",
       "</g>\r\n",
       "<!-- 2&#45;&gt;3 -->\r\n",
       "<g id=\"edge3\" class=\"edge\">\r\n",
       "<title>2&#45;&gt;3</title>\r\n",
       "<path fill=\"none\" stroke=\"black\" d=\"M196.89,-88.95C177.75,-78.84 156.79,-67.78 138,-57.86\"/>\r\n",
       "<polygon fill=\"black\" stroke=\"black\" points=\"139.44,-54.66 128.97,-53.09 136.18,-60.85 139.44,-54.66\"/>\r\n",
       "</g>\r\n",
       "<!-- 4 -->\r\n",
       "<g id=\"node5\" class=\"node\">\r\n",
       "<title>4</title>\r\n",
       "<path fill=\"#f1ba92\" stroke=\"black\" d=\"M328,-53C328,-53 191,-53 191,-53 185,-53 179,-47 179,-41 179,-41 179,-12 179,-12 179,-6 185,0 191,0 191,0 328,0 328,0 334,0 340,-6 340,-12 340,-12 340,-41 340,-41 340,-47 334,-53 328,-53\"/>\r\n",
       "<text text-anchor=\"start\" x=\"187\" y=\"-37.8\" font-family=\"Helvetica,sans-Serif\" font-size=\"14.00\">friedman_mse = 0.149</text>\r\n",
       "<text text-anchor=\"start\" x=\"208\" y=\"-22.8\" font-family=\"Helvetica,sans-Serif\" font-size=\"14.00\">samples = 3464</text>\r\n",
       "<text text-anchor=\"start\" x=\"216.5\" y=\"-7.8\" font-family=\"Helvetica,sans-Serif\" font-size=\"14.00\">value = 1.364</text>\r\n",
       "</g>\r\n",
       "<!-- 2&#45;&gt;4 -->\r\n",
       "<g id=\"edge4\" class=\"edge\">\r\n",
       "<title>2&#45;&gt;4</title>\r\n",
       "<path fill=\"none\" stroke=\"black\" d=\"M259.5,-88.95C259.5,-80.72 259.5,-71.85 259.5,-63.48\"/>\r\n",
       "<polygon fill=\"black\" stroke=\"black\" points=\"263,-63.24 259.5,-53.24 256,-63.24 263,-63.24\"/>\r\n",
       "</g>\r\n",
       "<!-- 6 -->\r\n",
       "<g id=\"node7\" class=\"node\">\r\n",
       "<title>6</title>\r\n",
       "<path fill=\"#f4caac\" stroke=\"black\" d=\"M507,-53C507,-53 370,-53 370,-53 364,-53 358,-47 358,-41 358,-41 358,-12 358,-12 358,-6 364,0 370,0 370,0 507,0 507,0 513,0 519,-6 519,-12 519,-12 519,-41 519,-41 519,-47 513,-53 507,-53\"/>\r\n",
       "<text text-anchor=\"start\" x=\"366\" y=\"-37.8\" font-family=\"Helvetica,sans-Serif\" font-size=\"14.00\">friedman_mse = 0.124</text>\r\n",
       "<text text-anchor=\"start\" x=\"387\" y=\"-22.8\" font-family=\"Helvetica,sans-Serif\" font-size=\"14.00\">samples = 1134</text>\r\n",
       "<text text-anchor=\"start\" x=\"395.5\" y=\"-7.8\" font-family=\"Helvetica,sans-Serif\" font-size=\"14.00\">value = 0.877</text>\r\n",
       "</g>\r\n",
       "<!-- 5&#45;&gt;6 -->\r\n",
       "<g id=\"edge6\" class=\"edge\">\r\n",
       "<title>5&#45;&gt;6</title>\r\n",
       "<path fill=\"none\" stroke=\"black\" d=\"M525.63,-88.95C511.88,-79.25 496.89,-68.68 483.27,-59.07\"/>\r\n",
       "<polygon fill=\"black\" stroke=\"black\" points=\"485.18,-56.14 474.99,-53.24 481.15,-61.86 485.18,-56.14\"/>\r\n",
       "</g>\r\n",
       "<!-- 7 -->\r\n",
       "<g id=\"node8\" class=\"node\">\r\n",
       "<title>7</title>\r\n",
       "<path fill=\"#fae5d7\" stroke=\"black\" d=\"M686,-53C686,-53 549,-53 549,-53 543,-53 537,-47 537,-41 537,-41 537,-12 537,-12 537,-6 543,0 549,0 549,0 686,0 686,0 692,0 698,-6 698,-12 698,-12 698,-41 698,-41 698,-47 692,-53 686,-53\"/>\r\n",
       "<text text-anchor=\"start\" x=\"545\" y=\"-37.8\" font-family=\"Helvetica,sans-Serif\" font-size=\"14.00\">friedman_mse = 0.077</text>\r\n",
       "<text text-anchor=\"start\" x=\"566\" y=\"-22.8\" font-family=\"Helvetica,sans-Serif\" font-size=\"14.00\">samples = 3853</text>\r\n",
       "<text text-anchor=\"start\" x=\"574.5\" y=\"-7.8\" font-family=\"Helvetica,sans-Serif\" font-size=\"14.00\">value = 0.041</text>\r\n",
       "</g>\r\n",
       "<!-- 5&#45;&gt;7 -->\r\n",
       "<g id=\"edge7\" class=\"edge\">\r\n",
       "<title>5&#45;&gt;7</title>\r\n",
       "<path fill=\"none\" stroke=\"black\" d=\"M588.24,-88.95C592.33,-80.35 596.76,-71.06 600.9,-62.37\"/>\r\n",
       "<polygon fill=\"black\" stroke=\"black\" points=\"604.11,-63.77 605.24,-53.24 597.79,-60.76 604.11,-63.77\"/>\r\n",
       "</g>\r\n",
       "<!-- 9 -->\r\n",
       "<g id=\"node10\" class=\"node\">\r\n",
       "<title>9</title>\r\n",
       "<path fill=\"#fae6d8\" stroke=\"black\" d=\"M920,-157C920,-157 761,-157 761,-157 755,-157 749,-151 749,-145 749,-145 749,-101 749,-101 749,-95 755,-89 761,-89 761,-89 920,-89 920,-89 926,-89 932,-95 932,-101 932,-101 932,-145 932,-145 932,-151 926,-157 920,-157\"/>\r\n",
       "<text text-anchor=\"start\" x=\"757\" y=\"-141.8\" font-family=\"Helvetica,sans-Serif\" font-size=\"14.00\">EXT_SOURCE_2 ≤ 0.597</text>\r\n",
       "<text text-anchor=\"start\" x=\"768\" y=\"-126.8\" font-family=\"Helvetica,sans-Serif\" font-size=\"14.00\">friedman_mse = 0.084</text>\r\n",
       "<text text-anchor=\"start\" x=\"784.5\" y=\"-111.8\" font-family=\"Helvetica,sans-Serif\" font-size=\"14.00\">samples = 14666</text>\r\n",
       "<text text-anchor=\"start\" x=\"797.5\" y=\"-96.8\" font-family=\"Helvetica,sans-Serif\" font-size=\"14.00\">value = 0.012</text>\r\n",
       "</g>\r\n",
       "<!-- 8&#45;&gt;9 -->\r\n",
       "<g id=\"edge9\" class=\"edge\">\r\n",
       "<title>8&#45;&gt;9</title>\r\n",
       "<path fill=\"none\" stroke=\"black\" d=\"M840.5,-192.88C840.5,-184.78 840.5,-175.98 840.5,-167.47\"/>\r\n",
       "<polygon fill=\"black\" stroke=\"black\" points=\"844,-167.3 840.5,-157.3 837,-167.3 844,-167.3\"/>\r\n",
       "</g>\r\n",
       "<!-- 12 -->\r\n",
       "<g id=\"node13\" class=\"node\">\r\n",
       "<title>12</title>\r\n",
       "<path fill=\"#fae8db\" stroke=\"black\" d=\"M1234,-157C1234,-157 1075,-157 1075,-157 1069,-157 1063,-151 1063,-145 1063,-145 1063,-101 1063,-101 1063,-95 1069,-89 1075,-89 1075,-89 1234,-89 1234,-89 1240,-89 1246,-95 1246,-101 1246,-101 1246,-145 1246,-145 1246,-151 1240,-157 1234,-157\"/>\r\n",
       "<text text-anchor=\"start\" x=\"1071\" y=\"-141.8\" font-family=\"Helvetica,sans-Serif\" font-size=\"14.00\">EXT_SOURCE_2 ≤ 0.623</text>\r\n",
       "<text text-anchor=\"start\" x=\"1082\" y=\"-126.8\" font-family=\"Helvetica,sans-Serif\" font-size=\"14.00\">friedman_mse = 0.035</text>\r\n",
       "<text text-anchor=\"start\" x=\"1098.5\" y=\"-111.8\" font-family=\"Helvetica,sans-Serif\" font-size=\"14.00\">samples = 18962</text>\r\n",
       "<text text-anchor=\"start\" x=\"1109\" y=\"-96.8\" font-family=\"Helvetica,sans-Serif\" font-size=\"14.00\">value = &#45;0.044</text>\r\n",
       "</g>\r\n",
       "<!-- 8&#45;&gt;12 -->\r\n",
       "<g id=\"edge12\" class=\"edge\">\r\n",
       "<title>8&#45;&gt;12</title>\r\n",
       "<path fill=\"none\" stroke=\"black\" d=\"M932.17,-196.22C970.13,-183.89 1014.3,-169.54 1053.22,-156.9\"/>\r\n",
       "<polygon fill=\"black\" stroke=\"black\" points=\"1054.56,-160.14 1062.99,-153.73 1052.4,-153.49 1054.56,-160.14\"/>\r\n",
       "</g>\r\n",
       "<!-- 10 -->\r\n",
       "<g id=\"node11\" class=\"node\">\r\n",
       "<title>10</title>\r\n",
       "<path fill=\"#f6d5bd\" stroke=\"black\" d=\"M865,-53C865,-53 728,-53 728,-53 722,-53 716,-47 716,-41 716,-41 716,-12 716,-12 716,-6 722,0 728,0 728,0 865,0 865,0 871,0 877,-6 877,-12 877,-12 877,-41 877,-41 877,-47 871,-53 865,-53\"/>\r\n",
       "<text text-anchor=\"start\" x=\"724\" y=\"-37.8\" font-family=\"Helvetica,sans-Serif\" font-size=\"14.00\">friedman_mse = 0.105</text>\r\n",
       "<text text-anchor=\"start\" x=\"745\" y=\"-22.8\" font-family=\"Helvetica,sans-Serif\" font-size=\"14.00\">samples = 7079</text>\r\n",
       "<text text-anchor=\"start\" x=\"757.5\" y=\"-7.8\" font-family=\"Helvetica,sans-Serif\" font-size=\"14.00\">value = 0.53</text>\r\n",
       "</g>\r\n",
       "<!-- 9&#45;&gt;10 -->\r\n",
       "<g id=\"edge10\" class=\"edge\">\r\n",
       "<title>9&#45;&gt;10</title>\r\n",
       "<path fill=\"none\" stroke=\"black\" d=\"M825.11,-88.95C821.11,-80.35 816.78,-71.06 812.74,-62.37\"/>\r\n",
       "<polygon fill=\"black\" stroke=\"black\" points=\"815.88,-60.82 808.48,-53.24 809.53,-63.78 815.88,-60.82\"/>\r\n",
       "</g>\r\n",
       "<!-- 11 -->\r\n",
       "<g id=\"node12\" class=\"node\">\r\n",
       "<title>11</title>\r\n",
       "<path fill=\"#fbede2\" stroke=\"black\" d=\"M1044,-53C1044,-53 907,-53 907,-53 901,-53 895,-47 895,-41 895,-41 895,-12 895,-12 895,-6 901,0 907,0 907,0 1044,0 1044,0 1050,0 1056,-6 1056,-12 1056,-12 1056,-41 1056,-41 1056,-47 1050,-53 1044,-53\"/>\r\n",
       "<text text-anchor=\"start\" x=\"903\" y=\"-37.8\" font-family=\"Helvetica,sans-Serif\" font-size=\"14.00\">friedman_mse = 0.062</text>\r\n",
       "<text text-anchor=\"start\" x=\"924\" y=\"-22.8\" font-family=\"Helvetica,sans-Serif\" font-size=\"14.00\">samples = 7587</text>\r\n",
       "<text text-anchor=\"start\" x=\"930\" y=\"-7.8\" font-family=\"Helvetica,sans-Serif\" font-size=\"14.00\">value = &#45;0.184</text>\r\n",
       "</g>\r\n",
       "<!-- 9&#45;&gt;11 -->\r\n",
       "<g id=\"edge11\" class=\"edge\">\r\n",
       "<title>9&#45;&gt;11</title>\r\n",
       "<path fill=\"none\" stroke=\"black\" d=\"M887.72,-88.95C901.57,-79.25 916.68,-68.68 930.4,-59.07\"/>\r\n",
       "<polygon fill=\"black\" stroke=\"black\" points=\"932.55,-61.84 938.73,-53.24 928.53,-56.1 932.55,-61.84\"/>\r\n",
       "</g>\r\n",
       "<!-- 13 -->\r\n",
       "<g id=\"node14\" class=\"node\">\r\n",
       "<title>13</title>\r\n",
       "<path fill=\"#fdf6f0\" stroke=\"black\" d=\"M1223,-53C1223,-53 1086,-53 1086,-53 1080,-53 1074,-47 1074,-41 1074,-41 1074,-12 1074,-12 1074,-6 1080,0 1086,0 1086,0 1223,0 1223,0 1229,0 1235,-6 1235,-12 1235,-12 1235,-41 1235,-41 1235,-47 1229,-53 1223,-53\"/>\r\n",
       "<text text-anchor=\"start\" x=\"1082\" y=\"-37.8\" font-family=\"Helvetica,sans-Serif\" font-size=\"14.00\">friedman_mse = 0.045</text>\r\n",
       "<text text-anchor=\"start\" x=\"1103\" y=\"-22.8\" font-family=\"Helvetica,sans-Serif\" font-size=\"14.00\">samples = 9731</text>\r\n",
       "<text text-anchor=\"start\" x=\"1109\" y=\"-7.8\" font-family=\"Helvetica,sans-Serif\" font-size=\"14.00\">value = &#45;0.455</text>\r\n",
       "</g>\r\n",
       "<!-- 12&#45;&gt;13 -->\r\n",
       "<g id=\"edge13\" class=\"edge\">\r\n",
       "<title>12&#45;&gt;13</title>\r\n",
       "<path fill=\"none\" stroke=\"black\" d=\"M1154.5,-88.95C1154.5,-80.72 1154.5,-71.85 1154.5,-63.48\"/>\r\n",
       "<polygon fill=\"black\" stroke=\"black\" points=\"1158,-63.24 1154.5,-53.24 1151,-63.24 1158,-63.24\"/>\r\n",
       "</g>\r\n",
       "<!-- 14 -->\r\n",
       "<g id=\"node15\" class=\"node\">\r\n",
       "<title>14</title>\r\n",
       "<path fill=\"#ffffff\" stroke=\"black\" d=\"M1402,-53C1402,-53 1265,-53 1265,-53 1259,-53 1253,-47 1253,-41 1253,-41 1253,-12 1253,-12 1253,-6 1259,0 1265,0 1265,0 1402,0 1402,0 1408,0 1414,-6 1414,-12 1414,-12 1414,-41 1414,-41 1414,-47 1408,-53 1402,-53\"/>\r\n",
       "<text text-anchor=\"start\" x=\"1261\" y=\"-37.8\" font-family=\"Helvetica,sans-Serif\" font-size=\"14.00\">friedman_mse = 0.025</text>\r\n",
       "<text text-anchor=\"start\" x=\"1282\" y=\"-22.8\" font-family=\"Helvetica,sans-Serif\" font-size=\"14.00\">samples = 9231</text>\r\n",
       "<text text-anchor=\"start\" x=\"1288\" y=\"-7.8\" font-family=\"Helvetica,sans-Serif\" font-size=\"14.00\">value = &#45;0.738</text>\r\n",
       "</g>\r\n",
       "<!-- 12&#45;&gt;14 -->\r\n",
       "<g id=\"edge14\" class=\"edge\">\r\n",
       "<title>12&#45;&gt;14</title>\r\n",
       "<path fill=\"none\" stroke=\"black\" d=\"M1217.11,-88.95C1236.25,-78.84 1257.21,-67.78 1276,-57.86\"/>\r\n",
       "<polygon fill=\"black\" stroke=\"black\" points=\"1277.82,-60.85 1285.03,-53.09 1274.56,-54.66 1277.82,-60.85\"/>\r\n",
       "</g>\r\n",
       "</g>\r\n",
       "</svg>\r\n"
      ],
      "text/plain": [
       "<graphviz.files.Source at 0x2a8cdf4dc08>"
      ]
     },
     "execution_count": 16,
     "metadata": {},
     "output_type": "execute_result"
    }
   ],
   "source": [
    "graph"
   ]
  },
  {
   "cell_type": "code",
   "execution_count": 6,
   "metadata": {},
   "outputs": [
    {
     "data": {
      "text/plain": [
       "{3.0, 4.0, 6.0, 7.0, 10.0, 11.0, 13.0, 14.0}"
      ]
     },
     "execution_count": 6,
     "metadata": {},
     "output_type": "execute_result"
    }
   ],
   "source": [
    "set(train_leaf_feature1[:, 0])"
   ]
  },
  {
   "cell_type": "code",
   "execution_count": 7,
   "metadata": {
    "scrolled": true
   },
   "outputs": [
    {
     "data": {
      "text/plain": [
       "EXT_SOURCE_2    0.447966\n",
       "EXT_SOURCE_3     0.58674\n",
       "Name: 53107, dtype: object"
      ]
     },
     "execution_count": 7,
     "metadata": {},
     "output_type": "execute_result"
    }
   ],
   "source": [
    "X_train.iloc[0][['EXT_SOURCE_2', 'EXT_SOURCE_3']]"
   ]
  },
  {
   "cell_type": "code",
   "execution_count": 8,
   "metadata": {},
   "outputs": [
    {
     "data": {
      "text/plain": [
       "array([0., 0., 0., 0., 0., 0., 1., 0.])"
      ]
     },
     "execution_count": 8,
     "metadata": {},
     "output_type": "execute_result"
    }
   ],
   "source": [
    "train_gbdt_feature1[0, :8]"
   ]
  },
  {
   "cell_type": "markdown",
   "metadata": {},
   "source": [
    "## 解析树结构"
   ]
  },
  {
   "cell_type": "code",
   "execution_count": 17,
   "metadata": {},
   "outputs": [
    {
     "data": {
      "text/plain": [
       "['digraph Tree {',\n",
       " 'node [shape=box] ;',\n",
       " '0 [label=\"EXT_SOURCE_2 <= 0.356838\\\\nfriedman_mse = 0.074066\\\\nsamples = 43051\\\\nvalue = 0.0\"] ;',\n",
       " '1 [label=\"EXT_SOURCE_3 <= 0.36813\\\\nfriedman_mse = 0.127764\\\\nsamples = 9423\\\\nvalue = 0.069821\"] ;',\n",
       " '0 -> 1 [labeldistance=2.5, labelangle=45, headlabel=\"True\"] ;',\n",
       " '2 [label=\"EXT_SOURCE_2 <= 0.108422\\\\nfriedman_mse = 0.165696\\\\nsamples = 4436\\\\nvalue = 0.129093\"] ;',\n",
       " '1 -> 2 ;',\n",
       " '3 [label=\"friedman_mse = 0.213775\\\\nsamples = 972\\\\nvalue = 3.093375\"] ;',\n",
       " '2 -> 3 ;',\n",
       " '4 [label=\"friedman_mse = 0.14861\\\\nsamples = 3464\\\\nvalue = 1.363997\"] ;',\n",
       " '2 -> 4 ;',\n",
       " '5 [label=\"EXT_SOURCE_2 <= 0.137969\\\\nfriedman_mse = 0.088118\\\\nsamples = 4987\\\\nvalue = 0.017098\"] ;',\n",
       " '1 -> 5 ;',\n",
       " '6 [label=\"friedman_mse = 0.124332\\\\nsamples = 1134\\\\nvalue = 0.876876\"] ;',\n",
       " '5 -> 6 ;',\n",
       " '7 [label=\"friedman_mse = 0.076587\\\\nsamples = 3853\\\\nvalue = 0.040715\"] ;',\n",
       " '5 -> 7 ;',\n",
       " '8 [label=\"EXT_SOURCE_3 <= 0.42325\\\\nfriedman_mse = 0.057271\\\\nsamples = 33628\\\\nvalue = -0.019565\"] ;',\n",
       " '0 -> 8 [labeldistance=2.5, labelangle=-45, headlabel=\"False\"] ;',\n",
       " '9 [label=\"EXT_SOURCE_2 <= 0.597194\\\\nfriedman_mse = 0.08391\\\\nsamples = 14666\\\\nvalue = 0.011903\"] ;',\n",
       " '8 -> 9 ;',\n",
       " '10 [label=\"friedman_mse = 0.105441\\\\nsamples = 7079\\\\nvalue = 0.529731\"] ;',\n",
       " '9 -> 10 ;',\n",
       " '11 [label=\"friedman_mse = 0.062473\\\\nsamples = 7587\\\\nvalue = -0.183605\"] ;',\n",
       " '9 -> 11 ;',\n",
       " '12 [label=\"EXT_SOURCE_2 <= 0.623373\\\\nfriedman_mse = 0.035309\\\\nsamples = 18962\\\\nvalue = -0.043903\"] ;',\n",
       " '8 -> 12 ;',\n",
       " '13 [label=\"friedman_mse = 0.044665\\\\nsamples = 9731\\\\nvalue = -0.454931\"] ;',\n",
       " '12 -> 13 ;',\n",
       " '14 [label=\"friedman_mse = 0.025221\\\\nsamples = 9231\\\\nvalue = -0.738048\"] ;',\n",
       " '12 -> 14 ;',\n",
       " '}']"
      ]
     },
     "execution_count": 17,
     "metadata": {},
     "output_type": "execute_result"
    }
   ],
   "source": [
    "export_graphviz(model.estimators_[0, 0], feature_names=X_train_new.columns, precision=6).split('\\n')"
   ]
  },
  {
   "cell_type": "code",
   "execution_count": 18,
   "metadata": {},
   "outputs": [],
   "source": [
    "now_col = 'NAME_TYPE_SUITE_Other_A'\n",
    "char_col = 'NAME_TYPE_SUITE'"
   ]
  },
  {
   "cell_type": "code",
   "execution_count": 19,
   "metadata": {},
   "outputs": [],
   "source": [
    "def get_gbdt_path(model, data_cols, char_cols=[], precision=6):\n",
    "    '''\n",
    "    根据数据集和GBDT模型,输出按照GBDT的路径衍生的变量:\n",
    "    ------------------------------------------------------------\n",
    "    入参结果如下:\n",
    "        model: 训练完的GBDT模型\n",
    "        data_cols: 训练数据集的特征列表\n",
    "        char_cols: 类别特征的特征列表\n",
    "            由于类别特征需one-hot编码后进模型,在树结构中会出现var_value > 0.5的节点,传入char_cols则可以将节点改为var ==/!= value\n",
    "        precision: 提取每个子树的文字结构时,内部节点判断阈值的精确小数位，保留位数太少可能存在误差\n",
    "    ------------------------------------------------------------\n",
    "    出参结果如下:\n",
    "        gbdt_path: GBDT所有叶子节点经过的路径\n",
    "    '''\n",
    "    # 类别特征节点判断转换的字段\n",
    "    if isinstance(char_cols, list) and char_cols != []:\n",
    "        node_judge_trans = {}\n",
    "        for char_col in char_cols:\n",
    "            for now_col in data_cols:\n",
    "                if char_col in now_col:\n",
    "                    node_judge_trans['{} > 0.5'.format(now_col)] = '{} == {}'.format(char_col, now_col.replace(char_col + '_', ''))\n",
    "                    node_judge_trans['{} <= 0.5'.format(now_col)] = '{} != {}'.format(char_col, now_col.replace(char_col + '_', ''))\n",
    "    \n",
    "    # 所有树的叶子节点路径\n",
    "    leaf_node_path = []\n",
    "    # 遍历每棵子树\n",
    "    for n in range(model.n_estimators_):\n",
    "        tree_text = export_graphviz(model.estimators_[n, 0], feature_names=data_cols, precision=precision)\n",
    "\n",
    "        # 节点\n",
    "        node = {}\n",
    "        # 叶子节点\n",
    "        leaf_node_index = []\n",
    "        # 节点经过的路径\n",
    "        node_path = {}\n",
    "        # 分裂的节点\n",
    "        split_node = []\n",
    "\n",
    "        # 遍历每颗子树内部情况\n",
    "        for line in tree_text.split('\\n'):\n",
    "            # 获取现节点的索引\n",
    "            if '[label=' in line:\n",
    "                node_index = int(line[: line.find('[') - 1])\n",
    "                # 如果现节点有条件判断，保存判断\n",
    "                if 'label=\"friedman_mse' not in line:\n",
    "                    node[node_index] = line[line.find('label=\"') + 7: line.find('\\\\nfriedman_mse')]\n",
    "                else:\n",
    "                    leaf_node_index.append(node_index)\n",
    "\n",
    "            # 上一个节点到下一个节点的路径\n",
    "            if '->' in line:\n",
    "                # 获取上一个节点的索引\n",
    "                previous_node_index = int(line[: line.find('->') - 1])\n",
    "                # 获取下一个节点的索引\n",
    "                if '[' in line:\n",
    "                    next_node_index = int(line[line.find('->') + 3: line.find('[') - 1])\n",
    "                else:\n",
    "                    next_node_index = int(line[line.find('->') + 3: line.find(';') - 1])\n",
    "\n",
    "                # 分裂的左路径\n",
    "                if previous_node_index not in split_node:\n",
    "                    split_node.append(previous_node_index)\n",
    "                    # 从根节点到现节点的路径\n",
    "                    if previous_node_index == 0:\n",
    "                        node_path[next_node_index] = node[previous_node_index]\n",
    "                    else:\n",
    "                        node_path[next_node_index] = (node_path[previous_node_index] + ' & ' + node[previous_node_index])\n",
    "                # 分裂的右路径\n",
    "                else:\n",
    "                    # 从根节点到现节点的路径\n",
    "                    if previous_node_index == 0:\n",
    "                        node_path[next_node_index] = node[previous_node_index].replace('<=', '>')\n",
    "                    else:\n",
    "                        node_path[next_node_index] = (node_path[previous_node_index] + ' & ' + node[previous_node_index].replace('<=', '>'))\n",
    "                        \n",
    "        if isinstance(char_cols, list) and char_cols != []:\n",
    "            # 遍历刚才生成的每个节点对应路径的字典\n",
    "            for index in node_path.keys():\n",
    "                # 由于类别特征会进行one-hot编码,导致节点的判断为<=0.5/>0.5,将其替换成未one-hot编码前的表达方式var ==/!= value\n",
    "                for old_judge, new_judge in node_judge_trans.items():\n",
    "                    node_path[index] = node_path[index].replace(old_judge, new_judge)\n",
    "\n",
    "        leaf_node_path += [value for key, value in node_path.items() if key in leaf_node_index]\n",
    "    \n",
    "    gbdt_path = {index + 1: value for index, value in enumerate(leaf_node_path)}\n",
    "    \n",
    "    return gbdt_path"
   ]
  },
  {
   "cell_type": "code",
   "execution_count": 20,
   "metadata": {},
   "outputs": [],
   "source": [
    "data_cols = X_train_new.columns\n",
    "gbdt_path = get_gbdt_path(model, data_cols, char_cols, precision=6)"
   ]
  },
  {
   "cell_type": "code",
   "execution_count": 21,
   "metadata": {},
   "outputs": [
    {
     "name": "stdout",
     "output_type": "stream",
     "text": [
      "模型的apply函数方法提取的GBDT特征数： 773\n",
      "解析树结构方法提取的GBDT路径数： 773\n"
     ]
    }
   ],
   "source": [
    "print('模型的apply函数方法提取的GBDT特征数：', train_gbdt_feature1.shape[1])\n",
    "print('解析树结构方法提取的GBDT路径数：', len(gbdt_path))"
   ]
  },
  {
   "cell_type": "code",
   "execution_count": 22,
   "metadata": {},
   "outputs": [
    {
     "data": {
      "text/plain": [
       "{1: 'EXT_SOURCE_2 <= 0.356838 & EXT_SOURCE_3 <= 0.36813 & EXT_SOURCE_2 <= 0.108422',\n",
       " 2: 'EXT_SOURCE_2 <= 0.356838 & EXT_SOURCE_3 <= 0.36813 & EXT_SOURCE_2 > 0.108422',\n",
       " 3: 'EXT_SOURCE_2 <= 0.356838 & EXT_SOURCE_3 > 0.36813 & EXT_SOURCE_2 <= 0.137969',\n",
       " 4: 'EXT_SOURCE_2 <= 0.356838 & EXT_SOURCE_3 > 0.36813 & EXT_SOURCE_2 > 0.137969',\n",
       " 5: 'EXT_SOURCE_2 > 0.356838 & EXT_SOURCE_3 <= 0.42325 & EXT_SOURCE_2 <= 0.597194',\n",
       " 6: 'EXT_SOURCE_2 > 0.356838 & EXT_SOURCE_3 <= 0.42325 & EXT_SOURCE_2 > 0.597194',\n",
       " 7: 'EXT_SOURCE_2 > 0.356838 & EXT_SOURCE_3 > 0.42325 & EXT_SOURCE_2 <= 0.623373',\n",
       " 8: 'EXT_SOURCE_2 > 0.356838 & EXT_SOURCE_3 > 0.42325 & EXT_SOURCE_2 > 0.623373',\n",
       " 9: 'EXT_SOURCE_2 <= 0.356838 & EXT_SOURCE_3 <= 0.373177 & EXT_SOURCE_2 <= 0.106543',\n",
       " 10: 'EXT_SOURCE_2 <= 0.356838 & EXT_SOURCE_3 <= 0.373177 & EXT_SOURCE_2 > 0.106543'}"
      ]
     },
     "execution_count": 22,
     "metadata": {},
     "output_type": "execute_result"
    }
   ],
   "source": [
    "{key:value for key, value in gbdt_path.items() if key in range(1, 11)}"
   ]
  },
  {
   "cell_type": "code",
   "execution_count": null,
   "metadata": {},
   "outputs": [],
   "source": []
  },
  {
   "cell_type": "code",
   "execution_count": 23,
   "metadata": {},
   "outputs": [],
   "source": [
    "def get_gbdt_feature(data, gbdt_path, cols_name=1):\n",
    "    '''\n",
    "    根据get_gbdt_path_var返回数据集的变量列表,回溯gbdt衍生给其他数据集:\n",
    "    ------------------------------------------------------------\n",
    "    入参结果如下:\n",
    "        data: 需衍生变量的数据集,pd.DataFrame对象,不能有缺失\n",
    "        gbdt_cols: get_gbdt_path返回的GBDT所有叶子节点的对应路径\n",
    "        cols_name：是否使用GBDT路径作为列名,默认为1,传入0则将列名用叶子节点序号代替\n",
    "    ------------------------------------------------------------\n",
    "    出参结果如下:\n",
    "        gbdt_feature: GBDT特征\n",
    "    '''\n",
    "    gbdt_feature = pd.DataFrame()\n",
    "\n",
    "    # 遍历所有叶子节点经过的路径提取GBDT特征\n",
    "    for key, value in gbdt_path.items():\n",
    "        # 需执行exec的字符串开头\n",
    "        if cols_name == 1:\n",
    "            exec_str = \"gbdt_feature['{}'] = \".format(value)\n",
    "        elif cols_name == 0:\n",
    "            exec_str = \"gbdt_feature['{}'] = \".format(key)\n",
    "        else:\n",
    "            raise ValueError('请传入正确的cols_name参数,cols_name应为1或0')\n",
    "            \n",
    "        judge_len = len(value.split(' & '))\n",
    "\n",
    "        # 遍历变量名中的所有条件加到exec字符串中\n",
    "        for index, judge in enumerate(value.split(' & ')):\n",
    "            # 数值型的条件\n",
    "            if ('!=' not in judge) and ('==' not in judge):\n",
    "                # 只有一个条件\n",
    "                if judge_len == 1:\n",
    "                    exec_str += (\"(data['{}']{})\".format(judge[: judge.find(' ')], judge[judge.find(' '):]))\n",
    "                # 第一个条件\n",
    "                elif index == 0:\n",
    "                    exec_str += (\"((data['{}']{})\".format(judge[: judge.find(' ')], judge[judge.find(' '):]))\n",
    "                # 最后一个条件\n",
    "                elif index == judge_len - 1:\n",
    "                    exec_str += (\" & (data['{}']{}))\".format(judge[: judge.find(' ')], judge[judge.find(' '):]))\n",
    "                # 中间的条件\n",
    "                else:\n",
    "                    exec_str += (\" & (data['{}']{})\".format(judge[: judge.find(' ')], judge[judge.find(' '):]))\n",
    "            # 字符型的条件\n",
    "            else:\n",
    "                if '==' in judge:\n",
    "                    offset = 3\n",
    "                else:\n",
    "                    offset = 2\n",
    "                # 只有一个条件\n",
    "                if judge_len == 1:\n",
    "                    exec_str += (\"(data['{}']{}'{}')\".format(judge[: judge.find(' ')],\n",
    "                        judge[judge.find(' '): judge.find('=') + offset], judge[judge.find('=') + offset:]))\n",
    "                # 第一个条件\n",
    "                elif index == 0:\n",
    "                    exec_str += (\"((data['{}']{}'{}')\".format(judge[: judge.find(' ')],\n",
    "                        judge[judge.find(' '): judge.find('=') + offset], judge[judge.find('=') + offset:]))\n",
    "                # 最后一个条件\n",
    "                elif index == judge_len - 1:\n",
    "                    exec_str += (\" & (data['{}']{}'{}'))\".format(judge[: judge.find(' ')], \n",
    "                        judge[judge.find(' '): judge.find('=') + offset], judge[judge.find('=') + offset:]))\n",
    "                # 中间的条件\n",
    "                else:\n",
    "                    exec_str += (\" & (data['{}']{}'{}')\".format(judge[: judge.find(' ')], \n",
    "                        judge[judge.find(' '): judge.find('=') + offset], judge[judge.find('=') + offset:]))\n",
    "\n",
    "        # 将True/False替换成1/0\n",
    "        exec_str += \".astype(int)\"\n",
    "        \n",
    "        exec(exec_str)\n",
    "\n",
    "    return gbdt_feature"
   ]
  },
  {
   "cell_type": "code",
   "execution_count": 24,
   "metadata": {
    "scrolled": true
   },
   "outputs": [
    {
     "data": {
      "text/html": [
       "<div>\n",
       "<style scoped>\n",
       "    .dataframe tbody tr th:only-of-type {\n",
       "        vertical-align: middle;\n",
       "    }\n",
       "\n",
       "    .dataframe tbody tr th {\n",
       "        vertical-align: top;\n",
       "    }\n",
       "\n",
       "    .dataframe thead th {\n",
       "        text-align: right;\n",
       "    }\n",
       "</style>\n",
       "<table border=\"1\" class=\"dataframe\">\n",
       "  <thead>\n",
       "    <tr style=\"text-align: right;\">\n",
       "      <th></th>\n",
       "      <th>EXT_SOURCE_2 &lt;= 0.356838 &amp; EXT_SOURCE_3 &lt;= 0.36813 &amp; EXT_SOURCE_2 &lt;= 0.108422</th>\n",
       "      <th>EXT_SOURCE_2 &lt;= 0.356838 &amp; EXT_SOURCE_3 &lt;= 0.36813 &amp; EXT_SOURCE_2 &gt; 0.108422</th>\n",
       "      <th>EXT_SOURCE_2 &lt;= 0.356838 &amp; EXT_SOURCE_3 &gt; 0.36813 &amp; EXT_SOURCE_2 &lt;= 0.137969</th>\n",
       "      <th>EXT_SOURCE_2 &lt;= 0.356838 &amp; EXT_SOURCE_3 &gt; 0.36813 &amp; EXT_SOURCE_2 &gt; 0.137969</th>\n",
       "      <th>EXT_SOURCE_2 &gt; 0.356838 &amp; EXT_SOURCE_3 &lt;= 0.42325 &amp; EXT_SOURCE_2 &lt;= 0.597194</th>\n",
       "      <th>EXT_SOURCE_2 &gt; 0.356838 &amp; EXT_SOURCE_3 &lt;= 0.42325 &amp; EXT_SOURCE_2 &gt; 0.597194</th>\n",
       "      <th>EXT_SOURCE_2 &gt; 0.356838 &amp; EXT_SOURCE_3 &gt; 0.42325 &amp; EXT_SOURCE_2 &lt;= 0.623373</th>\n",
       "      <th>EXT_SOURCE_2 &gt; 0.356838 &amp; EXT_SOURCE_3 &gt; 0.42325 &amp; EXT_SOURCE_2 &gt; 0.623373</th>\n",
       "      <th>EXT_SOURCE_2 &lt;= 0.356838 &amp; EXT_SOURCE_3 &lt;= 0.373177 &amp; EXT_SOURCE_2 &lt;= 0.106543</th>\n",
       "      <th>EXT_SOURCE_2 &lt;= 0.356838 &amp; EXT_SOURCE_3 &lt;= 0.373177 &amp; EXT_SOURCE_2 &gt; 0.106543</th>\n",
       "      <th>...</th>\n",
       "      <th>LIVINGAPARTMENTS_AVG &lt;= 0.1507 &amp; NAME_INCOME_TYPE == State servant &amp; NONLIVINGAPARTMENTS_MODE &lt;= 0.18285</th>\n",
       "      <th>LIVINGAPARTMENTS_AVG &lt;= 0.1507 &amp; NAME_INCOME_TYPE == State servant &amp; NONLIVINGAPARTMENTS_MODE &gt; 0.18285</th>\n",
       "      <th>LIVINGAPARTMENTS_AVG &gt; 0.1507 &amp; DEF_60_CNT_SOCIAL_CIRCLE &lt;= 1.5 &amp; HOUSETYPE_MODE != terraced house</th>\n",
       "      <th>LIVINGAPARTMENTS_AVG &gt; 0.1507 &amp; DEF_60_CNT_SOCIAL_CIRCLE &lt;= 1.5 &amp; HOUSETYPE_MODE == terraced house</th>\n",
       "      <th>LIVINGAPARTMENTS_AVG &gt; 0.1507 &amp; DEF_60_CNT_SOCIAL_CIRCLE &gt; 1.5 &amp; YEARS_BUILD_MODE &lt;= 0.8138</th>\n",
       "      <th>LIVINGAPARTMENTS_AVG &gt; 0.1507 &amp; DEF_60_CNT_SOCIAL_CIRCLE &gt; 1.5 &amp; YEARS_BUILD_MODE &gt; 0.8138</th>\n",
       "      <th>EXT_SOURCE_3 &lt;= 0.015787 &amp; WEEKDAY_APPR_PROCESS_START != TUESDAY &amp; AMT_REQ_CREDIT_BUREAU_YEAR &lt;= 10.0</th>\n",
       "      <th>EXT_SOURCE_3 &lt;= 0.015787 &amp; WEEKDAY_APPR_PROCESS_START != TUESDAY &amp; AMT_REQ_CREDIT_BUREAU_YEAR &gt; 10.0</th>\n",
       "      <th>EXT_SOURCE_3 &gt; 0.015787 &amp; EXT_SOURCE_3 &lt;= 0.058627 &amp; OCCUPATION_TYPE != Core staff</th>\n",
       "      <th>EXT_SOURCE_3 &gt; 0.015787 &amp; EXT_SOURCE_3 &lt;= 0.058627 &amp; OCCUPATION_TYPE == Core staff</th>\n",
       "    </tr>\n",
       "  </thead>\n",
       "  <tbody>\n",
       "    <tr>\n",
       "      <th>53107</th>\n",
       "      <td>0</td>\n",
       "      <td>0</td>\n",
       "      <td>0</td>\n",
       "      <td>0</td>\n",
       "      <td>0</td>\n",
       "      <td>0</td>\n",
       "      <td>1</td>\n",
       "      <td>0</td>\n",
       "      <td>0</td>\n",
       "      <td>0</td>\n",
       "      <td>...</td>\n",
       "      <td>0</td>\n",
       "      <td>0</td>\n",
       "      <td>0</td>\n",
       "      <td>0</td>\n",
       "      <td>0</td>\n",
       "      <td>0</td>\n",
       "      <td>0</td>\n",
       "      <td>0</td>\n",
       "      <td>0</td>\n",
       "      <td>0</td>\n",
       "    </tr>\n",
       "    <tr>\n",
       "      <th>42038</th>\n",
       "      <td>0</td>\n",
       "      <td>0</td>\n",
       "      <td>0</td>\n",
       "      <td>0</td>\n",
       "      <td>0</td>\n",
       "      <td>0</td>\n",
       "      <td>1</td>\n",
       "      <td>0</td>\n",
       "      <td>0</td>\n",
       "      <td>0</td>\n",
       "      <td>...</td>\n",
       "      <td>0</td>\n",
       "      <td>0</td>\n",
       "      <td>0</td>\n",
       "      <td>0</td>\n",
       "      <td>0</td>\n",
       "      <td>0</td>\n",
       "      <td>0</td>\n",
       "      <td>0</td>\n",
       "      <td>0</td>\n",
       "      <td>0</td>\n",
       "    </tr>\n",
       "    <tr>\n",
       "      <th>48694</th>\n",
       "      <td>0</td>\n",
       "      <td>0</td>\n",
       "      <td>0</td>\n",
       "      <td>0</td>\n",
       "      <td>1</td>\n",
       "      <td>0</td>\n",
       "      <td>0</td>\n",
       "      <td>0</td>\n",
       "      <td>0</td>\n",
       "      <td>0</td>\n",
       "      <td>...</td>\n",
       "      <td>0</td>\n",
       "      <td>0</td>\n",
       "      <td>0</td>\n",
       "      <td>0</td>\n",
       "      <td>0</td>\n",
       "      <td>0</td>\n",
       "      <td>0</td>\n",
       "      <td>0</td>\n",
       "      <td>0</td>\n",
       "      <td>0</td>\n",
       "    </tr>\n",
       "    <tr>\n",
       "      <th>39556</th>\n",
       "      <td>0</td>\n",
       "      <td>0</td>\n",
       "      <td>0</td>\n",
       "      <td>0</td>\n",
       "      <td>0</td>\n",
       "      <td>1</td>\n",
       "      <td>0</td>\n",
       "      <td>0</td>\n",
       "      <td>0</td>\n",
       "      <td>0</td>\n",
       "      <td>...</td>\n",
       "      <td>0</td>\n",
       "      <td>0</td>\n",
       "      <td>1</td>\n",
       "      <td>0</td>\n",
       "      <td>0</td>\n",
       "      <td>0</td>\n",
       "      <td>1</td>\n",
       "      <td>0</td>\n",
       "      <td>0</td>\n",
       "      <td>0</td>\n",
       "    </tr>\n",
       "    <tr>\n",
       "      <th>25479</th>\n",
       "      <td>0</td>\n",
       "      <td>0</td>\n",
       "      <td>0</td>\n",
       "      <td>0</td>\n",
       "      <td>0</td>\n",
       "      <td>1</td>\n",
       "      <td>0</td>\n",
       "      <td>0</td>\n",
       "      <td>0</td>\n",
       "      <td>0</td>\n",
       "      <td>...</td>\n",
       "      <td>0</td>\n",
       "      <td>0</td>\n",
       "      <td>0</td>\n",
       "      <td>0</td>\n",
       "      <td>0</td>\n",
       "      <td>0</td>\n",
       "      <td>1</td>\n",
       "      <td>0</td>\n",
       "      <td>0</td>\n",
       "      <td>0</td>\n",
       "    </tr>\n",
       "  </tbody>\n",
       "</table>\n",
       "<p>5 rows × 745 columns</p>\n",
       "</div>"
      ],
      "text/plain": [
       "       EXT_SOURCE_2 <= 0.356838 & EXT_SOURCE_3 <= 0.36813 & EXT_SOURCE_2 <= 0.108422  \\\n",
       "53107                                                  0                               \n",
       "42038                                                  0                               \n",
       "48694                                                  0                               \n",
       "39556                                                  0                               \n",
       "25479                                                  0                               \n",
       "\n",
       "       EXT_SOURCE_2 <= 0.356838 & EXT_SOURCE_3 <= 0.36813 & EXT_SOURCE_2 > 0.108422  \\\n",
       "53107                                                  0                              \n",
       "42038                                                  0                              \n",
       "48694                                                  0                              \n",
       "39556                                                  0                              \n",
       "25479                                                  0                              \n",
       "\n",
       "       EXT_SOURCE_2 <= 0.356838 & EXT_SOURCE_3 > 0.36813 & EXT_SOURCE_2 <= 0.137969  \\\n",
       "53107                                                  0                              \n",
       "42038                                                  0                              \n",
       "48694                                                  0                              \n",
       "39556                                                  0                              \n",
       "25479                                                  0                              \n",
       "\n",
       "       EXT_SOURCE_2 <= 0.356838 & EXT_SOURCE_3 > 0.36813 & EXT_SOURCE_2 > 0.137969  \\\n",
       "53107                                                  0                             \n",
       "42038                                                  0                             \n",
       "48694                                                  0                             \n",
       "39556                                                  0                             \n",
       "25479                                                  0                             \n",
       "\n",
       "       EXT_SOURCE_2 > 0.356838 & EXT_SOURCE_3 <= 0.42325 & EXT_SOURCE_2 <= 0.597194  \\\n",
       "53107                                                  0                              \n",
       "42038                                                  0                              \n",
       "48694                                                  1                              \n",
       "39556                                                  0                              \n",
       "25479                                                  0                              \n",
       "\n",
       "       EXT_SOURCE_2 > 0.356838 & EXT_SOURCE_3 <= 0.42325 & EXT_SOURCE_2 > 0.597194  \\\n",
       "53107                                                  0                             \n",
       "42038                                                  0                             \n",
       "48694                                                  0                             \n",
       "39556                                                  1                             \n",
       "25479                                                  1                             \n",
       "\n",
       "       EXT_SOURCE_2 > 0.356838 & EXT_SOURCE_3 > 0.42325 & EXT_SOURCE_2 <= 0.623373  \\\n",
       "53107                                                  1                             \n",
       "42038                                                  1                             \n",
       "48694                                                  0                             \n",
       "39556                                                  0                             \n",
       "25479                                                  0                             \n",
       "\n",
       "       EXT_SOURCE_2 > 0.356838 & EXT_SOURCE_3 > 0.42325 & EXT_SOURCE_2 > 0.623373  \\\n",
       "53107                                                  0                            \n",
       "42038                                                  0                            \n",
       "48694                                                  0                            \n",
       "39556                                                  0                            \n",
       "25479                                                  0                            \n",
       "\n",
       "       EXT_SOURCE_2 <= 0.356838 & EXT_SOURCE_3 <= 0.373177 & EXT_SOURCE_2 <= 0.106543  \\\n",
       "53107                                                  0                                \n",
       "42038                                                  0                                \n",
       "48694                                                  0                                \n",
       "39556                                                  0                                \n",
       "25479                                                  0                                \n",
       "\n",
       "       EXT_SOURCE_2 <= 0.356838 & EXT_SOURCE_3 <= 0.373177 & EXT_SOURCE_2 > 0.106543  \\\n",
       "53107                                                  0                               \n",
       "42038                                                  0                               \n",
       "48694                                                  0                               \n",
       "39556                                                  0                               \n",
       "25479                                                  0                               \n",
       "\n",
       "       ...  \\\n",
       "53107  ...   \n",
       "42038  ...   \n",
       "48694  ...   \n",
       "39556  ...   \n",
       "25479  ...   \n",
       "\n",
       "       LIVINGAPARTMENTS_AVG <= 0.1507 & NAME_INCOME_TYPE == State servant & NONLIVINGAPARTMENTS_MODE <= 0.18285  \\\n",
       "53107                                                  0                                                          \n",
       "42038                                                  0                                                          \n",
       "48694                                                  0                                                          \n",
       "39556                                                  0                                                          \n",
       "25479                                                  0                                                          \n",
       "\n",
       "       LIVINGAPARTMENTS_AVG <= 0.1507 & NAME_INCOME_TYPE == State servant & NONLIVINGAPARTMENTS_MODE > 0.18285  \\\n",
       "53107                                                  0                                                         \n",
       "42038                                                  0                                                         \n",
       "48694                                                  0                                                         \n",
       "39556                                                  0                                                         \n",
       "25479                                                  0                                                         \n",
       "\n",
       "       LIVINGAPARTMENTS_AVG > 0.1507 & DEF_60_CNT_SOCIAL_CIRCLE <= 1.5 & HOUSETYPE_MODE != terraced house  \\\n",
       "53107                                                  0                                                    \n",
       "42038                                                  0                                                    \n",
       "48694                                                  0                                                    \n",
       "39556                                                  1                                                    \n",
       "25479                                                  0                                                    \n",
       "\n",
       "       LIVINGAPARTMENTS_AVG > 0.1507 & DEF_60_CNT_SOCIAL_CIRCLE <= 1.5 & HOUSETYPE_MODE == terraced house  \\\n",
       "53107                                                  0                                                    \n",
       "42038                                                  0                                                    \n",
       "48694                                                  0                                                    \n",
       "39556                                                  0                                                    \n",
       "25479                                                  0                                                    \n",
       "\n",
       "       LIVINGAPARTMENTS_AVG > 0.1507 & DEF_60_CNT_SOCIAL_CIRCLE > 1.5 & YEARS_BUILD_MODE <= 0.8138  \\\n",
       "53107                                                  0                                             \n",
       "42038                                                  0                                             \n",
       "48694                                                  0                                             \n",
       "39556                                                  0                                             \n",
       "25479                                                  0                                             \n",
       "\n",
       "       LIVINGAPARTMENTS_AVG > 0.1507 & DEF_60_CNT_SOCIAL_CIRCLE > 1.5 & YEARS_BUILD_MODE > 0.8138  \\\n",
       "53107                                                  0                                            \n",
       "42038                                                  0                                            \n",
       "48694                                                  0                                            \n",
       "39556                                                  0                                            \n",
       "25479                                                  0                                            \n",
       "\n",
       "       EXT_SOURCE_3 <= 0.015787 & WEEKDAY_APPR_PROCESS_START != TUESDAY & AMT_REQ_CREDIT_BUREAU_YEAR <= 10.0  \\\n",
       "53107                                                  0                                                       \n",
       "42038                                                  0                                                       \n",
       "48694                                                  0                                                       \n",
       "39556                                                  1                                                       \n",
       "25479                                                  1                                                       \n",
       "\n",
       "       EXT_SOURCE_3 <= 0.015787 & WEEKDAY_APPR_PROCESS_START != TUESDAY & AMT_REQ_CREDIT_BUREAU_YEAR > 10.0  \\\n",
       "53107                                                  0                                                      \n",
       "42038                                                  0                                                      \n",
       "48694                                                  0                                                      \n",
       "39556                                                  0                                                      \n",
       "25479                                                  0                                                      \n",
       "\n",
       "       EXT_SOURCE_3 > 0.015787 & EXT_SOURCE_3 <= 0.058627 & OCCUPATION_TYPE != Core staff  \\\n",
       "53107                                                  0                                    \n",
       "42038                                                  0                                    \n",
       "48694                                                  0                                    \n",
       "39556                                                  0                                    \n",
       "25479                                                  0                                    \n",
       "\n",
       "       EXT_SOURCE_3 > 0.015787 & EXT_SOURCE_3 <= 0.058627 & OCCUPATION_TYPE == Core staff  \n",
       "53107                                                  0                                   \n",
       "42038                                                  0                                   \n",
       "48694                                                  0                                   \n",
       "39556                                                  0                                   \n",
       "25479                                                  0                                   \n",
       "\n",
       "[5 rows x 745 columns]"
      ]
     },
     "execution_count": 24,
     "metadata": {},
     "output_type": "execute_result"
    }
   ],
   "source": [
    "# 由于类别型的判断转换成了one-hot编码前的判断，可以用未经过one-hot编码的原数据集\n",
    "train_gbdt_feature2 = get_gbdt_feature(X_train, gbdt_path)\n",
    "train_gbdt_feature2.head()"
   ]
  },
  {
   "cell_type": "code",
   "execution_count": 17,
   "metadata": {},
   "outputs": [
    {
     "name": "stdout",
     "output_type": "stream",
     "text": [
      "模型的apply函数提取的GBDT特征维度 (43051, 773)\n",
      "解析树结构提取的GBDT特征维度 (43051, 745)\n"
     ]
    }
   ],
   "source": [
    "print('模型的apply函数提取的GBDT特征维度', train_gbdt_feature1.shape)\n",
    "print('解析树结构提取的GBDT特征维度', train_gbdt_feature2.shape)"
   ]
  },
  {
   "cell_type": "code",
   "execution_count": 18,
   "metadata": {},
   "outputs": [
    {
     "name": "stdout",
     "output_type": "stream",
     "text": [
      "训练集：\n",
      "模型的apply函数提取的GBDT特征维度： (43051, 773)\n",
      "解析树结构提取的GBDT特征维度： (43051, 773)\n",
      "两个GBDT特征的所有值是否完全相等： True\n",
      "测试集：\n",
      "模型的apply函数提取的GBDT特征维度： (18451, 773)\n",
      "解析树结构提取的GBDT特征维度： (18451, 773)\n",
      "两个GBDT特征的所有值是否完全相等： False\n"
     ]
    }
   ],
   "source": [
    "train_gbdt_feature3 = get_gbdt_feature(X_train, gbdt_path, cols_name=0)\n",
    "test_gbdt_feature3 = get_gbdt_feature(X_test, gbdt_path, cols_name=0)\n",
    "\n",
    "print('训练集：')\n",
    "print('模型的apply函数提取的GBDT特征维度：', train_gbdt_feature1.shape)\n",
    "print('解析树结构提取的GBDT特征维度：', train_gbdt_feature3.shape)\n",
    "print('两个GBDT特征的所有值是否完全相等：', (train_gbdt_feature1 == np.array(train_gbdt_feature3)).all())\n",
    "\n",
    "print('测试集：')\n",
    "print('模型的apply函数提取的GBDT特征维度：', test_gbdt_feature1.shape)\n",
    "print('解析树结构提取的GBDT特征维度：', test_gbdt_feature3.shape)\n",
    "print('两个GBDT特征的所有值是否完全相等：', (test_gbdt_feature1 == np.array(test_gbdt_feature3)).all())"
   ]
  },
  {
   "cell_type": "code",
   "execution_count": 19,
   "metadata": {},
   "outputs": [
    {
     "data": {
      "text/html": [
       "<div>\n",
       "<style scoped>\n",
       "    .dataframe tbody tr th:only-of-type {\n",
       "        vertical-align: middle;\n",
       "    }\n",
       "\n",
       "    .dataframe tbody tr th {\n",
       "        vertical-align: top;\n",
       "    }\n",
       "\n",
       "    .dataframe thead th {\n",
       "        text-align: right;\n",
       "    }\n",
       "</style>\n",
       "<table border=\"1\" class=\"dataframe\">\n",
       "  <thead>\n",
       "    <tr style=\"text-align: right;\">\n",
       "      <th></th>\n",
       "      <th>45</th>\n",
       "      <th>46</th>\n",
       "    </tr>\n",
       "  </thead>\n",
       "  <tbody>\n",
       "    <tr>\n",
       "      <th>57072</th>\n",
       "      <td>0</td>\n",
       "      <td>1</td>\n",
       "    </tr>\n",
       "  </tbody>\n",
       "</table>\n",
       "</div>"
      ],
      "text/plain": [
       "       45  46\n",
       "57072   0   1"
      ]
     },
     "execution_count": 19,
     "metadata": {},
     "output_type": "execute_result"
    }
   ],
   "source": [
    "test_gbdt_feature3.iloc[(test_gbdt_feature1 != np.array(test_gbdt_feature3)).sum(axis=1).astype(bool),\n",
    "                        (test_gbdt_feature1 != np.array(test_gbdt_feature3)).sum(axis=0).astype(bool)]"
   ]
  },
  {
   "cell_type": "code",
   "execution_count": 20,
   "metadata": {},
   "outputs": [
    {
     "data": {
      "text/plain": [
       "array([1., 0.])"
      ]
     },
     "execution_count": 20,
     "metadata": {},
     "output_type": "execute_result"
    }
   ],
   "source": [
    "test_gbdt_feature1[(test_gbdt_feature1 != np.array(test_gbdt_feature3)).sum(axis=1).astype(bool), \n",
    "                   (test_gbdt_feature1 != np.array(test_gbdt_feature3)).sum(axis=0).astype(bool)]"
   ]
  },
  {
   "cell_type": "code",
   "execution_count": 21,
   "metadata": {},
   "outputs": [
    {
     "data": {
      "text/plain": [
       "'EXT_SOURCE_2 > 0.247911 & EXT_SOURCE_3 <= 0.425012 & EXT_SOURCE_2 <= 0.591941'"
      ]
     },
     "execution_count": 21,
     "metadata": {},
     "output_type": "execute_result"
    }
   ],
   "source": [
    "gbdt_path[45]"
   ]
  },
  {
   "cell_type": "code",
   "execution_count": 22,
   "metadata": {},
   "outputs": [
    {
     "data": {
      "text/plain": [
       "'EXT_SOURCE_2 > 0.247911 & EXT_SOURCE_3 <= 0.425012 & EXT_SOURCE_2 > 0.591941'"
      ]
     },
     "execution_count": 22,
     "metadata": {},
     "output_type": "execute_result"
    }
   ],
   "source": [
    "gbdt_path[46]"
   ]
  },
  {
   "cell_type": "code",
   "execution_count": 23,
   "metadata": {},
   "outputs": [
    {
     "data": {
      "text/plain": [
       "0.5919414304289855"
      ]
     },
     "execution_count": 23,
     "metadata": {},
     "output_type": "execute_result"
    }
   ],
   "source": [
    "X_test.loc[57072, 'EXT_SOURCE_2']"
   ]
  },
  {
   "cell_type": "code",
   "execution_count": 24,
   "metadata": {},
   "outputs": [
    {
     "name": "stdout",
     "output_type": "stream",
     "text": [
      "测试集：\n",
      "模型的apply函数提取的GBDT特征维度： (18451, 773)\n",
      "解析树结构提取的GBDT特征维度： (18451, 773)\n",
      "两个GBDT特征的所有值是否完全相等： True\n"
     ]
    }
   ],
   "source": [
    "gbdt_path4 = get_gbdt_path(model, data_cols, char_cols, precision=8)\n",
    "\n",
    "test_gbdt_feature4 = get_gbdt_feature(X_test, gbdt_path4, cols_name=0)\n",
    "\n",
    "print('测试集：')\n",
    "print('模型的apply函数提取的GBDT特征维度：', test_gbdt_feature1.shape)\n",
    "print('解析树结构提取的GBDT特征维度：', test_gbdt_feature4.shape)\n",
    "print('两个GBDT特征的所有值是否完全相等：', (test_gbdt_feature1 == np.array(test_gbdt_feature4)).all())"
   ]
  },
  {
   "cell_type": "markdown",
   "metadata": {},
   "source": [
    "## GBDT特征应用"
   ]
  },
  {
   "cell_type": "code",
   "execution_count": 25,
   "metadata": {},
   "outputs": [
    {
     "name": "stdout",
     "output_type": "stream",
     "text": [
      "总样本目标为 1 的样本占比为: 8.06%\n",
      "\n",
      "根据目标占比,提取目标占比前 5 的规则,具体规则如下:\n",
      ">> 规则 1： 覆盖率 10.30%  目标占比 20.96%\n",
      "   EXT_SOURCE_2 <= 0.3568377 & EXT_SOURCE_3 <= 0.36812986\n",
      "\n",
      ">> 规则 2： 覆盖率 11.61%  目标占比 20.22%\n",
      "   EXT_SOURCE_3 <= 0.39019689 & EXT_SOURCE_2 <= 0.37501432\n",
      "\n",
      ">> 规则 3： 覆盖率 10.05%  目标占比 19.89%\n",
      "   EXT_SOURCE_1 <= 0.42324439 & DAYS_BIRTH > -19935.5 & EXT_SOURCE_2 <= 0.28651884\n",
      "\n",
      ">> 规则 4： 覆盖率 12.61%  目标占比 19.43%\n",
      "   EXT_SOURCE_2 <= 0.48394567 & EXT_SOURCE_3 <= 0.26575312\n",
      "\n",
      ">> 规则 5： 覆盖率 10.85%  目标占比 19.36%\n",
      "   EXT_SOURCE_3 <= 0.26434812 & EXT_SOURCE_3 > -0.49973637\n",
      "\n"
     ]
    }
   ],
   "source": [
    "# 每条规则的最多使用3个特征，每条规则最少覆盖10%的样本，并且生成的规则个数不超过400个\n",
    "model_rule = GradientBoostingClassifier(max_depth=3, min_samples_leaf=0.1, n_estimators=50, random_state=1234)\n",
    "model_rule.fit(X_train_new, y_train)\n",
    "\n",
    "gbdt_rule = get_gbdt_path(model_rule, data_cols, char_cols, precision=8)\n",
    "\n",
    "train_gbdt_rule = get_gbdt_feature(X_train, gbdt_rule)\n",
    "\n",
    "rule_df = pd.DataFrame(columns=['rule', 'cover', 'target'], index=range(train_gbdt_rule.shape[1]))\n",
    "rule_df['rule'] = train_gbdt_rule.columns\n",
    "data_count = len(y_train)\n",
    "rule_df['cover'] = [round((train_gbdt_rule[rule] == 1).sum() / data_count, 4)\n",
    "                    for rule in train_gbdt_rule.columns]\n",
    "rule_df['target'] = [round(y_train[train_gbdt_rule[rule] == 1].sum() / (train_gbdt_rule[rule] == 1).sum(), 4)\n",
    "                     for rule in train_gbdt_rule.columns]\n",
    "\n",
    "rule_df = rule_df.sort_values('target', ascending=False)\n",
    "rule_df.index = range(rule_df.shape[0])\n",
    "\n",
    "print('总样本目标为 1 的样本占比为: {:.2f}%\\n'.format(100 * y_train.sum() / data_count))\n",
    "print('根据目标占比,提取目标占比前 5 的规则,具体规则如下:')\n",
    "for index in range(5):\n",
    "    print('>> 规则 {}： 覆盖率 {:.2f}%  目标占比 {:.2f}%'.format(index + 1, 100 * rule_df.loc[index, 'cover'], 100 * rule_df.loc[index, 'target']))\n",
    "    print('   {}\\n'.format(rule_df.loc[index, 'rule']))"
   ]
  },
  {
   "cell_type": "code",
   "execution_count": null,
   "metadata": {},
   "outputs": [],
   "source": []
  },
  {
   "cell_type": "code",
   "execution_count": null,
   "metadata": {},
   "outputs": [],
   "source": []
  }
 ],
 "metadata": {
  "kernelspec": {
   "display_name": "Python 3",
   "language": "python",
   "name": "python3"
  },
  "language_info": {
   "codemirror_mode": {
    "name": "ipython",
    "version": 3
   },
   "file_extension": ".py",
   "mimetype": "text/x-python",
   "name": "python",
   "nbconvert_exporter": "python",
   "pygments_lexer": "ipython3",
   "version": "3.7.6"
  }
 },
 "nbformat": 4,
 "nbformat_minor": 2
}
