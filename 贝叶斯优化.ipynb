{
 "cells": [
  {
   "cell_type": "code",
   "execution_count": 1,
   "id": "e06cf0aa",
   "metadata": {},
   "outputs": [],
   "source": [
    "from skopt import BayesSearchCV\n",
    "from sklearn.datasets import load_digits\n",
    "from sklearn.svm import SVC\n",
    "from sklearn.model_selection import train_test_split"
   ]
  },
  {
   "cell_type": "code",
   "execution_count": 2,
   "id": "147f3335",
   "metadata": {},
   "outputs": [],
   "source": [
    "import xgboost as xgb\n",
    "from xgboost.sklearn import XGBClassifier\n",
    "import lightgbm as lgb"
   ]
  },
  {
   "cell_type": "code",
   "execution_count": 3,
   "id": "69cbc950",
   "metadata": {},
   "outputs": [],
   "source": [
    "from sklearn.datasets import make_classification\n",
    "from sklearn.ensemble import RandomForestClassifier\n",
    "from sklearn.model_selection import cross_val_score\n",
    "from bayes_opt import BayesianOptimization\n",
    "import numpy as np\n",
    "# 产生随机分类数据集，10个特征， 2个类别\n",
    "x, y = make_classification(n_samples=1000,n_features=10,n_classes=2)"
   ]
  },
  {
   "cell_type": "code",
   "execution_count": 4,
   "id": "fe9dcd64",
   "metadata": {},
   "outputs": [],
   "source": [
    "from sklearn.model_selection import train_test_split\n",
    "from skopt import BayesSearchCV\n",
    "from skopt.space import Real, Categorical, Integer"
   ]
  },
  {
   "cell_type": "markdown",
   "id": "b34919b9",
   "metadata": {},
   "source": [
    "### 方法1"
   ]
  },
  {
   "cell_type": "code",
   "execution_count": 5,
   "id": "9e72bcb6",
   "metadata": {},
   "outputs": [],
   "source": [
    "model_lgb = lgb.LGBMClassifier(\n",
    "            learning_rate=0.008,   # 学习率\n",
    "            n_estimators=10000,    # 树的个数\n",
    "            max_depth=3,         # 树的最大深度\n",
    "            num_leaves=31,        # 叶子节点个数 'leaf-wise'\n",
    "            min_split_gain=0.0,     # 节点分裂所需的最小损失函数下降值\n",
    "            objective='cross_entropy', # 多分类\n",
    "            metric='auc',  # 评价函数\n",
    "            #num_class=2,          # 多分类问题类别数\n",
    "            subsample=0.6,        # 样本随机采样作为训练集的比例\n",
    "            colsample_bytree=0.6, # 使用特征比例\n",
    "            seed=1)"
   ]
  },
  {
   "cell_type": "code",
   "execution_count": 8,
   "id": "bb4aba54",
   "metadata": {},
   "outputs": [],
   "source": [
    "# lightgbm scikit-optimize\n",
    "def lgb_auto_para_tuning_bayesian(model_lgb,X,Y):\n",
    "    train_x, test_x, train_y, test_y = train_test_split(x, y, train_size=0.75, random_state=0)\n",
    "    # cv：交叉验证 n_points：并行采样的超参组数\n",
    "    opt = BayesSearchCV(model_lgb,cv=3,n_points=2,n_jobs=4,verbose=1,\n",
    "        search_spaces={\n",
    "            'learning_rate': Real(0.008, 0.01),\n",
    "            'max_depth': Integer(3, 11),\n",
    "            'num_leaves': Integer(31, 127),\n",
    "            'min_split_gain':Real(0.0,0.4),\n",
    "            'min_child_weight':Real(0.001,0.002),\n",
    "            'min_child_samples':Integer(18,22),\n",
    "            'subsample':Real(0.6,1.0),\n",
    "            'subsample_freq':Integer(3,5),\n",
    "            'colsample_bytree':Real(0.6,1.0),\n",
    "            'reg_alpha':Real(0,0.5),\n",
    "            'reg_lambda':Real(0,0.5)\n",
    "        },\n",
    "         fit_params={\n",
    "                 'eval_set':[(test_x, test_y)],\n",
    "                 'eval_metric': 'auc',\n",
    "                 'early_stopping_rounds': 50\n",
    "                 })\n",
    "    opt.fit(train_x,train_y)\n",
    "    print(\"val. score: %s\" % opt.best_score_)\n",
    "    print(\"test score: %s\" % opt.score(test_x, test_y))\n",
    "    print(\"Best parameters: \", opt.best_params_)"
   ]
  },
  {
   "cell_type": "markdown",
   "id": "98b06086",
   "metadata": {},
   "source": [
    "### 产出训练集与测试级结果"
   ]
  },
  {
   "cell_type": "code",
   "execution_count": 9,
   "id": "4e5c1873",
   "metadata": {},
   "outputs": [
    {
     "name": "stdout",
     "output_type": "stream",
     "text": [
      "Fitting 3 folds for each of 2 candidates, totalling 6 fits\n",
      "Fitting 3 folds for each of 2 candidates, totalling 6 fits\n",
      "Fitting 3 folds for each of 2 candidates, totalling 6 fits\n",
      "Fitting 3 folds for each of 2 candidates, totalling 6 fits\n",
      "Fitting 3 folds for each of 2 candidates, totalling 6 fits\n",
      "Fitting 3 folds for each of 2 candidates, totalling 6 fits\n",
      "Fitting 3 folds for each of 2 candidates, totalling 6 fits\n",
      "Fitting 3 folds for each of 2 candidates, totalling 6 fits\n",
      "Fitting 3 folds for each of 2 candidates, totalling 6 fits\n",
      "Fitting 3 folds for each of 2 candidates, totalling 6 fits\n",
      "Fitting 3 folds for each of 2 candidates, totalling 6 fits\n",
      "Fitting 3 folds for each of 2 candidates, totalling 6 fits\n",
      "Fitting 3 folds for each of 2 candidates, totalling 6 fits\n",
      "Fitting 3 folds for each of 2 candidates, totalling 6 fits\n",
      "Fitting 3 folds for each of 2 candidates, totalling 6 fits\n",
      "Fitting 3 folds for each of 2 candidates, totalling 6 fits\n",
      "Fitting 3 folds for each of 2 candidates, totalling 6 fits\n",
      "Fitting 3 folds for each of 2 candidates, totalling 6 fits\n",
      "Fitting 3 folds for each of 2 candidates, totalling 6 fits\n",
      "Fitting 3 folds for each of 2 candidates, totalling 6 fits\n",
      "Fitting 3 folds for each of 2 candidates, totalling 6 fits\n",
      "Fitting 3 folds for each of 2 candidates, totalling 6 fits\n",
      "Fitting 3 folds for each of 2 candidates, totalling 6 fits\n",
      "Fitting 3 folds for each of 2 candidates, totalling 6 fits\n"
     ]
    },
    {
     "name": "stderr",
     "output_type": "stream",
     "text": [
      "C:\\ProgramData\\Anaconda3\\lib\\site-packages\\skopt\\optimizer\\optimizer.py:449: UserWarning: The objective has been evaluated at this point before.\n",
      "  warnings.warn(\"The objective has been evaluated \"\n"
     ]
    },
    {
     "name": "stdout",
     "output_type": "stream",
     "text": [
      "Fitting 3 folds for each of 2 candidates, totalling 6 fits\n",
      "val. score: 0.8333333333333334\n",
      "test score: 0.896\n",
      "Best parameters:  OrderedDict([('colsample_bytree', 0.7799680537921099), ('learning_rate', 0.009661432675686504), ('max_depth', 11), ('min_child_samples', 19), ('min_child_weight', 0.001891216953247175), ('min_split_gain', 0.4), ('num_leaves', 127), ('reg_alpha', 0.03155422222046529), ('reg_lambda', 0.0), ('subsample', 1.0), ('subsample_freq', 5)])\n"
     ]
    }
   ],
   "source": [
    "lgb_auto_para_tuning_bayesian(model_lgb,x,y\n",
    "                            )"
   ]
  },
  {
   "cell_type": "markdown",
   "id": "cfe458c3",
   "metadata": {},
   "source": [
    "### 测试集得分 0.896"
   ]
  },
  {
   "cell_type": "markdown",
   "id": "b23cecaf",
   "metadata": {},
   "source": [
    "### 最佳参数\n",
    "Best parameters:  OrderedDict([('colsample_bytree', 0.7799680537921099), ('learning_rate', 0.009661432675686504), ('max_depth', 11), ('min_child_samples', 19), ('min_child_weight', 0.001891216953247175), ('min_split_gain', 0.4), ('num_leaves', 127), ('reg_alpha', 0.03155422222046529), ('reg_lambda', 0.0), ('subsample', 1.0), ('subsample_freq', 5)])"
   ]
  },
  {
   "cell_type": "code",
   "execution_count": null,
   "id": "8943ec29",
   "metadata": {},
   "outputs": [],
   "source": []
  },
  {
   "cell_type": "markdown",
   "id": "b7cb90c0",
   "metadata": {},
   "source": [
    "### 方法2"
   ]
  },
  {
   "cell_type": "code",
   "execution_count": null,
   "id": "0d5a4eae",
   "metadata": {},
   "outputs": [],
   "source": []
  },
  {
   "cell_type": "code",
   "execution_count": 11,
   "id": "922b0d13",
   "metadata": {},
   "outputs": [],
   "source": [
    "# 产生随机分类数据集，10个特征， 2个类别\n",
    "#x, y = make_classification(n_samples=1000,n_features=10,n_classes=2)\n",
    "train_x, test_x, train_y, test_y = train_test_split(x, y, train_size=0.75, random_state=0)"
   ]
  },
  {
   "cell_type": "code",
   "execution_count": 12,
   "id": "eed7479a",
   "metadata": {
    "scrolled": true
   },
   "outputs": [
    {
     "name": "stdout",
     "output_type": "stream",
     "text": [
      "0.928281779008926\n"
     ]
    }
   ],
   "source": [
    "from sklearn.datasets import make_classification\n",
    "from sklearn.ensemble import RandomForestClassifier\n",
    "from sklearn.model_selection import cross_val_score\n",
    "from bayes_opt import BayesianOptimization\n",
    "import numpy as np\n",
    "\n",
    "rf = RandomForestClassifier()\n",
    "print(np.mean(cross_val_score(rf, train_x, train_y, cv=20, scoring='roc_auc')))\n",
    "\n",
    "\n"
   ]
  },
  {
   "cell_type": "markdown",
   "id": "74a38f62",
   "metadata": {},
   "source": [
    "## 运用贝叶斯寻找4个参数的最优值"
   ]
  },
  {
   "cell_type": "code",
   "execution_count": 20,
   "id": "2f9d214c",
   "metadata": {},
   "outputs": [
    {
     "name": "stdout",
     "output_type": "stream",
     "text": [
      "|   iter    |  target   | max_depth | max_fe... | min_sa... | n_esti... |\n",
      "-------------------------------------------------------------------------\n",
      "| \u001b[0m 1       \u001b[0m | \u001b[0m 0.9192  \u001b[0m | \u001b[0m 10.76   \u001b[0m | \u001b[0m 0.8269  \u001b[0m | \u001b[0m 16.34   \u001b[0m | \u001b[0m 104.5   \u001b[0m |\n",
      "| \u001b[0m 2       \u001b[0m | \u001b[0m 0.9175  \u001b[0m | \u001b[0m 7.593   \u001b[0m | \u001b[0m 0.9844  \u001b[0m | \u001b[0m 23.98   \u001b[0m | \u001b[0m 202.6   \u001b[0m |\n",
      "| \u001b[0m 3       \u001b[0m | \u001b[0m 0.9175  \u001b[0m | \u001b[0m 7.106   \u001b[0m | \u001b[0m 0.9792  \u001b[0m | \u001b[0m 14.86   \u001b[0m | \u001b[0m 129.6   \u001b[0m |\n",
      "| \u001b[0m 4       \u001b[0m | \u001b[0m 0.9032  \u001b[0m | \u001b[0m 10.19   \u001b[0m | \u001b[0m 0.1173  \u001b[0m | \u001b[0m 15.75   \u001b[0m | \u001b[0m 153.5   \u001b[0m |\n",
      "| \u001b[0m 5       \u001b[0m | \u001b[0m 0.9171  \u001b[0m | \u001b[0m 14.05   \u001b[0m | \u001b[0m 0.6315  \u001b[0m | \u001b[0m 11.11   \u001b[0m | \u001b[0m 36.45   \u001b[0m |\n",
      "| \u001b[95m 6       \u001b[0m | \u001b[95m 0.921   \u001b[0m | \u001b[95m 10.05   \u001b[0m | \u001b[95m 0.6445  \u001b[0m | \u001b[95m 15.06   \u001b[0m | \u001b[95m 104.8   \u001b[0m |\n",
      "| \u001b[0m 7       \u001b[0m | \u001b[0m 0.9007  \u001b[0m | \u001b[0m 7.82    \u001b[0m | \u001b[0m 0.1188  \u001b[0m | \u001b[0m 7.908   \u001b[0m | \u001b[0m 107.7   \u001b[0m |\n",
      "| \u001b[0m 8       \u001b[0m | \u001b[0m 0.9067  \u001b[0m | \u001b[0m 5.981   \u001b[0m | \u001b[0m 0.2713  \u001b[0m | \u001b[0m 16.53   \u001b[0m | \u001b[0m 104.8   \u001b[0m |\n",
      "| \u001b[0m 9       \u001b[0m | \u001b[0m 0.915   \u001b[0m | \u001b[0m 12.67   \u001b[0m | \u001b[0m 0.3732  \u001b[0m | \u001b[0m 13.76   \u001b[0m | \u001b[0m 105.0   \u001b[0m |\n",
      "| \u001b[0m 10      \u001b[0m | \u001b[0m 0.9201  \u001b[0m | \u001b[0m 9.731   \u001b[0m | \u001b[0m 0.7533  \u001b[0m | \u001b[0m 13.86   \u001b[0m | \u001b[0m 102.5   \u001b[0m |\n",
      "| \u001b[0m 11      \u001b[0m | \u001b[0m 0.9126  \u001b[0m | \u001b[0m 11.4    \u001b[0m | \u001b[0m 0.2229  \u001b[0m | \u001b[0m 15.22   \u001b[0m | \u001b[0m 98.64   \u001b[0m |\n",
      "| \u001b[0m 12      \u001b[0m | \u001b[0m 0.919   \u001b[0m | \u001b[0m 7.113   \u001b[0m | \u001b[0m 0.7159  \u001b[0m | \u001b[0m 23.53   \u001b[0m | \u001b[0m 207.1   \u001b[0m |\n",
      "| \u001b[0m 13      \u001b[0m | \u001b[0m 0.9189  \u001b[0m | \u001b[0m 7.544   \u001b[0m | \u001b[0m 0.7003  \u001b[0m | \u001b[0m 19.82   \u001b[0m | \u001b[0m 205.2   \u001b[0m |\n",
      "| \u001b[0m 14      \u001b[0m | \u001b[0m 0.9179  \u001b[0m | \u001b[0m 11.02   \u001b[0m | \u001b[0m 0.8609  \u001b[0m | \u001b[0m 22.48   \u001b[0m | \u001b[0m 206.2   \u001b[0m |\n",
      "| \u001b[0m 15      \u001b[0m | \u001b[0m 0.9173  \u001b[0m | \u001b[0m 8.097   \u001b[0m | \u001b[0m 0.999   \u001b[0m | \u001b[0m 19.75   \u001b[0m | \u001b[0m 210.0   \u001b[0m |\n",
      "| \u001b[0m 16      \u001b[0m | \u001b[0m 0.918   \u001b[0m | \u001b[0m 11.22   \u001b[0m | \u001b[0m 0.9431  \u001b[0m | \u001b[0m 16.7    \u001b[0m | \u001b[0m 206.4   \u001b[0m |\n",
      "| \u001b[0m 17      \u001b[0m | \u001b[0m 0.9176  \u001b[0m | \u001b[0m 11.02   \u001b[0m | \u001b[0m 0.911   \u001b[0m | \u001b[0m 18.42   \u001b[0m | \u001b[0m 200.9   \u001b[0m |\n",
      "| \u001b[0m 18      \u001b[0m | \u001b[0m 0.9112  \u001b[0m | \u001b[0m 6.358   \u001b[0m | \u001b[0m 0.2255  \u001b[0m | \u001b[0m 15.05   \u001b[0m | \u001b[0m 201.9   \u001b[0m |\n",
      "| \u001b[0m 19      \u001b[0m | \u001b[0m 0.9187  \u001b[0m | \u001b[0m 14.61   \u001b[0m | \u001b[0m 0.8019  \u001b[0m | \u001b[0m 19.0    \u001b[0m | \u001b[0m 203.3   \u001b[0m |\n",
      "| \u001b[0m 20      \u001b[0m | \u001b[0m 0.9161  \u001b[0m | \u001b[0m 13.54   \u001b[0m | \u001b[0m 0.3577  \u001b[0m | \u001b[0m 23.37   \u001b[0m | \u001b[0m 201.1   \u001b[0m |\n",
      "| \u001b[0m 21      \u001b[0m | \u001b[0m 0.901   \u001b[0m | \u001b[0m 14.51   \u001b[0m | \u001b[0m 0.192   \u001b[0m | \u001b[0m 19.27   \u001b[0m | \u001b[0m 208.2   \u001b[0m |\n",
      "| \u001b[0m 22      \u001b[0m | \u001b[0m 0.9185  \u001b[0m | \u001b[0m 10.29   \u001b[0m | \u001b[0m 0.73    \u001b[0m | \u001b[0m 20.51   \u001b[0m | \u001b[0m 204.0   \u001b[0m |\n",
      "| \u001b[0m 23      \u001b[0m | \u001b[0m 0.9015  \u001b[0m | \u001b[0m 13.43   \u001b[0m | \u001b[0m 0.1155  \u001b[0m | \u001b[0m 15.46   \u001b[0m | \u001b[0m 202.6   \u001b[0m |\n",
      "| \u001b[0m 24      \u001b[0m | \u001b[0m 0.9182  \u001b[0m | \u001b[0m 8.647   \u001b[0m | \u001b[0m 0.8893  \u001b[0m | \u001b[0m 20.73   \u001b[0m | \u001b[0m 201.0   \u001b[0m |\n",
      "| \u001b[0m 25      \u001b[0m | \u001b[0m 0.9176  \u001b[0m | \u001b[0m 8.224   \u001b[0m | \u001b[0m 0.999   \u001b[0m | \u001b[0m 17.28   \u001b[0m | \u001b[0m 207.3   \u001b[0m |\n",
      "| \u001b[0m 26      \u001b[0m | \u001b[0m 0.917   \u001b[0m | \u001b[0m 9.089   \u001b[0m | \u001b[0m 0.9605  \u001b[0m | \u001b[0m 24.02   \u001b[0m | \u001b[0m 209.2   \u001b[0m |\n",
      "| \u001b[0m 27      \u001b[0m | \u001b[0m 0.9179  \u001b[0m | \u001b[0m 5.43    \u001b[0m | \u001b[0m 0.952   \u001b[0m | \u001b[0m 20.97   \u001b[0m | \u001b[0m 207.2   \u001b[0m |\n",
      "| \u001b[0m 28      \u001b[0m | \u001b[0m 0.9007  \u001b[0m | \u001b[0m 10.53   \u001b[0m | \u001b[0m 0.1877  \u001b[0m | \u001b[0m 20.82   \u001b[0m | \u001b[0m 197.7   \u001b[0m |\n",
      "| \u001b[0m 29      \u001b[0m | \u001b[0m 0.9181  \u001b[0m | \u001b[0m 8.723   \u001b[0m | \u001b[0m 0.8712  \u001b[0m | \u001b[0m 21.24   \u001b[0m | \u001b[0m 207.1   \u001b[0m |\n",
      "| \u001b[0m 30      \u001b[0m | \u001b[0m 0.9144  \u001b[0m | \u001b[0m 5.609   \u001b[0m | \u001b[0m 0.3907  \u001b[0m | \u001b[0m 22.02   \u001b[0m | \u001b[0m 202.8   \u001b[0m |\n",
      "=========================================================================\n"
     ]
    }
   ],
   "source": [
    "def rf_cv(n_estimators, min_samples_split, max_features, max_depth):\n",
    "    val = cross_val_score(\n",
    "        RandomForestClassifier(n_estimators=int(n_estimators),\n",
    "            min_samples_split=int(min_samples_split),\n",
    "            max_features=min(max_features, 0.999), # float\n",
    "            max_depth=int(max_depth),\n",
    "            random_state=2\n",
    "        ),\n",
    "        train_x, train_y, scoring='roc_auc', cv=5\n",
    "    ).mean()\n",
    "    return val\n",
    "\n",
    "rf_bo = BayesianOptimization(\n",
    "        rf_cv,\n",
    "        {'n_estimators': (10, 250),\n",
    "        'min_samples_split': (2, 25),\n",
    "        'max_features': (0.1, 0.999),\n",
    "        'max_depth': (5, 15)}\n",
    "    )\n",
    "\n",
    "rf_bo.maximize()"
   ]
  },
  {
   "cell_type": "markdown",
   "id": "7fc1d1fe",
   "metadata": {},
   "source": [
    "### 最优结果对应的参数"
   ]
  },
  {
   "cell_type": "code",
   "execution_count": 21,
   "id": "0b2b7f1b",
   "metadata": {
    "scrolled": true
   },
   "outputs": [
    {
     "data": {
      "text/plain": [
       "{'target': 0.9210210589536905,\n",
       " 'params': {'max_depth': 10.04601563059487,\n",
       "  'max_features': 0.6445073144692921,\n",
       "  'min_samples_split': 15.06326947843053,\n",
       "  'n_estimators': 104.80329098764881}}"
      ]
     },
     "execution_count": 21,
     "metadata": {},
     "output_type": "execute_result"
    }
   ],
   "source": [
    "rf_bo.max"
   ]
  },
  {
   "cell_type": "markdown",
   "id": "57f23d76",
   "metadata": {},
   "source": [
    "### 重新将参数带入模型"
   ]
  },
  {
   "cell_type": "code",
   "execution_count": 24,
   "id": "0ee8465f",
   "metadata": {},
   "outputs": [],
   "source": [
    "clf_new=RandomForestClassifier(n_estimators=int(104.80329098764881),\n",
    "            min_samples_split=int(15.06326947843053),\n",
    "            max_features=min(0.6445073144692921, 0.999), # float\n",
    "            max_depth=int(10.04601563059487),\n",
    "            random_state=2)"
   ]
  },
  {
   "cell_type": "markdown",
   "id": "889cd576",
   "metadata": {},
   "source": [
    "### 训练数据"
   ]
  },
  {
   "cell_type": "code",
   "execution_count": 28,
   "id": "09715be0",
   "metadata": {
    "scrolled": true
   },
   "outputs": [
    {
     "data": {
      "text/plain": [
       "RandomForestClassifier(max_depth=10, max_features=0.6445073144692921,\n",
       "                       min_samples_split=15, n_estimators=104, random_state=2)"
      ]
     },
     "execution_count": 28,
     "metadata": {},
     "output_type": "execute_result"
    }
   ],
   "source": [
    "clf_new.fit(train_x, train_y)"
   ]
  },
  {
   "cell_type": "code",
   "execution_count": null,
   "id": "26306762",
   "metadata": {},
   "outputs": [],
   "source": []
  },
  {
   "cell_type": "markdown",
   "id": "aad9cfbb",
   "metadata": {},
   "source": [
    "### 用测试集计算auc"
   ]
  },
  {
   "cell_type": "code",
   "execution_count": 30,
   "id": "2afdaf54",
   "metadata": {
    "scrolled": true
   },
   "outputs": [],
   "source": [
    "pred=clf_new.predict(test_x)"
   ]
  },
  {
   "cell_type": "code",
   "execution_count": 31,
   "id": "4cd919a5",
   "metadata": {
    "scrolled": true
   },
   "outputs": [
    {
     "data": {
      "text/plain": [
       "0.8897435897435898"
      ]
     },
     "execution_count": 31,
     "metadata": {},
     "output_type": "execute_result"
    }
   ],
   "source": [
    "from sklearn import metrics\n",
    "fpr, tpr, thresholds = metrics.roc_curve(test_y, pred)\n",
    "metrics.auc(fpr, tpr)"
   ]
  },
  {
   "cell_type": "code",
   "execution_count": null,
   "id": "1ddf45c0",
   "metadata": {},
   "outputs": [],
   "source": []
  },
  {
   "cell_type": "markdown",
   "id": "47336d72",
   "metadata": {},
   "source": [
    "### 最终方法1效果更好"
   ]
  }
 ],
 "metadata": {
  "kernelspec": {
   "display_name": "Python 3",
   "language": "python",
   "name": "python3"
  },
  "language_info": {
   "codemirror_mode": {
    "name": "ipython",
    "version": 3
   },
   "file_extension": ".py",
   "mimetype": "text/x-python",
   "name": "python",
   "nbconvert_exporter": "python",
   "pygments_lexer": "ipython3",
   "version": "3.7.6"
  }
 },
 "nbformat": 4,
 "nbformat_minor": 5
}
