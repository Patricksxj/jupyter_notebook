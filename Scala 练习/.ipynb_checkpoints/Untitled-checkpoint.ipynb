{
 "cells": [
  {
   "cell_type": "code",
   "execution_count": 1,
   "metadata": {
    "ExecuteTime": {
     "end_time": "2019-12-15T07:26:51.665371Z",
     "start_time": "2019-12-15T07:26:43.023876Z"
    }
   },
   "outputs": [
    {
     "data": {
      "text/plain": [
       "Intitializing Scala interpreter ..."
      ]
     },
     "metadata": {},
     "output_type": "display_data"
    },
    {
     "data": {
      "text/plain": [
       "Spark Web UI available at http://SKY-20160416XPQ:4041\n",
       "SparkContext available as 'sc' (version = 2.4.4, master = local[*], app id = local-1576394806442)\n",
       "SparkSession available as 'spark'\n"
      ]
     },
     "metadata": {},
     "output_type": "display_data"
    },
    {
     "data": {
      "text/plain": [
       "defined object Test\n"
      ]
     },
     "execution_count": 1,
     "metadata": {},
     "output_type": "execute_result"
    }
   ],
   "source": [
    "object Test {\n",
    "   def main(args: Array[String]) {\n",
    "        printInt(b=5, a=7);\n",
    "   }\n",
    "   def printInt( a:Int, b:Int ) = {\n",
    "      println(\"Value of a : \" + a );\n",
    "      println(\"Value of b : \" + b );\n",
    "   }\n",
    "}"
   ]
  },
  {
   "cell_type": "code",
   "execution_count": 8,
   "metadata": {
    "ExecuteTime": {
     "end_time": "2019-12-15T07:28:04.564540Z",
     "start_time": "2019-12-15T07:28:04.303525Z"
    }
   },
   "outputs": [
    {
     "name": "stdout",
     "output_type": "stream",
     "text": [
      "Value of a : 7\n",
      "Value of b : 5\n"
     ]
    }
   ],
   "source": [
    "Test.main(Array())"
   ]
  },
  {
   "cell_type": "code",
   "execution_count": 9,
   "metadata": {
    "ExecuteTime": {
     "end_time": "2019-12-15T07:30:19.968285Z",
     "start_time": "2019-12-15T07:30:19.565262Z"
    }
   },
   "outputs": [
    {
     "data": {
      "text/plain": [
       "defined object Test\n"
      ]
     },
     "execution_count": 9,
     "metadata": {},
     "output_type": "execute_result"
    }
   ],
   "source": [
    "object Test {\n",
    "   def main(args: Array[String]) {\n",
    "        printStrings(\"Runoob\", \"Scala\", \"Python\");\n",
    "   }\n",
    "   def printStrings( args:String* ) = {\n",
    "      var i : Int = 0;\n",
    "      for( arg <- args ){\n",
    "         println(\"Arg value[\" + i + \"] = \" + arg );\n",
    "         i = i + 1;\n",
    "      }\n",
    "   }\n",
    "}"
   ]
  },
  {
   "cell_type": "code",
   "execution_count": 10,
   "metadata": {
    "ExecuteTime": {
     "end_time": "2019-12-15T07:30:22.229414Z",
     "start_time": "2019-12-15T07:30:22.020402Z"
    }
   },
   "outputs": [
    {
     "name": "stdout",
     "output_type": "stream",
     "text": [
      "Arg value[0] = Runoob\n",
      "Arg value[1] = Scala\n",
      "Arg value[2] = Python\n"
     ]
    }
   ],
   "source": [
    "Test.main(Array())"
   ]
  }
 ],
 "metadata": {
  "kernelspec": {
   "display_name": "spylon-kernel",
   "language": "scala",
   "name": "spylon-kernel"
  },
  "language_info": {
   "codemirror_mode": "text/x-scala",
   "file_extension": ".scala",
   "help_links": [
    {
     "text": "MetaKernel Magics",
     "url": "https://metakernel.readthedocs.io/en/latest/source/README.html"
    }
   ],
   "mimetype": "text/x-scala",
   "name": "scala",
   "pygments_lexer": "scala",
   "version": "0.4.1"
  }
 },
 "nbformat": 4,
 "nbformat_minor": 2
}
