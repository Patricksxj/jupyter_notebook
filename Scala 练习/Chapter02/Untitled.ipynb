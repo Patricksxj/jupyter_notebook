{
 "cells": [
  {
   "cell_type": "code",
   "execution_count": 2,
   "metadata": {
    "ExecuteTime": {
     "end_time": "2019-12-15T06:01:49.457541Z",
     "start_time": "2019-12-15T06:01:48.635494Z"
    }
   },
   "outputs": [
    {
     "data": {
      "text/plain": [
       "import org.apache.spark.graphx._\r\n",
       "graph: org.apache.spark.graphx.Graph[Int,Int] = org.apache.spark.graphx.impl.GraphImpl@23138528\r\n",
       "res1: (org.apache.spark.graphx.VertexId, Int) = (9711200,2414)\n"
      ]
     },
     "execution_count": 2,
     "metadata": {},
     "output_type": "execute_result"
    }
   ],
   "source": [
    "import org.apache.spark.graphx._\n",
    "val graph = GraphLoader.edgeListFile(sc, \"cit-HepTh.txt\")\n",
    "graph.inDegrees.reduce((a,b) => if (a._2 > b._2) a else b)"
   ]
  },
  {
   "cell_type": "code",
   "execution_count": null,
   "metadata": {},
   "outputs": [],
   "source": []
  },
  {
   "cell_type": "code",
   "execution_count": 3,
   "metadata": {
    "ExecuteTime": {
     "end_time": "2019-12-15T06:02:27.048691Z",
     "start_time": "2019-12-15T06:02:16.470086Z"
    }
   },
   "outputs": [
    {
     "data": {
      "text/plain": [
       "import org.apache.spark.graphx._\r\n",
       "graph: org.apache.spark.graphx.Graph[Int,Int] = org.apache.spark.graphx.impl.GraphImpl@2db97bfa\r\n",
       "v: org.apache.spark.graphx.VertexRDD[Double] = VertexRDDImpl[1171] at RDD at VertexRDD.scala:57\r\n",
       "res2: (org.apache.spark.graphx.VertexId, Double) = (9207016,172.7065661984784)\n"
      ]
     },
     "execution_count": 3,
     "metadata": {},
     "output_type": "execute_result"
    }
   ],
   "source": [
    "import org.apache.spark.graphx._\n",
    "val graph = GraphLoader.edgeListFile(sc, \"cit-HepTh.txt\")\n",
    "val v = graph.pageRank(0.001).vertices\n",
    "v.reduce((a,b) => if (a._2 > b._2) a else b)"
   ]
  }
 ],
 "metadata": {
  "kernelspec": {
   "display_name": "spylon-kernel",
   "language": "scala",
   "name": "spylon-kernel"
  },
  "language_info": {
   "codemirror_mode": "text/x-scala",
   "file_extension": ".scala",
   "help_links": [
    {
     "text": "MetaKernel Magics",
     "url": "https://metakernel.readthedocs.io/en/latest/source/README.html"
    }
   ],
   "mimetype": "text/x-scala",
   "name": "scala",
   "pygments_lexer": "scala",
   "version": "0.4.1"
  }
 },
 "nbformat": 4,
 "nbformat_minor": 2
}
