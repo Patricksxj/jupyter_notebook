{
 "cells": [
  {
   "cell_type": "code",
   "execution_count": 2,
   "metadata": {
    "ExecuteTime": {
     "end_time": "2019-12-14T13:31:00.739078Z",
     "start_time": "2019-12-14T13:31:00.520065Z"
    }
   },
   "outputs": [
    {
     "data": {
      "text/plain": [
       "x: Int = 11\r\n",
       "y: Int = 2\r\n",
       "res0: Int = 13\n"
      ]
     },
     "execution_count": 2,
     "metadata": {},
     "output_type": "execute_result"
    }
   ],
   "source": [
    "val x=11\n",
    "val y=2\n",
    "x+y"
   ]
  },
  {
   "cell_type": "code",
   "execution_count": 6,
   "metadata": {
    "ExecuteTime": {
     "end_time": "2019-12-14T13:34:35.617869Z",
     "start_time": "2019-12-14T13:34:35.321852Z"
    }
   },
   "outputs": [
    {
     "data": {
      "text/plain": [
       "defined object HelloWorld\n"
      ]
     },
     "execution_count": 6,
     "metadata": {},
     "output_type": "execute_result"
    }
   ],
   "source": [
    "object HelloWorld {\n",
    "   /* 这是我的第一个 Scala 程序\n",
    "    * 以下程序将输出'Hello World!'\n",
    "    */\n",
    "   def main(args: Array[String]) {\n",
    "      println(\"Hello, world!\") // 输出 Hello World\n",
    "   }\n",
    "}"
   ]
  },
  {
   "cell_type": "code",
   "execution_count": 9,
   "metadata": {
    "ExecuteTime": {
     "end_time": "2019-12-14T13:36:44.815630Z",
     "start_time": "2019-12-14T13:36:44.576616Z"
    }
   },
   "outputs": [
    {
     "data": {
      "text/plain": [
       "res6: HelloWorld.type = HelloWorld$@103c2798\n"
      ]
     },
     "execution_count": 9,
     "metadata": {},
     "output_type": "execute_result"
    }
   ],
   "source": [
    "HelloWorld"
   ]
  },
  {
   "cell_type": "code",
   "execution_count": 30,
   "metadata": {
    "ExecuteTime": {
     "end_time": "2019-12-14T13:57:22.330854Z",
     "start_time": "2019-12-14T13:57:22.152843Z"
    }
   },
   "outputs": [
    {
     "data": {
      "text/plain": [
       "import java.io._\r\n",
       "defined class Point\r\n",
       "defined object Test\n"
      ]
     },
     "execution_count": 30,
     "metadata": {},
     "output_type": "execute_result"
    }
   ],
   "source": [
    "import java.io._\n",
    "\n",
    "class Point(xc: Int, yc: Int) {\n",
    "   var x: Int = xc\n",
    "   var y: Int = yc\n",
    "\n",
    "   def move(dx: Int, dy: Int) {\n",
    "      x = x + dx\n",
    "      y = y + dy\n",
    "      println (\"x 的坐标点: \" + x);\n",
    "      println (\"y 的坐标点: \" + y);\n",
    "   }\n",
    "}\n",
    "\n",
    "object Test {\n",
    "   def main(args: Array[String]) {\n",
    "      val pt = new Point(10, 20);\n",
    "\n",
    "      // 移到一个新的位置\n",
    "      pt.move(10, 10);\n",
    "   }\n",
    "}"
   ]
  },
  {
   "cell_type": "code",
   "execution_count": 31,
   "metadata": {
    "ExecuteTime": {
     "end_time": "2019-12-14T13:57:23.756125Z",
     "start_time": "2019-12-14T13:57:23.723524Z"
    }
   },
   "outputs": [
    {
     "ename": "<console>",
     "evalue": " error: incomplete input",
     "output_type": "error",
     "traceback": [
      "<console>: error: incomplete input"
     ]
    }
   ],
   "source": [
    "Test.main(Array()"
   ]
  },
  {
   "cell_type": "code",
   "execution_count": 21,
   "metadata": {
    "ExecuteTime": {
     "end_time": "2019-12-14T13:47:11.298658Z",
     "start_time": "2019-12-14T13:47:11.073645Z"
    }
   },
   "outputs": [
    {
     "data": {
      "text/plain": [
       "import scala.collection.mutable._\n"
      ]
     },
     "execution_count": 21,
     "metadata": {},
     "output_type": "execute_result"
    }
   ],
   "source": [
    "import scala.collection.mutable._"
   ]
  },
  {
   "cell_type": "code",
   "execution_count": 25,
   "metadata": {
    "ExecuteTime": {
     "end_time": "2019-12-14T13:50:16.595015Z",
     "start_time": "2019-12-14T13:50:16.061984Z"
    }
   },
   "outputs": [
    {
     "data": {
      "text/plain": [
       "defined object HelloWorld\r\n",
       "res19: Array[String] => Unit = <function1>\n"
      ]
     },
     "execution_count": 25,
     "metadata": {},
     "output_type": "execute_result"
    }
   ],
   "source": [
    "object HelloWorld {\n",
    "   /* 这是我的第一个 Scala 程序\n",
    "    * 以下程序将输出'Hello World!'\n",
    "    */\n",
    "   def main(args: Array[String]) {\n",
    "      println(\"Hello, world!\") // 输出 Hello World\n",
    "   }\n",
    "}\n"
   ]
  },
  {
   "cell_type": "code",
   "execution_count": 28,
   "metadata": {
    "ExecuteTime": {
     "end_time": "2019-12-14T13:51:20.869691Z",
     "start_time": "2019-12-14T13:51:20.292658Z"
    }
   },
   "outputs": [
    {
     "name": "stdout",
     "output_type": "stream",
     "text": [
      "Hello, world!\n"
     ]
    }
   ],
   "source": [
    "HelloWorld.main(Array())"
   ]
  }
 ],
 "metadata": {
  "kernelspec": {
   "display_name": "spylon-kernel",
   "language": "scala",
   "name": "spylon-kernel"
  },
  "language_info": {
   "codemirror_mode": "text/x-scala",
   "file_extension": ".scala",
   "help_links": [
    {
     "text": "MetaKernel Magics",
     "url": "https://metakernel.readthedocs.io/en/latest/source/README.html"
    }
   ],
   "mimetype": "text/x-scala",
   "name": "scala",
   "pygments_lexer": "scala",
   "version": "0.4.1"
  }
 },
 "nbformat": 4,
 "nbformat_minor": 2
}
