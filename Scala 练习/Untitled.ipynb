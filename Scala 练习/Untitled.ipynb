{
 "cells": [
  {
   "cell_type": "code",
   "execution_count": 1,
   "metadata": {
    "ExecuteTime": {
     "end_time": "2020-02-22T03:02:07.051063Z",
     "start_time": "2020-02-22T03:01:37.791391Z"
    }
   },
   "outputs": [
    {
     "data": {
      "text/plain": [
       "Intitializing Scala interpreter ..."
      ]
     },
     "metadata": {},
     "output_type": "display_data"
    },
    {
     "data": {
      "text/plain": [
       "Spark Web UI available at http://SKY-20160416XPQ:4040\n",
       "SparkContext available as 'sc' (version = 2.4.4, master = local[*], app id = local-1582340517276)\n",
       "SparkSession available as 'spark'\n"
      ]
     },
     "metadata": {},
     "output_type": "display_data"
    },
    {
     "data": {
      "text/plain": [
       "defined object Test\n"
      ]
     },
     "execution_count": 1,
     "metadata": {},
     "output_type": "execute_result"
    }
   ],
   "source": [
    "object Test {\n",
    "   def main(args: Array[String]) {\n",
    "        printInt(b=5, a=7);\n",
    "   }\n",
    "   def printInt( a:Int, b:Int ) = {\n",
    "      println(\"Value of a : \" + a );\n",
    "      println(\"Value of b : \" + b );\n",
    "   }\n",
    "}"
   ]
  },
  {
   "cell_type": "code",
   "execution_count": 2,
   "metadata": {
    "ExecuteTime": {
     "end_time": "2020-02-22T03:02:42.898518Z",
     "start_time": "2020-02-22T03:02:42.133297Z"
    }
   },
   "outputs": [
    {
     "name": "stdout",
     "output_type": "stream",
     "text": [
      "Value of a : 7\n",
      "Value of b : 5\n"
     ]
    }
   ],
   "source": [
    "Test.main(Array())"
   ]
  },
  {
   "cell_type": "code",
   "execution_count": 3,
   "metadata": {
    "ExecuteTime": {
     "end_time": "2020-02-22T03:02:45.245199Z",
     "start_time": "2020-02-22T03:02:44.768172Z"
    }
   },
   "outputs": [
    {
     "data": {
      "text/plain": [
       "defined object Test\n"
      ]
     },
     "execution_count": 3,
     "metadata": {},
     "output_type": "execute_result"
    }
   ],
   "source": [
    "object Test {\n",
    "   def main(args: Array[String]) {\n",
    "        printStrings(\"Runoob\", \"Scala\", \"Python\");\n",
    "   }\n",
    "   def printStrings( args:String* ) = {\n",
    "      var i : Int = 0;\n",
    "      for( arg <- args ){\n",
    "         println(\"Arg value[\" + i + \"] = \" + arg );\n",
    "         i = i + 1;\n",
    "      }\n",
    "   }\n",
    "}"
   ]
  },
  {
   "cell_type": "code",
   "execution_count": 10,
   "metadata": {
    "ExecuteTime": {
     "end_time": "2019-12-15T07:30:22.229414Z",
     "start_time": "2019-12-15T07:30:22.020402Z"
    },
    "scrolled": true
   },
   "outputs": [
    {
     "name": "stdout",
     "output_type": "stream",
     "text": [
      "Arg value[0] = Runoob\n",
      "Arg value[1] = Scala\n",
      "Arg value[2] = Python\n"
     ]
    }
   ],
   "source": [
    "Test.main(Array())"
   ]
  },
  {
   "cell_type": "code",
   "execution_count": 4,
   "metadata": {
    "ExecuteTime": {
     "end_time": "2020-02-22T03:03:42.332460Z",
     "start_time": "2020-02-22T03:03:42.236455Z"
    }
   },
   "outputs": [
    {
     "ename": "<console>",
     "evalue": "30: error: not found: type VertexRDD\r",
     "output_type": "error",
     "traceback": [
      "<console>:30: error: not found: type VertexRDD\r",
      "         val vertices: VertexRDD[VD]\r",
      "                       ^",
      "<console>:43: error: not found: type EdgeRDD\r",
      "         val edges: EdgeRDD[ED]\r",
      "                    ^",
      "<console>:61: error: not found: type RDD\r",
      "         val triplets: RDD[EdgeTriplet[VD, ED]]\r",
      "                       ^",
      ""
     ]
    }
   ],
   "source": []
  },
  {
   "cell_type": "code",
   "execution_count": null,
   "metadata": {},
   "outputs": [],
   "source": []
  }
 ],
 "metadata": {
  "kernelspec": {
   "display_name": "spylon-kernel",
   "language": "scala",
   "name": "spylon-kernel"
  },
  "language_info": {
   "codemirror_mode": "text/x-scala",
   "file_extension": ".scala",
   "help_links": [
    {
     "text": "MetaKernel Magics",
     "url": "https://metakernel.readthedocs.io/en/latest/source/README.html"
    }
   ],
   "mimetype": "text/x-scala",
   "name": "scala",
   "pygments_lexer": "scala",
   "version": "0.4.1"
  }
 },
 "nbformat": 4,
 "nbformat_minor": 2
}
