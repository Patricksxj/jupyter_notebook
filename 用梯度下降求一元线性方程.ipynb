{
 "cells": [
  {
   "cell_type": "code",
   "execution_count": 1,
   "id": "937ebaf9",
   "metadata": {},
   "outputs": [],
   "source": [
    "import numpy as np"
   ]
  },
  {
   "cell_type": "code",
   "execution_count": null,
   "id": "4dec04f4",
   "metadata": {},
   "outputs": [],
   "source": []
  },
  {
   "cell_type": "markdown",
   "id": "6423f970",
   "metadata": {},
   "source": [
    "## 定义一个函数\n",
    "y=wx+b"
   ]
  },
  {
   "cell_type": "code",
   "execution_count": null,
   "id": "ea67f596",
   "metadata": {},
   "outputs": [],
   "source": [
    "    "
   ]
  },
  {
   "cell_type": "markdown",
   "id": "b6947c3a",
   "metadata": {},
   "source": [
    "## 损失\n",
    "loss=(wx+b-y)^2\n",
    "\n",
    "b_gradient=2*(wx+b-y)*1\n",
    "\n",
    "w_gradient=2*(wx+b-y)*x"
   ]
  },
  {
   "cell_type": "code",
   "execution_count": null,
   "id": "18c503bc",
   "metadata": {},
   "outputs": [],
   "source": []
  },
  {
   "cell_type": "code",
   "execution_count": 28,
   "id": "62a8ead5",
   "metadata": {},
   "outputs": [],
   "source": [
    "def step_gradient(w_current,b_current,x,y,learning_rate):\n",
    "    b_gradient=0\n",
    "    w_gradient=0\n",
    "    n=len(x)\n",
    "    for i in range(len(x)):\n",
    "        w_gradient+=2/float(n)*(w_current*x[i]+b_current-y[i])*x[i]\n",
    "        b_gradient+=2/float(n)*(w_current*x[i]+b_current-y[i])*1\n",
    "    new_w=w_current-learning_rate*w_gradient\n",
    "    new_b=b_current-learning_rate*b_gradient\n",
    "    return new_w,new_b"
   ]
  },
  {
   "cell_type": "code",
   "execution_count": null,
   "id": "bce07d77",
   "metadata": {},
   "outputs": [],
   "source": []
  },
  {
   "cell_type": "markdown",
   "id": "3ddfe142",
   "metadata": {},
   "source": [
    "## mock function:y=3x+5"
   ]
  },
  {
   "cell_type": "code",
   "execution_count": 12,
   "id": "f316ee5a",
   "metadata": {},
   "outputs": [],
   "source": [
    "X=np.random.normal(0,1,100)*5\n",
    "Y=3*X+5+np.random.rand(1)"
   ]
  },
  {
   "cell_type": "code",
   "execution_count": 21,
   "id": "9897c71c",
   "metadata": {},
   "outputs": [
    {
     "data": {
      "text/plain": [
       "array([  0.66720505,   4.50206963,  11.66195801,  -0.2241389 ,\n",
       "         4.42307047,  -2.55966919,  -4.03957452,  -0.41270165,\n",
       "         6.79846986,   4.16522126,  -0.43973182,  -4.49821056,\n",
       "        -7.0285756 ,   5.96340173,   1.35032892,   7.19375116,\n",
       "        -4.16985462,  -6.7269143 ,  -4.0897984 ,   0.20769344,\n",
       "         8.89931164,  10.13572184,   2.97756599,   6.2280221 ,\n",
       "        -8.39403586,   2.12692978,  -3.30715454,  -9.28689603,\n",
       "        -3.26861803,  -1.81341468,   9.13522185,   1.59909898,\n",
       "         7.44011641,   2.18664733,  -3.19325196,   5.10224886,\n",
       "         1.49301689,   3.60416749,  13.39417917,  -1.20982498,\n",
       "         0.07452226,   2.86636962, -10.42542466,  -6.12532509,\n",
       "         4.33541441,  -0.70048759,  -2.08618917,   9.49932035,\n",
       "        -6.07390225,  -1.70619842,  -0.42260004,   4.73439113,\n",
       "        -3.86705911,  -5.72262163,  -1.84234211,  -3.22243869,\n",
       "        -1.92446528,   5.89554999,  -2.67988355,  -1.01156336,\n",
       "        -6.33470496,  -1.44169147,  -1.74295174,   6.46260892,\n",
       "        -3.75278512,  -7.26911067,  -0.98564231,   3.51494161,\n",
       "         5.68723615,   2.01692671,  -4.31417752,  -3.11294628,\n",
       "         0.56335114,   4.71142298,  -2.0214872 ,  -3.36995327,\n",
       "         5.35527453,  -5.45049366,   1.17689133,  -7.73587154,\n",
       "        -3.8021824 ,  12.27409085,   6.01874839,  -7.38799214,\n",
       "        -1.23324622,  -0.65817685,  -6.94475879,  -2.84670544,\n",
       "        -0.69790045,   3.78534984,   8.77161466,  -7.0771393 ,\n",
       "        -4.4939569 ,   7.3771937 ,  -5.34706834,   0.85163263,\n",
       "        -0.34707959,   3.53841412,   7.8502102 ,   0.30063049])"
      ]
     },
     "execution_count": 21,
     "metadata": {},
     "output_type": "execute_result"
    }
   ],
   "source": [
    "X"
   ]
  },
  {
   "cell_type": "code",
   "execution_count": 13,
   "id": "6161c197",
   "metadata": {
    "scrolled": true
   },
   "outputs": [
    {
     "data": {
      "text/plain": [
       "array([ 7.74108317e+00,  1.92456769e+01,  4.07253420e+01,  5.06705132e+00,\n",
       "        1.90086794e+01, -1.93953955e+00, -6.37925555e+00,  4.50136308e+00,\n",
       "        2.61348776e+01,  1.82351318e+01,  4.42027256e+00, -7.75516366e+00,\n",
       "       -1.53462588e+01,  2.36296732e+01,  9.79045477e+00,  2.73207215e+01,\n",
       "       -6.77009585e+00, -1.44412749e+01, -6.52992719e+00,  6.36254832e+00,\n",
       "        3.24374029e+01,  3.61466335e+01,  1.46721660e+01,  2.44235343e+01,\n",
       "       -1.94426396e+01,  1.21202573e+01, -4.18199561e+00, -2.21212201e+01,\n",
       "       -4.06638609e+00,  2.99223965e-01,  3.31451336e+01,  1.05367649e+01,\n",
       "        2.80598172e+01,  1.22994100e+01, -3.84028786e+00,  2.10462146e+01,\n",
       "        1.02185187e+01,  1.65519705e+01,  4.59220055e+01,  2.10999306e+00,\n",
       "        5.96303478e+00,  1.43385769e+01, -2.55368060e+01, -1.26365072e+01,\n",
       "        1.87457113e+01,  3.63800523e+00, -5.19099482e-01,  3.42374291e+01,\n",
       "       -1.24822388e+01,  6.20872762e-01,  4.47166790e+00,  1.99426414e+01,\n",
       "       -5.86170932e+00, -1.14283969e+01,  2.12441694e-01, -3.92784804e+00,\n",
       "       -3.39278258e-02,  2.34261180e+01, -2.30018263e+00,  2.70477793e+00,\n",
       "       -1.32646469e+01,  1.41439360e+00,  5.10612787e-01,  2.51272948e+01,\n",
       "       -5.51888734e+00, -1.60678640e+01,  2.78254109e+00,  1.62842928e+01,\n",
       "        2.28011765e+01,  1.17902482e+01, -7.20306455e+00, -3.59937083e+00,\n",
       "        7.42952143e+00,  1.98737370e+01, -3.24993577e-01, -4.37039179e+00,\n",
       "        2.18052916e+01, -1.06120130e+01,  9.27014202e+00, -1.74681466e+01,\n",
       "       -5.66707917e+00,  4.25617406e+01,  2.37957132e+01, -1.64245084e+01,\n",
       "        2.03972936e+00,  3.76493745e+00, -1.50948084e+01, -2.80064831e+00,\n",
       "        3.64576666e+00,  1.70955175e+01,  3.20543120e+01, -1.54919499e+01,\n",
       "       -7.74240267e+00,  2.78710491e+01, -1.03017370e+01,  8.29436590e+00,\n",
       "        4.69822924e+00,  1.63547104e+01,  2.92900986e+01,  6.64135948e+00])"
      ]
     },
     "execution_count": 13,
     "metadata": {},
     "output_type": "execute_result"
    }
   ],
   "source": [
    "Y"
   ]
  },
  {
   "cell_type": "code",
   "execution_count": null,
   "id": "753d008a",
   "metadata": {},
   "outputs": [],
   "source": []
  },
  {
   "cell_type": "code",
   "execution_count": 30,
   "id": "cbfbec5f",
   "metadata": {},
   "outputs": [
    {
     "name": "stdout",
     "output_type": "stream",
     "text": [
      "3.0081892517730076 4.9640406396593875\n"
     ]
    }
   ],
   "source": [
    "w=0\n",
    "b=0\n",
    "learning_rate=0.001\n",
    "for j in range(1000):#执行次数\n",
    "    w,b=step_gradient(w,b,X,Y,learning_rate)\n",
    "print(w,b)"
   ]
  },
  {
   "cell_type": "code",
   "execution_count": null,
   "id": "e6b6efa4",
   "metadata": {},
   "outputs": [],
   "source": []
  }
 ],
 "metadata": {
  "kernelspec": {
   "display_name": "Python 3",
   "language": "python",
   "name": "python3"
  },
  "language_info": {
   "codemirror_mode": {
    "name": "ipython",
    "version": 3
   },
   "file_extension": ".py",
   "mimetype": "text/x-python",
   "name": "python",
   "nbconvert_exporter": "python",
   "pygments_lexer": "ipython3",
   "version": "3.7.6"
  }
 },
 "nbformat": 4,
 "nbformat_minor": 5
}
