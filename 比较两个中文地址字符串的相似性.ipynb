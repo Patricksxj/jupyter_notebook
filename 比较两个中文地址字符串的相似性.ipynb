{
 "cells": [
  {
   "cell_type": "code",
   "execution_count": 2,
   "metadata": {},
   "outputs": [],
   "source": [
    "import numpy as np\n",
    "import pandas as pd"
   ]
  },
  {
   "cell_type": "code",
   "execution_count": 3,
   "metadata": {},
   "outputs": [],
   "source": [
    "address_a='今天是五月1日，我居然再加班'\n",
    "address_b='今年我有好多天都在加班，以后不能这样天天加班了'"
   ]
  },
  {
   "cell_type": "markdown",
   "metadata": {},
   "source": [
    "### 求地址A与地址B交集部分的字符串"
   ]
  },
  {
   "cell_type": "code",
   "execution_count": 4,
   "metadata": {},
   "outputs": [],
   "source": [
    "def make_word(address):\n",
    "    result=[i for i in address]\n",
    "    return result"
   ]
  },
  {
   "cell_type": "code",
   "execution_count": 6,
   "metadata": {},
   "outputs": [],
   "source": [
    "address_a_list=make_word(address_a)\n",
    "address_b_list=make_word(address_b)"
   ]
  },
  {
   "cell_type": "code",
   "execution_count": 11,
   "metadata": {},
   "outputs": [],
   "source": [
    "add_list_union= list(set(address_a_list).intersection(set(address_b_list)))"
   ]
  },
  {
   "cell_type": "code",
   "execution_count": 12,
   "metadata": {
    "scrolled": true
   },
   "outputs": [
    {
     "data": {
      "text/plain": [
       "['加', '，', '天', '我', '班', '今']"
      ]
     },
     "execution_count": 12,
     "metadata": {},
     "output_type": "execute_result"
    }
   ],
   "source": [
    "add_list_union"
   ]
  },
  {
   "cell_type": "code",
   "execution_count": 15,
   "metadata": {
    "scrolled": true
   },
   "outputs": [
    {
     "data": {
      "text/plain": [
       "['今', '天', '，', '我', '加', '班']"
      ]
     },
     "execution_count": 15,
     "metadata": {},
     "output_type": "execute_result"
    }
   ],
   "source": [
    "[i for i in address_a_list if i in add_list_union]"
   ]
  },
  {
   "cell_type": "code",
   "execution_count": 16,
   "metadata": {},
   "outputs": [
    {
     "data": {
      "text/plain": [
       "['今', '我', '天', '加', '班', '，', '天', '天', '加', '班']"
      ]
     },
     "execution_count": 16,
     "metadata": {},
     "output_type": "execute_result"
    }
   ],
   "source": [
    "[i for i in address_b_list if i in add_list_union]"
   ]
  },
  {
   "cell_type": "markdown",
   "metadata": {},
   "source": [
    "### 完整版本地址字符串比较函数"
   ]
  },
  {
   "cell_type": "code",
   "execution_count": 14,
   "metadata": {},
   "outputs": [],
   "source": [
    "def make_word(address):\n",
    "    result=[i for i in address]\n",
    "    return result"
   ]
  },
  {
   "cell_type": "code",
   "execution_count": 40,
   "metadata": {},
   "outputs": [],
   "source": [
    "def addr_comp(addr_a,addr_b,type='s'):\n",
    "    addr_a_list=make_word(addr_a)\n",
    "    addr_b_list=make_word(addr_b)\n",
    "    addr_words_intersection=list(set(addr_a_list).intersection(set(addr_b_list)))\n",
    "    #地址A中公共单词数量\n",
    "    num_addr_a_in_intersection=len([i for i in addr_a_list if i in addr_words_intersection])\n",
    "    #地址b中公共单词数量\n",
    "    num_addr_b_in_intersection=len([i for i in addr_b_list if i in addr_words_intersection])\n",
    "    #地址A长度\n",
    "    len_addr_a=len(addr_a_list)\n",
    "    #地址B长度\n",
    "    len_addr_b=len(addr_b_list)\n",
    "    \n",
    "\n",
    "    short_raw_addr_length=min(len_addr_a,len_addr_b)\n",
    "    short_intersect_addr_length=min(num_addr_a_in_intersection,num_addr_b_in_intersection)\n",
    "    long_raw_addr_length=max(len_addr_a,len_addr_b)\n",
    "    long_intersect_addr_length=max(num_addr_a_in_intersection,num_addr_b_in_intersection) \n",
    "    if len_addr_a==len_addr_b :\n",
    "        short_raw_addr_length=len_addr_a\n",
    "        short_intersect_addr_length=num_addr_a_in_intersection\n",
    "        long_raw_addr_length=len_addr_b\n",
    "        long_intersect_addr_length=num_addr_b_in_intersection\n",
    "    if type in ('s','S') or not type:\n",
    "        addr_simi=round(short_intersect_addr_length*1.0000/short_raw_addr_length,4)\n",
    "    elif type in ('l','L'):\n",
    "        addr_simi=round(long_intersect_addr_length*1.0000/long_raw_addr_length,4)\n",
    "    else:\n",
    "        print(\"输入地址类型错误，请重新输入\")\n",
    "    return addr_simi"
   ]
  },
  {
   "cell_type": "code",
   "execution_count": 38,
   "metadata": {},
   "outputs": [],
   "source": [
    "address_a='今天是五月1日，我居然再加班'\n",
    "address_b='今年我有好多天都在加班，以后不能这样天天加班了'"
   ]
  },
  {
   "cell_type": "code",
   "execution_count": 39,
   "metadata": {},
   "outputs": [
    {
     "name": "stdout",
     "output_type": "stream",
     "text": [
      "产出地址相似度: 今天是五月1日，我居然再加班 今年我有好多天都在加班，以后不能这样天天加班了 0.4286\n"
     ]
    }
   ],
   "source": [
    "print('产出地址相似度:',address_a,address_b,addr_comp(address_a,address_b,type='s'))"
   ]
  },
  {
   "cell_type": "code",
   "execution_count": 32,
   "metadata": {},
   "outputs": [
    {
     "name": "stdout",
     "output_type": "stream",
     "text": [
      "地址1: 今天是五月1日，我居然再加班 ;地址2: 今年我有好多天都在加班，以后不能这样天天加班了 ;产出地址相似度: 0.4286\n"
     ]
    }
   ],
   "source": [
    "print('地址1:',address_a,';地址2:',address_b,';产出地址相似度:',addr_comp(address_a,address_b))"
   ]
  },
  {
   "cell_type": "code",
   "execution_count": 33,
   "metadata": {},
   "outputs": [
    {
     "name": "stdout",
     "output_type": "stream",
     "text": [
      "地址1: 今天是五月1日，我居然再加班 ;地址2: 今年我有好多天都在加班，以后不能这样天天加班了 ;产出地址相似度: 0.4348\n"
     ]
    }
   ],
   "source": [
    "print('地址1:',address_a,';地址2:',address_b,';产出地址相似度:',addr_comp(address_a,address_b,type='L'))"
   ]
  },
  {
   "cell_type": "code",
   "execution_count": 35,
   "metadata": {},
   "outputs": [
    {
     "name": "stdout",
     "output_type": "stream",
     "text": [
      "地址1: 今天是五月1日，我居然再加班 ;地址2: 今天是五月1日，我居然再加班 ;产出地址相似度: 1.0\n"
     ]
    }
   ],
   "source": [
    "print('地址1:',address_a,';地址2:',address_a,';产出地址相似度:',addr_comp(address_a,address_a,type='L'))"
   ]
  },
  {
   "cell_type": "code",
   "execution_count": null,
   "metadata": {},
   "outputs": [],
   "source": []
  },
  {
   "cell_type": "markdown",
   "metadata": {},
   "source": [
    "### DataFrame中两列之间的比较"
   ]
  },
  {
   "cell_type": "code",
   "execution_count": 66,
   "metadata": {},
   "outputs": [],
   "source": [
    "address_a='上海市徐汇区龙水北路900弄6号604室'\n",
    "address_b='上海市浦东新区龙水南路弄1230栋5号楼501室'\n",
    "df=pd.DataFrame({\"addr_a\":[address_a]*1000000,\"addr_b\":[address_b]*1000000})"
   ]
  },
  {
   "cell_type": "code",
   "execution_count": 60,
   "metadata": {},
   "outputs": [
    {
     "data": {
      "text/plain": [
       "200000"
      ]
     },
     "execution_count": 60,
     "metadata": {},
     "output_type": "execute_result"
    }
   ],
   "source": [
    "len(df)"
   ]
  },
  {
   "cell_type": "code",
   "execution_count": 67,
   "metadata": {
    "scrolled": true
   },
   "outputs": [
    {
     "name": "stdout",
     "output_type": "stream",
     "text": [
      "Wall time: 36.6 s\n"
     ]
    }
   ],
   "source": [
    "%%time\n",
    "df['result']=df.apply(lambda x:addr_comp(x['addr_a'],x['addr_b'],'L'),axis=1)"
   ]
  },
  {
   "cell_type": "code",
   "execution_count": 68,
   "metadata": {},
   "outputs": [
    {
     "data": {
      "text/html": [
       "<div>\n",
       "<style scoped>\n",
       "    .dataframe tbody tr th:only-of-type {\n",
       "        vertical-align: middle;\n",
       "    }\n",
       "\n",
       "    .dataframe tbody tr th {\n",
       "        vertical-align: top;\n",
       "    }\n",
       "\n",
       "    .dataframe thead th {\n",
       "        text-align: right;\n",
       "    }\n",
       "</style>\n",
       "<table border=\"1\" class=\"dataframe\">\n",
       "  <thead>\n",
       "    <tr style=\"text-align: right;\">\n",
       "      <th></th>\n",
       "      <th>addr_a</th>\n",
       "      <th>addr_b</th>\n",
       "      <th>result</th>\n",
       "    </tr>\n",
       "  </thead>\n",
       "  <tbody>\n",
       "    <tr>\n",
       "      <th>0</th>\n",
       "      <td>上海市徐汇区龙水北路900弄6号604室</td>\n",
       "      <td>上海市浦东新区龙水南路弄1230栋5号楼501室</td>\n",
       "      <td>0.5417</td>\n",
       "    </tr>\n",
       "    <tr>\n",
       "      <th>1</th>\n",
       "      <td>上海市徐汇区龙水北路900弄6号604室</td>\n",
       "      <td>上海市浦东新区龙水南路弄1230栋5号楼501室</td>\n",
       "      <td>0.5417</td>\n",
       "    </tr>\n",
       "    <tr>\n",
       "      <th>2</th>\n",
       "      <td>上海市徐汇区龙水北路900弄6号604室</td>\n",
       "      <td>上海市浦东新区龙水南路弄1230栋5号楼501室</td>\n",
       "      <td>0.5417</td>\n",
       "    </tr>\n",
       "    <tr>\n",
       "      <th>3</th>\n",
       "      <td>上海市徐汇区龙水北路900弄6号604室</td>\n",
       "      <td>上海市浦东新区龙水南路弄1230栋5号楼501室</td>\n",
       "      <td>0.5417</td>\n",
       "    </tr>\n",
       "    <tr>\n",
       "      <th>4</th>\n",
       "      <td>上海市徐汇区龙水北路900弄6号604室</td>\n",
       "      <td>上海市浦东新区龙水南路弄1230栋5号楼501室</td>\n",
       "      <td>0.5417</td>\n",
       "    </tr>\n",
       "  </tbody>\n",
       "</table>\n",
       "</div>"
      ],
      "text/plain": [
       "                 addr_a                    addr_b  result\n",
       "0  上海市徐汇区龙水北路900弄6号604室  上海市浦东新区龙水南路弄1230栋5号楼501室  0.5417\n",
       "1  上海市徐汇区龙水北路900弄6号604室  上海市浦东新区龙水南路弄1230栋5号楼501室  0.5417\n",
       "2  上海市徐汇区龙水北路900弄6号604室  上海市浦东新区龙水南路弄1230栋5号楼501室  0.5417\n",
       "3  上海市徐汇区龙水北路900弄6号604室  上海市浦东新区龙水南路弄1230栋5号楼501室  0.5417\n",
       "4  上海市徐汇区龙水北路900弄6号604室  上海市浦东新区龙水南路弄1230栋5号楼501室  0.5417"
      ]
     },
     "execution_count": 68,
     "metadata": {},
     "output_type": "execute_result"
    }
   ],
   "source": [
    "df.head()"
   ]
  },
  {
   "cell_type": "code",
   "execution_count": null,
   "metadata": {},
   "outputs": [],
   "source": []
  },
  {
   "cell_type": "code",
   "execution_count": null,
   "metadata": {},
   "outputs": [],
   "source": []
  }
 ],
 "metadata": {
  "kernelspec": {
   "display_name": "Python 3",
   "language": "python",
   "name": "python3"
  },
  "language_info": {
   "codemirror_mode": {
    "name": "ipython",
    "version": 3
   },
   "file_extension": ".py",
   "mimetype": "text/x-python",
   "name": "python",
   "nbconvert_exporter": "python",
   "pygments_lexer": "ipython3",
   "version": "3.7.6"
  }
 },
 "nbformat": 4,
 "nbformat_minor": 4
}
