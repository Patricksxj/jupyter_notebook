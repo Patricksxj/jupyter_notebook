{
 "cells": [
  {
   "cell_type": "code",
   "execution_count": 73,
   "metadata": {},
   "outputs": [],
   "source": [
    "import random\n",
    "import jieba\n",
    "import pandas as pd\n",
    "import os\n",
    "import jieba.analyse\n",
    "from sklearn import metrics"
   ]
  },
  {
   "cell_type": "code",
   "execution_count": 3,
   "metadata": {},
   "outputs": [],
   "source": [
    "os.getcwd()\n",
    "os.chdir(r'D:\\P_WORKPLACE')"
   ]
  },
  {
   "cell_type": "code",
   "execution_count": null,
   "metadata": {},
   "outputs": [],
   "source": []
  },
  {
   "cell_type": "code",
   "execution_count": 26,
   "metadata": {},
   "outputs": [],
   "source": [
    "# 加载停用词\n",
    "stopwords = pd.read_csv('stop_words.txt', index_col=False, quoting=3, sep=\"\\t\", names=['stopword'],encoding='gbk')\n"
   ]
  },
  {
   "cell_type": "code",
   "execution_count": 9,
   "metadata": {},
   "outputs": [
    {
     "data": {
      "text/html": [
       "<div>\n",
       "<style scoped>\n",
       "    .dataframe tbody tr th:only-of-type {\n",
       "        vertical-align: middle;\n",
       "    }\n",
       "\n",
       "    .dataframe tbody tr th {\n",
       "        vertical-align: top;\n",
       "    }\n",
       "\n",
       "    .dataframe thead th {\n",
       "        text-align: right;\n",
       "    }\n",
       "</style>\n",
       "<table border=\"1\" class=\"dataframe\">\n",
       "  <thead>\n",
       "    <tr style=\"text-align: right;\">\n",
       "      <th></th>\n",
       "      <th>stopword</th>\n",
       "    </tr>\n",
       "  </thead>\n",
       "  <tbody>\n",
       "    <tr>\n",
       "      <th>0</th>\n",
       "      <td>!</td>\n",
       "    </tr>\n",
       "    <tr>\n",
       "      <th>1</th>\n",
       "      <td>\"</td>\n",
       "    </tr>\n",
       "    <tr>\n",
       "      <th>2</th>\n",
       "      <td>#</td>\n",
       "    </tr>\n",
       "    <tr>\n",
       "      <th>3</th>\n",
       "      <td>$</td>\n",
       "    </tr>\n",
       "    <tr>\n",
       "      <th>4</th>\n",
       "      <td>%</td>\n",
       "    </tr>\n",
       "  </tbody>\n",
       "</table>\n",
       "</div>"
      ],
      "text/plain": [
       "  stopword\n",
       "0        !\n",
       "1        \"\n",
       "2        #\n",
       "3        $\n",
       "4        %"
      ]
     },
     "execution_count": 9,
     "metadata": {},
     "output_type": "execute_result"
    }
   ],
   "source": [
    "stopwords.head()"
   ]
  },
  {
   "cell_type": "code",
   "execution_count": 27,
   "metadata": {},
   "outputs": [],
   "source": [
    "stopwords = stopwords['stopword'].values"
   ]
  },
  {
   "cell_type": "code",
   "execution_count": 41,
   "metadata": {},
   "outputs": [],
   "source": [
    "\n",
    "# 加载语料\n",
    "laogong_df = pd.read_csv('beilaogongda.csv', encoding='utf-8', sep=',')\n",
    "laopo_df = pd.read_csv('beilaogongda.csv', encoding='utf-8', sep=',')\n",
    "erzi_df = pd.read_csv('beierzida.csv', encoding='utf-8', sep=',')\n",
    "nver_df = pd.read_csv('beinverda.csv', encoding='utf-8', sep=',')\n",
    "# 删除语料的nan行\n",
    "laogong_df.dropna(inplace=True)\n",
    "laopo_df.dropna(inplace=True)\n",
    "erzi_df.dropna(inplace=True)\n",
    "nver_df.dropna(inplace=True)\n",
    "# 转换\n",
    "laogong = laogong_df.segment.values.tolist()\n",
    "laopo = laopo_df.segment.values.tolist()\n",
    "erzi = erzi_df.segment.values.tolist()\n",
    "nver = nver_df.segment.values.tolist()"
   ]
  },
  {
   "cell_type": "code",
   "execution_count": 42,
   "metadata": {},
   "outputs": [
    {
     "data": {
      "text/plain": [
       "5"
      ]
     },
     "execution_count": 42,
     "metadata": {},
     "output_type": "execute_result"
    }
   ],
   "source": [
    "jieba.suggest_freq('报警人', True)"
   ]
  },
  {
   "cell_type": "code",
   "execution_count": 43,
   "metadata": {},
   "outputs": [],
   "source": [
    "# 定义分词和打标签函数preprocess_text\n",
    "# 参数content_lines即为上面转换的list\n",
    "# 参数sentences是定义的空list，用来储存打标签之后的数据\n",
    "# 参数category 是类型标签\n",
    "def preprocess_text(content_lines, sentences, category):\n",
    "    for line in content_lines:\n",
    "        try:\n",
    "            segs = jieba.lcut(line)\n",
    "            segs = [v for v in segs if not str(v).isdigit()]  # 去数字\n",
    "            segs = list(filter(lambda x: x.strip(), segs))  # 去左右空格\n",
    "            segs = list(filter(lambda x: len(x) > 1, segs))  # 长度为1的字符\n",
    "            segs = list(filter(lambda x: x not in stopwords, segs))  # 去掉停用词\n",
    "            sentences.append((\" \".join(segs), category))  # 打标签\n",
    "        except Exception:\n",
    "            print(line)\n",
    "            continue\n",
    "\n",
    "\n",
    "sentences = []\n",
    "preprocess_text(laogong, sentences,0)\n",
    "preprocess_text(laopo, sentences, 1)\n",
    "preprocess_text(erzi, sentences, 2)\n",
    "preprocess_text(nver, sentences, 3)"
   ]
  },
  {
   "cell_type": "code",
   "execution_count": 37,
   "metadata": {},
   "outputs": [
    {
     "data": {
      "text/plain": [
       "1722"
      ]
     },
     "execution_count": 37,
     "metadata": {},
     "output_type": "execute_result"
    }
   ],
   "source": [
    "len(sentences)"
   ]
  },
  {
   "cell_type": "code",
   "execution_count": 44,
   "metadata": {},
   "outputs": [
    {
     "data": {
      "text/plain": [
       "[('老公', 0),\n",
       " ('上址 女子 老公 持刀 救护 通知 防护 设备', 0),\n",
       " ('老公 醉酒 持刀 携带 防护 装备', 0),\n",
       " ('老公 无需 救护', 0),\n",
       " ('老公 人伤 无需', 0),\n",
       " ('老公 在场 持械 人无事', 0),\n",
       " ('老公 持械 无需 救护', 0),\n",
       " ('丈夫 用脚 持械 人伤 无需 救护 携带 防护 装备', 0),\n",
       " ('老公', 0),\n",
       " ('老公 持械 无需 救护', 0)]"
      ]
     },
     "execution_count": 44,
     "metadata": {},
     "output_type": "execute_result"
    }
   ],
   "source": [
    "sentences[:10]"
   ]
  },
  {
   "cell_type": "code",
   "execution_count": 46,
   "metadata": {},
   "outputs": [],
   "source": [
    "random.shuffle(sentences)"
   ]
  },
  {
   "cell_type": "code",
   "execution_count": 47,
   "metadata": {},
   "outputs": [
    {
     "data": {
      "text/plain": [
       "[('女儿 女儿 外面', 3),\n",
       " ('老公', 1),\n",
       " ('老公', 0),\n",
       " ('老公 持械', 1),\n",
       " ('老公 持械', 0),\n",
       " ('异地 称其 妹妹 石英 现场 电话 老公 不明', 0),\n",
       " ('女儿', 3),\n",
       " ('丈夫 打伤 无需 救护 在场', 0),\n",
       " ('儿子', 2),\n",
       " ('女儿', 3)]"
      ]
     },
     "execution_count": 47,
     "metadata": {},
     "output_type": "execute_result"
    }
   ],
   "source": [
    "sentences[:10]"
   ]
  },
  {
   "cell_type": "code",
   "execution_count": 67,
   "metadata": {},
   "outputs": [
    {
     "name": "stdout",
     "output_type": "stream",
     "text": [
      "女儿 女儿 外面 3\n",
      "老公 1\n",
      "老公 0\n",
      "老公 持械 1\n",
      "老公 持械 0\n",
      "异地 称其 妹妹 石英 现场 电话 老公 不明 0\n",
      "女儿 3\n",
      "丈夫 打伤 无需 救护 在场 0\n",
      "儿子 2\n",
      "女儿 3\n"
     ]
    }
   ],
   "source": [
    "for sentence in sentences[:10]:\n",
    "    print(sentence[0], sentence[1])  # 下标0是词列表，1是标签"
   ]
  },
  {
   "cell_type": "code",
   "execution_count": 107,
   "metadata": {},
   "outputs": [
    {
     "data": {
      "text/plain": [
       "CountVectorizer(analyzer='word', binary=False, decode_error='strict',\n",
       "        dtype=<class 'numpy.int64'>, encoding='utf-8', input='content',\n",
       "        lowercase=True, max_df=1.0, max_features=4000, min_df=1,\n",
       "        ngram_range=(1, 1), preprocessor=None, stop_words=None,\n",
       "        strip_accents=None, token_pattern='(?u)\\\\b\\\\w\\\\w+\\\\b',\n",
       "        tokenizer=None, vocabulary=None)"
      ]
     },
     "execution_count": 107,
     "metadata": {},
     "output_type": "execute_result"
    }
   ],
   "source": [
    "#用词袋建模\n",
    "from sklearn.feature_extraction.text import CountVectorizer\n",
    "vec = CountVectorizer(analyzer='word', # tokenise by character ngrams\n",
    "        max_features=4000)\n",
    "\n",
    "#拆分训练集与测试集\n",
    "from sklearn.model_selection import train_test_split\n",
    "x, y = zip(*sentences)\n",
    "#type(sentences)\n",
    "\n",
    "x_train, x_test, y_train, y_test = train_test_split(x,y, random_state=1256)\n",
    "\n",
    "vec.fit(x_train)\n"
   ]
  },
  {
   "cell_type": "code",
   "execution_count": 108,
   "metadata": {},
   "outputs": [],
   "source": [
    "from sklearn.naive_bayes import MultinomialNB\n",
    "classifier = MultinomialNB()\n",
    "classifier.fit(vec.transform(x_train), y_train)\n",
    "pre = classifier.predict(vec.transform(x_test))"
   ]
  },
  {
   "cell_type": "code",
   "execution_count": 81,
   "metadata": {},
   "outputs": [
    {
     "data": {
      "text/plain": [
       "list"
      ]
     },
     "execution_count": 81,
     "metadata": {},
     "output_type": "execute_result"
    }
   ],
   "source": [
    "type(list(pre))"
   ]
  },
  {
   "cell_type": "code",
   "execution_count": 79,
   "metadata": {},
   "outputs": [
    {
     "data": {
      "text/plain": [
       "list"
      ]
     },
     "execution_count": 79,
     "metadata": {},
     "output_type": "execute_result"
    }
   ],
   "source": [
    "type(y_test)"
   ]
  },
  {
   "cell_type": "code",
   "execution_count": 109,
   "metadata": {},
   "outputs": [
    {
     "name": "stdout",
     "output_type": "stream",
     "text": [
      "Naive_Bayes_Accuracy : 0.6705\n"
     ]
    }
   ],
   "source": [
    "print(\"Naive_Bayes_Accuracy : %.4g\" % metrics.accuracy_score(y_test,pre))"
   ]
  },
  {
   "cell_type": "code",
   "execution_count": 111,
   "metadata": {},
   "outputs": [
    {
     "name": "stdout",
     "output_type": "stream",
     "text": [
      "SVM_Accuracy : 0.6705336426914154\n"
     ]
    }
   ],
   "source": [
    "from sklearn.svm import SVC\n",
    "svm = SVC(kernel='linear')\n",
    "svm.fit(vec.transform(x_train), y_train)\n",
    "print(\"SVM_Accuracy :\",svm.score(vec.transform(x_test), y_test))"
   ]
  },
  {
   "cell_type": "code",
   "execution_count": 112,
   "metadata": {},
   "outputs": [
    {
     "name": "stdout",
     "output_type": "stream",
     "text": [
      "GBDT_Accuracy : 0.6659\n"
     ]
    }
   ],
   "source": [
    "from sklearn.ensemble import GradientBoostingClassifier\n",
    "gbm0 = GradientBoostingClassifier(random_state=10)\n",
    "gbm0.fit(vec.transform(x_train), y_train)\n",
    "y_pred = gbm0.predict(vec.transform(x_test))\n",
    "print(\"GBDT_Accuracy : %.4g\" % metrics.accuracy_score(y_test,list(y_pred)))"
   ]
  },
  {
   "cell_type": "code",
   "execution_count": 113,
   "metadata": {},
   "outputs": [],
   "source": [
    "    params = {  \n",
    "            'booster': 'gbtree',     #使用gbtree\n",
    "            'objective': 'multi:softmax',  # 多分类的问题、  \n",
    "            # 'objective': 'multi:softprob',   # 多分类概率  \n",
    "            #'objective': 'binary:logistic',  #二分类\n",
    "            'eval_metric': 'merror',   #logloss\n",
    "            'num_class': 4,  # 类别数，与 multisoftmax 并用  \n",
    "            'gamma': 0.1,  # 用于控制是否后剪枝的参数,越大越保守，一般0.1、0.2这样子。  \n",
    "            'max_depth': 8,  # 构建树的深度，越大越容易过拟合  \n",
    "            'alpha': 0,   # L1正则化系数  \n",
    "            'lambda': 10,  # 控制模型复杂度的权重值的L2正则化项参数，参数越大，模型越不容易过拟合。  \n",
    "            'subsample': 0.7,  # 随机采样训练样本  \n",
    "            'colsample_bytree': 0.5,  # 生成树时进行的列采样  \n",
    "            'min_child_weight': 3,  \n",
    "            # 这个参数默认是 1，是每个叶子里面 h 的和至少是多少，对正负样本不均衡时的 0-1 分类而言  \n",
    "            # 假设 h 在 0.01 附近，min_child_weight 为 1 叶子节点中最少需要包含 100 个样本。  \n",
    "            'silent': 0,  # 设置成1则没有运行信息输出，最好是设置为0.  \n",
    "            'eta': 0.03,  # 如同学习率  \n",
    "            'seed': 1000,  \n",
    "            'nthread': -1,  # cpu 线程数  \n",
    "            'missing': 1 \n",
    "        } "
   ]
  },
  {
   "cell_type": "code",
   "execution_count": 114,
   "metadata": {},
   "outputs": [],
   "source": [
    "import xgboost as xgb\n",
    "from sklearn.model_selection import StratifiedKFold\n",
    "import numpy as np\n",
    "\n",
    "# xgb矩阵赋值\n",
    "xgb_train = xgb.DMatrix(vec.transform(x_train), label=y_train)\n",
    "xgb_test = xgb.DMatrix(vec.transform(x_test))\n"
   ]
  },
  {
   "cell_type": "code",
   "execution_count": null,
   "metadata": {},
   "outputs": [],
   "source": [
    "model = xgb.train(dtrain=xgb_train, params=params,num_boost_round=500)"
   ]
  },
  {
   "cell_type": "code",
   "execution_count": 116,
   "metadata": {},
   "outputs": [],
   "source": [
    "ypred = model.predict(xgb_test)"
   ]
  },
  {
   "cell_type": "code",
   "execution_count": 117,
   "metadata": {},
   "outputs": [
    {
     "name": "stdout",
     "output_type": "stream",
     "text": [
      "xgboost_Accuracy : 0.6798\n"
     ]
    }
   ],
   "source": [
    "print(\"xgboost_Accuracy : %.4g\" % metrics.accuracy_score(y_test,list(ypred)))"
   ]
  }
 ],
 "metadata": {
  "kernelspec": {
   "display_name": "Python 3",
   "language": "python",
   "name": "python3"
  },
  "language_info": {
   "codemirror_mode": {
    "name": "ipython",
    "version": 3
   },
   "file_extension": ".py",
   "mimetype": "text/x-python",
   "name": "python",
   "nbconvert_exporter": "python",
   "pygments_lexer": "ipython3",
   "version": "3.6.4"
  }
 },
 "nbformat": 4,
 "nbformat_minor": 2
}
