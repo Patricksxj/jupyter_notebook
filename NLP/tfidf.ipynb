{
 "cells": [
  {
   "cell_type": "code",
   "execution_count": 2,
   "id": "f8e69d7d",
   "metadata": {},
   "outputs": [
    {
     "name": "stdout",
     "output_type": "stream",
     "text": [
      "idf:  [('am', 2.386294361119891), ('and', 2.386294361119891), ('apple', 3.0794415416798357), ('are', 3.0794415416798357), ('be', 2.6739764335716716), ('bob', 2.386294361119891), ('book', 3.0794415416798357), ('bring', 3.0794415416798357), ('but', 3.0794415416798357), ('care', 3.0794415416798357), ('cat', 2.6739764335716716), ('coffee', 2.6739764335716716), ('cup', 3.0794415416798357), ('day', 2.386294361119891), ('do', 2.6739764335716716), ('dog', 2.6739764335716716), ('good', 2.386294361119891), ('happy', 3.0794415416798357), ('hard', 3.0794415416798357), ('have', 3.0794415416798357), ('here', 2.6739764335716716), ('is', 1.9808292530117262), ('it', 1.9808292530117262), ('kitty', 2.6739764335716716), ('like', 1.9808292530117262), ('morning', 3.0794415416798357), ('not', 2.6739764335716716), ('on', 3.0794415416798357), ('party', 3.0794415416798357), ('stay', 3.0794415416798357), ('study', 3.0794415416798357), ('sunny', 3.0794415416798357), ('that', 3.0794415416798357), ('the', 3.0794415416798357), ('there', 3.0794415416798357), ('this', 3.0794415416798357), ('time', 3.0794415416798357), ('to', 2.6739764335716716), ('today', 2.386294361119891), ('tomorrow', 3.0794415416798357), ('tree', 3.0794415416798357), ('who', 3.0794415416798357), ('will', 3.0794415416798357), ('your', 3.0794415416798357)]\n",
      "v2i:  {'it': 22, 'is': 21, 'good': 16, 'day': 13, 'like': 24, 'to': 37, 'stay': 29, 'here': 20, 'am': 0, 'happy': 17, 'be': 4, 'bob': 5, 'sunny': 31, 'today': 38, 'have': 19, 'party': 28, 'dog': 15, 'and': 1, 'that': 32, 'cat': 10, 'there': 34, 'are': 3, 'on': 27, 'the': 33, 'tree': 40, 'study': 30, 'hard': 18, 'this': 35, 'morning': 25, 'tomorrow': 39, 'will': 42, 'coffee': 11, 'book': 6, 'apple': 2, 'do': 14, 'not': 26, 'kitty': 23, 'care': 9, 'who': 41, 'but': 8, 'time': 36, 'bring': 7, 'your': 43, 'cup': 12}\n"
     ]
    }
   ],
   "source": [
    "from sklearn.feature_extraction.text import TfidfVectorizer\n",
    "from sklearn.metrics.pairwise import cosine_similarity\n",
    "\n",
    "\n",
    "docs = [\n",
    "    \"it is a good day, I like to stay here\",\n",
    "    \"I am happy to be here\",\n",
    "    \"I am bob\",\n",
    "    \"it is sunny today\",\n",
    "    \"I have a party today\",\n",
    "    \"it is a dog and that is a cat\",\n",
    "    \"there are dog and cat on the tree\",\n",
    "    \"I study hard this morning\",\n",
    "    \"today is a good day\",\n",
    "    \"tomorrow will be a good day\",\n",
    "    \"I like coffee, I like book and I like apple\",\n",
    "    \"I do not like it\",\n",
    "    \"I am kitty, I like bob\",\n",
    "    \"I do not care who like bob, but I like kitty\",\n",
    "    \"It is coffee time, bring your cup\",\n",
    "]\n",
    "\n",
    "vectorizer = TfidfVectorizer()\n",
    "tf_idf = vectorizer.fit_transform(docs)\n",
    "print(\"idf: \", [(n, idf) for idf, n in zip(vectorizer.idf_, vectorizer.get_feature_names_out())])\n",
    "print(\"v2i: \", vectorizer.vocabulary_)\n"
   ]
  },
  {
   "cell_type": "code",
   "execution_count": 10,
   "id": "f7b721c7",
   "metadata": {},
   "outputs": [
    {
     "data": {
      "text/plain": [
       "array([2.38629436, 2.38629436, 3.07944154, 3.07944154, 2.67397643,\n",
       "       2.38629436, 3.07944154, 3.07944154, 3.07944154, 3.07944154,\n",
       "       2.67397643, 2.67397643, 3.07944154, 2.38629436, 2.67397643,\n",
       "       2.67397643, 2.38629436, 3.07944154, 3.07944154, 3.07944154,\n",
       "       2.67397643, 1.98082925, 1.98082925, 2.67397643, 1.98082925,\n",
       "       3.07944154, 2.67397643, 3.07944154, 3.07944154, 3.07944154,\n",
       "       3.07944154, 3.07944154, 3.07944154, 3.07944154, 3.07944154,\n",
       "       3.07944154, 3.07944154, 2.67397643, 2.38629436, 3.07944154,\n",
       "       3.07944154, 3.07944154, 3.07944154, 3.07944154])"
      ]
     },
     "execution_count": 10,
     "metadata": {},
     "output_type": "execute_result"
    }
   ],
   "source": [
    "vectorizer.idf_"
   ]
  },
  {
   "cell_type": "code",
   "execution_count": 13,
   "id": "4bcf9d55",
   "metadata": {},
   "outputs": [
    {
     "data": {
      "text/plain": [
       "array(['am', 'and', 'apple', 'are', 'be', 'bob', 'book', 'bring', 'but',\n",
       "       'care', 'cat', 'coffee', 'cup', 'day', 'do', 'dog', 'good',\n",
       "       'happy', 'hard', 'have', 'here', 'is', 'it', 'kitty', 'like',\n",
       "       'morning', 'not', 'on', 'party', 'stay', 'study', 'sunny', 'that',\n",
       "       'the', 'there', 'this', 'time', 'to', 'today', 'tomorrow', 'tree',\n",
       "       'who', 'will', 'your'], dtype=object)"
      ]
     },
     "execution_count": 13,
     "metadata": {},
     "output_type": "execute_result"
    }
   ],
   "source": [
    "vectorizer.get_feature_names_out()"
   ]
  },
  {
   "cell_type": "code",
   "execution_count": null,
   "id": "f7fa269f",
   "metadata": {},
   "outputs": [],
   "source": []
  },
  {
   "cell_type": "code",
   "execution_count": 6,
   "id": "d22efe21",
   "metadata": {
    "scrolled": true
   },
   "outputs": [
    {
     "data": {
      "text/plain": [
       "array([13, 10, 14], dtype=int64)"
      ]
     },
     "execution_count": 6,
     "metadata": {},
     "output_type": "execute_result"
    }
   ],
   "source": [
    "\n",
    "q = \"I get a coffee cup\"\n",
    "qtf_idf = vectorizer.transform([q])\n",
    "res = cosine_similarity(tf_idf, qtf_idf)\n",
    "res = res.ravel().argsort()[-3:]\n",
    "res"
   ]
  },
  {
   "cell_type": "code",
   "execution_count": 8,
   "id": "43397a15",
   "metadata": {
    "scrolled": true
   },
   "outputs": [
    {
     "data": {
      "text/plain": [
       "array([14, 10, 13], dtype=int64)"
      ]
     },
     "execution_count": 8,
     "metadata": {},
     "output_type": "execute_result"
    }
   ],
   "source": [
    "res[::-1]"
   ]
  },
  {
   "cell_type": "code",
   "execution_count": 9,
   "id": "08c8d570",
   "metadata": {},
   "outputs": [
    {
     "name": "stdout",
     "output_type": "stream",
     "text": [
      "\n",
      "top 3 docs for 'I get a coffee cup':\n",
      "['It is coffee time, bring your cup', 'I like coffee, I like book and I like apple', 'I do not care who like bob, but I like kitty']\n"
     ]
    }
   ],
   "source": [
    "print(\"\\ntop 3 docs for '{}':\\n{}\".format(q, [docs[i] for i in res[::-1]]))\n"
   ]
  },
  {
   "cell_type": "code",
   "execution_count": 3,
   "id": "d94871a8",
   "metadata": {},
   "outputs": [
    {
     "name": "stdout",
     "output_type": "stream",
     "text": [
      "\n",
      "top 3 docs for 'I get a coffee cup':\n",
      "['It is coffee time, bring your cup', 'I like coffee, I like book and I like apple', 'I do not care who like bob, but I like kitty']\n"
     ]
    }
   ],
   "source": [
    "\n",
    "q = \"I get a coffee cup\"\n",
    "qtf_idf = vectorizer.transform([q])\n",
    "res = cosine_similarity(tf_idf, qtf_idf)\n",
    "res = res.ravel().argsort()[-3:]\n",
    "print(\"\\ntop 3 docs for '{}':\\n{}\".format(q, [docs[i] for i in res[::-1]]))\n",
    "\n",
    "\n",
    "i2v = {i: v for v, i in vectorizer.vocabulary_.items()}\n",
    "dense_tfidf = tf_idf.todense()"
   ]
  }
 ],
 "metadata": {
  "kernelspec": {
   "display_name": "Python 3",
   "language": "python",
   "name": "python3"
  },
  "language_info": {
   "codemirror_mode": {
    "name": "ipython",
    "version": 3
   },
   "file_extension": ".py",
   "mimetype": "text/x-python",
   "name": "python",
   "nbconvert_exporter": "python",
   "pygments_lexer": "ipython3",
   "version": "3.7.6"
  }
 },
 "nbformat": 4,
 "nbformat_minor": 5
}
