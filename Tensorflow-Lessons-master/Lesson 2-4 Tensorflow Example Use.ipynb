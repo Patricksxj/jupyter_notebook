{
 "cells": [
  {
   "cell_type": "code",
   "execution_count": 1,
   "metadata": {},
   "outputs": [
    {
     "name": "stderr",
     "output_type": "stream",
     "text": [
      "C:\\ProgramData\\Anaconda3\\lib\\site-packages\\h5py\\__init__.py:36: FutureWarning: Conversion of the second argument of issubdtype from `float` to `np.floating` is deprecated. In future, it will be treated as `np.float64 == np.dtype(float).type`.\n",
      "  from ._conv import register_converters as _register_converters\n"
     ]
    }
   ],
   "source": [
    "import tensorflow as tf\n",
    "import numpy as np"
   ]
  },
  {
   "cell_type": "code",
   "execution_count": 4,
   "metadata": {},
   "outputs": [
    {
     "name": "stdout",
     "output_type": "stream",
     "text": [
      "0 [0.48944473, 1.0783473]\n",
      "1000 [0.09157485, 0.20412892]\n",
      "2000 [0.09785323, 0.20105207]\n",
      "3000 [0.099452935, 0.2002681]\n",
      "4000 [0.09986029, 0.20006861]\n",
      "5000 [0.09996374, 0.20001768]\n",
      "6000 [0.09999055, 0.20000468]\n",
      "7000 [0.09999577, 0.2000023]\n",
      "8000 [0.09999577, 0.2000023]\n",
      "9000 [0.09999577, 0.2000023]\n"
     ]
    }
   ],
   "source": [
    "#using numpy to create 100 random nodes\n",
    "x_data = np.random.rand(100)\n",
    "y_data = x_data*0.1+0.2 #weight and bias\n",
    "\n",
    "#create a linear fit\n",
    "b = tf.Variable(1.1)\n",
    "k = tf.Variable(0.5)\n",
    "y = k*x_data + b\n",
    "\n",
    "#quadratic cost function\n",
    "loss = tf.reduce_mean(tf.square(y_data-y))\n",
    "#create an optimizer using gradient descent\n",
    "optimizer = tf.train.GradientDescentOptimizer(0.01)\n",
    "#minimize cost function\n",
    "train = optimizer.minimize(loss)\n",
    "\n",
    "init = tf.global_variables_initializer()\n",
    "\n",
    "with tf.Session() as sess:\n",
    "    sess.run(init)\n",
    "    for step in range(10000):\n",
    "        sess.run(train)\n",
    "        if step%1000==0:\n",
    "            print(step,sess.run([k,b]))"
   ]
  },
  {
   "cell_type": "code",
   "execution_count": null,
   "metadata": {},
   "outputs": [],
   "source": []
  }
 ],
 "metadata": {
  "kernelspec": {
   "display_name": "Python 3",
   "language": "python",
   "name": "python3"
  },
  "language_info": {
   "codemirror_mode": {
    "name": "ipython",
    "version": 3
   },
   "file_extension": ".py",
   "mimetype": "text/x-python",
   "name": "python",
   "nbconvert_exporter": "python",
   "pygments_lexer": "ipython3",
   "version": "3.6.4"
  }
 },
 "nbformat": 4,
 "nbformat_minor": 2
}
