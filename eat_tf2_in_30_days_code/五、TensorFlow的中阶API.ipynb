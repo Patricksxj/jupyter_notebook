{
 "cells": [
  {
   "cell_type": "markdown",
   "metadata": {},
   "source": [
    "# 五、TensorFlow的中阶API\n",
    "\n",
    "TensorFlow的中阶API主要包括: \n",
    "\n",
    "* 数据管道(tf.data)\n",
    "\n",
    "* 特征列(tf.feature_column)\n",
    "\n",
    "* 激活函数(tf.nn)\n",
    "\n",
    "* 模型层(tf.keras.layers)\n",
    "\n",
    "* 损失函数(tf.keras.losses)\n",
    "\n",
    "* 评估函数(tf.keras.metrics)\n",
    "\n",
    "* 优化器(tf.keras.optimizers)\n",
    "\n",
    "* 回调函数(tf.keras.callbacks)\n",
    "\n",
    "如果把模型比作一个房子，那么中阶API就是【模型之墙】。"
   ]
  },
  {
   "cell_type": "markdown",
   "metadata": {},
   "source": [
    "如果对本书内容理解上有需要进一步和作者交流的地方，欢迎在公众号\"Python与算法之美\"下留言。作者时间和精力有限，会酌情予以回复。\n",
    "\n",
    "![image.png](./data/Python与算法之美logo.jpg)"
   ]
  },
  {
   "cell_type": "code",
   "execution_count": null,
   "metadata": {},
   "outputs": [],
   "source": []
  }
 ],
 "metadata": {
  "jupytext": {
   "cell_metadata_filter": "-all",
   "formats": "md,ipynb",
   "notebook_metadata_filter": "-all",
   "text_representation": {
    "extension": ".md",
    "format_name": "markdown"
   }
  },
  "kernelspec": {
   "display_name": "Python 3",
   "language": "python",
   "name": "python3"
  },
  "language_info": {
   "codemirror_mode": {
    "name": "ipython",
    "version": 3
   },
   "file_extension": ".py",
   "mimetype": "text/x-python",
   "name": "python",
   "nbconvert_exporter": "python",
   "pygments_lexer": "ipython3",
   "version": "3.7.3"
  }
 },
 "nbformat": 4,
 "nbformat_minor": 2
}
