{
 "cells": [
  {
   "cell_type": "markdown",
   "metadata": {},
   "source": [
    "## define a dataframe datasets"
   ]
  },
  {
   "cell_type": "code",
   "execution_count": 1,
   "metadata": {
    "ExecuteTime": {
     "end_time": "2019-11-30T03:19:13.113553Z",
     "start_time": "2019-11-30T03:18:58.464715Z"
    }
   },
   "outputs": [],
   "source": [
    "import numpy as np\n",
    "import pandas as pd"
   ]
  },
  {
   "cell_type": "code",
   "execution_count": 9,
   "metadata": {
    "ExecuteTime": {
     "end_time": "2019-11-30T03:22:59.893524Z",
     "start_time": "2019-11-30T03:22:59.870523Z"
    }
   },
   "outputs": [],
   "source": [
    "a=np.random.normal(loc=0,scale=1,size=64)"
   ]
  },
  {
   "cell_type": "code",
   "execution_count": 25,
   "metadata": {
    "ExecuteTime": {
     "end_time": "2019-11-30T03:32:20.050563Z",
     "start_time": "2019-11-30T03:32:20.038562Z"
    }
   },
   "outputs": [],
   "source": [
    "df=pd.DataFrame(a.reshape(8,8),columns=list(range(1,9))).reset_index(drop=True)"
   ]
  },
  {
   "cell_type": "code",
   "execution_count": 16,
   "metadata": {
    "ExecuteTime": {
     "end_time": "2019-11-30T03:26:22.567116Z",
     "start_time": "2019-11-30T03:26:22.563116Z"
    }
   },
   "outputs": [],
   "source": [
    "new_char='saturday'"
   ]
  },
  {
   "cell_type": "code",
   "execution_count": 30,
   "metadata": {
    "ExecuteTime": {
     "end_time": "2019-11-30T03:34:05.293583Z",
     "start_time": "2019-11-30T03:34:05.286582Z"
    }
   },
   "outputs": [],
   "source": [
    "new_char_list=[new_char]"
   ]
  },
  {
   "cell_type": "code",
   "execution_count": 38,
   "metadata": {
    "ExecuteTime": {
     "end_time": "2019-11-30T03:43:29.881875Z",
     "start_time": "2019-11-30T03:43:29.871875Z"
    }
   },
   "outputs": [],
   "source": [
    "df2=pd.DataFrame({'new_char':[new_char]}).reset_index(drop=True)"
   ]
  },
  {
   "cell_type": "code",
   "execution_count": 39,
   "metadata": {
    "ExecuteTime": {
     "end_time": "2019-11-30T03:43:31.370960Z",
     "start_time": "2019-11-30T03:43:31.359960Z"
    }
   },
   "outputs": [],
   "source": [
    "df3=pd.concat([df,df2],axis=1)"
   ]
  },
  {
   "cell_type": "code",
   "execution_count": 50,
   "metadata": {
    "ExecuteTime": {
     "end_time": "2019-11-30T03:47:12.615615Z",
     "start_time": "2019-11-30T03:47:12.605614Z"
    }
   },
   "outputs": [],
   "source": [
    "df3.fillna(method='ffill',inplace=True)"
   ]
  },
  {
   "cell_type": "code",
   "execution_count": 51,
   "metadata": {
    "ExecuteTime": {
     "end_time": "2019-11-30T03:47:13.737679Z",
     "start_time": "2019-11-30T03:47:13.704677Z"
    }
   },
   "outputs": [
    {
     "data": {
      "text/html": [
       "<div>\n",
       "<style scoped>\n",
       "    .dataframe tbody tr th:only-of-type {\n",
       "        vertical-align: middle;\n",
       "    }\n",
       "\n",
       "    .dataframe tbody tr th {\n",
       "        vertical-align: top;\n",
       "    }\n",
       "\n",
       "    .dataframe thead th {\n",
       "        text-align: right;\n",
       "    }\n",
       "</style>\n",
       "<table border=\"1\" class=\"dataframe\">\n",
       "  <thead>\n",
       "    <tr style=\"text-align: right;\">\n",
       "      <th></th>\n",
       "      <th>1</th>\n",
       "      <th>2</th>\n",
       "      <th>3</th>\n",
       "      <th>4</th>\n",
       "      <th>5</th>\n",
       "      <th>6</th>\n",
       "      <th>7</th>\n",
       "      <th>8</th>\n",
       "      <th>new_char</th>\n",
       "    </tr>\n",
       "  </thead>\n",
       "  <tbody>\n",
       "    <tr>\n",
       "      <td>0</td>\n",
       "      <td>-2.483208</td>\n",
       "      <td>0.449774</td>\n",
       "      <td>-1.506984</td>\n",
       "      <td>1.611070</td>\n",
       "      <td>-0.754653</td>\n",
       "      <td>-1.239796</td>\n",
       "      <td>-0.505775</td>\n",
       "      <td>1.798390</td>\n",
       "      <td>saturday</td>\n",
       "    </tr>\n",
       "    <tr>\n",
       "      <td>1</td>\n",
       "      <td>0.769532</td>\n",
       "      <td>0.358532</td>\n",
       "      <td>-0.612692</td>\n",
       "      <td>-0.866000</td>\n",
       "      <td>0.293117</td>\n",
       "      <td>0.511938</td>\n",
       "      <td>-2.104639</td>\n",
       "      <td>0.218922</td>\n",
       "      <td>saturday</td>\n",
       "    </tr>\n",
       "    <tr>\n",
       "      <td>2</td>\n",
       "      <td>-1.179846</td>\n",
       "      <td>-0.811801</td>\n",
       "      <td>0.497196</td>\n",
       "      <td>-0.464945</td>\n",
       "      <td>-1.355581</td>\n",
       "      <td>-0.369239</td>\n",
       "      <td>-0.797828</td>\n",
       "      <td>-0.719833</td>\n",
       "      <td>saturday</td>\n",
       "    </tr>\n",
       "    <tr>\n",
       "      <td>3</td>\n",
       "      <td>-0.905770</td>\n",
       "      <td>-0.358825</td>\n",
       "      <td>1.227123</td>\n",
       "      <td>-1.386440</td>\n",
       "      <td>-1.350348</td>\n",
       "      <td>0.471255</td>\n",
       "      <td>-1.484704</td>\n",
       "      <td>0.221053</td>\n",
       "      <td>saturday</td>\n",
       "    </tr>\n",
       "    <tr>\n",
       "      <td>4</td>\n",
       "      <td>0.599179</td>\n",
       "      <td>0.694731</td>\n",
       "      <td>-1.832561</td>\n",
       "      <td>-0.775163</td>\n",
       "      <td>0.214846</td>\n",
       "      <td>0.742571</td>\n",
       "      <td>1.672667</td>\n",
       "      <td>-0.716596</td>\n",
       "      <td>saturday</td>\n",
       "    </tr>\n",
       "    <tr>\n",
       "      <td>5</td>\n",
       "      <td>0.052975</td>\n",
       "      <td>1.225306</td>\n",
       "      <td>-0.829785</td>\n",
       "      <td>0.105022</td>\n",
       "      <td>-0.282350</td>\n",
       "      <td>0.189576</td>\n",
       "      <td>2.092514</td>\n",
       "      <td>1.468530</td>\n",
       "      <td>saturday</td>\n",
       "    </tr>\n",
       "    <tr>\n",
       "      <td>6</td>\n",
       "      <td>1.068764</td>\n",
       "      <td>-2.019506</td>\n",
       "      <td>-0.349427</td>\n",
       "      <td>0.097664</td>\n",
       "      <td>-0.878776</td>\n",
       "      <td>-1.208754</td>\n",
       "      <td>-0.743812</td>\n",
       "      <td>-1.512615</td>\n",
       "      <td>saturday</td>\n",
       "    </tr>\n",
       "    <tr>\n",
       "      <td>7</td>\n",
       "      <td>1.192088</td>\n",
       "      <td>-0.813164</td>\n",
       "      <td>1.002448</td>\n",
       "      <td>0.337695</td>\n",
       "      <td>-0.100380</td>\n",
       "      <td>0.879507</td>\n",
       "      <td>0.571597</td>\n",
       "      <td>0.205425</td>\n",
       "      <td>saturday</td>\n",
       "    </tr>\n",
       "  </tbody>\n",
       "</table>\n",
       "</div>"
      ],
      "text/plain": [
       "          1         2         3         4         5         6         7  \\\n",
       "0 -2.483208  0.449774 -1.506984  1.611070 -0.754653 -1.239796 -0.505775   \n",
       "1  0.769532  0.358532 -0.612692 -0.866000  0.293117  0.511938 -2.104639   \n",
       "2 -1.179846 -0.811801  0.497196 -0.464945 -1.355581 -0.369239 -0.797828   \n",
       "3 -0.905770 -0.358825  1.227123 -1.386440 -1.350348  0.471255 -1.484704   \n",
       "4  0.599179  0.694731 -1.832561 -0.775163  0.214846  0.742571  1.672667   \n",
       "5  0.052975  1.225306 -0.829785  0.105022 -0.282350  0.189576  2.092514   \n",
       "6  1.068764 -2.019506 -0.349427  0.097664 -0.878776 -1.208754 -0.743812   \n",
       "7  1.192088 -0.813164  1.002448  0.337695 -0.100380  0.879507  0.571597   \n",
       "\n",
       "          8  new_char  \n",
       "0  1.798390  saturday  \n",
       "1  0.218922  saturday  \n",
       "2 -0.719833  saturday  \n",
       "3  0.221053  saturday  \n",
       "4 -0.716596  saturday  \n",
       "5  1.468530  saturday  \n",
       "6 -1.512615  saturday  \n",
       "7  0.205425  saturday  "
      ]
     },
     "execution_count": 51,
     "metadata": {},
     "output_type": "execute_result"
    }
   ],
   "source": [
    "df3"
   ]
  }
 ],
 "metadata": {
  "kernelspec": {
   "display_name": "Python 3",
   "language": "python",
   "name": "python3"
  },
  "language_info": {
   "codemirror_mode": {
    "name": "ipython",
    "version": 3
   },
   "file_extension": ".py",
   "mimetype": "text/x-python",
   "name": "python",
   "nbconvert_exporter": "python",
   "pygments_lexer": "ipython3",
   "version": "3.7.4"
  }
 },
 "nbformat": 4,
 "nbformat_minor": 2
}
