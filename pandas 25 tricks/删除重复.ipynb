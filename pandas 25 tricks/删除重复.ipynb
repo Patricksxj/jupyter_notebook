{
 "cells": [
  {
   "cell_type": "code",
   "execution_count": 1,
   "id": "0bb6674f",
   "metadata": {},
   "outputs": [],
   "source": [
    "import pandas as pd\n",
    "\n",
    "df = pd.DataFrame({'Age': [30, 30, 22, 40, 20, 30, 20, 25],\n",
    "                   'Height': [165, 165, 120, 80, 162, 72, 124, 81],\n",
    "                   'Score': [4.6, 4.6, 9.0, 3.3, 4, 8, 9, 3],\n",
    "                   'State': ['NY', 'NY', 'FL', 'AL', 'NY', 'TX', 'FL', 'AL']},\n",
    "                  index=['Jane', 'Jane', 'Aaron', 'Penelope', 'Jaane', 'Nicky',\n",
    "                         'Armour', 'Ponting'])\n"
   ]
  },
  {
   "cell_type": "code",
   "execution_count": 2,
   "id": "096d7427",
   "metadata": {},
   "outputs": [
    {
     "name": "stdout",
     "output_type": "stream",
     "text": [
      "\n",
      " -------- Duplicate Rows ----------- \n",
      "\n",
      "          Age  Height  Score State\n",
      "Jane       30     165    4.6    NY\n",
      "Jane       30     165    4.6    NY\n",
      "Aaron      22     120    9.0    FL\n",
      "Penelope   40      80    3.3    AL\n",
      "Jaane      20     162    4.0    NY\n",
      "Nicky      30      72    8.0    TX\n",
      "Armour     20     124    9.0    FL\n",
      "Ponting    25      81    3.0    AL\n"
     ]
    }
   ],
   "source": [
    "print(\"\\n -------- Duplicate Rows ----------- \\n\")\n",
    "print(df)"
   ]
  },
  {
   "cell_type": "code",
   "execution_count": 3,
   "id": "7777678a",
   "metadata": {
    "scrolled": true
   },
   "outputs": [
    {
     "name": "stdout",
     "output_type": "stream",
     "text": [
      "\n",
      " ------- Unique Rows ------------ \n",
      "\n",
      "          Age  Height  Score State\n",
      "index                             \n",
      "Jane       30     165    4.6    NY\n",
      "Aaron      22     120    9.0    FL\n",
      "Penelope   40      80    3.3    AL\n",
      "Jaane      20     162    4.0    NY\n",
      "Nicky      30      72    8.0    TX\n",
      "Armour     20     124    9.0    FL\n",
      "Ponting    25      81    3.0    AL\n"
     ]
    }
   ],
   "source": [
    "df1 = df.reset_index().drop_duplicates(subset='index',\n",
    "                                       keep='first').set_index('index')\n",
    "\n",
    "print(\"\\n ------- Unique Rows ------------ \\n\")\n",
    "print(df1)"
   ]
  },
  {
   "cell_type": "code",
   "execution_count": null,
   "id": "b643cd53",
   "metadata": {},
   "outputs": [],
   "source": []
  },
  {
   "cell_type": "markdown",
   "id": "4b777081",
   "metadata": {},
   "source": [
    "### 删除重复的行"
   ]
  },
  {
   "cell_type": "code",
   "execution_count": 4,
   "id": "f66b0e63",
   "metadata": {},
   "outputs": [],
   "source": [
    "import pandas as pd\n",
    " \n",
    "df = pd.DataFrame({'Age': [30, 40, 30, 40, 30, 30, 20, 25],\n",
    "                   'Height': [120, 162, 120, 120, 120, 72, 120, 81],\n",
    "                   'Score': [4.6, 4.6, 9.0, 3.3, 4, 8, 9, 3],\n",
    "                   'State': ['NY', 'NY', 'FL', 'AL', 'NY', 'TX', 'FL', 'AL']},\n",
    "                  index=['Jane', 'Jane', 'Aaron', 'Penelope', 'Jaane', 'Nicky',\n",
    "                         'Armour', 'Ponting'])"
   ]
  },
  {
   "cell_type": "code",
   "execution_count": 5,
   "id": "f4daf1b7",
   "metadata": {},
   "outputs": [
    {
     "name": "stdout",
     "output_type": "stream",
     "text": [
      "\n",
      " -------- Duplicate Rows ----------- \n",
      "\n",
      "          Age  Height  Score State\n",
      "Jane       30     120    4.6    NY\n",
      "Jane       40     162    4.6    NY\n",
      "Aaron      30     120    9.0    FL\n",
      "Penelope   40     120    3.3    AL\n",
      "Jaane      30     120    4.0    NY\n",
      "Nicky      30      72    8.0    TX\n",
      "Armour     20     120    9.0    FL\n",
      "Ponting    25      81    3.0    AL\n"
     ]
    }
   ],
   "source": [
    " \n",
    "print(\"\\n -------- Duplicate Rows ----------- \\n\")\n",
    "print(df)"
   ]
  },
  {
   "cell_type": "code",
   "execution_count": 6,
   "id": "4d87d650",
   "metadata": {},
   "outputs": [
    {
     "name": "stdout",
     "output_type": "stream",
     "text": [
      "\n",
      " ------- Unique Rows ------------ \n",
      "\n",
      "          Age  Height  Score State\n",
      "index                             \n",
      "Jane       30     120    4.6    NY\n",
      "Jane       40     162    4.6    NY\n",
      "Penelope   40     120    3.3    AL\n",
      "Nicky      30      72    8.0    TX\n",
      "Armour     20     120    9.0    FL\n",
      "Ponting    25      81    3.0    AL\n"
     ]
    }
   ],
   "source": [
    "df1 = df.reset_index().drop_duplicates(subset=['Age','Height'],\n",
    "                                       keep='first').set_index('index')\n",
    " \n",
    "print(\"\\n ------- Unique Rows ------------ \\n\")\n",
    "print(df1)"
   ]
  },
  {
   "cell_type": "code",
   "execution_count": null,
   "id": "5206ae19",
   "metadata": {},
   "outputs": [],
   "source": []
  }
 ],
 "metadata": {
  "kernelspec": {
   "display_name": "Python 3",
   "language": "python",
   "name": "python3"
  },
  "language_info": {
   "codemirror_mode": {
    "name": "ipython",
    "version": 3
   },
   "file_extension": ".py",
   "mimetype": "text/x-python",
   "name": "python",
   "nbconvert_exporter": "python",
   "pygments_lexer": "ipython3",
   "version": "3.7.6"
  }
 },
 "nbformat": 4,
 "nbformat_minor": 5
}
