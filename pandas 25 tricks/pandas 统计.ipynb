{
 "cells": [
  {
   "cell_type": "code",
   "execution_count": 4,
   "id": "474936a4",
   "metadata": {},
   "outputs": [],
   "source": [
    "import pandas as pd\n",
    "import numpy as np\n",
    "df = pd.DataFrame([[10, 20, 30, 40], [7, 14, 21, 28], [5, 5, 0, 0],\n",
    "                   [6, 6, 6, 6], [8, 8, 8, 8], [5, 5, 0, 0]],\n",
    "                  columns=['Apple', 'Orange', 'Rice', 'Oil'],\n",
    "                  index=['Basket1', 'Basket2', 'Basket3',\n",
    "                         'Basket4', 'Basket5', 'Basket6'])"
   ]
  },
  {
   "cell_type": "code",
   "execution_count": 7,
   "id": "650fd496",
   "metadata": {},
   "outputs": [
    {
     "data": {
      "text/plain": [
       "<function numpy.unique(ar, return_index=False, return_inverse=False, return_counts=False, axis=None)>"
      ]
     },
     "execution_count": 7,
     "metadata": {},
     "output_type": "execute_result"
    }
   ],
   "source": [
    "np.unique"
   ]
  },
  {
   "cell_type": "code",
   "execution_count": 22,
   "id": "5bd52783",
   "metadata": {
    "scrolled": true
   },
   "outputs": [
    {
     "name": "stdout",
     "output_type": "stream",
     "text": [
      "         Apple  Orange  Rice  Oil\n",
      "Basket1     10      20    30   40\n",
      "Basket2      7      14    21   28\n",
      "Basket3      5       5     0    0\n",
      "Basket4      6       6     6    6\n",
      "Basket5      8       8     8    8\n",
      "Basket6      5       5     0    0\n",
      "\n",
      " ----------------------------- \n",
      "\n",
      "      Orange                  Rice                   Oil                 \n",
      "        mean count <lambda_0> mean count <lambda_0> mean count <lambda_0>\n",
      "Apple                                                                    \n",
      "5          5     2          5    0     2          0    0     2          0\n",
      "6          6     1          6    6     1          6    6     1          6\n",
      "7         14     1         14   21     1         21   28     1         28\n",
      "8          8     1          8    8     1          8    8     1          8\n",
      "10        20     1         20   30     1         30   40     1         40\n"
     ]
    }
   ],
   "source": [
    "print(df)\n",
    "print(\"\\n ----------------------------- \\n\")\n",
    "print(df[['Apple', 'Orange', 'Rice', 'Oil']].\n",
    "      groupby(['Apple']).agg(['mean', 'count',lambda x:np.unique(x)]))"
   ]
  },
  {
   "cell_type": "code",
   "execution_count": 45,
   "id": "0fb78987",
   "metadata": {},
   "outputs": [
    {
     "name": "stdout",
     "output_type": "stream",
     "text": [
      "      Orange           \n",
      "       means cnt unique\n",
      "Apple                  \n",
      "5          5   2      1\n",
      "6          6   1      1\n",
      "7         14   1      1\n",
      "8          8   1      1\n",
      "10        20   1      1\n"
     ]
    }
   ],
   "source": [
    "print(df[['Apple','Orange']].groupby(['Apple']).agg([('means','mean'), ('cnt','count'),('unique',lambda x:np.count_nonzero(np.unique(x)))]))"
   ]
  }
 ],
 "metadata": {
  "kernelspec": {
   "display_name": "Python 3",
   "language": "python",
   "name": "python3"
  },
  "language_info": {
   "codemirror_mode": {
    "name": "ipython",
    "version": 3
   },
   "file_extension": ".py",
   "mimetype": "text/x-python",
   "name": "python",
   "nbconvert_exporter": "python",
   "pygments_lexer": "ipython3",
   "version": "3.7.6"
  }
 },
 "nbformat": 4,
 "nbformat_minor": 5
}
