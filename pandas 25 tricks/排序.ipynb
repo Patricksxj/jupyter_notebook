{
 "cells": [
  {
   "cell_type": "code",
   "execution_count": 30,
   "id": "a1ecf1c8",
   "metadata": {},
   "outputs": [],
   "source": [
    "import pandas as pd\n",
    " \n",
    "employees = pd.DataFrame({\n",
    "    'EmpCode': ['Emp001', 'Emp002', 'Emp003', 'Emp004', 'Emp005'],\n",
    "    'Name': ['John', 'Doe', 'William', 'Spark', 'Mark'],\n",
    "    'Occupation': ['Chemist', 'Statistician', 'Statistician',\n",
    "                   'Statistician', 'Programmer'],\n",
    "    'Date Of Join': ['2018-01-25', '2018-01-26', '2018-01-26', '2018-02-26',\n",
    "                     '2018-03-16'],\n",
    "    'Age': [23, 24, 34, 29, 40]}) "
   ]
  },
  {
   "cell_type": "code",
   "execution_count": 31,
   "id": "001c6c77",
   "metadata": {},
   "outputs": [
    {
     "data": {
      "text/html": [
       "<div>\n",
       "<style scoped>\n",
       "    .dataframe tbody tr th:only-of-type {\n",
       "        vertical-align: middle;\n",
       "    }\n",
       "\n",
       "    .dataframe tbody tr th {\n",
       "        vertical-align: top;\n",
       "    }\n",
       "\n",
       "    .dataframe thead th {\n",
       "        text-align: right;\n",
       "    }\n",
       "</style>\n",
       "<table border=\"1\" class=\"dataframe\">\n",
       "  <thead>\n",
       "    <tr style=\"text-align: right;\">\n",
       "      <th></th>\n",
       "      <th>EmpCode</th>\n",
       "      <th>Name</th>\n",
       "      <th>Occupation</th>\n",
       "      <th>Date Of Join</th>\n",
       "      <th>Age</th>\n",
       "    </tr>\n",
       "  </thead>\n",
       "  <tbody>\n",
       "    <tr>\n",
       "      <th>0</th>\n",
       "      <td>Emp001</td>\n",
       "      <td>John</td>\n",
       "      <td>Chemist</td>\n",
       "      <td>2018-01-25</td>\n",
       "      <td>23</td>\n",
       "    </tr>\n",
       "    <tr>\n",
       "      <th>1</th>\n",
       "      <td>Emp002</td>\n",
       "      <td>Doe</td>\n",
       "      <td>Statistician</td>\n",
       "      <td>2018-01-26</td>\n",
       "      <td>24</td>\n",
       "    </tr>\n",
       "    <tr>\n",
       "      <th>2</th>\n",
       "      <td>Emp003</td>\n",
       "      <td>William</td>\n",
       "      <td>Statistician</td>\n",
       "      <td>2018-01-26</td>\n",
       "      <td>34</td>\n",
       "    </tr>\n",
       "    <tr>\n",
       "      <th>3</th>\n",
       "      <td>Emp004</td>\n",
       "      <td>Spark</td>\n",
       "      <td>Statistician</td>\n",
       "      <td>2018-02-26</td>\n",
       "      <td>29</td>\n",
       "    </tr>\n",
       "    <tr>\n",
       "      <th>4</th>\n",
       "      <td>Emp005</td>\n",
       "      <td>Mark</td>\n",
       "      <td>Programmer</td>\n",
       "      <td>2018-03-16</td>\n",
       "      <td>40</td>\n",
       "    </tr>\n",
       "  </tbody>\n",
       "</table>\n",
       "</div>"
      ],
      "text/plain": [
       "  EmpCode     Name    Occupation Date Of Join  Age\n",
       "0  Emp001     John       Chemist   2018-01-25   23\n",
       "1  Emp002      Doe  Statistician   2018-01-26   24\n",
       "2  Emp003  William  Statistician   2018-01-26   34\n",
       "3  Emp004    Spark  Statistician   2018-02-26   29\n",
       "4  Emp005     Mark    Programmer   2018-03-16   40"
      ]
     },
     "execution_count": 31,
     "metadata": {},
     "output_type": "execute_result"
    }
   ],
   "source": [
    "employees"
   ]
  },
  {
   "cell_type": "code",
   "execution_count": 32,
   "id": "a09a29ad",
   "metadata": {},
   "outputs": [],
   "source": [
    "employees=employees.loc[employees['Date Of Join'].sort_values(ascending=False).index]"
   ]
  },
  {
   "cell_type": "code",
   "execution_count": 33,
   "id": "aa394750",
   "metadata": {
    "scrolled": true
   },
   "outputs": [
    {
     "data": {
      "text/html": [
       "<div>\n",
       "<style scoped>\n",
       "    .dataframe tbody tr th:only-of-type {\n",
       "        vertical-align: middle;\n",
       "    }\n",
       "\n",
       "    .dataframe tbody tr th {\n",
       "        vertical-align: top;\n",
       "    }\n",
       "\n",
       "    .dataframe thead th {\n",
       "        text-align: right;\n",
       "    }\n",
       "</style>\n",
       "<table border=\"1\" class=\"dataframe\">\n",
       "  <thead>\n",
       "    <tr style=\"text-align: right;\">\n",
       "      <th></th>\n",
       "      <th>EmpCode</th>\n",
       "      <th>Name</th>\n",
       "      <th>Occupation</th>\n",
       "      <th>Date Of Join</th>\n",
       "      <th>Age</th>\n",
       "    </tr>\n",
       "  </thead>\n",
       "  <tbody>\n",
       "    <tr>\n",
       "      <th>4</th>\n",
       "      <td>Emp005</td>\n",
       "      <td>Mark</td>\n",
       "      <td>Programmer</td>\n",
       "      <td>2018-03-16</td>\n",
       "      <td>40</td>\n",
       "    </tr>\n",
       "    <tr>\n",
       "      <th>3</th>\n",
       "      <td>Emp004</td>\n",
       "      <td>Spark</td>\n",
       "      <td>Statistician</td>\n",
       "      <td>2018-02-26</td>\n",
       "      <td>29</td>\n",
       "    </tr>\n",
       "    <tr>\n",
       "      <th>1</th>\n",
       "      <td>Emp002</td>\n",
       "      <td>Doe</td>\n",
       "      <td>Statistician</td>\n",
       "      <td>2018-01-26</td>\n",
       "      <td>24</td>\n",
       "    </tr>\n",
       "    <tr>\n",
       "      <th>2</th>\n",
       "      <td>Emp003</td>\n",
       "      <td>William</td>\n",
       "      <td>Statistician</td>\n",
       "      <td>2018-01-26</td>\n",
       "      <td>34</td>\n",
       "    </tr>\n",
       "    <tr>\n",
       "      <th>0</th>\n",
       "      <td>Emp001</td>\n",
       "      <td>John</td>\n",
       "      <td>Chemist</td>\n",
       "      <td>2018-01-25</td>\n",
       "      <td>23</td>\n",
       "    </tr>\n",
       "  </tbody>\n",
       "</table>\n",
       "</div>"
      ],
      "text/plain": [
       "  EmpCode     Name    Occupation Date Of Join  Age\n",
       "4  Emp005     Mark    Programmer   2018-03-16   40\n",
       "3  Emp004    Spark  Statistician   2018-02-26   29\n",
       "1  Emp002      Doe  Statistician   2018-01-26   24\n",
       "2  Emp003  William  Statistician   2018-01-26   34\n",
       "0  Emp001     John       Chemist   2018-01-25   23"
      ]
     },
     "execution_count": 33,
     "metadata": {},
     "output_type": "execute_result"
    }
   ],
   "source": [
    "employees"
   ]
  }
 ],
 "metadata": {
  "kernelspec": {
   "display_name": "Python 3",
   "language": "python",
   "name": "python3"
  },
  "language_info": {
   "codemirror_mode": {
    "name": "ipython",
    "version": 3
   },
   "file_extension": ".py",
   "mimetype": "text/x-python",
   "name": "python",
   "nbconvert_exporter": "python",
   "pygments_lexer": "ipython3",
   "version": "3.7.6"
  }
 },
 "nbformat": 4,
 "nbformat_minor": 5
}
