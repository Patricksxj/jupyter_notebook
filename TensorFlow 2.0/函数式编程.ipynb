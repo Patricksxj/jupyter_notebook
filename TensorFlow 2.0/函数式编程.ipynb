{
 "cells": [
  {
   "cell_type": "code",
   "execution_count": 1,
   "metadata": {
    "ExecuteTime": {
     "end_time": "2019-11-23T03:38:49.494459Z",
     "start_time": "2019-11-23T03:38:46.099265Z"
    }
   },
   "outputs": [],
   "source": [
    "import tensorflow as tf\n",
    "from tensorflow import keras\n",
    "import numpy as np\n",
    "import matplotlib.pyplot as plt"
   ]
  },
  {
   "cell_type": "code",
   "execution_count": 2,
   "metadata": {
    "ExecuteTime": {
     "end_time": "2019-11-23T03:38:49.533461Z",
     "start_time": "2019-11-23T03:38:49.496459Z"
    }
   },
   "outputs": [],
   "source": [
    "data=keras.datasets.fashion_mnist"
   ]
  },
  {
   "cell_type": "code",
   "execution_count": 3,
   "metadata": {
    "ExecuteTime": {
     "end_time": "2019-11-23T03:38:49.954485Z",
     "start_time": "2019-11-23T03:38:49.534461Z"
    }
   },
   "outputs": [],
   "source": [
    "(train_images,train_labels),(test_images,test_labels)=data.load_data()"
   ]
  },
  {
   "cell_type": "code",
   "execution_count": 4,
   "metadata": {
    "ExecuteTime": {
     "end_time": "2019-11-23T03:38:50.197499Z",
     "start_time": "2019-11-23T03:38:49.955485Z"
    }
   },
   "outputs": [],
   "source": [
    "train_images=train_images/255.0\n",
    "test_images=test_images/255.0"
   ]
  },
  {
   "cell_type": "code",
   "execution_count": 5,
   "metadata": {
    "ExecuteTime": {
     "end_time": "2019-11-23T03:40:24.845913Z",
     "start_time": "2019-11-23T03:40:24.836912Z"
    }
   },
   "outputs": [],
   "source": [
    "input=keras.Input(shape=(28,28))"
   ]
  },
  {
   "cell_type": "code",
   "execution_count": 7,
   "metadata": {
    "ExecuteTime": {
     "end_time": "2019-11-23T03:46:22.345361Z",
     "start_time": "2019-11-23T03:46:22.336360Z"
    }
   },
   "outputs": [],
   "source": [
    "x=keras.layers.Flatten()(input)"
   ]
  },
  {
   "cell_type": "code",
   "execution_count": 10,
   "metadata": {
    "ExecuteTime": {
     "end_time": "2019-11-23T03:46:44.049602Z",
     "start_time": "2019-11-23T03:46:40.125377Z"
    }
   },
   "outputs": [],
   "source": [
    "x=keras.layers.Dense(256,activation='relu')(x)"
   ]
  },
  {
   "cell_type": "code",
   "execution_count": 11,
   "metadata": {
    "ExecuteTime": {
     "end_time": "2019-11-23T03:46:47.706811Z",
     "start_time": "2019-11-23T03:46:47.676809Z"
    }
   },
   "outputs": [],
   "source": [
    "x=keras.layers.Dense(128,activation='relu')(x)"
   ]
  },
  {
   "cell_type": "code",
   "execution_count": 12,
   "metadata": {
    "ExecuteTime": {
     "end_time": "2019-11-23T03:46:52.407080Z",
     "start_time": "2019-11-23T03:46:52.388079Z"
    }
   },
   "outputs": [],
   "source": [
    "x=keras.layers.Dense(128,activation='relu')(x)"
   ]
  },
  {
   "cell_type": "code",
   "execution_count": 13,
   "metadata": {
    "ExecuteTime": {
     "end_time": "2019-11-23T03:46:54.128178Z",
     "start_time": "2019-11-23T03:46:54.086176Z"
    }
   },
   "outputs": [],
   "source": [
    "x=keras.layers.Dropout(0.2)(x)"
   ]
  },
  {
   "cell_type": "code",
   "execution_count": 14,
   "metadata": {
    "ExecuteTime": {
     "end_time": "2019-11-23T03:46:55.312246Z",
     "start_time": "2019-11-23T03:46:55.272244Z"
    }
   },
   "outputs": [],
   "source": [
    "output=keras.layers.Dense(10,activation='softmax')(x)"
   ]
  },
  {
   "cell_type": "code",
   "execution_count": 15,
   "metadata": {
    "ExecuteTime": {
     "end_time": "2019-11-23T03:46:56.316304Z",
     "start_time": "2019-11-23T03:46:56.303303Z"
    }
   },
   "outputs": [],
   "source": [
    "model=keras.Model(inputs=input,outputs=output)\n"
   ]
  },
  {
   "cell_type": "code",
   "execution_count": 16,
   "metadata": {
    "ExecuteTime": {
     "end_time": "2019-11-23T03:47:03.683725Z",
     "start_time": "2019-11-23T03:47:03.655723Z"
    }
   },
   "outputs": [
    {
     "name": "stdout",
     "output_type": "stream",
     "text": [
      "Model: \"model\"\n",
      "_________________________________________________________________\n",
      "Layer (type)                 Output Shape              Param #   \n",
      "=================================================================\n",
      "input_1 (InputLayer)         [(None, 28, 28)]          0         \n",
      "_________________________________________________________________\n",
      "flatten_1 (Flatten)          (None, 784)               0         \n",
      "_________________________________________________________________\n",
      "dense_2 (Dense)              (None, 256)               200960    \n",
      "_________________________________________________________________\n",
      "dense_3 (Dense)              (None, 128)               32896     \n",
      "_________________________________________________________________\n",
      "dense_4 (Dense)              (None, 128)               16512     \n",
      "_________________________________________________________________\n",
      "dropout (Dropout)            (None, 128)               0         \n",
      "_________________________________________________________________\n",
      "dense_5 (Dense)              (None, 10)                1290      \n",
      "=================================================================\n",
      "Total params: 251,658\n",
      "Trainable params: 251,658\n",
      "Non-trainable params: 0\n",
      "_________________________________________________________________\n"
     ]
    }
   ],
   "source": [
    "model.summary()"
   ]
  },
  {
   "cell_type": "code",
   "execution_count": 17,
   "metadata": {
    "ExecuteTime": {
     "end_time": "2019-11-23T03:49:03.209561Z",
     "start_time": "2019-11-23T03:48:03.245132Z"
    }
   },
   "outputs": [
    {
     "name": "stdout",
     "output_type": "stream",
     "text": [
      "Train on 60000 samples\n",
      "Epoch 1/10\n",
      "60000/60000 [==============================] - 7s 111us/sample - loss: 0.5084 - accuracy: 0.8166\n",
      "Epoch 2/10\n",
      "60000/60000 [==============================] - 6s 97us/sample - loss: 0.3760 - accuracy: 0.8633\n",
      "Epoch 3/10\n",
      "60000/60000 [==============================] - 6s 103us/sample - loss: 0.3393 - accuracy: 0.8752\n",
      "Epoch 4/10\n",
      "60000/60000 [==============================] - 6s 98us/sample - loss: 0.3170 - accuracy: 0.8834\n",
      "Epoch 5/10\n",
      "60000/60000 [==============================] - 6s 97us/sample - loss: 0.2979 - accuracy: 0.8900\n",
      "Epoch 6/10\n",
      "60000/60000 [==============================] - 6s 97us/sample - loss: 0.2845 - accuracy: 0.8945\n",
      "Epoch 7/10\n",
      "60000/60000 [==============================] - 6s 98us/sample - loss: 0.2696 - accuracy: 0.9001\n",
      "Epoch 8/10\n",
      "60000/60000 [==============================] - 6s 97us/sample - loss: 0.2598 - accuracy: 0.9029\n",
      "Epoch 9/10\n",
      "60000/60000 [==============================] - 6s 97us/sample - loss: 0.2510 - accuracy: 0.9055\n",
      "Epoch 10/10\n",
      "60000/60000 [==============================] - 6s 97us/sample - loss: 0.2417 - accuracy: 0.9094\n"
     ]
    }
   ],
   "source": [
    "model.compile(optimizer='adam',loss='sparse_categorical_crossentropy',metrics=['accuracy'])\n",
    "model.fit(train_images,train_labels,epochs=10)\n",
    "prediction=model.predict(test_images)"
   ]
  },
  {
   "cell_type": "code",
   "execution_count": null,
   "metadata": {},
   "outputs": [],
   "source": []
  },
  {
   "cell_type": "code",
   "execution_count": null,
   "metadata": {},
   "outputs": [],
   "source": []
  },
  {
   "cell_type": "code",
   "execution_count": null,
   "metadata": {},
   "outputs": [],
   "source": []
  }
 ],
 "metadata": {
  "kernelspec": {
   "display_name": "Python 3",
   "language": "python",
   "name": "python3"
  },
  "language_info": {
   "codemirror_mode": {
    "name": "ipython",
    "version": 3
   },
   "file_extension": ".py",
   "mimetype": "text/x-python",
   "name": "python",
   "nbconvert_exporter": "python",
   "pygments_lexer": "ipython3",
   "version": "3.7.4"
  }
 },
 "nbformat": 4,
 "nbformat_minor": 2
}
