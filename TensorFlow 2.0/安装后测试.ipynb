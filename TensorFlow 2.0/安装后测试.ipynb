{
 "cells": [
  {
   "cell_type": "code",
   "execution_count": 1,
   "metadata": {
    "ExecuteTime": {
     "end_time": "2019-12-07T06:27:07.971321Z",
     "start_time": "2019-12-07T06:26:46.273080Z"
    }
   },
   "outputs": [],
   "source": [
    "import tensorflow as tf"
   ]
  },
  {
   "cell_type": "code",
   "execution_count": 2,
   "metadata": {},
   "outputs": [
    {
     "data": {
      "text/plain": [
       "'2.3.0'"
      ]
     },
     "execution_count": 2,
     "metadata": {},
     "output_type": "execute_result"
    }
   ],
   "source": [
    "tf.__version__"
   ]
  },
  {
   "cell_type": "code",
   "execution_count": 6,
   "metadata": {},
   "outputs": [
    {
     "data": {
      "text/plain": [
       "True"
      ]
     },
     "execution_count": 6,
     "metadata": {},
     "output_type": "execute_result"
    }
   ],
   "source": [
    "tf.test.is_gpu_available()"
   ]
  },
  {
   "cell_type": "code",
   "execution_count": 7,
   "metadata": {
    "ExecuteTime": {
     "end_time": "2019-12-07T06:27:51.585815Z",
     "start_time": "2019-12-07T06:27:24.496266Z"
    }
   },
   "outputs": [],
   "source": [
    "x = tf.constant(range(12))"
   ]
  },
  {
   "cell_type": "code",
   "execution_count": 8,
   "metadata": {
    "ExecuteTime": {
     "end_time": "2019-12-07T06:27:56.934121Z",
     "start_time": "2019-12-07T06:27:56.894119Z"
    }
   },
   "outputs": [
    {
     "name": "stdout",
     "output_type": "stream",
     "text": [
      "tf.Tensor([ 0  1  2  3  4  5  6  7  8  9 10 11], shape=(12,), dtype=int32)\n"
     ]
    }
   ],
   "source": [
    "print(x)"
   ]
  },
  {
   "cell_type": "code",
   "execution_count": null,
   "metadata": {
    "ExecuteTime": {
     "end_time": "2019-12-07T06:28:11.748969Z",
     "start_time": "2019-12-07T06:28:11.722967Z"
    }
   },
   "outputs": [],
   "source": [
    "len(x)"
   ]
  },
  {
   "cell_type": "code",
   "execution_count": null,
   "metadata": {
    "ExecuteTime": {
     "end_time": "2019-12-07T06:39:30.598797Z",
     "start_time": "2019-12-07T06:39:30.587796Z"
    }
   },
   "outputs": [],
   "source": [
    "tf.reshape(x,(3,4))"
   ]
  },
  {
   "cell_type": "code",
   "execution_count": null,
   "metadata": {
    "ExecuteTime": {
     "end_time": "2019-12-07T06:34:30.191614Z",
     "start_time": "2019-12-07T06:34:30.118610Z"
    }
   },
   "outputs": [],
   "source": [
    "tf.zeros((3,4))"
   ]
  },
  {
   "cell_type": "code",
   "execution_count": null,
   "metadata": {
    "ExecuteTime": {
     "end_time": "2019-12-07T06:39:44.478591Z",
     "start_time": "2019-12-07T06:39:44.474590Z"
    }
   },
   "outputs": [],
   "source": [
    "X = tf.reshape(x,(3,4))\n",
    "X"
   ]
  },
  {
   "cell_type": "code",
   "execution_count": null,
   "metadata": {
    "ExecuteTime": {
     "end_time": "2019-12-07T06:39:37.693203Z",
     "start_time": "2019-12-07T06:39:37.667201Z"
    },
    "scrolled": true
   },
   "outputs": [],
   "source": [
    "Y = tf.constant([[2,1,4,3],[1,2,3,4],[4,3,2,1]])\n",
    "Y"
   ]
  },
  {
   "cell_type": "code",
   "execution_count": null,
   "metadata": {
    "ExecuteTime": {
     "end_time": "2019-12-07T06:41:20.852103Z",
     "start_time": "2019-12-07T06:41:20.833102Z"
    }
   },
   "outputs": [],
   "source": [
    "tf.transpose(X)"
   ]
  },
  {
   "cell_type": "code",
   "execution_count": null,
   "metadata": {
    "ExecuteTime": {
     "end_time": "2019-12-07T06:40:47.953221Z",
     "start_time": "2019-12-07T06:40:47.644203Z"
    }
   },
   "outputs": [],
   "source": [
    "tf.matmul(Y,tf.transpose(X))"
   ]
  },
  {
   "cell_type": "code",
   "execution_count": null,
   "metadata": {
    "ExecuteTime": {
     "end_time": "2019-12-07T06:52:08.210130Z",
     "start_time": "2019-12-07T06:52:08.202129Z"
    }
   },
   "outputs": [],
   "source": [
    "X.shape,Y.shape"
   ]
  },
  {
   "cell_type": "code",
   "execution_count": null,
   "metadata": {
    "ExecuteTime": {
     "end_time": "2019-12-07T06:53:32.323941Z",
     "start_time": "2019-12-07T06:53:32.214934Z"
    }
   },
   "outputs": [],
   "source": [
    "tf.concat([X,Y],axis=1)"
   ]
  },
  {
   "cell_type": "code",
   "execution_count": null,
   "metadata": {
    "ExecuteTime": {
     "end_time": "2019-12-07T06:53:41.393459Z",
     "start_time": "2019-12-07T06:53:41.381459Z"
    }
   },
   "outputs": [],
   "source": [
    "tf.concat([X,Y],axis=0)"
   ]
  },
  {
   "cell_type": "code",
   "execution_count": null,
   "metadata": {},
   "outputs": [],
   "source": [
    "Y = tf.cast(Y, tf.int32)\n",
    "tf.matmul(X, tf.transpose(Y))"
   ]
  },
  {
   "cell_type": "code",
   "execution_count": null,
   "metadata": {
    "ExecuteTime": {
     "end_time": "2019-12-07T07:04:26.487357Z",
     "start_time": "2019-12-07T07:04:26.107335Z"
    }
   },
   "outputs": [],
   "source": [
    "x = tf.reshape(tf.Variable(range(4), dtype=tf.float32),(4,1))\n",
    "x"
   ]
  },
  {
   "cell_type": "code",
   "execution_count": null,
   "metadata": {
    "ExecuteTime": {
     "end_time": "2019-12-07T07:07:18.154175Z",
     "start_time": "2019-12-07T07:07:18.065170Z"
    }
   },
   "outputs": [],
   "source": [
    "with tf.GradientTape() as t:\n",
    "    t.watch(x)\n",
    "    y = 2 * tf.matmul(tf.transpose(x), tf.ones((4,4)))\n",
    "    \n",
    "dy_dx = t.gradient(y, x)\n",
    "dy_dx"
   ]
  },
  {
   "cell_type": "code",
   "execution_count": null,
   "metadata": {
    "ExecuteTime": {
     "end_time": "2019-12-07T07:08:05.551886Z",
     "start_time": "2019-12-07T07:08:05.533885Z"
    }
   },
   "outputs": [],
   "source": [
    "tf.ones((4,4))"
   ]
  },
  {
   "cell_type": "code",
   "execution_count": null,
   "metadata": {
    "ExecuteTime": {
     "end_time": "2019-12-07T07:08:18.373620Z",
     "start_time": "2019-12-07T07:08:18.358619Z"
    }
   },
   "outputs": [],
   "source": [
    "tf.transpose(x)"
   ]
  },
  {
   "cell_type": "code",
   "execution_count": null,
   "metadata": {
    "ExecuteTime": {
     "end_time": "2019-12-07T07:37:13.126842Z",
     "start_time": "2019-12-07T07:37:12.949832Z"
    }
   },
   "outputs": [],
   "source": [
    "num_inputs = 2\n",
    "num_examples = 1000\n",
    "true_w = [2, -3.4]\n",
    "true_b = 4.2\n",
    "features = tf.random.normal((num_examples, num_inputs),stddev = 1)\n",
    "labels = true_w[0] * features[:,0] + true_w[1] * features[:,1] + true_b\n",
    "labels += tf.random.normal(labels.shape,stddev=0.01)"
   ]
  },
  {
   "cell_type": "code",
   "execution_count": null,
   "metadata": {
    "ExecuteTime": {
     "end_time": "2019-12-07T07:38:11.220165Z",
     "start_time": "2019-12-07T07:38:11.193163Z"
    }
   },
   "outputs": [],
   "source": [
    "labels"
   ]
  },
  {
   "cell_type": "code",
   "execution_count": null,
   "metadata": {
    "ExecuteTime": {
     "end_time": "2019-12-07T07:38:17.583529Z",
     "start_time": "2019-12-07T07:38:17.571528Z"
    }
   },
   "outputs": [],
   "source": [
    "features"
   ]
  },
  {
   "cell_type": "code",
   "execution_count": null,
   "metadata": {
    "ExecuteTime": {
     "end_time": "2019-12-07T07:39:00.074959Z",
     "start_time": "2019-12-07T07:39:00.066959Z"
    }
   },
   "outputs": [],
   "source": [
    "num_examples = len(features)\n",
    "indices = list(range(num_examples))"
   ]
  },
  {
   "cell_type": "code",
   "execution_count": null,
   "metadata": {
    "ExecuteTime": {
     "end_time": "2019-12-07T07:39:05.934294Z",
     "start_time": "2019-12-07T07:39:05.904293Z"
    }
   },
   "outputs": [],
   "source": [
    "indices"
   ]
  },
  {
   "cell_type": "code",
   "execution_count": null,
   "metadata": {
    "ExecuteTime": {
     "end_time": "2019-12-07T07:39:24.203339Z",
     "start_time": "2019-12-07T07:39:24.194339Z"
    }
   },
   "outputs": [],
   "source": [
    "import random\n",
    "random.shuffle(indices)"
   ]
  },
  {
   "cell_type": "code",
   "execution_count": null,
   "metadata": {
    "ExecuteTime": {
     "end_time": "2019-12-07T07:39:31.901779Z",
     "start_time": "2019-12-07T07:39:31.874778Z"
    }
   },
   "outputs": [],
   "source": [
    "indices"
   ]
  },
  {
   "cell_type": "code",
   "execution_count": null,
   "metadata": {},
   "outputs": [],
   "source": [
    "import numpy as np\n",
    "def data_iter(batch_size, features, labels):\n",
    "    features = np.array(features)\n",
    "    labels = np.array(labels)\n",
    "    num_examples = len(features)\n",
    "    indices = list(range(num_examples))\n",
    "    random.shuffle(indices)\n",
    "    for i in range(0, num_examples, batch_size):\n",
    "        j = np.array(indices[i:min(i + batch_size, num_examples)])\n",
    "        yield features[j], labels[j]"
   ]
  },
  {
   "cell_type": "code",
   "execution_count": null,
   "metadata": {},
   "outputs": [],
   "source": [
    "import numpy as np\n",
    "def data_iter(batch_size, features, labels):\n",
    "    features = np.array(features)\n",
    "    labels = np.array(labels)\n",
    "    num_examples = len(features)\n",
    "    indices = list(range(num_examples))\n",
    "    random.shuffle(indices)\n",
    "    for i in range(0, num_examples, batch_size):\n",
    "        j = np.array(indices[i:min(i + batch_size, num_examples)])\n",
    "        yield features[j], labels[j]"
   ]
  },
  {
   "cell_type": "code",
   "execution_count": null,
   "metadata": {},
   "outputs": [],
   "source": []
  },
  {
   "cell_type": "code",
   "execution_count": null,
   "metadata": {},
   "outputs": [],
   "source": []
  },
  {
   "cell_type": "code",
   "execution_count": null,
   "metadata": {},
   "outputs": [],
   "source": []
  },
  {
   "cell_type": "code",
   "execution_count": null,
   "metadata": {},
   "outputs": [],
   "source": []
  }
 ],
 "metadata": {
  "kernelspec": {
   "display_name": "Python 3",
   "language": "python",
   "name": "python3"
  },
  "language_info": {
   "codemirror_mode": {
    "name": "ipython",
    "version": 3
   },
   "file_extension": ".py",
   "mimetype": "text/x-python",
   "name": "python",
   "nbconvert_exporter": "python",
   "pygments_lexer": "ipython3",
   "version": "3.7.6"
  }
 },
 "nbformat": 4,
 "nbformat_minor": 2
}
