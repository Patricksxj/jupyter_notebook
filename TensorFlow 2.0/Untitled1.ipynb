{
 "cells": [
  {
   "cell_type": "code",
   "execution_count": 5,
   "metadata": {
    "ExecuteTime": {
     "end_time": "2019-12-08T08:55:12.372184Z",
     "start_time": "2019-12-08T08:55:01.374555Z"
    }
   },
   "outputs": [
    {
     "data": {
      "text/plain": [
       "True"
      ]
     },
     "execution_count": 5,
     "metadata": {},
     "output_type": "execute_result"
    }
   ],
   "source": [
    "# 导入 TensorFlow 和 TensorFlow Eager\n",
    "import tensorflow as tf\n",
    "\n",
    "# 导入函数来生成玩具分类问题\n",
    "from sklearn.datasets import load_wine\n",
    "from sklearn.datasets import make_classification\n",
    "from sklearn.datasets import make_regression\n",
    "\n",
    "# 为数据预处理导入 numpy\n",
    "import numpy as np\n",
    "\n",
    "# 导入绘图库\n",
    "import matplotlib.pyplot as plt\n",
    "%matplotlib inline\n",
    "\n",
    "# 为降维导入 PCA\n",
    "from sklearn.decomposition import PCA\n",
    "\n",
    "# 开启 Eager 模式。一旦开启不能撤销！只执行一次。\n",
    "tf.executing_eagerly()"
   ]
  },
  {
   "cell_type": "code",
   "execution_count": 6,
   "metadata": {
    "ExecuteTime": {
     "end_time": "2019-12-08T08:55:39.922760Z",
     "start_time": "2019-12-08T08:55:39.698747Z"
    }
   },
   "outputs": [
    {
     "name": "stdout",
     "output_type": "stream",
     "text": [
      "Type of data in the wine_data dictionary:  ['data', 'target', 'target_names', 'DESCR', 'feature_names']\n",
      "Number of classes:  3\n",
      "Distribution of our targets:  [59 71 48]\n",
      "Number of features in the dataset:  13\n"
     ]
    }
   ],
   "source": [
    "wine_data = load_wine()\n",
    "\n",
    "print('Type of data in the wine_data dictionary: ', list(wine_data.keys()))\n",
    "'''\n",
    "Type of data in the wine_data dictionary:  ['data', 'target', 'target_names', 'DESCR', 'feature_names']\n",
    "'''\n",
    "\n",
    "print('Number of classes: ', len(np.unique(wine_data.target)))\n",
    "# Number of classes:  3\n",
    "\n",
    "print('Distribution of our targets: ', np.unique(wine_data.target, return_counts=True)[1])\n",
    "# Distribution of our targets:  [59 71 48]\n",
    "\n",
    "print('Number of features in the dataset: ', wine_data.data.shape[1])\n",
    "# Number of features in the dataset:  13"
   ]
  },
  {
   "cell_type": "code",
   "execution_count": 7,
   "metadata": {
    "ExecuteTime": {
     "end_time": "2019-12-08T08:55:49.558311Z",
     "start_time": "2019-12-08T08:55:49.530310Z"
    }
   },
   "outputs": [
    {
     "name": "stdout",
     "output_type": "stream",
     "text": [
      "Standard deviation of each feature after standardization:  [1. 1. 1. 1. 1. 1. 1. 1. 1. 1. 1. 1. 1.]\n"
     ]
    }
   ],
   "source": [
    "# 数据集标准化\n",
    "wine_data.data = (wine_data.data - np.mean(wine_data.data, axis=0))/np.std(wine_data.data, axis=0)\n",
    "\n",
    "print('Standard deviation of each feature after standardization: ', np.std(wine_data.data, axis=0))\n",
    "# Standard deviation of each feature after standardization:  [1. 1. 1. 1. 1. 1. 1. 1. 1. 1. 1. 1. 1.]"
   ]
  },
  {
   "cell_type": "code",
   "execution_count": 8,
   "metadata": {
    "ExecuteTime": {
     "end_time": "2019-12-08T08:56:01.649003Z",
     "start_time": "2019-12-08T08:55:59.865901Z"
    }
   },
   "outputs": [
    {
     "data": {
      "image/png": "[encoded data removed]",
      "text/plain": [
       "<Figure size 432x288 with 1 Axes>"
      ]
     },
     "metadata": {
      "needs_background": "light"
     },
     "output_type": "display_data"
    }
   ],
   "source": [
    "X_pca = PCA(n_components=2, random_state=2018).fit_transform(wine_data.data)\n",
    "\n",
    "plt.scatter(X_pca[:,0], X_pca[:,1], c=wine_data.target, cmap=plt.cm.spring)\n",
    "plt.xlabel('First PCA component', fontsize=15)\n",
    "plt.ylabel('Second PCA component', fontsize=15)\n",
    "plt.title('Multi-classification problem', fontsize=15)\n",
    "plt.show()"
   ]
  },
  {
   "cell_type": "code",
   "execution_count": 9,
   "metadata": {
    "ExecuteTime": {
     "end_time": "2019-12-08T08:56:18.534969Z",
     "start_time": "2019-12-08T08:56:18.521968Z"
    }
   },
   "outputs": [],
   "source": [
    "class two_layer_nn(tf.keras.Model):\n",
    "    def __init__(self, output_size=2, loss_type='cross-entropy'):\n",
    "        super(two_layer_nn, self).__init__()\n",
    "        \"\"\" 在这里定义正向传播期间\n",
    "            使用的神经网络层     \n",
    "            Args:\n",
    "                output_size: int (default=2). \n",
    "                loss_type: string, 'cross-entropy' or 'regression' (default='cross-entropy')\n",
    "        \"\"\"   \n",
    "        # 第一个隐层\n",
    "        self.dense_1 = tf.layers.Dense(20, activation=tf.nn.relu)\n",
    "        # 第二个隐层\n",
    "        self.dense_2 = tf.layers.Dense(10, activation=tf.nn.relu)\n",
    "        # 输出层，未缩放的对数概率\n",
    "        self.dense_out = tf.layers.Dense(output_size, activation=None)     \n",
    "        # 初始化损失类型\n",
    "        self.loss_type = loss_type\n",
    "    \n",
    "    def predict(self, input_data):\n",
    "        \"\"\" 在神经网络上执行正向传播     \n",
    "            Args:\n",
    "                input_data: 2D tensor of shape (n_samples, n_features).   \n",
    "            Returns:\n",
    "                logits: unnormalized predictions.\n",
    "        \"\"\"\n",
    "        layer_1 = self.dense_1(input_data)\n",
    "        layer_2 = self.dense_2(layer_1)\n",
    "        logits = self.dense_out(layer_2)\n",
    "        return logits\n",
    "    \n",
    "    def loss_fn(self, input_data, target):\n",
    "        \"\"\" 定义训练期间使用的损失函数\n",
    "        \"\"\"\n",
    "        preds = self.predict(input_data)\n",
    "        if self.loss_type=='cross-entropy':\n",
    "            loss = tf.losses.sparse_softmax_cross_entropy(labels=target, logits=preds)\n",
    "        else:\n",
    "            loss = tf.losses.mean_squared_error(target, preds)\n",
    "        return loss\n",
    "    \n",
    "    def grads_fn(self, input_data, target):\n",
    "        \"\"\" 在每个正向步骤中，\n",
    "            动态计算损失值对模型参数的梯度\n",
    "        \"\"\"\n",
    "        with tfe.GradientTape() as tape:\n",
    "            loss = self.loss_fn(input_data, target)\n",
    "        return tape.gradient(loss, self.variables)\n",
    "    \n",
    "    def fit(self, input_data, target, optimizer, num_epochs=500, \n",
    "            verbose=50, track_accuracy=True):\n",
    "        \"\"\" 用于训练模型的函数，\n",
    "            使用所选的优化器，执行所需数量的迭代\n",
    "        \"\"\"   \n",
    "        \n",
    "        if track_accuracy:\n",
    "            # Initialize list to store the accuracy of the model\n",
    "            self.hist_accuracy = []     \n",
    "            # Initialize class to compute the accuracy metric\n",
    "            accuracy = tfe.metrics.Accuracy()\n",
    "\n",
    "        for i in range(num_epochs):\n",
    "            # Take a step of gradient descent\n",
    "            grads = self.grads_fn(input_data, target)\n",
    "            optimizer.apply_gradients(zip(grads, self.variables))\n",
    "            if track_accuracy:\n",
    "                # Predict targets after taking a step of gradient descent\n",
    "                logits = self.predict(X)\n",
    "                preds = tf.argmax(logits, axis=1)\n",
    "                # Compute the accuracy\n",
    "                accuracy(preds, target)\n",
    "                # Get the actual result and add it to our list\n",
    "                self.hist_accuracy.append(accuracy.result())\n",
    "                # Reset accuracy value (we don't want to track the running mean accuracy)\n",
    "                accuracy.init_variables()"
   ]
  },
  {
   "cell_type": "code",
   "execution_count": 10,
   "metadata": {
    "ExecuteTime": {
     "end_time": "2019-12-08T08:56:55.358075Z",
     "start_time": "2019-12-08T08:56:31.730723Z"
    }
   },
   "outputs": [
    {
     "ename": "AttributeError",
     "evalue": "module 'tensorflow_core._api.v2.train' has no attribute 'GradientDescentOptimizer'",
     "output_type": "error",
     "traceback": [
      "\u001b[1;31m---------------------------------------------------------------------------\u001b[0m",
      "\u001b[1;31mAttributeError\u001b[0m                            Traceback (most recent call last)",
      "\u001b[1;32m<ipython-input-10-1c03aa6079a2>\u001b[0m in \u001b[0;36m<module>\u001b[1;34m\u001b[0m\n\u001b[0;32m      4\u001b[0m \u001b[1;33m\u001b[0m\u001b[0m\n\u001b[0;32m      5\u001b[0m \u001b[1;31m# 定义优化器\u001b[0m\u001b[1;33m\u001b[0m\u001b[1;33m\u001b[0m\u001b[1;33m\u001b[0m\u001b[0m\n\u001b[1;32m----> 6\u001b[1;33m \u001b[0moptimizer\u001b[0m \u001b[1;33m=\u001b[0m \u001b[0mtf\u001b[0m\u001b[1;33m.\u001b[0m\u001b[0mtrain\u001b[0m\u001b[1;33m.\u001b[0m\u001b[0mGradientDescentOptimizer\u001b[0m\u001b[1;33m(\u001b[0m\u001b[1;36m5e-1\u001b[0m\u001b[1;33m)\u001b[0m\u001b[1;33m\u001b[0m\u001b[1;33m\u001b[0m\u001b[0m\n\u001b[0m\u001b[0;32m      7\u001b[0m \u001b[1;33m\u001b[0m\u001b[0m\n\u001b[0;32m      8\u001b[0m \u001b[1;31m# 初始化模型\u001b[0m\u001b[1;33m\u001b[0m\u001b[1;33m\u001b[0m\u001b[1;33m\u001b[0m\u001b[0m\n",
      "\u001b[1;31mAttributeError\u001b[0m: module 'tensorflow_core._api.v2.train' has no attribute 'GradientDescentOptimizer'"
     ]
    }
   ],
   "source": [
    "# 创建输入特征和标签。将数据从 numpy 转换为张量\n",
    "X = tf.constant(wine_data.data)\n",
    "y = tf.constant(wine_data.target)\n",
    "\n",
    "# 定义优化器\n",
    "optimizer = tf.train.GradientDescentOptimizer(5e-1)\n",
    "\n",
    "# 初始化模型\n",
    "model = two_layer_nn(output_size=3)\n",
    "\n",
    "# 在这里选择迭代数量\n",
    "num_epochs = 5\n",
    "\n",
    "# 使用梯度下降训练模型\n",
    "model.fit(X, y, optimizer, num_epochs=num_epochs)\n",
    "\n",
    "plt.plot(range(num_epochs), model.hist_accuracy);\n",
    "plt.xlabel('Epoch number', fontsize=15);\n",
    "plt.ylabel('Accuracy', fontsize=15);\n",
    "plt.title('Training accuracy history', fontsize=15);"
   ]
  }
 ],
 "metadata": {
  "kernelspec": {
   "display_name": "Python 3",
   "language": "python",
   "name": "python3"
  },
  "language_info": {
   "codemirror_mode": {
    "name": "ipython",
    "version": 3
   },
   "file_extension": ".py",
   "mimetype": "text/x-python",
   "name": "python",
   "nbconvert_exporter": "python",
   "pygments_lexer": "ipython3",
   "version": "3.7.4"
  }
 },
 "nbformat": 4,
 "nbformat_minor": 2
}
