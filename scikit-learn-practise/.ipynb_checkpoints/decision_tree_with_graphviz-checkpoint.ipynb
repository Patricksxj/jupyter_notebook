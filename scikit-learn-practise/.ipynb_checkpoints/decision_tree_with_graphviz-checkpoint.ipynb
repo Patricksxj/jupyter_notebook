{
 "cells": [
  {
   "cell_type": "code",
   "execution_count": 1,
   "metadata": {},
   "outputs": [],
   "source": [
    "from sklearn.tree import DecisionTreeClassifier\n",
    "from sklearn import tree\n",
    "from sklearn.datasets import load_wine\n",
    "from sklearn.model_selection import train_test_split"
   ]
  },
  {
   "cell_type": "code",
   "execution_count": 2,
   "metadata": {},
   "outputs": [],
   "source": [
    "wine=load_wine()"
   ]
  },
  {
   "cell_type": "code",
   "execution_count": 3,
   "metadata": {},
   "outputs": [
    {
     "data": {
      "text/plain": [
       "array([[1.423e+01, 1.710e+00, 2.430e+00, ..., 1.040e+00, 3.920e+00,\n",
       "        1.065e+03],\n",
       "       [1.320e+01, 1.780e+00, 2.140e+00, ..., 1.050e+00, 3.400e+00,\n",
       "        1.050e+03],\n",
       "       [1.316e+01, 2.360e+00, 2.670e+00, ..., 1.030e+00, 3.170e+00,\n",
       "        1.185e+03],\n",
       "       ...,\n",
       "       [1.327e+01, 4.280e+00, 2.260e+00, ..., 5.900e-01, 1.560e+00,\n",
       "        8.350e+02],\n",
       "       [1.317e+01, 2.590e+00, 2.370e+00, ..., 6.000e-01, 1.620e+00,\n",
       "        8.400e+02],\n",
       "       [1.413e+01, 4.100e+00, 2.740e+00, ..., 6.100e-01, 1.600e+00,\n",
       "        5.600e+02]])"
      ]
     },
     "execution_count": 3,
     "metadata": {},
     "output_type": "execute_result"
    }
   ],
   "source": [
    "wine.data"
   ]
  },
  {
   "cell_type": "code",
   "execution_count": 4,
   "metadata": {},
   "outputs": [
    {
     "data": {
      "text/plain": [
       "array([0, 0, 0, 0, 0, 0, 0, 0, 0, 0, 0, 0, 0, 0, 0, 0, 0, 0, 0, 0, 0, 0,\n",
       "       0, 0, 0, 0, 0, 0, 0, 0, 0, 0, 0, 0, 0, 0, 0, 0, 0, 0, 0, 0, 0, 0,\n",
       "       0, 0, 0, 0, 0, 0, 0, 0, 0, 0, 0, 0, 0, 0, 0, 1, 1, 1, 1, 1, 1, 1,\n",
       "       1, 1, 1, 1, 1, 1, 1, 1, 1, 1, 1, 1, 1, 1, 1, 1, 1, 1, 1, 1, 1, 1,\n",
       "       1, 1, 1, 1, 1, 1, 1, 1, 1, 1, 1, 1, 1, 1, 1, 1, 1, 1, 1, 1, 1, 1,\n",
       "       1, 1, 1, 1, 1, 1, 1, 1, 1, 1, 1, 1, 1, 1, 1, 1, 1, 1, 1, 1, 2, 2,\n",
       "       2, 2, 2, 2, 2, 2, 2, 2, 2, 2, 2, 2, 2, 2, 2, 2, 2, 2, 2, 2, 2, 2,\n",
       "       2, 2, 2, 2, 2, 2, 2, 2, 2, 2, 2, 2, 2, 2, 2, 2, 2, 2, 2, 2, 2, 2,\n",
       "       2, 2])"
      ]
     },
     "execution_count": 4,
     "metadata": {},
     "output_type": "execute_result"
    }
   ],
   "source": [
    "wine.target"
   ]
  },
  {
   "cell_type": "code",
   "execution_count": 5,
   "metadata": {
    "scrolled": true
   },
   "outputs": [
    {
     "data": {
      "text/plain": [
       "['alcohol',\n",
       " 'malic_acid',\n",
       " 'ash',\n",
       " 'alcalinity_of_ash',\n",
       " 'magnesium',\n",
       " 'total_phenols',\n",
       " 'flavanoids',\n",
       " 'nonflavanoid_phenols',\n",
       " 'proanthocyanins',\n",
       " 'color_intensity',\n",
       " 'hue',\n",
       " 'od280/od315_of_diluted_wines',\n",
       " 'proline']"
      ]
     },
     "execution_count": 5,
     "metadata": {},
     "output_type": "execute_result"
    }
   ],
   "source": [
    "wine.feature_names"
   ]
  },
  {
   "cell_type": "code",
   "execution_count": 6,
   "metadata": {},
   "outputs": [
    {
     "data": {
      "text/plain": [
       "array(['class_0', 'class_1', 'class_2'], dtype='<U7')"
      ]
     },
     "execution_count": 6,
     "metadata": {},
     "output_type": "execute_result"
    }
   ],
   "source": [
    "wine.target_names"
   ]
  },
  {
   "cell_type": "markdown",
   "metadata": {},
   "source": [
    "### 数据拆分，训练集与测试集"
   ]
  },
  {
   "cell_type": "code",
   "execution_count": 7,
   "metadata": {},
   "outputs": [],
   "source": [
    "xtrain,xtest,ytrain,ytest=train_test_split(wine.data,wine.target,test_size=0.3)"
   ]
  },
  {
   "cell_type": "code",
   "execution_count": 8,
   "metadata": {},
   "outputs": [],
   "source": [
    "train_test_split?"
   ]
  },
  {
   "cell_type": "code",
   "execution_count": 57,
   "metadata": {},
   "outputs": [
    {
     "data": {
      "text/plain": [
       "0.8888888888888888"
      ]
     },
     "execution_count": 57,
     "metadata": {},
     "output_type": "execute_result"
    }
   ],
   "source": [
    "clf=DecisionTreeClassifier(criterion='gini',random_state=30,splitter='best')\n",
    "clf=clf.fit(xtrain,ytrain)\n",
    "score=clf.score(xtest,ytest)\n",
    "score"
   ]
  },
  {
   "cell_type": "code",
   "execution_count": 38,
   "metadata": {},
   "outputs": [
    {
     "data": {
      "text/plain": [
       "0.8703703703703703"
      ]
     },
     "execution_count": 38,
     "metadata": {},
     "output_type": "execute_result"
    }
   ],
   "source": [
    "score"
   ]
  },
  {
   "cell_type": "code",
   "execution_count": null,
   "metadata": {},
   "outputs": [],
   "source": []
  },
  {
   "cell_type": "markdown",
   "metadata": {},
   "source": [
    "### 数据结果展示"
   ]
  },
  {
   "cell_type": "code",
   "execution_count": 11,
   "metadata": {
    "scrolled": true
   },
   "outputs": [
    {
     "name": "stdout",
     "output_type": "stream",
     "text": [
      "Looking in indexes: http://pypi.douban.com/simple\n",
      "Requirement already satisfied: graphviz in c:\\programdata\\anaconda3\\lib\\site-packages (0.16)\n"
     ]
    }
   ],
   "source": [
    "! pip install graphviz"
   ]
  },
  {
   "cell_type": "code",
   "execution_count": 12,
   "metadata": {},
   "outputs": [],
   "source": [
    "import graphviz"
   ]
  },
  {
   "cell_type": "code",
   "execution_count": 13,
   "metadata": {},
   "outputs": [],
   "source": [
    "tree.export_graphviz?"
   ]
  },
  {
   "cell_type": "code",
   "execution_count": 58,
   "metadata": {},
   "outputs": [
    {
     "data": {
      "image/svg+xml": [
       "<?xml version=\"1.0\" encoding=\"UTF-8\" standalone=\"no\"?>\r\n",
       "<!DOCTYPE svg PUBLIC \"-//W3C//DTD SVG 1.1//EN\"\r\n",
       " \"http://www.w3.org/Graphics/SVG/1.1/DTD/svg11.dtd\">\r\n",
       "<!-- Generated by graphviz version 2.47.1 (20210417.1919)\r\n",
       " -->\r\n",
       "<!-- Title: Tree Pages: 1 -->\r\n",
       "<svg width=\"833pt\" height=\"433pt\"\r\n",
       " viewBox=\"0.00 0.00 833.00 433.00\" xmlns=\"http://www.w3.org/2000/svg\" xmlns:xlink=\"http://www.w3.org/1999/xlink\">\r\n",
       "<g id=\"graph0\" class=\"graph\" transform=\"scale(1 1) rotate(0) translate(4 429)\">\r\n",
       "<title>Tree</title>\r\n",
       "<polygon fill=\"white\" stroke=\"transparent\" points=\"-4,4 -4,-429 829,-429 829,4 -4,4\"/>\r\n",
       "<!-- 0 -->\r\n",
       "<g id=\"node1\" class=\"node\">\r\n",
       "<title>0</title>\r\n",
       "<path fill=\"#ddfbe9\" stroke=\"black\" d=\"M372.5,-425C372.5,-425 236.5,-425 236.5,-425 230.5,-425 224.5,-419 224.5,-413 224.5,-413 224.5,-354 224.5,-354 224.5,-348 230.5,-342 236.5,-342 236.5,-342 372.5,-342 372.5,-342 378.5,-342 384.5,-348 384.5,-354 384.5,-354 384.5,-413 384.5,-413 384.5,-419 378.5,-425 372.5,-425\"/>\r\n",
       "<text text-anchor=\"middle\" x=\"304.5\" y=\"-409.8\" font-family=\"Helvetica,sans-Serif\" font-size=\"14.00\">color_intensity &lt;= 4.02</text>\r\n",
       "<text text-anchor=\"middle\" x=\"304.5\" y=\"-394.8\" font-family=\"Helvetica,sans-Serif\" font-size=\"14.00\">gini = 0.655</text>\r\n",
       "<text text-anchor=\"middle\" x=\"304.5\" y=\"-379.8\" font-family=\"Helvetica,sans-Serif\" font-size=\"14.00\">samples = 124</text>\r\n",
       "<text text-anchor=\"middle\" x=\"304.5\" y=\"-364.8\" font-family=\"Helvetica,sans-Serif\" font-size=\"14.00\">value = [37, 52, 35]</text>\r\n",
       "<text text-anchor=\"middle\" x=\"304.5\" y=\"-349.8\" font-family=\"Helvetica,sans-Serif\" font-size=\"14.00\">class = class_1</text>\r\n",
       "</g>\r\n",
       "<!-- 1 -->\r\n",
       "<g id=\"node2\" class=\"node\">\r\n",
       "<title>1</title>\r\n",
       "<path fill=\"#4ee88e\" stroke=\"black\" d=\"M272,-306C272,-306 175,-306 175,-306 169,-306 163,-300 163,-294 163,-294 163,-235 163,-235 163,-229 169,-223 175,-223 175,-223 272,-223 272,-223 278,-223 284,-229 284,-235 284,-235 284,-294 284,-294 284,-300 278,-306 272,-306\"/>\r\n",
       "<text text-anchor=\"middle\" x=\"223.5\" y=\"-290.8\" font-family=\"Helvetica,sans-Serif\" font-size=\"14.00\">proline &lt;= 790.0</text>\r\n",
       "<text text-anchor=\"middle\" x=\"223.5\" y=\"-275.8\" font-family=\"Helvetica,sans-Serif\" font-size=\"14.00\">gini = 0.171</text>\r\n",
       "<text text-anchor=\"middle\" x=\"223.5\" y=\"-260.8\" font-family=\"Helvetica,sans-Serif\" font-size=\"14.00\">samples = 53</text>\r\n",
       "<text text-anchor=\"middle\" x=\"223.5\" y=\"-245.8\" font-family=\"Helvetica,sans-Serif\" font-size=\"14.00\">value = [5, 48, 0]</text>\r\n",
       "<text text-anchor=\"middle\" x=\"223.5\" y=\"-230.8\" font-family=\"Helvetica,sans-Serif\" font-size=\"14.00\">class = class_1</text>\r\n",
       "</g>\r\n",
       "<!-- 0&#45;&gt;1 -->\r\n",
       "<g id=\"edge1\" class=\"edge\">\r\n",
       "<title>0&#45;&gt;1</title>\r\n",
       "<path fill=\"none\" stroke=\"black\" d=\"M276.4,-341.91C270.24,-333.01 263.66,-323.51 257.31,-314.33\"/>\r\n",
       "<polygon fill=\"black\" stroke=\"black\" points=\"260.12,-312.25 251.55,-306.02 254.37,-316.24 260.12,-312.25\"/>\r\n",
       "<text text-anchor=\"middle\" x=\"247.08\" y=\"-326.92\" font-family=\"Helvetica,sans-Serif\" font-size=\"14.00\">True</text>\r\n",
       "</g>\r\n",
       "<!-- 6 -->\r\n",
       "<g id=\"node7\" class=\"node\">\r\n",
       "<title>6</title>\r\n",
       "<path fill=\"#f5f0fd\" stroke=\"black\" d=\"M496,-306C496,-306 379,-306 379,-306 373,-306 367,-300 367,-294 367,-294 367,-235 367,-235 367,-229 373,-223 379,-223 379,-223 496,-223 496,-223 502,-223 508,-229 508,-235 508,-235 508,-294 508,-294 508,-300 502,-306 496,-306\"/>\r\n",
       "<text text-anchor=\"middle\" x=\"437.5\" y=\"-290.8\" font-family=\"Helvetica,sans-Serif\" font-size=\"14.00\">flavanoids &lt;= 1.785</text>\r\n",
       "<text text-anchor=\"middle\" x=\"437.5\" y=\"-275.8\" font-family=\"Helvetica,sans-Serif\" font-size=\"14.00\">gini = 0.551</text>\r\n",
       "<text text-anchor=\"middle\" x=\"437.5\" y=\"-260.8\" font-family=\"Helvetica,sans-Serif\" font-size=\"14.00\">samples = 71</text>\r\n",
       "<text text-anchor=\"middle\" x=\"437.5\" y=\"-245.8\" font-family=\"Helvetica,sans-Serif\" font-size=\"14.00\">value = [32, 4, 35]</text>\r\n",
       "<text text-anchor=\"middle\" x=\"437.5\" y=\"-230.8\" font-family=\"Helvetica,sans-Serif\" font-size=\"14.00\">class = class_2</text>\r\n",
       "</g>\r\n",
       "<!-- 0&#45;&gt;6 -->\r\n",
       "<g id=\"edge6\" class=\"edge\">\r\n",
       "<title>0&#45;&gt;6</title>\r\n",
       "<path fill=\"none\" stroke=\"black\" d=\"M350.64,-341.91C361.37,-332.47 372.88,-322.34 383.9,-312.65\"/>\r\n",
       "<polygon fill=\"black\" stroke=\"black\" points=\"386.24,-315.25 391.44,-306.02 381.62,-310 386.24,-315.25\"/>\r\n",
       "<text text-anchor=\"middle\" x=\"389.84\" y=\"-327.27\" font-family=\"Helvetica,sans-Serif\" font-size=\"14.00\">False</text>\r\n",
       "</g>\r\n",
       "<!-- 2 -->\r\n",
       "<g id=\"node3\" class=\"node\">\r\n",
       "<title>2</title>\r\n",
       "<path fill=\"#39e581\" stroke=\"black\" d=\"M109,-179.5C109,-179.5 12,-179.5 12,-179.5 6,-179.5 0,-173.5 0,-167.5 0,-167.5 0,-123.5 0,-123.5 0,-117.5 6,-111.5 12,-111.5 12,-111.5 109,-111.5 109,-111.5 115,-111.5 121,-117.5 121,-123.5 121,-123.5 121,-167.5 121,-167.5 121,-173.5 115,-179.5 109,-179.5\"/>\r\n",
       "<text text-anchor=\"middle\" x=\"60.5\" y=\"-164.3\" font-family=\"Helvetica,sans-Serif\" font-size=\"14.00\">gini = 0.0</text>\r\n",
       "<text text-anchor=\"middle\" x=\"60.5\" y=\"-149.3\" font-family=\"Helvetica,sans-Serif\" font-size=\"14.00\">samples = 46</text>\r\n",
       "<text text-anchor=\"middle\" x=\"60.5\" y=\"-134.3\" font-family=\"Helvetica,sans-Serif\" font-size=\"14.00\">value = [0, 46, 0]</text>\r\n",
       "<text text-anchor=\"middle\" x=\"60.5\" y=\"-119.3\" font-family=\"Helvetica,sans-Serif\" font-size=\"14.00\">class = class_1</text>\r\n",
       "</g>\r\n",
       "<!-- 1&#45;&gt;2 -->\r\n",
       "<g id=\"edge2\" class=\"edge\">\r\n",
       "<title>1&#45;&gt;2</title>\r\n",
       "<path fill=\"none\" stroke=\"black\" d=\"M166.95,-222.91C150.19,-210.88 131.88,-197.73 115.24,-185.79\"/>\r\n",
       "<polygon fill=\"black\" stroke=\"black\" points=\"116.87,-182.65 106.71,-179.67 112.79,-188.34 116.87,-182.65\"/>\r\n",
       "</g>\r\n",
       "<!-- 3 -->\r\n",
       "<g id=\"node4\" class=\"node\">\r\n",
       "<title>3</title>\r\n",
       "<path fill=\"#efb388\" stroke=\"black\" d=\"M295.5,-187C295.5,-187 151.5,-187 151.5,-187 145.5,-187 139.5,-181 139.5,-175 139.5,-175 139.5,-116 139.5,-116 139.5,-110 145.5,-104 151.5,-104 151.5,-104 295.5,-104 295.5,-104 301.5,-104 307.5,-110 307.5,-116 307.5,-116 307.5,-175 307.5,-175 307.5,-181 301.5,-187 295.5,-187\"/>\r\n",
       "<text text-anchor=\"middle\" x=\"223.5\" y=\"-171.8\" font-family=\"Helvetica,sans-Serif\" font-size=\"14.00\">color_intensity &lt;= 3.435</text>\r\n",
       "<text text-anchor=\"middle\" x=\"223.5\" y=\"-156.8\" font-family=\"Helvetica,sans-Serif\" font-size=\"14.00\">gini = 0.408</text>\r\n",
       "<text text-anchor=\"middle\" x=\"223.5\" y=\"-141.8\" font-family=\"Helvetica,sans-Serif\" font-size=\"14.00\">samples = 7</text>\r\n",
       "<text text-anchor=\"middle\" x=\"223.5\" y=\"-126.8\" font-family=\"Helvetica,sans-Serif\" font-size=\"14.00\">value = [5, 2, 0]</text>\r\n",
       "<text text-anchor=\"middle\" x=\"223.5\" y=\"-111.8\" font-family=\"Helvetica,sans-Serif\" font-size=\"14.00\">class = class_0</text>\r\n",
       "</g>\r\n",
       "<!-- 1&#45;&gt;3 -->\r\n",
       "<g id=\"edge3\" class=\"edge\">\r\n",
       "<title>1&#45;&gt;3</title>\r\n",
       "<path fill=\"none\" stroke=\"black\" d=\"M223.5,-222.91C223.5,-214.65 223.5,-205.86 223.5,-197.3\"/>\r\n",
       "<polygon fill=\"black\" stroke=\"black\" points=\"227,-197.02 223.5,-187.02 220,-197.02 227,-197.02\"/>\r\n",
       "</g>\r\n",
       "<!-- 4 -->\r\n",
       "<g id=\"node5\" class=\"node\">\r\n",
       "<title>4</title>\r\n",
       "<path fill=\"#39e581\" stroke=\"black\" d=\"M136,-68C136,-68 45,-68 45,-68 39,-68 33,-62 33,-56 33,-56 33,-12 33,-12 33,-6 39,0 45,0 45,0 136,0 136,0 142,0 148,-6 148,-12 148,-12 148,-56 148,-56 148,-62 142,-68 136,-68\"/>\r\n",
       "<text text-anchor=\"middle\" x=\"90.5\" y=\"-52.8\" font-family=\"Helvetica,sans-Serif\" font-size=\"14.00\">gini = 0.0</text>\r\n",
       "<text text-anchor=\"middle\" x=\"90.5\" y=\"-37.8\" font-family=\"Helvetica,sans-Serif\" font-size=\"14.00\">samples = 2</text>\r\n",
       "<text text-anchor=\"middle\" x=\"90.5\" y=\"-22.8\" font-family=\"Helvetica,sans-Serif\" font-size=\"14.00\">value = [0, 2, 0]</text>\r\n",
       "<text text-anchor=\"middle\" x=\"90.5\" y=\"-7.8\" font-family=\"Helvetica,sans-Serif\" font-size=\"14.00\">class = class_1</text>\r\n",
       "</g>\r\n",
       "<!-- 3&#45;&gt;4 -->\r\n",
       "<g id=\"edge4\" class=\"edge\">\r\n",
       "<title>3&#45;&gt;4</title>\r\n",
       "<path fill=\"none\" stroke=\"black\" d=\"M173.98,-103.73C162.45,-94.24 150.2,-84.16 138.74,-74.72\"/>\r\n",
       "<polygon fill=\"black\" stroke=\"black\" points=\"140.89,-71.95 130.95,-68.3 136.44,-77.36 140.89,-71.95\"/>\r\n",
       "</g>\r\n",
       "<!-- 5 -->\r\n",
       "<g id=\"node6\" class=\"node\">\r\n",
       "<title>5</title>\r\n",
       "<path fill=\"#e58139\" stroke=\"black\" d=\"M269,-68C269,-68 178,-68 178,-68 172,-68 166,-62 166,-56 166,-56 166,-12 166,-12 166,-6 172,0 178,0 178,0 269,0 269,0 275,0 281,-6 281,-12 281,-12 281,-56 281,-56 281,-62 275,-68 269,-68\"/>\r\n",
       "<text text-anchor=\"middle\" x=\"223.5\" y=\"-52.8\" font-family=\"Helvetica,sans-Serif\" font-size=\"14.00\">gini = 0.0</text>\r\n",
       "<text text-anchor=\"middle\" x=\"223.5\" y=\"-37.8\" font-family=\"Helvetica,sans-Serif\" font-size=\"14.00\">samples = 5</text>\r\n",
       "<text text-anchor=\"middle\" x=\"223.5\" y=\"-22.8\" font-family=\"Helvetica,sans-Serif\" font-size=\"14.00\">value = [5, 0, 0]</text>\r\n",
       "<text text-anchor=\"middle\" x=\"223.5\" y=\"-7.8\" font-family=\"Helvetica,sans-Serif\" font-size=\"14.00\">class = class_0</text>\r\n",
       "</g>\r\n",
       "<!-- 3&#45;&gt;5 -->\r\n",
       "<g id=\"edge5\" class=\"edge\">\r\n",
       "<title>3&#45;&gt;5</title>\r\n",
       "<path fill=\"none\" stroke=\"black\" d=\"M223.5,-103.73C223.5,-95.52 223.5,-86.86 223.5,-78.56\"/>\r\n",
       "<polygon fill=\"black\" stroke=\"black\" points=\"227,-78.3 223.5,-68.3 220,-78.3 227,-78.3\"/>\r\n",
       "</g>\r\n",
       "<!-- 7 -->\r\n",
       "<g id=\"node8\" class=\"node\">\r\n",
       "<title>7</title>\r\n",
       "<path fill=\"#853fe6\" stroke=\"black\" d=\"M486,-187C486,-187 389,-187 389,-187 383,-187 377,-181 377,-175 377,-175 377,-116 377,-116 377,-110 383,-104 389,-104 389,-104 486,-104 486,-104 492,-104 498,-110 498,-116 498,-116 498,-175 498,-175 498,-181 492,-187 486,-187\"/>\r\n",
       "<text text-anchor=\"middle\" x=\"437.5\" y=\"-171.8\" font-family=\"Helvetica,sans-Serif\" font-size=\"14.00\">hue &lt;= 0.945</text>\r\n",
       "<text text-anchor=\"middle\" x=\"437.5\" y=\"-156.8\" font-family=\"Helvetica,sans-Serif\" font-size=\"14.00\">gini = 0.054</text>\r\n",
       "<text text-anchor=\"middle\" x=\"437.5\" y=\"-141.8\" font-family=\"Helvetica,sans-Serif\" font-size=\"14.00\">samples = 36</text>\r\n",
       "<text text-anchor=\"middle\" x=\"437.5\" y=\"-126.8\" font-family=\"Helvetica,sans-Serif\" font-size=\"14.00\">value = [0, 1, 35]</text>\r\n",
       "<text text-anchor=\"middle\" x=\"437.5\" y=\"-111.8\" font-family=\"Helvetica,sans-Serif\" font-size=\"14.00\">class = class_2</text>\r\n",
       "</g>\r\n",
       "<!-- 6&#45;&gt;7 -->\r\n",
       "<g id=\"edge7\" class=\"edge\">\r\n",
       "<title>6&#45;&gt;7</title>\r\n",
       "<path fill=\"none\" stroke=\"black\" d=\"M437.5,-222.91C437.5,-214.65 437.5,-205.86 437.5,-197.3\"/>\r\n",
       "<polygon fill=\"black\" stroke=\"black\" points=\"441,-197.02 437.5,-187.02 434,-197.02 441,-197.02\"/>\r\n",
       "</g>\r\n",
       "<!-- 10 -->\r\n",
       "<g id=\"node11\" class=\"node\">\r\n",
       "<title>10</title>\r\n",
       "<path fill=\"#e78d4c\" stroke=\"black\" d=\"M677,-187C677,-187 580,-187 580,-187 574,-187 568,-181 568,-175 568,-175 568,-116 568,-116 568,-110 574,-104 580,-104 580,-104 677,-104 677,-104 683,-104 689,-110 689,-116 689,-116 689,-175 689,-175 689,-181 683,-187 677,-187\"/>\r\n",
       "<text text-anchor=\"middle\" x=\"628.5\" y=\"-171.8\" font-family=\"Helvetica,sans-Serif\" font-size=\"14.00\">proline &lt;= 622.5</text>\r\n",
       "<text text-anchor=\"middle\" x=\"628.5\" y=\"-156.8\" font-family=\"Helvetica,sans-Serif\" font-size=\"14.00\">gini = 0.157</text>\r\n",
       "<text text-anchor=\"middle\" x=\"628.5\" y=\"-141.8\" font-family=\"Helvetica,sans-Serif\" font-size=\"14.00\">samples = 35</text>\r\n",
       "<text text-anchor=\"middle\" x=\"628.5\" y=\"-126.8\" font-family=\"Helvetica,sans-Serif\" font-size=\"14.00\">value = [32, 3, 0]</text>\r\n",
       "<text text-anchor=\"middle\" x=\"628.5\" y=\"-111.8\" font-family=\"Helvetica,sans-Serif\" font-size=\"14.00\">class = class_0</text>\r\n",
       "</g>\r\n",
       "<!-- 6&#45;&gt;10 -->\r\n",
       "<g id=\"edge10\" class=\"edge\">\r\n",
       "<title>6&#45;&gt;10</title>\r\n",
       "<path fill=\"none\" stroke=\"black\" d=\"M503.77,-222.91C521.64,-211.96 541.02,-200.09 559.06,-189.04\"/>\r\n",
       "<polygon fill=\"black\" stroke=\"black\" points=\"561.09,-191.9 567.79,-183.69 557.44,-185.93 561.09,-191.9\"/>\r\n",
       "</g>\r\n",
       "<!-- 8 -->\r\n",
       "<g id=\"node9\" class=\"node\">\r\n",
       "<title>8</title>\r\n",
       "<path fill=\"#8139e5\" stroke=\"black\" d=\"M408,-68C408,-68 311,-68 311,-68 305,-68 299,-62 299,-56 299,-56 299,-12 299,-12 299,-6 305,0 311,0 311,0 408,0 408,0 414,0 420,-6 420,-12 420,-12 420,-56 420,-56 420,-62 414,-68 408,-68\"/>\r\n",
       "<text text-anchor=\"middle\" x=\"359.5\" y=\"-52.8\" font-family=\"Helvetica,sans-Serif\" font-size=\"14.00\">gini = 0.0</text>\r\n",
       "<text text-anchor=\"middle\" x=\"359.5\" y=\"-37.8\" font-family=\"Helvetica,sans-Serif\" font-size=\"14.00\">samples = 35</text>\r\n",
       "<text text-anchor=\"middle\" x=\"359.5\" y=\"-22.8\" font-family=\"Helvetica,sans-Serif\" font-size=\"14.00\">value = [0, 0, 35]</text>\r\n",
       "<text text-anchor=\"middle\" x=\"359.5\" y=\"-7.8\" font-family=\"Helvetica,sans-Serif\" font-size=\"14.00\">class = class_2</text>\r\n",
       "</g>\r\n",
       "<!-- 7&#45;&gt;8 -->\r\n",
       "<g id=\"edge8\" class=\"edge\">\r\n",
       "<title>7&#45;&gt;8</title>\r\n",
       "<path fill=\"none\" stroke=\"black\" d=\"M408.46,-103.73C402.15,-94.88 395.48,-85.51 389.15,-76.63\"/>\r\n",
       "<polygon fill=\"black\" stroke=\"black\" points=\"391.87,-74.41 383.22,-68.3 386.17,-78.48 391.87,-74.41\"/>\r\n",
       "</g>\r\n",
       "<!-- 9 -->\r\n",
       "<g id=\"node10\" class=\"node\">\r\n",
       "<title>9</title>\r\n",
       "<path fill=\"#39e581\" stroke=\"black\" d=\"M541,-68C541,-68 450,-68 450,-68 444,-68 438,-62 438,-56 438,-56 438,-12 438,-12 438,-6 444,0 450,0 450,0 541,0 541,0 547,0 553,-6 553,-12 553,-12 553,-56 553,-56 553,-62 547,-68 541,-68\"/>\r\n",
       "<text text-anchor=\"middle\" x=\"495.5\" y=\"-52.8\" font-family=\"Helvetica,sans-Serif\" font-size=\"14.00\">gini = 0.0</text>\r\n",
       "<text text-anchor=\"middle\" x=\"495.5\" y=\"-37.8\" font-family=\"Helvetica,sans-Serif\" font-size=\"14.00\">samples = 1</text>\r\n",
       "<text text-anchor=\"middle\" x=\"495.5\" y=\"-22.8\" font-family=\"Helvetica,sans-Serif\" font-size=\"14.00\">value = [0, 1, 0]</text>\r\n",
       "<text text-anchor=\"middle\" x=\"495.5\" y=\"-7.8\" font-family=\"Helvetica,sans-Serif\" font-size=\"14.00\">class = class_1</text>\r\n",
       "</g>\r\n",
       "<!-- 7&#45;&gt;9 -->\r\n",
       "<g id=\"edge9\" class=\"edge\">\r\n",
       "<title>7&#45;&gt;9</title>\r\n",
       "<path fill=\"none\" stroke=\"black\" d=\"M459.1,-103.73C463.69,-95.06 468.54,-85.9 473.16,-77.18\"/>\r\n",
       "<polygon fill=\"black\" stroke=\"black\" points=\"476.27,-78.77 477.86,-68.3 470.09,-75.5 476.27,-78.77\"/>\r\n",
       "</g>\r\n",
       "<!-- 11 -->\r\n",
       "<g id=\"node12\" class=\"node\">\r\n",
       "<title>11</title>\r\n",
       "<path fill=\"#39e581\" stroke=\"black\" d=\"M674,-68C674,-68 583,-68 583,-68 577,-68 571,-62 571,-56 571,-56 571,-12 571,-12 571,-6 577,0 583,0 583,0 674,0 674,0 680,0 686,-6 686,-12 686,-12 686,-56 686,-56 686,-62 680,-68 674,-68\"/>\r\n",
       "<text text-anchor=\"middle\" x=\"628.5\" y=\"-52.8\" font-family=\"Helvetica,sans-Serif\" font-size=\"14.00\">gini = 0.0</text>\r\n",
       "<text text-anchor=\"middle\" x=\"628.5\" y=\"-37.8\" font-family=\"Helvetica,sans-Serif\" font-size=\"14.00\">samples = 3</text>\r\n",
       "<text text-anchor=\"middle\" x=\"628.5\" y=\"-22.8\" font-family=\"Helvetica,sans-Serif\" font-size=\"14.00\">value = [0, 3, 0]</text>\r\n",
       "<text text-anchor=\"middle\" x=\"628.5\" y=\"-7.8\" font-family=\"Helvetica,sans-Serif\" font-size=\"14.00\">class = class_1</text>\r\n",
       "</g>\r\n",
       "<!-- 10&#45;&gt;11 -->\r\n",
       "<g id=\"edge11\" class=\"edge\">\r\n",
       "<title>10&#45;&gt;11</title>\r\n",
       "<path fill=\"none\" stroke=\"black\" d=\"M628.5,-103.73C628.5,-95.52 628.5,-86.86 628.5,-78.56\"/>\r\n",
       "<polygon fill=\"black\" stroke=\"black\" points=\"632,-78.3 628.5,-68.3 625,-78.3 632,-78.3\"/>\r\n",
       "</g>\r\n",
       "<!-- 12 -->\r\n",
       "<g id=\"node13\" class=\"node\">\r\n",
       "<title>12</title>\r\n",
       "<path fill=\"#e58139\" stroke=\"black\" d=\"M813,-68C813,-68 716,-68 716,-68 710,-68 704,-62 704,-56 704,-56 704,-12 704,-12 704,-6 710,0 716,0 716,0 813,0 813,0 819,0 825,-6 825,-12 825,-12 825,-56 825,-56 825,-62 819,-68 813,-68\"/>\r\n",
       "<text text-anchor=\"middle\" x=\"764.5\" y=\"-52.8\" font-family=\"Helvetica,sans-Serif\" font-size=\"14.00\">gini = 0.0</text>\r\n",
       "<text text-anchor=\"middle\" x=\"764.5\" y=\"-37.8\" font-family=\"Helvetica,sans-Serif\" font-size=\"14.00\">samples = 32</text>\r\n",
       "<text text-anchor=\"middle\" x=\"764.5\" y=\"-22.8\" font-family=\"Helvetica,sans-Serif\" font-size=\"14.00\">value = [32, 0, 0]</text>\r\n",
       "<text text-anchor=\"middle\" x=\"764.5\" y=\"-7.8\" font-family=\"Helvetica,sans-Serif\" font-size=\"14.00\">class = class_0</text>\r\n",
       "</g>\r\n",
       "<!-- 10&#45;&gt;12 -->\r\n",
       "<g id=\"edge12\" class=\"edge\">\r\n",
       "<title>10&#45;&gt;12</title>\r\n",
       "<path fill=\"none\" stroke=\"black\" d=\"M679.14,-103.73C690.92,-94.24 703.45,-84.16 715.17,-74.72\"/>\r\n",
       "<polygon fill=\"black\" stroke=\"black\" points=\"717.55,-77.3 723.14,-68.3 713.16,-71.84 717.55,-77.3\"/>\r\n",
       "</g>\r\n",
       "</g>\r\n",
       "</svg>\r\n"
      ],
      "text/plain": [
       "<graphviz.files.Source at 0x140e9b1a608>"
      ]
     },
     "execution_count": 58,
     "metadata": {},
     "output_type": "execute_result"
    }
   ],
   "source": [
    "dot_data=tree.export_graphviz(clf,out_file=None\n",
    "                              ,feature_names=list(wine.feature_names)\n",
    "                              ,class_names=list(wine.target_names)\n",
    "                              ,filled=True,rounded=True)\n",
    "graph=graphviz.Source(dot_data)\n",
    "graph"
   ]
  },
  {
   "cell_type": "code",
   "execution_count": null,
   "metadata": {},
   "outputs": [],
   "source": []
  },
  {
   "cell_type": "markdown",
   "metadata": {},
   "source": [
    "### 查看特征重要性\n",
    "- 方法1："
   ]
  },
  {
   "cell_type": "code",
   "execution_count": 31,
   "metadata": {
    "scrolled": true
   },
   "outputs": [
    {
     "data": {
      "text/plain": [
       "[(0.0, 'alcohol'),\n",
       " (0.0, 'malic_acid'),\n",
       " (0.02392450001102512, 'ash'),\n",
       " (0.0, 'alcalinity_of_ash'),\n",
       " (0.0, 'magnesium'),\n",
       " (0.0, 'total_phenols'),\n",
       " (0.0, 'flavanoids'),\n",
       " (0.0, 'nonflavanoid_phenols'),\n",
       " (0.0, 'proanthocyanins'),\n",
       " (0.44265146797464877, 'color_intensity'),\n",
       " (0.0, 'hue'),\n",
       " (0.38964930239859025, 'od280/od315_of_diluted_wines'),\n",
       " (0.14377472961573576, 'proline')]"
      ]
     },
     "execution_count": 31,
     "metadata": {},
     "output_type": "execute_result"
    }
   ],
   "source": [
    "[*zip(clf.feature_importances_,wine.feature_names)]"
   ]
  },
  {
   "cell_type": "markdown",
   "metadata": {},
   "source": [
    "- 方法2"
   ]
  },
  {
   "cell_type": "code",
   "execution_count": 16,
   "metadata": {},
   "outputs": [],
   "source": [
    "feature_importances=list(clf.feature_importances_)\n",
    "feature_names=list(wine.feature_names)"
   ]
  },
  {
   "cell_type": "code",
   "execution_count": 66,
   "metadata": {},
   "outputs": [],
   "source": [
    "del feature_importances_data"
   ]
  },
  {
   "cell_type": "code",
   "execution_count": 78,
   "metadata": {},
   "outputs": [],
   "source": [
    "import pandas as pd\n",
    "feature_importances_data=pd.concat([pd.Series(feature_importances),pd.Series(feature_names)],axis=1,names=['feature_importance','feature_names'])"
   ]
  },
  {
   "cell_type": "code",
   "execution_count": 79,
   "metadata": {},
   "outputs": [
    {
     "data": {
      "text/html": [
       "<div>\n",
       "<style scoped>\n",
       "    .dataframe tbody tr th:only-of-type {\n",
       "        vertical-align: middle;\n",
       "    }\n",
       "\n",
       "    .dataframe tbody tr th {\n",
       "        vertical-align: top;\n",
       "    }\n",
       "\n",
       "    .dataframe thead th {\n",
       "        text-align: right;\n",
       "    }\n",
       "</style>\n",
       "<table border=\"1\" class=\"dataframe\">\n",
       "  <thead>\n",
       "    <tr style=\"text-align: right;\">\n",
       "      <th></th>\n",
       "      <th>0</th>\n",
       "      <th>1</th>\n",
       "    </tr>\n",
       "  </thead>\n",
       "  <tbody>\n",
       "    <tr>\n",
       "      <th>0</th>\n",
       "      <td>0.000000</td>\n",
       "      <td>alcohol</td>\n",
       "    </tr>\n",
       "    <tr>\n",
       "      <th>1</th>\n",
       "      <td>0.000000</td>\n",
       "      <td>malic_acid</td>\n",
       "    </tr>\n",
       "    <tr>\n",
       "      <th>2</th>\n",
       "      <td>0.023925</td>\n",
       "      <td>ash</td>\n",
       "    </tr>\n",
       "    <tr>\n",
       "      <th>3</th>\n",
       "      <td>0.000000</td>\n",
       "      <td>alcalinity_of_ash</td>\n",
       "    </tr>\n",
       "    <tr>\n",
       "      <th>4</th>\n",
       "      <td>0.000000</td>\n",
       "      <td>magnesium</td>\n",
       "    </tr>\n",
       "    <tr>\n",
       "      <th>5</th>\n",
       "      <td>0.000000</td>\n",
       "      <td>total_phenols</td>\n",
       "    </tr>\n",
       "    <tr>\n",
       "      <th>6</th>\n",
       "      <td>0.000000</td>\n",
       "      <td>flavanoids</td>\n",
       "    </tr>\n",
       "    <tr>\n",
       "      <th>7</th>\n",
       "      <td>0.000000</td>\n",
       "      <td>nonflavanoid_phenols</td>\n",
       "    </tr>\n",
       "    <tr>\n",
       "      <th>8</th>\n",
       "      <td>0.000000</td>\n",
       "      <td>proanthocyanins</td>\n",
       "    </tr>\n",
       "    <tr>\n",
       "      <th>9</th>\n",
       "      <td>0.442651</td>\n",
       "      <td>color_intensity</td>\n",
       "    </tr>\n",
       "    <tr>\n",
       "      <th>10</th>\n",
       "      <td>0.000000</td>\n",
       "      <td>hue</td>\n",
       "    </tr>\n",
       "    <tr>\n",
       "      <th>11</th>\n",
       "      <td>0.389649</td>\n",
       "      <td>od280/od315_of_diluted_wines</td>\n",
       "    </tr>\n",
       "    <tr>\n",
       "      <th>12</th>\n",
       "      <td>0.143775</td>\n",
       "      <td>proline</td>\n",
       "    </tr>\n",
       "  </tbody>\n",
       "</table>\n",
       "</div>"
      ],
      "text/plain": [
       "           0                             1\n",
       "0   0.000000                       alcohol\n",
       "1   0.000000                    malic_acid\n",
       "2   0.023925                           ash\n",
       "3   0.000000             alcalinity_of_ash\n",
       "4   0.000000                     magnesium\n",
       "5   0.000000                 total_phenols\n",
       "6   0.000000                    flavanoids\n",
       "7   0.000000          nonflavanoid_phenols\n",
       "8   0.000000               proanthocyanins\n",
       "9   0.442651               color_intensity\n",
       "10  0.000000                           hue\n",
       "11  0.389649  od280/od315_of_diluted_wines\n",
       "12  0.143775                       proline"
      ]
     },
     "execution_count": 79,
     "metadata": {},
     "output_type": "execute_result"
    }
   ],
   "source": [
    "feature_importances_data"
   ]
  },
  {
   "cell_type": "code",
   "execution_count": 75,
   "metadata": {},
   "outputs": [
    {
     "data": {
      "text/plain": [
       "pandas.core.frame.DataFrame"
      ]
     },
     "execution_count": 75,
     "metadata": {},
     "output_type": "execute_result"
    }
   ],
   "source": [
    "type(feature_importances_data)"
   ]
  },
  {
   "cell_type": "code",
   "execution_count": 74,
   "metadata": {},
   "outputs": [],
   "source": [
    "pd.concat?"
   ]
  },
  {
   "cell_type": "code",
   "execution_count": null,
   "metadata": {},
   "outputs": [],
   "source": []
  },
  {
   "cell_type": "markdown",
   "metadata": {},
   "source": [
    "### 调参\n",
    "- 1.剪枝：\n",
    "- max_depth(最大深度,设置后模型的最大深度会达到设置要求)：高纬度低样本非常有效，3开始使用\n",
    "- min_samples_leaf(最大叶子节点样本数)，5开始使用\n",
    "- max_features:限制高纬度过拟合\n",
    "- min_impurity_decrease：限制信息增益大小，信息增益是父节点信息熵减去子节点信息熵，再sklearn 0.19版本前用 min_impurity_split"
   ]
  },
  {
   "cell_type": "code",
   "execution_count": 165,
   "metadata": {},
   "outputs": [
    {
     "name": "stdout",
     "output_type": "stream",
     "text": [
      "score: 0.7777777777777778\n"
     ]
    },
    {
     "data": {
      "image/svg+xml": [
       "<?xml version=\"1.0\" encoding=\"UTF-8\" standalone=\"no\"?>\r\n",
       "<!DOCTYPE svg PUBLIC \"-//W3C//DTD SVG 1.1//EN\"\r\n",
       " \"http://www.w3.org/Graphics/SVG/1.1/DTD/svg11.dtd\">\r\n",
       "<!-- Generated by graphviz version 2.47.1 (20210417.1919)\r\n",
       " -->\r\n",
       "<!-- Title: Tree Pages: 1 -->\r\n",
       "<svg width=\"725pt\" height=\"433pt\"\r\n",
       " viewBox=\"0.00 0.00 725.00 433.00\" xmlns=\"http://www.w3.org/2000/svg\" xmlns:xlink=\"http://www.w3.org/1999/xlink\">\r\n",
       "<g id=\"graph0\" class=\"graph\" transform=\"scale(1 1) rotate(0) translate(4 429)\">\r\n",
       "<title>Tree</title>\r\n",
       "<polygon fill=\"white\" stroke=\"transparent\" points=\"-4,4 -4,-429 721,-429 721,4 -4,4\"/>\r\n",
       "<!-- 0 -->\r\n",
       "<g id=\"node1\" class=\"node\">\r\n",
       "<title>0</title>\r\n",
       "<path fill=\"#ddfbe9\" stroke=\"black\" d=\"M493,-425C493,-425 380,-425 380,-425 374,-425 368,-419 368,-413 368,-413 368,-354 368,-354 368,-348 374,-342 380,-342 380,-342 493,-342 493,-342 499,-342 505,-348 505,-354 505,-354 505,-413 505,-413 505,-419 499,-425 493,-425\"/>\r\n",
       "<text text-anchor=\"middle\" x=\"436.5\" y=\"-409.8\" font-family=\"Helvetica,sans-Serif\" font-size=\"14.00\">proline &lt;= 894.413</text>\r\n",
       "<text text-anchor=\"middle\" x=\"436.5\" y=\"-394.8\" font-family=\"Helvetica,sans-Serif\" font-size=\"14.00\">gini = 0.655</text>\r\n",
       "<text text-anchor=\"middle\" x=\"436.5\" y=\"-379.8\" font-family=\"Helvetica,sans-Serif\" font-size=\"14.00\">samples = 124</text>\r\n",
       "<text text-anchor=\"middle\" x=\"436.5\" y=\"-364.8\" font-family=\"Helvetica,sans-Serif\" font-size=\"14.00\">value = [37, 52, 35]</text>\r\n",
       "<text text-anchor=\"middle\" x=\"436.5\" y=\"-349.8\" font-family=\"Helvetica,sans-Serif\" font-size=\"14.00\">class = class_1</text>\r\n",
       "</g>\r\n",
       "<!-- 1 -->\r\n",
       "<g id=\"node2\" class=\"node\">\r\n",
       "<title>1</title>\r\n",
       "<path fill=\"#caf8dd\" stroke=\"black\" d=\"M406,-306C406,-306 301,-306 301,-306 295,-306 289,-300 289,-294 289,-294 289,-235 289,-235 289,-229 295,-223 301,-223 301,-223 406,-223 406,-223 412,-223 418,-229 418,-235 418,-235 418,-294 418,-294 418,-300 412,-306 406,-306\"/>\r\n",
       "<text text-anchor=\"middle\" x=\"353.5\" y=\"-290.8\" font-family=\"Helvetica,sans-Serif\" font-size=\"14.00\">hue &lt;= 0.918</text>\r\n",
       "<text text-anchor=\"middle\" x=\"353.5\" y=\"-275.8\" font-family=\"Helvetica,sans-Serif\" font-size=\"14.00\">gini = 0.546</text>\r\n",
       "<text text-anchor=\"middle\" x=\"353.5\" y=\"-260.8\" font-family=\"Helvetica,sans-Serif\" font-size=\"14.00\">samples = 91</text>\r\n",
       "<text text-anchor=\"middle\" x=\"353.5\" y=\"-245.8\" font-family=\"Helvetica,sans-Serif\" font-size=\"14.00\">value = [6, 50, 35]</text>\r\n",
       "<text text-anchor=\"middle\" x=\"353.5\" y=\"-230.8\" font-family=\"Helvetica,sans-Serif\" font-size=\"14.00\">class = class_1</text>\r\n",
       "</g>\r\n",
       "<!-- 0&#45;&gt;1 -->\r\n",
       "<g id=\"edge1\" class=\"edge\">\r\n",
       "<title>0&#45;&gt;1</title>\r\n",
       "<path fill=\"none\" stroke=\"black\" d=\"M407.7,-341.91C401.39,-333.01 394.65,-323.51 388.14,-314.33\"/>\r\n",
       "<polygon fill=\"black\" stroke=\"black\" points=\"390.89,-312.15 382.25,-306.02 385.18,-316.2 390.89,-312.15\"/>\r\n",
       "<text text-anchor=\"middle\" x=\"378.06\" y=\"-326.97\" font-family=\"Helvetica,sans-Serif\" font-size=\"14.00\">True</text>\r\n",
       "</g>\r\n",
       "<!-- 8 -->\r\n",
       "<g id=\"node9\" class=\"node\">\r\n",
       "<title>8</title>\r\n",
       "<path fill=\"#e78946\" stroke=\"black\" d=\"M591,-306C591,-306 448,-306 448,-306 442,-306 436,-300 436,-294 436,-294 436,-235 436,-235 436,-229 442,-223 448,-223 448,-223 591,-223 591,-223 597,-223 603,-229 603,-235 603,-235 603,-294 603,-294 603,-300 597,-306 591,-306\"/>\r\n",
       "<text text-anchor=\"middle\" x=\"519.5\" y=\"-290.8\" font-family=\"Helvetica,sans-Serif\" font-size=\"14.00\">magnesium &lt;= 107.341</text>\r\n",
       "<text text-anchor=\"middle\" x=\"519.5\" y=\"-275.8\" font-family=\"Helvetica,sans-Serif\" font-size=\"14.00\">gini = 0.114</text>\r\n",
       "<text text-anchor=\"middle\" x=\"519.5\" y=\"-260.8\" font-family=\"Helvetica,sans-Serif\" font-size=\"14.00\">samples = 33</text>\r\n",
       "<text text-anchor=\"middle\" x=\"519.5\" y=\"-245.8\" font-family=\"Helvetica,sans-Serif\" font-size=\"14.00\">value = [31, 2, 0]</text>\r\n",
       "<text text-anchor=\"middle\" x=\"519.5\" y=\"-230.8\" font-family=\"Helvetica,sans-Serif\" font-size=\"14.00\">class = class_0</text>\r\n",
       "</g>\r\n",
       "<!-- 0&#45;&gt;8 -->\r\n",
       "<g id=\"edge8\" class=\"edge\">\r\n",
       "<title>0&#45;&gt;8</title>\r\n",
       "<path fill=\"none\" stroke=\"black\" d=\"M465.3,-341.91C471.61,-333.01 478.35,-323.51 484.86,-314.33\"/>\r\n",
       "<polygon fill=\"black\" stroke=\"black\" points=\"487.82,-316.2 490.75,-306.02 482.11,-312.15 487.82,-316.2\"/>\r\n",
       "<text text-anchor=\"middle\" x=\"494.94\" y=\"-326.97\" font-family=\"Helvetica,sans-Serif\" font-size=\"14.00\">False</text>\r\n",
       "</g>\r\n",
       "<!-- 2 -->\r\n",
       "<g id=\"node3\" class=\"node\">\r\n",
       "<title>2</title>\r\n",
       "<path fill=\"#b286ef\" stroke=\"black\" d=\"M246,-187C246,-187 125,-187 125,-187 119,-187 113,-181 113,-175 113,-175 113,-116 113,-116 113,-110 119,-104 125,-104 125,-104 246,-104 246,-104 252,-104 258,-110 258,-116 258,-116 258,-175 258,-175 258,-181 252,-187 246,-187\"/>\r\n",
       "<text text-anchor=\"middle\" x=\"185.5\" y=\"-171.8\" font-family=\"Helvetica,sans-Serif\" font-size=\"14.00\">malic_acid &lt;= 2.484</text>\r\n",
       "<text text-anchor=\"middle\" x=\"185.5\" y=\"-156.8\" font-family=\"Helvetica,sans-Serif\" font-size=\"14.00\">gini = 0.419</text>\r\n",
       "<text text-anchor=\"middle\" x=\"185.5\" y=\"-141.8\" font-family=\"Helvetica,sans-Serif\" font-size=\"14.00\">samples = 49</text>\r\n",
       "<text text-anchor=\"middle\" x=\"185.5\" y=\"-126.8\" font-family=\"Helvetica,sans-Serif\" font-size=\"14.00\">value = [1, 13, 35]</text>\r\n",
       "<text text-anchor=\"middle\" x=\"185.5\" y=\"-111.8\" font-family=\"Helvetica,sans-Serif\" font-size=\"14.00\">class = class_2</text>\r\n",
       "</g>\r\n",
       "<!-- 1&#45;&gt;2 -->\r\n",
       "<g id=\"edge2\" class=\"edge\">\r\n",
       "<title>1&#45;&gt;2</title>\r\n",
       "<path fill=\"none\" stroke=\"black\" d=\"M295.21,-222.91C281.27,-213.2 266.28,-202.76 252,-192.81\"/>\r\n",
       "<polygon fill=\"black\" stroke=\"black\" points=\"253.89,-189.86 243.68,-187.02 249.89,-195.61 253.89,-189.86\"/>\r\n",
       "</g>\r\n",
       "<!-- 5 -->\r\n",
       "<g id=\"node6\" class=\"node\">\r\n",
       "<title>5</title>\r\n",
       "<path fill=\"#54e992\" stroke=\"black\" d=\"M423,-187C423,-187 288,-187 288,-187 282,-187 276,-181 276,-175 276,-175 276,-116 276,-116 276,-110 282,-104 288,-104 288,-104 423,-104 423,-104 429,-104 435,-110 435,-116 435,-116 435,-175 435,-175 435,-181 429,-187 423,-187\"/>\r\n",
       "<text text-anchor=\"middle\" x=\"355.5\" y=\"-171.8\" font-family=\"Helvetica,sans-Serif\" font-size=\"14.00\">magnesium &lt;= 91.404</text>\r\n",
       "<text text-anchor=\"middle\" x=\"355.5\" y=\"-156.8\" font-family=\"Helvetica,sans-Serif\" font-size=\"14.00\">gini = 0.21</text>\r\n",
       "<text text-anchor=\"middle\" x=\"355.5\" y=\"-141.8\" font-family=\"Helvetica,sans-Serif\" font-size=\"14.00\">samples = 42</text>\r\n",
       "<text text-anchor=\"middle\" x=\"355.5\" y=\"-126.8\" font-family=\"Helvetica,sans-Serif\" font-size=\"14.00\">value = [5, 37, 0]</text>\r\n",
       "<text text-anchor=\"middle\" x=\"355.5\" y=\"-111.8\" font-family=\"Helvetica,sans-Serif\" font-size=\"14.00\">class = class_1</text>\r\n",
       "</g>\r\n",
       "<!-- 1&#45;&gt;5 -->\r\n",
       "<g id=\"edge5\" class=\"edge\">\r\n",
       "<title>1&#45;&gt;5</title>\r\n",
       "<path fill=\"none\" stroke=\"black\" d=\"M354.19,-222.91C354.34,-214.56 354.49,-205.67 354.64,-197.02\"/>\r\n",
       "<polygon fill=\"black\" stroke=\"black\" points=\"358.14,-197.08 354.81,-187.02 351.14,-196.96 358.14,-197.08\"/>\r\n",
       "</g>\r\n",
       "<!-- 3 -->\r\n",
       "<g id=\"node4\" class=\"node\">\r\n",
       "<title>3</title>\r\n",
       "<path fill=\"#bdf6d5\" stroke=\"black\" d=\"M103,-68C103,-68 12,-68 12,-68 6,-68 0,-62 0,-56 0,-56 0,-12 0,-12 0,-6 6,0 12,0 12,0 103,0 103,0 109,0 115,-6 115,-12 115,-12 115,-56 115,-56 115,-62 109,-68 103,-68\"/>\r\n",
       "<text text-anchor=\"middle\" x=\"57.5\" y=\"-52.8\" font-family=\"Helvetica,sans-Serif\" font-size=\"14.00\">gini = 0.48</text>\r\n",
       "<text text-anchor=\"middle\" x=\"57.5\" y=\"-37.8\" font-family=\"Helvetica,sans-Serif\" font-size=\"14.00\">samples = 15</text>\r\n",
       "<text text-anchor=\"middle\" x=\"57.5\" y=\"-22.8\" font-family=\"Helvetica,sans-Serif\" font-size=\"14.00\">value = [0, 9, 6]</text>\r\n",
       "<text text-anchor=\"middle\" x=\"57.5\" y=\"-7.8\" font-family=\"Helvetica,sans-Serif\" font-size=\"14.00\">class = class_1</text>\r\n",
       "</g>\r\n",
       "<!-- 2&#45;&gt;3 -->\r\n",
       "<g id=\"edge3\" class=\"edge\">\r\n",
       "<title>2&#45;&gt;3</title>\r\n",
       "<path fill=\"none\" stroke=\"black\" d=\"M137.84,-103.73C126.86,-94.33 115.19,-84.35 104.24,-74.99\"/>\r\n",
       "<polygon fill=\"black\" stroke=\"black\" points=\"106.3,-72.14 96.43,-68.3 101.75,-77.46 106.3,-72.14\"/>\r\n",
       "</g>\r\n",
       "<!-- 4 -->\r\n",
       "<g id=\"node5\" class=\"node\">\r\n",
       "<title>4</title>\r\n",
       "<path fill=\"#965ae9\" stroke=\"black\" d=\"M242,-68C242,-68 145,-68 145,-68 139,-68 133,-62 133,-56 133,-56 133,-12 133,-12 133,-6 139,0 145,0 145,0 242,0 242,0 248,0 254,-6 254,-12 254,-12 254,-56 254,-56 254,-62 248,-68 242,-68\"/>\r\n",
       "<text text-anchor=\"middle\" x=\"193.5\" y=\"-52.8\" font-family=\"Helvetica,sans-Serif\" font-size=\"14.00\">gini = 0.258</text>\r\n",
       "<text text-anchor=\"middle\" x=\"193.5\" y=\"-37.8\" font-family=\"Helvetica,sans-Serif\" font-size=\"14.00\">samples = 34</text>\r\n",
       "<text text-anchor=\"middle\" x=\"193.5\" y=\"-22.8\" font-family=\"Helvetica,sans-Serif\" font-size=\"14.00\">value = [1, 4, 29]</text>\r\n",
       "<text text-anchor=\"middle\" x=\"193.5\" y=\"-7.8\" font-family=\"Helvetica,sans-Serif\" font-size=\"14.00\">class = class_2</text>\r\n",
       "</g>\r\n",
       "<!-- 2&#45;&gt;4 -->\r\n",
       "<g id=\"edge4\" class=\"edge\">\r\n",
       "<title>2&#45;&gt;4</title>\r\n",
       "<path fill=\"none\" stroke=\"black\" d=\"M188.48,-103.73C189.09,-95.43 189.73,-86.67 190.34,-78.28\"/>\r\n",
       "<polygon fill=\"black\" stroke=\"black\" points=\"193.83,-78.53 191.07,-68.3 186.85,-78.02 193.83,-78.53\"/>\r\n",
       "</g>\r\n",
       "<!-- 6 -->\r\n",
       "<g id=\"node7\" class=\"node\">\r\n",
       "<title>6</title>\r\n",
       "<path fill=\"#39e581\" stroke=\"black\" d=\"M396,-68C396,-68 299,-68 299,-68 293,-68 287,-62 287,-56 287,-56 287,-12 287,-12 287,-6 293,0 299,0 299,0 396,0 396,0 402,0 408,-6 408,-12 408,-12 408,-56 408,-56 408,-62 402,-68 396,-68\"/>\r\n",
       "<text text-anchor=\"middle\" x=\"347.5\" y=\"-52.8\" font-family=\"Helvetica,sans-Serif\" font-size=\"14.00\">gini = 0.0</text>\r\n",
       "<text text-anchor=\"middle\" x=\"347.5\" y=\"-37.8\" font-family=\"Helvetica,sans-Serif\" font-size=\"14.00\">samples = 21</text>\r\n",
       "<text text-anchor=\"middle\" x=\"347.5\" y=\"-22.8\" font-family=\"Helvetica,sans-Serif\" font-size=\"14.00\">value = [0, 21, 0]</text>\r\n",
       "<text text-anchor=\"middle\" x=\"347.5\" y=\"-7.8\" font-family=\"Helvetica,sans-Serif\" font-size=\"14.00\">class = class_1</text>\r\n",
       "</g>\r\n",
       "<!-- 5&#45;&gt;6 -->\r\n",
       "<g id=\"edge6\" class=\"edge\">\r\n",
       "<title>5&#45;&gt;6</title>\r\n",
       "<path fill=\"none\" stroke=\"black\" d=\"M352.52,-103.73C351.91,-95.43 351.27,-86.67 350.66,-78.28\"/>\r\n",
       "<polygon fill=\"black\" stroke=\"black\" points=\"354.15,-78.02 349.93,-68.3 347.17,-78.53 354.15,-78.02\"/>\r\n",
       "</g>\r\n",
       "<!-- 7 -->\r\n",
       "<g id=\"node8\" class=\"node\">\r\n",
       "<title>7</title>\r\n",
       "<path fill=\"#77eda8\" stroke=\"black\" d=\"M535,-68C535,-68 438,-68 438,-68 432,-68 426,-62 426,-56 426,-56 426,-12 426,-12 426,-6 432,0 438,0 438,0 535,0 535,0 541,0 547,-6 547,-12 547,-12 547,-56 547,-56 547,-62 541,-68 535,-68\"/>\r\n",
       "<text text-anchor=\"middle\" x=\"486.5\" y=\"-52.8\" font-family=\"Helvetica,sans-Serif\" font-size=\"14.00\">gini = 0.363</text>\r\n",
       "<text text-anchor=\"middle\" x=\"486.5\" y=\"-37.8\" font-family=\"Helvetica,sans-Serif\" font-size=\"14.00\">samples = 21</text>\r\n",
       "<text text-anchor=\"middle\" x=\"486.5\" y=\"-22.8\" font-family=\"Helvetica,sans-Serif\" font-size=\"14.00\">value = [5, 16, 0]</text>\r\n",
       "<text text-anchor=\"middle\" x=\"486.5\" y=\"-7.8\" font-family=\"Helvetica,sans-Serif\" font-size=\"14.00\">class = class_1</text>\r\n",
       "</g>\r\n",
       "<!-- 5&#45;&gt;7 -->\r\n",
       "<g id=\"edge7\" class=\"edge\">\r\n",
       "<title>5&#45;&gt;7</title>\r\n",
       "<path fill=\"none\" stroke=\"black\" d=\"M404.28,-103.73C415.63,-94.24 427.69,-84.16 438.99,-74.72\"/>\r\n",
       "<polygon fill=\"black\" stroke=\"black\" points=\"441.23,-77.4 446.66,-68.3 436.74,-72.03 441.23,-77.4\"/>\r\n",
       "</g>\r\n",
       "<!-- 9 -->\r\n",
       "<g id=\"node10\" class=\"node\">\r\n",
       "<title>9</title>\r\n",
       "<path fill=\"#e58139\" stroke=\"black\" d=\"M566,-179.5C566,-179.5 469,-179.5 469,-179.5 463,-179.5 457,-173.5 457,-167.5 457,-167.5 457,-123.5 457,-123.5 457,-117.5 463,-111.5 469,-111.5 469,-111.5 566,-111.5 566,-111.5 572,-111.5 578,-117.5 578,-123.5 578,-123.5 578,-167.5 578,-167.5 578,-173.5 572,-179.5 566,-179.5\"/>\r\n",
       "<text text-anchor=\"middle\" x=\"517.5\" y=\"-164.3\" font-family=\"Helvetica,sans-Serif\" font-size=\"14.00\">gini = 0.0</text>\r\n",
       "<text text-anchor=\"middle\" x=\"517.5\" y=\"-149.3\" font-family=\"Helvetica,sans-Serif\" font-size=\"14.00\">samples = 18</text>\r\n",
       "<text text-anchor=\"middle\" x=\"517.5\" y=\"-134.3\" font-family=\"Helvetica,sans-Serif\" font-size=\"14.00\">value = [18, 0, 0]</text>\r\n",
       "<text text-anchor=\"middle\" x=\"517.5\" y=\"-119.3\" font-family=\"Helvetica,sans-Serif\" font-size=\"14.00\">class = class_0</text>\r\n",
       "</g>\r\n",
       "<!-- 8&#45;&gt;9 -->\r\n",
       "<g id=\"edge9\" class=\"edge\">\r\n",
       "<title>8&#45;&gt;9</title>\r\n",
       "<path fill=\"none\" stroke=\"black\" d=\"M518.81,-222.91C518.62,-212.2 518.43,-200.62 518.24,-189.78\"/>\r\n",
       "<polygon fill=\"black\" stroke=\"black\" points=\"521.74,-189.61 518.07,-179.67 514.74,-189.73 521.74,-189.61\"/>\r\n",
       "</g>\r\n",
       "<!-- 10 -->\r\n",
       "<g id=\"node11\" class=\"node\">\r\n",
       "<title>10</title>\r\n",
       "<path fill=\"#e99457\" stroke=\"black\" d=\"M705,-179.5C705,-179.5 608,-179.5 608,-179.5 602,-179.5 596,-173.5 596,-167.5 596,-167.5 596,-123.5 596,-123.5 596,-117.5 602,-111.5 608,-111.5 608,-111.5 705,-111.5 705,-111.5 711,-111.5 717,-117.5 717,-123.5 717,-123.5 717,-167.5 717,-167.5 717,-173.5 711,-179.5 705,-179.5\"/>\r\n",
       "<text text-anchor=\"middle\" x=\"656.5\" y=\"-164.3\" font-family=\"Helvetica,sans-Serif\" font-size=\"14.00\">gini = 0.231</text>\r\n",
       "<text text-anchor=\"middle\" x=\"656.5\" y=\"-149.3\" font-family=\"Helvetica,sans-Serif\" font-size=\"14.00\">samples = 15</text>\r\n",
       "<text text-anchor=\"middle\" x=\"656.5\" y=\"-134.3\" font-family=\"Helvetica,sans-Serif\" font-size=\"14.00\">value = [13, 2, 0]</text>\r\n",
       "<text text-anchor=\"middle\" x=\"656.5\" y=\"-119.3\" font-family=\"Helvetica,sans-Serif\" font-size=\"14.00\">class = class_0</text>\r\n",
       "</g>\r\n",
       "<!-- 8&#45;&gt;10 -->\r\n",
       "<g id=\"edge10\" class=\"edge\">\r\n",
       "<title>8&#45;&gt;10</title>\r\n",
       "<path fill=\"none\" stroke=\"black\" d=\"M567.03,-222.91C580.86,-211.1 595.94,-198.22 609.72,-186.45\"/>\r\n",
       "<polygon fill=\"black\" stroke=\"black\" points=\"612.33,-188.82 617.66,-179.67 607.79,-183.5 612.33,-188.82\"/>\r\n",
       "</g>\r\n",
       "</g>\r\n",
       "</svg>\r\n"
      ],
      "text/plain": [
       "<graphviz.files.Source at 0x140e96d77c8>"
      ]
     },
     "execution_count": 165,
     "metadata": {},
     "output_type": "execute_result"
    }
   ],
   "source": [
    "clf2=DecisionTreeClassifier(criterion='gini',splitter='random'\n",
    "                            ,max_depth=3\n",
    "                            ,min_samples_leaf=10\n",
    "                           )\n",
    "clf2=clf2.fit(xtrain,ytrain)\n",
    "score=clf2.score(xtest,ytest)\n",
    "print(\"score:\",score)\n",
    "dot_data=tree.export_graphviz(clf2,out_file=None\n",
    "                              ,feature_names=list(wine.feature_names)\n",
    "                              ,class_names=list(wine.target_names)\n",
    "                              ,filled=True,rounded=True)\n",
    "graph=graphviz.Source(dot_data)\n",
    "graph"
   ]
  },
  {
   "cell_type": "code",
   "execution_count": 177,
   "metadata": {},
   "outputs": [],
   "source": [
    "from matplotlib.pyplot import plot\n",
    "import matplotlib.pyplot as plt\n",
    "%matplotlib inline"
   ]
  },
  {
   "cell_type": "code",
   "execution_count": 183,
   "metadata": {
    "scrolled": true
   },
   "outputs": [
    {
     "data": {
      "image/png": "[encoded data removed]",
      "text/plain": [
       "<Figure size 432x288 with 1 Axes>"
      ]
     },
     "metadata": {
      "needs_background": "light"
     },
     "output_type": "display_data"
    }
   ],
   "source": [
    "score_result=[]\n",
    "for i in range(10):\n",
    "    clf2=DecisionTreeClassifier(criterion='gini',splitter='random'\n",
    "                            ,max_depth=i+1\n",
    "                            #,min_samples_leaf=10\n",
    "                           )\n",
    "    clf2=clf2.fit(xtrain,ytrain)\n",
    "    score=clf2.score(xtest,ytest)\n",
    "    score_result.append(score)\n",
    "plot(range(1,11),score_result,color='red',label='max_depth')\n",
    "plt.title('max_depth vs accuracy')\n",
    "plt.show()"
   ]
  },
  {
   "cell_type": "code",
   "execution_count": 190,
   "metadata": {
    "scrolled": true
   },
   "outputs": [
    {
     "data": {
      "image/png": "[encoded data removed]",
      "text/plain": [
       "<Figure size 432x288 with 1 Axes>"
      ]
     },
     "metadata": {
      "needs_background": "light"
     },
     "output_type": "display_data"
    }
   ],
   "source": [
    "score_result2=[]\n",
    "for i in [5,10,15,20,25,30,50]:\n",
    "    clf3=DecisionTreeClassifier(criterion='gini',splitter='random'\n",
    "                            ,max_depth=4\n",
    "                            ,min_samples_leaf=i\n",
    "                           )\n",
    "    clf3=clf3.fit(xtrain,ytrain)\n",
    "    score=clf3.score(xtest,ytest)\n",
    "    score_result2.append(score)\n",
    "plot([5,10,15,20,25,30,50],score_result2,color='red',label='min_samples_leaf')\n",
    "plt.title('min_samples_leaf vs accuracy')\n",
    "plt.show()"
   ]
  },
  {
   "cell_type": "code",
   "execution_count": null,
   "metadata": {},
   "outputs": [],
   "source": []
  },
  {
   "cell_type": "code",
   "execution_count": 200,
   "metadata": {},
   "outputs": [
    {
     "name": "stdout",
     "output_type": "stream",
     "text": [
      "0.7777777777777778\n"
     ]
    }
   ],
   "source": [
    "clf4=DecisionTreeClassifier(criterion='gini',splitter='random'\n",
    "                            ,max_depth=4\n",
    "                            ,min_samples_leaf=10\n",
    "                           )\n",
    "clf4=clf4.fit(xtrain,ytrain)\n",
    "score=clf4.score(xtest,ytest)\n",
    "print(score)"
   ]
  },
  {
   "cell_type": "code",
   "execution_count": null,
   "metadata": {},
   "outputs": [],
   "source": []
  }
 ],
 "metadata": {
  "kernelspec": {
   "display_name": "Python 3",
   "language": "python",
   "name": "python3"
  },
  "language_info": {
   "codemirror_mode": {
    "name": "ipython",
    "version": 3
   },
   "file_extension": ".py",
   "mimetype": "text/x-python",
   "name": "python",
   "nbconvert_exporter": "python",
   "pygments_lexer": "ipython3",
   "version": "3.7.6"
  }
 },
 "nbformat": 4,
 "nbformat_minor": 4
}
