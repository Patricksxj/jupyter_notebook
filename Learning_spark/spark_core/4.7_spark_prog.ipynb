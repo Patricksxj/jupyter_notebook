{
 "cells": [
  {
   "cell_type": "markdown",
   "metadata": {},
   "source": [
    "# 4.7 撰写一只 Spark 程序"
   ]
  },
  {
   "cell_type": "markdown",
   "metadata": {},
   "source": [
    "### 需求: 每天计算 评分前五名的电影"
   ]
  },
  {
   "cell_type": "markdown",
   "metadata": {},
   "source": [
    "### Ipython notebook: 資料探索，試驗，視覺化"
   ]
  },
  {
   "cell_type": "code",
   "execution_count": 49,
   "metadata": {},
   "outputs": [],
   "source": [
    "data = spark.read.csv(\"hdfs:///tmp/ratings.csv\", sep = ',', header= True)\n",
    "result = (data\n",
    "               .groupBy(\"movieid\")\n",
    "               .agg({'rating': 'mean'})\n",
    "               .withColumnRenamed(\"avg(rating)\", \"avg_ratings\")\n",
    "               .dropna()\n",
    "               .orderBy(['avg_ratings'], ascending=[0]))"
   ]
  },
  {
   "cell_type": "code",
   "execution_count": 47,
   "metadata": {},
   "outputs": [
    {
     "name": "stdout",
     "output_type": "stream",
     "text": [
      "+-------+-----------+\n",
      "|movieid|avg_ratings|\n",
      "+-------+-----------+\n",
      "|    329|        5.0|\n",
      "|    317|        5.0|\n",
      "|    110|        5.0|\n",
      "|    165|        5.0|\n",
      "|    150|        5.0|\n",
      "|    153|        5.0|\n",
      "|   8783|        5.0|\n",
      "|    316|        5.0|\n",
      "|    266|        5.0|\n",
      "|     34|        5.0|\n",
      "|   6539|        5.0|\n",
      "|    161|        5.0|\n",
      "|  27821|        4.5|\n",
      "|   8533|        4.5|\n",
      "|   7153|        4.0|\n",
      "|   8529|        4.0|\n",
      "|   7155|        3.5|\n",
      "|  33750|        3.5|\n",
      "|    253|        3.0|\n",
      "|     39|        3.0|\n",
      "+-------+-----------+\n",
      "only showing top 20 rows\n",
      "\n"
     ]
    }
   ],
   "source": [
    "result.show()"
   ]
  },
  {
   "cell_type": "code",
   "execution_count": 51,
   "metadata": {},
   "outputs": [
    {
     "name": "stdout",
     "output_type": "stream",
     "text": [
      "+-------+-----------+\n",
      "|movieid|avg_ratings|\n",
      "+-------+-----------+\n",
      "|    317|        5.0|\n",
      "|    329|        5.0|\n",
      "|    110|        5.0|\n",
      "|     34|        5.0|\n",
      "|   8783|        5.0|\n",
      "+-------+-----------+\n",
      "\n"
     ]
    }
   ],
   "source": [
    "result.limit(5).show()"
   ]
  },
  {
   "cell_type": "code",
   "execution_count": null,
   "metadata": {
    "collapsed": true
   },
   "outputs": [],
   "source": []
  }
 ],
 "metadata": {
  "kernelspec": {
   "display_name": "Python 2",
   "language": "python",
   "name": "python2"
  },
  "language_info": {
   "codemirror_mode": {
    "name": "ipython",
    "version": 2
   },
   "file_extension": ".py",
   "mimetype": "text/x-python",
   "name": "python",
   "nbconvert_exporter": "python",
   "pygments_lexer": "ipython2",
   "version": "2.7.5"
  }
 },
 "nbformat": 4,
 "nbformat_minor": 2
}
