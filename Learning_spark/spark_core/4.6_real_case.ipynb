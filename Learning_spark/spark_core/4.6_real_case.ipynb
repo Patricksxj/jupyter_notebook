{
 "cells": [
  {
   "cell_type": "code",
   "execution_count": 1,
   "metadata": {},
   "outputs": [],
   "source": [
    "from __future__ import print_function, division\n",
    "from pyspark import SparkConf, SparkContext\n",
    "from pyspark.sql import SparkSession\n",
    "spark = SparkSession.builder.master(\"local[4]\") \\\n",
    "   .appName(\"test\") \\\n",
    "   .enableHiveSupport() \\\n",
    "   .getOrCreate()\n",
    "\n",
    "sc = spark.sparkContext"
   ]
  },
  {
   "cell_type": "markdown",
   "metadata": {},
   "source": [
    "# Part 1: Apache Web Server Log file format\n",
    "\n",
    "今天要使用 Apache Common Log Format(CLF)．每一条Log 长得像这样\n",
    "\n",
    "`127.0.0.1 - - [01/Aug/1995:00:00:01 -0400] \"GET /images/launch-logo.gif HTTP/1.0\" 200 1839`\n",
    "\n",
    "每个部分的说明如下:\n",
    "\n",
    "`127.0.0.1` Client 的 ip 位置．\n",
    "\n",
    "`[01/Aug/1995:00:00:01 -0400]` 请求发生的时间. 格式为: [day/month/year:hour:minute:second timezone]\n",
    "\n",
    "  - #### day = 2 digits\n",
    "  - #### month = 3 letters\n",
    "  - #### year = 4 digits\n",
    "  - #### hour = 2 digits\n",
    "  - #### minute = 2 digits\n",
    "  - #### second = 2 digits\n",
    "  - #### zone = (+ | -) 4 digits\n",
    "  \n",
    "`\"GET /images/launch-logo.gif HTTP/1.0\"` 请求的第一行\n",
    "\n",
    "`200` 此次请求的状态码\n",
    "\n",
    "`1839` 传回 Clinet 端的物件大小"
   ]
  },
  {
   "cell_type": "markdown",
   "metadata": {},
   "source": [
    "## NASA-HTTP Web Server Log\n",
    "\n",
    "资料将使用 NASA Kennedy Space Center 的网站 Server 资料．这是一个公开资料可以在http://ita.ee.lbl.gov/html/contrib/NASA-HTTP.html 找到．\n",
    "\n",
    "或是你也可以直接从这里下载 ftp://ita.ee.lbl.gov/traces/NASA_access_log_Jul95.gz"
   ]
  },
  {
   "cell_type": "markdown",
   "metadata": {},
   "source": [
    "#### 下載資料需要解壓縮並放到 HDFS\n",
    "\n",
    "```bash\n",
    "gunzip NASA_access_log_Jul95.gz\n",
    "hadoop fs -put NASA_access_log_Jul95 /tmp\n",
    "```"
   ]
  },
  {
   "cell_type": "markdown",
   "metadata": {},
   "source": [
    "### 1.1 Parsing Each Log Line\n"
   ]
  },
  {
   "cell_type": "code",
   "execution_count": 5,
   "metadata": {
    "collapsed": true
   },
   "outputs": [],
   "source": [
    "import re\n",
    "import datetime\n",
    "\n",
    "from pyspark.sql import Row\n",
    "\n",
    "month_map = {'Jan': 1, 'Feb': 2, 'Mar':3, 'Apr':4, 'May':5, 'Jun':6, 'Jul':7,\n",
    "    'Aug':8,  'Sep': 9, 'Oct':10, 'Nov': 11, 'Dec': 12}\n",
    "\n",
    "def parse_apache_time(s):\n",
    "    \"\"\" Convert Apache time format into a Python datetime object\n",
    "    Args:\n",
    "        s (str): date and time in Apache time format\n",
    "    Returns:\n",
    "        datetime: datetime object (ignore timezone for now)\n",
    "    \"\"\"\n",
    "    return datetime.datetime(int(s[7:11]),\n",
    "                             month_map[s[3:6]],\n",
    "                             int(s[0:2]),\n",
    "                             int(s[12:14]),\n",
    "                             int(s[15:17]),\n",
    "                             int(s[18:20]))\n",
    "\n",
    "\n",
    "def parseApacheLogLine(logline):\n",
    "    \"\"\" Parse a line in the Apache Common Log format\n",
    "    Args:\n",
    "        logline (str): a line of text in the Apache Common Log format\n",
    "    Returns:\n",
    "        tuple: either a dictionary containing the parts of the Apache Access Log and 1,\n",
    "               or the original invalid log line and 0\n",
    "    \"\"\"\n",
    "    match = re.search(APACHE_ACCESS_LOG_PATTERN, logline)\n",
    "    if match is None:\n",
    "        return (logline, 0)\n",
    "    size_field = match.group(9)\n",
    "    if size_field == '-':\n",
    "        size = long(0)\n",
    "    else:\n",
    "        size = long(match.group(9))\n",
    "    return (Row(\n",
    "        host          = match.group(1),\n",
    "        client_identd = match.group(2),\n",
    "        user_id       = match.group(3),\n",
    "        date_time     = parse_apache_time(match.group(4)),\n",
    "        method        = match.group(5),\n",
    "        endpoint      = match.group(6),\n",
    "        protocol      = match.group(7),\n",
    "        response_code = int(match.group(8)),\n",
    "        content_size  = size\n",
    "    ), 1)"
   ]
  },
  {
   "cell_type": "code",
   "execution_count": 3,
   "metadata": {
    "collapsed": true
   },
   "outputs": [],
   "source": [
    "# A regular expression pattern to extract fields from the log line\n",
    "APACHE_ACCESS_LOG_PATTERN = '^(\\S+) (\\S+) (\\S+) \\[([\\w:/]+\\s[+\\-]\\d{4})\\] \"(\\S+) (\\S+)\\s*(\\S*)\" (\\d{3}) (\\S+)'"
   ]
  },
  {
   "cell_type": "markdown",
   "metadata": {},
   "source": [
    "### 1.2 建立RDD\n"
   ]
  },
  {
   "cell_type": "code",
   "execution_count": 7,
   "metadata": {},
   "outputs": [],
   "source": [
    "def parseLogs(logFile):\n",
    "    \"\"\" Read and parse log file \"\"\"\n",
    "    parsed_logs = (sc\n",
    "                   .textFile(logFile)\n",
    "                   .map(parseApacheLogLine)\n",
    "                   .cache())\n",
    "\n",
    "    access_logs = (parsed_logs\n",
    "                   .filter(lambda s: s[1] == 1)\n",
    "                   .map(lambda s: s[0])\n",
    "                   .cache())\n",
    "\n",
    "    failed_logs = (parsed_logs\n",
    "                   .filter(lambda s: s[1] == 0)\n",
    "                   .map(lambda s: s[0]))\n",
    "    failed_logs_count = failed_logs.count()\n",
    "    \n",
    "    if failed_logs_count > 0:\n",
    "        print('Number of invalid logline: {}'.format(failed_logs.count()))\n",
    "        for line in failed_logs.take(20):\n",
    "            try:\n",
    "                print('Invalid logline: {}'.format(str(line)))\n",
    "            except Exception:\n",
    "                pass\n",
    "\n",
    "    print('Read {} lines, successfully parsed {} lines, failed to parse {} lines'.format(parsed_logs.count(), access_logs.count(), failed_logs.count()))\n",
    "    return parsed_logs, access_logs, failed_logs\n",
    "\n",
    "\n"
   ]
  },
  {
   "cell_type": "code",
   "execution_count": null,
   "metadata": {
    "collapsed": true
   },
   "outputs": [],
   "source": [
    "parsed_logs, access_logs, failed_logs = parseLogs('hdfs:///tmp/NASA_access_log_Jul95')"
   ]
  },
  {
   "cell_type": "markdown",
   "metadata": {},
   "source": [
    "### 1.3 資料清洗\n"
   ]
  },
  {
   "cell_type": "code",
   "execution_count": 31,
   "metadata": {
    "collapsed": true
   },
   "outputs": [],
   "source": [
    "## 测试不同的 Log Pattern\n",
    "APACHE_ACCESS_LOG_PATTERN = '^(\\S+) (\\S+) (\\S+) \\[([\\w:/]+\\s[+\\-]\\d{4})\\] \"(\\S+) (\\S+)\\s*(\\S*)\\s*\" (\\d{3}) (\\S+)'"
   ]
  },
  {
   "cell_type": "code",
   "execution_count": 8,
   "metadata": {},
   "outputs": [
    {
     "name": "stdout",
     "output_type": "stream",
     "text": [
      "Number of invalid logline: 849\n",
      "Invalid logline: 204.120.229.63 - - [01/Jul/1995:04:29:05 -0400] \"GET /history/history.html                                                 hqpao/hqpao_home.html HTTP/1.0\" 200 1502\n",
      "Invalid logline: nccse.gsfc.nasa.gov - - [01/Jul/1995:07:36:13 -0400] \"GET /shuttle/missions/missions.html Shuttle Launches from Kennedy Space Center HTTP/1.0\" 200 8677\n",
      "Invalid logline: ix-nbw-nj1-22.ix.netcom.com - - [01/Jul/1995:10:42:09 -0400] \"GET /finger @net.com HTTP/1.0\" 404 -\n",
      "Invalid logline: gpotterpc.llnl.gov - - [01/Jul/1995:22:26:51 -0400] \"GET /htbin/wais.pl?orbit sts71 HTTP/1.0\" 200 317\n",
      "Invalid logline: wxs6-7.worldaccess.nl - - [02/Jul/1995:08:09:27 -0400] \"GET / /   HTTP/1.0\" 200 7074\n",
      "Invalid logline: wxs6-7.worldaccess.nl - - [02/Jul/1995:08:11:20 -0400] \"GET / /facts/facts.html HTTP/1.0\" 200 7074\n",
      "Invalid logline: s29.abqslip.indirect.com - - [02/Jul/1995:14:24:26 -0400] \"GET /htbin/wais.pl?Wake Shield HTTP/1.0\" 200 7020\n",
      "Invalid logline: wxs6-4.worldaccess.nl - - [03/Jul/1995:08:14:40 -0400] \"GET / /   HTTP/1.0\" 304 0\n",
      "Invalid logline: atl4-m52.ed.ac.uk - - [03/Jul/1995:09:31:12 -0400] \"GET /images/NASA-logosmall.gif align=left HTTP/1.0\" 200 786\n",
      "Invalid logline: atl4-m52.ed.ac.uk - - [03/Jul/1995:09:32:20 -0400] \"GET /images/NASA-logosmall.gif align=left HTTP/1.0\" 200 786\n",
      "Invalid logline: atl4-m52.ed.ac.uk - - [03/Jul/1995:09:32:47 -0400] \"GET /images/NASA-logosmall.gif align=left HTTP/1.0\" 200 786\n",
      "Invalid logline: atl4-m52.ed.ac.uk - - [03/Jul/1995:09:33:50 -0400] \"GET /images/NASA-logosmall.gif align=left HTTP/1.0\" 200 786\n",
      "Invalid logline: atl4-m52.ed.ac.uk - - [03/Jul/1995:09:35:27 -0400] \"GET /images/NASA-logosmall.gif align=left HTTP/1.0\" 200 786\n",
      "Invalid logline: atl4-m52.ed.ac.uk - - [03/Jul/1995:09:36:21 -0400] \"GET /images/NASA-logosmall.gif align=left HTTP/1.0\" 200 786\n",
      "Invalid logline: atl4-m52.ed.ac.uk - - [03/Jul/1995:09:38:23 -0400] \"GET /images/NASA-logosmall.gif align=left HTTP/1.0\" 200 786\n",
      "Invalid logline: atl4-m52.ed.ac.uk - - [03/Jul/1995:09:39:10 -0400] \"GET /images/NASA-logosmall.gif align=left HTTP/1.0\" 200 786\n",
      "Invalid logline: atl4-m52.ed.ac.uk - - [03/Jul/1995:09:40:08 -0400] \"GET /images/NASA-logosmall.gif align=left HTTP/1.0\" 200 786\n",
      "Invalid logline: atl4-m52.ed.ac.uk - - [03/Jul/1995:09:44:39 -0400] \"GET /images/NASA-logosmall.gif align=left HTTP/1.0\" 200 786\n",
      "Read 1891715 lines, successfully parsed 1890866 lines, failed to parse 849 lines\n"
     ]
    }
   ],
   "source": [
    "parsed_logs, access_logs, failed_logs = parseLogs('hdfs:///tmp/NASA_access_log_Jul95')"
   ]
  },
  {
   "cell_type": "markdown",
   "metadata": {},
   "source": [
    "## Part 2:  Log 资料基本分析"
   ]
  },
  {
   "cell_type": "markdown",
   "metadata": {},
   "source": [
    "### 2.1 内容大小统计\n"
   ]
  },
  {
   "cell_type": "code",
   "execution_count": 9,
   "metadata": {},
   "outputs": [
    {
     "name": "stdout",
     "output_type": "stream",
     "text": [
      "Content Size Avg: 20464, Min: 0, Max: 6823936\n"
     ]
    }
   ],
   "source": [
    "# Calculate statistics based on the content size.\n",
    "content_sizes = access_logs.map(lambda log: log.content_size).cache()\n",
    "print('Content Size Avg: %i, Min: %i, Max: %s' % (\n",
    "    content_sizes.reduce(lambda a, b : a + b) / content_sizes.count(),\n",
    "    content_sizes.min(),\n",
    "    content_sizes.max()))\n"
   ]
  },
  {
   "cell_type": "markdown",
   "metadata": {},
   "source": [
    "### 2.2 Response Code 分析"
   ]
  },
  {
   "cell_type": "code",
   "execution_count": 10,
   "metadata": {},
   "outputs": [
    {
     "name": "stdout",
     "output_type": "stream",
     "text": [
      "Found 7 response codes\n",
      "Response Code Counts: [(200, 1700757), (304, 132626), (404, 10784), (500, 62), (302, 46569), (403, 54), (501, 14)]\n"
     ]
    }
   ],
   "source": [
    "# Response Code to Count\n",
    "responseCodeToCount = (access_logs\n",
    "                       .map(lambda log: (log.response_code, 1))\n",
    "                       .reduceByKey(lambda a, b : a + b)\n",
    "                       .cache())\n",
    "responseCodeToCountList = responseCodeToCount.take(100)\n",
    "print('Found %d response codes' % len(responseCodeToCountList))\n",
    "print('Response Code Counts: %s' % responseCodeToCountList)\n"
   ]
  },
  {
   "cell_type": "markdown",
   "metadata": {},
   "source": [
    "### 2.2 使用 Matplotlib 画图  "
   ]
  },
  {
   "cell_type": "code",
   "execution_count": 11,
   "metadata": {},
   "outputs": [
    {
     "name": "stdout",
     "output_type": "stream",
     "text": [
      "[200, 304, 404, 500, 302, 403, 501]\n",
      "[0.8994592953704811, 0.07014034839063159, 0.00570320689038779, 3.278920875408411e-05, 0.02462839778175714, 2.8558343108395834e-05, 7.404014879954476e-06]\n"
     ]
    }
   ],
   "source": [
    "labels = responseCodeToCount.map(lambda (x, y): x).collect()\n",
    "print(labels)\n",
    "count = access_logs.count()\n",
    "fracs = responseCodeToCount.map(lambda (x, y): (float(y) / count)).collect()\n",
    "print(fracs)"
   ]
  },
  {
   "cell_type": "code",
   "execution_count": 14,
   "metadata": {},
   "outputs": [],
   "source": [
    "%matplotlib inline"
   ]
  },
  {
   "cell_type": "code",
   "execution_count": 16,
   "metadata": {},
   "outputs": [
    {
     "data": {
      "image/png": "[encoded data removed]",
      "text/plain": [
       "<matplotlib.figure.Figure at 0x29d7f10>"
      ]
     },
     "metadata": {},
     "output_type": "display_data"
    }
   ],
   "source": [
    "import matplotlib.pyplot as plt\n",
    "def pie_pct_format(value):\n",
    "    \"\"\" Determine the appropriate format string for the pie chart percentage label\n",
    "    Args:\n",
    "        value: value of the pie slice\n",
    "    Returns:\n",
    "        str: formated string label; if the slice is too small to fit, returns an empty string for label\n",
    "    \"\"\"\n",
    "    return '' if value < 7 else '%.0f%%' % value\n",
    "\n",
    "fig = plt.figure(figsize=(4.5, 4.5), facecolor='white', edgecolor='white')\n",
    "colors = ['yellowgreen', 'lightskyblue', 'gold', 'purple', 'lightcoral', 'yellow', 'black']\n",
    "explode = (0.05, 0.05, 0.1, 0, 0, 0, 0)\n",
    "patches, texts, autotexts = plt.pie(fracs, labels=labels, colors=colors,\n",
    "                                    explode=explode, autopct=pie_pct_format,\n",
    "                                    shadow=False,  startangle=125)\n",
    "for text, autotext in zip(texts, autotexts):\n",
    "    if autotext.get_text() == '':\n",
    "        text.set_text('')  # If the slice is small to fit, don't show a text label\n",
    "plt.legend(labels, loc=(0.80, -0.1), shadow=True)\n",
    "pass"
   ]
  },
  {
   "cell_type": "markdown",
   "metadata": {},
   "source": [
    "### 2.4 Frequent Hosts"
   ]
  },
  {
   "cell_type": "code",
   "execution_count": 19,
   "metadata": {},
   "outputs": [
    {
     "name": "stdout",
     "output_type": "stream",
     "text": [
      "Any 20 hosts that have accessed more then 10 times: [u'sl137.active.ch', u'ppp8.ifa.hawaii.edu', u'sjackson.seanet.com', u'p10.superlink.net', u'134.134.192.7', u'liblrd-class9.tamu.edu', u'dd08-048.compuserve.com', u'198.53.162.184', u'199.77.67.7', u'204.92.50.3', u'gs1.cs.ttu.edu', u'wilma.netinfo.com.au', u'dcn60.dcn.davis.ca.us', u'haskell.limbex.com', u'celebrian.otago.ac.nz', u'slip1-25.acs.ohio-state.edu', u'daha-78-138.ipt.aol.com', u'159.142.136.214', u'203.17.12.1', u'acapulco.nynexst.com']\n"
     ]
    }
   ],
   "source": [
    "hostCountPairTuple = access_logs.map(lambda log: (log.host, 1))\n",
    "\n",
    "hostSum = hostCountPairTuple.reduceByKey(lambda a, b : a + b)\n",
    "\n",
    "hostMoreThan10 = hostSum.filter(lambda s: s[1] > 10)\n",
    "\n",
    "hostsPick20 = (hostMoreThan10\n",
    "               .map(lambda s: s[0])\n",
    "               .take(20))\n",
    "\n",
    "print('Any 20 hosts that have accessed more then 10 times: %s' % hostsPick20)"
   ]
  },
  {
   "cell_type": "markdown",
   "metadata": {},
   "source": [
    "### 2.5 將 Endpoints 視覺化"
   ]
  },
  {
   "cell_type": "code",
   "execution_count": 20,
   "metadata": {},
   "outputs": [
    {
     "data": {
      "image/png": "[encoded data removed]",
      "text/plain": [
       "<matplotlib.figure.Figure at 0x3c44510>"
      ]
     },
     "metadata": {},
     "output_type": "display_data"
    }
   ],
   "source": [
    "endpoints = (access_logs\n",
    "             .map(lambda log: (log.endpoint, 1))\n",
    "             .reduceByKey(lambda a, b : a + b)\n",
    "             .cache())\n",
    "ends = endpoints.map(lambda (x, y): x).collect()\n",
    "counts = endpoints.map(lambda (x, y): y).collect()\n",
    "\n",
    "fig = plt.figure(figsize=(8,4.2), facecolor='white', edgecolor='white')\n",
    "plt.axis([0, len(ends), 0, max(counts)])\n",
    "plt.grid(b=True, which='major', axis='y')\n",
    "plt.xlabel('Endpoints')\n",
    "plt.ylabel('Number of Hits')\n",
    "plt.plot(counts)\n",
    "pass"
   ]
  },
  {
   "cell_type": "markdown",
   "metadata": {},
   "source": [
    "## Part 3: 分析網站伺服器 Log "
   ]
  },
  {
   "cell_type": "markdown",
   "metadata": {},
   "source": [
    "### 3.1 Top Ten Error Endpoints"
   ]
  },
  {
   "cell_type": "code",
   "execution_count": 32,
   "metadata": {},
   "outputs": [
    {
     "name": "stdout",
     "output_type": "stream",
     "text": [
      "Top Ten failed URLs: [(u'/images/NASA-logosmall.gif', 21010), (u'/images/KSC-logosmall.gif', 12435), (u'/images/MOSAIC-logosmall.gif', 6628), (u'/images/USA-logosmall.gif', 6577), (u'/images/WORLD-logosmall.gif', 6413), (u'/images/ksclogo-medium.gif', 5837), (u'/images/launch-logo.gif', 4628), (u'/shuttle/countdown/liftoff.html', 3509), (u'/shuttle/countdown/', 3345), (u'/shuttle/countdown/images/cdtclock.gif', 3251)]\n",
      "\n"
     ]
    }
   ],
   "source": [
    "not200 = access_logs.filter(lambda log: log.response_code != 200)\n",
    "\n",
    "endpointCountPairTuple = not200.map(lambda log: (log.endpoint, 1))\n",
    "\n",
    "endpointSum = endpointCountPairTuple.reduceByKey(lambda a, b : a + b)\n",
    "\n",
    "topTenErrURLs = endpointSum.takeOrdered(10, lambda s: -1 * s[1])\n",
    "print('Top Ten failed URLs: %s' % topTenErrURLs)\n"
   ]
  },
  {
   "cell_type": "markdown",
   "metadata": {},
   "source": [
    "### 3.2 Number of Unique Hosts"
   ]
  },
  {
   "cell_type": "code",
   "execution_count": 24,
   "metadata": {
    "scrolled": true
   },
   "outputs": [
    {
     "name": "stdout",
     "output_type": "stream",
     "text": [
      "Unique hosts: 81971\n"
     ]
    }
   ],
   "source": [
    "hosts = access_logs.map(lambda log: log.host)\n",
    "\n",
    "uniqueHosts = hosts.distinct()\n",
    "\n",
    "uniqueHostCount = uniqueHosts.count()\n",
    "print('Unique hosts: %d' % uniqueHostCount)\n"
   ]
  },
  {
   "cell_type": "markdown",
   "metadata": {},
   "source": [
    "### 3.3 Number of Unique Daily Hosts"
   ]
  },
  {
   "cell_type": "code",
   "execution_count": 36,
   "metadata": {},
   "outputs": [
    {
     "name": "stdout",
     "output_type": "stream",
     "text": [
      "Unique hosts per day: [(1, 5192), (2, 4859), (3, 7335), (4, 5522), (5, 7382), (6, 7819), (7, 6473), (8, 2897), (9, 2553), (10, 4464), (11, 4924), (12, 5345), (13, 6951), (14, 5296), (15, 3116), (16, 3012), (17, 4943), (18, 4522), (19, 4918), (20, 4727), (21, 4339), (22, 2575), (23, 2635), (24, 4297), (25, 4376), (26, 4296), (27, 4368), (28, 2175)]\n"
     ]
    }
   ],
   "source": [
    "dayToHostPairTuple = access_logs.map(lambda log: (log.date_time.day, log.host)).distinct()\n",
    "\n",
    "dayGroupedHosts = dayToHostPairTuple.groupByKey()\n",
    "\n",
    "dayHostCount = dayGroupedHosts.map(lambda (day, hosts): (day, len(hosts)))\n",
    "\n",
    "dailyHosts = (dayHostCount\n",
    "              .sortByKey()\n",
    "              .cache())\n",
    "dailyHostsList = dailyHosts.take(30)\n",
    "print('Unique hosts per day: %s' % dailyHostsList)"
   ]
  },
  {
   "cell_type": "markdown",
   "metadata": {},
   "source": [
    "### 3.4 Visualizing the Number of Unique Daily Hosts"
   ]
  },
  {
   "cell_type": "code",
   "execution_count": 26,
   "metadata": {
    "collapsed": true
   },
   "outputs": [],
   "source": [
    "daysWithHosts = dailyHosts.map(lambda log: log[0]).collect()\n",
    "hosts = dailyHosts.map(lambda log: log[1]).collect()"
   ]
  },
  {
   "cell_type": "code",
   "execution_count": 27,
   "metadata": {},
   "outputs": [
    {
     "data": {
      "text/plain": [
       "[<matplotlib.lines.Line2D at 0x48cead0>]"
      ]
     },
     "execution_count": 27,
     "metadata": {},
     "output_type": "execute_result"
    },
    {
     "data": {
      "image/png": "[encoded data removed]",
      "text/plain": [
       "<matplotlib.figure.Figure at 0x44e7590>"
      ]
     },
     "metadata": {},
     "output_type": "display_data"
    }
   ],
   "source": [
    "fig = plt.figure(figsize=(8,4.5), facecolor='white', edgecolor='white')\n",
    "plt.axis([min(daysWithHosts), max(daysWithHosts), 0, max(hosts)+500])\n",
    "plt.grid(b=True, which='major', axis='y')\n",
    "plt.xlabel('Day')\n",
    "plt.ylabel('Hosts')\n",
    "plt.plot(daysWithHosts, hosts)"
   ]
  },
  {
   "cell_type": "markdown",
   "metadata": {},
   "source": [
    "### 3.5 Average Number of Daily Requests per Hosts"
   ]
  },
  {
   "cell_type": "code",
   "execution_count": 37,
   "metadata": {},
   "outputs": [
    {
     "name": "stdout",
     "output_type": "stream",
     "text": [
      "Average number of daily requests per Hosts is [(1, 12.463405238828967), (2, 12.401728750771763), (3, 12.207498295841853), (4, 12.756972111553784), (5, 12.811162286643187), (6, 12.91162552756107), (7, 13.472578402595396), (8, 13.41422160856058), (9, 13.81159420289855), (10, 16.31989247311828), (11, 16.310926076360683), (12, 17.255378858746493), (13, 19.270896273917423), (14, 15.880098187311178), (15, 14.610397946084724), (16, 15.885126162018592), (17, 15.168318834715759), (18, 14.211632021229544), (19, 14.789955266368443), (20, 14.08694732388407), (21, 14.894445724821388), (22, 13.691650485436893), (23, 14.874762808349146), (24, 14.952525017454038), (25, 14.327696526508227), (26, 13.697160148975792), (27, 14.119505494505495), (28, 12.468045977011494)]\n"
     ]
    }
   ],
   "source": [
    "dayAndHostTuple = access_logs.map(lambda log: (log.date_time.day, log.host))\n",
    "\n",
    "groupedByDay = dayAndHostTuple.groupByKey()\n",
    "\n",
    "sortedByDay = groupedByDay.sortByKey()\n",
    "\n",
    "avgDailyReqPerHost = (sortedByDay\n",
    "                      .map(lambda(day, requests): (day, len(requests)))\n",
    "                      .join(dailyHosts)\n",
    "                     .map(lambda(day, (totalRequests, numOfHosts)): (day, totalRequests/numOfHosts))\n",
    "                     .sortByKey()\n",
    "                     .cache())\n",
    "avgDailyReqPerHostList = avgDailyReqPerHost.take(30)\n",
    "print('Average number of daily requests per Hosts is %s' % avgDailyReqPerHostList)"
   ]
  },
  {
   "cell_type": "markdown",
   "metadata": {},
   "source": [
    "### 3.6 Visualizing the Average Daily Requests per Unique Host"
   ]
  },
  {
   "cell_type": "code",
   "execution_count": 29,
   "metadata": {
    "collapsed": true
   },
   "outputs": [],
   "source": [
    "daysWithAvg = avgDailyReqPerHost.map(lambda (day, avg): day).collect()\n",
    "avgs = avgDailyReqPerHost.map(lambda (day, avg): avg).collect()"
   ]
  },
  {
   "cell_type": "code",
   "execution_count": 30,
   "metadata": {},
   "outputs": [
    {
     "data": {
      "image/png": "[encoded data removed]",
      "text/plain": [
       "<matplotlib.figure.Figure at 0x48b4c90>"
      ]
     },
     "metadata": {},
     "output_type": "display_data"
    }
   ],
   "source": [
    "fig = plt.figure(figsize=(8,4.2), facecolor='white', edgecolor='white')\n",
    "plt.axis([0, max(daysWithAvg), 0, max(avgs)+2])\n",
    "plt.grid(b=True, which='major', axis='y')\n",
    "plt.xlabel('Day')\n",
    "plt.ylabel('Average')\n",
    "plt.plot(daysWithAvg, avgs)\n",
    "pass"
   ]
  },
  {
   "cell_type": "code",
   "execution_count": null,
   "metadata": {
    "collapsed": true
   },
   "outputs": [],
   "source": []
  }
 ],
 "metadata": {
  "kernelspec": {
   "display_name": "Python 2",
   "language": "python",
   "name": "python2"
  },
  "language_info": {
   "codemirror_mode": {
    "name": "ipython",
    "version": 2
   },
   "file_extension": ".py",
   "mimetype": "text/x-python",
   "name": "python",
   "nbconvert_exporter": "python",
   "pygments_lexer": "ipython2",
   "version": "2.7.5"
  }
 },
 "nbformat": 4,
 "nbformat_minor": 2
}
