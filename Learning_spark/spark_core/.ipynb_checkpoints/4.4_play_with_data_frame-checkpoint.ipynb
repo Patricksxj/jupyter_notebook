{
 "cells": [
  {
   "cell_type": "code",
   "execution_count": 2,
   "metadata": {},
   "outputs": [],
   "source": [
    "from __future__ import print_function, division\n",
    "from pyspark import SparkConf, SparkContext\n",
    "from pyspark.sql import SparkSession\n",
    "spark = SparkSession.builder.master(\"local\") \\\n",
    "   .appName(\"test\") \\\n",
    "   .enableHiveSupport() \\\n",
    "   .getOrCreate()\n",
    "\n",
    "sc = spark.sparkContext"
   ]
  },
  {
   "cell_type": "markdown",
   "metadata": {},
   "source": [
    "# 4.4 操作與觀察 Dataframe"
   ]
  },
  {
   "cell_type": "markdown",
   "metadata": {},
   "source": [
    "## Part1. 基本操作與觀察"
   ]
  },
  {
   "cell_type": "markdown",
   "metadata": {},
   "source": [
    "### Read file"
   ]
  },
  {
   "cell_type": "code",
   "execution_count": 71,
   "metadata": {
    "collapsed": true
   },
   "outputs": [],
   "source": [
    "fileDF = spark.read.csv(\"hdfs:///tmp/ratings.csv\", sep = ',', header = True)"
   ]
  },
  {
   "cell_type": "markdown",
   "metadata": {},
   "source": [
    "### 观察档案"
   ]
  },
  {
   "cell_type": "code",
   "execution_count": 72,
   "metadata": {},
   "outputs": [
    {
     "name": "stdout",
     "output_type": "stream",
     "text": [
      "+------+-------+------+----------+\n",
      "|userid|movieid|rating|        ts|\n",
      "+------+-------+------+----------+\n",
      "|     3|   6539|     5|1133571238|\n",
      "|     3|   7153|     4|1133571171|\n",
      "|     3|   7155|   3.5|1164885564|\n",
      "|     3|   8529|     4|1136075616|\n",
      "|     3|   8533|   4.5|1136418593|\n",
      "|     3|   8783|     5|1136075857|\n",
      "|     3|  27821|   4.5|1136418616|\n",
      "|     3|  33750|   3.5|1164885688|\n",
      "|     3|  33750|   3.5|1164887688|\n",
      "|     3|    344|  null| 844416742|\n",
      "|     4|     21|     3| 844416980|\n",
      "|     4|     34|     5| 844416936|\n",
      "|     4|     39|     3| 844417037|\n",
      "|     4|    110|     5| 844416866|\n",
      "|     4|    150|     5| 844416656|\n",
      "|     4|    153|     5| 844416699|\n",
      "|     4|    161|     5| 844416835|\n",
      "|     4|    165|     5| 844416699|\n",
      "|     4|    208|     3| 844416866|\n",
      "|     4|    231|     1| 844416742|\n",
      "+------+-------+------+----------+\n",
      "only showing top 20 rows\n",
      "\n"
     ]
    }
   ],
   "source": [
    "fileDF.show()"
   ]
  },
  {
   "cell_type": "markdown",
   "metadata": {},
   "source": [
    "### 观察栏位"
   ]
  },
  {
   "cell_type": "code",
   "execution_count": 73,
   "metadata": {},
   "outputs": [
    {
     "data": {
      "text/plain": [
       "['userid', 'movieid', 'rating', 'ts']"
      ]
     },
     "execution_count": 73,
     "metadata": {},
     "output_type": "execute_result"
    }
   ],
   "source": [
    "fileDF.columns"
   ]
  },
  {
   "cell_type": "code",
   "execution_count": 74,
   "metadata": {},
   "outputs": [
    {
     "data": {
      "text/plain": [
       "4"
      ]
     },
     "execution_count": 74,
     "metadata": {},
     "output_type": "execute_result"
    }
   ],
   "source": [
    "len(fileDF.columns)"
   ]
  },
  {
   "cell_type": "markdown",
   "metadata": {},
   "source": [
    "### 栏位统计值"
   ]
  },
  {
   "cell_type": "code",
   "execution_count": 75,
   "metadata": {},
   "outputs": [
    {
     "name": "stdout",
     "output_type": "stream",
     "text": [
      "+-------+------------------+-----------------+------------------+-------------------+\n",
      "|summary|            userid|          movieid|            rating|                 ts|\n",
      "+-------+------------------+-----------------+------------------+-------------------+\n",
      "|  count|                29|               28|                27|                 28|\n",
      "|   mean|3.6551724137931036|5217.678571428572| 4.018518518518518|9.410967772142857E8|\n",
      "| stddev|0.4837252813149749|9923.353021491952|1.1135656648929557|1.432772681721757E8|\n",
      "|    min|                 3|              110|                 1|         1133571171|\n",
      "|    max|                 4|             8783|                 5|          844417070|\n",
      "+-------+------------------+-----------------+------------------+-------------------+\n",
      "\n"
     ]
    }
   ],
   "source": [
    "fileDF.describe().show()"
   ]
  },
  {
   "cell_type": "code",
   "execution_count": 76,
   "metadata": {},
   "outputs": [
    {
     "name": "stdout",
     "output_type": "stream",
     "text": [
      "+-------+------------------+\n",
      "|summary|            userid|\n",
      "+-------+------------------+\n",
      "|  count|                29|\n",
      "|   mean|3.6551724137931036|\n",
      "| stddev|0.4837252813149749|\n",
      "|    min|                 3|\n",
      "|    max|                 4|\n",
      "+-------+------------------+\n",
      "\n"
     ]
    }
   ],
   "source": [
    "fileDF.describe('userid').show()"
   ]
  },
  {
   "cell_type": "markdown",
   "metadata": {},
   "source": [
    "### 打印 schema"
   ]
  },
  {
   "cell_type": "code",
   "execution_count": 77,
   "metadata": {},
   "outputs": [
    {
     "name": "stdout",
     "output_type": "stream",
     "text": [
      "root\n",
      " |-- userid: string (nullable = true)\n",
      " |-- movieid: string (nullable = true)\n",
      " |-- rating: string (nullable = true)\n",
      " |-- ts: string (nullable = true)\n",
      "\n"
     ]
    }
   ],
   "source": [
    "fileDF.printSchema()"
   ]
  },
  {
   "cell_type": "markdown",
   "metadata": {},
   "source": [
    "### 選擇欄位"
   ]
  },
  {
   "cell_type": "code",
   "execution_count": 78,
   "metadata": {},
   "outputs": [
    {
     "name": "stdout",
     "output_type": "stream",
     "text": [
      "+------+------+\n",
      "|userid|rating|\n",
      "+------+------+\n",
      "|     3|     5|\n",
      "|     3|     4|\n",
      "|     3|   3.5|\n",
      "|     3|     4|\n",
      "|     3|   4.5|\n",
      "|     3|     5|\n",
      "|     3|   4.5|\n",
      "|     3|   3.5|\n",
      "|     3|   3.5|\n",
      "|     3|  null|\n",
      "|     4|     3|\n",
      "|     4|     5|\n",
      "|     4|     3|\n",
      "|     4|     5|\n",
      "|     4|     5|\n",
      "|     4|     5|\n",
      "|     4|     5|\n",
      "|     4|     5|\n",
      "|     4|     3|\n",
      "|     4|     1|\n",
      "+------+------+\n",
      "only showing top 20 rows\n",
      "\n"
     ]
    }
   ],
   "source": [
    "fileDF.select('userid', 'rating').show()"
   ]
  },
  {
   "cell_type": "code",
   "execution_count": 79,
   "metadata": {},
   "outputs": [
    {
     "name": "stdout",
     "output_type": "stream",
     "text": [
      "+------+------------+\n",
      "|userid|(rating + 1)|\n",
      "+------+------------+\n",
      "|     3|         6.0|\n",
      "|     3|         5.0|\n",
      "|     3|         4.5|\n",
      "|     3|         5.0|\n",
      "|     3|         5.5|\n",
      "|     3|         6.0|\n",
      "|     3|         5.5|\n",
      "|     3|         4.5|\n",
      "|     3|         4.5|\n",
      "|     3|        null|\n",
      "|     4|         4.0|\n",
      "|     4|         6.0|\n",
      "|     4|         4.0|\n",
      "|     4|         6.0|\n",
      "|     4|         6.0|\n",
      "|     4|         6.0|\n",
      "|     4|         6.0|\n",
      "|     4|         6.0|\n",
      "|     4|         4.0|\n",
      "|     4|         2.0|\n",
      "+------+------------+\n",
      "only showing top 20 rows\n",
      "\n"
     ]
    }
   ],
   "source": [
    "fileDF.select('userid', fileDF['rating'] + 1).show()"
   ]
  },
  {
   "cell_type": "code",
   "execution_count": 80,
   "metadata": {},
   "outputs": [
    {
     "name": "stdout",
     "output_type": "stream",
     "text": [
      "root\n",
      " |-- userid: string (nullable = true)\n",
      " |-- (rating + 1): double (nullable = true)\n",
      "\n"
     ]
    }
   ],
   "source": [
    "fileDF.select('userid', fileDF['rating'] + 1).printSchema()"
   ]
  },
  {
   "cell_type": "markdown",
   "metadata": {},
   "source": [
    "### 篩選欄位"
   ]
  },
  {
   "cell_type": "code",
   "execution_count": 81,
   "metadata": {},
   "outputs": [
    {
     "name": "stdout",
     "output_type": "stream",
     "text": [
      "+------+-------+------+----------+\n",
      "|userid|movieid|rating|        ts|\n",
      "+------+-------+------+----------+\n",
      "|     3|   6539|     5|1133571238|\n",
      "|     3|   7153|     4|1133571171|\n",
      "|     3|   7155|   3.5|1164885564|\n",
      "|     3|   8529|     4|1136075616|\n",
      "|     3|   8533|   4.5|1136418593|\n",
      "|     3|   8783|     5|1136075857|\n",
      "|     3|  27821|   4.5|1136418616|\n",
      "|     3|  33750|   3.5|1164885688|\n",
      "|     3|  33750|   3.5|1164887688|\n",
      "|     3|    344|  null| 844416742|\n",
      "+------+-------+------+----------+\n",
      "\n"
     ]
    }
   ],
   "source": [
    "fileDF.filter(fileDF['userid'] == 3).show()"
   ]
  },
  {
   "cell_type": "code",
   "execution_count": 82,
   "metadata": {},
   "outputs": [
    {
     "name": "stdout",
     "output_type": "stream",
     "text": [
      "+------+------+\n",
      "|userid|rating|\n",
      "+------+------+\n",
      "|     3|     5|\n",
      "|     3|     4|\n",
      "|     3|   3.5|\n",
      "|     3|     4|\n",
      "|     3|   4.5|\n",
      "|     3|     5|\n",
      "|     3|   4.5|\n",
      "|     3|   3.5|\n",
      "|     3|   3.5|\n",
      "|     3|  null|\n",
      "+------+------+\n",
      "\n"
     ]
    }
   ],
   "source": [
    "fileDF.filter(fileDF['userid'] == 3).select('userid', 'rating').show()"
   ]
  },
  {
   "cell_type": "markdown",
   "metadata": {},
   "source": [
    "### 計算不重複值"
   ]
  },
  {
   "cell_type": "code",
   "execution_count": 83,
   "metadata": {},
   "outputs": [
    {
     "data": {
      "text/plain": [
       "29"
      ]
     },
     "execution_count": 83,
     "metadata": {},
     "output_type": "execute_result"
    }
   ],
   "source": [
    "fileDF.count()"
   ]
  },
  {
   "cell_type": "code",
   "execution_count": 84,
   "metadata": {},
   "outputs": [
    {
     "name": "stdout",
     "output_type": "stream",
     "text": [
      "+------+\n",
      "|userid|\n",
      "+------+\n",
      "|     3|\n",
      "|     4|\n",
      "+------+\n",
      "\n"
     ]
    }
   ],
   "source": [
    "fileDF.select('userid').distinct().show()"
   ]
  },
  {
   "cell_type": "markdown",
   "metadata": {},
   "source": [
    "### 小練習: 有幾部電影被評為5分?"
   ]
  },
  {
   "cell_type": "code",
   "execution_count": 85,
   "metadata": {},
   "outputs": [
    {
     "name": "stdout",
     "output_type": "stream",
     "text": [
      "+------+-------+------+----------+\n",
      "|userid|movieid|rating|        ts|\n",
      "+------+-------+------+----------+\n",
      "|     3|   6539|     5|1133571238|\n",
      "|     3|   7153|     4|1133571171|\n",
      "|     3|   7155|   3.5|1164885564|\n",
      "|     3|   8529|     4|1136075616|\n",
      "|     3|   8533|   4.5|1136418593|\n",
      "|     3|   8783|     5|1136075857|\n",
      "|     3|  27821|   4.5|1136418616|\n",
      "|     3|  33750|   3.5|1164885688|\n",
      "|     3|  33750|   3.5|1164887688|\n",
      "|     3|    344|  null| 844416742|\n",
      "|     4|     21|     3| 844416980|\n",
      "|     4|     34|     5| 844416936|\n",
      "|     4|     39|     3| 844417037|\n",
      "|     4|    110|     5| 844416866|\n",
      "|     4|    150|     5| 844416656|\n",
      "|     4|    153|     5| 844416699|\n",
      "|     4|    161|     5| 844416835|\n",
      "|     4|    165|     5| 844416699|\n",
      "|     4|    208|     3| 844416866|\n",
      "|     4|    231|     1| 844416742|\n",
      "+------+-------+------+----------+\n",
      "only showing top 20 rows\n",
      "\n"
     ]
    }
   ],
   "source": [
    "fileDF.show()"
   ]
  },
  {
   "cell_type": "code",
   "execution_count": 86,
   "metadata": {},
   "outputs": [
    {
     "data": {
      "text/plain": [
       "12"
      ]
     },
     "execution_count": 86,
     "metadata": {},
     "output_type": "execute_result"
    }
   ],
   "source": [
    "fileDF.filter(fileDF['rating']==5).select('movieid').distinct().count()"
   ]
  },
  {
   "cell_type": "markdown",
   "metadata": {},
   "source": [
    "## Part2 资料清理"
   ]
  },
  {
   "cell_type": "markdown",
   "metadata": {},
   "source": [
    "### 观察数值分配"
   ]
  },
  {
   "cell_type": "code",
   "execution_count": 112,
   "metadata": {},
   "outputs": [
    {
     "name": "stdout",
     "output_type": "stream",
     "text": [
      "+-------------+---+---+---+---+---+---+---+----+\n",
      "|userid_rating|  1|  2|  3|3.5|  4|4.5|  5|null|\n",
      "+-------------+---+---+---+---+---+---+---+----+\n",
      "|            4|  1|  1|  6|  0|  0|  0| 10|   1|\n",
      "|            3|  0|  0|  0|  3|  2|  2|  2|   1|\n",
      "+-------------+---+---+---+---+---+---+---+----+\n",
      "\n"
     ]
    }
   ],
   "source": [
    "fileDF.crosstab('userid', 'rating').show()"
   ]
  },
  {
   "cell_type": "markdown",
   "metadata": {},
   "source": [
    "### 處理遗漏值"
   ]
  },
  {
   "cell_type": "code",
   "execution_count": 109,
   "metadata": {},
   "outputs": [
    {
     "name": "stdout",
     "output_type": "stream",
     "text": [
      "+------+-------+------+----------+\n",
      "|userid|movieid|rating|        ts|\n",
      "+------+-------+------+----------+\n",
      "|     3|   6539|     5|1133571238|\n",
      "|     3|   7153|     4|1133571171|\n",
      "|     3|   7155|   3.5|1164885564|\n",
      "|     3|   8529|     4|1136075616|\n",
      "|     3|   8533|   4.5|1136418593|\n",
      "|     3|   8783|     5|1136075857|\n",
      "|     3|  27821|   4.5|1136418616|\n",
      "|     3|  33750|   3.5|1164885688|\n",
      "|     3|  33750|   3.5|1164887688|\n",
      "|     3|    344|  null| 844416742|\n",
      "|     4|     21|     3| 844416980|\n",
      "|     4|     34|     5| 844416936|\n",
      "|     4|     39|     3| 844417037|\n",
      "|     4|    110|     5| 844416866|\n",
      "|     4|    150|     5| 844416656|\n",
      "|     4|    153|     5| 844416699|\n",
      "|     4|    161|     5| 844416835|\n",
      "|     4|    165|     5| 844416699|\n",
      "|     4|    208|     3| 844416866|\n",
      "|     4|    231|     1| 844416742|\n",
      "+------+-------+------+----------+\n",
      "only showing top 20 rows\n",
      "\n"
     ]
    }
   ],
   "source": [
    "fileDF.fillna(0).show()"
   ]
  },
  {
   "cell_type": "code",
   "execution_count": 111,
   "metadata": {},
   "outputs": [
    {
     "name": "stdout",
     "output_type": "stream",
     "text": [
      "+------+-------+------+----------+\n",
      "|userid|movieid|rating|        ts|\n",
      "+------+-------+------+----------+\n",
      "|     3|   6539|     5|1133571238|\n",
      "|     3|   7153|     4|1133571171|\n",
      "|     3|   7155|   3.5|1164885564|\n",
      "|     3|   8529|     4|1136075616|\n",
      "|     3|   8533|   4.5|1136418593|\n",
      "|     3|   8783|     5|1136075857|\n",
      "|     3|  27821|   4.5|1136418616|\n",
      "|     3|  33750|   3.5|1164885688|\n",
      "|     3|  33750|   3.5|1164887688|\n",
      "|     3|    344|     0| 844416742|\n",
      "|     4|     21|     3| 844416980|\n",
      "|     4|     34|     5| 844416936|\n",
      "|     4|     39|     3| 844417037|\n",
      "|     4|    110|     5| 844416866|\n",
      "|     4|    150|     5| 844416656|\n",
      "|     4|    153|     5| 844416699|\n",
      "|     4|    161|     5| 844416835|\n",
      "|     4|    165|     5| 844416699|\n",
      "|     4|    208|     3| 844416866|\n",
      "|     4|    231|     1| 844416742|\n",
      "+------+-------+------+----------+\n",
      "only showing top 20 rows\n",
      "\n"
     ]
    }
   ],
   "source": [
    "fileDF.fillna('0').show()"
   ]
  },
  {
   "cell_type": "code",
   "execution_count": 113,
   "metadata": {
    "collapsed": true
   },
   "outputs": [],
   "source": [
    "### 转换栏位属性"
   ]
  },
  {
   "cell_type": "code",
   "execution_count": 114,
   "metadata": {
    "collapsed": true
   },
   "outputs": [],
   "source": [
    "from pyspark.sql.types import DoubleType"
   ]
  },
  {
   "cell_type": "code",
   "execution_count": 115,
   "metadata": {
    "collapsed": true
   },
   "outputs": [],
   "source": [
    "fileDF = fileDF.withColumn(\"rating_double\", fileDF[\"rating\"].cast(DoubleType()))"
   ]
  },
  {
   "cell_type": "code",
   "execution_count": 117,
   "metadata": {},
   "outputs": [
    {
     "name": "stdout",
     "output_type": "stream",
     "text": [
      "root\n",
      " |-- userid: string (nullable = true)\n",
      " |-- movieid: string (nullable = true)\n",
      " |-- rating: string (nullable = true)\n",
      " |-- ts: string (nullable = true)\n",
      " |-- rating_double: double (nullable = true)\n",
      "\n"
     ]
    }
   ],
   "source": [
    "fileDF.printSchema()"
   ]
  },
  {
   "cell_type": "code",
   "execution_count": 119,
   "metadata": {},
   "outputs": [
    {
     "name": "stdout",
     "output_type": "stream",
     "text": [
      "+------+-------+------+----------+-------------+\n",
      "|userid|movieid|rating|        ts|rating_double|\n",
      "+------+-------+------+----------+-------------+\n",
      "|     3|   6539|     5|1133571238|          5.0|\n",
      "|     3|   7153|     4|1133571171|          4.0|\n",
      "|     3|   7155|   3.5|1164885564|          3.5|\n",
      "|     3|   8529|     4|1136075616|          4.0|\n",
      "|     3|   8533|   4.5|1136418593|          4.5|\n",
      "|     3|   8783|     5|1136075857|          5.0|\n",
      "|     3|  27821|   4.5|1136418616|          4.5|\n",
      "|     3|  33750|   3.5|1164885688|          3.5|\n",
      "|     3|  33750|   3.5|1164887688|          3.5|\n",
      "|     3|    344|  null| 844416742|         null|\n",
      "|     4|     21|     3| 844416980|          3.0|\n",
      "|     4|     34|     5| 844416936|          5.0|\n",
      "|     4|     39|     3| 844417037|          3.0|\n",
      "|     4|    110|     5| 844416866|          5.0|\n",
      "|     4|    150|     5| 844416656|          5.0|\n",
      "|     4|    153|     5| 844416699|          5.0|\n",
      "|     4|    161|     5| 844416835|          5.0|\n",
      "|     4|    165|     5| 844416699|          5.0|\n",
      "|     4|    208|     3| 844416866|          3.0|\n",
      "|     4|    231|     1| 844416742|          1.0|\n",
      "+------+-------+------+----------+-------------+\n",
      "only showing top 20 rows\n",
      "\n"
     ]
    }
   ],
   "source": [
    "fileDF.show()"
   ]
  },
  {
   "cell_type": "code",
   "execution_count": 122,
   "metadata": {},
   "outputs": [
    {
     "name": "stdout",
     "output_type": "stream",
     "text": [
      "+------+-------+------+----------+-------------+\n",
      "|userid|movieid|rating|        ts|rating_double|\n",
      "+------+-------+------+----------+-------------+\n",
      "|     3|   6539|     5|1133571238|          5.0|\n",
      "|     3|   7153|     4|1133571171|          4.0|\n",
      "|     3|   7155|   3.5|1164885564|          3.5|\n",
      "|     3|   8529|     4|1136075616|          4.0|\n",
      "|     3|   8533|   4.5|1136418593|          4.5|\n",
      "|     3|   8783|     5|1136075857|          5.0|\n",
      "|     3|  27821|   4.5|1136418616|          4.5|\n",
      "|     3|  33750|   3.5|1164885688|          3.5|\n",
      "|     3|  33750|   3.5|1164887688|          3.5|\n",
      "|     3|    344|  null| 844416742|          0.0|\n",
      "|     4|     21|     3| 844416980|          3.0|\n",
      "|     4|     34|     5| 844416936|          5.0|\n",
      "|     4|     39|     3| 844417037|          3.0|\n",
      "|     4|    110|     5| 844416866|          5.0|\n",
      "|     4|    150|     5| 844416656|          5.0|\n",
      "|     4|    153|     5| 844416699|          5.0|\n",
      "|     4|    161|     5| 844416835|          5.0|\n",
      "|     4|    165|     5| 844416699|          5.0|\n",
      "|     4|    208|     3| 844416866|          3.0|\n",
      "|     4|    231|     1| 844416742|          1.0|\n",
      "+------+-------+------+----------+-------------+\n",
      "only showing top 20 rows\n",
      "\n"
     ]
    }
   ],
   "source": [
    "fileDF.fillna(0).show()"
   ]
  },
  {
   "cell_type": "code",
   "execution_count": 124,
   "metadata": {},
   "outputs": [],
   "source": [
    "fileDF_clean = fileDF.fillna(0)"
   ]
  },
  {
   "cell_type": "code",
   "execution_count": 126,
   "metadata": {},
   "outputs": [
    {
     "name": "stdout",
     "output_type": "stream",
     "text": [
      "+--------------------+---+---+---+---+---+---+---+---+\n",
      "|userid_rating_double|0.0|1.0|2.0|3.0|3.5|4.0|4.5|5.0|\n",
      "+--------------------+---+---+---+---+---+---+---+---+\n",
      "|                   4|  1|  1|  1|  6|  0|  0|  0| 10|\n",
      "|                   3|  1|  0|  0|  0|  3|  2|  2|  2|\n",
      "+--------------------+---+---+---+---+---+---+---+---+\n",
      "\n"
     ]
    }
   ],
   "source": [
    "fileDF_clean.crosstab('userid', 'rating_double').show()"
   ]
  },
  {
   "cell_type": "code",
   "execution_count": 127,
   "metadata": {},
   "outputs": [
    {
     "name": "stdout",
     "output_type": "stream",
     "text": [
      "+------+-------+------+----------+-------------+\n",
      "|userid|movieid|rating|        ts|rating_double|\n",
      "+------+-------+------+----------+-------------+\n",
      "|     3|   6539|     5|1133571238|          5.0|\n",
      "|     3|   7153|     4|1133571171|          4.0|\n",
      "|     3|   7155|   3.5|1164885564|          3.5|\n",
      "|     3|   8529|     4|1136075616|          4.0|\n",
      "|     3|   8533|   4.5|1136418593|          4.5|\n",
      "|     3|   8783|     5|1136075857|          5.0|\n",
      "|     3|  27821|   4.5|1136418616|          4.5|\n",
      "|     3|  33750|   3.5|1164885688|          3.5|\n",
      "|     3|  33750|   3.5|1164887688|          3.5|\n",
      "|     4|     21|     3| 844416980|          3.0|\n",
      "|     4|     34|     5| 844416936|          5.0|\n",
      "|     4|     39|     3| 844417037|          3.0|\n",
      "|     4|    110|     5| 844416866|          5.0|\n",
      "|     4|    150|     5| 844416656|          5.0|\n",
      "|     4|    153|     5| 844416699|          5.0|\n",
      "|     4|    161|     5| 844416835|          5.0|\n",
      "|     4|    165|     5| 844416699|          5.0|\n",
      "|     4|    208|     3| 844416866|          3.0|\n",
      "|     4|    231|     1| 844416742|          1.0|\n",
      "|     4|    253|     3| 844416834|          3.0|\n",
      "+------+-------+------+----------+-------------+\n",
      "only showing top 20 rows\n",
      "\n"
     ]
    }
   ],
   "source": [
    "fileDF.dropna().show()"
   ]
  },
  {
   "cell_type": "code",
   "execution_count": 128,
   "metadata": {
    "collapsed": true
   },
   "outputs": [],
   "source": [
    "### 处理重复值"
   ]
  },
  {
   "cell_type": "code",
   "execution_count": 151,
   "metadata": {},
   "outputs": [
    {
     "name": "stdout",
     "output_type": "stream",
     "text": [
      "+------+-------+------+----------+-------------+\n",
      "|userid|movieid|rating|        ts|rating_double|\n",
      "+------+-------+------+----------+-------------+\n",
      "|     3|   6539|     5|1133571238|          5.0|\n",
      "|     3|   7153|     4|1133571171|          4.0|\n",
      "|     3|   7155|   3.5|1164885564|          3.5|\n",
      "|     3|   8529|     4|1136075616|          4.0|\n",
      "|     3|   8533|   4.5|1136418593|          4.5|\n",
      "|     3|   8783|     5|1136075857|          5.0|\n",
      "|     3|  27821|   4.5|1136418616|          4.5|\n",
      "|     3|  33750|   3.5|1164885688|          3.5|\n",
      "|     3|  33750|   3.5|1164887688|          3.5|\n",
      "|     3|    344|  null| 844416742|         null|\n",
      "|     4|     21|     3| 844416980|          3.0|\n",
      "|     4|     34|     5| 844416936|          5.0|\n",
      "|     4|     39|     3| 844417037|          3.0|\n",
      "|     4|    110|     5| 844416866|          5.0|\n",
      "|     4|    150|     5| 844416656|          5.0|\n",
      "|     4|    153|     5| 844416699|          5.0|\n",
      "|     4|    161|     5| 844416835|          5.0|\n",
      "|     4|    165|     5| 844416699|          5.0|\n",
      "|     4|    208|     3| 844416866|          3.0|\n",
      "|     4|    231|     1| 844416742|          1.0|\n",
      "+------+-------+------+----------+-------------+\n",
      "only showing top 20 rows\n",
      "\n"
     ]
    }
   ],
   "source": [
    "fileDF.show()"
   ]
  },
  {
   "cell_type": "code",
   "execution_count": 156,
   "metadata": {},
   "outputs": [
    {
     "name": "stdout",
     "output_type": "stream",
     "text": [
      "+--------------+---+---+---+---+---+---+---+---+---+---+-----+---+---+---+---+-----+---+---+---+---+----+----+----+----+----+----+----+\n",
      "|userid_movieid|110|150|153|161|165|208| 21|231|253|266|27821|292|316|317|329|33750| 34|344|349| 39|6539|7153|7155|8529|8533|8783|null|\n",
      "+--------------+---+---+---+---+---+---+---+---+---+---+-----+---+---+---+---+-----+---+---+---+---+----+----+----+----+----+----+----+\n",
      "|             4|  1|  1|  1|  1|  1|  1|  1|  1|  1|  1|    0|  1|  1|  1|  1|    0|  1|  1|  1|  1|   0|   0|   0|   0|   0|   0|   1|\n",
      "|             3|  0|  0|  0|  0|  0|  0|  0|  0|  0|  0|    1|  0|  0|  0|  0|    2|  0|  1|  0|  0|   1|   1|   1|   1|   1|   1|   0|\n",
      "+--------------+---+---+---+---+---+---+---+---+---+---+-----+---+---+---+---+-----+---+---+---+---+----+----+----+----+----+----+----+\n",
      "\n"
     ]
    }
   ],
   "source": [
    "fileDF.crosstab(\"userid\", \"movieid\").show()"
   ]
  },
  {
   "cell_type": "code",
   "execution_count": 160,
   "metadata": {},
   "outputs": [
    {
     "data": {
      "text/plain": [
       "1"
      ]
     },
     "execution_count": 160,
     "metadata": {},
     "output_type": "execute_result"
    }
   ],
   "source": [
    "(fileDF.select(\"userid\", \"movieid\", \"rating\").count() - \n",
    "    fileDF.select(\"userid\", \"movieid\", \"rating\").distinct().count())"
   ]
  },
  {
   "cell_type": "code",
   "execution_count": 149,
   "metadata": {},
   "outputs": [
    {
     "name": "stdout",
     "output_type": "stream",
     "text": [
      "+------+-------+------+----------+-------------+\n",
      "|userid|movieid|rating|        ts|rating_double|\n",
      "+------+-------+------+----------+-------------+\n",
      "|     3|   8783|     5|1136075857|          5.0|\n",
      "|     3|   8533|   4.5|1136418593|          4.5|\n",
      "|     3|   8529|     4|1136075616|          4.0|\n",
      "|     3|   7155|   3.5|1164885564|          3.5|\n",
      "|     3|   7153|     4|1133571171|          4.0|\n",
      "|     3|   6539|     5|1133571238|          5.0|\n",
      "|     3|    344|  null| 844416742|         null|\n",
      "|     3|  33750|   3.5|1164887688|          3.5|\n",
      "|     3|  33750|   3.5|1164885688|          3.5|\n",
      "|     3|  27821|   4.5|1136418616|          4.5|\n",
      "|     4|     39|     3| 844417037|          3.0|\n",
      "|     4|    349|     3| 844416699|          3.0|\n",
      "|     4|    344|     2| 844416699|          2.0|\n",
      "|     4|     34|     5| 844416936|          5.0|\n",
      "|     4|    329|     5| 844416796|          5.0|\n",
      "|     4|    317|     5| 844417037|          5.0|\n",
      "|     4|    316|     5| 844416742|          5.0|\n",
      "|     4|    292|     3| 844416796|          3.0|\n",
      "|     4|    266|     5| 844417070|          5.0|\n",
      "|     4|    253|     3| 844416834|          3.0|\n",
      "+------+-------+------+----------+-------------+\n",
      "only showing top 20 rows\n",
      "\n"
     ]
    }
   ],
   "source": [
    "fileDF.dropDuplicates().orderBy(['userid', 'movieid', 'rating'], ascending=[1,0]).show()"
   ]
  },
  {
   "cell_type": "code",
   "execution_count": 150,
   "metadata": {},
   "outputs": [
    {
     "name": "stdout",
     "output_type": "stream",
     "text": [
      "+------+-------+------+----------+-------------+\n",
      "|userid|movieid|rating|        ts|rating_double|\n",
      "+------+-------+------+----------+-------------+\n",
      "|     3|   8783|     5|1136075857|          5.0|\n",
      "|     3|   8533|   4.5|1136418593|          4.5|\n",
      "|     3|   8529|     4|1136075616|          4.0|\n",
      "|     3|   7155|   3.5|1164885564|          3.5|\n",
      "|     3|   7153|     4|1133571171|          4.0|\n",
      "|     3|   6539|     5|1133571238|          5.0|\n",
      "|     3|    344|  null| 844416742|         null|\n",
      "|     3|  33750|   3.5|1164885688|          3.5|\n",
      "|     3|  27821|   4.5|1136418616|          4.5|\n",
      "|     4|     39|     3| 844417037|          3.0|\n",
      "|     4|    349|     3| 844416699|          3.0|\n",
      "|     4|    344|     2| 844416699|          2.0|\n",
      "|     4|     34|     5| 844416936|          5.0|\n",
      "|     4|    329|     5| 844416796|          5.0|\n",
      "|     4|    317|     5| 844417037|          5.0|\n",
      "|     4|    316|     5| 844416742|          5.0|\n",
      "|     4|    292|     3| 844416796|          3.0|\n",
      "|     4|    266|     5| 844417070|          5.0|\n",
      "|     4|    253|     3| 844416834|          3.0|\n",
      "|     4|    231|     1| 844416742|          1.0|\n",
      "+------+-------+------+----------+-------------+\n",
      "only showing top 20 rows\n",
      "\n"
     ]
    }
   ],
   "source": [
    "fileDF.dropDuplicates(['userid', 'movieid', 'rating']).orderBy(['userid', 'movieid', 'rating'], ascending=[1,0]).show()"
   ]
  },
  {
   "cell_type": "code",
   "execution_count": 161,
   "metadata": {
    "collapsed": true
   },
   "outputs": [],
   "source": [
    "fileDF_nodup = fileDF.dropDuplicates(['userid', 'movieid', 'rating']).orderBy(['userid', 'movieid', 'rating'], ascending=[1,0])"
   ]
  },
  {
   "cell_type": "code",
   "execution_count": 162,
   "metadata": {},
   "outputs": [
    {
     "data": {
      "text/plain": [
       "0"
      ]
     },
     "execution_count": 162,
     "metadata": {},
     "output_type": "execute_result"
    }
   ],
   "source": [
    "(fileDF_nodup.select(\"userid\", \"movieid\", \"rating\").count() - \n",
    "    fileDF_nodup.select(\"userid\", \"movieid\", \"rating\").distinct().count())"
   ]
  },
  {
   "cell_type": "code",
   "execution_count": 163,
   "metadata": {
    "collapsed": true
   },
   "outputs": [],
   "source": [
    "spark.stop()"
   ]
  },
  {
   "cell_type": "code",
   "execution_count": null,
   "metadata": {
    "collapsed": true
   },
   "outputs": [],
   "source": []
  }
 ],
 "metadata": {
  "kernelspec": {
   "display_name": "Python 3",
   "language": "python",
   "name": "python3"
  },
  "language_info": {
   "codemirror_mode": {
    "name": "ipython",
    "version": 3
   },
   "file_extension": ".py",
   "mimetype": "text/x-python",
   "name": "python",
   "nbconvert_exporter": "python",
   "pygments_lexer": "ipython3",
   "version": "3.6.4"
  }
 },
 "nbformat": 4,
 "nbformat_minor": 2
}
