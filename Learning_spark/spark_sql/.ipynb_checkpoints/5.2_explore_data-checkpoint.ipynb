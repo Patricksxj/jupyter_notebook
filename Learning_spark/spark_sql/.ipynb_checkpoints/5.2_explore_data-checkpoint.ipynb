{
 "cells": [
  {
   "cell_type": "code",
   "execution_count": 1,
   "metadata": {},
   "outputs": [],
   "source": [
    "from __future__ import print_function, division\n",
    "from pyspark import SparkConf, SparkContext\n",
    "from pyspark.sql import SparkSession"
   ]
  },
  {
   "cell_type": "code",
   "execution_count": null,
   "metadata": {},
   "outputs": [],
   "source": []
  },
  {
   "cell_type": "code",
   "execution_count": 5,
   "metadata": {},
   "outputs": [],
   "source": [
    "# 启动 Spark （如果你已经启动就不需要）\n",
    "spark = SparkSession.builder.master(\"local[2]\") \\\n",
    "   .appName(\"test\") \\\n",
    "   .enableHiveSupport() \\\n",
    "   .getOrCreate()\n",
    "\n",
    "sc = spark.sparkContext"
   ]
  },
  {
   "cell_type": "markdown",
   "metadata": {},
   "source": [
    "## 讀取 csv file"
   ]
  },
  {
   "cell_type": "code",
   "execution_count": 8,
   "metadata": {},
   "outputs": [
    {
     "name": "stdout",
     "output_type": "stream",
     "text": [
      "total 1442808\r\n",
      "-rw-r--r--   1 bryan.yang  staff    90B Oct 24 17:03 1\r\n",
      "-rw-r--r--@  1 bryan.yang  staff   196M Sep 25 11:20 NASA_access_log_Jul95\r\n",
      "-rw-r--r--   1 bryan.yang  staff    11K Sep 25 11:41 NASA_access_log_Jul95_100\r\n",
      "-rw-r--r--   1 bryan.yang  staff   188B Oct 24 16:02 json_example.json\r\n",
      "-rw-r--r--   1 bryan.yang  staff   162B Oct 24 17:10 json_netested.json\r\n",
      "-rw-r--r--@  1 bryan.yang  staff   509M Oct 24 16:42 ratings.csv\r\n",
      "drwxr-xr-x  12 bryan.yang  staff   384B Oct 24 16:44 \u001b[34mratings.parquet\u001b[m\u001b[m\r\n",
      "-rw-r--r--   1 bryan.yang  staff   2.6K Oct 24 16:02 shakespear.txt\r\n",
      "drwxr-xr-x  12 bryan.yang  staff   384B Oct 26 15:20 \u001b[34mtest.parquet\u001b[m\u001b[m\r\n"
     ]
    }
   ],
   "source": [
    "!ls -lh ../data/"
   ]
  },
  {
   "cell_type": "code",
   "execution_count": 9,
   "metadata": {},
   "outputs": [
    {
     "name": "stdout",
     "output_type": "stream",
     "text": [
      "userId,movieId,rating,timestamp\r",
      "\r\n",
      "1,2,3.5,1112486027\r",
      "\r\n",
      "1,29,3.5,1112484676\r",
      "\r\n",
      "1,32,3.5,1112484819\r",
      "\r\n",
      "1,47,3.5,1112484727\r",
      "\r\n",
      "1,50,3.5,1112484580\r",
      "\r\n",
      "1,112,3.5,1094785740\r",
      "\r\n",
      "1,151,4.0,1094785734\r",
      "\r\n",
      "1,223,4.0,1112485573\r",
      "\r\n",
      "1,253,4.0,1112484940\r",
      "\r\n"
     ]
    }
   ],
   "source": [
    "!head ../data/ratings.csv"
   ]
  },
  {
   "cell_type": "code",
   "execution_count": null,
   "metadata": {},
   "outputs": [],
   "source": []
  },
  {
   "cell_type": "code",
   "execution_count": 28,
   "metadata": {},
   "outputs": [],
   "source": [
    "df_csv = spark.read.csv(\"../data/ratings.csv\", header=True, sep=',', inferSchema=False)"
   ]
  },
  {
   "cell_type": "code",
   "execution_count": 29,
   "metadata": {},
   "outputs": [
    {
     "name": "stdout",
     "output_type": "stream",
     "text": [
      "+------+-------+------+----------+\n",
      "|userId|movieId|rating| timestamp|\n",
      "+------+-------+------+----------+\n",
      "|     1|      2|   3.5|1112486027|\n",
      "|     1|     29|   3.5|1112484676|\n",
      "|     1|     32|   3.5|1112484819|\n",
      "|     1|     47|   3.5|1112484727|\n",
      "|     1|     50|   3.5|1112484580|\n",
      "|     1|    112|   3.5|1094785740|\n",
      "|     1|    151|   4.0|1094785734|\n",
      "|     1|    223|   4.0|1112485573|\n",
      "|     1|    253|   4.0|1112484940|\n",
      "|     1|    260|   4.0|1112484826|\n",
      "|     1|    293|   4.0|1112484703|\n",
      "|     1|    296|   4.0|1112484767|\n",
      "|     1|    318|   4.0|1112484798|\n",
      "|     1|    337|   3.5|1094785709|\n",
      "|     1|    367|   3.5|1112485980|\n",
      "|     1|    541|   4.0|1112484603|\n",
      "|     1|    589|   3.5|1112485557|\n",
      "|     1|    593|   3.5|1112484661|\n",
      "|     1|    653|   3.0|1094785691|\n",
      "|     1|    919|   3.5|1094785621|\n",
      "+------+-------+------+----------+\n",
      "only showing top 20 rows\n",
      "\n"
     ]
    }
   ],
   "source": [
    "df_csv.show()"
   ]
  },
  {
   "cell_type": "code",
   "execution_count": 30,
   "metadata": {},
   "outputs": [
    {
     "name": "stdout",
     "output_type": "stream",
     "text": [
      "root\n",
      " |-- userId: string (nullable = true)\n",
      " |-- movieId: string (nullable = true)\n",
      " |-- rating: string (nullable = true)\n",
      " |-- timestamp: string (nullable = true)\n",
      "\n"
     ]
    }
   ],
   "source": [
    "df_csv.printSchema()"
   ]
  },
  {
   "cell_type": "code",
   "execution_count": null,
   "metadata": {},
   "outputs": [],
   "source": []
  },
  {
   "cell_type": "code",
   "execution_count": 31,
   "metadata": {},
   "outputs": [
    {
     "name": "stdout",
     "output_type": "stream",
     "text": [
      "+-------+-----------------+------------------+------------------+--------------------+\n",
      "|summary|           userId|           movieId|            rating|           timestamp|\n",
      "+-------+-----------------+------------------+------------------+--------------------+\n",
      "|  count|         20000263|          20000263|          20000263|            20000263|\n",
      "|   mean|69045.87258292554| 9041.567330339605|3.5255285642993797|1.1009179216771157E9|\n",
      "| stddev|40038.62665316201|19789.477445413086| 1.051988919294227|1.6216942478273067E8|\n",
      "|    min|                1|                 1|               0.5|          1000000065|\n",
      "|    max|            99999|             99999|               5.0|           999999978|\n",
      "+-------+-----------------+------------------+------------------+--------------------+\n",
      "\n"
     ]
    }
   ],
   "source": [
    "df_csv.describe().show()"
   ]
  },
  {
   "cell_type": "markdown",
   "metadata": {},
   "source": [
    "## 讀取 Json"
   ]
  },
  {
   "cell_type": "code",
   "execution_count": 32,
   "metadata": {},
   "outputs": [
    {
     "name": "stdout",
     "output_type": "stream",
     "text": [
      "{\"userid\": '1', \"rating\": 4, \"movieid\": '001'}\r\n",
      "{\"userid\": '1', \"rating\": 3, \"movieid\": '002'}\r\n",
      "{\"userid\": '2', \"movieid\": '001', \"rating\": 4}\r\n",
      "{\"userid\": '2', \"movieid\": '003', \"rating\": 2}\r\n"
     ]
    }
   ],
   "source": [
    "!head ../data/json_example.json"
   ]
  },
  {
   "cell_type": "code",
   "execution_count": 33,
   "metadata": {},
   "outputs": [],
   "source": [
    "df_json = spark.read.json(\"../data/json_example.json\")"
   ]
  },
  {
   "cell_type": "code",
   "execution_count": 34,
   "metadata": {},
   "outputs": [
    {
     "name": "stdout",
     "output_type": "stream",
     "text": [
      "+-------+------+------+\n",
      "|movieid|rating|userid|\n",
      "+-------+------+------+\n",
      "|    001|     4|     1|\n",
      "|    002|     3|     1|\n",
      "|    001|     4|     2|\n",
      "|    003|     2|     2|\n",
      "+-------+------+------+\n",
      "\n"
     ]
    }
   ],
   "source": [
    "df_json.show()"
   ]
  },
  {
   "cell_type": "code",
   "execution_count": 35,
   "metadata": {},
   "outputs": [
    {
     "name": "stdout",
     "output_type": "stream",
     "text": [
      "+-------+------------------+------------------+------------------+\n",
      "|summary|           movieid|            rating|            userid|\n",
      "+-------+------------------+------------------+------------------+\n",
      "|  count|                 4|                 4|                 4|\n",
      "|   mean|              1.75|              3.25|               1.5|\n",
      "| stddev|0.9574271077563381|0.9574271077563381|0.5773502691896257|\n",
      "|    min|               001|                 2|                 1|\n",
      "|    max|               003|                 4|                 2|\n",
      "+-------+------------------+------------------+------------------+\n",
      "\n"
     ]
    }
   ],
   "source": [
    "df_json.describe().show()"
   ]
  },
  {
   "cell_type": "code",
   "execution_count": 84,
   "metadata": {},
   "outputs": [
    {
     "name": "stdout",
     "output_type": "stream",
     "text": [
      "root\n",
      " |-- movieid: string (nullable = true)\n",
      " |-- rating: long (nullable = true)\n",
      " |-- userid: string (nullable = true)\n",
      "\n"
     ]
    }
   ],
   "source": [
    "df_json.printSchema()"
   ]
  },
  {
   "cell_type": "code",
   "execution_count": null,
   "metadata": {},
   "outputs": [],
   "source": []
  },
  {
   "cell_type": "markdown",
   "metadata": {},
   "source": [
    "## 讀取 Parquet"
   ]
  },
  {
   "cell_type": "code",
   "execution_count": 87,
   "metadata": {},
   "outputs": [
    {
     "name": "stdout",
     "output_type": "stream",
     "text": [
      "total 317440\r\n",
      "-rw-r--r--  1 bryan.yang  staff     0B Oct 24 16:44 _SUCCESS\r\n",
      "-rw-r--r--  1 bryan.yang  staff    40M Oct 24 16:44 part-00000-1e0c22a0-279b-437f-85c0-4009c4b4e16f-c000.snappy.parquet\r\n",
      "-rw-r--r--  1 bryan.yang  staff    39M Oct 24 16:44 part-00001-1e0c22a0-279b-437f-85c0-4009c4b4e16f-c000.snappy.parquet\r\n",
      "-rw-r--r--  1 bryan.yang  staff    39M Oct 24 16:44 part-00002-1e0c22a0-279b-437f-85c0-4009c4b4e16f-c000.snappy.parquet\r\n",
      "-rw-r--r--  1 bryan.yang  staff    37M Oct 24 16:44 part-00003-1e0c22a0-279b-437f-85c0-4009c4b4e16f-c000.snappy.parquet\r\n"
     ]
    }
   ],
   "source": [
    "!ls -lh ../data/ratings.parquet/"
   ]
  },
  {
   "cell_type": "code",
   "execution_count": 88,
   "metadata": {},
   "outputs": [
    {
     "name": "stdout",
     "output_type": "stream",
     "text": [
      "PAR1\u0015\u0004\u0015�(\u0015��\u0011L\u0015��\u0004\u0015\u0004\u0000\u0000��\u0014$\u0006\u0000\u0000\u0000105343\u0015\r\n",
      "\u00004\u0015\r\n",
      "\u00005\u0015\r\n",
      "\u00006\u0015\r\n",
      "\u00007\u0015\r\n",
      "\u00008\u0015\r\n",
      "\u00009\u0011\r\n",
      "\u000450\u0015\r\n",
      "\u00001\u0015\r\n",
      "\u00002\u0015\r\n"
     ]
    }
   ],
   "source": [
    "!head ../data/ratings.parquet/part-00003-1e0c22a0-279b-437f-85c0-4009c4b4e16f-c000.snappy.parquet"
   ]
  },
  {
   "cell_type": "code",
   "execution_count": 93,
   "metadata": {},
   "outputs": [],
   "source": [
    "df_parquet = spark.read.parquet(\"../data/ratings.parquet\")"
   ]
  },
  {
   "cell_type": "code",
   "execution_count": 94,
   "metadata": {},
   "outputs": [
    {
     "name": "stdout",
     "output_type": "stream",
     "text": [
      "+------+-------+------+----------+\n",
      "|userId|movieId|rating| timestamp|\n",
      "+------+-------+------+----------+\n",
      "|     1|      2|   3.5|1112486027|\n",
      "|     1|     29|   3.5|1112484676|\n",
      "|     1|     32|   3.5|1112484819|\n",
      "|     1|     47|   3.5|1112484727|\n",
      "|     1|     50|   3.5|1112484580|\n",
      "|     1|    112|   3.5|1094785740|\n",
      "|     1|    151|   4.0|1094785734|\n",
      "|     1|    223|   4.0|1112485573|\n",
      "|     1|    253|   4.0|1112484940|\n",
      "|     1|    260|   4.0|1112484826|\n",
      "|     1|    293|   4.0|1112484703|\n",
      "|     1|    296|   4.0|1112484767|\n",
      "|     1|    318|   4.0|1112484798|\n",
      "|     1|    337|   3.5|1094785709|\n",
      "|     1|    367|   3.5|1112485980|\n",
      "|     1|    541|   4.0|1112484603|\n",
      "|     1|    589|   3.5|1112485557|\n",
      "|     1|    593|   3.5|1112484661|\n",
      "|     1|    653|   3.0|1094785691|\n",
      "|     1|    919|   3.5|1094785621|\n",
      "+------+-------+------+----------+\n",
      "only showing top 20 rows\n",
      "\n"
     ]
    }
   ],
   "source": [
    "df_parquet.show()"
   ]
  },
  {
   "cell_type": "code",
   "execution_count": 95,
   "metadata": {},
   "outputs": [
    {
     "name": "stdout",
     "output_type": "stream",
     "text": [
      "root\n",
      " |-- userId: string (nullable = true)\n",
      " |-- movieId: string (nullable = true)\n",
      " |-- rating: string (nullable = true)\n",
      " |-- timestamp: string (nullable = true)\n",
      "\n"
     ]
    }
   ],
   "source": [
    "df_parquet.printSchema()"
   ]
  },
  {
   "cell_type": "code",
   "execution_count": 96,
   "metadata": {},
   "outputs": [
    {
     "name": "stdout",
     "output_type": "stream",
     "text": [
      "+-------+-----------------+------------------+------------------+--------------------+\n",
      "|summary|           userId|           movieId|            rating|           timestamp|\n",
      "+-------+-----------------+------------------+------------------+--------------------+\n",
      "|  count|         20000263|          20000263|          20000263|            20000263|\n",
      "|   mean|69045.87258292554| 9041.567330339605|3.5255285642993797|1.1009179216771033E9|\n",
      "| stddev| 40038.6266531599|19789.477445413315| 1.051988919294247|1.6216942478273004E8|\n",
      "|    min|                1|                 1|               0.5|          1000000065|\n",
      "|    max|            99999|             99999|               5.0|           999999978|\n",
      "+-------+-----------------+------------------+------------------+--------------------+\n",
      "\n"
     ]
    }
   ],
   "source": [
    "df_parquet.describe().show()"
   ]
  },
  {
   "cell_type": "code",
   "execution_count": null,
   "metadata": {},
   "outputs": [],
   "source": []
  },
  {
   "cell_type": "code",
   "execution_count": null,
   "metadata": {},
   "outputs": [],
   "source": []
  },
  {
   "cell_type": "code",
   "execution_count": null,
   "metadata": {},
   "outputs": [],
   "source": []
  },
  {
   "cell_type": "code",
   "execution_count": null,
   "metadata": {},
   "outputs": [],
   "source": []
  },
  {
   "cell_type": "code",
   "execution_count": null,
   "metadata": {},
   "outputs": [],
   "source": []
  },
  {
   "cell_type": "code",
   "execution_count": null,
   "metadata": {},
   "outputs": [],
   "source": []
  }
 ],
 "metadata": {
  "kernelspec": {
   "display_name": "Python 3",
   "language": "python",
   "name": "python3"
  },
  "language_info": {
   "codemirror_mode": {
    "name": "ipython",
    "version": 3
   },
   "file_extension": ".py",
   "mimetype": "text/x-python",
   "name": "python",
   "nbconvert_exporter": "python",
   "pygments_lexer": "ipython3",
   "version": "3.5.3"
  }
 },
 "nbformat": 4,
 "nbformat_minor": 2
}
