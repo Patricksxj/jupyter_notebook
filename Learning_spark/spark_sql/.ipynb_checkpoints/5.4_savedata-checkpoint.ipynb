{
 "cells": [
  {
   "cell_type": "code",
   "execution_count": 1,
   "metadata": {},
   "outputs": [],
   "source": [
    "from __future__ import print_function, division\n",
    "from pyspark import SparkConf, SparkContext\n",
    "from pyspark.sql import SparkSession"
   ]
  },
  {
   "cell_type": "code",
   "execution_count": 2,
   "metadata": {},
   "outputs": [],
   "source": [
    "# 启动 Spark （如果你已经启动就不需要）\n",
    "spark = SparkSession.builder.master(\"local[2]\") \\\n",
    "   .appName(\"test\") \\\n",
    "   .enableHiveSupport() \\\n",
    "   .getOrCreate()\n",
    "\n",
    "sc = spark.sparkContext"
   ]
  },
  {
   "cell_type": "markdown",
   "metadata": {},
   "source": [
    "## save as csv format"
   ]
  },
  {
   "cell_type": "code",
   "execution_count": 3,
   "metadata": {},
   "outputs": [],
   "source": [
    "df_csv = spark.read.csv(\"../data/ratings.csv\", header=True)"
   ]
  },
  {
   "cell_type": "code",
   "execution_count": 9,
   "metadata": {},
   "outputs": [
    {
     "name": "stdout",
     "output_type": "stream",
     "text": [
      "+------+-------+------+----------+\n",
      "|userId|movieId|rating| timestamp|\n",
      "+------+-------+------+----------+\n",
      "|     1|      2|   3.5|1112486027|\n",
      "|     1|     29|   3.5|1112484676|\n",
      "|     1|     32|   3.5|1112484819|\n",
      "|     1|     47|   3.5|1112484727|\n",
      "|     1|     50|   3.5|1112484580|\n",
      "|     1|    112|   3.5|1094785740|\n",
      "|     1|    151|   4.0|1094785734|\n",
      "|     1|    223|   4.0|1112485573|\n",
      "|     1|    253|   4.0|1112484940|\n",
      "|     1|    260|   4.0|1112484826|\n",
      "|     1|    293|   4.0|1112484703|\n",
      "|     1|    296|   4.0|1112484767|\n",
      "|     1|    318|   4.0|1112484798|\n",
      "|     1|    337|   3.5|1094785709|\n",
      "|     1|    367|   3.5|1112485980|\n",
      "|     1|    541|   4.0|1112484603|\n",
      "|     1|    589|   3.5|1112485557|\n",
      "|     1|    593|   3.5|1112484661|\n",
      "|     1|    653|   3.0|1094785691|\n",
      "|     1|    919|   3.5|1094785621|\n",
      "+------+-------+------+----------+\n",
      "only showing top 20 rows\n",
      "\n"
     ]
    }
   ],
   "source": [
    "df_csv.show()"
   ]
  },
  {
   "cell_type": "code",
   "execution_count": null,
   "metadata": {},
   "outputs": [],
   "source": [
    "df_csv.write."
   ]
  },
  {
   "cell_type": "code",
   "execution_count": 24,
   "metadata": {},
   "outputs": [],
   "source": [
    "df_csv.write.csv(\"../output/ratings_1.csv\", header=True, mode='overwrite')"
   ]
  },
  {
   "cell_type": "code",
   "execution_count": 25,
   "metadata": {},
   "outputs": [
    {
     "name": "stdout",
     "output_type": "stream",
     "text": [
      "total 1052928\r\n",
      "-rw-r--r--  1 bryan.yang  staff     0B Nov  6 01:07 _SUCCESS\r\n",
      "-rw-r--r--  1 bryan.yang  staff   123M Nov  6 01:07 part-00000-26b14d09-e828-4eb0-88c2-b7d72f690efa-c000.csv\r\n",
      "-rw-r--r--  1 bryan.yang  staff   123M Nov  6 01:07 part-00001-26b14d09-e828-4eb0-88c2-b7d72f690efa-c000.csv\r\n",
      "-rw-r--r--  1 bryan.yang  staff   123M Nov  6 01:07 part-00002-26b14d09-e828-4eb0-88c2-b7d72f690efa-c000.csv\r\n",
      "-rw-r--r--  1 bryan.yang  staff   120M Nov  6 01:07 part-00003-26b14d09-e828-4eb0-88c2-b7d72f690efa-c000.csv\r\n"
     ]
    }
   ],
   "source": [
    "!ls -lh ../output/ratings_1.csv/"
   ]
  },
  {
   "cell_type": "code",
   "execution_count": 14,
   "metadata": {},
   "outputs": [
    {
     "name": "stdout",
     "output_type": "stream",
     "text": [
      "_SUCCESS\r\n",
      "part-00000-aece805c-20a7-4225-b152-40316bc8fc5e-c000.csv\r\n",
      "part-00001-aece805c-20a7-4225-b152-40316bc8fc5e-c000.csv\r\n",
      "part-00002-aece805c-20a7-4225-b152-40316bc8fc5e-c000.csv\r\n",
      "part-00003-aece805c-20a7-4225-b152-40316bc8fc5e-c000.csv\r\n"
     ]
    }
   ],
   "source": [
    "!ls ../output/ratings_1.csv"
   ]
  },
  {
   "cell_type": "code",
   "execution_count": 16,
   "metadata": {},
   "outputs": [
    {
     "name": "stdout",
     "output_type": "stream",
     "text": [
      "userId,movieId,rating,timestamp\r\n",
      "35128,5267,2.0,1031147335\r\n",
      "35128,5269,4.0,1031147528\r\n",
      "35128,5272,5.0,1031147820\r\n",
      "35128,5275,3.5,1100192886\r\n",
      "35128,5282,2.0,1018270322\r\n",
      "35128,5287,5.0,1031583587\r\n",
      "35128,5291,5.0,1018270396\r\n",
      "35128,5292,4.0,1018270397\r\n",
      "35128,5293,5.0,1031147541\r\n"
     ]
    }
   ],
   "source": [
    "!head ../output/ratings_1.csv/part-00001-aece805c-20a7-4225-b152-40316bc8fc5e-c000.csv"
   ]
  },
  {
   "cell_type": "code",
   "execution_count": 17,
   "metadata": {},
   "outputs": [],
   "source": [
    "df_csv.coalesce(1).write.csv(\"../output/ratings_coalease_1.csv\", header=True)"
   ]
  },
  {
   "cell_type": "code",
   "execution_count": 20,
   "metadata": {},
   "outputs": [
    {
     "name": "stdout",
     "output_type": "stream",
     "text": [
      "total 1017088\r\n",
      "-rw-r--r--  1 bryan.yang  staff     0B Nov  6 01:05 _SUCCESS\r\n",
      "-rw-r--r--  1 bryan.yang  staff   490M Nov  6 01:05 part-00000-f0bf70a3-4fc6-4afb-9068-948ef3a3ee45-c000.csv\r\n"
     ]
    }
   ],
   "source": [
    "!ls -lh ../output/ratings_coalease_1.csv/"
   ]
  },
  {
   "cell_type": "code",
   "execution_count": null,
   "metadata": {},
   "outputs": [],
   "source": []
  },
  {
   "cell_type": "markdown",
   "metadata": {},
   "source": [
    "## save as json"
   ]
  },
  {
   "cell_type": "code",
   "execution_count": 27,
   "metadata": {},
   "outputs": [],
   "source": [
    "df_csv.write.json(\"../output/ratings.json\", mode='overwrite')"
   ]
  },
  {
   "cell_type": "code",
   "execution_count": 28,
   "metadata": {},
   "outputs": [
    {
     "name": "stdout",
     "output_type": "stream",
     "text": [
      "_SUCCESS\r\n",
      "part-00000-a7190b28-fc05-4b26-8ece-f9fb95ee867c-c000.json\r\n",
      "part-00001-a7190b28-fc05-4b26-8ece-f9fb95ee867c-c000.json\r\n",
      "part-00002-a7190b28-fc05-4b26-8ece-f9fb95ee867c-c000.json\r\n",
      "part-00003-a7190b28-fc05-4b26-8ece-f9fb95ee867c-c000.json\r\n"
     ]
    }
   ],
   "source": [
    "!ls ../output/ratings.json/"
   ]
  },
  {
   "cell_type": "code",
   "execution_count": 30,
   "metadata": {},
   "outputs": [
    {
     "name": "stdout",
     "output_type": "stream",
     "text": [
      "{\"userId\":\"70566\",\"movieId\":\"59315\",\"rating\":\"3.5\",\"timestamp\":\"1280085985\"}\r\n",
      "{\"userId\":\"70566\",\"movieId\":\"63876\",\"rating\":\"5.0\",\"timestamp\":\"1280085409\"}\r\n",
      "{\"userId\":\"70566\",\"movieId\":\"70293\",\"rating\":\"3.5\",\"timestamp\":\"1280086071\"}\r\n",
      "{\"userId\":\"70566\",\"movieId\":\"74789\",\"rating\":\"3.0\",\"timestamp\":\"1280085386\"}\r\n",
      "{\"userId\":\"70566\",\"movieId\":\"79091\",\"rating\":\"4.5\",\"timestamp\":\"1280085125\"}\r\n",
      "{\"userId\":\"70567\",\"movieId\":\"267\",\"rating\":\"1.0\",\"timestamp\":\"1391039163\"}\r\n",
      "{\"userId\":\"70567\",\"movieId\":\"318\",\"rating\":\"2.0\",\"timestamp\":\"1391039339\"}\r\n",
      "{\"userId\":\"70567\",\"movieId\":\"356\",\"rating\":\"1.5\",\"timestamp\":\"1391039416\"}\r\n",
      "{\"userId\":\"70567\",\"movieId\":\"905\",\"rating\":\"1.0\",\"timestamp\":\"1391039159\"}\r\n",
      "{\"userId\":\"70567\",\"movieId\":\"1017\",\"rating\":\"2.0\",\"timestamp\":\"1391039179\"}\r\n"
     ]
    }
   ],
   "source": [
    "!head ../output/ratings.json/part-00002-a7190b28-fc05-4b26-8ece-f9fb95ee867c-c000.json"
   ]
  },
  {
   "cell_type": "code",
   "execution_count": 31,
   "metadata": {},
   "outputs": [
    {
     "name": "stdout",
     "output_type": "stream",
     "text": [
      "total 2955984\r\n",
      "-rw-r--r--  1 bryan.yang  staff     0B Nov  6 01:08 _SUCCESS\r\n",
      "-rw-r--r--  1 bryan.yang  staff   368M Nov  6 01:08 part-00000-a7190b28-fc05-4b26-8ece-f9fb95ee867c-c000.json\r\n",
      "-rw-r--r--  1 bryan.yang  staff   365M Nov  6 01:08 part-00001-a7190b28-fc05-4b26-8ece-f9fb95ee867c-c000.json\r\n",
      "-rw-r--r--  1 bryan.yang  staff   364M Nov  6 01:08 part-00002-a7190b28-fc05-4b26-8ece-f9fb95ee867c-c000.json\r\n",
      "-rw-r--r--  1 bryan.yang  staff   347M Nov  6 01:08 part-00003-a7190b28-fc05-4b26-8ece-f9fb95ee867c-c000.json\r\n"
     ]
    }
   ],
   "source": [
    "!ls -lh ../output/ratings.json/"
   ]
  },
  {
   "cell_type": "code",
   "execution_count": 32,
   "metadata": {},
   "outputs": [
    {
     "name": "stdout",
     "output_type": "stream",
     "text": [
      "total 1052032\r\n",
      "-rw-r--r--  1 bryan.yang  staff     0B Nov  2 09:37 _SUCCESS\r\n",
      "-rw-r--r--  1 bryan.yang  staff   123M Nov  2 09:37 part-00000-91cd7a56-8c74-48f5-ab08-2c79b2b1911e-c000.csv\r\n",
      "-rw-r--r--  1 bryan.yang  staff   123M Nov  2 09:37 part-00001-91cd7a56-8c74-48f5-ab08-2c79b2b1911e-c000.csv\r\n",
      "-rw-r--r--  1 bryan.yang  staff   123M Nov  2 09:37 part-00002-91cd7a56-8c74-48f5-ab08-2c79b2b1911e-c000.csv\r\n",
      "-rw-r--r--  1 bryan.yang  staff   120M Nov  2 09:37 part-00003-91cd7a56-8c74-48f5-ab08-2c79b2b1911e-c000.csv\r\n"
     ]
    }
   ],
   "source": [
    "!ls -lh ../output/ratings.csv/"
   ]
  },
  {
   "cell_type": "markdown",
   "metadata": {},
   "source": [
    "## save as parquet"
   ]
  },
  {
   "cell_type": "code",
   "execution_count": 33,
   "metadata": {},
   "outputs": [],
   "source": [
    "df_csv.write.parquet(\"../output/ratings.parquet\", mode = 'overwrite')"
   ]
  },
  {
   "cell_type": "code",
   "execution_count": 34,
   "metadata": {},
   "outputs": [
    {
     "name": "stdout",
     "output_type": "stream",
     "text": [
      "total 317440\r\n",
      "-rw-r--r--  1 bryan.yang  staff     0B Nov  6 01:11 _SUCCESS\r\n",
      "-rw-r--r--  1 bryan.yang  staff    40M Nov  6 01:11 part-00000-c53bcf1a-b4a0-4d1c-8a26-5a613000ae36-c000.snappy.parquet\r\n",
      "-rw-r--r--  1 bryan.yang  staff    39M Nov  6 01:11 part-00001-c53bcf1a-b4a0-4d1c-8a26-5a613000ae36-c000.snappy.parquet\r\n",
      "-rw-r--r--  1 bryan.yang  staff    39M Nov  6 01:11 part-00002-c53bcf1a-b4a0-4d1c-8a26-5a613000ae36-c000.snappy.parquet\r\n",
      "-rw-r--r--  1 bryan.yang  staff    37M Nov  6 01:11 part-00003-c53bcf1a-b4a0-4d1c-8a26-5a613000ae36-c000.snappy.parquet\r\n"
     ]
    }
   ],
   "source": [
    "!ls -lh ../output/ratings.parquet/"
   ]
  },
  {
   "cell_type": "code",
   "execution_count": null,
   "metadata": {},
   "outputs": [],
   "source": []
  },
  {
   "cell_type": "markdown",
   "metadata": {},
   "source": [
    "## Compression\n",
    "bzip2, gzip, lz4, snappy and deflate"
   ]
  },
  {
   "cell_type": "code",
   "execution_count": 35,
   "metadata": {},
   "outputs": [],
   "source": [
    "df_csv.write.csv(\"../output/ratings_gzip.csv\", header=True, compression='gzip', mode='overwrite')"
   ]
  },
  {
   "cell_type": "code",
   "execution_count": 36,
   "metadata": {},
   "outputs": [
    {
     "name": "stdout",
     "output_type": "stream",
     "text": [
      "total 262552\r\n",
      "-rw-r--r--  1 bryan.yang  staff     0B Nov  6 01:13 _SUCCESS\r\n",
      "-rw-r--r--  1 bryan.yang  staff    33M Nov  6 01:13 part-00000-d2151638-7197-4ca8-b523-d1f339da1d84-c000.csv.gz\r\n",
      "-rw-r--r--  1 bryan.yang  staff    32M Nov  6 01:13 part-00001-d2151638-7197-4ca8-b523-d1f339da1d84-c000.csv.gz\r\n",
      "-rw-r--r--  1 bryan.yang  staff    32M Nov  6 01:13 part-00002-d2151638-7197-4ca8-b523-d1f339da1d84-c000.csv.gz\r\n",
      "-rw-r--r--  1 bryan.yang  staff    30M Nov  6 01:13 part-00003-d2151638-7197-4ca8-b523-d1f339da1d84-c000.csv.gz\r\n"
     ]
    }
   ],
   "source": [
    "!ls -lh ../output/ratings_gzip.csv"
   ]
  },
  {
   "cell_type": "code",
   "execution_count": null,
   "metadata": {},
   "outputs": [],
   "source": []
  },
  {
   "cell_type": "markdown",
   "metadata": {},
   "source": [
    "## 存成 table"
   ]
  },
  {
   "cell_type": "code",
   "execution_count": 6,
   "metadata": {},
   "outputs": [
    {
     "name": "stdout",
     "output_type": "stream",
     "text": [
      "+--------+-----------+-----------+\n",
      "|database|  tableName|isTemporary|\n",
      "+--------+-----------+-----------+\n",
      "| default|ratings_csv|      false|\n",
      "+--------+-----------+-----------+\n",
      "\n"
     ]
    }
   ],
   "source": [
    "spark.sql(\"show tables\").show()"
   ]
  },
  {
   "cell_type": "code",
   "execution_count": 5,
   "metadata": {},
   "outputs": [],
   "source": [
    "df_csv.write.saveAsTable('ratings_csv')"
   ]
  },
  {
   "cell_type": "code",
   "execution_count": 7,
   "metadata": {},
   "outputs": [
    {
     "name": "stdout",
     "output_type": "stream",
     "text": [
      "+--------+-----------+-----------+\n",
      "|database|  tableName|isTemporary|\n",
      "+--------+-----------+-----------+\n",
      "| default|ratings_csv|      false|\n",
      "+--------+-----------+-----------+\n",
      "\n"
     ]
    }
   ],
   "source": [
    "spark.sql(\"show tables\").show()"
   ]
  },
  {
   "cell_type": "code",
   "execution_count": 8,
   "metadata": {},
   "outputs": [
    {
     "name": "stdout",
     "output_type": "stream",
     "text": [
      "+------+-------+------+----------+\n",
      "|userId|movieId|rating| timestamp|\n",
      "+------+-------+------+----------+\n",
      "|     1|      2|   3.5|1112486027|\n",
      "|     1|     29|   3.5|1112484676|\n",
      "|     1|     32|   3.5|1112484819|\n",
      "|     1|     47|   3.5|1112484727|\n",
      "|     1|     50|   3.5|1112484580|\n",
      "|     1|    112|   3.5|1094785740|\n",
      "|     1|    151|   4.0|1094785734|\n",
      "|     1|    223|   4.0|1112485573|\n",
      "|     1|    253|   4.0|1112484940|\n",
      "|     1|    260|   4.0|1112484826|\n",
      "|     1|    293|   4.0|1112484703|\n",
      "|     1|    296|   4.0|1112484767|\n",
      "|     1|    318|   4.0|1112484798|\n",
      "|     1|    337|   3.5|1094785709|\n",
      "|     1|    367|   3.5|1112485980|\n",
      "|     1|    541|   4.0|1112484603|\n",
      "|     1|    589|   3.5|1112485557|\n",
      "|     1|    593|   3.5|1112484661|\n",
      "|     1|    653|   3.0|1094785691|\n",
      "|     1|    919|   3.5|1094785621|\n",
      "+------+-------+------+----------+\n",
      "only showing top 20 rows\n",
      "\n"
     ]
    }
   ],
   "source": [
    "spark.sql(\"select * from ratings_csv\").show()"
   ]
  },
  {
   "cell_type": "code",
   "execution_count": null,
   "metadata": {},
   "outputs": [],
   "source": []
  }
 ],
 "metadata": {
  "kernelspec": {
   "display_name": "Python 3",
   "language": "python",
   "name": "python3"
  },
  "language_info": {
   "codemirror_mode": {
    "name": "ipython",
    "version": 3
   },
   "file_extension": ".py",
   "mimetype": "text/x-python",
   "name": "python",
   "nbconvert_exporter": "python",
   "pygments_lexer": "ipython3",
   "version": "3.5.3"
  }
 },
 "nbformat": 4,
 "nbformat_minor": 2
}
