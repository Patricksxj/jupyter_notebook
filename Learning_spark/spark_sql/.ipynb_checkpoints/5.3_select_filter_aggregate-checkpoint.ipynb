{
 "cells": [
  {
   "cell_type": "code",
   "execution_count": 7,
   "metadata": {},
   "outputs": [],
   "source": [
    "from __future__ import print_function, division\n",
    "from pyspark import SparkConf, SparkContext\n",
    "from pyspark.sql import SparkSession"
   ]
  },
  {
   "cell_type": "code",
   "execution_count": 8,
   "metadata": {},
   "outputs": [],
   "source": [
    "# 启动 Spark （如果你已经启动就不需要）\n",
    "spark = SparkSession.builder.master(\"local[2]\") \\\n",
    "   .appName(\"test\") \\\n",
    "   .enableHiveSupport() \\\n",
    "   .getOrCreate()\n",
    "\n",
    "sc = spark.sparkContext"
   ]
  },
  {
   "cell_type": "markdown",
   "metadata": {},
   "source": [
    "## 讀取資料"
   ]
  },
  {
   "cell_type": "code",
   "execution_count": 9,
   "metadata": {},
   "outputs": [],
   "source": [
    "df = spark.read.csv('../data/ratings.csv', header=True)"
   ]
  },
  {
   "cell_type": "code",
   "execution_count": 10,
   "metadata": {},
   "outputs": [
    {
     "name": "stdout",
     "output_type": "stream",
     "text": [
      "+------+-------+------+----------+\n",
      "|userId|movieId|rating| timestamp|\n",
      "+------+-------+------+----------+\n",
      "|     1|      2|   3.5|1112486027|\n",
      "|     1|     29|   3.5|1112484676|\n",
      "|     1|     32|   3.5|1112484819|\n",
      "|     1|     47|   3.5|1112484727|\n",
      "|     1|     50|   3.5|1112484580|\n",
      "|     1|    112|   3.5|1094785740|\n",
      "|     1|    151|   4.0|1094785734|\n",
      "|     1|    223|   4.0|1112485573|\n",
      "|     1|    253|   4.0|1112484940|\n",
      "|     1|    260|   4.0|1112484826|\n",
      "|     1|    293|   4.0|1112484703|\n",
      "|     1|    296|   4.0|1112484767|\n",
      "|     1|    318|   4.0|1112484798|\n",
      "|     1|    337|   3.5|1094785709|\n",
      "|     1|    367|   3.5|1112485980|\n",
      "|     1|    541|   4.0|1112484603|\n",
      "|     1|    589|   3.5|1112485557|\n",
      "|     1|    593|   3.5|1112484661|\n",
      "|     1|    653|   3.0|1094785691|\n",
      "|     1|    919|   3.5|1094785621|\n",
      "+------+-------+------+----------+\n",
      "only showing top 20 rows\n",
      "\n"
     ]
    }
   ],
   "source": [
    "df.show()"
   ]
  },
  {
   "cell_type": "markdown",
   "metadata": {},
   "source": [
    "## 选择栏位"
   ]
  },
  {
   "cell_type": "code",
   "execution_count": 11,
   "metadata": {},
   "outputs": [],
   "source": [
    "## select userID from data"
   ]
  },
  {
   "cell_type": "code",
   "execution_count": 12,
   "metadata": {},
   "outputs": [
    {
     "name": "stdout",
     "output_type": "stream",
     "text": [
      "+------+\n",
      "|userID|\n",
      "+------+\n",
      "|     1|\n",
      "|     1|\n",
      "|     1|\n",
      "|     1|\n",
      "|     1|\n",
      "|     1|\n",
      "|     1|\n",
      "|     1|\n",
      "|     1|\n",
      "|     1|\n",
      "|     1|\n",
      "|     1|\n",
      "|     1|\n",
      "|     1|\n",
      "|     1|\n",
      "|     1|\n",
      "|     1|\n",
      "|     1|\n",
      "|     1|\n",
      "|     1|\n",
      "+------+\n",
      "only showing top 20 rows\n",
      "\n"
     ]
    }
   ],
   "source": [
    "df.select(\"userID\").show()"
   ]
  },
  {
   "cell_type": "code",
   "execution_count": 13,
   "metadata": {},
   "outputs": [],
   "source": [
    "## select userID , movieID from data"
   ]
  },
  {
   "cell_type": "code",
   "execution_count": 14,
   "metadata": {},
   "outputs": [
    {
     "name": "stdout",
     "output_type": "stream",
     "text": [
      "+------+-------+\n",
      "|userID|movieID|\n",
      "+------+-------+\n",
      "|     1|      2|\n",
      "|     1|     29|\n",
      "|     1|     32|\n",
      "|     1|     47|\n",
      "|     1|     50|\n",
      "|     1|    112|\n",
      "|     1|    151|\n",
      "|     1|    223|\n",
      "|     1|    253|\n",
      "|     1|    260|\n",
      "|     1|    293|\n",
      "|     1|    296|\n",
      "|     1|    318|\n",
      "|     1|    337|\n",
      "|     1|    367|\n",
      "|     1|    541|\n",
      "|     1|    589|\n",
      "|     1|    593|\n",
      "|     1|    653|\n",
      "|     1|    919|\n",
      "+------+-------+\n",
      "only showing top 20 rows\n",
      "\n"
     ]
    }
   ],
   "source": [
    "df.select(\"userID\", \"movieID\").show()"
   ]
  },
  {
   "cell_type": "markdown",
   "metadata": {},
   "source": [
    "## 操作栏位"
   ]
  },
  {
   "cell_type": "code",
   "execution_count": 15,
   "metadata": {},
   "outputs": [],
   "source": [
    "## select userID as id from data"
   ]
  },
  {
   "cell_type": "code",
   "execution_count": 16,
   "metadata": {},
   "outputs": [
    {
     "name": "stdout",
     "output_type": "stream",
     "text": [
      "+---+\n",
      "| id|\n",
      "+---+\n",
      "|  1|\n",
      "|  1|\n",
      "|  1|\n",
      "|  1|\n",
      "|  1|\n",
      "|  1|\n",
      "|  1|\n",
      "|  1|\n",
      "|  1|\n",
      "|  1|\n",
      "|  1|\n",
      "|  1|\n",
      "|  1|\n",
      "|  1|\n",
      "|  1|\n",
      "|  1|\n",
      "|  1|\n",
      "|  1|\n",
      "|  1|\n",
      "|  1|\n",
      "+---+\n",
      "only showing top 20 rows\n",
      "\n"
     ]
    }
   ],
   "source": [
    "df.selectExpr(\"userID as id\").show()"
   ]
  },
  {
   "cell_type": "code",
   "execution_count": 17,
   "metadata": {},
   "outputs": [],
   "source": [
    "## select movieID, rating * 2 as rating_2"
   ]
  },
  {
   "cell_type": "code",
   "execution_count": 20,
   "metadata": {},
   "outputs": [
    {
     "name": "stdout",
     "output_type": "stream",
     "text": [
      "+-------+--------+\n",
      "|movieID|rating_2|\n",
      "+-------+--------+\n",
      "|      2|     7.0|\n",
      "|     29|     7.0|\n",
      "|     32|     7.0|\n",
      "|     47|     7.0|\n",
      "|     50|     7.0|\n",
      "|    112|     7.0|\n",
      "|    151|     8.0|\n",
      "|    223|     8.0|\n",
      "|    253|     8.0|\n",
      "|    260|     8.0|\n",
      "|    293|     8.0|\n",
      "|    296|     8.0|\n",
      "|    318|     8.0|\n",
      "|    337|     7.0|\n",
      "|    367|     7.0|\n",
      "|    541|     8.0|\n",
      "|    589|     7.0|\n",
      "|    593|     7.0|\n",
      "|    653|     6.0|\n",
      "|    919|     7.0|\n",
      "+-------+--------+\n",
      "only showing top 20 rows\n",
      "\n"
     ]
    }
   ],
   "source": [
    "df.selectExpr(\"movieID\", \"rating * 2 as rating_2\").show()"
   ]
  },
  {
   "cell_type": "code",
   "execution_count": 21,
   "metadata": {},
   "outputs": [
    {
     "name": "stdout",
     "output_type": "stream",
     "text": [
      "root\n",
      " |-- userId: string (nullable = true)\n",
      " |-- movieId: string (nullable = true)\n",
      " |-- rating: string (nullable = true)\n",
      " |-- timestamp: string (nullable = true)\n",
      "\n"
     ]
    }
   ],
   "source": [
    "df.printSchema()"
   ]
  },
  {
   "cell_type": "code",
   "execution_count": 22,
   "metadata": {},
   "outputs": [
    {
     "name": "stdout",
     "output_type": "stream",
     "text": [
      "root\n",
      " |-- rating: double (nullable = true)\n",
      "\n"
     ]
    }
   ],
   "source": [
    "df.selectExpr(\"cast(rating as DOUBLE)\").printSchema()"
   ]
  },
  {
   "cell_type": "markdown",
   "metadata": {},
   "source": [
    "## 筛选"
   ]
  },
  {
   "cell_type": "code",
   "execution_count": 23,
   "metadata": {},
   "outputs": [],
   "source": [
    "# select * from data where rating > 3"
   ]
  },
  {
   "cell_type": "code",
   "execution_count": 24,
   "metadata": {},
   "outputs": [
    {
     "name": "stdout",
     "output_type": "stream",
     "text": [
      "+------+-------+------+----------+\n",
      "|userId|movieId|rating| timestamp|\n",
      "+------+-------+------+----------+\n",
      "|     1|    151|   4.0|1094785734|\n",
      "|     1|    223|   4.0|1112485573|\n",
      "|     1|    253|   4.0|1112484940|\n",
      "|     1|    260|   4.0|1112484826|\n",
      "|     1|    293|   4.0|1112484703|\n",
      "|     1|    296|   4.0|1112484767|\n",
      "|     1|    318|   4.0|1112484798|\n",
      "|     1|    541|   4.0|1112484603|\n",
      "|     1|   1036|   4.0|1112485480|\n",
      "|     1|   1079|   4.0|1094785665|\n",
      "|     1|   1090|   4.0|1112485453|\n",
      "|     1|   1097|   4.0|1112485701|\n",
      "|     1|   1196|   4.5|1112484742|\n",
      "|     1|   1198|   4.5|1112484624|\n",
      "|     1|   1200|   4.0|1112484560|\n",
      "|     1|   1214|   4.0|1094785977|\n",
      "|     1|   1215|   4.0|1094786082|\n",
      "|     1|   1219|   4.0|1094785994|\n",
      "|     1|   1240|   4.0|1112485401|\n",
      "|     1|   1249|   4.0|1112485382|\n",
      "+------+-------+------+----------+\n",
      "only showing top 20 rows\n",
      "\n"
     ]
    }
   ],
   "source": [
    "df.filter(\"rating > 3\").show()"
   ]
  },
  {
   "cell_type": "code",
   "execution_count": 25,
   "metadata": {},
   "outputs": [],
   "source": [
    "# select * from data where userID = 2 and rating >3"
   ]
  },
  {
   "cell_type": "code",
   "execution_count": 26,
   "metadata": {},
   "outputs": [
    {
     "name": "stdout",
     "output_type": "stream",
     "text": [
      "+------+-------+------+---------+\n",
      "|userId|movieId|rating|timestamp|\n",
      "+------+-------+------+---------+\n",
      "|     2|      3|   4.0|974820889|\n",
      "|     2|     62|   5.0|974820598|\n",
      "|     2|     70|   5.0|974820691|\n",
      "|     2|    110|   4.0|974820658|\n",
      "|     2|    260|   5.0|974821014|\n",
      "|     2|    266|   5.0|974820748|\n",
      "|     2|    480|   5.0|974820720|\n",
      "|     2|    541|   5.0|974821014|\n",
      "|     2|    589|   5.0|974820658|\n",
      "|     2|    908|   4.0|974820691|\n",
      "|     2|    924|   5.0|974821014|\n",
      "|     2|   1196|   5.0|974821014|\n",
      "|     2|   1210|   5.0|974820598|\n",
      "|     2|   1214|   5.0|974821014|\n",
      "|     2|   1249|   5.0|974820691|\n",
      "|     2|   1259|   5.0|974820659|\n",
      "|     2|   1270|   5.0|974821014|\n",
      "|     2|   1327|   5.0|974820846|\n",
      "|     2|   1356|   5.0|974820598|\n",
      "|     2|   1544|   5.0|974820943|\n",
      "+------+-------+------+---------+\n",
      "only showing top 20 rows\n",
      "\n"
     ]
    }
   ],
   "source": [
    "df.filter(\"userID == 2 and rating > 3\").show()"
   ]
  },
  {
   "cell_type": "code",
   "execution_count": 27,
   "metadata": {},
   "outputs": [],
   "source": [
    "# select userID, rating from data where userId = 2 and rating > 3"
   ]
  },
  {
   "cell_type": "code",
   "execution_count": 35,
   "metadata": {},
   "outputs": [
    {
     "name": "stdout",
     "output_type": "stream",
     "text": [
      "+------+------+\n",
      "|userID|rating|\n",
      "+------+------+\n",
      "|     2|   4.0|\n",
      "|     2|   5.0|\n",
      "|     2|   5.0|\n",
      "|     2|   4.0|\n",
      "|     2|   5.0|\n",
      "|     2|   5.0|\n",
      "|     2|   5.0|\n",
      "|     2|   5.0|\n",
      "|     2|   5.0|\n",
      "|     2|   4.0|\n",
      "|     2|   5.0|\n",
      "|     2|   5.0|\n",
      "|     2|   5.0|\n",
      "|     2|   5.0|\n",
      "|     2|   5.0|\n",
      "|     2|   5.0|\n",
      "|     2|   5.0|\n",
      "|     2|   5.0|\n",
      "|     2|   5.0|\n",
      "|     2|   5.0|\n",
      "+------+------+\n",
      "only showing top 20 rows\n",
      "\n"
     ]
    }
   ],
   "source": [
    "df.filter(\"userID = 2 and rating > 3\").select(\"userID\", \"rating\").show()"
   ]
  },
  {
   "cell_type": "code",
   "execution_count": 37,
   "metadata": {},
   "outputs": [
    {
     "name": "stdout",
     "output_type": "stream",
     "text": [
      "+------+------+\n",
      "|userID|rating|\n",
      "+------+------+\n",
      "|     2|   4.0|\n",
      "|     2|   5.0|\n",
      "|     2|   5.0|\n",
      "|     2|   4.0|\n",
      "|     2|   5.0|\n",
      "|     2|   5.0|\n",
      "|     2|   5.0|\n",
      "|     2|   5.0|\n",
      "|     2|   5.0|\n",
      "|     2|   4.0|\n",
      "|     2|   5.0|\n",
      "|     2|   5.0|\n",
      "|     2|   5.0|\n",
      "|     2|   5.0|\n",
      "|     2|   5.0|\n",
      "|     2|   5.0|\n",
      "|     2|   5.0|\n",
      "|     2|   5.0|\n",
      "|     2|   5.0|\n",
      "|     2|   5.0|\n",
      "+------+------+\n",
      "only showing top 20 rows\n",
      "\n"
     ]
    }
   ],
   "source": [
    "df.select(\"userID\", \"rating\").filter(\"userID = 2 and rating > 3\").show()"
   ]
  },
  {
   "cell_type": "code",
   "execution_count": null,
   "metadata": {},
   "outputs": [],
   "source": []
  },
  {
   "cell_type": "markdown",
   "metadata": {},
   "source": [
    "## 聚合运算"
   ]
  },
  {
   "cell_type": "code",
   "execution_count": 42,
   "metadata": {},
   "outputs": [],
   "source": [
    "# select count(*) from data"
   ]
  },
  {
   "cell_type": "code",
   "execution_count": 43,
   "metadata": {},
   "outputs": [
    {
     "data": {
      "text/plain": [
       "20000263"
      ]
     },
     "execution_count": 43,
     "metadata": {},
     "output_type": "execute_result"
    }
   ],
   "source": [
    "df.count()"
   ]
  },
  {
   "cell_type": "code",
   "execution_count": 45,
   "metadata": {},
   "outputs": [
    {
     "name": "stdout",
     "output_type": "stream",
     "text": [
      "+-------------+\n",
      "|count(userID)|\n",
      "+-------------+\n",
      "|     20000263|\n",
      "+-------------+\n",
      "\n"
     ]
    }
   ],
   "source": [
    "df.agg({'userID': 'count'}).show()"
   ]
  },
  {
   "cell_type": "code",
   "execution_count": 46,
   "metadata": {},
   "outputs": [],
   "source": [
    "# select count(*) from data where userID =1"
   ]
  },
  {
   "cell_type": "code",
   "execution_count": 47,
   "metadata": {},
   "outputs": [
    {
     "data": {
      "text/plain": [
       "175"
      ]
     },
     "execution_count": 47,
     "metadata": {},
     "output_type": "execute_result"
    }
   ],
   "source": [
    "df.filter(\"userID = 1\").count()"
   ]
  },
  {
   "cell_type": "code",
   "execution_count": 48,
   "metadata": {},
   "outputs": [],
   "source": [
    "# select count(userID) from data, select avg(rating) from data "
   ]
  },
  {
   "cell_type": "code",
   "execution_count": 50,
   "metadata": {},
   "outputs": [
    {
     "name": "stdout",
     "output_type": "stream",
     "text": [
      "+------------------+-------------+\n",
      "|       avg(rating)|count(userID)|\n",
      "+------------------+-------------+\n",
      "|3.5255285642993797|     20000263|\n",
      "+------------------+-------------+\n",
      "\n"
     ]
    }
   ],
   "source": [
    "df.agg({'userID': 'count', 'rating': 'avg'}).show()"
   ]
  },
  {
   "cell_type": "markdown",
   "metadata": {},
   "source": [
    "## Group By"
   ]
  },
  {
   "cell_type": "code",
   "execution_count": 51,
   "metadata": {},
   "outputs": [],
   "source": [
    "# 计算每个user 评比了多少部电影，平均分数为何?"
   ]
  },
  {
   "cell_type": "markdown",
   "metadata": {},
   "source": [
    "select userID, count(*), avg(rating)\n",
    "from data\n",
    "group userID"
   ]
  },
  {
   "cell_type": "code",
   "execution_count": 54,
   "metadata": {},
   "outputs": [
    {
     "ename": "AttributeError",
     "evalue": "'GroupedData' object has no attribute 'show'",
     "output_type": "error",
     "traceback": [
      "\u001b[0;31m---------------------------------------------------------------------------\u001b[0m",
      "\u001b[0;31mAttributeError\u001b[0m                            Traceback (most recent call last)",
      "\u001b[0;32m<ipython-input-54-3ab610d22d5d>\u001b[0m in \u001b[0;36m<module>\u001b[0;34m()\u001b[0m\n\u001b[0;32m----> 1\u001b[0;31m \u001b[0mdf\u001b[0m\u001b[0;34m.\u001b[0m\u001b[0magg\u001b[0m\u001b[0;34m(\u001b[0m\u001b[0;34m{\u001b[0m\u001b[0;34m'movieID'\u001b[0m\u001b[0;34m:\u001b[0m \u001b[0;34m'count'\u001b[0m\u001b[0;34m,\u001b[0m \u001b[0;34m'rating'\u001b[0m\u001b[0;34m:\u001b[0m\u001b[0;34m'avg'\u001b[0m\u001b[0;34m}\u001b[0m\u001b[0;34m)\u001b[0m\u001b[0;34m.\u001b[0m\u001b[0mgroupBy\u001b[0m\u001b[0;34m(\u001b[0m\u001b[0;34m'userID'\u001b[0m\u001b[0;34m)\u001b[0m\u001b[0;34m.\u001b[0m\u001b[0mshow\u001b[0m\u001b[0;34m(\u001b[0m\u001b[0;34m)\u001b[0m\u001b[0;34m\u001b[0m\u001b[0m\n\u001b[0m",
      "\u001b[0;31mAttributeError\u001b[0m: 'GroupedData' object has no attribute 'show'"
     ]
    }
   ],
   "source": [
    "df.groupBy('userID').agg({'movieID': 'count', 'rating':'avg'}).show()"
   ]
  },
  {
   "cell_type": "code",
   "execution_count": 55,
   "metadata": {},
   "outputs": [
    {
     "name": "stdout",
     "output_type": "stream",
     "text": [
      "+------+--------------+---------------------+\n",
      "|userID|count(movieID)|round(avg(rating), 2)|\n",
      "+------+--------------+---------------------+\n",
      "|   296|            25|                 3.88|\n",
      "|   467|            30|                 3.45|\n",
      "|   675|           187|                 3.82|\n",
      "|   691|            35|                 3.63|\n",
      "|   829|           387|                 4.06|\n",
      "|  1090|            74|                 3.81|\n",
      "|  1159|           235|                 4.26|\n",
      "|  1436|           234|                 3.24|\n",
      "|  1512|            68|                 3.71|\n",
      "|  1572|            64|                 3.76|\n",
      "|  2069|            45|                 3.79|\n",
      "|  2088|            87|                 3.31|\n",
      "|  2136|           201|                 4.21|\n",
      "|  2162|           100|                 3.52|\n",
      "|  2294|            21|                 3.67|\n",
      "|  2904|            23|                 3.17|\n",
      "|  3210|           452|                 3.78|\n",
      "|  3414|            29|                 3.52|\n",
      "|  3606|            66|                 3.77|\n",
      "|  3959|            24|                 3.04|\n",
      "+------+--------------+---------------------+\n",
      "only showing top 20 rows\n",
      "\n"
     ]
    }
   ],
   "source": [
    "from pyspark.sql.functions import *\n",
    "df.groupBy('userID').agg(count('movieID'), round(avg(df.rating),2)).show()"
   ]
  },
  {
   "cell_type": "markdown",
   "metadata": {},
   "source": [
    "## Join tables"
   ]
  },
  {
   "cell_type": "markdown",
   "metadata": {},
   "source": [
    "![sql](http://4.bp.blogspot.com/-_HsHikmChBI/VmQGJjLKgyI/AAAAAAAAEPw/JaLnV0bsbEo/s1600/sql%2Bjoins%2Bguide%2Band%2Bsyntax.jpg)"
   ]
  },
  {
   "cell_type": "code",
   "execution_count": 56,
   "metadata": {},
   "outputs": [
    {
     "name": "stderr",
     "output_type": "stream",
     "text": [
      "/Users/bryan.yang/Documents/workspace/hellobi/spark_course/pyspark/example/lib/python3.5/site-packages/pyspark/sql/session.py:331: UserWarning: inferring schema from dict is deprecated,please use pyspark.sql.Row instead\n",
      "  warnings.warn(\"inferring schema from dict is deprecated,\"\n"
     ]
    },
    {
     "name": "stdout",
     "output_type": "stream",
     "text": [
      "+---+-----+\n",
      "|age| name|\n",
      "+---+-----+\n",
      "|  1|Alice|\n",
      "|  3|Bryan|\n",
      "|  2| Cool|\n",
      "+---+-----+\n",
      "\n"
     ]
    }
   ],
   "source": [
    "d = [{'name': 'Alice', 'age': 1}, {'name': 'Bryan', 'age': 3}, {'name': 'Cool', 'age':2}]\n",
    "df_profile = spark.createDataFrame(d)\n",
    "df_profile.show()"
   ]
  },
  {
   "cell_type": "code",
   "execution_count": 57,
   "metadata": {},
   "outputs": [
    {
     "name": "stdout",
     "output_type": "stream",
     "text": [
      "+-----+-----+\n",
      "|child| name|\n",
      "+-----+-----+\n",
      "|Alice|Jason|\n",
      "|Bryan| Bill|\n",
      "|Bryan| Sera|\n",
      "|  Ken| Jill|\n",
      "+-----+-----+\n",
      "\n"
     ]
    },
    {
     "name": "stderr",
     "output_type": "stream",
     "text": [
      "/Users/bryan.yang/Documents/workspace/hellobi/spark_course/pyspark/example/lib/python3.5/site-packages/pyspark/sql/session.py:331: UserWarning: inferring schema from dict is deprecated,please use pyspark.sql.Row instead\n",
      "  warnings.warn(\"inferring schema from dict is deprecated,\"\n"
     ]
    }
   ],
   "source": [
    "d = [{'name': 'Jason', 'child': 'Alice'}, \n",
    "     {'name': 'Bill', 'child': 'Bryan'}, \n",
    "     {'name': 'Sera', 'child': 'Bryan'}, \n",
    "     {'name': 'Jill', 'child': 'Ken'}]\n",
    "df_parents = spark.createDataFrame(d)\n",
    "df_parents.show()"
   ]
  },
  {
   "cell_type": "code",
   "execution_count": null,
   "metadata": {},
   "outputs": [],
   "source": []
  },
  {
   "cell_type": "markdown",
   "metadata": {},
   "source": []
  },
  {
   "cell_type": "code",
   "execution_count": 61,
   "metadata": {},
   "outputs": [
    {
     "name": "stdout",
     "output_type": "stream",
     "text": [
      "+---+-----+-----+-----+\n",
      "|age| name|child| name|\n",
      "+---+-----+-----+-----+\n",
      "|  1|Alice|Alice|Jason|\n",
      "|  3|Bryan|Bryan| Bill|\n",
      "|  3|Bryan|Bryan| Sera|\n",
      "+---+-----+-----+-----+\n",
      "\n"
     ]
    }
   ],
   "source": [
    "df_profile.join(df_parents, df_profile.name == df_parents.child).show()"
   ]
  },
  {
   "cell_type": "code",
   "execution_count": 62,
   "metadata": {},
   "outputs": [
    {
     "name": "stdout",
     "output_type": "stream",
     "text": [
      "+---+-----+-----+-----+\n",
      "|age| name|child| name|\n",
      "+---+-----+-----+-----+\n",
      "|  2| Cool| null| null|\n",
      "|  1|Alice|Alice|Jason|\n",
      "|  3|Bryan|Bryan| Bill|\n",
      "|  3|Bryan|Bryan| Sera|\n",
      "+---+-----+-----+-----+\n",
      "\n"
     ]
    }
   ],
   "source": [
    "df_profile.join(df_parents, df_profile.name == df_parents.child, 'left').show()"
   ]
  },
  {
   "cell_type": "code",
   "execution_count": 63,
   "metadata": {},
   "outputs": [
    {
     "name": "stdout",
     "output_type": "stream",
     "text": [
      "+----+-----+-----+-----+\n",
      "| age| name|child| name|\n",
      "+----+-----+-----+-----+\n",
      "|   1|Alice|Alice|Jason|\n",
      "|null| null|  Ken| Jill|\n",
      "|   3|Bryan|Bryan| Bill|\n",
      "|   3|Bryan|Bryan| Sera|\n",
      "+----+-----+-----+-----+\n",
      "\n"
     ]
    }
   ],
   "source": [
    "df_profile.join(df_parents, df_profile.name == df_parents.child, 'right').show()"
   ]
  },
  {
   "cell_type": "code",
   "execution_count": 64,
   "metadata": {},
   "outputs": [
    {
     "name": "stdout",
     "output_type": "stream",
     "text": [
      "+----+-----+-----+-----+\n",
      "| age| name|child| name|\n",
      "+----+-----+-----+-----+\n",
      "|   2| Cool| null| null|\n",
      "|   1|Alice|Alice|Jason|\n",
      "|null| null|  Ken| Jill|\n",
      "|   3|Bryan|Bryan| Bill|\n",
      "|   3|Bryan|Bryan| Sera|\n",
      "+----+-----+-----+-----+\n",
      "\n"
     ]
    }
   ],
   "source": [
    "df_profile.join(df_parents, df_profile.name == df_parents.child, 'outer').show()"
   ]
  },
  {
   "cell_type": "markdown",
   "metadata": {},
   "source": [
    "## 注册为 SQL 表"
   ]
  },
  {
   "cell_type": "code",
   "execution_count": 65,
   "metadata": {},
   "outputs": [],
   "source": [
    "df.registerTempTable(\"table\")"
   ]
  },
  {
   "cell_type": "code",
   "execution_count": 67,
   "metadata": {},
   "outputs": [
    {
     "name": "stdout",
     "output_type": "stream",
     "text": [
      "+--------+---------+-----------+\n",
      "|database|tableName|isTemporary|\n",
      "+--------+---------+-----------+\n",
      "|        |    table|       true|\n",
      "+--------+---------+-----------+\n",
      "\n"
     ]
    }
   ],
   "source": [
    "spark.sql(\"show tables\").show()"
   ]
  },
  {
   "cell_type": "code",
   "execution_count": 68,
   "metadata": {},
   "outputs": [
    {
     "name": "stdout",
     "output_type": "stream",
     "text": [
      "+------+-------+------+----------+\n",
      "|userId|movieId|rating| timestamp|\n",
      "+------+-------+------+----------+\n",
      "|     1|      2|   3.5|1112486027|\n",
      "|     1|     29|   3.5|1112484676|\n",
      "|     1|     32|   3.5|1112484819|\n",
      "|     1|     47|   3.5|1112484727|\n",
      "|     1|     50|   3.5|1112484580|\n",
      "|     1|    112|   3.5|1094785740|\n",
      "|     1|    151|   4.0|1094785734|\n",
      "|     1|    223|   4.0|1112485573|\n",
      "|     1|    253|   4.0|1112484940|\n",
      "|     1|    260|   4.0|1112484826|\n",
      "+------+-------+------+----------+\n",
      "\n"
     ]
    }
   ],
   "source": [
    "spark.sql(\"select * from table limit 10\").show()"
   ]
  },
  {
   "cell_type": "code",
   "execution_count": 70,
   "metadata": {},
   "outputs": [],
   "source": [
    "def run_sql(sql_string):\n",
    "    spark.sql(sql_string).show()"
   ]
  },
  {
   "cell_type": "code",
   "execution_count": 71,
   "metadata": {},
   "outputs": [
    {
     "name": "stdout",
     "output_type": "stream",
     "text": [
      "+------+-------+------+----------+\n",
      "|userId|movieId|rating| timestamp|\n",
      "+------+-------+------+----------+\n",
      "|     1|      2|   3.5|1112486027|\n",
      "|     1|     29|   3.5|1112484676|\n",
      "|     1|     32|   3.5|1112484819|\n",
      "|     1|     47|   3.5|1112484727|\n",
      "|     1|     50|   3.5|1112484580|\n",
      "|     1|    112|   3.5|1094785740|\n",
      "|     1|    151|   4.0|1094785734|\n",
      "|     1|    223|   4.0|1112485573|\n",
      "|     1|    253|   4.0|1112484940|\n",
      "|     1|    260|   4.0|1112484826|\n",
      "|     1|    293|   4.0|1112484703|\n",
      "|     1|    296|   4.0|1112484767|\n",
      "|     1|    318|   4.0|1112484798|\n",
      "|     1|    337|   3.5|1094785709|\n",
      "|     1|    367|   3.5|1112485980|\n",
      "|     1|    541|   4.0|1112484603|\n",
      "|     1|    589|   3.5|1112485557|\n",
      "|     1|    593|   3.5|1112484661|\n",
      "|     1|    653|   3.0|1094785691|\n",
      "|     1|    919|   3.5|1094785621|\n",
      "+------+-------+------+----------+\n",
      "only showing top 20 rows\n",
      "\n"
     ]
    }
   ],
   "source": [
    "sql_string = \"\"\"\n",
    "select * \n",
    "from table\n",
    "\"\"\"\n",
    "run_sql(sql_string)"
   ]
  },
  {
   "cell_type": "code",
   "execution_count": 72,
   "metadata": {},
   "outputs": [
    {
     "name": "stdout",
     "output_type": "stream",
     "text": [
      "+---+\n",
      "| id|\n",
      "+---+\n",
      "|  1|\n",
      "|  1|\n",
      "|  1|\n",
      "|  1|\n",
      "|  1|\n",
      "|  1|\n",
      "|  1|\n",
      "|  1|\n",
      "|  1|\n",
      "|  1|\n",
      "|  1|\n",
      "|  1|\n",
      "|  1|\n",
      "|  1|\n",
      "|  1|\n",
      "|  1|\n",
      "|  1|\n",
      "|  1|\n",
      "|  1|\n",
      "|  1|\n",
      "+---+\n",
      "only showing top 20 rows\n",
      "\n"
     ]
    }
   ],
   "source": [
    "sql_string = \"\"\"\n",
    "select userid as id \n",
    "from table\n",
    "\"\"\"\n",
    "run_sql(sql_string)"
   ]
  },
  {
   "cell_type": "code",
   "execution_count": 73,
   "metadata": {},
   "outputs": [
    {
     "name": "stdout",
     "output_type": "stream",
     "text": [
      "+------+--------+\n",
      "|userID|count(1)|\n",
      "+------+--------+\n",
      "|   296|      25|\n",
      "|   467|      30|\n",
      "|   675|     187|\n",
      "|   691|      35|\n",
      "|   829|     387|\n",
      "|  1090|      74|\n",
      "|  1159|     235|\n",
      "|  1436|     234|\n",
      "|  1512|      68|\n",
      "|  1572|      64|\n",
      "|  2069|      45|\n",
      "|  2088|      87|\n",
      "|  2136|     201|\n",
      "|  2162|     100|\n",
      "|  2294|      21|\n",
      "|  2904|      23|\n",
      "|  3210|     452|\n",
      "|  3414|      29|\n",
      "|  3606|      66|\n",
      "|  3959|      24|\n",
      "+------+--------+\n",
      "only showing top 20 rows\n",
      "\n"
     ]
    }
   ],
   "source": [
    "sql_string = \"\"\"\n",
    "select userID, count(*)\n",
    "from table\n",
    "group by userID\n",
    "\"\"\"\n",
    "run_sql(sql_string)"
   ]
  },
  {
   "cell_type": "code",
   "execution_count": null,
   "metadata": {},
   "outputs": [],
   "source": []
  }
 ],
 "metadata": {
  "kernelspec": {
   "display_name": "Python 3",
   "language": "python",
   "name": "python3"
  },
  "language_info": {
   "codemirror_mode": {
    "name": "ipython",
    "version": 3
   },
   "file_extension": ".py",
   "mimetype": "text/x-python",
   "name": "python",
   "nbconvert_exporter": "python",
   "pygments_lexer": "ipython3",
   "version": "3.5.3"
  }
 },
 "nbformat": 4,
 "nbformat_minor": 2
}
