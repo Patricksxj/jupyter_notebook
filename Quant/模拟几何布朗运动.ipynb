{
 "cells": [
  {
   "cell_type": "code",
   "execution_count": 1,
   "metadata": {
    "ExecuteTime": {
     "end_time": "2019-12-07T04:26:57.254891Z",
     "start_time": "2019-12-07T04:26:36.658713Z"
    }
   },
   "outputs": [],
   "source": [
    "import tushare as ts\n",
    "ts.set_token('0d143d9b7bb47143e958e7d5b069c5e25cfd20ae847c0960dfdf28b1')\n",
    "pro = ts.pro_api()"
   ]
  },
  {
   "cell_type": "code",
   "execution_count": 2,
   "metadata": {
    "ExecuteTime": {
     "end_time": "2019-12-07T04:26:59.759035Z",
     "start_time": "2019-12-07T04:26:59.501020Z"
    }
   },
   "outputs": [],
   "source": [
    "df = pro.daily(ts_code='600115.SH', start_date='20140101', end_date='20181231')"
   ]
  },
  {
   "cell_type": "code",
   "execution_count": 5,
   "metadata": {
    "ExecuteTime": {
     "end_time": "2019-12-07T04:27:38.483250Z",
     "start_time": "2019-12-07T04:27:38.441247Z"
    }
   },
   "outputs": [],
   "source": [
    "df.sort_values(by='trade_date',ascending=True,inplace=True)"
   ]
  },
  {
   "cell_type": "code",
   "execution_count": 6,
   "metadata": {
    "ExecuteTime": {
     "end_time": "2019-12-07T04:27:45.677661Z",
     "start_time": "2019-12-07T04:27:45.644659Z"
    }
   },
   "outputs": [
    {
     "data": {
      "text/html": [
       "<div>\n",
       "<style scoped>\n",
       "    .dataframe tbody tr th:only-of-type {\n",
       "        vertical-align: middle;\n",
       "    }\n",
       "\n",
       "    .dataframe tbody tr th {\n",
       "        vertical-align: top;\n",
       "    }\n",
       "\n",
       "    .dataframe thead th {\n",
       "        text-align: right;\n",
       "    }\n",
       "</style>\n",
       "<table border=\"1\" class=\"dataframe\">\n",
       "  <thead>\n",
       "    <tr style=\"text-align: right;\">\n",
       "      <th></th>\n",
       "      <th>ts_code</th>\n",
       "      <th>trade_date</th>\n",
       "      <th>open</th>\n",
       "      <th>high</th>\n",
       "      <th>low</th>\n",
       "      <th>close</th>\n",
       "      <th>pre_close</th>\n",
       "      <th>change</th>\n",
       "      <th>pct_chg</th>\n",
       "      <th>vol</th>\n",
       "      <th>amount</th>\n",
       "    </tr>\n",
       "  </thead>\n",
       "  <tbody>\n",
       "    <tr>\n",
       "      <td>4</td>\n",
       "      <td>600115.SH</td>\n",
       "      <td>20181224</td>\n",
       "      <td>4.92</td>\n",
       "      <td>4.95</td>\n",
       "      <td>4.89</td>\n",
       "      <td>4.94</td>\n",
       "      <td>4.97</td>\n",
       "      <td>-0.03</td>\n",
       "      <td>-0.6036</td>\n",
       "      <td>224619.97</td>\n",
       "      <td>110478.304</td>\n",
       "    </tr>\n",
       "    <tr>\n",
       "      <td>3</td>\n",
       "      <td>600115.SH</td>\n",
       "      <td>20181225</td>\n",
       "      <td>4.93</td>\n",
       "      <td>5.05</td>\n",
       "      <td>4.85</td>\n",
       "      <td>4.99</td>\n",
       "      <td>4.94</td>\n",
       "      <td>0.05</td>\n",
       "      <td>1.0121</td>\n",
       "      <td>461363.10</td>\n",
       "      <td>228315.385</td>\n",
       "    </tr>\n",
       "    <tr>\n",
       "      <td>2</td>\n",
       "      <td>600115.SH</td>\n",
       "      <td>20181226</td>\n",
       "      <td>4.96</td>\n",
       "      <td>5.00</td>\n",
       "      <td>4.86</td>\n",
       "      <td>4.89</td>\n",
       "      <td>4.99</td>\n",
       "      <td>-0.10</td>\n",
       "      <td>-2.0040</td>\n",
       "      <td>339618.80</td>\n",
       "      <td>166805.138</td>\n",
       "    </tr>\n",
       "    <tr>\n",
       "      <td>1</td>\n",
       "      <td>600115.SH</td>\n",
       "      <td>20181227</td>\n",
       "      <td>4.92</td>\n",
       "      <td>4.94</td>\n",
       "      <td>4.78</td>\n",
       "      <td>4.78</td>\n",
       "      <td>4.89</td>\n",
       "      <td>-0.11</td>\n",
       "      <td>-2.2495</td>\n",
       "      <td>354523.77</td>\n",
       "      <td>171956.192</td>\n",
       "    </tr>\n",
       "    <tr>\n",
       "      <td>0</td>\n",
       "      <td>600115.SH</td>\n",
       "      <td>20181228</td>\n",
       "      <td>4.82</td>\n",
       "      <td>4.84</td>\n",
       "      <td>4.73</td>\n",
       "      <td>4.75</td>\n",
       "      <td>4.78</td>\n",
       "      <td>-0.03</td>\n",
       "      <td>-0.6276</td>\n",
       "      <td>225972.84</td>\n",
       "      <td>108037.656</td>\n",
       "    </tr>\n",
       "  </tbody>\n",
       "</table>\n",
       "</div>"
      ],
      "text/plain": [
       "     ts_code trade_date  open  high   low  close  pre_close  change  pct_chg  \\\n",
       "4  600115.SH   20181224  4.92  4.95  4.89   4.94       4.97   -0.03  -0.6036   \n",
       "3  600115.SH   20181225  4.93  5.05  4.85   4.99       4.94    0.05   1.0121   \n",
       "2  600115.SH   20181226  4.96  5.00  4.86   4.89       4.99   -0.10  -2.0040   \n",
       "1  600115.SH   20181227  4.92  4.94  4.78   4.78       4.89   -0.11  -2.2495   \n",
       "0  600115.SH   20181228  4.82  4.84  4.73   4.75       4.78   -0.03  -0.6276   \n",
       "\n",
       "         vol      amount  \n",
       "4  224619.97  110478.304  \n",
       "3  461363.10  228315.385  \n",
       "2  339618.80  166805.138  \n",
       "1  354523.77  171956.192  \n",
       "0  225972.84  108037.656  "
      ]
     },
     "execution_count": 6,
     "metadata": {},
     "output_type": "execute_result"
    }
   ],
   "source": [
    "df.tail()"
   ]
  },
  {
   "cell_type": "code",
   "execution_count": 7,
   "metadata": {
    "ExecuteTime": {
     "end_time": "2019-12-07T04:28:31.031255Z",
     "start_time": "2019-12-07T04:28:31.024255Z"
    }
   },
   "outputs": [],
   "source": [
    "s=df['close']"
   ]
  },
  {
   "cell_type": "code",
   "execution_count": 8,
   "metadata": {
    "ExecuteTime": {
     "end_time": "2019-12-07T04:28:42.168892Z",
     "start_time": "2019-12-07T04:28:42.157892Z"
    }
   },
   "outputs": [
    {
     "data": {
      "text/plain": [
       "1205    2.75\n",
       "1204    2.70\n",
       "1203    2.60\n",
       "1202    2.61\n",
       "1201    2.60\n",
       "Name: close, dtype: float64"
      ]
     },
     "execution_count": 8,
     "metadata": {},
     "output_type": "execute_result"
    }
   ],
   "source": [
    "s.head()"
   ]
  },
  {
   "cell_type": "code",
   "execution_count": 11,
   "metadata": {
    "ExecuteTime": {
     "end_time": "2019-12-07T04:29:52.116893Z",
     "start_time": "2019-12-07T04:29:52.036888Z"
    }
   },
   "outputs": [
    {
     "data": {
      "text/plain": [
       "count    1206.000000\n",
       "mean        6.197214\n",
       "std         2.058000\n",
       "min         2.260000\n",
       "25%         5.290000\n",
       "50%         6.730000\n",
       "75%         7.257500\n",
       "max        13.790000\n",
       "Name: close, dtype: float64"
      ]
     },
     "execution_count": 11,
     "metadata": {},
     "output_type": "execute_result"
    }
   ],
   "source": [
    "s.describe()"
   ]
  },
  {
   "cell_type": "code",
   "execution_count": 12,
   "metadata": {
    "ExecuteTime": {
     "end_time": "2019-12-07T04:30:10.701956Z",
     "start_time": "2019-12-07T04:30:10.693956Z"
    }
   },
   "outputs": [],
   "source": [
    "import numpy as np"
   ]
  },
  {
   "cell_type": "code",
   "execution_count": 15,
   "metadata": {
    "ExecuteTime": {
     "end_time": "2019-12-07T04:35:13.515276Z",
     "start_time": "2019-12-07T04:35:13.069250Z"
    }
   },
   "outputs": [
    {
     "data": {
      "text/plain": [
       "<matplotlib.axes._subplots.AxesSubplot at 0xaf4af88>"
      ]
     },
     "execution_count": 15,
     "metadata": {},
     "output_type": "execute_result"
    },
    {
     "data": {
      "image/png": "[encoded data removed]",
      "text/plain": [
       "<Figure size 576x432 with 1 Axes>"
      ]
     },
     "metadata": {
      "needs_background": "light"
     },
     "output_type": "display_data"
    }
   ],
   "source": [
    "%matplotlib inline\n",
    "R=np.log(s/s.shift(1))\n",
    "R=R.dropna()\n",
    "R.plot(figsize=(8,6))"
   ]
  },
  {
   "cell_type": "code",
   "execution_count": 23,
   "metadata": {
    "ExecuteTime": {
     "end_time": "2019-12-07T04:41:22.925405Z",
     "start_time": "2019-12-07T04:41:22.915404Z"
    }
   },
   "outputs": [
    {
     "name": "stdout",
     "output_type": "stream",
     "text": [
      "expect annual return: 0.1143\n",
      "expect annual volatility: 0.4657\n"
     ]
    }
   ],
   "source": [
    "mu=R.mean()*252\n",
    "sigma=R.std()*np.sqrt(252)\n",
    "print('expect annual return:',round(mu,4))\n",
    "print('expect annual volatility:',round(sigma,4))"
   ]
  },
  {
   "cell_type": "code",
   "execution_count": 24,
   "metadata": {
    "ExecuteTime": {
     "end_time": "2019-12-07T04:41:24.614502Z",
     "start_time": "2019-12-07T04:41:24.573499Z"
    }
   },
   "outputs": [],
   "source": [
    "import numpy.random as npr\n",
    "import pandas as pd\n",
    "date=pd.date_range(start='2019-01-02',end='2021-12-31',freq='B')\n",
    "N=len(date)\n",
    "I=500\n",
    "dt=1.0/252\n",
    "mu=np.array(mu)\n",
    "sigma=np.array(sigma)\n",
    "S_GBM=np.zeros((N,I))\n",
    "S_GBM[0]=4.73"
   ]
  },
  {
   "cell_type": "code",
   "execution_count": 27,
   "metadata": {
    "ExecuteTime": {
     "end_time": "2019-12-07T04:41:51.280027Z",
     "start_time": "2019-12-07T04:41:51.265026Z"
    }
   },
   "outputs": [
    {
     "data": {
      "text/plain": [
       "(783, 500)"
      ]
     },
     "execution_count": 27,
     "metadata": {},
     "output_type": "execute_result"
    }
   ],
   "source": [
    "#783天，500个路径的变化\n",
    "S_GBM.shape"
   ]
  },
  {
   "cell_type": "code",
   "execution_count": 31,
   "metadata": {
    "ExecuteTime": {
     "end_time": "2019-12-07T04:48:19.103209Z",
     "start_time": "2019-12-07T04:48:19.050206Z"
    }
   },
   "outputs": [],
   "source": [
    "for t in range(1,N):\n",
    "    eslion=npr.standard_normal(I)\n",
    "    S_GBM[t]=S_GBM[t-1]*np.exp((mu-0.5*sigma**2)*dt+sigma*eslion*np.sqrt(dt))\n",
    "S_GBM=pd.DataFrame(S_GBM,index=date)"
   ]
  },
  {
   "cell_type": "code",
   "execution_count": 32,
   "metadata": {
    "ExecuteTime": {
     "end_time": "2019-12-07T04:48:58.889485Z",
     "start_time": "2019-12-07T04:48:58.845482Z"
    }
   },
   "outputs": [
    {
     "data": {
      "text/html": [
       "<div>\n",
       "<style scoped>\n",
       "    .dataframe tbody tr th:only-of-type {\n",
       "        vertical-align: middle;\n",
       "    }\n",
       "\n",
       "    .dataframe tbody tr th {\n",
       "        vertical-align: top;\n",
       "    }\n",
       "\n",
       "    .dataframe thead th {\n",
       "        text-align: right;\n",
       "    }\n",
       "</style>\n",
       "<table border=\"1\" class=\"dataframe\">\n",
       "  <thead>\n",
       "    <tr style=\"text-align: right;\">\n",
       "      <th></th>\n",
       "      <th>0</th>\n",
       "      <th>1</th>\n",
       "      <th>2</th>\n",
       "      <th>3</th>\n",
       "      <th>4</th>\n",
       "      <th>5</th>\n",
       "      <th>6</th>\n",
       "      <th>7</th>\n",
       "      <th>8</th>\n",
       "      <th>9</th>\n",
       "      <th>...</th>\n",
       "      <th>490</th>\n",
       "      <th>491</th>\n",
       "      <th>492</th>\n",
       "      <th>493</th>\n",
       "      <th>494</th>\n",
       "      <th>495</th>\n",
       "      <th>496</th>\n",
       "      <th>497</th>\n",
       "      <th>498</th>\n",
       "      <th>499</th>\n",
       "    </tr>\n",
       "  </thead>\n",
       "  <tbody>\n",
       "    <tr>\n",
       "      <td>2019-01-02</td>\n",
       "      <td>4.730000</td>\n",
       "      <td>4.730000</td>\n",
       "      <td>4.730000</td>\n",
       "      <td>4.730000</td>\n",
       "      <td>4.730000</td>\n",
       "      <td>4.730000</td>\n",
       "      <td>4.730000</td>\n",
       "      <td>4.730000</td>\n",
       "      <td>4.730000</td>\n",
       "      <td>4.730000</td>\n",
       "      <td>...</td>\n",
       "      <td>4.730000</td>\n",
       "      <td>4.730000</td>\n",
       "      <td>4.730000</td>\n",
       "      <td>4.730000</td>\n",
       "      <td>4.730000</td>\n",
       "      <td>4.730000</td>\n",
       "      <td>4.730000</td>\n",
       "      <td>4.730000</td>\n",
       "      <td>4.730000</td>\n",
       "      <td>4.730000</td>\n",
       "    </tr>\n",
       "    <tr>\n",
       "      <td>2019-01-03</td>\n",
       "      <td>4.814320</td>\n",
       "      <td>4.453607</td>\n",
       "      <td>4.753162</td>\n",
       "      <td>4.828817</td>\n",
       "      <td>4.678842</td>\n",
       "      <td>4.804293</td>\n",
       "      <td>4.902272</td>\n",
       "      <td>4.704306</td>\n",
       "      <td>4.972446</td>\n",
       "      <td>4.665374</td>\n",
       "      <td>...</td>\n",
       "      <td>4.630051</td>\n",
       "      <td>4.749870</td>\n",
       "      <td>4.927445</td>\n",
       "      <td>4.673500</td>\n",
       "      <td>4.770196</td>\n",
       "      <td>4.820755</td>\n",
       "      <td>4.600553</td>\n",
       "      <td>4.640337</td>\n",
       "      <td>4.794465</td>\n",
       "      <td>4.815657</td>\n",
       "    </tr>\n",
       "    <tr>\n",
       "      <td>2019-01-04</td>\n",
       "      <td>4.794305</td>\n",
       "      <td>4.394435</td>\n",
       "      <td>4.779323</td>\n",
       "      <td>4.737033</td>\n",
       "      <td>4.536466</td>\n",
       "      <td>5.177013</td>\n",
       "      <td>4.864523</td>\n",
       "      <td>4.668164</td>\n",
       "      <td>4.964377</td>\n",
       "      <td>4.470457</td>\n",
       "      <td>...</td>\n",
       "      <td>4.795668</td>\n",
       "      <td>4.932582</td>\n",
       "      <td>4.750289</td>\n",
       "      <td>4.784134</td>\n",
       "      <td>4.740668</td>\n",
       "      <td>4.771202</td>\n",
       "      <td>4.534759</td>\n",
       "      <td>4.585712</td>\n",
       "      <td>4.878774</td>\n",
       "      <td>5.017388</td>\n",
       "    </tr>\n",
       "    <tr>\n",
       "      <td>2019-01-07</td>\n",
       "      <td>4.906255</td>\n",
       "      <td>4.416159</td>\n",
       "      <td>4.652504</td>\n",
       "      <td>4.816318</td>\n",
       "      <td>4.465718</td>\n",
       "      <td>5.211407</td>\n",
       "      <td>4.652969</td>\n",
       "      <td>4.480167</td>\n",
       "      <td>4.920276</td>\n",
       "      <td>4.548001</td>\n",
       "      <td>...</td>\n",
       "      <td>4.898405</td>\n",
       "      <td>5.007823</td>\n",
       "      <td>4.743791</td>\n",
       "      <td>4.795244</td>\n",
       "      <td>4.925760</td>\n",
       "      <td>4.565349</td>\n",
       "      <td>4.461317</td>\n",
       "      <td>4.599641</td>\n",
       "      <td>4.881158</td>\n",
       "      <td>4.833745</td>\n",
       "    </tr>\n",
       "    <tr>\n",
       "      <td>2019-01-08</td>\n",
       "      <td>4.725032</td>\n",
       "      <td>4.233467</td>\n",
       "      <td>4.410099</td>\n",
       "      <td>4.865828</td>\n",
       "      <td>4.491606</td>\n",
       "      <td>5.205574</td>\n",
       "      <td>4.702027</td>\n",
       "      <td>4.542329</td>\n",
       "      <td>5.002573</td>\n",
       "      <td>4.543747</td>\n",
       "      <td>...</td>\n",
       "      <td>4.648853</td>\n",
       "      <td>5.292568</td>\n",
       "      <td>4.650681</td>\n",
       "      <td>4.764957</td>\n",
       "      <td>4.874435</td>\n",
       "      <td>4.673743</td>\n",
       "      <td>4.288275</td>\n",
       "      <td>4.848326</td>\n",
       "      <td>4.958721</td>\n",
       "      <td>4.735110</td>\n",
       "    </tr>\n",
       "  </tbody>\n",
       "</table>\n",
       "<p>5 rows × 500 columns</p>\n",
       "</div>"
      ],
      "text/plain": [
       "                 0         1         2         3         4         5    \\\n",
       "2019-01-02  4.730000  4.730000  4.730000  4.730000  4.730000  4.730000   \n",
       "2019-01-03  4.814320  4.453607  4.753162  4.828817  4.678842  4.804293   \n",
       "2019-01-04  4.794305  4.394435  4.779323  4.737033  4.536466  5.177013   \n",
       "2019-01-07  4.906255  4.416159  4.652504  4.816318  4.465718  5.211407   \n",
       "2019-01-08  4.725032  4.233467  4.410099  4.865828  4.491606  5.205574   \n",
       "\n",
       "                 6         7         8         9    ...       490       491  \\\n",
       "2019-01-02  4.730000  4.730000  4.730000  4.730000  ...  4.730000  4.730000   \n",
       "2019-01-03  4.902272  4.704306  4.972446  4.665374  ...  4.630051  4.749870   \n",
       "2019-01-04  4.864523  4.668164  4.964377  4.470457  ...  4.795668  4.932582   \n",
       "2019-01-07  4.652969  4.480167  4.920276  4.548001  ...  4.898405  5.007823   \n",
       "2019-01-08  4.702027  4.542329  5.002573  4.543747  ...  4.648853  5.292568   \n",
       "\n",
       "                 492       493       494       495       496       497  \\\n",
       "2019-01-02  4.730000  4.730000  4.730000  4.730000  4.730000  4.730000   \n",
       "2019-01-03  4.927445  4.673500  4.770196  4.820755  4.600553  4.640337   \n",
       "2019-01-04  4.750289  4.784134  4.740668  4.771202  4.534759  4.585712   \n",
       "2019-01-07  4.743791  4.795244  4.925760  4.565349  4.461317  4.599641   \n",
       "2019-01-08  4.650681  4.764957  4.874435  4.673743  4.288275  4.848326   \n",
       "\n",
       "                 498       499  \n",
       "2019-01-02  4.730000  4.730000  \n",
       "2019-01-03  4.794465  4.815657  \n",
       "2019-01-04  4.878774  5.017388  \n",
       "2019-01-07  4.881158  4.833745  \n",
       "2019-01-08  4.958721  4.735110  \n",
       "\n",
       "[5 rows x 500 columns]"
      ]
     },
     "execution_count": 32,
     "metadata": {},
     "output_type": "execute_result"
    }
   ],
   "source": [
    "S_GBM.head()"
   ]
  },
  {
   "cell_type": "code",
   "execution_count": 33,
   "metadata": {
    "ExecuteTime": {
     "end_time": "2019-12-07T04:49:44.117072Z",
     "start_time": "2019-12-07T04:49:43.195019Z"
    }
   },
   "outputs": [
    {
     "data": {
      "text/html": [
       "<div>\n",
       "<style scoped>\n",
       "    .dataframe tbody tr th:only-of-type {\n",
       "        vertical-align: middle;\n",
       "    }\n",
       "\n",
       "    .dataframe tbody tr th {\n",
       "        vertical-align: top;\n",
       "    }\n",
       "\n",
       "    .dataframe thead th {\n",
       "        text-align: right;\n",
       "    }\n",
       "</style>\n",
       "<table border=\"1\" class=\"dataframe\">\n",
       "  <thead>\n",
       "    <tr style=\"text-align: right;\">\n",
       "      <th></th>\n",
       "      <th>0</th>\n",
       "      <th>1</th>\n",
       "      <th>2</th>\n",
       "      <th>3</th>\n",
       "      <th>4</th>\n",
       "      <th>5</th>\n",
       "      <th>6</th>\n",
       "      <th>7</th>\n",
       "      <th>8</th>\n",
       "      <th>9</th>\n",
       "      <th>...</th>\n",
       "      <th>490</th>\n",
       "      <th>491</th>\n",
       "      <th>492</th>\n",
       "      <th>493</th>\n",
       "      <th>494</th>\n",
       "      <th>495</th>\n",
       "      <th>496</th>\n",
       "      <th>497</th>\n",
       "      <th>498</th>\n",
       "      <th>499</th>\n",
       "    </tr>\n",
       "  </thead>\n",
       "  <tbody>\n",
       "    <tr>\n",
       "      <td>count</td>\n",
       "      <td>783.000000</td>\n",
       "      <td>783.000000</td>\n",
       "      <td>783.000000</td>\n",
       "      <td>783.000000</td>\n",
       "      <td>783.000000</td>\n",
       "      <td>783.000000</td>\n",
       "      <td>783.000000</td>\n",
       "      <td>783.000000</td>\n",
       "      <td>783.000000</td>\n",
       "      <td>783.000000</td>\n",
       "      <td>...</td>\n",
       "      <td>783.000000</td>\n",
       "      <td>783.000000</td>\n",
       "      <td>783.000000</td>\n",
       "      <td>783.000000</td>\n",
       "      <td>783.000000</td>\n",
       "      <td>783.000000</td>\n",
       "      <td>783.000000</td>\n",
       "      <td>783.000000</td>\n",
       "      <td>783.000000</td>\n",
       "      <td>783.000000</td>\n",
       "    </tr>\n",
       "    <tr>\n",
       "      <td>mean</td>\n",
       "      <td>2.194328</td>\n",
       "      <td>4.759475</td>\n",
       "      <td>8.848597</td>\n",
       "      <td>3.460243</td>\n",
       "      <td>6.119296</td>\n",
       "      <td>7.538982</td>\n",
       "      <td>5.478249</td>\n",
       "      <td>4.743511</td>\n",
       "      <td>4.810110</td>\n",
       "      <td>8.383406</td>\n",
       "      <td>...</td>\n",
       "      <td>3.316833</td>\n",
       "      <td>6.328306</td>\n",
       "      <td>2.159960</td>\n",
       "      <td>16.617229</td>\n",
       "      <td>14.900585</td>\n",
       "      <td>4.669693</td>\n",
       "      <td>4.075644</td>\n",
       "      <td>4.780874</td>\n",
       "      <td>7.008421</td>\n",
       "      <td>5.642772</td>\n",
       "    </tr>\n",
       "    <tr>\n",
       "      <td>std</td>\n",
       "      <td>0.813969</td>\n",
       "      <td>0.920599</td>\n",
       "      <td>5.107266</td>\n",
       "      <td>0.466574</td>\n",
       "      <td>2.330147</td>\n",
       "      <td>1.915085</td>\n",
       "      <td>1.341074</td>\n",
       "      <td>1.162011</td>\n",
       "      <td>0.853544</td>\n",
       "      <td>5.680495</td>\n",
       "      <td>...</td>\n",
       "      <td>0.659113</td>\n",
       "      <td>1.473494</td>\n",
       "      <td>1.095626</td>\n",
       "      <td>9.942543</td>\n",
       "      <td>10.677927</td>\n",
       "      <td>1.583922</td>\n",
       "      <td>0.540018</td>\n",
       "      <td>1.106349</td>\n",
       "      <td>1.824797</td>\n",
       "      <td>1.648079</td>\n",
       "    </tr>\n",
       "    <tr>\n",
       "      <td>min</td>\n",
       "      <td>1.071094</td>\n",
       "      <td>3.094053</td>\n",
       "      <td>2.087938</td>\n",
       "      <td>2.382554</td>\n",
       "      <td>3.275610</td>\n",
       "      <td>4.730000</td>\n",
       "      <td>3.184525</td>\n",
       "      <td>2.627887</td>\n",
       "      <td>2.747915</td>\n",
       "      <td>3.010656</td>\n",
       "      <td>...</td>\n",
       "      <td>1.804684</td>\n",
       "      <td>3.651094</td>\n",
       "      <td>1.168400</td>\n",
       "      <td>4.673500</td>\n",
       "      <td>4.730000</td>\n",
       "      <td>2.162695</td>\n",
       "      <td>2.787254</td>\n",
       "      <td>2.756923</td>\n",
       "      <td>3.855739</td>\n",
       "      <td>2.612645</td>\n",
       "    </tr>\n",
       "    <tr>\n",
       "      <td>25%</td>\n",
       "      <td>1.691352</td>\n",
       "      <td>4.049962</td>\n",
       "      <td>3.796542</td>\n",
       "      <td>3.093257</td>\n",
       "      <td>4.219841</td>\n",
       "      <td>6.331494</td>\n",
       "      <td>4.158414</td>\n",
       "      <td>4.024468</td>\n",
       "      <td>4.322757</td>\n",
       "      <td>4.737897</td>\n",
       "      <td>...</td>\n",
       "      <td>2.821429</td>\n",
       "      <td>5.325740</td>\n",
       "      <td>1.450153</td>\n",
       "      <td>7.813593</td>\n",
       "      <td>7.132567</td>\n",
       "      <td>3.092004</td>\n",
       "      <td>3.702038</td>\n",
       "      <td>3.902995</td>\n",
       "      <td>5.269157</td>\n",
       "      <td>4.405408</td>\n",
       "    </tr>\n",
       "    <tr>\n",
       "      <td>50%</td>\n",
       "      <td>1.938928</td>\n",
       "      <td>4.679465</td>\n",
       "      <td>8.009692</td>\n",
       "      <td>3.419908</td>\n",
       "      <td>4.907711</td>\n",
       "      <td>7.027298</td>\n",
       "      <td>5.466672</td>\n",
       "      <td>4.873577</td>\n",
       "      <td>4.892665</td>\n",
       "      <td>5.427357</td>\n",
       "      <td>...</td>\n",
       "      <td>3.474518</td>\n",
       "      <td>6.175095</td>\n",
       "      <td>1.683498</td>\n",
       "      <td>14.325431</td>\n",
       "      <td>9.833568</td>\n",
       "      <td>4.753675</td>\n",
       "      <td>4.043195</td>\n",
       "      <td>4.694990</td>\n",
       "      <td>7.018199</td>\n",
       "      <td>5.500376</td>\n",
       "    </tr>\n",
       "    <tr>\n",
       "      <td>75%</td>\n",
       "      <td>2.454626</td>\n",
       "      <td>5.497525</td>\n",
       "      <td>13.553005</td>\n",
       "      <td>3.787571</td>\n",
       "      <td>8.318917</td>\n",
       "      <td>7.967457</td>\n",
       "      <td>6.618984</td>\n",
       "      <td>5.487562</td>\n",
       "      <td>5.359066</td>\n",
       "      <td>9.566152</td>\n",
       "      <td>...</td>\n",
       "      <td>3.804158</td>\n",
       "      <td>7.276509</td>\n",
       "      <td>2.302558</td>\n",
       "      <td>25.054941</td>\n",
       "      <td>19.316263</td>\n",
       "      <td>6.075329</td>\n",
       "      <td>4.398839</td>\n",
       "      <td>5.390542</td>\n",
       "      <td>8.684917</td>\n",
       "      <td>6.703104</td>\n",
       "    </tr>\n",
       "    <tr>\n",
       "      <td>max</td>\n",
       "      <td>4.906255</td>\n",
       "      <td>6.990656</td>\n",
       "      <td>18.706852</td>\n",
       "      <td>4.865828</td>\n",
       "      <td>11.671263</td>\n",
       "      <td>15.260304</td>\n",
       "      <td>8.269690</td>\n",
       "      <td>7.274261</td>\n",
       "      <td>7.304082</td>\n",
       "      <td>26.885527</td>\n",
       "      <td>...</td>\n",
       "      <td>4.898405</td>\n",
       "      <td>10.680391</td>\n",
       "      <td>5.537604</td>\n",
       "      <td>40.467440</td>\n",
       "      <td>47.641959</td>\n",
       "      <td>7.662877</td>\n",
       "      <td>5.604182</td>\n",
       "      <td>8.260738</td>\n",
       "      <td>10.424806</td>\n",
       "      <td>9.925503</td>\n",
       "    </tr>\n",
       "  </tbody>\n",
       "</table>\n",
       "<p>8 rows × 500 columns</p>\n",
       "</div>"
      ],
      "text/plain": [
       "              0           1           2           3           4           5    \\\n",
       "count  783.000000  783.000000  783.000000  783.000000  783.000000  783.000000   \n",
       "mean     2.194328    4.759475    8.848597    3.460243    6.119296    7.538982   \n",
       "std      0.813969    0.920599    5.107266    0.466574    2.330147    1.915085   \n",
       "min      1.071094    3.094053    2.087938    2.382554    3.275610    4.730000   \n",
       "25%      1.691352    4.049962    3.796542    3.093257    4.219841    6.331494   \n",
       "50%      1.938928    4.679465    8.009692    3.419908    4.907711    7.027298   \n",
       "75%      2.454626    5.497525   13.553005    3.787571    8.318917    7.967457   \n",
       "max      4.906255    6.990656   18.706852    4.865828   11.671263   15.260304   \n",
       "\n",
       "              6           7           8           9    ...         490  \\\n",
       "count  783.000000  783.000000  783.000000  783.000000  ...  783.000000   \n",
       "mean     5.478249    4.743511    4.810110    8.383406  ...    3.316833   \n",
       "std      1.341074    1.162011    0.853544    5.680495  ...    0.659113   \n",
       "min      3.184525    2.627887    2.747915    3.010656  ...    1.804684   \n",
       "25%      4.158414    4.024468    4.322757    4.737897  ...    2.821429   \n",
       "50%      5.466672    4.873577    4.892665    5.427357  ...    3.474518   \n",
       "75%      6.618984    5.487562    5.359066    9.566152  ...    3.804158   \n",
       "max      8.269690    7.274261    7.304082   26.885527  ...    4.898405   \n",
       "\n",
       "              491         492         493         494         495         496  \\\n",
       "count  783.000000  783.000000  783.000000  783.000000  783.000000  783.000000   \n",
       "mean     6.328306    2.159960   16.617229   14.900585    4.669693    4.075644   \n",
       "std      1.473494    1.095626    9.942543   10.677927    1.583922    0.540018   \n",
       "min      3.651094    1.168400    4.673500    4.730000    2.162695    2.787254   \n",
       "25%      5.325740    1.450153    7.813593    7.132567    3.092004    3.702038   \n",
       "50%      6.175095    1.683498   14.325431    9.833568    4.753675    4.043195   \n",
       "75%      7.276509    2.302558   25.054941   19.316263    6.075329    4.398839   \n",
       "max     10.680391    5.537604   40.467440   47.641959    7.662877    5.604182   \n",
       "\n",
       "              497         498         499  \n",
       "count  783.000000  783.000000  783.000000  \n",
       "mean     4.780874    7.008421    5.642772  \n",
       "std      1.106349    1.824797    1.648079  \n",
       "min      2.756923    3.855739    2.612645  \n",
       "25%      3.902995    5.269157    4.405408  \n",
       "50%      4.694990    7.018199    5.500376  \n",
       "75%      5.390542    8.684917    6.703104  \n",
       "max      8.260738   10.424806    9.925503  \n",
       "\n",
       "[8 rows x 500 columns]"
      ]
     },
     "execution_count": 33,
     "metadata": {},
     "output_type": "execute_result"
    }
   ],
   "source": [
    "S_GBM.describe()"
   ]
  },
  {
   "cell_type": "code",
   "execution_count": 43,
   "metadata": {
    "ExecuteTime": {
     "end_time": "2019-12-07T04:53:32.026107Z",
     "start_time": "2019-12-07T04:53:31.986105Z"
    }
   },
   "outputs": [
    {
     "data": {
      "text/html": [
       "<div>\n",
       "<style scoped>\n",
       "    .dataframe tbody tr th:only-of-type {\n",
       "        vertical-align: middle;\n",
       "    }\n",
       "\n",
       "    .dataframe tbody tr th {\n",
       "        vertical-align: top;\n",
       "    }\n",
       "\n",
       "    .dataframe thead th {\n",
       "        text-align: right;\n",
       "    }\n",
       "</style>\n",
       "<table border=\"1\" class=\"dataframe\">\n",
       "  <thead>\n",
       "    <tr style=\"text-align: right;\">\n",
       "      <th></th>\n",
       "      <th>0</th>\n",
       "      <th>1</th>\n",
       "      <th>2</th>\n",
       "      <th>3</th>\n",
       "      <th>4</th>\n",
       "      <th>5</th>\n",
       "      <th>6</th>\n",
       "      <th>7</th>\n",
       "      <th>8</th>\n",
       "      <th>9</th>\n",
       "      <th>...</th>\n",
       "      <th>490</th>\n",
       "      <th>491</th>\n",
       "      <th>492</th>\n",
       "      <th>493</th>\n",
       "      <th>494</th>\n",
       "      <th>495</th>\n",
       "      <th>496</th>\n",
       "      <th>497</th>\n",
       "      <th>498</th>\n",
       "      <th>499</th>\n",
       "    </tr>\n",
       "  </thead>\n",
       "  <tbody>\n",
       "    <tr>\n",
       "      <td>2021-12-27</td>\n",
       "      <td>1.789892</td>\n",
       "      <td>3.705346</td>\n",
       "      <td>12.647641</td>\n",
       "      <td>3.360893</td>\n",
       "      <td>7.635506</td>\n",
       "      <td>12.343255</td>\n",
       "      <td>7.599334</td>\n",
       "      <td>2.864619</td>\n",
       "      <td>3.129418</td>\n",
       "      <td>22.156136</td>\n",
       "      <td>...</td>\n",
       "      <td>1.892579</td>\n",
       "      <td>8.282272</td>\n",
       "      <td>1.594038</td>\n",
       "      <td>23.605892</td>\n",
       "      <td>42.340463</td>\n",
       "      <td>3.157635</td>\n",
       "      <td>3.845328</td>\n",
       "      <td>3.773993</td>\n",
       "      <td>8.627474</td>\n",
       "      <td>3.182777</td>\n",
       "    </tr>\n",
       "    <tr>\n",
       "      <td>2021-12-28</td>\n",
       "      <td>1.764513</td>\n",
       "      <td>3.732737</td>\n",
       "      <td>12.433822</td>\n",
       "      <td>3.402195</td>\n",
       "      <td>7.406406</td>\n",
       "      <td>11.789775</td>\n",
       "      <td>7.607197</td>\n",
       "      <td>2.983465</td>\n",
       "      <td>3.073448</td>\n",
       "      <td>21.281439</td>\n",
       "      <td>...</td>\n",
       "      <td>1.895832</td>\n",
       "      <td>8.411574</td>\n",
       "      <td>1.537252</td>\n",
       "      <td>24.370965</td>\n",
       "      <td>43.162771</td>\n",
       "      <td>3.252580</td>\n",
       "      <td>3.934881</td>\n",
       "      <td>3.905312</td>\n",
       "      <td>8.921127</td>\n",
       "      <td>3.211202</td>\n",
       "    </tr>\n",
       "    <tr>\n",
       "      <td>2021-12-29</td>\n",
       "      <td>1.789128</td>\n",
       "      <td>3.624824</td>\n",
       "      <td>12.706406</td>\n",
       "      <td>3.188490</td>\n",
       "      <td>7.829722</td>\n",
       "      <td>12.109149</td>\n",
       "      <td>7.320189</td>\n",
       "      <td>2.776923</td>\n",
       "      <td>3.071954</td>\n",
       "      <td>21.655563</td>\n",
       "      <td>...</td>\n",
       "      <td>1.909001</td>\n",
       "      <td>8.380599</td>\n",
       "      <td>1.471583</td>\n",
       "      <td>25.051941</td>\n",
       "      <td>42.022077</td>\n",
       "      <td>3.341910</td>\n",
       "      <td>3.737455</td>\n",
       "      <td>3.818558</td>\n",
       "      <td>8.400960</td>\n",
       "      <td>3.218665</td>\n",
       "    </tr>\n",
       "    <tr>\n",
       "      <td>2021-12-30</td>\n",
       "      <td>1.849143</td>\n",
       "      <td>3.719425</td>\n",
       "      <td>12.390898</td>\n",
       "      <td>3.081445</td>\n",
       "      <td>7.797291</td>\n",
       "      <td>12.122605</td>\n",
       "      <td>7.184460</td>\n",
       "      <td>2.767967</td>\n",
       "      <td>3.092364</td>\n",
       "      <td>21.940696</td>\n",
       "      <td>...</td>\n",
       "      <td>1.988134</td>\n",
       "      <td>8.348097</td>\n",
       "      <td>1.456369</td>\n",
       "      <td>25.382297</td>\n",
       "      <td>44.454167</td>\n",
       "      <td>3.339929</td>\n",
       "      <td>3.624972</td>\n",
       "      <td>3.785969</td>\n",
       "      <td>8.591269</td>\n",
       "      <td>3.252453</td>\n",
       "    </tr>\n",
       "    <tr>\n",
       "      <td>2021-12-31</td>\n",
       "      <td>1.892463</td>\n",
       "      <td>3.900604</td>\n",
       "      <td>12.513985</td>\n",
       "      <td>3.086110</td>\n",
       "      <td>7.657153</td>\n",
       "      <td>11.591976</td>\n",
       "      <td>7.070044</td>\n",
       "      <td>2.707930</td>\n",
       "      <td>3.029969</td>\n",
       "      <td>21.893843</td>\n",
       "      <td>...</td>\n",
       "      <td>1.972250</td>\n",
       "      <td>8.291572</td>\n",
       "      <td>1.488459</td>\n",
       "      <td>24.574065</td>\n",
       "      <td>45.036952</td>\n",
       "      <td>3.363280</td>\n",
       "      <td>3.512975</td>\n",
       "      <td>3.963733</td>\n",
       "      <td>8.611395</td>\n",
       "      <td>3.354536</td>\n",
       "    </tr>\n",
       "  </tbody>\n",
       "</table>\n",
       "<p>5 rows × 500 columns</p>\n",
       "</div>"
      ],
      "text/plain": [
       "                 0         1          2         3         4          5    \\\n",
       "2021-12-27  1.789892  3.705346  12.647641  3.360893  7.635506  12.343255   \n",
       "2021-12-28  1.764513  3.732737  12.433822  3.402195  7.406406  11.789775   \n",
       "2021-12-29  1.789128  3.624824  12.706406  3.188490  7.829722  12.109149   \n",
       "2021-12-30  1.849143  3.719425  12.390898  3.081445  7.797291  12.122605   \n",
       "2021-12-31  1.892463  3.900604  12.513985  3.086110  7.657153  11.591976   \n",
       "\n",
       "                 6         7         8          9    ...       490       491  \\\n",
       "2021-12-27  7.599334  2.864619  3.129418  22.156136  ...  1.892579  8.282272   \n",
       "2021-12-28  7.607197  2.983465  3.073448  21.281439  ...  1.895832  8.411574   \n",
       "2021-12-29  7.320189  2.776923  3.071954  21.655563  ...  1.909001  8.380599   \n",
       "2021-12-30  7.184460  2.767967  3.092364  21.940696  ...  1.988134  8.348097   \n",
       "2021-12-31  7.070044  2.707930  3.029969  21.893843  ...  1.972250  8.291572   \n",
       "\n",
       "                 492        493        494       495       496       497  \\\n",
       "2021-12-27  1.594038  23.605892  42.340463  3.157635  3.845328  3.773993   \n",
       "2021-12-28  1.537252  24.370965  43.162771  3.252580  3.934881  3.905312   \n",
       "2021-12-29  1.471583  25.051941  42.022077  3.341910  3.737455  3.818558   \n",
       "2021-12-30  1.456369  25.382297  44.454167  3.339929  3.624972  3.785969   \n",
       "2021-12-31  1.488459  24.574065  45.036952  3.363280  3.512975  3.963733   \n",
       "\n",
       "                 498       499  \n",
       "2021-12-27  8.627474  3.182777  \n",
       "2021-12-28  8.921127  3.211202  \n",
       "2021-12-29  8.400960  3.218665  \n",
       "2021-12-30  8.591269  3.252453  \n",
       "2021-12-31  8.611395  3.354536  \n",
       "\n",
       "[5 rows x 500 columns]"
      ]
     },
     "execution_count": 43,
     "metadata": {},
     "output_type": "execute_result"
    }
   ],
   "source": [
    "S_GBM.tail()"
   ]
  },
  {
   "cell_type": "code",
   "execution_count": 45,
   "metadata": {
    "ExecuteTime": {
     "end_time": "2019-12-07T04:54:18.613772Z",
     "start_time": "2019-12-07T04:54:18.599771Z"
    }
   },
   "outputs": [
    {
     "data": {
      "text/plain": [
       "7.223474116278206"
      ]
     },
     "execution_count": 45,
     "metadata": {},
     "output_type": "execute_result"
    }
   ],
   "source": [
    "S_GBM.iloc[782].mean()"
   ]
  },
  {
   "cell_type": "code",
   "execution_count": 51,
   "metadata": {
    "ExecuteTime": {
     "end_time": "2019-12-07T04:57:07.516433Z",
     "start_time": "2019-12-07T04:57:07.503432Z"
    }
   },
   "outputs": [
    {
     "data": {
      "text/plain": [
       "0.14113693807035302"
      ]
     },
     "execution_count": 51,
     "metadata": {},
     "output_type": "execute_result"
    }
   ],
   "source": [
    "np.log(S_GBM.iloc[782].mean()/4.73)/3"
   ]
  },
  {
   "cell_type": "code",
   "execution_count": 52,
   "metadata": {
    "ExecuteTime": {
     "end_time": "2019-12-07T04:57:15.201872Z",
     "start_time": "2019-12-07T04:57:15.191872Z"
    }
   },
   "outputs": [
    {
     "data": {
      "text/plain": [
       "0.17572051559395388"
      ]
     },
     "execution_count": 52,
     "metadata": {},
     "output_type": "execute_result"
    }
   ],
   "source": [
    "(S_GBM.iloc[782].mean()-4.73)/4.73/3"
   ]
  }
 ],
 "metadata": {
  "kernelspec": {
   "display_name": "Python 3",
   "language": "python",
   "name": "python3"
  },
  "language_info": {
   "codemirror_mode": {
    "name": "ipython",
    "version": 3
   },
   "file_extension": ".py",
   "mimetype": "text/x-python",
   "name": "python",
   "nbconvert_exporter": "python",
   "pygments_lexer": "ipython3",
   "version": "3.7.4"
  }
 },
 "nbformat": 4,
 "nbformat_minor": 2
}
