{
 "cells": [
  {
   "cell_type": "code",
   "execution_count": 1,
   "metadata": {
    "ExecuteTime": {
     "end_time": "2020-04-11T09:33:28.637112Z",
     "start_time": "2020-04-11T09:33:28.627112Z"
    }
   },
   "outputs": [],
   "source": [
    "from pyspark.sql.types import * \n",
    "from pyspark.sql import SparkSession\n",
    "from pyspark import SparkConf, SparkContext\n",
    "from graphframes import *"
   ]
  },
  {
   "cell_type": "code",
   "execution_count": 2,
   "metadata": {
    "ExecuteTime": {
     "end_time": "2020-04-11T09:33:33.441387Z",
     "start_time": "2020-04-11T09:33:33.435387Z"
    }
   },
   "outputs": [],
   "source": [
    "# 启动 Spark （如果你已经启动就不需要）\n",
    "spark = SparkSession.builder.master(\"local[*]\") \\\n",
    "   .appName(\"test\") \\\n",
    "   .enableHiveSupport() \\\n",
    "   .getOrCreate()"
   ]
  },
  {
   "cell_type": "code",
   "execution_count": 3,
   "metadata": {
    "ExecuteTime": {
     "end_time": "2020-04-11T09:33:34.629455Z",
     "start_time": "2020-04-11T09:33:34.613454Z"
    }
   },
   "outputs": [],
   "source": [
    "def create_transport_graph(): \n",
    "    node_fields = [\n",
    "        StructField(\"id\", StringType(), True),\n",
    "        StructField(\"latitude\", FloatType(), True),\n",
    "        StructField(\"longitude\", FloatType(), True),\n",
    "        StructField(\"population\", IntegerType(), True)\n",
    "    ]\n",
    "    nodes = spark.read.csv(\"transport-nodes.csv\", header=True,\n",
    "                           schema=StructType(node_fields))\n",
    "    rels = spark.read.csv(\"transport-relationships.csv\", header=True)\n",
    "    reversed_rels = (rels.withColumn(\"newSrc\", rels.dst)\n",
    "                     .withColumn(\"newDst\", rels.src)\n",
    "                     .drop(\"dst\", \"src\")\n",
    "                     .withColumnRenamed(\"newSrc\", \"src\")\n",
    "                     .withColumnRenamed(\"newDst\", \"dst\")\n",
    "                     .select(\"src\", \"dst\", \"relationship\", \"cost\"))\n",
    "    relationships = rels.union(reversed_rels) \n",
    "    return GraphFrame(nodes, relationships)"
   ]
  },
  {
   "cell_type": "code",
   "execution_count": 4,
   "metadata": {
    "ExecuteTime": {
     "end_time": "2020-04-11T09:33:39.938759Z",
     "start_time": "2020-04-11T09:33:36.445559Z"
    }
   },
   "outputs": [],
   "source": [
    "# 生成图\n",
    "g = create_transport_graph()"
   ]
  },
  {
   "cell_type": "code",
   "execution_count": 15,
   "metadata": {
    "ExecuteTime": {
     "end_time": "2020-04-11T09:40:26.097990Z",
     "start_time": "2020-04-11T09:40:25.982983Z"
    }
   },
   "outputs": [
    {
     "name": "stdout",
     "output_type": "stream",
     "text": [
      "+----------------+---------+---------+----------+\n",
      "|              id| latitude|longitude|population|\n",
      "+----------------+---------+---------+----------+\n",
      "|       Amsterdam| 52.37919| 4.899431|    821752|\n",
      "|         Utrecht|52.092876|  5.10448|    334176|\n",
      "|        Den Haag|52.078663| 4.288788|    514861|\n",
      "|       Immingham| 53.61239| -0.22219|      9642|\n",
      "|       Doncaster| 53.52285| -1.13116|    302400|\n",
      "|Hoek van Holland|  51.9775|  4.13333|      9382|\n",
      "|      Felixstowe| 51.96375|   1.3511|     23689|\n",
      "|         Ipswich| 52.05917|  1.15545|    133384|\n",
      "|      Colchester| 51.88921|  0.90421|    104390|\n",
      "|          London|51.509865|-0.118092|   8787892|\n",
      "|       Rotterdam|  51.9225|  4.47917|    623652|\n",
      "|           Gouda| 52.01667|  4.70833|     70939|\n",
      "+----------------+---------+---------+----------+\n",
      "\n"
     ]
    }
   ],
   "source": [
    "g.vertices.show()"
   ]
  },
  {
   "cell_type": "code",
   "execution_count": 12,
   "metadata": {
    "ExecuteTime": {
     "end_time": "2020-04-11T09:39:48.579844Z",
     "start_time": "2020-04-11T09:39:47.859803Z"
    }
   },
   "outputs": [
    {
     "name": "stdout",
     "output_type": "stream",
     "text": [
      "+----------------+----------------+------------+----+\n",
      "|             src|             dst|relationship|cost|\n",
      "+----------------+----------------+------------+----+\n",
      "|       Amsterdam|         Utrecht|       EROAD|  46|\n",
      "|       Amsterdam|        Den Haag|       EROAD|  59|\n",
      "|        Den Haag|       Rotterdam|       EROAD|  26|\n",
      "|       Amsterdam|       Immingham|       EROAD| 369|\n",
      "|       Immingham|       Doncaster|       EROAD|  74|\n",
      "|       Doncaster|          London|       EROAD| 277|\n",
      "|Hoek van Holland|        Den Haag|       EROAD|  27|\n",
      "|      Felixstowe|Hoek van Holland|       EROAD| 207|\n",
      "|         Ipswich|      Felixstowe|       EROAD|  22|\n",
      "|      Colchester|         Ipswich|       EROAD|  32|\n",
      "|          London|      Colchester|       EROAD| 106|\n",
      "|           Gouda|       Rotterdam|       EROAD|  25|\n",
      "|           Gouda|         Utrecht|       EROAD|  35|\n",
      "|        Den Haag|           Gouda|       EROAD|  32|\n",
      "|Hoek van Holland|       Rotterdam|       EROAD|  33|\n",
      "|         Utrecht|       Amsterdam|       EROAD|  46|\n",
      "|        Den Haag|       Amsterdam|       EROAD|  59|\n",
      "|       Rotterdam|        Den Haag|       EROAD|  26|\n",
      "|       Immingham|       Amsterdam|       EROAD| 369|\n",
      "|       Doncaster|       Immingham|       EROAD|  74|\n",
      "+----------------+----------------+------------+----+\n",
      "only showing top 20 rows\n",
      "\n"
     ]
    }
   ],
   "source": [
    "g.edges.show()"
   ]
  },
  {
   "cell_type": "code",
   "execution_count": 5,
   "metadata": {
    "ExecuteTime": {
     "end_time": "2020-04-11T09:33:45.315066Z",
     "start_time": "2020-04-11T09:33:44.131999Z"
    },
    "scrolled": true
   },
   "outputs": [
    {
     "name": "stdout",
     "output_type": "stream",
     "text": [
      "+----------+--------+---------+----------+\n",
      "|        id|latitude|longitude|population|\n",
      "+----------+--------+---------+----------+\n",
      "|Colchester|51.88921|  0.90421|    104390|\n",
      "|   Ipswich|52.05917|  1.15545|    133384|\n",
      "+----------+--------+---------+----------+\n",
      "\n"
     ]
    }
   ],
   "source": [
    "# 顶点筛选\n",
    "g.vertices.filter(\"population > 100000 and population < 300000\").sort(\"population\").show()"
   ]
  },
  {
   "cell_type": "code",
   "execution_count": 20,
   "metadata": {
    "ExecuteTime": {
     "end_time": "2020-04-11T09:46:17.417084Z",
     "start_time": "2020-04-11T09:46:13.549863Z"
    }
   },
   "outputs": [
    {
     "data": {
      "text/plain": [
       "[Row(from=Row(id='Den Haag', latitude=52.07866287231445, longitude=4.288787841796875, population=514861), v1=Row(id='Hoek van Holland', latitude=51.977500915527344, longitude=4.13332986831665, population=9382), v2=Row(id='Felixstowe', latitude=51.963748931884766, longitude=1.351099967956543, population=23689), to=Row(id='Ipswich', latitude=52.05916976928711, longitude=1.1554499864578247, population=133384))]"
      ]
     },
     "execution_count": 20,
     "metadata": {},
     "output_type": "execute_result"
    }
   ],
   "source": [
    "from_expr = \"id='Den Haag'\"\n",
    "to_expr = \"population > 100000 and population < 300000 and id <> 'Den Haag'\"\n",
    "result = g.bfs(from_expr, to_expr)\n",
    " \n",
    "columns = [column for column in result.columns if not column.startswith(\"e\")]\n",
    "result.select(columns).take(1)"
   ]
  },
  {
   "cell_type": "code",
   "execution_count": 22,
   "metadata": {
    "ExecuteTime": {
     "end_time": "2020-04-11T09:48:19.105044Z",
     "start_time": "2020-04-11T09:48:17.508953Z"
    }
   },
   "outputs": [
    {
     "data": {
      "text/plain": [
       "[Row(from=Row(id='Den Haag', latitude=52.07866287231445, longitude=4.288787841796875, population=514861), e0=Row(src='Den Haag', dst='Hoek van Holland', relationship='EROAD', cost='27'), v1=Row(id='Hoek van Holland', latitude=51.977500915527344, longitude=4.13332986831665, population=9382), e1=Row(src='Hoek van Holland', dst='Felixstowe', relationship='EROAD', cost='207'), v2=Row(id='Felixstowe', latitude=51.963748931884766, longitude=1.351099967956543, population=23689), e2=Row(src='Felixstowe', dst='Ipswich', relationship='EROAD', cost='22'), to=Row(id='Ipswich', latitude=52.05916976928711, longitude=1.1554499864578247, population=133384))]"
      ]
     },
     "execution_count": 22,
     "metadata": {},
     "output_type": "execute_result"
    }
   ],
   "source": [
    "result.collect()"
   ]
  },
  {
   "cell_type": "code",
   "execution_count": null,
   "metadata": {},
   "outputs": [],
   "source": []
  },
  {
   "cell_type": "code",
   "execution_count": null,
   "metadata": {},
   "outputs": [],
   "source": []
  }
 ],
 "metadata": {
  "kernelspec": {
   "display_name": "Python 3",
   "language": "python",
   "name": "python3"
  },
  "language_info": {
   "codemirror_mode": {
    "name": "ipython",
    "version": 3
   },
   "file_extension": ".py",
   "mimetype": "text/x-python",
   "name": "python",
   "nbconvert_exporter": "python",
   "pygments_lexer": "ipython3",
   "version": "3.7.4"
  }
 },
 "nbformat": 4,
 "nbformat_minor": 2
}
