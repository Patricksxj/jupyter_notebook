{
 "cells": [
  {
   "cell_type": "code",
   "execution_count": null,
   "metadata": {
    "_uuid": "f9f350361fc9bdd1b804e63e90b2081eac869093"
   },
   "outputs": [],
   "source": [
    "import networkx as nx\n",
    "from networkx.algorithms.community.centrality import girvan_newman\n",
    "from networkx.algorithms.community.kclique import k_clique_communities\n",
    "import matplotlib.pyplot as plt"
   ]
  },
  {
   "cell_type": "code",
   "execution_count": null,
   "metadata": {
    "_uuid": "872432bf4e8b36c5608607b72278c6dac65f9926",
    "collapsed": true
   },
   "outputs": [],
   "source": [
    "tG = nx.read_edgelist('./edges.txt')"
   ]
  },
  {
   "cell_type": "code",
   "execution_count": null,
   "metadata": {
    "_uuid": "628a2d4bd5c635c1cb9cb66bc6662a983da776ec",
    "collapsed": true
   },
   "outputs": [],
   "source": [
    "communities = list(k_clique_communities(tG, 3))"
   ]
  },
  {
   "cell_type": "code",
   "execution_count": null,
   "metadata": {
    "_uuid": "6191be63f6aabaa181971b96c1846e715f20b1cb",
    "collapsed": true
   },
   "outputs": [],
   "source": [
    "%matplotlib inline"
   ]
  },
  {
   "cell_type": "code",
   "execution_count": null,
   "metadata": {
    "_uuid": "6d1b4366920ceee3f2c59c0117af202d8c15329e"
   },
   "outputs": [],
   "source": [
    "pos = nx.spring_layout(tG)\n",
    "colors = [\"violet\", \"black\", \"orange\", \"cyan\", \"blue\", \"green\", \"yellow\", \"indigo\", \"pink\", \"red\"]\n",
    "for i in range(len(communities)):\n",
    "    graph = communities[i]\n",
    "    node_list = [node for node in graph]\n",
    "    nx.draw(tG, pos, nodelist=node_list, node_color=colors[i%10], node_size=50, alpha=0.8)"
   ]
  },
  {
   "cell_type": "code",
   "execution_count": null,
   "metadata": {
    "_uuid": "e10fde9f29918835d059fa99726f2ff64e80a4c5",
    "collapsed": true
   },
   "outputs": [],
   "source": [
    "# From SO: https://stackoverflow.com/questions/40941264/how-to-draw-a-small-graph-with-community-structure-in-networkx\n",
    "def community_layout(g, partition):\n",
    "    \"\"\"\n",
    "    Compute the layout for a modular graph.\n",
    "\n",
    "\n",
    "    Arguments:\n",
    "    ----------\n",
    "    g -- networkx.Graph or networkx.DiGraph instance\n",
    "        graph to plot\n",
    "\n",
    "    partition -- dict mapping int node -> int community\n",
    "        graph partitions\n",
    "\n",
    "\n",
    "    Returns:\n",
    "    --------\n",
    "    pos -- dict mapping int node -> (float x, float y)\n",
    "        node positions\n",
    "\n",
    "    \"\"\"\n",
    "\n",
    "    pos_communities = _position_communities(g, partition, scale=3.)\n",
    "\n",
    "    pos_nodes = _position_nodes(g, partition, scale=1.)\n",
    "\n",
    "    # combine positions\n",
    "    pos = dict()\n",
    "    for node in g.nodes():\n",
    "        pos[node] = pos_communities[node] + pos_nodes[node]\n",
    "\n",
    "    return pos\n",
    "\n",
    "def _position_communities(g, partition, **kwargs):\n",
    "\n",
    "    # create a weighted graph, in which each node corresponds to a community,\n",
    "    # and each edge weight to the number of edges between communities\n",
    "    between_community_edges = _find_between_community_edges(g, partition)\n",
    "\n",
    "    communities = set(partition.values())\n",
    "    hypergraph = nx.DiGraph()\n",
    "    hypergraph.add_nodes_from(communities)\n",
    "    for (ci, cj), edges in between_community_edges.items():\n",
    "        hypergraph.add_edge(ci, cj, weight=len(edges))\n",
    "\n",
    "    # find layout for communities\n",
    "    pos_communities = nx.spring_layout(hypergraph, **kwargs)\n",
    "\n",
    "    # set node positions to position of community\n",
    "    pos = dict()\n",
    "    for node, community in partition.items():\n",
    "        pos[node] = pos_communities[community]\n",
    "\n",
    "    return pos\n",
    "\n",
    "def _find_between_community_edges(g, partition):\n",
    "\n",
    "    edges = dict()\n",
    "\n",
    "    for (ni, nj) in g.edges():\n",
    "        ci = partition[ni]\n",
    "        cj = partition[nj]\n",
    "\n",
    "        if ci != cj:\n",
    "            try:\n",
    "                edges[(ci, cj)] += [(ni, nj)]\n",
    "            except KeyError:\n",
    "                edges[(ci, cj)] = [(ni, nj)]\n",
    "\n",
    "    return edges\n",
    "\n",
    "def _position_nodes(g, partition, **kwargs):\n",
    "    \"\"\"\n",
    "    Positions nodes within communities.\n",
    "    \"\"\"\n",
    "\n",
    "    communities = dict()\n",
    "    for node, community in partition.items():\n",
    "        try:\n",
    "            communities[community] += [node]\n",
    "        except KeyError:\n",
    "            communities[community] = [node]\n",
    "\n",
    "    pos = dict()\n",
    "    for ci, nodes in communities.items():\n",
    "        subgraph = g.subgraph(nodes)\n",
    "        pos_subgraph = nx.spring_layout(subgraph, **kwargs)\n",
    "        pos.update(pos_subgraph)\n",
    "\n",
    "    return pos"
   ]
  },
  {
   "cell_type": "code",
   "execution_count": null,
   "metadata": {
    "_uuid": "a38e028402d5ec82342d4409aaad277f2ff4dc27",
    "collapsed": true
   },
   "outputs": [],
   "source": [
    "dict_communities = {}\n",
    "\n",
    "for i, c in enumerate(communities):\n",
    "    for node in c:\n",
    "        dict_communities[node] = i + 1\n",
    "        \n",
    "for node in tG:\n",
    "    if node not in dict_communities.keys():\n",
    "        dict_communities[node] = -1"
   ]
  },
  {
   "cell_type": "code",
   "execution_count": null,
   "metadata": {
    "_uuid": "9fa28f8072adc38772aafa9105d8b938e3465414",
    "collapsed": true
   },
   "outputs": [],
   "source": [
    "pos = community_layout(tG, dict_communities)"
   ]
  },
  {
   "cell_type": "code",
   "execution_count": null,
   "metadata": {
    "_uuid": "15eb231690edc6a8e8538a26ac15b01d652c5fa4",
    "collapsed": true
   },
   "outputs": [],
   "source": [
    "from matplotlib import cm\n",
    "colors = []\n",
    "for node in tG.nodes:\n",
    "    colors.append(cm.Set1(dict_communities[node]))"
   ]
  },
  {
   "cell_type": "code",
   "execution_count": null,
   "metadata": {
    "_uuid": "0eb82370ebdb8bf80513abe20fb34ad0e817ff5f"
   },
   "outputs": [],
   "source": [
    "plt.figure(figsize=(20,20))\n",
    "nx.draw_networkx_nodes(tG, pos, node_color=colors, node_size=20)\n",
    "nx.draw_networkx_edges(tG, pos, alpha=0.05)\n",
    "plt.axis('off')\n",
    "plt.show()"
   ]
  },
  {
   "cell_type": "markdown",
   "metadata": {
    "_uuid": "e38c0a041c46b8cafb934e002138d9f64a04312a"
   },
   "source": [
    "# Girvan-Newman"
   ]
  },
  {
   "cell_type": "code",
   "execution_count": null,
   "metadata": {
    "_uuid": "ad67c0407372658ac3d2f8b28c5580d0d27f9f65",
    "collapsed": true
   },
   "outputs": [],
   "source": [
    "from networkx import edge_betweenness_centrality\n",
    "from random import random\n",
    "\n",
    "def most_valuable_edge(G):\n",
    "    centrality = edge_betweenness_centrality(G)\n",
    "    max_cent = max(centrality.values())\n",
    "    # Scale the centrality values so they are between 0 and 1,\n",
    "    # and add some random noise.\n",
    "    centrality = {e: c / max_cent for e, c in centrality.items()}\n",
    "    # Add some random noise.\n",
    "    centrality = {e: c + random() for e, c in centrality.items()}\n",
    "    return max(centrality, key=centrality.get)"
   ]
  },
  {
   "cell_type": "code",
   "execution_count": null,
   "metadata": {
    "_uuid": "8d8e8a3d4eb52e74c839266d6224804b90f75e55",
    "collapsed": true
   },
   "outputs": [],
   "source": [
    "gn_generator = girvan_newman(tG, most_valuable_edge)"
   ]
  },
  {
   "cell_type": "code",
   "execution_count": null,
   "metadata": {
    "_uuid": "856494745ba2571c99c288d7863de54b84a00f70",
    "collapsed": true
   },
   "outputs": [],
   "source": [
    "from itertools import islice\n",
    "gn_communities = next(islice(gn_generator, 3, None)) # Do 3 iterations only"
   ]
  },
  {
   "cell_type": "code",
   "execution_count": null,
   "metadata": {
    "_uuid": "35e054f5bb3e75b9e8f24dc49c5d8cbc2786a084",
    "collapsed": true
   },
   "outputs": [],
   "source": [
    "type(gn_communities)"
   ]
  },
  {
   "cell_type": "code",
   "execution_count": null,
   "metadata": {
    "_uuid": "4c5d73b7d0ae4ea8d97bf46866d197174913f6d8",
    "collapsed": true
   },
   "outputs": [],
   "source": [
    "gn_dict_communities = {}\n",
    "\n",
    "for i, c in enumerate(gn_communities):\n",
    "    print (\"Community {}\".format(i))\n",
    "    for node in c:\n",
    "        gn_dict_communities[node] = i + 1\n",
    "        \n",
    "for node in tG:\n",
    "    if node not in gn_dict_communities.keys():\n",
    "        gn_dict_communities[node] = -1"
   ]
  },
  {
   "cell_type": "code",
   "execution_count": null,
   "metadata": {
    "_uuid": "73dce5daa510aade072660d56cb871d028291e52",
    "collapsed": true
   },
   "outputs": [],
   "source": [
    "gn_pos = community_layout(tG, gn_dict_communities)"
   ]
  },
  {
   "cell_type": "code",
   "execution_count": null,
   "metadata": {
    "_uuid": "efb742642ab0b2084a255b7e8784f506d5555681",
    "collapsed": true
   },
   "outputs": [],
   "source": [
    "from matplotlib import cm\n",
    "gn_colors = []\n",
    "for node in tG.nodes:\n",
    "    gn_colors.append(cm.Set1(gn_dict_communities[node]))"
   ]
  },
  {
   "cell_type": "code",
   "execution_count": null,
   "metadata": {
    "_uuid": "1f935eae0965f689151a390bd5ea7f9db838bc5a",
    "collapsed": true
   },
   "outputs": [],
   "source": [
    "plt.figure(figsize=(20,20))\n",
    "nx.draw_networkx_nodes(tG, gn_pos, node_color=gn_colors, node_size=20)\n",
    "nx.draw_networkx_edges(tG, gn_pos, alpha=0.05)\n",
    "plt.axis('off')\n",
    "plt.show()"
   ]
  },
  {
   "cell_type": "markdown",
   "metadata": {
    "_uuid": "3c23f89c297b0b3dade30a1ed713d9cd12d89753"
   },
   "source": [
    "# Foursquare"
   ]
  },
  {
   "cell_type": "code",
   "execution_count": null,
   "metadata": {
    "_uuid": "d30265256e7c12edba546b0fa840af110ad7edeb",
    "collapsed": true
   },
   "outputs": [],
   "source": [
    "import pandas as pd\n",
    "fsq = pd.read_csv('../input/fedges.txt', delim_whitespace=True)\n",
    "fsq.columns = ['source', 'dest']\n",
    "\n",
    "mapper = pd.read_csv('../input/twitter_foursquare_mapper.dat.txt')\n",
    "\n",
    "fsq_set = set(mapper['foursquare'])\n",
    "clean = fsq[(fsq['source'].isin(fsq_set)) & (fsq['dest'].isin(fsq_set))]\n",
    "\n",
    "fG = nx.from_pandas_edgelist(df=clean, source='source', target='dest')\n",
    "len(fG.edges)"
   ]
  },
  {
   "cell_type": "code",
   "execution_count": null,
   "metadata": {
    "_uuid": "3d4ff3c49de39a8cacc2d8745dd1a6cb68ef5ad3",
    "collapsed": true
   },
   "outputs": [],
   "source": [
    "len(fG.nodes)"
   ]
  },
  {
   "cell_type": "code",
   "execution_count": null,
   "metadata": {
    "_uuid": "674db94c5178267492f0bdf9f1fd045d7e976605",
    "collapsed": true
   },
   "outputs": [],
   "source": [
    "# Mapping twitter names to foursqare IDs\n",
    "fG = nx.relabel_nodes(fG, pd.Series(mapper.twitter_username.values, index=mapper.foursquare).to_dict())"
   ]
  },
  {
   "cell_type": "code",
   "execution_count": null,
   "metadata": {
    "_uuid": "c6469862372c9509eef79d8283d37f65ed89704a",
    "collapsed": true
   },
   "outputs": [],
   "source": [
    "components = list(nx.connected_component_subgraphs(fG))\n",
    "len(components)"
   ]
  },
  {
   "cell_type": "code",
   "execution_count": null,
   "metadata": {
    "_uuid": "c606514b042b9b9bbd295adee7180f4124215581",
    "collapsed": true
   },
   "outputs": [],
   "source": [
    "# fsq_communities = list(k_clique_communities(components[0], 3))\n",
    "# not enough memory"
   ]
  },
  {
   "cell_type": "code",
   "execution_count": null,
   "metadata": {
    "_uuid": "b1ff3217ccde5b08991e7b179b806b564b39b6e2",
    "collapsed": true
   },
   "outputs": [],
   "source": [
    "fsq_gn_generator = girvan_newman(components[0])\n",
    "from itertools import islice\n",
    "fsq_gn_communities = next(islice(fsq_gn_generator, 3, None)) # Do 3 iterations only\n",
    "# fsq_gn_communities = (next(gn_generator))"
   ]
  },
  {
   "cell_type": "code",
   "execution_count": null,
   "metadata": {
    "_uuid": "ee486b0572e97ece1b2c61710efb4e878d8a1839",
    "collapsed": true
   },
   "outputs": [],
   "source": [
    "type(fsq_gn_communities)"
   ]
  },
  {
   "cell_type": "code",
   "execution_count": null,
   "metadata": {
    "_uuid": "4acd6e1acb69c9b87fc8e31c23165f78c62fa7d5",
    "collapsed": true
   },
   "outputs": [],
   "source": [
    "fsq_gn_dict_communities = {}\n",
    "\n",
    "for i, c in enumerate(fsq_gn_communities):\n",
    "#     print (\"Community {}\".format(i + 1))\n",
    "    for node in c:\n",
    "        fsq_gn_dict_communities[node] = (i + 1)\n",
    "\n",
    "for component in components:\n",
    "    if component == components[0]:\n",
    "        for node in component:\n",
    "            if node not in fsq_gn_dict_communities.keys():\n",
    "                fsq_gn_dict_communities[node] = -1\n",
    "    else:\n",
    "        val = int((max(fsq_gn_dict_communities.values()) + random() * 10)) % 8\n",
    "#         print (\"Component color = {}\\t {}\".format(val, cm.Set1(val)))\n",
    "        for node in component:\n",
    "            fsq_gn_dict_communities[node] = val"
   ]
  },
  {
   "cell_type": "code",
   "execution_count": null,
   "metadata": {
    "_uuid": "b894e9f0dbc3647e6855f2e2172afa68946f5b6d",
    "collapsed": true
   },
   "outputs": [],
   "source": [
    "fsq_gn_pos_list = list()\n",
    "for component in components:\n",
    "    fsq_gn_pos_list.append(community_layout(component, fsq_gn_dict_communities))"
   ]
  },
  {
   "cell_type": "code",
   "execution_count": null,
   "metadata": {
    "_uuid": "001d1068aad41083ffdce3d03336bc3353ecfedb",
    "collapsed": true
   },
   "outputs": [],
   "source": [
    "from matplotlib import cm\n",
    "\n",
    "fsq_gn_colors = []\n",
    "for node in fG.nodes:\n",
    "    val = fsq_gn_dict_communities[node]%8\n",
    "    color = cm.Set1(fsq_gn_dict_communities[node]%8)\n",
    "    fsq_gn_colors.append(color)\n",
    "#     print(\"Color = {}\\t{}\".format(val, color))"
   ]
  },
  {
   "cell_type": "code",
   "execution_count": null,
   "metadata": {
    "_uuid": "06926be6191d0dd7242ec7c715ee2adc17e4ea80",
    "collapsed": true
   },
   "outputs": [],
   "source": [
    "plt.figure(figsize=(20,20))\n",
    "for item, component in zip(fsq_gn_pos_list, components):\n",
    "    nx.draw_networkx_nodes(component, item, node_color=fsq_gn_colors, node_size=20)\n",
    "    nx.draw_networkx_edges(component, item, alpha=0.05)\n",
    "plt.axis('off')\n",
    "plt.show()"
   ]
  },
  {
   "cell_type": "code",
   "execution_count": null,
   "metadata": {
    "_uuid": "930a9fdb4b898c43aeaa4aba9107915d0f7762f7",
    "collapsed": true
   },
   "outputs": [],
   "source": [
    "print(\"Number of communities detected after 3 iterations of Girvan–Newman:\",\n",
    "     \"\\nTwitter: {}\\nFoursqare: {}\\n\".format(len(gn_communities), \n",
    "                                             len(fsq_gn_communities)))\n",
    "print (\"With sizes\\nTwitter\\tFoursqare\")\n",
    "for t, f in zip(gn_communities, fsq_gn_communities):\n",
    "    print(\"{}\\t{}\".format(len(t), len(f)))"
   ]
  },
  {
   "cell_type": "code",
   "execution_count": null,
   "metadata": {
    "_uuid": "bc56a43c7c8f368ed7f1b52f01ccd410cad932b4",
    "collapsed": true
   },
   "outputs": [],
   "source": [
    "from sklearn.metrics import jaccard_similarity_score"
   ]
  },
  {
   "cell_type": "code",
   "execution_count": null,
   "metadata": {
    "_uuid": "e7d16fe2b61acc69764e06e40c37f410c60e1fab",
    "collapsed": true
   },
   "outputs": [],
   "source": [
    "def jaccard_distance(set1, set2):\n",
    "    intersection = len(set1.intersection(set2))\n",
    "    union = (len(set1) + len(set2)) - intersection\n",
    "    return float(intersection / union)"
   ]
  },
  {
   "cell_type": "code",
   "execution_count": null,
   "metadata": {
    "_uuid": "cd951583a066eb812b1aeaf50db49366408b15fb",
    "collapsed": true
   },
   "outputs": [],
   "source": [
    "import itertools\n",
    "jaccard = []\n",
    "c = list(itertools.product(list(gn_communities), list(fsq_gn_communities)))\n",
    "\n",
    "# print(jaccard_similarity_score(list(gn_communities), list(fsq_gn_communities)))\n",
    "\n",
    "for comb in c:\n",
    "#     print(type(comb[0]))\n",
    "    jaccard.append(jaccard_distance(comb[0], comb[1]))"
   ]
  },
  {
   "cell_type": "code",
   "execution_count": null,
   "metadata": {
    "_uuid": "10c4590dbe2fa0e5df21687e09dfe1ddffca6e69",
    "collapsed": true
   },
   "outputs": [],
   "source": [
    "import seaborn as sns\n",
    "sns.set()\n",
    "sns.distplot(jaccard)"
   ]
  },
  {
   "cell_type": "code",
   "execution_count": null,
   "metadata": {
    "_uuid": "658736299c500cb56937c5d1251daa54ff77fb22",
    "collapsed": true
   },
   "outputs": [],
   "source": [
    "fsq_gn_communities"
   ]
  },
  {
   "cell_type": "code",
   "execution_count": null,
   "metadata": {
    "_uuid": "2ba30c315ebc5038a8a1e3b855d7d92d0ecf287c",
    "collapsed": true
   },
   "outputs": [],
   "source": []
  }
 ],
 "metadata": {
  "kernelspec": {
   "display_name": "Python 3",
   "language": "python",
   "name": "python3"
  },
  "language_info": {
   "codemirror_mode": {
    "name": "ipython",
    "version": 3
   },
   "file_extension": ".py",
   "mimetype": "text/x-python",
   "name": "python",
   "nbconvert_exporter": "python",
   "pygments_lexer": "ipython3",
   "version": "3.6.4"
  }
 },
 "nbformat": 4,
 "nbformat_minor": 1
}
